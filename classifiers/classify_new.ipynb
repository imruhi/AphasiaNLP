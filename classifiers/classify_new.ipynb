{
 "cells": [
  {
   "cell_type": "code",
   "execution_count": 110,
   "outputs": [],
   "source": [
    "import pandas as pd\n",
    "import re\n",
    "# all sentences\n",
    "# df = pd.read_csv(\"all_sents_aug.csv\").dropna().reset_index()\n",
    "\n",
    "# only canonical sentences in eng\n",
    "df = pd.read_csv(\"canonical_sents_aug.csv\").dropna().reset_index()"
   ],
   "metadata": {
    "collapsed": false,
    "ExecuteTime": {
     "end_time": "2024-02-18T21:31:39.148308800Z",
     "start_time": "2024-02-18T21:31:39.060771300Z"
    }
   },
   "id": "e4cff6f8326cbf7c"
  },
  {
   "cell_type": "code",
   "execution_count": 111,
   "outputs": [],
   "source": [
    "sentences = df[\"preprocessed_text\"]\n",
    "sentences = [re.sub(r'\\s([?.!\"](?:\\s|$))', r'\\1', x).strip() for x in sentences]\n",
    "labels = [1] * len(sentences) # synthetic broca data"
   ],
   "metadata": {
    "collapsed": false,
    "ExecuteTime": {
     "end_time": "2024-02-18T21:31:39.166306900Z",
     "start_time": "2024-02-18T21:31:39.088285400Z"
    }
   },
   "id": "7fbb3a52509abacc"
  },
  {
   "cell_type": "code",
   "execution_count": 112,
   "outputs": [
    {
     "data": {
      "text/plain": "22193"
     },
     "execution_count": 112,
     "metadata": {},
     "output_type": "execute_result"
    }
   ],
   "source": [
    "len(sentences)"
   ],
   "metadata": {
    "collapsed": false,
    "ExecuteTime": {
     "end_time": "2024-02-18T21:31:39.208262Z",
     "start_time": "2024-02-18T21:31:39.166306900Z"
    }
   },
   "id": "74607b4b6721e72"
  },
  {
   "cell_type": "code",
   "execution_count": 113,
   "outputs": [
    {
     "data": {
      "text/plain": "['So i have two children.',\n 'One of my children is adopt.',\n 'So i tell story my son being bear.',\n 'So i guess we talk my daughter and adoption.',\n 'We try have children many years and not get.',\n 'But i was bind and determine be mom.',\n 'Then we start pursue adoption route.',\n 'So you know we say we just wait her.',\n 'Also i adopt child.',\n 'But you know lot people say.',\n 'It not feel my child.',\n 'That she like adopt child foster system.',\n 'Boy play soccer his yard.',\n 'One time he kick it bit too.',\n 'He kick it his front window.',\n 'His dad sit living room.',\n 'Ball come window and knock lamp.',\n 'So boy get go school.',\n 'His mother say.',\n 'Johnny you need take umbrella.',\n 'It go rain today.',\n 'He say.',\n 'I not need umbrella.',\n 'He leave.',\n 'As he get school it start rain.',\n 'Then it start rain.',\n 'He turn around.',\n 'He go back home and tell his mom.',\n 'It start rain.',\n 'He end up take umbrella and walk back to school.',\n 'Girl ride along her tricycle her yard.',\n 'She play her cat and her dog.',\n 'She call her dad.',\n 'She say.',\n 'Dad sparky chase peanut the tree.',\n 'So the dad say.',\n 'Well let me see if i go get the cat.',\n 'Dad climb tree.',\n 'But he not reach cat.',\n 'Fire fighters come their ladder.',\n 'Her father remarry woman who have two daughters.',\n 'She not get participate same things that her stepsisters do.',\n 'Oh well you not go the ball because you have nothing to wear.',\n 'Stepsisters go off ball.',\n 'She say.',\n 'Oh well you go the ball.',\n 'Cinderella go into carriage and go on ball.',\n 'She dance prince and have time.',\n 'She notice that it was strike midnight.',\n 'But she realize that she drop her slipper stairs.',\n 'And but slipper stay.',\n 'So she keep it because she have memories ball.',\n 'Prince come their house and try slipper stepsisters.',\n 'But it not fit them.',\n 'It fit.',\n 'He realize that she was woman that he dance.',\n 'They got marry and live happily.',\n 'We use one too.',\n 'You put two pieces together.',\n 'Then you eat it.',\n 'I tell different story.',\n 'When i graduate from school i go to bowl state university ohio.',\n 'But anyway i have opportunity.',\n 'We have people stay with us when i grow up.',\n 'So i always know that i want do that.',\n 'Since i take french all through school i think.',\n 'Ah well i go a french speak country.',\n 'So i choose belgium.',\n 'Luckily i get go there.',\n 'It take lot longer be able communicate.',\n 'Of them not speak english.',\n 'So i have learn french.',\n 'They say.',\n \"Well you got get your master 's degree.\",\n 'I do telepractice before it was.',\n 'I get work people around country.',\n 'I still love travel.',\n 'We host kids from countries programs well.',\n 'Little boy play soccer his yard.',\n 'The boy get ready go school when his mother say.',\n 'Oh you definitely need take your umbrella today.',\n 'They call rain.',\n 'Boy say.',\n 'I not need my umbrella today.',\n 'It not rain me.',\n 'He walk school.',\n 'Course it start sprinkle.',\n 'It start rain.',\n 'Boy getting soak.',\n 'Boy turn around and go back home and tell his mother.',\n 'I need my umbrella.',\n 'She give him his umbrella.',\n 'He turn and go back school.',\n 'So he try cut climb up tree and get cat.',\n 'Dog continue bark base tree.',\n 'Firefighters come their ladder.',\n 'They head tree well.',\n 'Her father become widow widower and go live his wife.',\n 'The father pass away.',\n 'Cinderella was leave live her stepmother and evil stepsisters.',\n 'Whereas stepsisters were very and get do whatever they want.',\n 'He go have ball.',\n 'Cinderella overhear and really want go ball well.',\n 'She not have anything wear ball.',\n 'She put ball gown on.',\n 'They rip ball gown from cinderella and tear it up.',\n 'That was when everything go go way it was.',\n 'So she go ball and meet prince.',\n 'Prince was enchant by her.',\n 'They dance evening.',\n 'When clock strike twelve she remember that she hadta be.',\n 'She make it home.',\n 'She was just happy that she have experience that she have prince.',\n 'She also have one glass slipper.',\n 'Day prince try find woman who he dance with.',\n 'Stepsisters try and try get slipper fit their feet.',\n 'But it not fit.',\n 'But her animal friends help her get attic.',\n 'She come down and turn out that glass slipper fit her.',\n 'I put it and eat it.',\n 'Let us see.',\n 'Let us go something.',\n \"I use run iu 's writing center which work students undergraduates and graduates.\",\n 'They take off wildfire.',\n 'I love job.',\n 'He kick it.',\n 'It go window look living room and hit lamp.',\n 'He say no.',\n 'He say goodbye and heads outside where it start to rain.',\n 'He is dismay.',\n 'So he run.',\n 'He is bebecause he soak.',\n 'His mother look too.',\n 'But he leave different clothes.',\n 'I not tell.',\n 'Look like dad climb tree ladder get cat.',\n 'Ladder fall.',\n 'Dog still bark.',\n 'Firemen now come we hope rescue cat.',\n 'Why there be bird in tree i not know.',\n 'Why there be tricycle i assume it go girl.',\n 'Let us hope it have a happy ending.',\n \"Cinderella 's father remarry woman two daughters.\",\n 'There be announcement from king prince marry.',\n 'Invitation come family.',\n 'Cinderella remain.',\n 'But her fairy godmother come along and help her.',\n 'She is send off ball.',\n 'She go ball.',\n 'She get to dance prince.',\n 'They have time.',\n 'But she realize midnight approach.',\n 'She run.',\n 'She leave slipper.',\n 'It is discover that it fit cinderella though evil stepsisters try it on.',\n 'They cut toes off make shoe.',\n 'Anyway the shoe fit her.',\n 'Cinderella and prince get marry and live happily after supposedly.',\n 'I spread peanut butter one side knife.',\n 'I spoon jelly side spoon.',\n 'I never stick peanut butter knife the jelly.',\n 'I am chair our reunion which has course been postpone.',\n 'Tonight example we are have this cocktail party.',\n 'Anyway so i think lot college.',\n 'There be not much for me do my school.',\n 'You know academics were not stress all.',\n 'I mean ap classes.',\n 'You know we meet our day college.',\n 'I not know.',\n 'It break lamp.',\n \"First frame little boy 's mother offer him umbrella.\",\n 'I assume she know that it rain that day.',\n 'But he shake her off.',\n 'She still hold it look stern.',\n 'When he get lo and behold it rain pretty look.',\n 'He run back home soak wet and disappointed.',\n \"I assume that his mother 's saying.\",\n 'I tell you so.',\n 'He head out i hope dry clothes umbrella time.',\n 'Cat get up tree.',\n 'That start whole mess.',\n 'It look me like dog chase cat tree.',\n 'Ladder fall.',\n 'He not get down tree either.',\n 'Someone call firemen.',\n \"He remarry woman who have two daughters who become cinderella 's stepsisters.\",\n 'She disney version is befriend by little mice.',\n 'So anyway cinderella is a scullery maid family.',\n 'The king kingdom announce that his son marry.',\n \"They announce ball which cinderella 's family are invite.\",\n 'Yes they invite all the eligible women kingdom.',\n 'I forget part i see picture again this time.',\n 'So she is leave ballgown.',\n 'They leave her behind and go off ball her.',\n 'So she go ball.',\n 'They dance.',\n 'The clock start strike twelve.',\n 'Then she run of the ball get her coach and leave.',\n 'She get.',\n 'They go have girl who is kingdom try the shoe on.',\n 'It not fit stepsisters.',\n 'Everyone is shock household when it fit cinderella.',\n 'So she and the prince marry and you know live.',\n 'I just do that yesterday.',\n 'I spread one side.',\n 'I put them and cut them half diagonally.',\n 'My mother want travel day.',\n 'I go buy ticket day.',\n 'There be long line people wait buy tickets day.',\n 'You get forty percent of your money back.',\n 'I find somebody who go to return tickets next day.',\n 'I say.',\n 'Look they go discount sixty percent.',\n 'They say.',\n 'I say.',\n 'Well you check information office.',\n 'Person check and yes.',\n 'I say.',\n 'She say.',\n 'I say.',\n 'I buy ticket.',\n 'There be line people wait buy ticket for tomorrow.',\n 'So i buy another ticket and sell it.',\n 'Yeah i start do that until somebody come and say.',\n 'One person come and say.',\n 'I say.',\n 'I have different categories.',\n 'Do you want first or tourist or first class or whatever?',\n 'He say.',\n 'I say.',\n 'I get tickets any day you want.',\n 'He say.',\n 'Well you are arrest because this is railway police.',\n 'He arrest me.',\n 'He not handcuff me.',\n 'But he say.',\n 'You need to give me your tickets.',\n 'That was my big mistake because i say.',\n 'No you arrest me if you want.',\n 'But i want tickets remain my possession.',\n 'I buy them.',\n 'They not have name.',\n 'So i shake.',\n 'I never been arrest or after incident.',\n 'When he have all tickets he say.',\n 'I will let you know what do.',\n 'I not have my ticket.',\n 'But i not want be arrest.',\n 'I not want to go jail.',\n 'I not know what consequences what i do be.',\n 'So i bolt.',\n 'So yeah i lose my ticket.',\n 'But what i make before i was arrest i buy my first motorcycle.',\n 'They get them discount.',\n 'They just get it other side.',\n 'We live there while.',\n 'What he do?',\n 'Oh he sell ticket.',\n 'He take business.',\n 'What was suppose happen.',\n \"So we go kick ball mortimer 's window.\",\n 'We are go be in trouble.',\n 'He say no.',\n 'We not worry that.',\n 'It go on house.',\n 'But i remember how much he appreciate the lamp.',\n 'I not tell you what consequences were.',\n 'But i remember that we have very time incident.',\n 'I remember my aunt charlotte.',\n 'I not like her at.',\n 'I remember stay her house one day.',\n 'It rain.',\n 'So i say.',\n 'Hey aunt charlotte i please borrow your umbrella.',\n 'She say no.',\n 'But i go get the flu.',\n 'So i say.',\n 'I walk school.',\n 'I go end up being.',\n 'So i decide that this not go to work way it was.',\n 'I start to go home.',\n 'I arrive.',\n 'I say.',\n 'She say.',\n 'No no no no i not want be sue that.',\n \"I walk school aunt charlotte 's umbrella.\",\n 'Daisy play her cat kitty cat.',\n 'Kitty cat decide climb tree.',\n 'Daisy want get cat come.',\n 'But cat not go down.',\n 'So her dad decide rescue cat.',\n 'Cooper start bark dad because cooper want dad to come back.',\n 'Daisy want cat come.',\n 'Cooper want my dad come back tree.',\n 'Noone help us.',\n 'I not go climb your tree.',\n 'So i not go rescue cat.',\n 'I i want cooper feel better.',\n 'I hate birds.',\n 'I hate cats.',\n 'But i i i like my dad.',\n 'I like my sister sorta.',\n 'But even though i hate cats.',\n 'Cooper was settle dog house.',\n 'Or the three sisters not like child.',\n 'And household was invite ball.',\n 'Cinderella think that that include her because household was invite.',\n 'But her sisters tell her different.',\n 'So they leave the ball.',\n 'What you like do my child?',\n 'She say.',\n 'I like go ball.',\n 'But i do not have dress.',\n 'Fairy say.',\n 'We can whip up dress my wand.',\n 'But fairy say.',\n 'You be back midnight or you go turn pumpkin.',\n 'So he start campaign find owner shoe.',\n 'They have find person whom shoe fit perfect.',\n 'They go to sisters.',\n 'Even mother try her luck.',\n 'But shoe not fit.',\n 'When surveyor do that , shoe fit cinderella perfectly.',\n 'So prince find woman he want to marry.',\n 'He live happily.',\n 'So essentially we offer that athletes not have receive visa.',\n 'That plane fly havana indianapolis.',\n 'So those were four conditions that cubans request.',\n 'We say yes to everything.',\n 'So cuba agree participate.',\n 'Cubans participate.',\n 'Panam games go cuba nineteen ninety one.',\n 'But what job you know.',\n 'I wish i find such job.',\n \"It go our neighbor 's window.\",\n 'But i do.',\n 'He say.',\n 'That is how i start write.',\n 'I feel so much love write that since i become writer.',\n 'I not been publish.',\n 'I remember spend night her house of pandemic.',\n 'We were catch by lockdown in her house.',\n 'I not attend school.',\n \"But i go tutor 's house because of course there be schools.\",\n 'But she say.',\n 'No i not go let you use my umbrella.',\n 'One that i get wet which was not.',\n 'I did not like that.',\n 'I go back my aunt charlotte.',\n 'I say.',\n 'Look i get ill.',\n 'Who know?',\n 'I could catch corona virus of get.',\n 'Alright so i remember incident.',\n 'So i put cat top tree.',\n 'She leave her tricycle way you see it.',\n 'He try climb tree get cat the tree.',\n 'Mother say yes.',\n 'They do not let her participate in their daily lives.',\n 'Course two sisters get very very excited.',\n 'She want go.',\n 'But she must leave haste twelve midnight before she turn a pumpkin.',\n 'One her shoes come her foot and is leave.',\n 'So her sisters try shoe.',\n 'But shoe not fit until cinderella try shoe on.',\n 'Eventually they get and live happily after.',\n 'But marmalade do.',\n 'Orange jelly will do.',\n 'We we spend as we can.',\n 'We get keep communicate.',\n 'Twenty fifth february firstnameb start have labor pains.',\n 'So firstname her husband call us and say.',\n 'We go to hospital.',\n 'Well i say.',\n 'Cool we we talk you later or tomorrow.',\n 'I turn my ringer off night.',\n 'I pick it up.',\n 'I say.',\n 'He say.',\n 'I was able message that baby was bear.',\n 'We miss it if i have my ringer off.',\n 'Jimmy play soccer yard and kick ball.',\n 'It come the window and hit lamp which startle mister jones.',\n 'I want you to pay window.',\n 'His mother say.',\n 'You take umbrella because it go rain.',\n 'He say.',\n 'Nah i not need umbrella.',\n 'He walk door.',\n 'His way school it start rain.',\n 'He soak wet.',\n 'He run back , talk his mom.',\n 'His mom say.',\n 'See i tell you you take umbrella.',\n 'Girl want her cat.',\n 'So she ask her daddy get cat of tree.',\n 'They have call fire department rescue him.',\n 'They come.',\n 'They get ladders.',\n 'They get cat down.',\n 'When cinderella was girl her mother pass away.',\n 'They have old cat.',\n 'So cinderella move in.',\n 'As they grow up the stepsisters make cinderella do all chores.',\n 'She have to clean floors have clean chimney everything that.',\n 'But she do her job.',\n \"Well cinderella read letter her stepmother 's shoulder and get excite because she think.\",\n 'Wow i go.',\n 'Cinderella go and start to make dress.',\n 'She want a pretty dress.',\n 'They make her pretty dress.',\n 'Night of ball come.',\n 'Stuffsisters sisters were not happy that cinderella even think go.',\n 'You not go.',\n 'So after that cinderella go out garden.',\n 'She cry because she really want go.',\n 'She feel betray.',\n 'So all of a sudden up pop her fairy godmother.',\n 'Her fairy godmother say.',\n 'Well i solve your problem.',\n 'We make it magic dress.',\n 'She wave wand.',\n 'She have dress.',\n 'So everybody watch her dance him.',\n 'She hadta be home twelfth stroke midnight.',\n 'So she run out as she could.',\n 'Righthand man follow her out and try catch her.',\n 'She drop one her glass slippers that she have.',\n 'He pick it up.',\n 'Well he go back king.',\n 'They prince decide they hadta go find whoever woman was.',\n 'So they go off.',\n 'She could not get out.',\n 'But mice come in and open up her door her.',\n 'He try it two stepsisters and not fit.',\n 'So he say.',\n 'She come out.',\n 'Yes i try it on.',\n 'She try on the glass slipper.',\n 'It fit glove.',\n 'They go off palace.',\n 'She and the prince were marry.',\n 'They live ever after and ride off coach together.',\n 'Oh i not like my peanut butter sandwich.',\n 'Know how make ththem bebecause i make ththem for my wife.',\n 'You get out bread.',\n 'It is always get be bread.',\n 'So you get that out.',\n 'You get out peanut butter.',\n 'Ya take peanut butter.',\n 'You get the jelly out.',\n 'You take knife.',\n 'You spread it piece bread.',\n 'You put ththem together.',\n 'But there be death is what they call it.',\n 'Was basically prison that they take prisoners that.',\n 'You never see prisoners again.',\n 'I remember some stuff.',\n 'He think it talk little church that was in assisi.',\n 'He go church and rebuild it.',\n 'Then god say nah , give him more a clarification and get him go.',\n 'We get see where he was bear.',\n 'We get see his basilica which is huge.',\n 'Interesting thing was they have earthquakes.',\n 'So there be lots.',\n 'Lots wall paintings that have big cracks ththem.',\n 'They start repair work on it.',\n 'They have real neat thing.',\n 'There be one guy ireland that come and talk us.',\n 'He talk us in english.',\n 'Let us see.',\n 'We go florence.',\n 'But late afternoon it start rain.',\n 'It rain and it rain and it rain.',\n 'Dinner was suppose be out the big plaza florence.',\n 'I not want to go dinner there because it rain.',\n 'We get back hotel.',\n 'Change dry clothes bebecause we were soak all way.',\n \"There be a mcdonald 's close.\",\n 'They come back and ask us what we do dinner.',\n 'I say.',\n 'They have them bait.',\n \"They catch on it was ronald mcdonald 's.\",\n 'I get to see the pope.',\n 'He kick ball up air and kick it again.',\n 'Then one time he kick it.',\n 'It knock over lamp and wake his dad up from nap.',\n 'So daddy his dad go , look out window.',\n 'I get your soccer ball.',\n 'Your allowance go fix window.',\n 'His mother say.',\n 'Billy i want you take umbrella because it go rain.',\n 'Billy say.',\n 'No i not want umbrella.',\n 'So she walk him door and say.',\n 'He say.',\n 'Nah i get problem.',\n 'He start walk to school.',\n 'Lo and behold down come rain.',\n 'Boy it come down.',\n 'So he turn around and run.',\n 'By time he get home he soak wet.',\n 'His mother was say.',\n 'I tell you you take umbrella.',\n 'But he take umbrella after he get dry clothes on.',\n 'Little susie have cat.',\n 'Susie ride her tricycle.',\n 'She scare cat.',\n 'Cat run tree.',\n 'Well susie could not get cat jump down.',\n 'She get her daddy and say.',\n 'Daddy please come get cat tree.',\n 'Daddy climb tree and get a branch.',\n 'He not move.',\n 'He shout susie.',\n 'Susie say.',\n 'Oh no what we go do?',\n 'Dog start bark daddy up tree.',\n 'So susie say.',\n 'I go call fire department.',\n 'So she call fire department dial nineoneone.',\n 'Fire department come along.',\n 'They bring ladders.',\n 'They come.',\n 'They get daddy tree.',\n 'Daddy get tree.',\n 'Her stepmother have two girls that were same age cinderella.',\n 'Stepmother have cat.',\n 'Cinderella have dog.',\n 'Cinderella think everything be good.',\n 'Her dad think everything be good.',\n 'Well as they grow up stepsisters were not nice cinderella.',\n 'Their cat not like cinderella.',\n 'That was always not because cinderella have friends that were mice.',\n 'So that was thing do.',\n 'So night she would go her room.',\n 'She look her rindow.',\n 'She see distance.',\n 'She see palace.',\n 'She look palace and say.',\n 'Oh i wish i go there someday see what it is.',\n 'She just would go bed night and dream it.',\n 'He need step down.',\n 'But prince not have wife.',\n 'He want prince have wife before he give him kingdom.',\n 'Stepmother get invitation and read it.',\n 'Cinderella read it her shoulder.',\n 'Cinderella think.',\n 'I get go.',\n 'Her stepmother not say anything.',\n 'You not go.',\n 'So she go her room.',\n 'She think.',\n 'Well i get what i need.',\n 'I go now.',\n 'They not say i not have ballgown.',\n 'She go downstairs where her mother and stepsisters were get leave.',\n 'When they see her dress they were.',\n 'One of stepsisters rip her dress.',\n 'She not know what do.',\n 'She run out garden.',\n 'When she was the garden she cry.',\n 'Her fairy godmother ask her what was wrong.',\n 'She explain.',\n 'Fairy godmother say.',\n 'Well we take care that.',\n 'Fairy godmother wave her magic wand.',\n 'But cinderella not have a dress.',\n 'Fairy godmother wave her wand.',\n 'Cinderella get dress appear her.',\n 'Her hair was all do up.',\n 'Her fairy godmother tell her one thing you need do.',\n 'I look my word.',\n 'Carriage that she go in midnight go.',\n 'Everything change back what it was.',\n 'She go ball.',\n 'Prince see her.',\n 'He was take her.',\n 'He go and ask her dance.',\n 'They dance many dances.',\n 'Her stepsisters and her stepmother not recognize that it was her.',\n 'So she dance and she dance.',\n 'She start hear the stroke midnight.',\n 'Oh no i get get of here.',\n 'So she turn.',\n 'She run.',\n 'She run the stairs.',\n 'One her shoes fall off.',\n 'But righthand man follow her.',\n 'He pick up glass slipper.',\n 'So she get.',\n 'It happen that she was there.',\n 'She was so that she have chance.',\n 'Well she show mice her one glass slipper that she still have.',\n 'Prince go righthand man and king and say.',\n 'I want find girl.',\n 'They try it all women.',\n \"They get to cinderella 's house.\",\n 'Stepsisters try shoe.',\n 'They not get it on.',\n 'She come downstairs.',\n 'Righthand man say.',\n 'Let us try shoe you.',\n 'Well she sit down.',\n 'It fit perfectly.',\n 'It was glove how it go on.',\n 'Cinderella then produce other glass slipper her pocket.',\n 'Oh my gosh what go on here?',\n 'Well that not matter because cinderella was know.',\n 'They take her palace prince.',\n 'Prince and cinderella got marry and live ever.',\n 'Remember last week i not eat a peanut butter and sandwich.',\n 'Thing i do is get plate and knife.',\n 'First thing i do is i take peanut butter.',\n 'Then i get jelly.',\n 'When i have them both complete i put them.',\n 'I think this.',\n 'Okay i go my childhood.',\n 'I grow up ride horses.',\n 'I have have horse.',\n 'I know that i want horse.',\n 'I finally get horse.',\n 'It come.',\n 'I was i think eight years old.',\n 'I come my first horse show.',\n 'In horses when you show you walk , trot and canter.',\n 'When you want make sam canter you tap his shoulder your boot.',\n 'Announcer say.',\n 'Horse front me kick sam left shoulder.',\n 'Sam take off gallop.',\n 'I not stop horse.',\n 'He take pictures of me fall off sam.',\n 'I fall my back.',\n 'I lose my breath.',\n 'I could not breathe.',\n 'He immediately resuscitate me back the breathing.',\n 'They it stress them out.',\n 'I go on show horses.',\n 'Ball go right lap.',\n 'The father look out window.',\n 'Who hit me?',\n 'Who break my window soccer ball?',\n 'It go to rain.',\n 'I not want the umbrella.',\n 'It is start rain.',\n 'I take umbrella.',\n 'I get wet.',\n 'I think i go and get umbrella.',\n 'See i tell you it go to rain.',\n 'Okay a girl ride her tricycle around.',\n 'So she not climb up tree herself.',\n 'So she ask her dad.',\n 'Dad come ladder save cat.',\n 'But he subsequently get stick tree.',\n 'Ladder fall.',\n 'But the girl not care her dad being stick.',\n 'Dog is excited because much happen.',\n 'He bark.',\n 'But somehow fireman come.',\n 'Maybe dad call know that he not be able help.',\n 'So he call firemen.',\n 'They have arrive to save both them.',\n 'So well i know gist it but not every detail.',\n 'So cinderella have two stepsisters.',\n 'But stepsisters get favor all time by stepmother.',\n 'They get invite to ball dancing ball.',\n 'But look like they take ribbon her dress.',\n 'Which i do not remember.',\n 'I think she not have anything that she was not expect to go.',\n 'But book it look they she find something wear.',\n 'Stepsisters go her , think cinderella not go go.',\n 'She go grand style ball.',\n 'Then she is get to leave midnight because her fairy godmother say.',\n 'You have all this.',\n 'Then be then or because everything go go away.',\n 'Horses turn mice.',\n 'Carriage turn pumpkin.',\n 'You are go have your clothes on.',\n 'She leave midnight.',\n 'Prince is heartbroken.',\n 'Prince get it.',\n 'So it only fit her foot.',\n 'So she try it on.',\n 'Prince identify her.',\n 'They get marry.',\n 'They live ever after.',\n 'Okay you go kitchen.',\n 'You find bread.',\n 'You pull out two two pieces bread.',\n 'I assume you make one sandwich.',\n 'Then you find peanut butter.',\n 'You untwist lid.',\n 'If i not say get knife get knife drawer.',\n 'Then you need jelly.',\n 'Then you find jelly that you like.',\n 'You open lid.',\n 'It unstick.',\n 'You spread jelly peanut butter.',\n 'You get plate.',\n 'You cut it half if you like ththem cut to eat ththem way.',\n 'I am do.',\n 'I was grade i think.',\n 'One day he turn around and say me.',\n 'I never hear word.',\n 'I you know sit and take it.',\n 'He he kind terrorize me.',\n 'But we have kind fight window.',\n 'I not remember.',\n 'But he go overpower me.',\n 'I sense that.',\n 'He say.',\n 'Oh you go to get so trouble.',\n 'He scream.',\n 'Mom mary just say dirtiest word in world.',\n 'Oh and you know i become his picking point walk.',\n 'He throw things me.',\n 'Young child play practice soccer yard.',\n 'He hit ball window.',\n 'He sit there couch.',\n 'Man stand up see where the ball come.',\n 'He say.',\n 'I not need umbrella.',\n 'So he take off.',\n 'Lo and behold ah it rain.',\n 'He turn and not like get.',\n 'He say.',\n 'I guess i need that umbrella.',\n 'So now he go off to school with umbrella hopefully in clothes.',\n 'Okay girl was sit porch board.',\n 'She hear bird sing and want see bird that singe.',\n 'She not see it.',\n 'While she was there she see cat.',\n 'But she follow.',\n 'She did not see any that.',\n 'Oh she ride her tricycle over see cat.',\n 'She try rescue cat but could not.',\n 'So she go and get her dad and ladder.',\n 'Well he get ladder.',\n 'She not think that.',\n 'He go and climb tree ladder.',\n 'Then the ladder fall.',\n 'So he is stick.',\n 'I guess mom call fire department.',\n 'Fire department come save day.',\n 'Once time there be girl name cinderella her mother die.',\n 'She kind of keep herself.',\n 'Cinderella dream what happen palace.',\n 'All girls get.',\n 'Stepsisters say.',\n 'Stepsisters go and to ball.',\n 'Fairy godmother appear cinderella.',\n 'I do not know.',\n 'But fairy godmother enable her to go to ball.',\n 'So she say okay.',\n 'So she go ball and have time.',\n 'When midnight was strike and she tell prince she have to leave.',\n 'She did not give him explanation.',\n 'So so she get in her carriage.',\n 'Everything turn pumpkin.',\n 'Horse horses turn back mice.',\n 'Prince miss her.',\n 'He send out decree.',\n 'Oh he find her slipper.',\n 'When she run back she lose her slipper.',\n 'So they send this person around.',\n 'They find her.',\n 'They get marry and ever after.',\n 'You cut it cut.',\n 'But it have two parts.',\n 'I guess mother is nervous.',\n 'I i was not have baby that she come.',\n 'I do.',\n 'She have this brown hair over.',\n 'I have hair.',\n 'Her dad have light hair.',\n 'I remember what i wear when i get.',\n 'I i remember where i sit car.',\n 'I remember stop lights we go.',\n 'My whole world you know she was always there then.',\n 'When i get hospital there be nothing do have baby.',\n 'So when i was pregnant firstnamel i just remember my gynecologist like.',\n 'You know you have very quick first bear.',\n 'This go happen again.',\n 'I sit.',\n 'I was dilate maybe three or four weeks.',\n 'All i could think was.',\n 'When is pain go come back?',\n 'That is not how it work at all actually.',\n 'I i he was also bear his due date.',\n 'But we ride hospital.',\n 'I check myself in.',\n 'He come out this white hair golden kind face.',\n 'Or boy girl two boys two girls not matter.',\n 'But they are best things i have.',\n 'I look my life.',\n 'He enjoy himself.',\n 'He love soccer so.',\n 'He love kick ball.',\n 'His his mom has say.',\n 'He kick ball.',\n 'It knock down lamp.',\n 'It break window.',\n 'Hold and he hold ball and look jack and say himself.',\n 'This happen me before.',\n 'I not go yell my kid.',\n 'Okay so leo was get ready walk to school.',\n 'His mom say.',\n 'Hey you you really take umbrella because it go start rain.',\n 'You get all wet.',\n 'He not want take it.',\n 'He say.',\n 'I i get this.',\n 'I beat rain.',\n 'He say goodbye.',\n 'She look little you know disconcert bebecause this not go work out.',\n 'Now he walk school and start get really wet.',\n 'Rain come down harder and faster.',\n 'He not go get school.',\n 'He make it quarter way school.',\n 'I have take the umbrella.',\n 'I am i do not.',\n 'But i really need take it.',\n 'He take umbrella and finish his walk school.',\n 'It look nice day.',\n 'It was day that girl play.',\n 'She was play her dog and ride her bike.',\n 'The cat get out.',\n 'Cat end up tree.',\n 'But that is what they go to do.',\n 'So they approach dad.',\n 'They go get cat tree that.',\n 'So i guess it was a long time ago that there be woman.',\n 'She have two daughters.',\n 'Castle there be family who live there.',\n 'Cinderella want go ball.',\n 'Stepsisters go off ball.',\n 'Cinderella was leave you know rip up dress and and nothing do.',\n 'Fairy godmother show up and say.',\n 'You have so love give.',\n 'I want you go ball.',\n 'It go be.',\n 'But it end midnight.',\n 'You have make sure you come then.',\n 'So cinderella go the ball.',\n 'He dance her.',\n 'Just then she realize it was almost midnight.',\n 'She run out.',\n 'She lose one her shoes.',\n 'It fit cinderella.',\n 'They live happily.',\n 'I go fridge.',\n 'I grab bread and jelly.',\n 'I go my pantry get peanut butter.',\n 'I go drawer get knife.',\n 'I probably wash my hands.',\n 'I do this cutting board.',\n 'I take two pieces bread out.',\n 'I put them next one.',\n 'I take my knife and spread peanut butter one side.',\n 'Then i go the jelly.',\n 'I put it on side.',\n 'I put pieces together.',\n 'I cut it.',\n 'That i guess all i would do.',\n 'It was i say.',\n 'There be sundays we miss.',\n 'But we go my grandparents sunday.',\n 'But my grandma have her mind.',\n 'But he do it.',\n 'I get there.',\n 'There be twenty peteys.',\n 'But i think it was petey.',\n 'I just call him petey.',\n 'So we feed petey.',\n 'We go inside.',\n 'My grandma always have cook kind dinner dinner.',\n 'You know everything was and wonderful.',\n 'She lay out table beautifully.',\n 'She always have amazing desserts.',\n 'We do that.',\n 'We have our nice lunch.',\n 'We all clean up.',\n 'My grandpa pull carrots out refrigerator.',\n 'We walk horse stable area right their house.',\n 'But way he always turn it just neat adventure.',\n 'He talk creatures that were forest.',\n 'He turn it this super enchanted thing.',\n 'We always end up at horses.',\n 'We feed horses and walk back home.',\n 'There be super kid who was soccer.',\n 'It knock down his lamp and disrupt his television watch afternoon.',\n 'He look out window see where ball come.',\n 'His teacher suggest that because he is walker she she say.',\n 'I not want you get wet your walk.',\n 'Little boy say.',\n 'I go be.',\n 'So she keep her umbrella.',\n 'Then boy start walk.',\n 'Rain start come down harder and.',\n 'He think.',\n 'So i need go back to school.',\n 'I go have let my teacher know that she was.',\n \"I need umbrella so that i not ruin school 's tablet.\",\n 'He go back.',\n 'She do.',\n 'Okay there be girl who play outside her yard one day.',\n 'She ride her tricycle and play her dog and with her cat.',\n 'Her dog start chase man.',\n 'His ladder fall down.',\n \"Then girl 's cat follow man.\",\n 'He pine this woman who have two children her.',\n 'She also lose her spouse.',\n 'They decide they go get marry and join their family together.',\n 'Her father love her.',\n 'So they make her do all things.',\n 'She not get wear nice clothes.',\n 'They encourage her and were her.',\n 'Cinderella do the.',\n 'She find book help her make something.',\n 'Animals help her make something.',\n 'Her fairy godmother appear and turn everything things ever.',\n 'She have lovely carriage and horses to drive carriage.',\n 'She go ball.',\n 'So they dance and dance.',\n 'Cinderella notice it was.',\n 'So she run out.',\n 'She go home and was very very sad.',\n 'They lock her in room so she not get out.',\n 'They sneak keys the door.',\n 'Cinderella get out.',\n 'The shoe fit her.',\n 'I get out cutting board.',\n 'I apply peanut butter knife.',\n 'Then i get the jelly.',\n 'I put it on what was clean slice residual peanut butter.',\n 'I put my jelly.',\n 'Then i take napkin wipe off the jelly.',\n 'When it harden it is get it off when you wash it.',\n 'But anyway i put my slices.',\n 'I cut my sandwich diagonally.',\n 'But she start lose weight and sleep lot.',\n 'She go in and got diagnose bowel cancer.',\n 'Doctor not give clear communication what we expect.',\n 'We think her cancer be cure surgery.',\n 'It was reveal that you know this was stage four cancer.',\n 'There be way it go get better.',\n 'She want stay home.',\n 'I not live in my hometown anymore.',\n 'So it was my mom that really take care her.',\n 'She no take care my grandmother.',\n 'She have lot issues.',\n 'She keep say how she want go.',\n 'We not care for her.',\n 'That not happen.',\n 'She remain hospital and get.',\n 'I remember visit her hospital.',\n 'She was transfer another spot.',\n 'She have trouble breathing.',\n 'So she have what is call death rattle.',\n 'That is when whenever you breathe there be rattle in your lungs.',\n 'She was keep very lowkey morphine.',\n 'But i remember hear that that hearing is last sense that people lose.',\n 'So i stay her overnight.',\n 'I hold her hand hope that that soothe.',\n 'You know hour hour her condition deteriorate.',\n 'It was painful see how hard it was for her breathe.',\n 'So i hold her hands.',\n 'I look her eyes.',\n 'Her family was gather around.',\n 'I say.',\n 'We love you.',\n 'Our love will be lose.',\n 'It is for you leave.',\n 'My neighbor ernest practice soccer yard.',\n 'But he decline.',\n 'He start walk camp.',\n 'It start pour rain.',\n 'He got drench and turn and run home.',\n 'They change clothes.',\n 'Then he take umbrella.',\n 'Now he stay dry.',\n 'Then his ladder fall down.',\n 'Our neighbor call fire department.',\n 'Cinderella do things like serve tea.',\n 'She sit her window.',\n 'She dream better life.',\n 'One day proclamation come.',\n 'Prince have ball.',\n 'Woman and her two daughters were invite.',\n 'Cinderella get and dreamed possibility of go.',\n 'Nor she have the clothes.',\n 'Magical mice get.',\n 'She wish gown.',\n 'But one of young women rip necklace her.',\n 'She feel that she not attend.',\n 'Mice intervene again and bring her fairy godmother.',\n 'Godmother say.',\n 'But there be only one stipulation.',\n 'That spell only last stroke midnight.',\n 'So she go ball.',\n ...]"
     },
     "execution_count": 113,
     "metadata": {},
     "output_type": "execute_result"
    }
   ],
   "source": [
    "sentences"
   ],
   "metadata": {
    "collapsed": false,
    "ExecuteTime": {
     "end_time": "2024-02-18T21:31:39.219262400Z",
     "start_time": "2024-02-18T21:31:39.188130500Z"
    }
   },
   "id": "3f972ad2222bd15d"
  },
  {
   "cell_type": "markdown",
   "source": [
    "# BERT"
   ],
   "metadata": {
    "collapsed": false
   },
   "id": "ef6fa5688180217a"
  },
  {
   "cell_type": "code",
   "execution_count": 1,
   "outputs": [
    {
     "name": "stdout",
     "output_type": "stream",
     "text": [
      "WARNING:tensorflow:From C:\\Users\\imruh\\miniconda3\\envs\\thesis\\lib\\site-packages\\keras\\src\\losses.py:2976: The name tf.losses.sparse_softmax_cross_entropy is deprecated. Please use tf.compat.v1.losses.sparse_softmax_cross_entropy instead.\n"
     ]
    }
   ],
   "source": [
    "from transformers import AutoTokenizer\n",
    "from transformers import AutoModelForSequenceClassification\n",
    "import torch     \n",
    "import pandas as pd\n",
    "import evaluate\n",
    "metric = evaluate.load(\"accuracy\")"
   ],
   "metadata": {
    "collapsed": false,
    "ExecuteTime": {
     "end_time": "2024-03-01T16:18:30.956334900Z",
     "start_time": "2024-03-01T16:18:16.816640900Z"
    }
   },
   "id": "dcfc9725d87c9e39"
  },
  {
   "cell_type": "code",
   "execution_count": 2,
   "outputs": [],
   "source": [
    "tokenizer = AutoTokenizer.from_pretrained(\"C:/Users/imruh/Documents/Uni/Master thesis/classifiers/models/bert_finetuned\", return_tensor=\"pt\")\n",
    "device = \"cuda:0\" if torch.cuda.is_available() else \"cpu\"\n",
    "model = AutoModelForSequenceClassification.from_pretrained(\"C:/Users/imruh/Documents/Uni/Master thesis/classifiers/models/bert_finetuned\")\n",
    "model = model.to(device)"
   ],
   "metadata": {
    "collapsed": false,
    "ExecuteTime": {
     "end_time": "2024-03-01T16:18:34.442612300Z",
     "start_time": "2024-03-01T16:18:30.957628700Z"
    }
   },
   "id": "5a1ad317ed6e8040"
  },
  {
   "cell_type": "code",
   "execution_count": 3,
   "outputs": [],
   "source": [
    "df = pd.read_csv(\"../linguistic_model/data/synthetic_clan.csv\")\n",
    "# df = pd.read_csv(\"../linguistic_model/data/synthetic_misra.csv\")\n",
    "# df = pd.read_csv(\"../linguistic_model/data/synthetic_salis.csv\")"
   ],
   "metadata": {
    "collapsed": false,
    "ExecuteTime": {
     "end_time": "2024-03-01T16:18:34.529642100Z",
     "start_time": "2024-03-01T16:18:34.444022400Z"
    }
   },
   "id": "a3d75d2a82653023"
  },
  {
   "cell_type": "code",
   "execution_count": 4,
   "outputs": [
    {
     "data": {
      "text/plain": "                                              modified  label\n0                              thus 3, and 2 an movie.      1\n1    it could be fun with the cool looking aliens a...      0\n2    there are much better kay francis vehicles out...      0\n3    seeing her in a bra and panty and later in a b...      0\n4    but the voiceartists cannot be blamed for the ...      0\n..                                                 ...    ...\n903                                nobody should that.      1\n904                                               0 10      1\n905  there are bad movies, terrible movies even bor...      0\n906                                     s problem one.      1\n907  the only thing that was interesting, to me, wa...      0\n\n[908 rows x 2 columns]",
      "text/html": "<div>\n<style scoped>\n    .dataframe tbody tr th:only-of-type {\n        vertical-align: middle;\n    }\n\n    .dataframe tbody tr th {\n        vertical-align: top;\n    }\n\n    .dataframe thead th {\n        text-align: right;\n    }\n</style>\n<table border=\"1\" class=\"dataframe\">\n  <thead>\n    <tr style=\"text-align: right;\">\n      <th></th>\n      <th>modified</th>\n      <th>label</th>\n    </tr>\n  </thead>\n  <tbody>\n    <tr>\n      <th>0</th>\n      <td>thus 3, and 2 an movie.</td>\n      <td>1</td>\n    </tr>\n    <tr>\n      <th>1</th>\n      <td>it could be fun with the cool looking aliens a...</td>\n      <td>0</td>\n    </tr>\n    <tr>\n      <th>2</th>\n      <td>there are much better kay francis vehicles out...</td>\n      <td>0</td>\n    </tr>\n    <tr>\n      <th>3</th>\n      <td>seeing her in a bra and panty and later in a b...</td>\n      <td>0</td>\n    </tr>\n    <tr>\n      <th>4</th>\n      <td>but the voiceartists cannot be blamed for the ...</td>\n      <td>0</td>\n    </tr>\n    <tr>\n      <th>...</th>\n      <td>...</td>\n      <td>...</td>\n    </tr>\n    <tr>\n      <th>903</th>\n      <td>nobody should that.</td>\n      <td>1</td>\n    </tr>\n    <tr>\n      <th>904</th>\n      <td>0 10</td>\n      <td>1</td>\n    </tr>\n    <tr>\n      <th>905</th>\n      <td>there are bad movies, terrible movies even bor...</td>\n      <td>0</td>\n    </tr>\n    <tr>\n      <th>906</th>\n      <td>s problem one.</td>\n      <td>1</td>\n    </tr>\n    <tr>\n      <th>907</th>\n      <td>the only thing that was interesting, to me, wa...</td>\n      <td>0</td>\n    </tr>\n  </tbody>\n</table>\n<p>908 rows × 2 columns</p>\n</div>"
     },
     "execution_count": 4,
     "metadata": {},
     "output_type": "execute_result"
    }
   ],
   "source": [
    "df"
   ],
   "metadata": {
    "collapsed": false,
    "ExecuteTime": {
     "end_time": "2024-03-01T16:18:34.591496Z",
     "start_time": "2024-03-01T16:18:34.532434900Z"
    }
   },
   "id": "ae831d6b088f82a4"
  },
  {
   "cell_type": "code",
   "execution_count": 5,
   "outputs": [],
   "source": [
    "sentences = df['modified']\n",
    "labels = df[\"label\"]"
   ],
   "metadata": {
    "collapsed": false,
    "ExecuteTime": {
     "end_time": "2024-03-01T16:18:34.620442900Z",
     "start_time": "2024-03-01T16:18:34.596505Z"
    }
   },
   "id": "4d56c2c7f57a670e"
  },
  {
   "cell_type": "code",
   "execution_count": 6,
   "outputs": [
    {
     "data": {
      "text/plain": "'cuda:0'"
     },
     "execution_count": 6,
     "metadata": {},
     "output_type": "execute_result"
    }
   ],
   "source": [
    "device"
   ],
   "metadata": {
    "collapsed": false,
    "ExecuteTime": {
     "end_time": "2024-03-01T16:18:34.666574200Z",
     "start_time": "2024-03-01T16:18:34.607927400Z"
    }
   },
   "id": "cac4c9d137b82c2"
  },
  {
   "cell_type": "code",
   "execution_count": 7,
   "outputs": [],
   "source": [
    "pred_labels_bert = []\n",
    "true_labels = []\n",
    "for sentence, label in zip(sentences, labels):\n",
    "    if sentence is not None and isinstance(sentence, str):\n",
    "        inputs = tokenizer(sentence, return_tensors=\"pt\", truncation=True).input_ids.to(device) \n",
    "        true_labels.append(label)\n",
    "        with torch.no_grad():\n",
    "            logits = model(inputs).logits\n",
    "        predicted_class_id = logits.argmax().item()\n",
    "        pred_labels_bert.append(predicted_class_id)"
   ],
   "metadata": {
    "collapsed": false,
    "ExecuteTime": {
     "end_time": "2024-03-01T16:18:42.634758800Z",
     "start_time": "2024-03-01T16:18:34.629914Z"
    }
   },
   "id": "8e4e5a09f98ef538"
  },
  {
   "cell_type": "code",
   "execution_count": 8,
   "outputs": [
    {
     "name": "stdout",
     "output_type": "stream",
     "text": [
      "1    454\n",
      "0    453\n",
      "Name: count, dtype: int64\n"
     ]
    },
    {
     "data": {
      "text/plain": "<Figure size 640x480 with 1 Axes>",
      "image/png": "[encoded data removed]"
     },
     "metadata": {},
     "output_type": "display_data"
    }
   ],
   "source": [
    "pd.Series(true_labels).value_counts().plot(kind=\"bar\")\n",
    "print(pd.Series(true_labels).value_counts())"
   ],
   "metadata": {
    "collapsed": false,
    "ExecuteTime": {
     "end_time": "2024-03-01T16:18:43.800503100Z",
     "start_time": "2024-03-01T16:18:42.639759700Z"
    }
   },
   "id": "42ff616d15ee1b6d"
  },
  {
   "cell_type": "code",
   "execution_count": 9,
   "outputs": [
    {
     "name": "stdout",
     "output_type": "stream",
     "text": [
      "BERT Accuracy: {'accuracy': 0.8577728776185226}\n"
     ]
    }
   ],
   "source": [
    "print(f\"BERT Accuracy: {metric.compute(predictions=pred_labels_bert, references=true_labels)}\")"
   ],
   "metadata": {
    "collapsed": false,
    "ExecuteTime": {
     "end_time": "2024-03-01T16:18:43.891894200Z",
     "start_time": "2024-03-01T16:18:43.802513700Z"
    }
   },
   "id": "908fd02dff45446a"
  },
  {
   "cell_type": "code",
   "execution_count": 10,
   "outputs": [
    {
     "data": {
      "text/plain": "<Figure size 640x480 with 2 Axes>",
      "image/png": "[encoded data removed]"
     },
     "metadata": {},
     "output_type": "display_data"
    }
   ],
   "source": [
    "from sklearn.metrics import confusion_matrix, ConfusionMatrixDisplay\n",
    "import matplotlib.pyplot as plt\n",
    "\n",
    "cm = confusion_matrix(true_labels, pred_labels_bert, normalize='true')\n",
    "tn, fp, fn, tp = cm.ravel()\n",
    "ConfusionMatrixDisplay.from_predictions(true_labels, pred_labels_bert, normalize=\"true\", cmap=plt.cm.Blues)\n",
    "plt.grid(False)\n",
    "plt.show()"
   ],
   "metadata": {
    "collapsed": false,
    "ExecuteTime": {
     "end_time": "2024-03-01T16:18:43.991766500Z",
     "start_time": "2024-03-01T16:18:43.881489700Z"
    }
   },
   "id": "dd183ea2e8d85cb8"
  },
  {
   "cell_type": "markdown",
   "source": [
    "# KNN "
   ],
   "metadata": {
    "collapsed": false
   },
   "id": "a0a4f379f7861bea"
  },
  {
   "cell_type": "code",
   "execution_count": 1,
   "outputs": [],
   "source": [
    "from gensim.models import Word2Vec\n",
    "import numpy as np\n",
    "import pickle"
   ],
   "metadata": {
    "collapsed": false,
    "ExecuteTime": {
     "end_time": "2024-02-22T13:50:50.251035100Z",
     "start_time": "2024-02-22T13:50:49.748555700Z"
    }
   },
   "id": "8e9127b247a7e5a3"
  },
  {
   "cell_type": "code",
   "execution_count": 6,
   "outputs": [],
   "source": [
    "w2v_model = Word2Vec.load(\"models/word2vec_knn.model\")\n",
    "vocab=list(w2v_model.wv.key_to_index.keys())\n",
    "loaded_model = pickle.load(open('models/knn_pickle', 'rb'))"
   ],
   "metadata": {
    "collapsed": false,
    "ExecuteTime": {
     "end_time": "2024-02-22T13:51:40.098337400Z",
     "start_time": "2024-02-22T13:51:39.646673100Z"
    }
   },
   "id": "9b4843d7fcc3718a"
  },
  {
   "cell_type": "code",
   "execution_count": 7,
   "outputs": [],
   "source": [
    "def avg_w2vec(sentences, labels):\n",
    "    \"\"\"\n",
    "    Average Word2Vec approach for creating a vector for a given sentence from the word embeddings of each words of the sentence.\n",
    "    \"\"\"\n",
    "\n",
    "    transformed=[]\n",
    "    lab = []\n",
    "    for sentence, label in zip(sentences,labels):\n",
    "        count=0\n",
    "        vector=np.zeros(300)\n",
    "        for word in sentence.split():\n",
    "            if word in vocab:\n",
    "                vector+=w2v_model.wv.get_vector(word)\n",
    "                count+=1\n",
    "        if count!=0:\n",
    "            vector/=count\n",
    "            transformed.append(vector)\n",
    "            lab.append(label)\n",
    "    return np.array(transformed), np.array(lab)"
   ],
   "metadata": {
    "collapsed": false,
    "ExecuteTime": {
     "end_time": "2024-02-22T13:51:41.314061300Z",
     "start_time": "2024-02-22T13:51:41.306062300Z"
    }
   },
   "id": "cc22d95f78f4ec6d"
  },
  {
   "cell_type": "code",
   "execution_count": 8,
   "outputs": [
    {
     "ename": "NameError",
     "evalue": "name 'sentences' is not defined",
     "output_type": "error",
     "traceback": [
      "\u001B[1;31m---------------------------------------------------------------------------\u001B[0m",
      "\u001B[1;31mNameError\u001B[0m                                 Traceback (most recent call last)",
      "Cell \u001B[1;32mIn[8], line 1\u001B[0m\n\u001B[1;32m----> 1\u001B[0m transformed_text, labels1\u001B[38;5;241m=\u001B[39m avg_w2vec(\u001B[43msentences\u001B[49m, labels)\n",
      "\u001B[1;31mNameError\u001B[0m: name 'sentences' is not defined"
     ]
    }
   ],
   "source": [
    "transformed_text, labels1= avg_w2vec(sentences, labels)"
   ],
   "metadata": {
    "collapsed": false,
    "ExecuteTime": {
     "end_time": "2024-02-22T13:51:43.338983800Z",
     "start_time": "2024-02-22T13:51:43.266117500Z"
    }
   },
   "id": "43185ffa513be3ba"
  },
  {
   "cell_type": "code",
   "execution_count": 125,
   "outputs": [],
   "source": [
    "pred_labels_knn = loaded_model.predict(transformed_text)"
   ],
   "metadata": {
    "collapsed": false,
    "ExecuteTime": {
     "end_time": "2024-02-18T21:33:46.680112600Z",
     "start_time": "2024-02-18T21:33:21.842515200Z"
    }
   },
   "id": "83fb2cce4c082884"
  },
  {
   "cell_type": "code",
   "execution_count": 126,
   "outputs": [
    {
     "name": "stdout",
     "output_type": "stream",
     "text": [
      "22145\n",
      "22193\n"
     ]
    }
   ],
   "source": [
    "print(len(pred_labels_knn))\n",
    "print(len(sentences))"
   ],
   "metadata": {
    "collapsed": false,
    "ExecuteTime": {
     "end_time": "2024-02-18T21:33:46.696110400Z",
     "start_time": "2024-02-18T21:33:46.680112600Z"
    }
   },
   "id": "daef273246ce57cf"
  },
  {
   "cell_type": "code",
   "execution_count": 127,
   "outputs": [
    {
     "data": {
      "text/plain": "0.18044705351095056"
     },
     "execution_count": 127,
     "metadata": {},
     "output_type": "execute_result"
    }
   ],
   "source": [
    "np.unique(pred_labels_knn, return_counts=True)[1][1]/len(pred_labels_knn)"
   ],
   "metadata": {
    "collapsed": false,
    "ExecuteTime": {
     "end_time": "2024-02-18T21:33:46.739799100Z",
     "start_time": "2024-02-18T21:33:46.696110400Z"
    }
   },
   "id": "828c5398ace16183"
  },
  {
   "cell_type": "code",
   "execution_count": 11,
   "outputs": [
    {
     "name": "stdout",
     "output_type": "stream",
     "text": [
      "[0 0 0 0 0 0 0 0 0 0 0 0]\n"
     ]
    }
   ],
   "source": [
    "sentences = [\"so walking to school\", \"so is school\", \"so is to school\", \"so is walking school\", \"so is walking to school\", \"so he to school\", \"so he walking school\", \"so he walking to school\", \"so he is school\", \"so he is to school\", \"so he is walking school\", \"so he is walking to school\"]\n",
    "\n",
    "labels = [1] * len(sentences)\n",
    "\n",
    "transformed_text, labels1= avg_w2vec(sentences, labels)\n",
    "\n",
    "pred_labels_knn = loaded_model.predict(transformed_text)\n",
    "print(pred_labels_knn)"
   ],
   "metadata": {
    "collapsed": false,
    "ExecuteTime": {
     "end_time": "2024-02-22T13:52:47.097769Z",
     "start_time": "2024-02-22T13:52:46.942167900Z"
    }
   },
   "id": "38a112fc58ebed7f"
  }
 ],
 "metadata": {
  "kernelspec": {
   "display_name": "Python 3",
   "language": "python",
   "name": "python3"
  },
  "language_info": {
   "codemirror_mode": {
    "name": "ipython",
    "version": 2
   },
   "file_extension": ".py",
   "mimetype": "text/x-python",
   "name": "python",
   "nbconvert_exporter": "python",
   "pygments_lexer": "ipython2",
   "version": "2.7.6"
  }
 },
 "nbformat": 4,
 "nbformat_minor": 5
}
