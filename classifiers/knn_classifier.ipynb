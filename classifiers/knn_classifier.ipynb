{
 "cells": [
  {
   "cell_type": "code",
   "execution_count": 1,
   "id": "initial_id",
   "metadata": {
    "collapsed": true,
    "ExecuteTime": {
     "end_time": "2024-02-06T17:24:59.059317400Z",
     "start_time": "2024-02-06T17:24:58.732336Z"
    }
   },
   "outputs": [],
   "source": [
    "import pandas as pd \n",
    "import seaborn as sns\n",
    "from sklearn.model_selection import train_test_split\n",
    "import numpy as np\n",
    "import pickle\n"
   ]
  },
  {
   "cell_type": "code",
   "execution_count": 4,
   "outputs": [],
   "source": [
    "# dataset_filename = \"all_sentences_processed.csv\"\n",
    "# df = pd.read_csv(dataset_filename, encoding='utf8', index_col=False).drop(['Unnamed: 0.1', 'Unnamed: 0'], axis=1)\n",
    "\n",
    "dataset_filename = \"input.csv\"\n",
    "df = pd.read_csv(dataset_filename, encoding='utf8', index_col=False).drop('Unnamed: 0', axis=1)"
   ],
   "metadata": {
    "collapsed": false,
    "ExecuteTime": {
     "end_time": "2024-02-06T17:26:04.009105900Z",
     "start_time": "2024-02-06T17:26:03.952369800Z"
    }
   },
   "id": "4ebd68e620e956d8"
  },
  {
   "cell_type": "code",
   "execution_count": 5,
   "outputs": [
    {
     "data": {
      "text/plain": "                                                    text  label\n0      and it appears as though he is kicking a socce...      0\n1                             so she ran down the steps.      0\n2                                             let us go.      0\n3                        and put the jelly on top of it.      0\n4                                  and i was a freshman.      0\n...                                                  ...    ...\n54648  and as she was running away she drops one of h...      0\n54649  and meanwhile now they are getting the firemen...      0\n54650                                            byebye.      1\n54651                           so took her to the ball.      1\n54652  and so she has a carriage with horses that tak...      0\n\n[54653 rows x 2 columns]",
      "text/html": "<div>\n<style scoped>\n    .dataframe tbody tr th:only-of-type {\n        vertical-align: middle;\n    }\n\n    .dataframe tbody tr th {\n        vertical-align: top;\n    }\n\n    .dataframe thead th {\n        text-align: right;\n    }\n</style>\n<table border=\"1\" class=\"dataframe\">\n  <thead>\n    <tr style=\"text-align: right;\">\n      <th></th>\n      <th>text</th>\n      <th>label</th>\n    </tr>\n  </thead>\n  <tbody>\n    <tr>\n      <th>0</th>\n      <td>and it appears as though he is kicking a socce...</td>\n      <td>0</td>\n    </tr>\n    <tr>\n      <th>1</th>\n      <td>so she ran down the steps.</td>\n      <td>0</td>\n    </tr>\n    <tr>\n      <th>2</th>\n      <td>let us go.</td>\n      <td>0</td>\n    </tr>\n    <tr>\n      <th>3</th>\n      <td>and put the jelly on top of it.</td>\n      <td>0</td>\n    </tr>\n    <tr>\n      <th>4</th>\n      <td>and i was a freshman.</td>\n      <td>0</td>\n    </tr>\n    <tr>\n      <th>...</th>\n      <td>...</td>\n      <td>...</td>\n    </tr>\n    <tr>\n      <th>54648</th>\n      <td>and as she was running away she drops one of h...</td>\n      <td>0</td>\n    </tr>\n    <tr>\n      <th>54649</th>\n      <td>and meanwhile now they are getting the firemen...</td>\n      <td>0</td>\n    </tr>\n    <tr>\n      <th>54650</th>\n      <td>byebye.</td>\n      <td>1</td>\n    </tr>\n    <tr>\n      <th>54651</th>\n      <td>so took her to the ball.</td>\n      <td>1</td>\n    </tr>\n    <tr>\n      <th>54652</th>\n      <td>and so she has a carriage with horses that tak...</td>\n      <td>0</td>\n    </tr>\n  </tbody>\n</table>\n<p>54653 rows × 2 columns</p>\n</div>"
     },
     "execution_count": 5,
     "metadata": {},
     "output_type": "execute_result"
    }
   ],
   "source": [
    "df"
   ],
   "metadata": {
    "collapsed": false,
    "ExecuteTime": {
     "end_time": "2024-02-06T17:26:08.013913600Z",
     "start_time": "2024-02-06T17:26:07.999775300Z"
    }
   },
   "id": "91eeebe74051d6ae"
  },
  {
   "cell_type": "code",
   "execution_count": 6,
   "outputs": [
    {
     "data": {
      "text/plain": "text     0\nlabel    0\ndtype: int64"
     },
     "execution_count": 6,
     "metadata": {},
     "output_type": "execute_result"
    }
   ],
   "source": [
    "# no null values \n",
    "df.isnull().sum()"
   ],
   "metadata": {
    "collapsed": false,
    "ExecuteTime": {
     "end_time": "2024-02-06T17:26:11.735372600Z",
     "start_time": "2024-02-06T17:26:11.713563200Z"
    }
   },
   "id": "a27cf5c6cce7959d"
  },
  {
   "cell_type": "code",
   "execution_count": 7,
   "outputs": [
    {
     "data": {
      "text/plain": "<Axes: xlabel='label', ylabel='count'>"
     },
     "execution_count": 7,
     "metadata": {},
     "output_type": "execute_result"
    },
    {
     "data": {
      "text/plain": "<Figure size 640x480 with 1 Axes>",
      "image/png": "[encoded data removed]"
     },
     "metadata": {},
     "output_type": "display_data"
    }
   ],
   "source": [
    "# A bit unbalanced\n",
    "sns.countplot(x=\"label\",data=df)"
   ],
   "metadata": {
    "collapsed": false,
    "ExecuteTime": {
     "end_time": "2024-02-06T17:26:18.787403900Z",
     "start_time": "2024-02-06T17:26:18.662384300Z"
    }
   },
   "id": "10ae02f3bcd3ae58"
  },
  {
   "cell_type": "code",
   "execution_count": 8,
   "outputs": [],
   "source": [
    "# # 1:1 ratio\n",
    "# df1 = df[df.label==0].sample(n=len(df[df.label==1])).reset_index(drop=True)\n",
    "# df2 = df[df.label==1]\n",
    "# df = pd.concat([df1, df2], ignore_index=True)\n",
    "# sns.countplot(x=\"label\",data=df)"
   ],
   "metadata": {
    "collapsed": false,
    "ExecuteTime": {
     "end_time": "2024-02-06T17:26:21.492275300Z",
     "start_time": "2024-02-06T17:26:21.460917400Z"
    }
   },
   "id": "60d9cbb8aeea4d94"
  },
  {
   "cell_type": "code",
   "execution_count": 9,
   "outputs": [
    {
     "ename": "KeyError",
     "evalue": "'preprocessed_text'",
     "output_type": "error",
     "traceback": [
      "\u001B[1;31m---------------------------------------------------------------------------\u001B[0m",
      "\u001B[1;31mKeyError\u001B[0m                                  Traceback (most recent call last)",
      "File \u001B[1;32m~\\miniconda3\\envs\\thesis\\lib\\site-packages\\pandas\\core\\indexes\\base.py:3791\u001B[0m, in \u001B[0;36mIndex.get_loc\u001B[1;34m(self, key)\u001B[0m\n\u001B[0;32m   3790\u001B[0m \u001B[38;5;28;01mtry\u001B[39;00m:\n\u001B[1;32m-> 3791\u001B[0m     \u001B[38;5;28;01mreturn\u001B[39;00m \u001B[38;5;28;43mself\u001B[39;49m\u001B[38;5;241;43m.\u001B[39;49m\u001B[43m_engine\u001B[49m\u001B[38;5;241;43m.\u001B[39;49m\u001B[43mget_loc\u001B[49m\u001B[43m(\u001B[49m\u001B[43mcasted_key\u001B[49m\u001B[43m)\u001B[49m\n\u001B[0;32m   3792\u001B[0m \u001B[38;5;28;01mexcept\u001B[39;00m \u001B[38;5;167;01mKeyError\u001B[39;00m \u001B[38;5;28;01mas\u001B[39;00m err:\n",
      "File \u001B[1;32mindex.pyx:152\u001B[0m, in \u001B[0;36mpandas._libs.index.IndexEngine.get_loc\u001B[1;34m()\u001B[0m\n",
      "File \u001B[1;32mindex.pyx:181\u001B[0m, in \u001B[0;36mpandas._libs.index.IndexEngine.get_loc\u001B[1;34m()\u001B[0m\n",
      "File \u001B[1;32mpandas\\_libs\\hashtable_class_helper.pxi:7080\u001B[0m, in \u001B[0;36mpandas._libs.hashtable.PyObjectHashTable.get_item\u001B[1;34m()\u001B[0m\n",
      "File \u001B[1;32mpandas\\_libs\\hashtable_class_helper.pxi:7088\u001B[0m, in \u001B[0;36mpandas._libs.hashtable.PyObjectHashTable.get_item\u001B[1;34m()\u001B[0m\n",
      "\u001B[1;31mKeyError\u001B[0m: 'preprocessed_text'",
      "\nThe above exception was the direct cause of the following exception:\n",
      "\u001B[1;31mKeyError\u001B[0m                                  Traceback (most recent call last)",
      "Cell \u001B[1;32mIn[9], line 1\u001B[0m\n\u001B[1;32m----> 1\u001B[0m input_df \u001B[38;5;241m=\u001B[39m pd\u001B[38;5;241m.\u001B[39mDataFrame({\u001B[38;5;124m\"\u001B[39m\u001B[38;5;124mtext\u001B[39m\u001B[38;5;124m\"\u001B[39m: \u001B[38;5;28mlist\u001B[39m(\u001B[43mdf\u001B[49m\u001B[43m[\u001B[49m\u001B[38;5;124;43m'\u001B[39;49m\u001B[38;5;124;43mpreprocessed_text\u001B[39;49m\u001B[38;5;124;43m'\u001B[39;49m\u001B[43m]\u001B[49m), \u001B[38;5;124m\"\u001B[39m\u001B[38;5;124mlabel\u001B[39m\u001B[38;5;124m\"\u001B[39m: \u001B[38;5;28mlist\u001B[39m(df[\u001B[38;5;124m'\u001B[39m\u001B[38;5;124mlabel\u001B[39m\u001B[38;5;124m'\u001B[39m])})\n",
      "File \u001B[1;32m~\\miniconda3\\envs\\thesis\\lib\\site-packages\\pandas\\core\\frame.py:3893\u001B[0m, in \u001B[0;36mDataFrame.__getitem__\u001B[1;34m(self, key)\u001B[0m\n\u001B[0;32m   3891\u001B[0m \u001B[38;5;28;01mif\u001B[39;00m \u001B[38;5;28mself\u001B[39m\u001B[38;5;241m.\u001B[39mcolumns\u001B[38;5;241m.\u001B[39mnlevels \u001B[38;5;241m>\u001B[39m \u001B[38;5;241m1\u001B[39m:\n\u001B[0;32m   3892\u001B[0m     \u001B[38;5;28;01mreturn\u001B[39;00m \u001B[38;5;28mself\u001B[39m\u001B[38;5;241m.\u001B[39m_getitem_multilevel(key)\n\u001B[1;32m-> 3893\u001B[0m indexer \u001B[38;5;241m=\u001B[39m \u001B[38;5;28;43mself\u001B[39;49m\u001B[38;5;241;43m.\u001B[39;49m\u001B[43mcolumns\u001B[49m\u001B[38;5;241;43m.\u001B[39;49m\u001B[43mget_loc\u001B[49m\u001B[43m(\u001B[49m\u001B[43mkey\u001B[49m\u001B[43m)\u001B[49m\n\u001B[0;32m   3894\u001B[0m \u001B[38;5;28;01mif\u001B[39;00m is_integer(indexer):\n\u001B[0;32m   3895\u001B[0m     indexer \u001B[38;5;241m=\u001B[39m [indexer]\n",
      "File \u001B[1;32m~\\miniconda3\\envs\\thesis\\lib\\site-packages\\pandas\\core\\indexes\\base.py:3798\u001B[0m, in \u001B[0;36mIndex.get_loc\u001B[1;34m(self, key)\u001B[0m\n\u001B[0;32m   3793\u001B[0m     \u001B[38;5;28;01mif\u001B[39;00m \u001B[38;5;28misinstance\u001B[39m(casted_key, \u001B[38;5;28mslice\u001B[39m) \u001B[38;5;129;01mor\u001B[39;00m (\n\u001B[0;32m   3794\u001B[0m         \u001B[38;5;28misinstance\u001B[39m(casted_key, abc\u001B[38;5;241m.\u001B[39mIterable)\n\u001B[0;32m   3795\u001B[0m         \u001B[38;5;129;01mand\u001B[39;00m \u001B[38;5;28many\u001B[39m(\u001B[38;5;28misinstance\u001B[39m(x, \u001B[38;5;28mslice\u001B[39m) \u001B[38;5;28;01mfor\u001B[39;00m x \u001B[38;5;129;01min\u001B[39;00m casted_key)\n\u001B[0;32m   3796\u001B[0m     ):\n\u001B[0;32m   3797\u001B[0m         \u001B[38;5;28;01mraise\u001B[39;00m InvalidIndexError(key)\n\u001B[1;32m-> 3798\u001B[0m     \u001B[38;5;28;01mraise\u001B[39;00m \u001B[38;5;167;01mKeyError\u001B[39;00m(key) \u001B[38;5;28;01mfrom\u001B[39;00m \u001B[38;5;21;01merr\u001B[39;00m\n\u001B[0;32m   3799\u001B[0m \u001B[38;5;28;01mexcept\u001B[39;00m \u001B[38;5;167;01mTypeError\u001B[39;00m:\n\u001B[0;32m   3800\u001B[0m     \u001B[38;5;66;03m# If we have a listlike key, _check_indexing_error will raise\u001B[39;00m\n\u001B[0;32m   3801\u001B[0m     \u001B[38;5;66;03m#  InvalidIndexError. Otherwise we fall through and re-raise\u001B[39;00m\n\u001B[0;32m   3802\u001B[0m     \u001B[38;5;66;03m#  the TypeError.\u001B[39;00m\n\u001B[0;32m   3803\u001B[0m     \u001B[38;5;28mself\u001B[39m\u001B[38;5;241m.\u001B[39m_check_indexing_error(key)\n",
      "\u001B[1;31mKeyError\u001B[0m: 'preprocessed_text'"
     ]
    }
   ],
   "source": [
    "# input_df = pd.DataFrame({\"text\": list(df['preprocessed_text']), \"label\": list(df['label'])})"
   ],
   "metadata": {
    "collapsed": false,
    "ExecuteTime": {
     "end_time": "2024-02-06T17:26:49.009716900Z",
     "start_time": "2024-02-06T17:26:47.670095500Z"
    }
   },
   "id": "7d99dccf2991efa6"
  },
  {
   "cell_type": "code",
   "execution_count": null,
   "outputs": [],
   "source": [
    "# remove trailing whitespaces and lowercase\n",
    "# input_df['text'] = [x.lstrip().rstrip().lower() for x in input_df['text']]"
   ],
   "metadata": {
    "collapsed": false,
    "ExecuteTime": {
     "start_time": "2024-02-06T17:25:00.060265200Z"
    }
   },
   "id": "70c12240dd983f77"
  },
  {
   "cell_type": "code",
   "execution_count": null,
   "outputs": [],
   "source": [
    "# input_df"
   ],
   "metadata": {
    "collapsed": false,
    "ExecuteTime": {
     "start_time": "2024-02-06T17:25:00.061271600Z"
    }
   },
   "id": "dd910b88b5b08be"
  },
  {
   "cell_type": "code",
   "execution_count": null,
   "outputs": [],
   "source": [
    "# shuffle\n",
    "# input_df = input_df.sample(frac=1).reset_index(drop=True)"
   ],
   "metadata": {
    "collapsed": false,
    "ExecuteTime": {
     "start_time": "2024-02-06T17:25:00.064272700Z"
    }
   },
   "id": "22a34c8c09785016"
  },
  {
   "cell_type": "code",
   "execution_count": 10,
   "outputs": [],
   "source": [
    "input_df = df"
   ],
   "metadata": {
    "collapsed": false,
    "ExecuteTime": {
     "end_time": "2024-02-06T17:27:21.351149200Z",
     "start_time": "2024-02-06T17:27:21.319464400Z"
    }
   },
   "id": "280ea3fd39410280"
  },
  {
   "cell_type": "markdown",
   "source": [
    "# Encoding # 1"
   ],
   "metadata": {
    "collapsed": false
   },
   "id": "a8abeef2ea96a7e5"
  },
  {
   "cell_type": "code",
   "execution_count": 11,
   "outputs": [],
   "source": [
    "import multiprocessing\n",
    "from gensim.models import Word2Vec"
   ],
   "metadata": {
    "collapsed": false,
    "ExecuteTime": {
     "end_time": "2024-02-06T17:27:23.507179200Z",
     "start_time": "2024-02-06T17:27:23.246212300Z"
    }
   },
   "id": "5e152030dcfd17ac"
  },
  {
   "cell_type": "code",
   "execution_count": 12,
   "outputs": [
    {
     "data": {
      "text/plain": "16"
     },
     "execution_count": 12,
     "metadata": {},
     "output_type": "execute_result"
    }
   ],
   "source": [
    "cores = multiprocessing.cpu_count()\n",
    "cores"
   ],
   "metadata": {
    "collapsed": false,
    "ExecuteTime": {
     "end_time": "2024-02-06T17:27:24.625995400Z",
     "start_time": "2024-02-06T17:27:24.609942100Z"
    }
   },
   "id": "f1da9a7e1b0c5550"
  },
  {
   "cell_type": "code",
   "execution_count": 13,
   "outputs": [
    {
     "data": {
      "text/plain": "['and',\n 'it',\n 'appears',\n 'as',\n 'though',\n 'he',\n 'is',\n 'kicking',\n 'a',\n 'soccer',\n 'ball.']"
     },
     "execution_count": 13,
     "metadata": {},
     "output_type": "execute_result"
    }
   ],
   "source": [
    "words_in_sentences=[]\n",
    "for i in input_df[\"text\"]:\n",
    "    words_in_sentences.append(i.lower().split())\n",
    "words_in_sentences[0]"
   ],
   "metadata": {
    "collapsed": false,
    "ExecuteTime": {
     "end_time": "2024-02-06T17:27:26.281786Z",
     "start_time": "2024-02-06T17:27:26.249352900Z"
    }
   },
   "id": "6398f265e7a92f27"
  },
  {
   "cell_type": "code",
   "execution_count": 14,
   "outputs": [
    {
     "data": {
      "text/plain": "text     and it appears as though he is kicking a socce...\nlabel                                                    0\nName: 0, dtype: object"
     },
     "execution_count": 14,
     "metadata": {},
     "output_type": "execute_result"
    }
   ],
   "source": [
    "input_df.iloc[0]"
   ],
   "metadata": {
    "collapsed": false,
    "ExecuteTime": {
     "end_time": "2024-02-06T17:27:28.318277400Z",
     "start_time": "2024-02-06T17:27:28.302658900Z"
    }
   },
   "id": "a6c8600906fb3119"
  },
  {
   "cell_type": "code",
   "execution_count": 15,
   "outputs": [],
   "source": [
    "w2v_model = Word2Vec(min_count=1,\n",
    "                     window=2,\n",
    "                     vector_size = 300,\n",
    "                     sample=6e-5, \n",
    "                     alpha=0.03, \n",
    "                     min_alpha=0.0007, \n",
    "                     negative=20,\n",
    "                     workers=cores-1)"
   ],
   "metadata": {
    "collapsed": false,
    "ExecuteTime": {
     "end_time": "2024-02-06T17:27:30.597350900Z",
     "start_time": "2024-02-06T17:27:30.581508300Z"
    }
   },
   "id": "123e5343341c7e6"
  },
  {
   "cell_type": "code",
   "execution_count": 16,
   "outputs": [],
   "source": [
    "w2v_model.build_vocab(words_in_sentences, progress_per=10000)"
   ],
   "metadata": {
    "collapsed": false,
    "ExecuteTime": {
     "end_time": "2024-02-06T17:27:32.872382100Z",
     "start_time": "2024-02-06T17:27:32.639078400Z"
    }
   },
   "id": "ebe7834b75300377"
  },
  {
   "cell_type": "code",
   "execution_count": 17,
   "outputs": [
    {
     "data": {
      "text/plain": "(4140001, 12907830)"
     },
     "execution_count": 17,
     "metadata": {},
     "output_type": "execute_result"
    }
   ],
   "source": [
    "w2v_model.train(words_in_sentences, total_examples=w2v_model.corpus_count, epochs=30, report_delay=1)"
   ],
   "metadata": {
    "collapsed": false,
    "ExecuteTime": {
     "end_time": "2024-02-06T17:27:38.852487Z",
     "start_time": "2024-02-06T17:27:34.514563100Z"
    }
   },
   "id": "33f9fd218b99bff5"
  },
  {
   "cell_type": "code",
   "execution_count": 18,
   "outputs": [
    {
     "name": "stdout",
     "output_type": "stream",
     "text": [
      "14876\n"
     ]
    }
   ],
   "source": [
    "vocab=list(w2v_model.wv.key_to_index.keys())\n",
    "print(len(vocab))"
   ],
   "metadata": {
    "collapsed": false,
    "ExecuteTime": {
     "end_time": "2024-02-06T17:27:38.899358300Z",
     "start_time": "2024-02-06T17:27:38.852487Z"
    }
   },
   "id": "64151109e69c1d1d"
  },
  {
   "cell_type": "code",
   "execution_count": 20,
   "outputs": [],
   "source": [
    "def avg_w2vec(sentences, labels):\n",
    "    \"\"\"\n",
    "    Average Word2Vec approach for creating a vector for a given sentence from the word embeddings of each words of the sentence.\n",
    "    \"\"\"\n",
    "\n",
    "    transformed=[]\n",
    "    lab = []\n",
    "    for sentence, label in zip(sentences,labels):\n",
    "        count=0\n",
    "        vector=np.zeros(300)\n",
    "        for word in sentence.split():\n",
    "            if word in vocab:\n",
    "                vector+=w2v_model.wv.get_vector(word)\n",
    "                count+=1\n",
    "        if count!=0:\n",
    "            vector/=count\n",
    "            transformed.append(vector)\n",
    "            lab.append(label)\n",
    "    return np.array(transformed), np.array(lab)"
   ],
   "metadata": {
    "collapsed": false,
    "ExecuteTime": {
     "end_time": "2024-02-06T17:27:51.336123Z",
     "start_time": "2024-02-06T17:27:51.320507400Z"
    }
   },
   "id": "d34d0cf270e7c01d"
  },
  {
   "cell_type": "code",
   "execution_count": 21,
   "outputs": [],
   "source": [
    "transformed_text, labels1= avg_w2vec(input_df[\"text\"], input_df[\"label\"])"
   ],
   "metadata": {
    "collapsed": false,
    "ExecuteTime": {
     "end_time": "2024-02-06T17:27:58.569215900Z",
     "start_time": "2024-02-06T17:27:54.919330300Z"
    }
   },
   "id": "5c80203272c60be7"
  },
  {
   "cell_type": "markdown",
   "source": [
    "# Model fitting"
   ],
   "metadata": {
    "collapsed": false
   },
   "id": "21a1947b6da6438"
  },
  {
   "cell_type": "code",
   "execution_count": 22,
   "outputs": [],
   "source": [
    "# train test split\n",
    "x_train,x_test, y_train, y_test = train_test_split(transformed_text, labels1, stratify=labels1, test_size=0.20)"
   ],
   "metadata": {
    "collapsed": false,
    "ExecuteTime": {
     "end_time": "2024-02-06T17:28:44.056883900Z",
     "start_time": "2024-02-06T17:28:43.994099400Z"
    }
   },
   "id": "cbd82fd9372f42fa"
  },
  {
   "cell_type": "code",
   "execution_count": 23,
   "outputs": [],
   "source": [
    "from sklearn.model_selection import GridSearchCV\n",
    "from sklearn.neighbors import KNeighborsClassifier\n",
    "from sklearn.metrics import f1_score\n",
    "# odd k for preventing ties\n",
    "grid_params = { 'n_neighbors' : [3, 5, 7, 9, 11],\n",
    "               'metric' : ['manhattan', 'minkowski', 'cosine']}"
   ],
   "metadata": {
    "collapsed": false,
    "ExecuteTime": {
     "end_time": "2024-02-06T17:28:51.723933Z",
     "start_time": "2024-02-06T17:28:51.584544800Z"
    }
   },
   "id": "92e9572bb83d5cf9"
  },
  {
   "cell_type": "code",
   "execution_count": 24,
   "outputs": [
    {
     "name": "stdout",
     "output_type": "stream",
     "text": [
      "Fitting 5 folds for each of 15 candidates, totalling 75 fits\n"
     ]
    },
    {
     "data": {
      "text/plain": "GridSearchCV(estimator=KNeighborsClassifier(), n_jobs=10,\n             param_grid={'metric': ['manhattan', 'minkowski', 'cosine'],\n                         'n_neighbors': [3, 5, 7, 9, 11]},\n             return_train_score=True, verbose=1)",
      "text/html": "<style>#sk-container-id-1 {color: black;}#sk-container-id-1 pre{padding: 0;}#sk-container-id-1 div.sk-toggleable {background-color: white;}#sk-container-id-1 label.sk-toggleable__label {cursor: pointer;display: block;width: 100%;margin-bottom: 0;padding: 0.3em;box-sizing: border-box;text-align: center;}#sk-container-id-1 label.sk-toggleable__label-arrow:before {content: \"▸\";float: left;margin-right: 0.25em;color: #696969;}#sk-container-id-1 label.sk-toggleable__label-arrow:hover:before {color: black;}#sk-container-id-1 div.sk-estimator:hover label.sk-toggleable__label-arrow:before {color: black;}#sk-container-id-1 div.sk-toggleable__content {max-height: 0;max-width: 0;overflow: hidden;text-align: left;background-color: #f0f8ff;}#sk-container-id-1 div.sk-toggleable__content pre {margin: 0.2em;color: black;border-radius: 0.25em;background-color: #f0f8ff;}#sk-container-id-1 input.sk-toggleable__control:checked~div.sk-toggleable__content {max-height: 200px;max-width: 100%;overflow: auto;}#sk-container-id-1 input.sk-toggleable__control:checked~label.sk-toggleable__label-arrow:before {content: \"▾\";}#sk-container-id-1 div.sk-estimator input.sk-toggleable__control:checked~label.sk-toggleable__label {background-color: #d4ebff;}#sk-container-id-1 div.sk-label input.sk-toggleable__control:checked~label.sk-toggleable__label {background-color: #d4ebff;}#sk-container-id-1 input.sk-hidden--visually {border: 0;clip: rect(1px 1px 1px 1px);clip: rect(1px, 1px, 1px, 1px);height: 1px;margin: -1px;overflow: hidden;padding: 0;position: absolute;width: 1px;}#sk-container-id-1 div.sk-estimator {font-family: monospace;background-color: #f0f8ff;border: 1px dotted black;border-radius: 0.25em;box-sizing: border-box;margin-bottom: 0.5em;}#sk-container-id-1 div.sk-estimator:hover {background-color: #d4ebff;}#sk-container-id-1 div.sk-parallel-item::after {content: \"\";width: 100%;border-bottom: 1px solid gray;flex-grow: 1;}#sk-container-id-1 div.sk-label:hover label.sk-toggleable__label {background-color: #d4ebff;}#sk-container-id-1 div.sk-serial::before {content: \"\";position: absolute;border-left: 1px solid gray;box-sizing: border-box;top: 0;bottom: 0;left: 50%;z-index: 0;}#sk-container-id-1 div.sk-serial {display: flex;flex-direction: column;align-items: center;background-color: white;padding-right: 0.2em;padding-left: 0.2em;position: relative;}#sk-container-id-1 div.sk-item {position: relative;z-index: 1;}#sk-container-id-1 div.sk-parallel {display: flex;align-items: stretch;justify-content: center;background-color: white;position: relative;}#sk-container-id-1 div.sk-item::before, #sk-container-id-1 div.sk-parallel-item::before {content: \"\";position: absolute;border-left: 1px solid gray;box-sizing: border-box;top: 0;bottom: 0;left: 50%;z-index: -1;}#sk-container-id-1 div.sk-parallel-item {display: flex;flex-direction: column;z-index: 1;position: relative;background-color: white;}#sk-container-id-1 div.sk-parallel-item:first-child::after {align-self: flex-end;width: 50%;}#sk-container-id-1 div.sk-parallel-item:last-child::after {align-self: flex-start;width: 50%;}#sk-container-id-1 div.sk-parallel-item:only-child::after {width: 0;}#sk-container-id-1 div.sk-dashed-wrapped {border: 1px dashed gray;margin: 0 0.4em 0.5em 0.4em;box-sizing: border-box;padding-bottom: 0.4em;background-color: white;}#sk-container-id-1 div.sk-label label {font-family: monospace;font-weight: bold;display: inline-block;line-height: 1.2em;}#sk-container-id-1 div.sk-label-container {text-align: center;}#sk-container-id-1 div.sk-container {/* jupyter's `normalize.less` sets `[hidden] { display: none; }` but bootstrap.min.css set `[hidden] { display: none !important; }` so we also need the `!important` here to be able to override the default hidden behavior on the sphinx rendered scikit-learn.org. See: https://github.com/scikit-learn/scikit-learn/issues/21755 */display: inline-block !important;position: relative;}#sk-container-id-1 div.sk-text-repr-fallback {display: none;}</style><div id=\"sk-container-id-1\" class=\"sk-top-container\"><div class=\"sk-text-repr-fallback\"><pre>GridSearchCV(estimator=KNeighborsClassifier(), n_jobs=10,\n             param_grid={&#x27;metric&#x27;: [&#x27;manhattan&#x27;, &#x27;minkowski&#x27;, &#x27;cosine&#x27;],\n                         &#x27;n_neighbors&#x27;: [3, 5, 7, 9, 11]},\n             return_train_score=True, verbose=1)</pre><b>In a Jupyter environment, please rerun this cell to show the HTML representation or trust the notebook. <br />On GitHub, the HTML representation is unable to render, please try loading this page with nbviewer.org.</b></div><div class=\"sk-container\" hidden><div class=\"sk-item sk-dashed-wrapped\"><div class=\"sk-label-container\"><div class=\"sk-label sk-toggleable\"><input class=\"sk-toggleable__control sk-hidden--visually\" id=\"sk-estimator-id-1\" type=\"checkbox\" ><label for=\"sk-estimator-id-1\" class=\"sk-toggleable__label sk-toggleable__label-arrow\">GridSearchCV</label><div class=\"sk-toggleable__content\"><pre>GridSearchCV(estimator=KNeighborsClassifier(), n_jobs=10,\n             param_grid={&#x27;metric&#x27;: [&#x27;manhattan&#x27;, &#x27;minkowski&#x27;, &#x27;cosine&#x27;],\n                         &#x27;n_neighbors&#x27;: [3, 5, 7, 9, 11]},\n             return_train_score=True, verbose=1)</pre></div></div></div><div class=\"sk-parallel\"><div class=\"sk-parallel-item\"><div class=\"sk-item\"><div class=\"sk-label-container\"><div class=\"sk-label sk-toggleable\"><input class=\"sk-toggleable__control sk-hidden--visually\" id=\"sk-estimator-id-2\" type=\"checkbox\" ><label for=\"sk-estimator-id-2\" class=\"sk-toggleable__label sk-toggleable__label-arrow\">estimator: KNeighborsClassifier</label><div class=\"sk-toggleable__content\"><pre>KNeighborsClassifier()</pre></div></div></div><div class=\"sk-serial\"><div class=\"sk-item\"><div class=\"sk-estimator sk-toggleable\"><input class=\"sk-toggleable__control sk-hidden--visually\" id=\"sk-estimator-id-3\" type=\"checkbox\" ><label for=\"sk-estimator-id-3\" class=\"sk-toggleable__label sk-toggleable__label-arrow\">KNeighborsClassifier</label><div class=\"sk-toggleable__content\"><pre>KNeighborsClassifier()</pre></div></div></div></div></div></div></div></div></div></div>"
     },
     "execution_count": 24,
     "metadata": {},
     "output_type": "execute_result"
    }
   ],
   "source": [
    "knn=KNeighborsClassifier()\n",
    "clf = GridSearchCV(knn, grid_params, n_jobs=10, verbose=1, return_train_score=True)\n",
    "clf.fit(x_train,y_train)"
   ],
   "metadata": {
    "collapsed": false,
    "ExecuteTime": {
     "end_time": "2024-02-06T17:48:54.895345400Z",
     "start_time": "2024-02-06T17:28:54.153638900Z"
    }
   },
   "id": "42f91cb92e309421"
  },
  {
   "cell_type": "code",
   "execution_count": 25,
   "outputs": [
    {
     "data": {
      "text/plain": "{'metric': 'cosine', 'n_neighbors': 7}"
     },
     "execution_count": 25,
     "metadata": {},
     "output_type": "execute_result"
    }
   ],
   "source": [
    "clf.best_params_"
   ],
   "metadata": {
    "collapsed": false,
    "ExecuteTime": {
     "end_time": "2024-02-06T17:48:54.921005400Z",
     "start_time": "2024-02-06T17:48:54.766417Z"
    }
   },
   "id": "22ac8d300690108a"
  },
  {
   "cell_type": "code",
   "execution_count": 26,
   "outputs": [
    {
     "data": {
      "text/plain": "{'mean_fit_time': array([0.19293261, 0.19024496, 0.0639946 , 0.06497965, 0.06504164,\n        0.06332169, 0.07365417, 0.07436996, 0.07329783, 0.07007031,\n        0.15179358, 0.08930178, 0.08009081, 0.08682323, 0.10861506]),\n 'std_fit_time': array([0.00265431, 0.00667526, 0.00381123, 0.00817798, 0.00208079,\n        0.0029519 , 0.0044831 , 0.00956737, 0.00457556, 0.00343788,\n        0.12615922, 0.0252262 , 0.00769914, 0.01660405, 0.00994616]),\n 'mean_score_time': array([ 64.88391042,  64.97203751,  63.11297612,  63.10297399,\n         71.18537126,   5.5888885 ,   6.66339488,   7.29857755,\n          6.27420778,   6.32851691,  21.24447021,  11.03520265,\n         10.68030238,  10.70366445, 144.8714438 ]),\n 'std_score_time': array([ 0.11256862,  0.32677736,  0.07920566,  0.07561445,  0.03264897,\n         0.12938745,  0.05780256,  0.10485808,  0.02108775,  0.13369466,\n         1.79594139,  0.36694401,  0.11217333,  0.13313172, 19.05188118]),\n 'param_metric': masked_array(data=['manhattan', 'manhattan', 'manhattan', 'manhattan',\n                    'manhattan', 'minkowski', 'minkowski', 'minkowski',\n                    'minkowski', 'minkowski', 'cosine', 'cosine', 'cosine',\n                    'cosine', 'cosine'],\n              mask=[False, False, False, False, False, False, False, False,\n                    False, False, False, False, False, False, False],\n        fill_value='?',\n             dtype=object),\n 'param_n_neighbors': masked_array(data=[3, 5, 7, 9, 11, 3, 5, 7, 9, 11, 3, 5, 7, 9, 11],\n              mask=[False, False, False, False, False, False, False, False,\n                    False, False, False, False, False, False, False],\n        fill_value='?',\n             dtype=object),\n 'params': [{'metric': 'manhattan', 'n_neighbors': 3},\n  {'metric': 'manhattan', 'n_neighbors': 5},\n  {'metric': 'manhattan', 'n_neighbors': 7},\n  {'metric': 'manhattan', 'n_neighbors': 9},\n  {'metric': 'manhattan', 'n_neighbors': 11},\n  {'metric': 'minkowski', 'n_neighbors': 3},\n  {'metric': 'minkowski', 'n_neighbors': 5},\n  {'metric': 'minkowski', 'n_neighbors': 7},\n  {'metric': 'minkowski', 'n_neighbors': 9},\n  {'metric': 'minkowski', 'n_neighbors': 11},\n  {'metric': 'cosine', 'n_neighbors': 3},\n  {'metric': 'cosine', 'n_neighbors': 5},\n  {'metric': 'cosine', 'n_neighbors': 7},\n  {'metric': 'cosine', 'n_neighbors': 9},\n  {'metric': 'cosine', 'n_neighbors': 11}],\n 'split0_test_score': array([0.86243568, 0.86552316, 0.86643796, 0.86666667, 0.86575186,\n        0.86506575, 0.86849628, 0.86826758, 0.87066895, 0.86918239,\n        0.86266438, 0.86781018, 0.87146941, 0.86952544, 0.86838193]),\n 'split1_test_score': array([0.87146941, 0.87558605, 0.8757004 , 0.87295597, 0.87307033,\n        0.8707833 , 0.87901658, 0.87695826, 0.8757004 , 0.87467124,\n        0.86975415, 0.87695826, 0.87810177, 0.87444254, 0.87455689]),\n 'split2_test_score': array([0.87419945, 0.87454254, 0.87648673, 0.87477127, 0.87282708,\n        0.8794602 , 0.87648673, 0.8766011 , 0.87454254, 0.87465691,\n        0.87454254, 0.88083257, 0.87808783, 0.87671546, 0.87305581]),\n 'split3_test_score': array([0.8689387 , 0.87202653, 0.87294145, 0.87351327, 0.87111162,\n        0.87580055, 0.87454254, 0.87442818, 0.87317017, 0.87282708,\n        0.86848124, 0.86882434, 0.87522873, 0.87019671, 0.86836688]),\n 'split4_test_score': array([0.8616194 , 0.86870997, 0.86848124, 0.86699451, 0.86573651,\n        0.86699451, 0.86916743, 0.86802379, 0.86825252, 0.86813815,\n        0.86390668, 0.87168344, 0.87202653, 0.87328454, 0.86951052]),\n 'mean_test_score': array([0.86773253, 0.87127765, 0.87200956, 0.87098034, 0.86969948,\n        0.87162086, 0.87354191, 0.87285578, 0.87246692, 0.87189515,\n        0.8678698 , 0.87322176, 0.87498286, 0.87283294, 0.87077441]),\n 'std_test_score': array([0.00495313, 0.003728  , 0.00395038, 0.00344048, 0.00329932,\n        0.00536655, 0.00410462, 0.00394284, 0.00269266, 0.00274505,\n        0.00427207, 0.00495732, 0.00284651, 0.00267425, 0.00255458]),\n 'rank_test_score': array([15, 10,  7, 11, 13,  9,  2,  4,  6,  8, 14,  3,  1,  5, 12]),\n 'split0_train_score': array([0.9097121 , 0.89673214, 0.88932727, 0.88669697, 0.88329474,\n        0.91274266, 0.89953398, 0.89198616, 0.89029934, 0.88612517,\n        0.91019813, 0.90270749, 0.8945021 , 0.89087114, 0.88618235]),\n 'split1_train_score': array([0.90982646, 0.89744689, 0.89038511, 0.88535323, 0.88072162,\n        0.90945478, 0.90170684, 0.89201475, 0.88769763, 0.88423821,\n        0.91014095, 0.89839037, 0.89029934, 0.88549618, 0.88400949]),\n 'split2_train_score': array([0.91031506, 0.89782149, 0.89141746, 0.8859283 , 0.8816113 ,\n        0.91471782, 0.89899365, 0.89058837, 0.88664303, 0.88206873,\n        0.90942878, 0.90145234, 0.89096003, 0.88612842, 0.88278346]),\n 'split3_train_score': array([0.90899994, 0.8964492 , 0.89021671, 0.88521356, 0.88152553,\n        0.91363143, 0.89816456, 0.89064555, 0.88664303, 0.88226885,\n        0.90897135, 0.89596318, 0.89161759, 0.88512779, 0.88184001]),\n 'split4_train_score': array([0.91034364, 0.89676368, 0.89110298, 0.88555664, 0.88169707,\n        0.91546115, 0.89713534, 0.89147464, 0.88635714, 0.88658585,\n        0.91011493, 0.90028018, 0.89247527, 0.88904454, 0.88575676]),\n 'mean_train_score': array([0.90983944, 0.89704268, 0.89048991, 0.88574974, 0.88177005,\n        0.91320157, 0.89910687, 0.89134189, 0.88752803, 0.88425736,\n        0.90977083, 0.89975871, 0.89197087, 0.88733362, 0.88411442]),\n 'std_train_score': array([0.00049022, 0.0005092 , 0.00073124, 0.00053125, 0.00083836,\n        0.0020899 , 0.00153166, 0.0006226 , 0.0014592 , 0.00187911,\n        0.0004887 , 0.00237125, 0.00145617, 0.00224213, 0.00166907])}"
     },
     "execution_count": 26,
     "metadata": {},
     "output_type": "execute_result"
    }
   ],
   "source": [
    "clf.cv_results_ "
   ],
   "metadata": {
    "collapsed": false,
    "ExecuteTime": {
     "end_time": "2024-02-06T17:48:54.922079600Z",
     "start_time": "2024-02-06T17:48:54.784151Z"
    }
   },
   "id": "d425f55bdb5dc91"
  },
  {
   "cell_type": "code",
   "execution_count": 43,
   "outputs": [],
   "source": [
    "result_df = pd.concat([pd.DataFrame(clf.cv_results_[\"params\"]),\n",
    "                       pd.DataFrame(clf.cv_results_[\"mean_test_score\"], columns=[\"mean_test_acc\"]),\n",
    "                       pd.DataFrame(clf.cv_results_[\"mean_train_score\"], columns=[\"mean_train_acc\"]),\n",
    "                       pd.DataFrame(clf.cv_results_[\"std_train_score\"], columns=[\"std_train_acc\"]),\n",
    "                       pd.DataFrame(clf.cv_results_[\"std_test_score\"], columns=[\"std_test_acc\"])], axis=1)"
   ],
   "metadata": {
    "collapsed": false,
    "ExecuteTime": {
     "end_time": "2024-02-06T17:51:18.404872300Z",
     "start_time": "2024-02-06T17:51:18.392798500Z"
    }
   },
   "id": "536826c34d7a236"
  },
  {
   "cell_type": "code",
   "execution_count": 44,
   "outputs": [],
   "source": [
    "result_df.to_csv(\"knn-results.csv\")"
   ],
   "metadata": {
    "collapsed": false,
    "ExecuteTime": {
     "end_time": "2024-02-06T17:51:24.055422100Z",
     "start_time": "2024-02-06T17:51:24.040057400Z"
    }
   },
   "id": "f479524d3aa5fce6"
  },
  {
   "cell_type": "code",
   "execution_count": 29,
   "outputs": [
    {
     "data": {
      "text/plain": "KNeighborsClassifier(metric='cosine', n_neighbors=7)",
      "text/html": "<style>#sk-container-id-2 {color: black;}#sk-container-id-2 pre{padding: 0;}#sk-container-id-2 div.sk-toggleable {background-color: white;}#sk-container-id-2 label.sk-toggleable__label {cursor: pointer;display: block;width: 100%;margin-bottom: 0;padding: 0.3em;box-sizing: border-box;text-align: center;}#sk-container-id-2 label.sk-toggleable__label-arrow:before {content: \"▸\";float: left;margin-right: 0.25em;color: #696969;}#sk-container-id-2 label.sk-toggleable__label-arrow:hover:before {color: black;}#sk-container-id-2 div.sk-estimator:hover label.sk-toggleable__label-arrow:before {color: black;}#sk-container-id-2 div.sk-toggleable__content {max-height: 0;max-width: 0;overflow: hidden;text-align: left;background-color: #f0f8ff;}#sk-container-id-2 div.sk-toggleable__content pre {margin: 0.2em;color: black;border-radius: 0.25em;background-color: #f0f8ff;}#sk-container-id-2 input.sk-toggleable__control:checked~div.sk-toggleable__content {max-height: 200px;max-width: 100%;overflow: auto;}#sk-container-id-2 input.sk-toggleable__control:checked~label.sk-toggleable__label-arrow:before {content: \"▾\";}#sk-container-id-2 div.sk-estimator input.sk-toggleable__control:checked~label.sk-toggleable__label {background-color: #d4ebff;}#sk-container-id-2 div.sk-label input.sk-toggleable__control:checked~label.sk-toggleable__label {background-color: #d4ebff;}#sk-container-id-2 input.sk-hidden--visually {border: 0;clip: rect(1px 1px 1px 1px);clip: rect(1px, 1px, 1px, 1px);height: 1px;margin: -1px;overflow: hidden;padding: 0;position: absolute;width: 1px;}#sk-container-id-2 div.sk-estimator {font-family: monospace;background-color: #f0f8ff;border: 1px dotted black;border-radius: 0.25em;box-sizing: border-box;margin-bottom: 0.5em;}#sk-container-id-2 div.sk-estimator:hover {background-color: #d4ebff;}#sk-container-id-2 div.sk-parallel-item::after {content: \"\";width: 100%;border-bottom: 1px solid gray;flex-grow: 1;}#sk-container-id-2 div.sk-label:hover label.sk-toggleable__label {background-color: #d4ebff;}#sk-container-id-2 div.sk-serial::before {content: \"\";position: absolute;border-left: 1px solid gray;box-sizing: border-box;top: 0;bottom: 0;left: 50%;z-index: 0;}#sk-container-id-2 div.sk-serial {display: flex;flex-direction: column;align-items: center;background-color: white;padding-right: 0.2em;padding-left: 0.2em;position: relative;}#sk-container-id-2 div.sk-item {position: relative;z-index: 1;}#sk-container-id-2 div.sk-parallel {display: flex;align-items: stretch;justify-content: center;background-color: white;position: relative;}#sk-container-id-2 div.sk-item::before, #sk-container-id-2 div.sk-parallel-item::before {content: \"\";position: absolute;border-left: 1px solid gray;box-sizing: border-box;top: 0;bottom: 0;left: 50%;z-index: -1;}#sk-container-id-2 div.sk-parallel-item {display: flex;flex-direction: column;z-index: 1;position: relative;background-color: white;}#sk-container-id-2 div.sk-parallel-item:first-child::after {align-self: flex-end;width: 50%;}#sk-container-id-2 div.sk-parallel-item:last-child::after {align-self: flex-start;width: 50%;}#sk-container-id-2 div.sk-parallel-item:only-child::after {width: 0;}#sk-container-id-2 div.sk-dashed-wrapped {border: 1px dashed gray;margin: 0 0.4em 0.5em 0.4em;box-sizing: border-box;padding-bottom: 0.4em;background-color: white;}#sk-container-id-2 div.sk-label label {font-family: monospace;font-weight: bold;display: inline-block;line-height: 1.2em;}#sk-container-id-2 div.sk-label-container {text-align: center;}#sk-container-id-2 div.sk-container {/* jupyter's `normalize.less` sets `[hidden] { display: none; }` but bootstrap.min.css set `[hidden] { display: none !important; }` so we also need the `!important` here to be able to override the default hidden behavior on the sphinx rendered scikit-learn.org. See: https://github.com/scikit-learn/scikit-learn/issues/21755 */display: inline-block !important;position: relative;}#sk-container-id-2 div.sk-text-repr-fallback {display: none;}</style><div id=\"sk-container-id-2\" class=\"sk-top-container\"><div class=\"sk-text-repr-fallback\"><pre>KNeighborsClassifier(metric=&#x27;cosine&#x27;, n_neighbors=7)</pre><b>In a Jupyter environment, please rerun this cell to show the HTML representation or trust the notebook. <br />On GitHub, the HTML representation is unable to render, please try loading this page with nbviewer.org.</b></div><div class=\"sk-container\" hidden><div class=\"sk-item\"><div class=\"sk-estimator sk-toggleable\"><input class=\"sk-toggleable__control sk-hidden--visually\" id=\"sk-estimator-id-4\" type=\"checkbox\" checked><label for=\"sk-estimator-id-4\" class=\"sk-toggleable__label sk-toggleable__label-arrow\">KNeighborsClassifier</label><div class=\"sk-toggleable__content\"><pre>KNeighborsClassifier(metric=&#x27;cosine&#x27;, n_neighbors=7)</pre></div></div></div></div></div>"
     },
     "execution_count": 29,
     "metadata": {},
     "output_type": "execute_result"
    }
   ],
   "source": [
    "knn = KNeighborsClassifier(n_neighbors=clf.best_params_['n_neighbors'], metric=clf.best_params_['metric'])\n",
    "knn.fit(x_train, y_train)"
   ],
   "metadata": {
    "collapsed": false,
    "ExecuteTime": {
     "end_time": "2024-02-06T17:48:55.665528700Z",
     "start_time": "2024-02-06T17:48:54.868460Z"
    }
   },
   "id": "66d1a2601dd40125"
  },
  {
   "cell_type": "code",
   "execution_count": 30,
   "outputs": [],
   "source": [
    "knnPickle = open('knn_pickle', 'wb')\n",
    "pickle.dump(knn, knnPickle)\n",
    "knnPickle.close()"
   ],
   "metadata": {
    "collapsed": false,
    "ExecuteTime": {
     "end_time": "2024-02-06T17:48:55.713791700Z",
     "start_time": "2024-02-06T17:48:54.916415100Z"
    }
   },
   "id": "b18307b96d728265"
  },
  {
   "cell_type": "markdown",
   "source": [
    "# Training plots"
   ],
   "metadata": {
    "collapsed": false
   },
   "id": "eda9d0a59dfd2867"
  },
  {
   "cell_type": "code",
   "execution_count": 31,
   "outputs": [
    {
     "data": {
      "text/plain": "<Figure size 640x480 with 1 Axes>",
      "image/png": "[encoded data removed]"
     },
     "metadata": {},
     "output_type": "display_data"
    }
   ],
   "source": [
    "import matplotlib.pyplot as plt\n",
    "\n",
    "cols = ['red', 'orange', 'green']\n",
    "for metric, col in zip(grid_params['metric'], cols):\n",
    "    plt.plot(result_df[result_df.metric == metric].n_neighbors, result_df[result_df.metric == metric].mean_test_acc, color=col, label=metric)\n",
    "\n",
    "plt.xlabel(\"# neighbours\")\n",
    "plt.ylabel(\"CV Test accuracy\")\n",
    "plt.xticks(grid_params['n_neighbors'])\n",
    "plt.legend()\n",
    "plt.show()"
   ],
   "metadata": {
    "collapsed": false,
    "ExecuteTime": {
     "end_time": "2024-02-06T17:48:55.715024900Z",
     "start_time": "2024-02-06T17:48:55.027071500Z"
    }
   },
   "id": "871bdd09fbc460b8"
  },
  {
   "cell_type": "code",
   "execution_count": 32,
   "outputs": [
    {
     "data": {
      "text/plain": "<Figure size 640x480 with 1 Axes>",
      "image/png": "[encoded data removed]"
     },
     "metadata": {},
     "output_type": "display_data"
    }
   ],
   "source": [
    "for metric, col in zip(grid_params['metric'], cols):\n",
    "    plt.plot(result_df[result_df.metric == metric].n_neighbors, result_df[result_df.metric == metric].mean_train_acc, color=col, label=metric)\n",
    "    # plt.fill_between(result_df[result_df.metric == metric].n_neighbors, result_df[result_df.metric == metric].mean_train_acc - result_df[result_df.metric == metric].std_train_acc,result_df[result_df.metric == metric].mean_train_acc + result_df[result_df.metric == metric].std_train_acc)\n",
    "\n",
    "plt.xlabel(\"# neighbours\")\n",
    "plt.ylabel(\"CV Test accuracy\")\n",
    "plt.xticks(grid_params['n_neighbors'])\n",
    "plt.legend()\n",
    "plt.show()"
   ],
   "metadata": {
    "collapsed": false,
    "ExecuteTime": {
     "end_time": "2024-02-06T17:48:55.716477600Z",
     "start_time": "2024-02-06T17:48:55.244001Z"
    }
   },
   "id": "c2ccc480335ddcff"
  },
  {
   "cell_type": "markdown",
   "source": [
    "# Evaluation"
   ],
   "metadata": {
    "collapsed": false
   },
   "id": "6012cc004296ae46"
  },
  {
   "cell_type": "code",
   "execution_count": 45,
   "outputs": [],
   "source": [
    "from sklearn.metrics import accuracy_score, confusion_matrix, ConfusionMatrixDisplay\n",
    "import matplotlib.pyplot as plt"
   ],
   "metadata": {
    "collapsed": false,
    "ExecuteTime": {
     "end_time": "2024-02-06T17:52:20.554812400Z",
     "start_time": "2024-02-06T17:52:20.541824800Z"
    }
   },
   "id": "a854c71fec50a024"
  },
  {
   "cell_type": "code",
   "execution_count": 46,
   "outputs": [],
   "source": [
    "loaded_model = pickle.load(open('knn_pickle', 'rb'))"
   ],
   "metadata": {
    "collapsed": false,
    "ExecuteTime": {
     "end_time": "2024-02-06T17:52:22.089805700Z",
     "start_time": "2024-02-06T17:52:22.046320700Z"
    }
   },
   "id": "6d2bf3eb9dde9d9f"
  },
  {
   "cell_type": "code",
   "execution_count": 47,
   "outputs": [],
   "source": [
    "result = loaded_model.predict(x_test)"
   ],
   "metadata": {
    "collapsed": false,
    "ExecuteTime": {
     "end_time": "2024-02-06T17:52:30.377013900Z",
     "start_time": "2024-02-06T17:52:23.562616400Z"
    }
   },
   "id": "975419eb7ef4ab11"
  },
  {
   "cell_type": "code",
   "execution_count": 48,
   "outputs": [
    {
     "data": {
      "text/plain": "10931"
     },
     "execution_count": 48,
     "metadata": {},
     "output_type": "execute_result"
    }
   ],
   "source": [
    "len(x_test)"
   ],
   "metadata": {
    "collapsed": false,
    "ExecuteTime": {
     "end_time": "2024-02-06T17:52:31.686641Z",
     "start_time": "2024-02-06T17:52:31.661038700Z"
    }
   },
   "id": "98fc122bcf48b62c"
  },
  {
   "cell_type": "code",
   "execution_count": 49,
   "outputs": [
    {
     "data": {
      "text/plain": "10931"
     },
     "execution_count": 49,
     "metadata": {},
     "output_type": "execute_result"
    }
   ],
   "source": [
    "len(y_test)"
   ],
   "metadata": {
    "collapsed": false,
    "ExecuteTime": {
     "end_time": "2024-02-06T17:52:32.997029200Z",
     "start_time": "2024-02-06T17:52:32.985211Z"
    }
   },
   "id": "1260369abf089f03"
  },
  {
   "cell_type": "code",
   "execution_count": 50,
   "outputs": [
    {
     "name": "stdout",
     "output_type": "stream",
     "text": [
      "0.8718324032567926\n"
     ]
    }
   ],
   "source": [
    "print(accuracy_score(y_test, result))"
   ],
   "metadata": {
    "collapsed": false,
    "ExecuteTime": {
     "end_time": "2024-02-06T17:52:35.431258600Z",
     "start_time": "2024-02-06T17:52:35.408904100Z"
    }
   },
   "id": "e596119838ba02f8"
  },
  {
   "cell_type": "code",
   "execution_count": 51,
   "outputs": [
    {
     "data": {
      "text/plain": "<Figure size 640x480 with 2 Axes>",
      "image/png": "[encoded data removed]"
     },
     "metadata": {},
     "output_type": "display_data"
    }
   ],
   "source": [
    "cm = confusion_matrix(y_test, result, normalize='true')\n",
    "tn, fp, fn, tp = cm.ravel()\n",
    "ConfusionMatrixDisplay.from_estimator(loaded_model, x_test,y_test, normalize=\"true\", cmap=plt.cm.Blues)\n",
    "plt.grid(False)\n",
    "plt.show()"
   ],
   "metadata": {
    "collapsed": false,
    "ExecuteTime": {
     "end_time": "2024-02-06T17:52:43.980875200Z",
     "start_time": "2024-02-06T17:52:36.978194100Z"
    }
   },
   "id": "c42f73e1e9f824a3"
  },
  {
   "cell_type": "code",
   "execution_count": 52,
   "outputs": [
    {
     "name": "stdout",
     "output_type": "stream",
     "text": [
      "0.934391665633139 0.30404463040446306 0.6959553695955369 0.06560833436686098\n"
     ]
    }
   ],
   "source": [
    "print(tn, fn, tp, fp)"
   ],
   "metadata": {
    "collapsed": false,
    "ExecuteTime": {
     "end_time": "2024-02-06T17:52:44.031905400Z",
     "start_time": "2024-02-06T17:52:43.982874600Z"
    }
   },
   "id": "c879e16708ace5e9"
  },
  {
   "cell_type": "code",
   "execution_count": 53,
   "outputs": [
    {
     "name": "stdout",
     "output_type": "stream",
     "text": [
      "0.9138504973050812\n",
      "0.6959553695955369\n",
      "0.7901563457853724\n"
     ]
    }
   ],
   "source": [
    "precision = tp / (tp + fp)\n",
    "recall = tp / (tp + fn)\n",
    "f1 = (2 * precision * recall)/ (precision+recall)\n",
    "print(precision) \n",
    "print(recall)\n",
    "print(f1)"
   ],
   "metadata": {
    "collapsed": false,
    "ExecuteTime": {
     "end_time": "2024-02-06T17:52:44.031905400Z",
     "start_time": "2024-02-06T17:52:43.998018500Z"
    }
   },
   "id": "7738ca39874fc679"
  },
  {
   "cell_type": "markdown",
   "source": [
    "# Classification on other sentences"
   ],
   "metadata": {
    "collapsed": false
   },
   "id": "f95705397adad959"
  },
  {
   "cell_type": "code",
   "execution_count": 57,
   "outputs": [
    {
     "name": "stdout",
     "output_type": "stream",
     "text": [
      "[1 1 0]\n"
     ]
    }
   ],
   "source": [
    "# Sentence from prompt engineering\n",
    "inputs1 = \"Uh, see, um, blue car. Fast, uh, on road.\"\n",
    "\n",
    "# Sentence from (ongoing) linguistic model\n",
    "inputs2= \"oh I want ah er apple ah\"\n",
    "\n",
    "# Sentence from C4\n",
    "inputs3= \"Embrace world class facilities at East Bourne Resort & Spa Shimla\"\n",
    "\n",
    "input = [inputs1, inputs2, inputs3]\n",
    "label = [1, 1, 0]\n",
    "transformed_text, labels = avg_w2vec(input, label)\n",
    "\n",
    "print(loaded_model.predict(transformed_text))"
   ],
   "metadata": {
    "collapsed": false,
    "ExecuteTime": {
     "end_time": "2024-02-06T17:54:11.279080300Z",
     "start_time": "2024-02-06T17:54:11.190375200Z"
    }
   },
   "id": "34384371cb078bb9"
  }
 ],
 "metadata": {
  "kernelspec": {
   "display_name": "Python 3",
   "language": "python",
   "name": "python3"
  },
  "language_info": {
   "codemirror_mode": {
    "name": "ipython",
    "version": 2
   },
   "file_extension": ".py",
   "mimetype": "text/x-python",
   "name": "python",
   "nbconvert_exporter": "python",
   "pygments_lexer": "ipython2",
   "version": "2.7.6"
  }
 },
 "nbformat": 4,
 "nbformat_minor": 5
}
