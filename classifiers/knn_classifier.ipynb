{
 "cells": [
  {
   "cell_type": "code",
   "execution_count": 1,
   "id": "initial_id",
   "metadata": {
    "collapsed": true,
    "ExecuteTime": {
     "end_time": "2024-02-08T14:26:07.002037300Z",
     "start_time": "2024-02-08T14:26:06.629147700Z"
    }
   },
   "outputs": [],
   "source": [
    "import re\n",
    "import pandas as pd \n",
    "import seaborn as sns\n",
    "from sklearn.model_selection import train_test_split\n",
    "import numpy as np\n",
    "import pickle\n",
    "from sklearn.neighbors import KNeighborsClassifier"
   ]
  },
  {
   "cell_type": "markdown",
   "source": [
    "# Get data"
   ],
   "metadata": {
    "collapsed": false
   },
   "id": "49ab3d0600afd44b"
  },
  {
   "cell_type": "code",
   "execution_count": 2,
   "outputs": [],
   "source": [
    "# dataset_filename = \"all_sentences_processed.csv\"\n",
    "# df = pd.read_csv(dataset_filename, encoding='utf8', index_col=False).drop(['Unnamed: 0.1', 'Unnamed: 0'], axis=1)\n",
    "\n",
    "dataset_filename = \"input.csv\"\n",
    "df = pd.read_csv(dataset_filename, encoding='utf8', index_col=False).drop('Unnamed: 0', axis=1)"
   ],
   "metadata": {
    "collapsed": false,
    "ExecuteTime": {
     "end_time": "2024-02-08T14:26:07.052463600Z",
     "start_time": "2024-02-08T14:26:06.989548100Z"
    }
   },
   "id": "4ebd68e620e956d8"
  },
  {
   "cell_type": "code",
   "execution_count": 3,
   "outputs": [
    {
     "data": {
      "text/plain": "text           0\nlabel          0\nsource_file    0\nscenario       0\ndtype: int64"
     },
     "execution_count": 3,
     "metadata": {},
     "output_type": "execute_result"
    }
   ],
   "source": [
    "# no null values \n",
    "df.isnull().sum()"
   ],
   "metadata": {
    "collapsed": false,
    "ExecuteTime": {
     "end_time": "2024-02-08T14:26:07.068081700Z",
     "start_time": "2024-02-08T14:26:07.052463600Z"
    }
   },
   "id": "a27cf5c6cce7959d"
  },
  {
   "cell_type": "code",
   "execution_count": 4,
   "outputs": [
    {
     "data": {
      "text/plain": "<Axes: xlabel='label', ylabel='count'>"
     },
     "execution_count": 4,
     "metadata": {},
     "output_type": "execute_result"
    },
    {
     "data": {
      "text/plain": "<Figure size 640x480 with 1 Axes>",
      "image/png": "[encoded data removed]"
     },
     "metadata": {},
     "output_type": "display_data"
    }
   ],
   "source": [
    "# A bit unbalanced\n",
    "sns.countplot(x=\"label\",data=df)"
   ],
   "metadata": {
    "collapsed": false,
    "ExecuteTime": {
     "end_time": "2024-02-08T14:26:07.199991600Z",
     "start_time": "2024-02-08T14:26:07.073307600Z"
    }
   },
   "id": "10ae02f3bcd3ae58"
  },
  {
   "cell_type": "markdown",
   "source": [
    "# EXTRA PREPROCESSING"
   ],
   "metadata": {
    "collapsed": false
   },
   "id": "cbfc176320151f85"
  },
  {
   "cell_type": "code",
   "execution_count": 5,
   "outputs": [],
   "source": [
    "# # 1:1 ratio\n",
    "# df1 = df[df.label==0].sample(n=len(df[df.label==1])).reset_index(drop=True)\n",
    "# df2 = df[df.label==1]\n",
    "# df = pd.concat([df1, df2], ignore_index=True)\n",
    "# sns.countplot(x=\"label\",data=df)"
   ],
   "metadata": {
    "collapsed": false,
    "ExecuteTime": {
     "end_time": "2024-02-08T14:26:07.215262Z",
     "start_time": "2024-02-08T14:26:07.184007700Z"
    }
   },
   "id": "60d9cbb8aeea4d94"
  },
  {
   "cell_type": "code",
   "execution_count": 6,
   "outputs": [],
   "source": [
    "# input_df = pd.DataFrame({\"text\": list(df['preprocessed_text']), \"label\": list(df['label']), \"source_file\": list(df[\"source_file\"]), \"scenario\": list(df[\"scenario\"])})"
   ],
   "metadata": {
    "collapsed": false,
    "ExecuteTime": {
     "end_time": "2024-02-08T14:26:07.250446700Z",
     "start_time": "2024-02-08T14:26:07.199991600Z"
    }
   },
   "id": "7d99dccf2991efa6"
  },
  {
   "cell_type": "code",
   "execution_count": 7,
   "outputs": [],
   "source": [
    "# remove trailing whitespaces and lowercase, remove commas with space before them\n",
    "# input_df['text'] = [x.lstrip().rstrip().lower().replace(\"[]\", \"\").replace(\"]\", \"\") for x in input_df['text']]\n",
    "\n",
    "# input_df['text'] = [re.sub(' +|\\t', ' ', x) for x in input_df['text']]\n",
    "\n",
    "# input_df['text'] = [re.sub(' ,', '', x) for x in input_df['text']]"
   ],
   "metadata": {
    "collapsed": false,
    "ExecuteTime": {
     "end_time": "2024-02-08T14:26:07.250446700Z",
     "start_time": "2024-02-08T14:26:07.223780300Z"
    }
   },
   "id": "70c12240dd983f77"
  },
  {
   "cell_type": "code",
   "execution_count": 8,
   "outputs": [],
   "source": [
    "# input_df    "
   ],
   "metadata": {
    "collapsed": false,
    "ExecuteTime": {
     "end_time": "2024-02-08T14:26:07.250446700Z",
     "start_time": "2024-02-08T14:26:07.231141Z"
    }
   },
   "id": "dd910b88b5b08be"
  },
  {
   "cell_type": "code",
   "execution_count": 9,
   "outputs": [],
   "source": [
    "# input_df.to_csv(\"input.csv\")"
   ],
   "metadata": {
    "collapsed": false,
    "ExecuteTime": {
     "end_time": "2024-02-08T14:26:07.267893900Z",
     "start_time": "2024-02-08T14:26:07.246777600Z"
    }
   },
   "id": "22a34c8c09785016"
  },
  {
   "cell_type": "code",
   "execution_count": 10,
   "outputs": [],
   "source": [
    "input_df = df"
   ],
   "metadata": {
    "collapsed": false,
    "ExecuteTime": {
     "end_time": "2024-02-08T14:26:07.300536Z",
     "start_time": "2024-02-08T14:26:07.262483400Z"
    }
   },
   "id": "280ea3fd39410280"
  },
  {
   "cell_type": "markdown",
   "source": [
    "# Encoding # 1"
   ],
   "metadata": {
    "collapsed": false
   },
   "id": "a8abeef2ea96a7e5"
  },
  {
   "cell_type": "code",
   "execution_count": 11,
   "outputs": [],
   "source": [
    "import multiprocessing\n",
    "from gensim.models import Word2Vec"
   ],
   "metadata": {
    "collapsed": false,
    "ExecuteTime": {
     "end_time": "2024-02-08T14:26:07.468015400Z",
     "start_time": "2024-02-08T14:26:07.281183800Z"
    }
   },
   "id": "5e152030dcfd17ac"
  },
  {
   "cell_type": "code",
   "execution_count": 12,
   "outputs": [
    {
     "data": {
      "text/plain": "16"
     },
     "execution_count": 12,
     "metadata": {},
     "output_type": "execute_result"
    }
   ],
   "source": [
    "cores = multiprocessing.cpu_count()\n",
    "cores"
   ],
   "metadata": {
    "collapsed": false,
    "ExecuteTime": {
     "end_time": "2024-02-08T14:26:07.483662600Z",
     "start_time": "2024-02-08T14:26:07.468015400Z"
    }
   },
   "id": "f1da9a7e1b0c5550"
  },
  {
   "cell_type": "code",
   "execution_count": 13,
   "outputs": [
    {
     "data": {
      "text/plain": "['how', 'i', 'feel', 'with', 'my', 'speech.']"
     },
     "execution_count": 13,
     "metadata": {},
     "output_type": "execute_result"
    }
   ],
   "source": [
    "# words_in_sentences=[]\n",
    "# for i in input_df[\"text\"]:\n",
    "#     words_in_sentences.append(i.lower().split())\n",
    "# words_in_sentences[0]"
   ],
   "metadata": {
    "collapsed": false,
    "ExecuteTime": {
     "end_time": "2024-02-08T14:26:07.640789400Z",
     "start_time": "2024-02-08T14:26:07.483662600Z"
    }
   },
   "id": "6398f265e7a92f27"
  },
  {
   "cell_type": "code",
   "execution_count": 14,
   "outputs": [
    {
     "data": {
      "text/plain": "text           how i feel with my speech.\nlabel                                   1\nsource_file                kurland24a.cha\nscenario                           Speech\nName: 0, dtype: object"
     },
     "execution_count": 14,
     "metadata": {},
     "output_type": "execute_result"
    }
   ],
   "source": [
    "# input_df.iloc[0]"
   ],
   "metadata": {
    "collapsed": false,
    "ExecuteTime": {
     "end_time": "2024-02-08T14:26:07.672040Z",
     "start_time": "2024-02-08T14:26:07.640789400Z"
    }
   },
   "id": "a6c8600906fb3119"
  },
  {
   "cell_type": "code",
   "execution_count": 15,
   "outputs": [],
   "source": [
    "# w2v_model = Word2Vec(min_count=1,\n",
    "#                      window=2,\n",
    "#                      vector_size = 300,\n",
    "#                      sample=6e-5, \n",
    "#                      alpha=0.03, \n",
    "#                      min_alpha=0.0007, \n",
    "#                      negative=20,\n",
    "#                      workers=cores-1)"
   ],
   "metadata": {
    "collapsed": false,
    "ExecuteTime": {
     "end_time": "2024-02-08T14:26:07.703935600Z",
     "start_time": "2024-02-08T14:26:07.656393300Z"
    }
   },
   "id": "123e5343341c7e6"
  },
  {
   "cell_type": "code",
   "execution_count": 16,
   "outputs": [],
   "source": [
    "# w2v_model.build_vocab(words_in_sentences, progress_per=10000)"
   ],
   "metadata": {
    "collapsed": false,
    "ExecuteTime": {
     "end_time": "2024-02-08T14:26:07.908060500Z",
     "start_time": "2024-02-08T14:26:07.798671500Z"
    }
   },
   "id": "ebe7834b75300377"
  },
  {
   "cell_type": "code",
   "execution_count": 17,
   "outputs": [
    {
     "data": {
      "text/plain": "(4214577, 13084080)"
     },
     "execution_count": 17,
     "metadata": {},
     "output_type": "execute_result"
    }
   ],
   "source": [
    "# w2v_model.train(words_in_sentences, total_examples=w2v_model.corpus_count, epochs=30, report_delay=1)"
   ],
   "metadata": {
    "collapsed": false,
    "ExecuteTime": {
     "end_time": "2024-02-08T14:26:12.068453Z",
     "start_time": "2024-02-08T14:26:07.908060500Z"
    }
   },
   "id": "33f9fd218b99bff5"
  },
  {
   "cell_type": "code",
   "execution_count": 44,
   "outputs": [],
   "source": [
    "# w2v_model.save(\"word2vec_knn.model\")"
   ],
   "metadata": {
    "collapsed": false,
    "ExecuteTime": {
     "end_time": "2024-02-08T14:52:24.350280700Z",
     "start_time": "2024-02-08T14:52:24.226120500Z"
    }
   },
   "id": "8773010a05c67a2c"
  },
  {
   "cell_type": "code",
   "execution_count": 45,
   "outputs": [],
   "source": [
    "w2v_model = Word2Vec.load(\"word2vec_knn.model\")"
   ],
   "metadata": {
    "collapsed": false,
    "ExecuteTime": {
     "end_time": "2024-02-08T14:55:20.736553500Z",
     "start_time": "2024-02-08T14:55:20.637688200Z"
    }
   },
   "id": "4e397d911d61d12c"
  },
  {
   "cell_type": "code",
   "execution_count": 46,
   "outputs": [
    {
     "name": "stdout",
     "output_type": "stream",
     "text": [
      "14716\n"
     ]
    }
   ],
   "source": [
    "vocab=list(w2v_model.wv.key_to_index.keys())\n",
    "print(len(vocab))"
   ],
   "metadata": {
    "collapsed": false,
    "ExecuteTime": {
     "end_time": "2024-02-08T14:55:39.663778300Z",
     "start_time": "2024-02-08T14:55:39.652269400Z"
    }
   },
   "id": "64151109e69c1d1d"
  },
  {
   "cell_type": "code",
   "execution_count": 19,
   "outputs": [],
   "source": [
    "def avg_w2vec(sentences, labels):\n",
    "    \"\"\"\n",
    "    Average Word2Vec approach for creating a vector for a given sentence from the word embeddings of each words of the sentence.\n",
    "    \"\"\"\n",
    "\n",
    "    transformed=[]\n",
    "    lab = []\n",
    "    for sentence, label in zip(sentences,labels):\n",
    "        count=0\n",
    "        vector=np.zeros(300)\n",
    "        for word in sentence.split():\n",
    "            if word in vocab:\n",
    "                vector+=w2v_model.wv.get_vector(word)\n",
    "                count+=1\n",
    "        if count!=0:\n",
    "            vector/=count\n",
    "            transformed.append(vector)\n",
    "            lab.append(label)\n",
    "    return np.array(transformed), np.array(lab)"
   ],
   "metadata": {
    "collapsed": false,
    "ExecuteTime": {
     "end_time": "2024-02-08T14:26:12.146576100Z",
     "start_time": "2024-02-08T14:26:12.084087400Z"
    }
   },
   "id": "d34d0cf270e7c01d"
  },
  {
   "cell_type": "code",
   "execution_count": 20,
   "outputs": [],
   "source": [
    "transformed_text, labels1= avg_w2vec(input_df[\"text\"], input_df[\"label\"])"
   ],
   "metadata": {
    "collapsed": false,
    "ExecuteTime": {
     "end_time": "2024-02-08T14:26:15.638791400Z",
     "start_time": "2024-02-08T14:26:12.099718600Z"
    }
   },
   "id": "5c80203272c60be7"
  },
  {
   "cell_type": "markdown",
   "source": [
    "# Model fitting"
   ],
   "metadata": {
    "collapsed": false
   },
   "id": "21a1947b6da6438"
  },
  {
   "cell_type": "code",
   "execution_count": 21,
   "outputs": [],
   "source": [
    "# train test split\n",
    "x_train,x_test, y_train, y_test = train_test_split(transformed_text, labels1, stratify=labels1, test_size=0.20, random_state=42)"
   ],
   "metadata": {
    "collapsed": false,
    "ExecuteTime": {
     "end_time": "2024-02-08T14:26:15.685916100Z",
     "start_time": "2024-02-08T14:26:15.638791400Z"
    }
   },
   "id": "cbd82fd9372f42fa"
  },
  {
   "cell_type": "code",
   "execution_count": 22,
   "outputs": [],
   "source": [
    "# from sklearn.model_selection import GridSearchCV\n",
    "# from sklearn.metrics import f1_score\n",
    "# # odd k for preventing ties\n",
    "grid_params = { 'n_neighbors' : [3, 5, 7, 9, 11],\n",
    "               'metric' : ['manhattan', 'minkowski', 'cosine']}"
   ],
   "metadata": {
    "collapsed": false,
    "ExecuteTime": {
     "end_time": "2024-02-08T14:26:15.706522700Z",
     "start_time": "2024-02-08T14:26:15.685916100Z"
    }
   },
   "id": "92e9572bb83d5cf9"
  },
  {
   "cell_type": "code",
   "execution_count": 23,
   "outputs": [
    {
     "name": "stdout",
     "output_type": "stream",
     "text": [
      "Fitting 5 folds for each of 15 candidates, totalling 75 fits\n"
     ]
    },
    {
     "data": {
      "text/plain": "GridSearchCV(estimator=KNeighborsClassifier(), n_jobs=10,\n             param_grid={'metric': ['manhattan', 'minkowski', 'cosine'],\n                         'n_neighbors': [3, 5, 7, 9, 11]},\n             return_train_score=True, verbose=1)",
      "text/html": "<style>#sk-container-id-1 {color: black;}#sk-container-id-1 pre{padding: 0;}#sk-container-id-1 div.sk-toggleable {background-color: white;}#sk-container-id-1 label.sk-toggleable__label {cursor: pointer;display: block;width: 100%;margin-bottom: 0;padding: 0.3em;box-sizing: border-box;text-align: center;}#sk-container-id-1 label.sk-toggleable__label-arrow:before {content: \"▸\";float: left;margin-right: 0.25em;color: #696969;}#sk-container-id-1 label.sk-toggleable__label-arrow:hover:before {color: black;}#sk-container-id-1 div.sk-estimator:hover label.sk-toggleable__label-arrow:before {color: black;}#sk-container-id-1 div.sk-toggleable__content {max-height: 0;max-width: 0;overflow: hidden;text-align: left;background-color: #f0f8ff;}#sk-container-id-1 div.sk-toggleable__content pre {margin: 0.2em;color: black;border-radius: 0.25em;background-color: #f0f8ff;}#sk-container-id-1 input.sk-toggleable__control:checked~div.sk-toggleable__content {max-height: 200px;max-width: 100%;overflow: auto;}#sk-container-id-1 input.sk-toggleable__control:checked~label.sk-toggleable__label-arrow:before {content: \"▾\";}#sk-container-id-1 div.sk-estimator input.sk-toggleable__control:checked~label.sk-toggleable__label {background-color: #d4ebff;}#sk-container-id-1 div.sk-label input.sk-toggleable__control:checked~label.sk-toggleable__label {background-color: #d4ebff;}#sk-container-id-1 input.sk-hidden--visually {border: 0;clip: rect(1px 1px 1px 1px);clip: rect(1px, 1px, 1px, 1px);height: 1px;margin: -1px;overflow: hidden;padding: 0;position: absolute;width: 1px;}#sk-container-id-1 div.sk-estimator {font-family: monospace;background-color: #f0f8ff;border: 1px dotted black;border-radius: 0.25em;box-sizing: border-box;margin-bottom: 0.5em;}#sk-container-id-1 div.sk-estimator:hover {background-color: #d4ebff;}#sk-container-id-1 div.sk-parallel-item::after {content: \"\";width: 100%;border-bottom: 1px solid gray;flex-grow: 1;}#sk-container-id-1 div.sk-label:hover label.sk-toggleable__label {background-color: #d4ebff;}#sk-container-id-1 div.sk-serial::before {content: \"\";position: absolute;border-left: 1px solid gray;box-sizing: border-box;top: 0;bottom: 0;left: 50%;z-index: 0;}#sk-container-id-1 div.sk-serial {display: flex;flex-direction: column;align-items: center;background-color: white;padding-right: 0.2em;padding-left: 0.2em;position: relative;}#sk-container-id-1 div.sk-item {position: relative;z-index: 1;}#sk-container-id-1 div.sk-parallel {display: flex;align-items: stretch;justify-content: center;background-color: white;position: relative;}#sk-container-id-1 div.sk-item::before, #sk-container-id-1 div.sk-parallel-item::before {content: \"\";position: absolute;border-left: 1px solid gray;box-sizing: border-box;top: 0;bottom: 0;left: 50%;z-index: -1;}#sk-container-id-1 div.sk-parallel-item {display: flex;flex-direction: column;z-index: 1;position: relative;background-color: white;}#sk-container-id-1 div.sk-parallel-item:first-child::after {align-self: flex-end;width: 50%;}#sk-container-id-1 div.sk-parallel-item:last-child::after {align-self: flex-start;width: 50%;}#sk-container-id-1 div.sk-parallel-item:only-child::after {width: 0;}#sk-container-id-1 div.sk-dashed-wrapped {border: 1px dashed gray;margin: 0 0.4em 0.5em 0.4em;box-sizing: border-box;padding-bottom: 0.4em;background-color: white;}#sk-container-id-1 div.sk-label label {font-family: monospace;font-weight: bold;display: inline-block;line-height: 1.2em;}#sk-container-id-1 div.sk-label-container {text-align: center;}#sk-container-id-1 div.sk-container {/* jupyter's `normalize.less` sets `[hidden] { display: none; }` but bootstrap.min.css set `[hidden] { display: none !important; }` so we also need the `!important` here to be able to override the default hidden behavior on the sphinx rendered scikit-learn.org. See: https://github.com/scikit-learn/scikit-learn/issues/21755 */display: inline-block !important;position: relative;}#sk-container-id-1 div.sk-text-repr-fallback {display: none;}</style><div id=\"sk-container-id-1\" class=\"sk-top-container\"><div class=\"sk-text-repr-fallback\"><pre>GridSearchCV(estimator=KNeighborsClassifier(), n_jobs=10,\n             param_grid={&#x27;metric&#x27;: [&#x27;manhattan&#x27;, &#x27;minkowski&#x27;, &#x27;cosine&#x27;],\n                         &#x27;n_neighbors&#x27;: [3, 5, 7, 9, 11]},\n             return_train_score=True, verbose=1)</pre><b>In a Jupyter environment, please rerun this cell to show the HTML representation or trust the notebook. <br />On GitHub, the HTML representation is unable to render, please try loading this page with nbviewer.org.</b></div><div class=\"sk-container\" hidden><div class=\"sk-item sk-dashed-wrapped\"><div class=\"sk-label-container\"><div class=\"sk-label sk-toggleable\"><input class=\"sk-toggleable__control sk-hidden--visually\" id=\"sk-estimator-id-1\" type=\"checkbox\" ><label for=\"sk-estimator-id-1\" class=\"sk-toggleable__label sk-toggleable__label-arrow\">GridSearchCV</label><div class=\"sk-toggleable__content\"><pre>GridSearchCV(estimator=KNeighborsClassifier(), n_jobs=10,\n             param_grid={&#x27;metric&#x27;: [&#x27;manhattan&#x27;, &#x27;minkowski&#x27;, &#x27;cosine&#x27;],\n                         &#x27;n_neighbors&#x27;: [3, 5, 7, 9, 11]},\n             return_train_score=True, verbose=1)</pre></div></div></div><div class=\"sk-parallel\"><div class=\"sk-parallel-item\"><div class=\"sk-item\"><div class=\"sk-label-container\"><div class=\"sk-label sk-toggleable\"><input class=\"sk-toggleable__control sk-hidden--visually\" id=\"sk-estimator-id-2\" type=\"checkbox\" ><label for=\"sk-estimator-id-2\" class=\"sk-toggleable__label sk-toggleable__label-arrow\">estimator: KNeighborsClassifier</label><div class=\"sk-toggleable__content\"><pre>KNeighborsClassifier()</pre></div></div></div><div class=\"sk-serial\"><div class=\"sk-item\"><div class=\"sk-estimator sk-toggleable\"><input class=\"sk-toggleable__control sk-hidden--visually\" id=\"sk-estimator-id-3\" type=\"checkbox\" ><label for=\"sk-estimator-id-3\" class=\"sk-toggleable__label sk-toggleable__label-arrow\">KNeighborsClassifier</label><div class=\"sk-toggleable__content\"><pre>KNeighborsClassifier()</pre></div></div></div></div></div></div></div></div></div></div>"
     },
     "execution_count": 23,
     "metadata": {},
     "output_type": "execute_result"
    }
   ],
   "source": [
    "# knn=KNeighborsClassifier()\n",
    "# clf = GridSearchCV(knn, grid_params, n_jobs=10, verbose=1, return_train_score=True)\n",
    "# clf.fit(x_train,y_train)"
   ],
   "metadata": {
    "collapsed": false,
    "ExecuteTime": {
     "end_time": "2024-02-08T14:46:52.948462700Z",
     "start_time": "2024-02-08T14:26:15.701512200Z"
    }
   },
   "id": "42f91cb92e309421"
  },
  {
   "cell_type": "code",
   "execution_count": 24,
   "outputs": [
    {
     "data": {
      "text/plain": "{'metric': 'manhattan', 'n_neighbors': 5}"
     },
     "execution_count": 24,
     "metadata": {},
     "output_type": "execute_result"
    }
   ],
   "source": [
    "# clf.best_params_"
   ],
   "metadata": {
    "collapsed": false,
    "ExecuteTime": {
     "end_time": "2024-02-08T14:46:53.149902800Z",
     "start_time": "2024-02-08T14:46:52.875447900Z"
    }
   },
   "id": "22ac8d300690108a"
  },
  {
   "cell_type": "code",
   "execution_count": 25,
   "outputs": [
    {
     "data": {
      "text/plain": "{'mean_fit_time': array([0.09990849, 0.09926376, 0.07822366, 0.06881723, 0.07601061,\n        0.08317432, 0.075035  , 0.07138062, 0.06310101, 0.06550713,\n        0.0944375 , 0.08084383, 0.07925563, 0.07623401, 0.11623826]),\n 'std_fit_time': array([0.0056599 , 0.00518859, 0.00018679, 0.00912313, 0.00399323,\n        0.00401539, 0.00629641, 0.00588451, 0.00043967, 0.00631089,\n        0.03324101, 0.01109938, 0.02424437, 0.01090461, 0.02878864]),\n 'mean_score_time': array([ 67.49214525,  67.46120048,  68.64143243,  68.60285978,\n         73.69819994,   7.27064691,   6.1362833 ,   6.07756534,\n          6.1607811 ,   6.10292611,  27.26745148,  11.36632276,\n         10.7553544 ,  11.32101159, 131.94647918]),\n 'std_score_time': array([0.03594673, 0.08572168, 0.09097211, 0.13528967, 0.09721084,\n        0.09006543, 0.08202467, 0.10745636, 0.05845002, 0.11895544,\n        0.56968047, 0.3574757 , 0.21492062, 0.15360341, 7.01414602]),\n 'param_metric': masked_array(data=['manhattan', 'manhattan', 'manhattan', 'manhattan',\n                    'manhattan', 'minkowski', 'minkowski', 'minkowski',\n                    'minkowski', 'minkowski', 'cosine', 'cosine', 'cosine',\n                    'cosine', 'cosine'],\n              mask=[False, False, False, False, False, False, False, False,\n                    False, False, False, False, False, False, False],\n        fill_value='?',\n             dtype=object),\n 'param_n_neighbors': masked_array(data=[3, 5, 7, 9, 11, 3, 5, 7, 9, 11, 3, 5, 7, 9, 11],\n              mask=[False, False, False, False, False, False, False, False,\n                    False, False, False, False, False, False, False],\n        fill_value='?',\n             dtype=object),\n 'params': [{'metric': 'manhattan', 'n_neighbors': 3},\n  {'metric': 'manhattan', 'n_neighbors': 5},\n  {'metric': 'manhattan', 'n_neighbors': 7},\n  {'metric': 'manhattan', 'n_neighbors': 9},\n  {'metric': 'manhattan', 'n_neighbors': 11},\n  {'metric': 'minkowski', 'n_neighbors': 3},\n  {'metric': 'minkowski', 'n_neighbors': 5},\n  {'metric': 'minkowski', 'n_neighbors': 7},\n  {'metric': 'minkowski', 'n_neighbors': 9},\n  {'metric': 'minkowski', 'n_neighbors': 11},\n  {'metric': 'cosine', 'n_neighbors': 3},\n  {'metric': 'cosine', 'n_neighbors': 5},\n  {'metric': 'cosine', 'n_neighbors': 7},\n  {'metric': 'cosine', 'n_neighbors': 9},\n  {'metric': 'cosine', 'n_neighbors': 11}],\n 'split0_test_score': array([0.87082084, 0.8757081 , 0.87692991, 0.8757081 , 0.87459736,\n        0.87415306, 0.87726313, 0.87670776, 0.8757081 , 0.87315339,\n        0.8718205 , 0.87559702, 0.87537488, 0.87126513, 0.86937687]),\n 'split1_test_score': array([0.8658225 , 0.86871043, 0.86815506, 0.86793291, 0.86460069,\n        0.86393424, 0.86848828, 0.8667111 , 0.86837721, 0.86504499,\n        0.86404532, 0.86726647, 0.8692658 , 0.86804399, 0.86560036]),\n 'split2_test_score': array([0.86771076, 0.87381984, 0.87148728, 0.86937687, 0.86759969,\n        0.86615573, 0.8697101 , 0.86715539, 0.86826613, 0.86615573,\n        0.86748861, 0.87204265, 0.86904365, 0.86837721, 0.86804399]),\n 'split3_test_score': array([0.87004332, 0.87315339, 0.87059869, 0.86715539, 0.86404532,\n        0.86915473, 0.87259802, 0.86959902, 0.86604465, 0.86393424,\n        0.87204265, 0.87315339, 0.86948795, 0.86660002, 0.86548928]),\n 'split4_test_score': array([0.87726313, 0.87559702, 0.87659669, 0.87581917, 0.87681884,\n        0.8748195 , 0.8757081 , 0.87593025, 0.87437521, 0.87326447,\n        0.87637454, 0.87459736, 0.87770743, 0.87459736, 0.87559702]),\n 'mean_test_score': array([0.87033211, 0.87339776, 0.87275353, 0.87119849, 0.86953238,\n        0.86964345, 0.87275353, 0.8712207 , 0.87055426, 0.86831056,\n        0.87035433, 0.87253138, 0.87217594, 0.86977674, 0.8688215 ]),\n 'std_test_score': array([0.00388766, 0.00254493, 0.00345267, 0.00379516, 0.0052328 ,\n        0.00429246, 0.00336289, 0.00428441, 0.00378083, 0.00406088,\n        0.00422514, 0.00289867, 0.00364242, 0.00284627, 0.00369595]),\n 'rank_test_score': array([10,  1,  2,  7, 13, 12,  2,  6,  8, 15,  9,  4,  5, 11, 14]),\n 'split0_train_score': array([0.91069643, 0.89675664, 0.89031434, 0.88631567, 0.88192825,\n        0.91325114, 0.8977563 , 0.8907864 , 0.885677  , 0.88192825,\n        0.9112518 , 0.89953349, 0.89134177, 0.88351105, 0.87920693]),\n 'split1_train_score': array([0.91277907, 0.89989448, 0.8922026 , 0.8871765 , 0.88270576,\n        0.91086305, 0.89922804, 0.89281351, 0.8877874 , 0.88292791,\n        0.91322337, 0.89817283, 0.89239698, 0.8877874 , 0.8837332 ]),\n 'split2_train_score': array([0.9131956 , 0.89881151, 0.89136954, 0.88551039, 0.88131734,\n        0.9111685 , 0.89770077, 0.88925914, 0.88287238, 0.87987338,\n        0.91252916, 0.89945018, 0.89275797, 0.88626014, 0.8822337 ]),\n 'split3_train_score': array([0.91230701, 0.89975564, 0.89150839, 0.88587138, 0.88153949,\n        0.91002999, 0.89728424, 0.88895368, 0.88376097, 0.8822337 ,\n        0.91255693, 0.89792291, 0.8907031 , 0.88559369, 0.88184494]),\n 'split4_train_score': array([0.91133511, 0.89903366, 0.89045318, 0.88464956, 0.88048428,\n        0.90939131, 0.89611796, 0.88839831, 0.88237254, 0.87770743,\n        0.91211263, 0.8961735 , 0.88931467, 0.88381651, 0.88067866]),\n 'mean_train_score': array([0.91206265, 0.89885038, 0.89116961, 0.8859047 , 0.88159502,\n        0.9109408 , 0.89761746, 0.89004221, 0.88449406, 0.88093413,\n        0.91233478, 0.89825058, 0.8913029 , 0.88539376, 0.88153949]),\n 'std_train_score': array([0.00092222, 0.00112503, 0.00070236, 0.00083885, 0.00072921,\n        0.00131347, 0.00099797, 0.0015959 , 0.00199567, 0.00190731,\n        0.00064791, 0.00122577, 0.0012352 , 0.00158445, 0.00152115])}"
     },
     "execution_count": 25,
     "metadata": {},
     "output_type": "execute_result"
    }
   ],
   "source": [
    "# clf.cv_results_ "
   ],
   "metadata": {
    "collapsed": false,
    "ExecuteTime": {
     "end_time": "2024-02-08T14:46:53.165048800Z",
     "start_time": "2024-02-08T14:46:52.875447900Z"
    }
   },
   "id": "d425f55bdb5dc91"
  },
  {
   "cell_type": "code",
   "execution_count": 26,
   "outputs": [],
   "source": [
    "# result_df = pd.concat([pd.DataFrame(clf.cv_results_[\"params\"]),\n",
    "#                        pd.DataFrame(clf.cv_results_[\"mean_test_score\"], columns=[\"mean_test_acc\"]),\n",
    "#                        pd.DataFrame(clf.cv_results_[\"mean_train_score\"], columns=[\"mean_train_acc\"]),\n",
    "#                        pd.DataFrame(clf.cv_results_[\"std_train_score\"], columns=[\"std_train_acc\"]),\n",
    "#                        pd.DataFrame(clf.cv_results_[\"std_test_score\"], columns=[\"std_test_acc\"])], axis=1)"
   ],
   "metadata": {
    "collapsed": false,
    "ExecuteTime": {
     "end_time": "2024-02-08T14:46:53.927235800Z",
     "start_time": "2024-02-08T14:46:52.901586300Z"
    }
   },
   "id": "536826c34d7a236"
  },
  {
   "cell_type": "code",
   "execution_count": 27,
   "outputs": [],
   "source": [
    "# result_df.to_csv(\"knn-results.csv\")"
   ],
   "metadata": {
    "collapsed": false,
    "ExecuteTime": {
     "end_time": "2024-02-08T14:46:53.927235800Z",
     "start_time": "2024-02-08T14:46:53.149902800Z"
    }
   },
   "id": "f479524d3aa5fce6"
  },
  {
   "cell_type": "code",
   "execution_count": 28,
   "outputs": [
    {
     "data": {
      "text/plain": "KNeighborsClassifier(metric='manhattan')",
      "text/html": "<style>#sk-container-id-2 {color: black;}#sk-container-id-2 pre{padding: 0;}#sk-container-id-2 div.sk-toggleable {background-color: white;}#sk-container-id-2 label.sk-toggleable__label {cursor: pointer;display: block;width: 100%;margin-bottom: 0;padding: 0.3em;box-sizing: border-box;text-align: center;}#sk-container-id-2 label.sk-toggleable__label-arrow:before {content: \"▸\";float: left;margin-right: 0.25em;color: #696969;}#sk-container-id-2 label.sk-toggleable__label-arrow:hover:before {color: black;}#sk-container-id-2 div.sk-estimator:hover label.sk-toggleable__label-arrow:before {color: black;}#sk-container-id-2 div.sk-toggleable__content {max-height: 0;max-width: 0;overflow: hidden;text-align: left;background-color: #f0f8ff;}#sk-container-id-2 div.sk-toggleable__content pre {margin: 0.2em;color: black;border-radius: 0.25em;background-color: #f0f8ff;}#sk-container-id-2 input.sk-toggleable__control:checked~div.sk-toggleable__content {max-height: 200px;max-width: 100%;overflow: auto;}#sk-container-id-2 input.sk-toggleable__control:checked~label.sk-toggleable__label-arrow:before {content: \"▾\";}#sk-container-id-2 div.sk-estimator input.sk-toggleable__control:checked~label.sk-toggleable__label {background-color: #d4ebff;}#sk-container-id-2 div.sk-label input.sk-toggleable__control:checked~label.sk-toggleable__label {background-color: #d4ebff;}#sk-container-id-2 input.sk-hidden--visually {border: 0;clip: rect(1px 1px 1px 1px);clip: rect(1px, 1px, 1px, 1px);height: 1px;margin: -1px;overflow: hidden;padding: 0;position: absolute;width: 1px;}#sk-container-id-2 div.sk-estimator {font-family: monospace;background-color: #f0f8ff;border: 1px dotted black;border-radius: 0.25em;box-sizing: border-box;margin-bottom: 0.5em;}#sk-container-id-2 div.sk-estimator:hover {background-color: #d4ebff;}#sk-container-id-2 div.sk-parallel-item::after {content: \"\";width: 100%;border-bottom: 1px solid gray;flex-grow: 1;}#sk-container-id-2 div.sk-label:hover label.sk-toggleable__label {background-color: #d4ebff;}#sk-container-id-2 div.sk-serial::before {content: \"\";position: absolute;border-left: 1px solid gray;box-sizing: border-box;top: 0;bottom: 0;left: 50%;z-index: 0;}#sk-container-id-2 div.sk-serial {display: flex;flex-direction: column;align-items: center;background-color: white;padding-right: 0.2em;padding-left: 0.2em;position: relative;}#sk-container-id-2 div.sk-item {position: relative;z-index: 1;}#sk-container-id-2 div.sk-parallel {display: flex;align-items: stretch;justify-content: center;background-color: white;position: relative;}#sk-container-id-2 div.sk-item::before, #sk-container-id-2 div.sk-parallel-item::before {content: \"\";position: absolute;border-left: 1px solid gray;box-sizing: border-box;top: 0;bottom: 0;left: 50%;z-index: -1;}#sk-container-id-2 div.sk-parallel-item {display: flex;flex-direction: column;z-index: 1;position: relative;background-color: white;}#sk-container-id-2 div.sk-parallel-item:first-child::after {align-self: flex-end;width: 50%;}#sk-container-id-2 div.sk-parallel-item:last-child::after {align-self: flex-start;width: 50%;}#sk-container-id-2 div.sk-parallel-item:only-child::after {width: 0;}#sk-container-id-2 div.sk-dashed-wrapped {border: 1px dashed gray;margin: 0 0.4em 0.5em 0.4em;box-sizing: border-box;padding-bottom: 0.4em;background-color: white;}#sk-container-id-2 div.sk-label label {font-family: monospace;font-weight: bold;display: inline-block;line-height: 1.2em;}#sk-container-id-2 div.sk-label-container {text-align: center;}#sk-container-id-2 div.sk-container {/* jupyter's `normalize.less` sets `[hidden] { display: none; }` but bootstrap.min.css set `[hidden] { display: none !important; }` so we also need the `!important` here to be able to override the default hidden behavior on the sphinx rendered scikit-learn.org. See: https://github.com/scikit-learn/scikit-learn/issues/21755 */display: inline-block !important;position: relative;}#sk-container-id-2 div.sk-text-repr-fallback {display: none;}</style><div id=\"sk-container-id-2\" class=\"sk-top-container\"><div class=\"sk-text-repr-fallback\"><pre>KNeighborsClassifier(metric=&#x27;manhattan&#x27;)</pre><b>In a Jupyter environment, please rerun this cell to show the HTML representation or trust the notebook. <br />On GitHub, the HTML representation is unable to render, please try loading this page with nbviewer.org.</b></div><div class=\"sk-container\" hidden><div class=\"sk-item\"><div class=\"sk-estimator sk-toggleable\"><input class=\"sk-toggleable__control sk-hidden--visually\" id=\"sk-estimator-id-4\" type=\"checkbox\" checked><label for=\"sk-estimator-id-4\" class=\"sk-toggleable__label sk-toggleable__label-arrow\">KNeighborsClassifier</label><div class=\"sk-toggleable__content\"><pre>KNeighborsClassifier(metric=&#x27;manhattan&#x27;)</pre></div></div></div></div></div>"
     },
     "execution_count": 28,
     "metadata": {},
     "output_type": "execute_result"
    }
   ],
   "source": [
    "# knn = KNeighborsClassifier(n_neighbors=clf.best_params_['n_neighbors'], metric=clf.best_params_['metric'])\n",
    "# knn.fit(x_train, y_train)"
   ],
   "metadata": {
    "collapsed": false,
    "ExecuteTime": {
     "end_time": "2024-02-08T14:46:53.927235800Z",
     "start_time": "2024-02-08T14:46:53.149902800Z"
    }
   },
   "id": "66d1a2601dd40125"
  },
  {
   "cell_type": "code",
   "execution_count": 29,
   "outputs": [],
   "source": [
    "# knnPickle = open('knn_pickle', 'wb')\n",
    "# pickle.dump(knn, knnPickle)\n",
    "# knnPickle.close()"
   ],
   "metadata": {
    "collapsed": false,
    "ExecuteTime": {
     "end_time": "2024-02-08T14:46:53.973814700Z",
     "start_time": "2024-02-08T14:46:53.149902800Z"
    }
   },
   "id": "b18307b96d728265"
  },
  {
   "cell_type": "markdown",
   "source": [
    "# Training + testing plots"
   ],
   "metadata": {
    "collapsed": false
   },
   "id": "eda9d0a59dfd2867"
  },
  {
   "cell_type": "code",
   "execution_count": 30,
   "outputs": [
    {
     "data": {
      "text/plain": "<Figure size 640x480 with 1 Axes>",
      "image/png": "[encoded data removed]"
     },
     "metadata": {},
     "output_type": "display_data"
    }
   ],
   "source": [
    "import matplotlib.pyplot as plt\n",
    "\n",
    "result_df = pd.read_csv(\"knn-results.csv\", encoding=\"utf-8\")\n",
    "cols = ['red', 'orange', 'green']\n",
    "for metric, col in zip(grid_params['metric'], cols):\n",
    "    plt.plot(result_df[result_df.metric == metric].n_neighbors, result_df[result_df.metric == metric].mean_test_acc, color=col, label=metric)\n",
    "\n",
    "plt.xlabel(\"# neighbours\")\n",
    "plt.ylabel(\"CV Test accuracy\")\n",
    "plt.xticks(grid_params['n_neighbors'])\n",
    "plt.legend()\n",
    "plt.show()"
   ],
   "metadata": {
    "collapsed": false,
    "ExecuteTime": {
     "end_time": "2024-02-08T14:46:53.995867100Z",
     "start_time": "2024-02-08T14:46:53.165048800Z"
    }
   },
   "id": "871bdd09fbc460b8"
  },
  {
   "cell_type": "code",
   "execution_count": 42,
   "outputs": [
    {
     "data": {
      "text/plain": "<Figure size 640x480 with 1 Axes>",
      "image/png": "[encoded data removed]"
     },
     "metadata": {},
     "output_type": "display_data"
    }
   ],
   "source": [
    "for metric, col in zip(grid_params['metric'], cols):\n",
    "    plt.plot(result_df[result_df.metric == metric].n_neighbors, result_df[result_df.metric == metric].mean_train_acc, color=col, label=metric)\n",
    "    # plt.fill_between(result_df[result_df.metric == metric].n_neighbors, result_df[result_df.metric == metric].mean_train_acc - result_df[result_df.metric == metric].std_train_acc,result_df[result_df.metric == metric].mean_train_acc + result_df[result_df.metric == metric].std_train_acc)\n",
    "\n",
    "plt.xlabel(\"# neighbours\")\n",
    "plt.ylabel(\"CV Train accuracy\")\n",
    "plt.xticks(grid_params['n_neighbors'])\n",
    "plt.legend()\n",
    "plt.show()"
   ],
   "metadata": {
    "collapsed": false,
    "ExecuteTime": {
     "end_time": "2024-02-08T14:47:37.104118300Z",
     "start_time": "2024-02-08T14:47:36.978472200Z"
    }
   },
   "id": "c2ccc480335ddcff"
  },
  {
   "cell_type": "markdown",
   "source": [
    "# Evaluation"
   ],
   "metadata": {
    "collapsed": false
   },
   "id": "6012cc004296ae46"
  },
  {
   "cell_type": "code",
   "execution_count": 47,
   "outputs": [],
   "source": [
    "from sklearn.metrics import accuracy_score, confusion_matrix, ConfusionMatrixDisplay\n",
    "import matplotlib.pyplot as plt"
   ],
   "metadata": {
    "collapsed": false,
    "ExecuteTime": {
     "end_time": "2024-02-08T14:56:50.213664400Z",
     "start_time": "2024-02-08T14:56:50.198054700Z"
    }
   },
   "id": "a854c71fec50a024"
  },
  {
   "cell_type": "code",
   "execution_count": 48,
   "outputs": [],
   "source": [
    "loaded_model = pickle.load(open('knn_pickle', 'rb'))"
   ],
   "metadata": {
    "collapsed": false,
    "ExecuteTime": {
     "end_time": "2024-02-08T14:56:52.450370900Z",
     "start_time": "2024-02-08T14:56:52.421931400Z"
    }
   },
   "id": "6d2bf3eb9dde9d9f"
  },
  {
   "cell_type": "code",
   "execution_count": 49,
   "outputs": [],
   "source": [
    "result = loaded_model.predict(x_test)"
   ],
   "metadata": {
    "collapsed": false,
    "ExecuteTime": {
     "end_time": "2024-02-08T14:57:08.104672300Z",
     "start_time": "2024-02-08T14:56:54.173394100Z"
    }
   },
   "id": "975419eb7ef4ab11"
  },
  {
   "cell_type": "code",
   "execution_count": 35,
   "outputs": [
    {
     "data": {
      "text/plain": "11254"
     },
     "execution_count": 35,
     "metadata": {},
     "output_type": "execute_result"
    }
   ],
   "source": [
    "len(x_test)"
   ],
   "metadata": {
    "collapsed": false,
    "ExecuteTime": {
     "end_time": "2024-02-08T14:47:07.862681800Z",
     "start_time": "2024-02-08T14:47:07.843458Z"
    }
   },
   "id": "98fc122bcf48b62c"
  },
  {
   "cell_type": "code",
   "execution_count": 36,
   "outputs": [
    {
     "data": {
      "text/plain": "11254"
     },
     "execution_count": 36,
     "metadata": {},
     "output_type": "execute_result"
    }
   ],
   "source": [
    "len(y_test)"
   ],
   "metadata": {
    "collapsed": false,
    "ExecuteTime": {
     "end_time": "2024-02-08T14:47:07.890209700Z",
     "start_time": "2024-02-08T14:47:07.856648400Z"
    }
   },
   "id": "1260369abf089f03"
  },
  {
   "cell_type": "code",
   "execution_count": 37,
   "outputs": [
    {
     "name": "stdout",
     "output_type": "stream",
     "text": [
      "0.88030922338724\n"
     ]
    }
   ],
   "source": [
    "print(accuracy_score(y_test, result))"
   ],
   "metadata": {
    "collapsed": false,
    "ExecuteTime": {
     "end_time": "2024-02-08T14:47:07.951272800Z",
     "start_time": "2024-02-08T14:47:07.875054Z"
    }
   },
   "id": "e596119838ba02f8"
  },
  {
   "cell_type": "code",
   "execution_count": 38,
   "outputs": [
    {
     "data": {
      "text/plain": "<Figure size 640x480 with 2 Axes>",
      "image/png": "[encoded data removed]"
     },
     "metadata": {},
     "output_type": "display_data"
    }
   ],
   "source": [
    "cm = confusion_matrix(y_test, result, normalize='true')\n",
    "tn, fp, fn, tp = cm.ravel()\n",
    "ConfusionMatrixDisplay.from_estimator(loaded_model, x_test,y_test, normalize=\"true\", cmap=plt.cm.Blues)\n",
    "plt.grid(False)\n",
    "plt.show()"
   ],
   "metadata": {
    "collapsed": false,
    "ExecuteTime": {
     "end_time": "2024-02-08T14:47:21.591282600Z",
     "start_time": "2024-02-08T14:47:07.892410100Z"
    }
   },
   "id": "c42f73e1e9f824a3"
  },
  {
   "cell_type": "code",
   "execution_count": 39,
   "outputs": [
    {
     "name": "stdout",
     "output_type": "stream",
     "text": [
      "0.946926354230067 0.2997696610727213 0.7002303389272787 0.05307364576993305\n"
     ]
    }
   ],
   "source": [
    "print(tn, fn, tp, fp)"
   ],
   "metadata": {
    "collapsed": false,
    "ExecuteTime": {
     "end_time": "2024-02-08T14:47:21.628141800Z",
     "start_time": "2024-02-08T14:47:21.591282600Z"
    }
   },
   "id": "c879e16708ace5e9"
  },
  {
   "cell_type": "code",
   "execution_count": 40,
   "outputs": [
    {
     "name": "stdout",
     "output_type": "stream",
     "text": [
      "0.9295455130357955\n",
      "0.7002303389272787\n",
      "0.7987552016522742\n"
     ]
    }
   ],
   "source": [
    "precision = tp / (tp + fp)\n",
    "recall = tp / (tp + fn)\n",
    "f1 = (2 * precision * recall)/ (precision+recall)\n",
    "print(precision) \n",
    "print(recall)\n",
    "print(f1)"
   ],
   "metadata": {
    "collapsed": false,
    "ExecuteTime": {
     "end_time": "2024-02-08T14:47:21.655101300Z",
     "start_time": "2024-02-08T14:47:21.607217800Z"
    }
   },
   "id": "7738ca39874fc679"
  },
  {
   "cell_type": "markdown",
   "source": [
    "# Classification on other sentences"
   ],
   "metadata": {
    "collapsed": false
   },
   "id": "f95705397adad959"
  },
  {
   "cell_type": "code",
   "execution_count": 43,
   "outputs": [
    {
     "name": "stdout",
     "output_type": "stream",
     "text": [
      "[1 1 1 0]\n"
     ]
    }
   ],
   "source": [
    "# Sentence from prompt engineering\n",
    "inputs1 = \"uh, see, um, blue car. fast, uh, on road.\"\n",
    "\n",
    "# Sentence from (ongoing) linguistic model\n",
    "inputs2= \"oh I want ah er apple ah\"\n",
    "\n",
    "# Sentence from C4\n",
    "inputs3= \"Embrace world class facilities at East Bourne Resort & Spa Shimla\"\n",
    "\n",
    "# Sentence from C4\n",
    "inputs4= \"uh and then she ran\"\n",
    "\n",
    "input = [inputs1, inputs2, inputs3, inputs4]\n",
    "label = [1, 1, 0, 0]\n",
    "transformed_text, labels = avg_w2vec(input, label)\n",
    "\n",
    "print(loaded_model.predict(transformed_text))"
   ],
   "metadata": {
    "collapsed": false,
    "ExecuteTime": {
     "end_time": "2024-02-08T14:49:11.503193400Z",
     "start_time": "2024-02-08T14:49:11.409196300Z"
    }
   },
   "id": "34384371cb078bb9"
  },
  {
   "cell_type": "markdown",
   "source": [
    "# Feature extraction"
   ],
   "metadata": {
    "collapsed": false
   },
   "id": "d72673ccd6ef90d6"
  },
  {
   "cell_type": "code",
   "execution_count": null,
   "outputs": [],
   "source": [],
   "metadata": {
    "collapsed": false
   },
   "id": "a1b31c9f0b69adf0"
  }
 ],
 "metadata": {
  "kernelspec": {
   "display_name": "Python 3",
   "language": "python",
   "name": "python3"
  },
  "language_info": {
   "codemirror_mode": {
    "name": "ipython",
    "version": 2
   },
   "file_extension": ".py",
   "mimetype": "text/x-python",
   "name": "python",
   "nbconvert_exporter": "python",
   "pygments_lexer": "ipython2",
   "version": "2.7.6"
  }
 },
 "nbformat": 4,
 "nbformat_minor": 5
}
