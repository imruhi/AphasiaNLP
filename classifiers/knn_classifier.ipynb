{
 "cells": [
  {
   "cell_type": "code",
   "execution_count": 1,
   "id": "initial_id",
   "metadata": {
    "collapsed": true,
    "ExecuteTime": {
     "end_time": "2024-02-06T15:47:48.448370900Z",
     "start_time": "2024-02-06T15:47:48.198172100Z"
    }
   },
   "outputs": [],
   "source": [
    "import pandas as pd \n",
    "import seaborn as sns\n",
    "from sklearn.model_selection import train_test_split\n",
    "import numpy as np\n",
    "import pickle\n"
   ]
  },
  {
   "cell_type": "code",
   "execution_count": 2,
   "outputs": [],
   "source": [
    "dataset_filename = \"all_sentences_processed.csv\"\n",
    "df = pd.read_csv(dataset_filename, encoding='utf8', index_col=False).drop(['Unnamed: 0.1', 'Unnamed: 0'], axis=1)"
   ],
   "metadata": {
    "collapsed": false,
    "ExecuteTime": {
     "end_time": "2024-02-06T15:47:49.101414300Z",
     "start_time": "2024-02-06T15:47:48.959738400Z"
    }
   },
   "id": "4ebd68e620e956d8"
  },
  {
   "cell_type": "code",
   "execution_count": 3,
   "outputs": [
    {
     "data": {
      "text/plain": "         scenario       source_file  \\\n0        Sandwich     wright04a.cha   \n1          Speech          73-2.cha   \n2        Umbrella      elman08a.cha   \n3      Cinderella        tap17a.cha   \n4      Cinderella     wright15a.cha   \n...           ...               ...   \n54648       Flood     wright58a.cha   \n54649  Cinderella          38-2.cha   \n54650    Umbrella     wright77a.cha   \n54651  Cinderella  capilouto01a.cha   \n54652      Window  capilouto64a.cha   \n\n                                           original_text  \\\n0      and on the side I would spread jelly &=ges:spr...   \n1      thank_you &-uh speech no &-um can't do &-um ye...   \n2      &=points:picture_4 and then &+buh the wade [: ...   \n3      it's a (.) &=points:head right [: white] [* p:...   \n4      father decided to get remarried . \u0015523775_525155\u0015   \n...                                                  ...   \n54648           I assume she was saved . \u0015427793_428033\u0015   \n54649       and she goes to the ball . \u00152054324_2055945\u0015   \n54650            +\" that's for sissies . \u0015250530_251240\u0015   \n54651  and &-uh but the fairy godmother had warned he...   \n54652           and the father gets up . \u0015356867_357947\u0015   \n\n                                       preprocessed_text  label  \n0                 and on the side I would spread jelly.       0  \n1                   thank you speech no cannot do yeah.       1  \n2                                    and then the wade.       1  \n3                                 it is a right ribbon.       1  \n4                      father decided to get remarried.       0  \n...                                                  ...    ...  \n54648                           I assume she was saved.       0  \n54649                         and she goes to the ball.       0  \n54650                              that is for sissies.       0  \n54651  and but the fairy godmother had warned her tha...      0  \n54652                           and the father gets up.       0  \n\n[54653 rows x 5 columns]",
      "text/html": "<div>\n<style scoped>\n    .dataframe tbody tr th:only-of-type {\n        vertical-align: middle;\n    }\n\n    .dataframe tbody tr th {\n        vertical-align: top;\n    }\n\n    .dataframe thead th {\n        text-align: right;\n    }\n</style>\n<table border=\"1\" class=\"dataframe\">\n  <thead>\n    <tr style=\"text-align: right;\">\n      <th></th>\n      <th>scenario</th>\n      <th>source_file</th>\n      <th>original_text</th>\n      <th>preprocessed_text</th>\n      <th>label</th>\n    </tr>\n  </thead>\n  <tbody>\n    <tr>\n      <th>0</th>\n      <td>Sandwich</td>\n      <td>wright04a.cha</td>\n      <td>and on the side I would spread jelly &amp;=ges:spr...</td>\n      <td>and on the side I would spread jelly.</td>\n      <td>0</td>\n    </tr>\n    <tr>\n      <th>1</th>\n      <td>Speech</td>\n      <td>73-2.cha</td>\n      <td>thank_you &amp;-uh speech no &amp;-um can't do &amp;-um ye...</td>\n      <td>thank you speech no cannot do yeah.</td>\n      <td>1</td>\n    </tr>\n    <tr>\n      <th>2</th>\n      <td>Umbrella</td>\n      <td>elman08a.cha</td>\n      <td>&amp;=points:picture_4 and then &amp;+buh the wade [: ...</td>\n      <td>and then the wade.</td>\n      <td>1</td>\n    </tr>\n    <tr>\n      <th>3</th>\n      <td>Cinderella</td>\n      <td>tap17a.cha</td>\n      <td>it's a (.) &amp;=points:head right [: white] [* p:...</td>\n      <td>it is a right ribbon.</td>\n      <td>1</td>\n    </tr>\n    <tr>\n      <th>4</th>\n      <td>Cinderella</td>\n      <td>wright15a.cha</td>\n      <td>father decided to get remarried . \u0015523775_525155\u0015</td>\n      <td>father decided to get remarried.</td>\n      <td>0</td>\n    </tr>\n    <tr>\n      <th>...</th>\n      <td>...</td>\n      <td>...</td>\n      <td>...</td>\n      <td>...</td>\n      <td>...</td>\n    </tr>\n    <tr>\n      <th>54648</th>\n      <td>Flood</td>\n      <td>wright58a.cha</td>\n      <td>I assume she was saved . \u0015427793_428033\u0015</td>\n      <td>I assume she was saved.</td>\n      <td>0</td>\n    </tr>\n    <tr>\n      <th>54649</th>\n      <td>Cinderella</td>\n      <td>38-2.cha</td>\n      <td>and she goes to the ball . \u00152054324_2055945\u0015</td>\n      <td>and she goes to the ball.</td>\n      <td>0</td>\n    </tr>\n    <tr>\n      <th>54650</th>\n      <td>Umbrella</td>\n      <td>wright77a.cha</td>\n      <td>+\" that's for sissies . \u0015250530_251240\u0015</td>\n      <td>that is for sissies.</td>\n      <td>0</td>\n    </tr>\n    <tr>\n      <th>54651</th>\n      <td>Cinderella</td>\n      <td>capilouto01a.cha</td>\n      <td>and &amp;-uh but the fairy godmother had warned he...</td>\n      <td>and but the fairy godmother had warned her tha...</td>\n      <td>0</td>\n    </tr>\n    <tr>\n      <th>54652</th>\n      <td>Window</td>\n      <td>capilouto64a.cha</td>\n      <td>and the father gets up . \u0015356867_357947\u0015</td>\n      <td>and the father gets up.</td>\n      <td>0</td>\n    </tr>\n  </tbody>\n</table>\n<p>54653 rows × 5 columns</p>\n</div>"
     },
     "execution_count": 3,
     "metadata": {},
     "output_type": "execute_result"
    }
   ],
   "source": [
    "df"
   ],
   "metadata": {
    "collapsed": false,
    "ExecuteTime": {
     "end_time": "2024-02-06T14:36:10.193866800Z",
     "start_time": "2024-02-06T14:36:10.173866700Z"
    }
   },
   "id": "91eeebe74051d6ae"
  },
  {
   "cell_type": "code",
   "execution_count": 3,
   "outputs": [
    {
     "data": {
      "text/plain": "scenario             0\nsource_file          0\noriginal_text        0\npreprocessed_text    0\nlabel                0\ndtype: int64"
     },
     "execution_count": 3,
     "metadata": {},
     "output_type": "execute_result"
    }
   ],
   "source": [
    "# no null values \n",
    "df.isnull().sum()"
   ],
   "metadata": {
    "collapsed": false,
    "ExecuteTime": {
     "end_time": "2024-02-06T15:47:50.346265400Z",
     "start_time": "2024-02-06T15:47:50.302474300Z"
    }
   },
   "id": "a27cf5c6cce7959d"
  },
  {
   "cell_type": "code",
   "execution_count": 4,
   "outputs": [
    {
     "data": {
      "text/plain": "<Axes: xlabel='label', ylabel='count'>"
     },
     "execution_count": 4,
     "metadata": {},
     "output_type": "execute_result"
    },
    {
     "data": {
      "text/plain": "<Figure size 640x480 with 1 Axes>",
      "image/png": "[encoded data removed]"
     },
     "metadata": {},
     "output_type": "display_data"
    }
   ],
   "source": [
    "# A bit unbalanced\n",
    "sns.countplot(x=\"label\",data=df)"
   ],
   "metadata": {
    "collapsed": false,
    "ExecuteTime": {
     "end_time": "2024-02-06T15:47:52.259659700Z",
     "start_time": "2024-02-06T15:47:52.118988400Z"
    }
   },
   "id": "10ae02f3bcd3ae58"
  },
  {
   "cell_type": "code",
   "execution_count": 6,
   "outputs": [],
   "source": [
    "# # 1:1 ratio\n",
    "# df1 = df[df.label==0].sample(n=len(df[df.label==1])).reset_index(drop=True)\n",
    "# df2 = df[df.label==1]\n",
    "# df = pd.concat([df1, df2], ignore_index=True)\n",
    "# sns.countplot(x=\"label\",data=df)"
   ],
   "metadata": {
    "collapsed": false,
    "ExecuteTime": {
     "end_time": "2024-02-06T14:36:10.357795500Z",
     "start_time": "2024-02-06T14:36:10.326220100Z"
    }
   },
   "id": "60d9cbb8aeea4d94"
  },
  {
   "cell_type": "code",
   "execution_count": 5,
   "outputs": [],
   "source": [
    "input_df = pd.DataFrame({\"text\": list(df['preprocessed_text']), \"label\": list(df['label'])})"
   ],
   "metadata": {
    "collapsed": false,
    "ExecuteTime": {
     "end_time": "2024-02-06T15:47:55.314229100Z",
     "start_time": "2024-02-06T15:47:55.282795200Z"
    }
   },
   "id": "7d99dccf2991efa6"
  },
  {
   "cell_type": "code",
   "execution_count": 6,
   "outputs": [],
   "source": [
    "# remove trailing whitespaces and lowercase\n",
    "input_df['text'] = [x.lstrip().rstrip().lower() for x in input_df['text']]"
   ],
   "metadata": {
    "collapsed": false,
    "ExecuteTime": {
     "end_time": "2024-02-06T15:47:56.863130500Z",
     "start_time": "2024-02-06T15:47:56.831856Z"
    }
   },
   "id": "70c12240dd983f77"
  },
  {
   "cell_type": "code",
   "execution_count": 7,
   "outputs": [
    {
     "data": {
      "text/plain": "                                                    text  label\n0                  and on the side i would spread jelly.      0\n1                    thank you speech no cannot do yeah.      1\n2                                     and then the wade.      1\n3                                  it is a right ribbon.      1\n4                       father decided to get remarried.      0\n...                                                  ...    ...\n54648                            i assume she was saved.      0\n54649                          and she goes to the ball.      0\n54650                               that is for sissies.      0\n54651  and but the fairy godmother had warned her tha...      0\n54652                            and the father gets up.      0\n\n[54653 rows x 2 columns]",
      "text/html": "<div>\n<style scoped>\n    .dataframe tbody tr th:only-of-type {\n        vertical-align: middle;\n    }\n\n    .dataframe tbody tr th {\n        vertical-align: top;\n    }\n\n    .dataframe thead th {\n        text-align: right;\n    }\n</style>\n<table border=\"1\" class=\"dataframe\">\n  <thead>\n    <tr style=\"text-align: right;\">\n      <th></th>\n      <th>text</th>\n      <th>label</th>\n    </tr>\n  </thead>\n  <tbody>\n    <tr>\n      <th>0</th>\n      <td>and on the side i would spread jelly.</td>\n      <td>0</td>\n    </tr>\n    <tr>\n      <th>1</th>\n      <td>thank you speech no cannot do yeah.</td>\n      <td>1</td>\n    </tr>\n    <tr>\n      <th>2</th>\n      <td>and then the wade.</td>\n      <td>1</td>\n    </tr>\n    <tr>\n      <th>3</th>\n      <td>it is a right ribbon.</td>\n      <td>1</td>\n    </tr>\n    <tr>\n      <th>4</th>\n      <td>father decided to get remarried.</td>\n      <td>0</td>\n    </tr>\n    <tr>\n      <th>...</th>\n      <td>...</td>\n      <td>...</td>\n    </tr>\n    <tr>\n      <th>54648</th>\n      <td>i assume she was saved.</td>\n      <td>0</td>\n    </tr>\n    <tr>\n      <th>54649</th>\n      <td>and she goes to the ball.</td>\n      <td>0</td>\n    </tr>\n    <tr>\n      <th>54650</th>\n      <td>that is for sissies.</td>\n      <td>0</td>\n    </tr>\n    <tr>\n      <th>54651</th>\n      <td>and but the fairy godmother had warned her tha...</td>\n      <td>0</td>\n    </tr>\n    <tr>\n      <th>54652</th>\n      <td>and the father gets up.</td>\n      <td>0</td>\n    </tr>\n  </tbody>\n</table>\n<p>54653 rows × 2 columns</p>\n</div>"
     },
     "execution_count": 7,
     "metadata": {},
     "output_type": "execute_result"
    }
   ],
   "source": [
    "input_df"
   ],
   "metadata": {
    "collapsed": false,
    "ExecuteTime": {
     "end_time": "2024-02-06T15:47:58.594298600Z",
     "start_time": "2024-02-06T15:47:58.547283800Z"
    }
   },
   "id": "dd910b88b5b08be"
  },
  {
   "cell_type": "code",
   "execution_count": 8,
   "outputs": [],
   "source": [
    "# shuffle\n",
    "input_df = input_df.sample(frac=1).reset_index(drop=True)"
   ],
   "metadata": {
    "collapsed": false,
    "ExecuteTime": {
     "end_time": "2024-02-06T15:48:01.404015100Z",
     "start_time": "2024-02-06T15:48:01.372726100Z"
    }
   },
   "id": "22a34c8c09785016"
  },
  {
   "cell_type": "code",
   "execution_count": 9,
   "outputs": [
    {
     "data": {
      "text/plain": "                                                    text  label\n0      and it appears as though he is kicking a socce...      0\n1                             so she ran down the steps.      0\n2                                             let us go.      0\n3                        and put the jelly on top of it.      0\n4                                  and i was a freshman.      0\n...                                                  ...    ...\n54648  and as she was running away she drops one of h...      0\n54649  and meanwhile now they are getting the firemen...      0\n54650                                            byebye.      1\n54651                           so took her to the ball.      1\n54652  and so she has a carriage with horses that tak...      0\n\n[54653 rows x 2 columns]",
      "text/html": "<div>\n<style scoped>\n    .dataframe tbody tr th:only-of-type {\n        vertical-align: middle;\n    }\n\n    .dataframe tbody tr th {\n        vertical-align: top;\n    }\n\n    .dataframe thead th {\n        text-align: right;\n    }\n</style>\n<table border=\"1\" class=\"dataframe\">\n  <thead>\n    <tr style=\"text-align: right;\">\n      <th></th>\n      <th>text</th>\n      <th>label</th>\n    </tr>\n  </thead>\n  <tbody>\n    <tr>\n      <th>0</th>\n      <td>and it appears as though he is kicking a socce...</td>\n      <td>0</td>\n    </tr>\n    <tr>\n      <th>1</th>\n      <td>so she ran down the steps.</td>\n      <td>0</td>\n    </tr>\n    <tr>\n      <th>2</th>\n      <td>let us go.</td>\n      <td>0</td>\n    </tr>\n    <tr>\n      <th>3</th>\n      <td>and put the jelly on top of it.</td>\n      <td>0</td>\n    </tr>\n    <tr>\n      <th>4</th>\n      <td>and i was a freshman.</td>\n      <td>0</td>\n    </tr>\n    <tr>\n      <th>...</th>\n      <td>...</td>\n      <td>...</td>\n    </tr>\n    <tr>\n      <th>54648</th>\n      <td>and as she was running away she drops one of h...</td>\n      <td>0</td>\n    </tr>\n    <tr>\n      <th>54649</th>\n      <td>and meanwhile now they are getting the firemen...</td>\n      <td>0</td>\n    </tr>\n    <tr>\n      <th>54650</th>\n      <td>byebye.</td>\n      <td>1</td>\n    </tr>\n    <tr>\n      <th>54651</th>\n      <td>so took her to the ball.</td>\n      <td>1</td>\n    </tr>\n    <tr>\n      <th>54652</th>\n      <td>and so she has a carriage with horses that tak...</td>\n      <td>0</td>\n    </tr>\n  </tbody>\n</table>\n<p>54653 rows × 2 columns</p>\n</div>"
     },
     "execution_count": 9,
     "metadata": {},
     "output_type": "execute_result"
    }
   ],
   "source": [
    "input_df"
   ],
   "metadata": {
    "collapsed": false,
    "ExecuteTime": {
     "end_time": "2024-02-06T15:48:03.456626100Z",
     "start_time": "2024-02-06T15:48:03.413297400Z"
    }
   },
   "id": "280ea3fd39410280"
  },
  {
   "cell_type": "markdown",
   "source": [
    "# Encoding # 1"
   ],
   "metadata": {
    "collapsed": false
   },
   "id": "a8abeef2ea96a7e5"
  },
  {
   "cell_type": "code",
   "execution_count": 10,
   "outputs": [],
   "source": [
    "import multiprocessing\n",
    "from gensim.models import Word2Vec"
   ],
   "metadata": {
    "collapsed": false,
    "ExecuteTime": {
     "end_time": "2024-02-06T15:48:13.566918600Z",
     "start_time": "2024-02-06T15:48:13.358017900Z"
    }
   },
   "id": "5e152030dcfd17ac"
  },
  {
   "cell_type": "code",
   "execution_count": 11,
   "outputs": [
    {
     "data": {
      "text/plain": "16"
     },
     "execution_count": 11,
     "metadata": {},
     "output_type": "execute_result"
    }
   ],
   "source": [
    "cores = multiprocessing.cpu_count()\n",
    "cores"
   ],
   "metadata": {
    "collapsed": false,
    "ExecuteTime": {
     "end_time": "2024-02-06T15:48:14.603150500Z",
     "start_time": "2024-02-06T15:48:14.571359Z"
    }
   },
   "id": "f1da9a7e1b0c5550"
  },
  {
   "cell_type": "code",
   "execution_count": 12,
   "outputs": [
    {
     "data": {
      "text/plain": "['and',\n 'it',\n 'appears',\n 'as',\n 'though',\n 'he',\n 'is',\n 'kicking',\n 'a',\n 'soccer',\n 'ball.']"
     },
     "execution_count": 12,
     "metadata": {},
     "output_type": "execute_result"
    }
   ],
   "source": [
    "words_in_sentences=[]\n",
    "for i in input_df[\"text\"]:\n",
    "    words_in_sentences.append(i.lower().split())\n",
    "words_in_sentences[0]"
   ],
   "metadata": {
    "collapsed": false,
    "ExecuteTime": {
     "end_time": "2024-02-06T15:48:16.550870600Z",
     "start_time": "2024-02-06T15:48:16.375078500Z"
    }
   },
   "id": "6398f265e7a92f27"
  },
  {
   "cell_type": "code",
   "execution_count": 13,
   "outputs": [
    {
     "data": {
      "text/plain": "text     and it appears as though he is kicking a socce...\nlabel                                                    0\nName: 0, dtype: object"
     },
     "execution_count": 13,
     "metadata": {},
     "output_type": "execute_result"
    }
   ],
   "source": [
    "input_df.iloc[0]"
   ],
   "metadata": {
    "collapsed": false,
    "ExecuteTime": {
     "end_time": "2024-02-06T15:48:19.081272Z",
     "start_time": "2024-02-06T15:48:19.049187900Z"
    }
   },
   "id": "a6c8600906fb3119"
  },
  {
   "cell_type": "code",
   "execution_count": 14,
   "outputs": [],
   "source": [
    "w2v_model = Word2Vec(min_count=1,\n",
    "                     window=2,\n",
    "                     vector_size = 300,\n",
    "                     sample=6e-5, \n",
    "                     alpha=0.03, \n",
    "                     min_alpha=0.0007, \n",
    "                     negative=20,\n",
    "                     workers=cores-1)"
   ],
   "metadata": {
    "collapsed": false,
    "ExecuteTime": {
     "end_time": "2024-02-06T15:48:22.261564500Z",
     "start_time": "2024-02-06T15:48:22.259055800Z"
    }
   },
   "id": "123e5343341c7e6"
  },
  {
   "cell_type": "code",
   "execution_count": 15,
   "outputs": [],
   "source": [
    "w2v_model.build_vocab(words_in_sentences, progress_per=10000)"
   ],
   "metadata": {
    "collapsed": false,
    "ExecuteTime": {
     "end_time": "2024-02-06T15:48:24.191049700Z",
     "start_time": "2024-02-06T15:48:23.953525200Z"
    }
   },
   "id": "ebe7834b75300377"
  },
  {
   "cell_type": "code",
   "execution_count": 16,
   "outputs": [
    {
     "data": {
      "text/plain": "(4138095, 12907830)"
     },
     "execution_count": 16,
     "metadata": {},
     "output_type": "execute_result"
    }
   ],
   "source": [
    "w2v_model.train(words_in_sentences, total_examples=w2v_model.corpus_count, epochs=30, report_delay=1)"
   ],
   "metadata": {
    "collapsed": false,
    "ExecuteTime": {
     "end_time": "2024-02-06T15:48:29.962572800Z",
     "start_time": "2024-02-06T15:48:25.422904100Z"
    }
   },
   "id": "33f9fd218b99bff5"
  },
  {
   "cell_type": "code",
   "execution_count": 17,
   "outputs": [
    {
     "name": "stdout",
     "output_type": "stream",
     "text": [
      "14876\n"
     ]
    }
   ],
   "source": [
    "vocab=list(w2v_model.wv.key_to_index.keys())\n",
    "print(len(vocab))"
   ],
   "metadata": {
    "collapsed": false,
    "ExecuteTime": {
     "end_time": "2024-02-06T15:48:29.973080700Z",
     "start_time": "2024-02-06T15:48:29.962066700Z"
    }
   },
   "id": "64151109e69c1d1d"
  },
  {
   "cell_type": "code",
   "execution_count": 18,
   "outputs": [],
   "source": [
    "def avg_w2vec(sentences, labels):\n",
    "    \"\"\"\n",
    "    Average Word2Vec approach for creating a vector for a given sentence from the word embeddings of each words of the sentence.\n",
    "    \"\"\"\n",
    "\n",
    "    transformed=[]\n",
    "    lab = []\n",
    "    for sentence, label in zip(sentences,labels):\n",
    "        count=0\n",
    "        vector=np.zeros(300)\n",
    "        for word in sentence.split():\n",
    "            if word in vocab:\n",
    "                vector+=w2v_model.wv.get_vector(word)\n",
    "                count+=1\n",
    "        if count!=0:\n",
    "            vector/=count\n",
    "            transformed.append(vector)\n",
    "            lab.append(label)\n",
    "    return np.array(transformed), np.array(lab), np.array(texts1)"
   ],
   "metadata": {
    "collapsed": false,
    "ExecuteTime": {
     "end_time": "2024-02-06T15:48:30.019963300Z",
     "start_time": "2024-02-06T15:48:29.973080700Z"
    }
   },
   "id": "d34d0cf270e7c01d"
  },
  {
   "cell_type": "code",
   "execution_count": 19,
   "outputs": [],
   "source": [
    "transformed_text, labels1= avg_w2vec(input_df[\"text\"], input_df[\"label\"])"
   ],
   "metadata": {
    "collapsed": false,
    "ExecuteTime": {
     "end_time": "2024-02-06T15:48:59.361318500Z",
     "start_time": "2024-02-06T15:48:55.606255Z"
    }
   },
   "id": "5c80203272c60be7"
  },
  {
   "cell_type": "markdown",
   "source": [
    "# Model fitting"
   ],
   "metadata": {
    "collapsed": false
   },
   "id": "21a1947b6da6438"
  },
  {
   "cell_type": "code",
   "execution_count": 22,
   "outputs": [],
   "source": [
    "# train test split\n",
    "x_train,x_test, y_train, y_test = train_test_split(transformed_text, labels1, stratify=labels1, test_size=0.20)"
   ],
   "metadata": {
    "collapsed": false,
    "ExecuteTime": {
     "end_time": "2024-02-06T14:36:20.154468600Z",
     "start_time": "2024-02-06T14:36:20.108057600Z"
    }
   },
   "id": "cbd82fd9372f42fa"
  },
  {
   "cell_type": "code",
   "execution_count": 23,
   "outputs": [],
   "source": [
    "from sklearn.model_selection import GridSearchCV\n",
    "from sklearn.neighbors import KNeighborsClassifier\n",
    "from sklearn.metrics import f1_score\n",
    "# odd k for preventing ties\n",
    "grid_params = { 'n_neighbors' : [3, 5, 7, 9, 11, 13, 15],\n",
    "               'metric' : ['manhattan', 'minkowski', 'cosine']}"
   ],
   "metadata": {
    "collapsed": false,
    "ExecuteTime": {
     "end_time": "2024-02-06T14:36:20.232749200Z",
     "start_time": "2024-02-06T14:36:20.156469700Z"
    }
   },
   "id": "92e9572bb83d5cf9"
  },
  {
   "cell_type": "code",
   "execution_count": null,
   "outputs": [
    {
     "name": "stdout",
     "output_type": "stream",
     "text": [
      "Fitting 5 folds for each of 21 candidates, totalling 105 fits\n"
     ]
    }
   ],
   "source": [
    "knn=KNeighborsClassifier()\n",
    "clf = GridSearchCV(knn, grid_params, n_jobs=10, verbose=1, return_train_score=True)\n",
    "clf.fit(x_train,y_train)"
   ],
   "metadata": {
    "collapsed": false,
    "is_executing": true,
    "ExecuteTime": {
     "start_time": "2024-02-06T14:36:20.233749800Z"
    }
   },
   "id": "42f91cb92e309421"
  },
  {
   "cell_type": "code",
   "execution_count": null,
   "outputs": [],
   "source": [
    "clf.best_params_"
   ],
   "metadata": {
    "collapsed": false,
    "is_executing": true
   },
   "id": "22ac8d300690108a"
  },
  {
   "cell_type": "code",
   "execution_count": null,
   "outputs": [],
   "source": [
    "clf.cv_results_ "
   ],
   "metadata": {
    "collapsed": false,
    "is_executing": true
   },
   "id": "d425f55bdb5dc91"
  },
  {
   "cell_type": "code",
   "execution_count": null,
   "outputs": [],
   "source": [
    "result_df = pd.concat([pd.DataFrame(clf.cv_results_[\"params\"]),\n",
    "                       pd.DataFrame(clf.cv_results_[\"mean_test_score\"], columns=[\"mean_test_acc\"]),\n",
    "                       pd.DataFrame(clf.cv_results_[\"mean_train_score\"], columns=[\"mean_train_acc\"]),\n",
    "                       pd.DataFrame(clf.cv_results_[\"std_train_score\"], columns=[\"std_train_acc\"])], axis=1)"
   ],
   "metadata": {
    "collapsed": false,
    "is_executing": true
   },
   "id": "536826c34d7a236"
  },
  {
   "cell_type": "code",
   "execution_count": null,
   "outputs": [],
   "source": [
    "result_df.to_csv(\"knn-results.csv\")"
   ],
   "metadata": {
    "collapsed": false,
    "is_executing": true
   },
   "id": "f479524d3aa5fce6"
  },
  {
   "cell_type": "code",
   "execution_count": null,
   "outputs": [],
   "source": [
    "knn = KNeighborsClassifier(n_neighbors=clf.best_params_['n_neighbors'], metric=clf.best_params_['metric'])\n",
    "knn.fit(x_train, y_train)"
   ],
   "metadata": {
    "collapsed": false,
    "is_executing": true
   },
   "id": "66d1a2601dd40125"
  },
  {
   "cell_type": "code",
   "execution_count": null,
   "outputs": [],
   "source": [
    "knnPickle = open('knn_pickle', 'wb')\n",
    "pickle.dump(knn, knnPickle)\n",
    "knnPickle.close()"
   ],
   "metadata": {
    "collapsed": false,
    "is_executing": true
   },
   "id": "b18307b96d728265"
  },
  {
   "cell_type": "markdown",
   "source": [
    "# Training plots"
   ],
   "metadata": {
    "collapsed": false
   },
   "id": "eda9d0a59dfd2867"
  },
  {
   "cell_type": "code",
   "execution_count": null,
   "outputs": [],
   "source": [
    "import matplotlib.pyplot as plt\n",
    "\n",
    "cols = ['red', 'orange', 'green']\n",
    "for metric, col in zip(grid_params['metric'], cols):\n",
    "    plt.plot(result_df[result_df.metric == metric].n_neighbors, result_df[result_df.metric == metric].mean_test_acc, color=col, label=metric)\n",
    "\n",
    "plt.xlabel(\"# neighbours\")\n",
    "plt.ylabel(\"CV Test accuracy\")\n",
    "plt.xticks(grid_params['n_neighbors'])\n",
    "plt.legend()\n",
    "plt.show()"
   ],
   "metadata": {
    "collapsed": false,
    "is_executing": true
   },
   "id": "871bdd09fbc460b8"
  },
  {
   "cell_type": "code",
   "execution_count": null,
   "outputs": [],
   "source": [
    "for metric, col in zip(grid_params['metric'], cols):\n",
    "    plt.plot(result_df[result_df.metric == metric].n_neighbors, result_df[result_df.metric == metric].mean_train_acc, color=col, label=metric)\n",
    "    # plt.fill_between(result_df[result_df.metric == metric].n_neighbors, result_df[result_df.metric == metric].mean_train_acc - result_df[result_df.metric == metric].std_train_acc,result_df[result_df.metric == metric].mean_train_acc + result_df[result_df.metric == metric].std_train_acc)\n",
    "\n",
    "plt.xlabel(\"# neighbours\")\n",
    "plt.ylabel(\"CV Test accuracy\")\n",
    "plt.xticks(grid_params['n_neighbors'])\n",
    "plt.legend()\n",
    "plt.show()"
   ],
   "metadata": {
    "collapsed": false,
    "is_executing": true
   },
   "id": "c2ccc480335ddcff"
  },
  {
   "cell_type": "markdown",
   "source": [
    "# Inference"
   ],
   "metadata": {
    "collapsed": false
   },
   "id": "6012cc004296ae46"
  },
  {
   "cell_type": "code",
   "execution_count": null,
   "outputs": [],
   "source": [
    "from sklearn.metrics import accuracy_score, confusion_matrix, ConfusionMatrixDisplay\n",
    "import matplotlib.pyplot as plt"
   ],
   "metadata": {
    "collapsed": false,
    "is_executing": true
   },
   "id": "a854c71fec50a024"
  },
  {
   "cell_type": "code",
   "execution_count": null,
   "outputs": [],
   "source": [
    "loaded_model = pickle.load(open('knn_pickle', 'rb'))"
   ],
   "metadata": {
    "collapsed": false,
    "is_executing": true
   },
   "id": "6d2bf3eb9dde9d9f"
  },
  {
   "cell_type": "code",
   "execution_count": null,
   "outputs": [],
   "source": [
    "result = loaded_model.predict(x_test)"
   ],
   "metadata": {
    "collapsed": false,
    "is_executing": true
   },
   "id": "975419eb7ef4ab11"
  },
  {
   "cell_type": "code",
   "execution_count": null,
   "outputs": [],
   "source": [
    "len(x_test)"
   ],
   "metadata": {
    "collapsed": false,
    "is_executing": true
   },
   "id": "98fc122bcf48b62c"
  },
  {
   "cell_type": "code",
   "execution_count": null,
   "outputs": [],
   "source": [
    "len(y_test)"
   ],
   "metadata": {
    "collapsed": false,
    "is_executing": true
   },
   "id": "1260369abf089f03"
  },
  {
   "cell_type": "code",
   "execution_count": null,
   "outputs": [],
   "source": [
    "print(accuracy_score(y_test, result))"
   ],
   "metadata": {
    "collapsed": false,
    "is_executing": true
   },
   "id": "e596119838ba02f8"
  },
  {
   "cell_type": "code",
   "execution_count": null,
   "outputs": [],
   "source": [
    "cm = confusion_matrix(y_test, result, normalize='true')\n",
    "tn, fp, fn, tp = cm.ravel()\n",
    "ConfusionMatrixDisplay.from_estimator(loaded_model, x_test,y_test, normalize=\"true\", cmap=plt.cm.Blues)\n",
    "plt.grid(False)\n",
    "plt.show()"
   ],
   "metadata": {
    "collapsed": false,
    "is_executing": true
   },
   "id": "c42f73e1e9f824a3"
  },
  {
   "cell_type": "code",
   "execution_count": null,
   "outputs": [],
   "source": [
    "print(tn, fn, tp, fp)"
   ],
   "metadata": {
    "collapsed": false,
    "is_executing": true
   },
   "id": "c879e16708ace5e9"
  },
  {
   "cell_type": "code",
   "execution_count": null,
   "outputs": [],
   "source": [
    "precision = tp / (tp + fp)\n",
    "recall = tp / (tp + fn)\n",
    "f1 = (2 * precision * recall)/ (precision+recall)\n",
    "print(precision) \n",
    "print(recall)\n",
    "print(f1)"
   ],
   "metadata": {
    "collapsed": false,
    "is_executing": true
   },
   "id": "7738ca39874fc679"
  }
 ],
 "metadata": {
  "kernelspec": {
   "display_name": "Python 3",
   "language": "python",
   "name": "python3"
  },
  "language_info": {
   "codemirror_mode": {
    "name": "ipython",
    "version": 2
   },
   "file_extension": ".py",
   "mimetype": "text/x-python",
   "name": "python",
   "nbconvert_exporter": "python",
   "pygments_lexer": "ipython2",
   "version": "2.7.6"
  }
 },
 "nbformat": 4,
 "nbformat_minor": 5
}
