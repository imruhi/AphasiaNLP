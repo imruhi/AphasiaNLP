{
 "cells": [
  {
   "cell_type": "markdown",
   "source": [
    "## Imports  "
   ],
   "metadata": {
    "collapsed": false
   },
   "id": "a8decd97b993c427"
  },
  {
   "cell_type": "code",
   "execution_count": 64,
   "outputs": [],
   "source": [
    "from transformers import AutoTokenizer\n",
    "from transformers import DataCollatorWithPadding\n",
    "import evaluate\n",
    "import numpy as np\n",
    "from transformers import AutoModelForSequenceClassification, TrainingArguments, Trainer \n",
    "import torch\n",
    "import pandas as pd\n",
    "from datasets import Dataset, DatasetDict\n",
    "import seaborn as sns    \n",
    "from sklearn import model_selection"
   ],
   "metadata": {
    "collapsed": false,
    "ExecuteTime": {
     "end_time": "2024-04-09T20:45:41.543834Z",
     "start_time": "2024-04-09T20:45:41.176432500Z"
    }
   },
   "id": "2f1366e7aa1dd212"
  },
  {
   "cell_type": "code",
   "execution_count": 65,
   "outputs": [
    {
     "name": "stdout",
     "output_type": "stream",
     "text": [
      "True\n",
      "12.1\n"
     ]
    }
   ],
   "source": [
    "print(torch.cuda.is_available())\n",
    "print(torch.version.cuda)"
   ],
   "metadata": {
    "collapsed": false,
    "ExecuteTime": {
     "end_time": "2024-04-09T20:45:41.543834Z",
     "start_time": "2024-04-09T20:45:41.192260100Z"
    }
   },
   "id": "7ce3af904743ee26"
  },
  {
   "cell_type": "code",
   "execution_count": 66,
   "outputs": [
    {
     "name": "stderr",
     "output_type": "stream",
     "text": [
      "Some weights of DistilBertForSequenceClassification were not initialized from the model checkpoint at distilbert-base-uncased and are newly initialized: ['classifier.bias', 'classifier.weight', 'pre_classifier.bias', 'pre_classifier.weight']\n",
      "You should probably TRAIN this model on a down-stream task to be able to use it for predictions and inference.\n"
     ]
    }
   ],
   "source": [
    "device = torch.device(\"cuda\" if torch.cuda.is_available() else \"cpu\")\n",
    "\n",
    "tokenizer = AutoTokenizer.from_pretrained(\"distilbert-base-uncased\", return_tensor=\"pt\")\n",
    "\n",
    "data_collator = DataCollatorWithPadding(tokenizer=tokenizer)\n",
    "\n",
    "accuracy = evaluate.load(\"accuracy\")\n",
    "\n",
    "id2label = {0: \"CONTROL\", 1: \"BROCA\"}\n",
    "label2id = {\"CONTROL\": 0, \"BROCA\": 1}\n",
    "\n",
    "model = AutoModelForSequenceClassification.from_pretrained(\"distilbert-base-uncased\", num_labels=2, id2label=id2label, label2id=label2id)"
   ],
   "metadata": {
    "collapsed": false,
    "ExecuteTime": {
     "end_time": "2024-04-09T20:45:43.069418600Z",
     "start_time": "2024-04-09T20:45:41.208001300Z"
    }
   },
   "id": "288e770542a6325e"
  },
  {
   "cell_type": "code",
   "execution_count": 67,
   "outputs": [],
   "source": [
    "dataset_filename = \"../../preprocessing/data/processed_merge.csv\"\n",
    "data = pd.read_csv(dataset_filename, encoding='utf8', index_col=False).drop(['Unnamed: 0', 'Unnamed: 0.1'], axis=1)"
   ],
   "metadata": {
    "collapsed": false,
    "ExecuteTime": {
     "end_time": "2024-04-09T20:45:43.226157900Z",
     "start_time": "2024-04-09T20:45:43.069418600Z"
    }
   },
   "id": "6968fd60529a4cd0"
  },
  {
   "cell_type": "code",
   "execution_count": 68,
   "outputs": [
    {
     "data": {
      "text/plain": "              scenario    source_file  \\\n0               Window      UMD24.cha   \n1             Umbrella  wright01a.cha   \n2           Cinderella       73-2.cha   \n3                  BNT   adler13a.cha   \n4                  Cat       17-1.cha   \n...                ...            ...   \n56950         Umbrella  wright70a.cha   \n56951            Flood   scale07a.cha   \n56952  Important_Event    UNH1051.cha   \n56953  Important_Event       18-2.cha   \n56954           Window  wright11a.cha   \n\n                                           original_text  \\\n0             +\" I was just practicing . \u0015714781_715861\u0015   \n1                    +\" I'll be okay . \u00152117418_2117778\u0015   \n2             Cinderella &-um &-um two . \u0015697729_703189\u0015   \n3      yes ‡ &=laughs <I know> [/] I know . \u00151725952_...   \n4      &-um but somehow the fireman came . \u0015606241_61...   \n...                                                  ...   \n56950      +\" I don't need an umbrella . \u0015655566_656686\u0015   \n56951  +< &+y yes no yes no yeah &=points:picture . [...   \n56952  so ‡ I &-um went to school in Florida . \u001525995...   \n56953     we would have our nice lunch . \u0015495175_496325\u0015   \n56954  he looked out the window and saw Jimmy standin...   \n\n                                       preprocessed_text  label  \n0                                 i was just practicing.      0  \n1                                        i will be okay.      0  \n2                                        cinderella two.      1  \n3                                     yes i know i know.      1  \n4                          but somehow the fireman came.      0  \n...                                                  ...    ...  \n56950                         i do not need an umbrella.      0  \n56951                                yes no yes no yeah.      1  \n56952                    so i went to school in florida.      0  \n56953                      we would have our nice lunch.      0  \n56954  he looked out the window and saw jimmy standin...      0  \n\n[56955 rows x 5 columns]",
      "text/html": "<div>\n<style scoped>\n    .dataframe tbody tr th:only-of-type {\n        vertical-align: middle;\n    }\n\n    .dataframe tbody tr th {\n        vertical-align: top;\n    }\n\n    .dataframe thead th {\n        text-align: right;\n    }\n</style>\n<table border=\"1\" class=\"dataframe\">\n  <thead>\n    <tr style=\"text-align: right;\">\n      <th></th>\n      <th>scenario</th>\n      <th>source_file</th>\n      <th>original_text</th>\n      <th>preprocessed_text</th>\n      <th>label</th>\n    </tr>\n  </thead>\n  <tbody>\n    <tr>\n      <th>0</th>\n      <td>Window</td>\n      <td>UMD24.cha</td>\n      <td>+\" I was just practicing . \u0015714781_715861\u0015</td>\n      <td>i was just practicing.</td>\n      <td>0</td>\n    </tr>\n    <tr>\n      <th>1</th>\n      <td>Umbrella</td>\n      <td>wright01a.cha</td>\n      <td>+\" I'll be okay . \u00152117418_2117778\u0015</td>\n      <td>i will be okay.</td>\n      <td>0</td>\n    </tr>\n    <tr>\n      <th>2</th>\n      <td>Cinderella</td>\n      <td>73-2.cha</td>\n      <td>Cinderella &amp;-um &amp;-um two . \u0015697729_703189\u0015</td>\n      <td>cinderella two.</td>\n      <td>1</td>\n    </tr>\n    <tr>\n      <th>3</th>\n      <td>BNT</td>\n      <td>adler13a.cha</td>\n      <td>yes ‡ &amp;=laughs &lt;I know&gt; [/] I know . \u00151725952_...</td>\n      <td>yes i know i know.</td>\n      <td>1</td>\n    </tr>\n    <tr>\n      <th>4</th>\n      <td>Cat</td>\n      <td>17-1.cha</td>\n      <td>&amp;-um but somehow the fireman came . \u0015606241_61...</td>\n      <td>but somehow the fireman came.</td>\n      <td>0</td>\n    </tr>\n    <tr>\n      <th>...</th>\n      <td>...</td>\n      <td>...</td>\n      <td>...</td>\n      <td>...</td>\n      <td>...</td>\n    </tr>\n    <tr>\n      <th>56950</th>\n      <td>Umbrella</td>\n      <td>wright70a.cha</td>\n      <td>+\" I don't need an umbrella . \u0015655566_656686\u0015</td>\n      <td>i do not need an umbrella.</td>\n      <td>0</td>\n    </tr>\n    <tr>\n      <th>56951</th>\n      <td>Flood</td>\n      <td>scale07a.cha</td>\n      <td>+&lt; &amp;+y yes no yes no yeah &amp;=points:picture . [...</td>\n      <td>yes no yes no yeah.</td>\n      <td>1</td>\n    </tr>\n    <tr>\n      <th>56952</th>\n      <td>Important_Event</td>\n      <td>UNH1051.cha</td>\n      <td>so ‡ I &amp;-um went to school in Florida . \u001525995...</td>\n      <td>so i went to school in florida.</td>\n      <td>0</td>\n    </tr>\n    <tr>\n      <th>56953</th>\n      <td>Important_Event</td>\n      <td>18-2.cha</td>\n      <td>we would have our nice lunch . \u0015495175_496325\u0015</td>\n      <td>we would have our nice lunch.</td>\n      <td>0</td>\n    </tr>\n    <tr>\n      <th>56954</th>\n      <td>Window</td>\n      <td>wright11a.cha</td>\n      <td>he looked out the window and saw Jimmy standin...</td>\n      <td>he looked out the window and saw jimmy standin...</td>\n      <td>0</td>\n    </tr>\n  </tbody>\n</table>\n<p>56955 rows × 5 columns</p>\n</div>"
     },
     "execution_count": 68,
     "metadata": {},
     "output_type": "execute_result"
    }
   ],
   "source": [
    "data"
   ],
   "metadata": {
    "collapsed": false,
    "ExecuteTime": {
     "end_time": "2024-04-09T20:45:43.241791800Z",
     "start_time": "2024-04-09T20:45:43.226157900Z"
    }
   },
   "id": "cba941e5823a34d0"
  },
  {
   "cell_type": "code",
   "execution_count": 69,
   "outputs": [
    {
     "data": {
      "text/plain": "label\n0    41095\n1    15860\nName: count, dtype: int64"
     },
     "execution_count": 69,
     "metadata": {},
     "output_type": "execute_result"
    }
   ],
   "source": [
    "data[\"label\"].value_counts()"
   ],
   "metadata": {
    "collapsed": false,
    "ExecuteTime": {
     "end_time": "2024-04-09T20:45:43.283099200Z",
     "start_time": "2024-04-09T20:45:43.241791800Z"
    }
   },
   "id": "caca98d726df10d6"
  },
  {
   "cell_type": "code",
   "execution_count": 70,
   "outputs": [],
   "source": [
    "dataset = Dataset.from_pandas(data)"
   ],
   "metadata": {
    "collapsed": false,
    "ExecuteTime": {
     "end_time": "2024-04-09T20:45:43.377665700Z",
     "start_time": "2024-04-09T20:45:43.257415600Z"
    }
   },
   "id": "f39e4e0f4242d32e"
  },
  {
   "cell_type": "code",
   "execution_count": 71,
   "outputs": [
    {
     "data": {
      "text/plain": "Dataset({\n    features: ['scenario', 'source_file', 'original_text', 'preprocessed_text', 'label'],\n    num_rows: 56955\n})"
     },
     "execution_count": 71,
     "metadata": {},
     "output_type": "execute_result"
    }
   ],
   "source": [
    "dataset"
   ],
   "metadata": {
    "collapsed": false,
    "ExecuteTime": {
     "end_time": "2024-04-09T20:45:43.377665700Z",
     "start_time": "2024-04-09T20:45:43.350019400Z"
    }
   },
   "id": "24dc19496ebae57"
  },
  {
   "cell_type": "markdown",
   "source": [
    "# Visualize data"
   ],
   "metadata": {
    "collapsed": false
   },
   "id": "86aa3b6c4ca832a7"
  },
  {
   "cell_type": "code",
   "execution_count": 72,
   "outputs": [],
   "source": [
    "import re\n",
    "sentences = data[\"preprocessed_text\"]\n",
    "x = pd.Series([len(re.findall(\"[a-zA-Z_]+\", x)) for x in sentences])\n",
    "data.insert(loc=0, column=\"lens\", value=x)"
   ],
   "metadata": {
    "collapsed": false,
    "ExecuteTime": {
     "end_time": "2024-04-09T20:45:43.471605300Z",
     "start_time": "2024-04-09T20:45:43.362032300Z"
    }
   },
   "id": "200668dc3f90a58d"
  },
  {
   "cell_type": "code",
   "execution_count": 73,
   "outputs": [
    {
     "data": {
      "text/plain": "lens                                                                77\nscenario                                                           Cat\nsource_file                                                    7-1.cha\noriginal_text        so ‡ &-uh the firefighters arrive only to disc...\npreprocessed_text    so the firefighters arrive only to discover th...\nlabel                                                                0\nName: 35262, dtype: object"
     },
     "execution_count": 73,
     "metadata": {},
     "output_type": "execute_result"
    }
   ],
   "source": [
    "data.iloc[data[\"lens\"].idxmax()]"
   ],
   "metadata": {
    "collapsed": false,
    "ExecuteTime": {
     "end_time": "2024-04-09T20:45:43.487231Z",
     "start_time": "2024-04-09T20:45:43.471605300Z"
    }
   },
   "id": "a81c4c0b05d7a980"
  },
  {
   "cell_type": "code",
   "execution_count": 74,
   "outputs": [],
   "source": [
    "sentences = data[data['label']==1]\n",
    "sentences = sentences['preprocessed_text']\n",
    "lens = [len(re.findall(\"[a-zA-Z_]+\", x)) for x in sentences]"
   ],
   "metadata": {
    "collapsed": false,
    "ExecuteTime": {
     "end_time": "2024-04-09T20:45:43.540549800Z",
     "start_time": "2024-04-09T20:45:43.487231Z"
    }
   },
   "id": "1f5891fc816e790c"
  },
  {
   "cell_type": "code",
   "execution_count": 75,
   "outputs": [
    {
     "data": {
      "text/plain": "<Figure size 640x480 with 1 Axes>",
      "image/png": "[encoded data removed]"
     },
     "metadata": {},
     "output_type": "display_data"
    }
   ],
   "source": [
    "# a lot of aphasic sentences are 1-3 words long\n",
    "import matplotlib.pyplot as plt\n",
    "plt.hist(lens,bins=100)\n",
    "plt.show()"
   ],
   "metadata": {
    "collapsed": false,
    "ExecuteTime": {
     "end_time": "2024-04-09T20:45:43.673838400Z",
     "start_time": "2024-04-09T20:45:43.518481400Z"
    }
   },
   "id": "317c5e321c559839"
  },
  {
   "cell_type": "code",
   "execution_count": 76,
   "outputs": [],
   "source": [
    "data = data[data['lens'] >= 5]"
   ],
   "metadata": {
    "collapsed": false,
    "ExecuteTime": {
     "end_time": "2024-04-09T20:45:43.721478300Z",
     "start_time": "2024-04-09T20:45:43.673838400Z"
    }
   },
   "id": "a5e4f0da144e2c94"
  },
  {
   "cell_type": "code",
   "execution_count": 77,
   "outputs": [
    {
     "data": {
      "text/plain": "       lens         scenario        source_file  \\\n3         5              BNT       adler13a.cha   \n4         5              Cat           17-1.cha   \n5        10       Cinderella         1030-5.cha   \n6        17           Window  richardson178.cha   \n7        11           Speech     kempler04a.cha   \n...     ...              ...                ...   \n56950     6         Umbrella      wright70a.cha   \n56951     5            Flood       scale07a.cha   \n56952     7  Important_Event        UNH1051.cha   \n56953     6  Important_Event           18-2.cha   \n56954    12           Window      wright11a.cha   \n\n                                           original_text  \\\n3      yes ‡ &=laughs <I know> [/] I know . \u00151725952_...   \n4      &-um but somehow the fireman came . \u0015606241_61...   \n5      and [/] &-um and &-um he [* s:uk] want &+t hæp...   \n6      and he was having fun <until one or> [//] unti...   \n7      it was because <I can't> [//] &-uh <it was> [/...   \n...                                                  ...   \n56950      +\" I don't need an umbrella . \u0015655566_656686\u0015   \n56951  +< &+y yes no yes no yeah &=points:picture . [...   \n56952  so ‡ I &-um went to school in Florida . \u001525995...   \n56953     we would have our nice lunch . \u0015495175_496325\u0015   \n56954  he looked out the window and saw Jimmy standin...   \n\n                                       preprocessed_text  label  \n3                                     yes i know i know.      1  \n4                          but somehow the fireman came.      0  \n5           and and he want her lettuce and her tie and.      1  \n6      and he was having fun until one or until one t...      0  \n7              it was because i cannot it was i was i i.      1  \n...                                                  ...    ...  \n56950                         i do not need an umbrella.      0  \n56951                                yes no yes no yeah.      1  \n56952                    so i went to school in florida.      0  \n56953                      we would have our nice lunch.      0  \n56954  he looked out the window and saw jimmy standin...      0  \n\n[38324 rows x 6 columns]",
      "text/html": "<div>\n<style scoped>\n    .dataframe tbody tr th:only-of-type {\n        vertical-align: middle;\n    }\n\n    .dataframe tbody tr th {\n        vertical-align: top;\n    }\n\n    .dataframe thead th {\n        text-align: right;\n    }\n</style>\n<table border=\"1\" class=\"dataframe\">\n  <thead>\n    <tr style=\"text-align: right;\">\n      <th></th>\n      <th>lens</th>\n      <th>scenario</th>\n      <th>source_file</th>\n      <th>original_text</th>\n      <th>preprocessed_text</th>\n      <th>label</th>\n    </tr>\n  </thead>\n  <tbody>\n    <tr>\n      <th>3</th>\n      <td>5</td>\n      <td>BNT</td>\n      <td>adler13a.cha</td>\n      <td>yes ‡ &amp;=laughs &lt;I know&gt; [/] I know . \u00151725952_...</td>\n      <td>yes i know i know.</td>\n      <td>1</td>\n    </tr>\n    <tr>\n      <th>4</th>\n      <td>5</td>\n      <td>Cat</td>\n      <td>17-1.cha</td>\n      <td>&amp;-um but somehow the fireman came . \u0015606241_61...</td>\n      <td>but somehow the fireman came.</td>\n      <td>0</td>\n    </tr>\n    <tr>\n      <th>5</th>\n      <td>10</td>\n      <td>Cinderella</td>\n      <td>1030-5.cha</td>\n      <td>and [/] &amp;-um and &amp;-um he [* s:uk] want &amp;+t hæp...</td>\n      <td>and and he want her lettuce and her tie and.</td>\n      <td>1</td>\n    </tr>\n    <tr>\n      <th>6</th>\n      <td>17</td>\n      <td>Window</td>\n      <td>richardson178.cha</td>\n      <td>and he was having fun &lt;until one or&gt; [//] unti...</td>\n      <td>and he was having fun until one or until one t...</td>\n      <td>0</td>\n    </tr>\n    <tr>\n      <th>7</th>\n      <td>11</td>\n      <td>Speech</td>\n      <td>kempler04a.cha</td>\n      <td>it was because &lt;I can't&gt; [//] &amp;-uh &lt;it was&gt; [/...</td>\n      <td>it was because i cannot it was i was i i.</td>\n      <td>1</td>\n    </tr>\n    <tr>\n      <th>...</th>\n      <td>...</td>\n      <td>...</td>\n      <td>...</td>\n      <td>...</td>\n      <td>...</td>\n      <td>...</td>\n    </tr>\n    <tr>\n      <th>56950</th>\n      <td>6</td>\n      <td>Umbrella</td>\n      <td>wright70a.cha</td>\n      <td>+\" I don't need an umbrella . \u0015655566_656686\u0015</td>\n      <td>i do not need an umbrella.</td>\n      <td>0</td>\n    </tr>\n    <tr>\n      <th>56951</th>\n      <td>5</td>\n      <td>Flood</td>\n      <td>scale07a.cha</td>\n      <td>+&lt; &amp;+y yes no yes no yeah &amp;=points:picture . [...</td>\n      <td>yes no yes no yeah.</td>\n      <td>1</td>\n    </tr>\n    <tr>\n      <th>56952</th>\n      <td>7</td>\n      <td>Important_Event</td>\n      <td>UNH1051.cha</td>\n      <td>so ‡ I &amp;-um went to school in Florida . \u001525995...</td>\n      <td>so i went to school in florida.</td>\n      <td>0</td>\n    </tr>\n    <tr>\n      <th>56953</th>\n      <td>6</td>\n      <td>Important_Event</td>\n      <td>18-2.cha</td>\n      <td>we would have our nice lunch . \u0015495175_496325\u0015</td>\n      <td>we would have our nice lunch.</td>\n      <td>0</td>\n    </tr>\n    <tr>\n      <th>56954</th>\n      <td>12</td>\n      <td>Window</td>\n      <td>wright11a.cha</td>\n      <td>he looked out the window and saw Jimmy standin...</td>\n      <td>he looked out the window and saw jimmy standin...</td>\n      <td>0</td>\n    </tr>\n  </tbody>\n</table>\n<p>38324 rows × 6 columns</p>\n</div>"
     },
     "execution_count": 77,
     "metadata": {},
     "output_type": "execute_result"
    }
   ],
   "source": [
    "data"
   ],
   "metadata": {
    "collapsed": false,
    "ExecuteTime": {
     "end_time": "2024-04-09T20:45:43.721478300Z",
     "start_time": "2024-04-09T20:45:43.689463300Z"
    }
   },
   "id": "6fa460d57c72365a"
  },
  {
   "cell_type": "code",
   "execution_count": 78,
   "outputs": [],
   "source": [
    "data.to_csv(\"../../preprocessing/data/processed_merge_new.csv\")"
   ],
   "metadata": {
    "collapsed": false,
    "ExecuteTime": {
     "end_time": "2024-04-09T20:45:43.852298200Z",
     "start_time": "2024-04-09T20:45:43.705465700Z"
    }
   },
   "id": "ff50fcb4cb4a72df"
  },
  {
   "cell_type": "code",
   "execution_count": 79,
   "outputs": [
    {
     "data": {
      "text/plain": "label\n0    33855\n1     4469\nName: count, dtype: int64"
     },
     "execution_count": 79,
     "metadata": {},
     "output_type": "execute_result"
    }
   ],
   "source": [
    "data[\"label\"].value_counts()"
   ],
   "metadata": {
    "collapsed": false,
    "ExecuteTime": {
     "end_time": "2024-04-09T20:45:43.869324200Z",
     "start_time": "2024-04-09T20:45:43.848888100Z"
    }
   },
   "id": "1409cd3f658f1713"
  },
  {
   "cell_type": "code",
   "execution_count": 80,
   "outputs": [
    {
     "data": {
      "text/plain": "7.57552025061535"
     },
     "execution_count": 80,
     "metadata": {},
     "output_type": "execute_result"
    }
   ],
   "source": [
    "33855/4469"
   ],
   "metadata": {
    "collapsed": false,
    "ExecuteTime": {
     "end_time": "2024-04-09T20:45:43.895420400Z",
     "start_time": "2024-04-09T20:45:43.863306100Z"
    }
   },
   "id": "fec42c6d6f6b236a"
  },
  {
   "cell_type": "code",
   "execution_count": 81,
   "outputs": [],
   "source": [
    "def compute_metrics(eval_pred):\n",
    "    metrics = [\"accuracy\", \"recall\", \"precision\", \"f1\"] #List of metrics to return\n",
    "    metric={}\n",
    "    for met in metrics:\n",
    "       metric[met] = evaluate.load(met)\n",
    "    logits, labels = eval_pred\n",
    "    predictions = np.argmax(logits, axis=1)\n",
    "    metric_res={}\n",
    "    for met in metrics:\n",
    "       metric_res[met]=metric[met].compute(predictions=predictions, references=labels)[met]\n",
    "    print(metric_res)\n",
    "    return metric_res"
   ],
   "metadata": {
    "collapsed": false,
    "ExecuteTime": {
     "end_time": "2024-04-09T20:45:43.927030700Z",
     "start_time": "2024-04-09T20:45:43.879331600Z"
    }
   },
   "id": "b1d26f8ed7628ddf"
  },
  {
   "cell_type": "code",
   "execution_count": 82,
   "outputs": [],
   "source": [
    "def preprocess_function(examples):\n",
    "    return tokenizer(examples[\"preprocessed_text\"], padding=True, truncation=True, return_tensors=\"pt\")"
   ],
   "metadata": {
    "collapsed": false,
    "ExecuteTime": {
     "end_time": "2024-04-09T20:45:43.942711200Z",
     "start_time": "2024-04-09T20:45:43.895420400Z"
    }
   },
   "id": "3c5424bef5910ed6"
  },
  {
   "cell_type": "code",
   "execution_count": 83,
   "outputs": [
    {
     "data": {
      "text/plain": "Map:   0%|          | 0/56955 [00:00<?, ? examples/s]",
      "application/vnd.jupyter.widget-view+json": {
       "version_major": 2,
       "version_minor": 0,
       "model_id": "c432532930eb47ffab77b9b701acd684"
      }
     },
     "metadata": {},
     "output_type": "display_data"
    }
   ],
   "source": [
    "tokenized_data = dataset.map(preprocess_function, batched=True).with_format(\"torch\")"
   ],
   "metadata": {
    "collapsed": false,
    "ExecuteTime": {
     "end_time": "2024-04-09T20:45:45.637806900Z",
     "start_time": "2024-04-09T20:45:43.911067600Z"
    }
   },
   "id": "8e968036da2524"
  },
  {
   "cell_type": "code",
   "execution_count": 84,
   "outputs": [],
   "source": [
    "# 70% train, 30% test + valid\n",
    "train_testvalid = tokenized_data.train_test_split(test_size=0.2, seed=42)\n",
    "test_valid = train_testvalid['test'].train_test_split(test_size=0.5, seed=41)"
   ],
   "metadata": {
    "collapsed": false,
    "ExecuteTime": {
     "end_time": "2024-04-09T20:45:45.650297100Z",
     "start_time": "2024-04-09T20:45:45.634257800Z"
    }
   },
   "id": "26c079af78f208bd"
  },
  {
   "cell_type": "code",
   "execution_count": 85,
   "outputs": [],
   "source": [
    "tokenized_data_split = DatasetDict({\n",
    "    \"train\": train_testvalid[\"train\"],\n",
    "    \"test\": test_valid[\"test\"],\n",
    "    \"valid\": test_valid[\"train\"]})"
   ],
   "metadata": {
    "collapsed": false,
    "ExecuteTime": {
     "end_time": "2024-04-09T20:45:45.693863300Z",
     "start_time": "2024-04-09T20:45:45.650297100Z"
    }
   },
   "id": "56d07ced2f9e8ce6"
  },
  {
   "cell_type": "code",
   "execution_count": 86,
   "outputs": [
    {
     "data": {
      "text/plain": "DatasetDict({\n    train: Dataset({\n        features: ['scenario', 'source_file', 'original_text', 'preprocessed_text', 'label', 'input_ids', 'attention_mask'],\n        num_rows: 45564\n    })\n    test: Dataset({\n        features: ['scenario', 'source_file', 'original_text', 'preprocessed_text', 'label', 'input_ids', 'attention_mask'],\n        num_rows: 5696\n    })\n    valid: Dataset({\n        features: ['scenario', 'source_file', 'original_text', 'preprocessed_text', 'label', 'input_ids', 'attention_mask'],\n        num_rows: 5695\n    })\n})"
     },
     "execution_count": 86,
     "metadata": {},
     "output_type": "execute_result"
    }
   ],
   "source": [
    "tokenized_data_split"
   ],
   "metadata": {
    "collapsed": false,
    "ExecuteTime": {
     "end_time": "2024-04-09T20:45:45.693863300Z",
     "start_time": "2024-04-09T20:45:45.670650800Z"
    }
   },
   "id": "f252a85f572a664"
  },
  {
   "cell_type": "code",
   "execution_count": 87,
   "outputs": [
    {
     "name": "stderr",
     "output_type": "stream",
     "text": [
      "C:\\Users\\imruh\\miniconda3\\envs\\thesis\\lib\\site-packages\\accelerate\\accelerator.py:432: FutureWarning: Passing the following arguments to `Accelerator` is deprecated and will be removed in version 1.0 of Accelerate: dict_keys(['dispatch_batches', 'split_batches', 'even_batches', 'use_seedable_sampler']). Please pass an `accelerate.DataLoaderConfiguration` instead: \n",
      "dataloader_config = DataLoaderConfiguration(dispatch_batches=None, split_batches=False, even_batches=True, use_seedable_sampler=True)\n",
      "  warnings.warn(\n"
     ]
    },
    {
     "data": {
      "text/plain": "<IPython.core.display.HTML object>",
      "text/html": "\n    <div>\n      \n      <progress value='2' max='5696' style='width:300px; height:20px; vertical-align: middle;'></progress>\n      [   2/5696 : < :, Epoch 0.00/2]\n    </div>\n    <table border=\"1\" class=\"dataframe\">\n  <thead>\n <tr style=\"text-align: left;\">\n      <th>Epoch</th>\n      <th>Training Loss</th>\n      <th>Validation Loss</th>\n    </tr>\n  </thead>\n  <tbody>\n  </tbody>\n</table><p>"
     },
     "metadata": {},
     "output_type": "display_data"
    },
    {
     "name": "stdout",
     "output_type": "stream",
     "text": [
      "{'accuracy': 0.9085162423178227, 'recall': 0.8046924540266328, 'precision': 0.8562753036437247, 'f1': 0.8296829029094476}\n",
      "{'accuracy': 0.913081650570676, 'recall': 0.8192771084337349, 'precision': 0.8601864181091877, 'f1': 0.8392335173757713}\n"
     ]
    }
   ],
   "source": [
    "training_args = TrainingArguments(\n",
    "    output_dir=\"../models/bert_finetuned\",\n",
    "    learning_rate=2e-5,\n",
    "    per_device_train_batch_size=16,\n",
    "    per_device_eval_batch_size=16,\n",
    "    num_train_epochs=2,\n",
    "    weight_decay=0.01,\n",
    "    evaluation_strategy=\"epoch\",\n",
    "    logging_strategy=\"epoch\",\n",
    "    save_strategy=\"epoch\",\n",
    "    load_best_model_at_end=True,\n",
    "    push_to_hub=False,\n",
    "    use_cpu = False\n",
    ")\n",
    "\n",
    "trainer = Trainer(\n",
    "    model=model,\n",
    "    args=training_args,\n",
    "    train_dataset=tokenized_data_split[\"train\"],\n",
    "    eval_dataset=tokenized_data_split[\"valid\"],\n",
    "    tokenizer=tokenizer,\n",
    "    data_collator=data_collator,\n",
    "    compute_metrics=compute_metrics,\n",
    ")\n",
    "\n",
    "trainer.train()\n",
    "trainer.save_model('../models/bert_finetuned')"
   ],
   "metadata": {
    "collapsed": false,
    "ExecuteTime": {
     "end_time": "2024-04-09T20:53:23.877639900Z",
     "start_time": "2024-04-09T20:45:45.686696400Z"
    }
   },
   "id": "a3ff31fdb9094677"
  },
  {
   "cell_type": "code",
   "execution_count": 88,
   "outputs": [
    {
     "data": {
      "text/plain": "<IPython.core.display.HTML object>",
      "text/html": "\n    <div>\n      \n      <progress value='1' max='356' style='width:300px; height:20px; vertical-align: middle;'></progress>\n      [  1/356 : < :]\n    </div>\n    "
     },
     "metadata": {},
     "output_type": "display_data"
    },
    {
     "name": "stdout",
     "output_type": "stream",
     "text": [
      "{'accuracy': 0.913081650570676, 'recall': 0.8192771084337349, 'precision': 0.8601864181091877, 'f1': 0.8392335173757713}\n"
     ]
    },
    {
     "data": {
      "text/plain": "{'eval_loss': 0.25206202268600464,\n 'eval_accuracy': 0.913081650570676,\n 'eval_recall': 0.8192771084337349,\n 'eval_precision': 0.8601864181091877,\n 'eval_f1': 0.8392335173757713,\n 'eval_runtime': 13.6373,\n 'eval_samples_per_second': 417.604,\n 'eval_steps_per_second': 26.105,\n 'epoch': 2.0}"
     },
     "execution_count": 88,
     "metadata": {},
     "output_type": "execute_result"
    }
   ],
   "source": [
    "trainer.evaluate()"
   ],
   "metadata": {
    "collapsed": false,
    "ExecuteTime": {
     "end_time": "2024-04-09T20:53:37.536561100Z",
     "start_time": "2024-04-09T20:53:23.878640200Z"
    }
   },
   "id": "8cd826e366d3392b"
  },
  {
   "cell_type": "markdown",
   "source": [
    "# Evaluate model"
   ],
   "metadata": {
    "collapsed": false
   },
   "id": "5c4784af9a51b005"
  },
  {
   "cell_type": "code",
   "execution_count": 89,
   "outputs": [],
   "source": [
    "from transformers import AutoTokenizer, AutoModelForSequenceClassification, AutoModel\n",
    "tokenizer = AutoTokenizer.from_pretrained(\"../models/bert_finetuned\", return_tensor=\"pt\")\n",
    "model = AutoModelForSequenceClassification.from_pretrained(\"../models/bert_finetuned\")\n",
    "device = \"cuda:0\" if torch.cuda.is_available() else \"cpu\"\n",
    "model = model.to(device)"
   ],
   "metadata": {
    "collapsed": false,
    "ExecuteTime": {
     "end_time": "2024-04-09T20:53:37.843290500Z",
     "start_time": "2024-04-09T20:53:37.528930200Z"
    }
   },
   "id": "9189d00002d778f9"
  },
  {
   "cell_type": "code",
   "execution_count": 90,
   "outputs": [],
   "source": [
    "sentences = tokenized_data_split[\"test\"][\"preprocessed_text\"]\n",
    "true_labels = tokenized_data_split[\"test\"][\"label\"] "
   ],
   "metadata": {
    "collapsed": false,
    "ExecuteTime": {
     "end_time": "2024-04-09T20:53:37.922720900Z",
     "start_time": "2024-04-09T20:53:37.844725300Z"
    }
   },
   "id": "78ede310c0ba2c77"
  },
  {
   "cell_type": "code",
   "execution_count": 91,
   "outputs": [],
   "source": [
    "pred_labels = []\n",
    "\n",
    "for sentence in sentences:\n",
    "    inputs = tokenizer(sentence, return_tensors=\"pt\").input_ids.to(device) \n",
    "    with torch.no_grad():\n",
    "        logits = model(inputs).logits\n",
    "    predicted_class_id = logits.argmax().item()\n",
    "    pred_labels.append(predicted_class_id)"
   ],
   "metadata": {
    "collapsed": false,
    "ExecuteTime": {
     "end_time": "2024-04-09T20:54:02.500094100Z",
     "start_time": "2024-04-09T20:53:37.924720800Z"
    }
   },
   "id": "cf076f2d3e9071e0"
  },
  {
   "cell_type": "code",
   "execution_count": 92,
   "outputs": [
    {
     "data": {
      "text/plain": "<Figure size 640x480 with 2 Axes>",
      "image/png": "[encoded data removed]"
     },
     "metadata": {},
     "output_type": "display_data"
    }
   ],
   "source": [
    "from sklearn.metrics import accuracy_score, confusion_matrix, ConfusionMatrixDisplay\n",
    "import matplotlib.pyplot as plt\n",
    "\n",
    "cm = confusion_matrix(true_labels, pred_labels, normalize='true')\n",
    "tn, fp, fn, tp = cm.ravel()\n",
    "ConfusionMatrixDisplay.from_predictions(true_labels, pred_labels, normalize=\"true\", cmap=plt.cm.Blues)\n",
    "plt.grid(False)\n",
    "plt.show()"
   ],
   "metadata": {
    "collapsed": false,
    "ExecuteTime": {
     "end_time": "2024-04-09T20:54:02.610144200Z",
     "start_time": "2024-04-09T20:54:02.502033Z"
    }
   },
   "id": "2ec04b8a0331f1ed"
  },
  {
   "cell_type": "code",
   "execution_count": 93,
   "outputs": [
    {
     "data": {
      "text/plain": "0.9164325842696629"
     },
     "execution_count": 93,
     "metadata": {},
     "output_type": "execute_result"
    }
   ],
   "source": [
    "accuracy_score(true_labels, pred_labels)"
   ],
   "metadata": {
    "collapsed": false,
    "ExecuteTime": {
     "end_time": "2024-04-09T20:54:02.663683800Z",
     "start_time": "2024-04-09T20:54:02.611142400Z"
    }
   },
   "id": "fbfea9d986d8e4e1"
  },
  {
   "cell_type": "code",
   "execution_count": 94,
   "outputs": [
    {
     "name": "stdout",
     "output_type": "stream",
     "text": [
      "0.9415857896773625\n",
      "0.8357187305538271\n",
      "0.8854992173815313\n"
     ]
    }
   ],
   "source": [
    "precision = tp / (tp + fp)\n",
    "recall = tp / (tp + fn)\n",
    "f1 = (2 * precision * recall)/ (precision+recall)\n",
    "print(precision) \n",
    "print(recall)\n",
    "print(f1)"
   ],
   "metadata": {
    "collapsed": false,
    "ExecuteTime": {
     "end_time": "2024-04-09T20:54:02.665107700Z",
     "start_time": "2024-04-09T20:54:02.628175Z"
    }
   },
   "id": "bd9a350d3c05122e"
  },
  {
   "cell_type": "markdown",
   "source": [
    "# Feature visualization"
   ],
   "metadata": {
    "collapsed": false,
    "ExecuteTime": {
     "end_time": "2024-02-27T13:33:30.731676300Z",
     "start_time": "2024-02-27T13:33:30.711678200Z"
    }
   },
   "id": "b372717bd48a479d"
  },
  {
   "cell_type": "code",
   "execution_count": 95,
   "outputs": [],
   "source": [
    "from transformers import AutoTokenizer, AutoModelForSequenceClassification, AutoModel\n",
    "import torch\n",
    "\n",
    "tokenizer = AutoTokenizer.from_pretrained(\"../models/bert_finetuned\", return_tensor=\"pt\")\n",
    "model = AutoModel.from_pretrained(\"../models/bert_finetuned\")\n",
    "device = \"cuda:0\" if torch.cuda.is_available() else \"cpu\"\n",
    "model = model.to(device)"
   ],
   "metadata": {
    "collapsed": false,
    "ExecuteTime": {
     "end_time": "2024-04-09T20:54:02.936194700Z",
     "start_time": "2024-04-09T20:54:02.640669600Z"
    }
   },
   "id": "42df4e6fa6a3ab63"
  },
  {
   "cell_type": "code",
   "execution_count": 96,
   "outputs": [],
   "source": [
    "def extract_hidden_states(batch):\n",
    "    sentences = [x for x in batch[\"preprocessed_text\"]]\n",
    "    with torch.no_grad():\n",
    "        inputs = tokenizer(sentences, return_tensors=\"pt\", padding=True, truncation=True).input_ids.to(device)\n",
    "        last_hidden_state = model(inputs).last_hidden_state\n",
    "\n",
    "    return {\"hidden state\": last_hidden_state[:, 0].cpu().numpy()}"
   ],
   "metadata": {
    "collapsed": false,
    "ExecuteTime": {
     "end_time": "2024-04-09T20:54:02.953870100Z",
     "start_time": "2024-04-09T20:54:02.939194500Z"
    }
   },
   "id": "b40b88034bf9bdb5"
  },
  {
   "cell_type": "code",
   "execution_count": 97,
   "outputs": [],
   "source": [
    "# hidden = tokenized_data_split.map(\n",
    "#     extract_hidden_states, batched=True)"
   ],
   "metadata": {
    "collapsed": false,
    "ExecuteTime": {
     "end_time": "2024-04-09T20:54:02.982537700Z",
     "start_time": "2024-04-09T20:54:02.954876700Z"
    }
   },
   "id": "d2f4394defd64749"
  },
  {
   "cell_type": "code",
   "execution_count": 98,
   "outputs": [
    {
     "ename": "NameError",
     "evalue": "name 'hidden' is not defined",
     "output_type": "error",
     "traceback": [
      "\u001B[1;31m---------------------------------------------------------------------------\u001B[0m",
      "\u001B[1;31mNameError\u001B[0m                                 Traceback (most recent call last)",
      "\u001B[1;32m~\\AppData\\Local\\Temp\\ipykernel_17212\\805185143.py\u001B[0m in \u001B[0;36m<cell line: 1>\u001B[1;34m()\u001B[0m\n\u001B[1;32m----> 1\u001B[1;33m \u001B[0mhidden\u001B[0m\u001B[1;33m.\u001B[0m\u001B[0msave_to_disk\u001B[0m\u001B[1;33m(\u001B[0m\u001B[1;34m'../models/bert_dataset'\u001B[0m\u001B[1;33m)\u001B[0m\u001B[1;33m\u001B[0m\u001B[1;33m\u001B[0m\u001B[0m\n\u001B[0m",
      "\u001B[1;31mNameError\u001B[0m: name 'hidden' is not defined"
     ]
    }
   ],
   "source": [
    "hidden.save_to_disk('../models/bert_dataset')"
   ],
   "metadata": {
    "collapsed": false,
    "ExecuteTime": {
     "end_time": "2024-04-09T20:54:03.060040700Z",
     "start_time": "2024-04-09T20:54:02.970531900Z"
    }
   },
   "id": "a152ad631bfaa816"
  },
  {
   "cell_type": "code",
   "execution_count": null,
   "outputs": [],
   "source": [
    "hidden[\"test\"].column_names"
   ],
   "metadata": {
    "collapsed": false,
    "ExecuteTime": {
     "start_time": "2024-04-09T20:54:03.015009600Z"
    }
   },
   "id": "b097eaa230a4491d"
  },
  {
   "cell_type": "code",
   "execution_count": null,
   "outputs": [],
   "source": [
    "print(np.array(hidden[\"train\"][\"hidden state\"]).shape)"
   ],
   "metadata": {
    "collapsed": false,
    "ExecuteTime": {
     "start_time": "2024-04-09T20:54:03.017633100Z"
    }
   },
   "id": "ee314912a3c95858"
  },
  {
   "cell_type": "code",
   "execution_count": null,
   "outputs": [],
   "source": [
    "from sklearn.decomposition import PCA\n",
    "from sklearn.preprocessing import MinMaxScaler\n",
    "\n",
    "X_train = np.array(hidden[\"train\"][\"hidden state\"])\n",
    "y_train = np.array(hidden[\"train\"][\"label\"])\n",
    "\n",
    "X_test = np.array(hidden[\"test\"][\"hidden state\"])\n",
    "y_test = np.array(hidden[\"test\"][\"label\"])"
   ],
   "metadata": {
    "collapsed": false,
    "ExecuteTime": {
     "start_time": "2024-04-09T20:54:03.019069100Z"
    }
   },
   "id": "8f05890fe30c5763"
  },
  {
   "cell_type": "code",
   "execution_count": null,
   "outputs": [],
   "source": [
    "# reduce to 2d for visualization\n",
    "pca = PCA(n_components=2)\n",
    "\n",
    "x_scaled = MinMaxScaler().fit_transform(X_train)\n",
    "x_2d = pca.fit_transform(x_scaled)\n",
    "x_2d.shape\n",
    "\n",
    "x_scaled1 = MinMaxScaler().fit_transform(X_test)\n",
    "x_2d1 = pca.fit_transform(x_scaled1)\n",
    "x_2d1.shape"
   ],
   "metadata": {
    "collapsed": false,
    "ExecuteTime": {
     "start_time": "2024-04-09T20:54:03.020568800Z"
    }
   },
   "id": "c07f8f9bfadf1f07"
  },
  {
   "cell_type": "code",
   "execution_count": null,
   "outputs": [],
   "source": [
    "# reduce to 3d for visualization\n",
    "pca = PCA(n_components=3)\n",
    "\n",
    "x_scaled = MinMaxScaler().fit_transform(X_train)\n",
    "x_3d = pca.fit_transform(x_scaled)\n",
    "x_3d.shape\n",
    "\n",
    "x_scaled1 = MinMaxScaler().fit_transform(X_test)\n",
    "x_3d1 = pca.fit_transform(x_scaled1)\n",
    "x_3d1.shape"
   ],
   "metadata": {
    "collapsed": false,
    "ExecuteTime": {
     "start_time": "2024-04-09T20:54:03.022036300Z"
    }
   },
   "id": "e78358214e289c61"
  },
  {
   "cell_type": "code",
   "execution_count": null,
   "outputs": [],
   "source": [
    "# 2d viz\n",
    "fig, ax = plt.subplots(2, 2, figsize=(7, 5))\n",
    "ax = ax.flatten()\n",
    "cmaps = [\"blue\", \"orange\"]\n",
    "labels = set([x.item() for x in tokenized_data_split[\"train\"][\"label\"]])\n",
    "\n",
    "for i, (label, cmap) in enumerate(zip(labels, cmaps)):\n",
    "    x_2d_sub = x_2d[y_train == i]\n",
    "    ax[i].scatter(x_2d_sub[:, 0], x_2d_sub[:, 1], color=cmap)\n",
    "    ax[i].set_title(id2label[label] +\" TRAIN\")\n",
    "    \n",
    "for i, (label, cmap) in enumerate(zip(labels, cmaps)):\n",
    "    x_2d_sub1 = x_2d1[y_test == i]\n",
    "    ax[i+2].scatter(x_2d_sub1[:, 0], x_2d_sub1[:, 1], color=cmap)\n",
    "    ax[i+2].set_title(id2label[label] +\" TEST\" )\n",
    "\n",
    "plt.tight_layout()\n",
    "plt.show()"
   ],
   "metadata": {
    "collapsed": false,
    "ExecuteTime": {
     "start_time": "2024-04-09T20:54:03.023044Z"
    }
   },
   "id": "12fa5db541f9bb2b"
  },
  {
   "cell_type": "markdown",
   "source": [
    "### Shows us that there might be an overlap in control text and broca text which indistinguishable to the model (so model goes with control as sort of default strategy)"
   ],
   "metadata": {
    "collapsed": false
   },
   "id": "98ee6b60b009c571"
  },
  {
   "cell_type": "code",
   "execution_count": null,
   "outputs": [],
   "source": [
    "# 3d vis\n",
    "\n",
    "fig, ax = plt.subplots(2, 2, subplot_kw={\"projection\": \"3d\"}, figsize=(8, 6))\n",
    "ax = ax.flatten()\n",
    "cmaps = [\"blue\", \"orange\"]\n",
    "labels = set([x.item() for x in tokenized_data_split[\"train\"][\"label\"]])\n",
    "\n",
    "for i, (label, cmap) in enumerate(zip(labels, cmaps)):\n",
    "    x_3d_sub = x_3d[y_train == i]\n",
    "    ax[i].scatter(x_3d_sub[:, 0], x_3d_sub[:, 1], color=cmap)\n",
    "    ax[i].set_title(id2label[label]+\" TRAIN\")\n",
    "    \n",
    "for i, (label, cmap) in enumerate(zip(labels, cmaps)):\n",
    "    x_3d_sub1 = x_3d1[y_test == i]\n",
    "    ax[i+2].scatter(x_3d_sub1[:, 0], x_3d_sub1[:, 1], color=cmap)\n",
    "    ax[i+2].set_title(id2label[label]+\" TEST\" )\n",
    "\n",
    "plt.tight_layout()\n",
    "plt.show()"
   ],
   "metadata": {
    "collapsed": false,
    "ExecuteTime": {
     "start_time": "2024-04-09T20:54:03.025042700Z"
    }
   },
   "id": "f129d6059f201e9b"
  },
  {
   "cell_type": "markdown",
   "source": [
    "# Attention viz"
   ],
   "metadata": {
    "collapsed": false,
    "ExecuteTime": {
     "end_time": "2024-02-27T13:35:11.025219100Z",
     "start_time": "2024-02-27T13:35:10.958474500Z"
    }
   },
   "id": "6d2d2dc9e35e72b"
  },
  {
   "cell_type": "code",
   "execution_count": null,
   "outputs": [],
   "source": [
    "from bertviz import model_view, head_view\n",
    "from transformers import AutoTokenizer, AutoModelForSequenceClassification, AutoModel\n",
    "import torch\n",
    "\n",
    "tokenizer = AutoTokenizer.from_pretrained(\"../models/bert_finetuned\", return_tensor=\"pt\")\n",
    "model = AutoModel.from_pretrained(\"../models/bert_finetuned\")\n",
    "device = \"cuda:0\" if torch.cuda.is_available() else \"cpu\""
   ],
   "metadata": {
    "collapsed": false,
    "ExecuteTime": {
     "start_time": "2024-04-09T20:54:03.026043200Z"
    }
   },
   "id": "fd15c9abb7a65134"
  },
  {
   "cell_type": "markdown",
   "source": [
    "### For control sentence"
   ],
   "metadata": {
    "collapsed": false
   },
   "id": "16593d5c50e2ccdb"
  },
  {
   "cell_type": "code",
   "execution_count": null,
   "outputs": [],
   "source": [
    "input = tokenizer.encode(sentences[0], return_tensors=\"pt\")\n",
    "output = model(input, output_attentions=True)\n",
    "\n",
    "attention = output[-1]\n",
    "tokens = tokenizer.convert_ids_to_tokens(input[0]) \n",
    "model_view(attention, tokens)\n",
    "print(sentences[0], true_labels[0])"
   ],
   "metadata": {
    "collapsed": false,
    "ExecuteTime": {
     "start_time": "2024-04-09T20:54:03.027044500Z"
    }
   },
   "id": "48f7d23ea59f9d2a"
  },
  {
   "cell_type": "markdown",
   "source": [
    "### For broca sentence"
   ],
   "metadata": {
    "collapsed": false
   },
   "id": "ccb0aef809127cec"
  },
  {
   "cell_type": "code",
   "execution_count": null,
   "outputs": [],
   "source": [
    "input = tokenizer.encode(sentences[8], return_tensors=\"pt\")\n",
    "output = model(input, output_attentions=True)\n",
    "\n",
    "attention = output[-1]\n",
    "tokens = tokenizer.convert_ids_to_tokens(input[0]) \n",
    "model_view(attention, tokens)\n",
    "print(sentences[8], true_labels[8])"
   ],
   "metadata": {
    "collapsed": false,
    "ExecuteTime": {
     "start_time": "2024-04-09T20:54:03.028046900Z"
    }
   },
   "id": "9205ee88774675f"
  }
 ],
 "metadata": {
  "kernelspec": {
   "display_name": "Python 3",
   "language": "python",
   "name": "python3"
  },
  "language_info": {
   "codemirror_mode": {
    "name": "ipython",
    "version": 2
   },
   "file_extension": ".py",
   "mimetype": "text/x-python",
   "name": "python",
   "nbconvert_exporter": "python",
   "pygments_lexer": "ipython2",
   "version": "2.7.6"
  }
 },
 "nbformat": 4,
 "nbformat_minor": 5
}
