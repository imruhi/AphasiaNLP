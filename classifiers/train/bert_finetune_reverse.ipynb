{
 "cells": [
  {
   "cell_type": "markdown",
   "id": "a8decd97b993c427",
   "metadata": {
    "collapsed": false
   },
   "source": [
    "## Imports  "
   ]
  },
  {
   "cell_type": "code",
   "execution_count": 17,
   "id": "2f1366e7aa1dd212",
   "metadata": {
    "collapsed": false,
    "ExecuteTime": {
     "end_time": "2024-04-09T21:41:55.342933300Z",
     "start_time": "2024-04-09T21:41:55.089881700Z"
    }
   },
   "outputs": [],
   "source": [
    "from transformers import AutoTokenizer\n",
    "from transformers import DataCollatorWithPadding\n",
    "import evaluate\n",
    "import numpy as np\n",
    "from transformers import AutoModelForSequenceClassification, TrainingArguments, Trainer \n",
    "import torch\n",
    "import pandas as pd\n",
    "from datasets import Dataset, DatasetDict\n",
    "import seaborn as sns       "
   ]
  },
  {
   "cell_type": "code",
   "execution_count": 18,
   "id": "7ce3af904743ee26",
   "metadata": {
    "collapsed": false,
    "ExecuteTime": {
     "end_time": "2024-04-09T21:41:55.554054Z",
     "start_time": "2024-04-09T21:41:55.094085Z"
    }
   },
   "outputs": [
    {
     "name": "stdout",
     "output_type": "stream",
     "text": [
      "True\n",
      "12.1\n"
     ]
    }
   ],
   "source": [
    "print(torch.cuda.is_available())\n",
    "print(torch.version.cuda)"
   ]
  },
  {
   "cell_type": "code",
   "execution_count": 19,
   "id": "cded5d3cb3bb09e0",
   "metadata": {
    "collapsed": false,
    "ExecuteTime": {
     "end_time": "2024-04-09T21:41:55.560243200Z",
     "start_time": "2024-04-09T21:41:55.105787300Z"
    }
   },
   "outputs": [],
   "source": [
    "model_name = \"../models/bert_finetuned_reverse_c4\""
   ]
  },
  {
   "cell_type": "code",
   "execution_count": 20,
   "id": "288e770542a6325e",
   "metadata": {
    "collapsed": false,
    "ExecuteTime": {
     "end_time": "2024-04-09T21:41:57.141104800Z",
     "start_time": "2024-04-09T21:41:55.123939100Z"
    }
   },
   "outputs": [
    {
     "name": "stderr",
     "output_type": "stream",
     "text": [
      "Some weights of DistilBertForSequenceClassification were not initialized from the model checkpoint at distilbert-base-uncased and are newly initialized: ['classifier.bias', 'classifier.weight', 'pre_classifier.bias', 'pre_classifier.weight']\n",
      "You should probably TRAIN this model on a down-stream task to be able to use it for predictions and inference.\n"
     ]
    }
   ],
   "source": [
    "device = torch.device(\"cuda\" if torch.cuda.is_available() else \"cpu\")\n",
    "\n",
    "tokenizer = AutoTokenizer.from_pretrained(\"distilbert-base-uncased\", return_tensor=\"pt\")\n",
    "\n",
    "data_collator = DataCollatorWithPadding(tokenizer=tokenizer)\n",
    "\n",
    "accuracy = evaluate.load(\"accuracy\")\n",
    "\n",
    "id2label = {0: \"CONTROL\", 1: \"BROCA\"}\n",
    "label2id = {\"CONTROL\": 0, \"BROCA\": 1}\n",
    "\n",
    "model = AutoModelForSequenceClassification.from_pretrained(\"distilbert-base-uncased\", num_labels=2, id2label=id2label, label2id=label2id)"
   ]
  },
  {
   "cell_type": "code",
   "execution_count": 21,
   "id": "6968fd60529a4cd0",
   "metadata": {
    "collapsed": false,
    "ExecuteTime": {
     "end_time": "2024-04-09T21:41:57.172557800Z",
     "start_time": "2024-04-09T21:41:57.114963600Z"
    }
   },
   "outputs": [],
   "source": [
    "# dataset_filename = \"../../preprocessing/data/processed_merge.csv\"\n",
    "dataset_filename = \"../../linguistic_model/data/synthetic_clan_merge_c4.csv\"\n",
    "data = pd.read_csv(dataset_filename, encoding='utf8', index_col=False)#.drop(['Unnamed: 0','Unnamed: 0.1'], axis=1)"
   ]
  },
  {
   "cell_type": "code",
   "execution_count": 22,
   "id": "cba941e5823a34d0",
   "metadata": {
    "collapsed": false,
    "ExecuteTime": {
     "end_time": "2024-04-09T21:41:57.172557800Z",
     "start_time": "2024-04-09T21:41:57.141104800Z"
    }
   },
   "outputs": [
    {
     "data": {
      "text/plain": "                                   preprocessed_text  label\n0             which which is and celebrated her her.      1\n1                                      it is my zen.      0\n2  coláiste chiaráin are delighted to announce th...      0\n3  please visit our surgeries page to see a list ...      0\n4  designed around easy to use web based features...      0",
      "text/html": "<div>\n<style scoped>\n    .dataframe tbody tr th:only-of-type {\n        vertical-align: middle;\n    }\n\n    .dataframe tbody tr th {\n        vertical-align: top;\n    }\n\n    .dataframe thead th {\n        text-align: right;\n    }\n</style>\n<table border=\"1\" class=\"dataframe\">\n  <thead>\n    <tr style=\"text-align: right;\">\n      <th></th>\n      <th>preprocessed_text</th>\n      <th>label</th>\n    </tr>\n  </thead>\n  <tbody>\n    <tr>\n      <th>0</th>\n      <td>which which is and celebrated her her.</td>\n      <td>1</td>\n    </tr>\n    <tr>\n      <th>1</th>\n      <td>it is my zen.</td>\n      <td>0</td>\n    </tr>\n    <tr>\n      <th>2</th>\n      <td>coláiste chiaráin are delighted to announce th...</td>\n      <td>0</td>\n    </tr>\n    <tr>\n      <th>3</th>\n      <td>please visit our surgeries page to see a list ...</td>\n      <td>0</td>\n    </tr>\n    <tr>\n      <th>4</th>\n      <td>designed around easy to use web based features...</td>\n      <td>0</td>\n    </tr>\n  </tbody>\n</table>\n</div>"
     },
     "execution_count": 22,
     "metadata": {},
     "output_type": "execute_result"
    }
   ],
   "source": [
    "data.head()"
   ]
  },
  {
   "cell_type": "code",
   "execution_count": 23,
   "id": "2d88c1cf33e6ee36",
   "metadata": {
    "collapsed": false,
    "ExecuteTime": {
     "end_time": "2024-04-09T21:41:57.207119600Z",
     "start_time": "2024-04-09T21:41:57.160866Z"
    }
   },
   "outputs": [
    {
     "data": {
      "text/plain": "14935"
     },
     "execution_count": 23,
     "metadata": {},
     "output_type": "execute_result"
    }
   ],
   "source": [
    "len(data)"
   ]
  },
  {
   "cell_type": "code",
   "execution_count": 24,
   "id": "caca98d726df10d6",
   "metadata": {
    "collapsed": false,
    "ExecuteTime": {
     "end_time": "2024-04-09T21:41:57.251106600Z",
     "start_time": "2024-04-09T21:41:57.172557800Z"
    }
   },
   "outputs": [
    {
     "data": {
      "text/plain": "label\n0    10758\n1     4177\nName: count, dtype: int64"
     },
     "execution_count": 24,
     "metadata": {},
     "output_type": "execute_result"
    }
   ],
   "source": [
    "# check if there is the same data imbalance ratio\n",
    "data[\"label\"].value_counts()"
   ]
  },
  {
   "cell_type": "code",
   "execution_count": 25,
   "id": "f39e4e0f4242d32e",
   "metadata": {
    "collapsed": false,
    "ExecuteTime": {
     "end_time": "2024-04-09T21:41:57.288113300Z",
     "start_time": "2024-04-09T21:41:57.189939Z"
    }
   },
   "outputs": [],
   "source": [
    "dataset = Dataset.from_pandas(data)"
   ]
  },
  {
   "cell_type": "code",
   "execution_count": 26,
   "id": "24dc19496ebae57",
   "metadata": {
    "collapsed": false,
    "ExecuteTime": {
     "end_time": "2024-04-09T21:41:57.330465800Z",
     "start_time": "2024-04-09T21:41:57.207119600Z"
    }
   },
   "outputs": [
    {
     "data": {
      "text/plain": "Dataset({\n    features: ['preprocessed_text', 'label'],\n    num_rows: 14935\n})"
     },
     "execution_count": 26,
     "metadata": {},
     "output_type": "execute_result"
    }
   ],
   "source": [
    "dataset"
   ]
  },
  {
   "cell_type": "code",
   "execution_count": 27,
   "id": "b1d26f8ed7628ddf",
   "metadata": {
    "collapsed": false,
    "ExecuteTime": {
     "end_time": "2024-04-09T21:41:57.352749500Z",
     "start_time": "2024-04-09T21:41:57.224529900Z"
    }
   },
   "outputs": [],
   "source": [
    "def compute_metrics(eval_pred):\n",
    "    metrics = [\"accuracy\", \"recall\", \"precision\", \"f1\"] #List of metrics to return\n",
    "    metric={}\n",
    "    for met in metrics:\n",
    "       metric[met] = evaluate.load(met)\n",
    "    logits, labels = eval_pred\n",
    "    predictions = np.argmax(logits, axis=1)\n",
    "    metric_res={}\n",
    "    for met in metrics:\n",
    "       metric_res[met]=metric[met].compute(predictions=predictions, references=labels)[met]\n",
    "    print(metric_res)\n",
    "    return metric_res"
   ]
  },
  {
   "cell_type": "code",
   "execution_count": 28,
   "id": "3c5424bef5910ed6",
   "metadata": {
    "collapsed": false,
    "ExecuteTime": {
     "end_time": "2024-04-09T21:41:57.352749500Z",
     "start_time": "2024-04-09T21:41:57.235473900Z"
    }
   },
   "outputs": [],
   "source": [
    "def preprocess_function(examples):\n",
    "    return tokenizer(examples[\"preprocessed_text\"], padding=True, truncation=True, return_tensors=\"pt\")"
   ]
  },
  {
   "cell_type": "code",
   "execution_count": 29,
   "id": "8e968036da2524",
   "metadata": {
    "collapsed": false,
    "ExecuteTime": {
     "end_time": "2024-04-09T21:41:58.024615700Z",
     "start_time": "2024-04-09T21:41:57.253051500Z"
    }
   },
   "outputs": [
    {
     "data": {
      "text/plain": "Map:   0%|          | 0/14935 [00:00<?, ? examples/s]",
      "application/vnd.jupyter.widget-view+json": {
       "version_major": 2,
       "version_minor": 0,
       "model_id": "2de4f9d790724959b6c48a440a3a7dcd"
      }
     },
     "metadata": {},
     "output_type": "display_data"
    }
   ],
   "source": [
    "tokenized_data = dataset.map(preprocess_function, batched=True).with_format(\"torch\")"
   ]
  },
  {
   "cell_type": "code",
   "execution_count": 30,
   "id": "26c079af78f208bd",
   "metadata": {
    "collapsed": false,
    "ExecuteTime": {
     "end_time": "2024-04-09T21:41:58.054519400Z",
     "start_time": "2024-04-09T21:41:58.029287600Z"
    }
   },
   "outputs": [],
   "source": [
    "tokenized_data_split = tokenized_data.train_test_split(test_size=0.2, seed=42)"
   ]
  },
  {
   "cell_type": "code",
   "execution_count": 31,
   "id": "fcdcf5ff28e237a1",
   "metadata": {
    "collapsed": false,
    "ExecuteTime": {
     "end_time": "2024-04-09T21:41:58.070982500Z",
     "start_time": "2024-04-09T21:41:58.054519400Z"
    }
   },
   "outputs": [],
   "source": [
    "# 70% train, 30% test + valid\n",
    "train_testvalid = tokenized_data.train_test_split(test_size=0.2, seed=42)\n",
    "test_valid = train_testvalid['test'].train_test_split(test_size=0.5, seed=41)"
   ]
  },
  {
   "cell_type": "code",
   "execution_count": 32,
   "outputs": [],
   "source": [
    "tokenized_data_split = DatasetDict({\n",
    "    \"train\": train_testvalid[\"train\"],\n",
    "    \"test\": test_valid[\"test\"],\n",
    "    \"valid\": test_valid[\"train\"]})"
   ],
   "metadata": {
    "collapsed": false,
    "ExecuteTime": {
     "end_time": "2024-04-09T21:41:58.120755200Z",
     "start_time": "2024-04-09T21:41:58.071979400Z"
    }
   },
   "id": "efba20bd3e70b25d"
  },
  {
   "cell_type": "code",
   "execution_count": 33,
   "outputs": [
    {
     "data": {
      "text/plain": "DatasetDict({\n    train: Dataset({\n        features: ['preprocessed_text', 'label', 'input_ids', 'attention_mask'],\n        num_rows: 11948\n    })\n    test: Dataset({\n        features: ['preprocessed_text', 'label', 'input_ids', 'attention_mask'],\n        num_rows: 1494\n    })\n    valid: Dataset({\n        features: ['preprocessed_text', 'label', 'input_ids', 'attention_mask'],\n        num_rows: 1493\n    })\n})"
     },
     "execution_count": 33,
     "metadata": {},
     "output_type": "execute_result"
    }
   ],
   "source": [
    "tokenized_data_split"
   ],
   "metadata": {
    "collapsed": false,
    "ExecuteTime": {
     "end_time": "2024-04-09T21:41:58.121930100Z",
     "start_time": "2024-04-09T21:41:58.088508700Z"
    }
   },
   "id": "9de3787187630605"
  },
  {
   "cell_type": "code",
   "execution_count": null,
   "id": "a3ff31fdb9094677",
   "metadata": {
    "collapsed": false,
    "is_executing": true,
    "ExecuteTime": {
     "start_time": "2024-04-09T21:41:58.109364800Z"
    }
   },
   "outputs": [
    {
     "name": "stderr",
     "output_type": "stream",
     "text": [
      "C:\\Users\\imruh\\miniconda3\\envs\\thesis\\lib\\site-packages\\accelerate\\accelerator.py:432: FutureWarning: Passing the following arguments to `Accelerator` is deprecated and will be removed in version 1.0 of Accelerate: dict_keys(['dispatch_batches', 'split_batches', 'even_batches', 'use_seedable_sampler']). Please pass an `accelerate.DataLoaderConfiguration` instead: \n",
      "dataloader_config = DataLoaderConfiguration(dispatch_batches=None, split_batches=False, even_batches=True, use_seedable_sampler=True)\n",
      "  warnings.warn(\n"
     ]
    },
    {
     "data": {
      "text/plain": "<IPython.core.display.HTML object>",
      "text/html": "\n    <div>\n      \n      <progress value='2' max='1494' style='width:300px; height:20px; vertical-align: middle;'></progress>\n      [   2/1494 : < :, Epoch 0.00/2]\n    </div>\n    <table border=\"1\" class=\"dataframe\">\n  <thead>\n <tr style=\"text-align: left;\">\n      <th>Epoch</th>\n      <th>Training Loss</th>\n      <th>Validation Loss</th>\n    </tr>\n  </thead>\n  <tbody>\n  </tbody>\n</table><p>"
     },
     "metadata": {},
     "output_type": "display_data"
    }
   ],
   "source": [
    "training_args = TrainingArguments(\n",
    "    output_dir=model_name,\n",
    "    learning_rate=2e-5,\n",
    "    per_device_train_batch_size=16,\n",
    "    per_device_eval_batch_size=16,\n",
    "    num_train_epochs=2,\n",
    "    weight_decay=0.01,\n",
    "    evaluation_strategy=\"epoch\",\n",
    "    logging_strategy=\"epoch\",\n",
    "    save_strategy=\"epoch\",\n",
    "    load_best_model_at_end=True,\n",
    "    push_to_hub=False,\n",
    "    use_cpu = False\n",
    ")\n",
    "\n",
    "trainer = Trainer(\n",
    "    model=model,\n",
    "    args=training_args,\n",
    "    train_dataset=tokenized_data_split[\"train\"],\n",
    "    eval_dataset=tokenized_data_split[\"test\"],\n",
    "    tokenizer=tokenizer,\n",
    "    data_collator=data_collator,\n",
    "    compute_metrics=compute_metrics,\n",
    ")\n",
    "\n",
    "trainer.train()\n",
    "trainer.save_model(model_name)"
   ]
  },
  {
   "cell_type": "code",
   "execution_count": null,
   "id": "8cd826e366d3392b",
   "metadata": {
    "collapsed": false,
    "is_executing": true
   },
   "outputs": [],
   "source": [
    "trainer.evaluate()"
   ]
  },
  {
   "cell_type": "markdown",
   "id": "5c4784af9a51b005",
   "metadata": {
    "collapsed": false
   },
   "source": [
    "# Evaluate model"
   ]
  },
  {
   "cell_type": "code",
   "execution_count": null,
   "id": "9189d00002d778f9",
   "metadata": {
    "collapsed": false,
    "is_executing": true
   },
   "outputs": [],
   "source": [
    "from transformers import AutoTokenizer, AutoModelForSequenceClassification, AutoModel\n",
    "tokenizer = AutoTokenizer.from_pretrained(model_name, return_tensor=\"pt\")\n",
    "model = AutoModelForSequenceClassification.from_pretrained(model_name)\n",
    "device = \"cuda:0\" if torch.cuda.is_available() else \"cpu\"\n",
    "model = model.to(device)"
   ]
  },
  {
   "cell_type": "code",
   "execution_count": null,
   "id": "78ede310c0ba2c77",
   "metadata": {
    "collapsed": false,
    "is_executing": true
   },
   "outputs": [],
   "source": [
    "sentences = tokenized_data_split[\"test\"][\"preprocessed_text\"]\n",
    "true_labels = tokenized_data_split[\"test\"][\"label\"] "
   ]
  },
  {
   "cell_type": "code",
   "execution_count": null,
   "id": "cf076f2d3e9071e0",
   "metadata": {
    "collapsed": false,
    "is_executing": true
   },
   "outputs": [],
   "source": [
    "pred_labels = []\n",
    "\n",
    "for sentence in sentences:\n",
    "    inputs = tokenizer(sentence, return_tensors=\"pt\").input_ids.to(device) \n",
    "    with torch.no_grad():\n",
    "        logits = model(inputs).logits\n",
    "    predicted_class_id = logits.argmax().item()\n",
    "    pred_labels.append(predicted_class_id)"
   ]
  },
  {
   "cell_type": "code",
   "execution_count": null,
   "id": "2ec04b8a0331f1ed",
   "metadata": {
    "collapsed": false,
    "is_executing": true
   },
   "outputs": [],
   "source": [
    "from sklearn.metrics import accuracy_score, confusion_matrix, ConfusionMatrixDisplay\n",
    "import matplotlib.pyplot as plt\n",
    "\n",
    "cm = confusion_matrix(true_labels, pred_labels, normalize='true')\n",
    "tn, fp, fn, tp = cm.ravel()\n",
    "ConfusionMatrixDisplay.from_predictions(true_labels, pred_labels, normalize=\"true\", cmap=plt.cm.Blues)\n",
    "plt.grid(False)\n",
    "plt.show()"
   ]
  },
  {
   "cell_type": "code",
   "execution_count": null,
   "outputs": [],
   "source": [
    "len(true_labels)"
   ],
   "metadata": {
    "collapsed": false,
    "is_executing": true
   },
   "id": "6a38c1a7d1d78b55"
  },
  {
   "cell_type": "code",
   "execution_count": null,
   "id": "fbfea9d986d8e4e1",
   "metadata": {
    "collapsed": false,
    "is_executing": true
   },
   "outputs": [],
   "source": [
    "accuracy_score(true_labels, pred_labels)"
   ]
  },
  {
   "cell_type": "code",
   "execution_count": null,
   "id": "bd9a350d3c05122e",
   "metadata": {
    "collapsed": false,
    "is_executing": true
   },
   "outputs": [],
   "source": [
    "precision = tp / (tp + fp)\n",
    "recall = tp / (tp + fn)\n",
    "f1 = (2 * precision * recall)/ (precision+recall)\n",
    "print(precision) \n",
    "print(recall)\n",
    "print(f1)"
   ]
  },
  {
   "cell_type": "markdown",
   "id": "b372717bd48a479d",
   "metadata": {
    "ExecuteTime": {
     "end_time": "2024-02-27T13:33:30.731676300Z",
     "start_time": "2024-02-27T13:33:30.711678200Z"
    },
    "collapsed": false
   },
   "source": [
    "# Feature visualization"
   ]
  },
  {
   "cell_type": "code",
   "execution_count": null,
   "id": "42df4e6fa6a3ab63",
   "metadata": {
    "collapsed": false,
    "is_executing": true
   },
   "outputs": [],
   "source": [
    "# from transformers import AutoTokenizer, AutoModelForSequenceClassification, AutoModel\n",
    "# import torch\n",
    "# \n",
    "# tokenizer = AutoTokenizer.from_pretrained(model_name, return_tensor=\"pt\")\n",
    "# model = AutoModel.from_pretrained(model_name)\n",
    "# device = \"cuda:0\" if torch.cuda.is_available() else \"cpu\"\n",
    "# model = model.to(device)"
   ]
  },
  {
   "cell_type": "code",
   "execution_count": null,
   "id": "b40b88034bf9bdb5",
   "metadata": {
    "collapsed": false,
    "is_executing": true
   },
   "outputs": [],
   "source": [
    "# def extract_hidden_states(batch):\n",
    "#     sentences = [x for x in batch[\"modified\"]]\n",
    "#     with torch.no_grad():\n",
    "#         inputs = tokenizer(sentences, return_tensors=\"pt\", padding=True, truncation=True).input_ids.to(device)\n",
    "#         last_hidden_state = model(inputs).last_hidden_state\n",
    "# \n",
    "#     return {\"hidden state\": last_hidden_state[:, 0].cpu().numpy()}"
   ]
  },
  {
   "cell_type": "code",
   "execution_count": null,
   "id": "f1dd5b774ddf8466",
   "metadata": {
    "collapsed": false,
    "is_executing": true
   },
   "outputs": [],
   "source": [
    "# import gc\n",
    "# torch.cuda.empty_cache()\n",
    "# gc.collect()"
   ]
  },
  {
   "cell_type": "code",
   "execution_count": null,
   "id": "d2f4394defd64749",
   "metadata": {
    "collapsed": false,
    "is_executing": true
   },
   "outputs": [],
   "source": [
    "# hidden = tokenized_data_split.map(\n",
    "#     extract_hidden_states, batched=True)"
   ]
  },
  {
   "cell_type": "code",
   "execution_count": null,
   "id": "a152ad631bfaa816",
   "metadata": {
    "collapsed": false,
    "is_executing": true
   },
   "outputs": [],
   "source": [
    "# hidden.save_to_disk('../models/bert_dataset_c4_reverse')"
   ]
  },
  {
   "cell_type": "code",
   "execution_count": null,
   "id": "b097eaa230a4491d",
   "metadata": {
    "collapsed": false,
    "is_executing": true
   },
   "outputs": [],
   "source": [
    "hidden[\"test\"].column_names"
   ]
  },
  {
   "cell_type": "code",
   "execution_count": null,
   "id": "ee314912a3c95858",
   "metadata": {
    "collapsed": false,
    "is_executing": true
   },
   "outputs": [],
   "source": [
    "print(np.array(hidden[\"train\"][\"hidden state\"]).shape)"
   ]
  },
  {
   "cell_type": "code",
   "execution_count": null,
   "id": "8f05890fe30c5763",
   "metadata": {
    "collapsed": false,
    "is_executing": true
   },
   "outputs": [],
   "source": [
    "from sklearn.decomposition import PCA\n",
    "from sklearn.preprocessing import MinMaxScaler\n",
    "\n",
    "X_train = np.array(hidden[\"train\"][\"hidden state\"])\n",
    "y_train = np.array(hidden[\"train\"][\"label\"])\n",
    "\n",
    "X_test = np.array(hidden[\"test\"][\"hidden state\"])\n",
    "y_test = np.array(hidden[\"test\"][\"label\"])"
   ]
  },
  {
   "cell_type": "code",
   "execution_count": null,
   "id": "c07f8f9bfadf1f07",
   "metadata": {
    "collapsed": false,
    "is_executing": true
   },
   "outputs": [],
   "source": [
    "# reduce to 2d for visualization\n",
    "pca = PCA(n_components=2)\n",
    "\n",
    "x_scaled = MinMaxScaler().fit_transform(X_train)\n",
    "x_2d = pca.fit_transform(x_scaled)\n",
    "x_2d.shape\n",
    "\n",
    "x_scaled1 = MinMaxScaler().fit_transform(X_test)\n",
    "x_2d1 = pca.fit_transform(x_scaled1)\n",
    "x_2d1.shape"
   ]
  },
  {
   "cell_type": "code",
   "execution_count": null,
   "id": "e78358214e289c61",
   "metadata": {
    "collapsed": false,
    "is_executing": true
   },
   "outputs": [],
   "source": [
    "# reduce to 3d for visualization\n",
    "pca = PCA(n_components=3)\n",
    "\n",
    "x_scaled = MinMaxScaler().fit_transform(X_train)\n",
    "x_3d = pca.fit_transform(x_scaled)\n",
    "x_3d.shape\n",
    "\n",
    "x_scaled1 = MinMaxScaler().fit_transform(X_test)\n",
    "x_3d1 = pca.fit_transform(x_scaled1)\n",
    "x_3d1.shape"
   ]
  },
  {
   "cell_type": "code",
   "execution_count": null,
   "id": "12fa5db541f9bb2b",
   "metadata": {
    "collapsed": false,
    "is_executing": true
   },
   "outputs": [],
   "source": [
    "# 2d viz\n",
    "fig, ax = plt.subplots(2, 2, figsize=(7, 5))\n",
    "ax = ax.flatten()\n",
    "cmaps = [\"blue\", \"orange\"]\n",
    "labels = set([x.item() for x in tokenized_data_split[\"train\"][\"label\"]])\n",
    "\n",
    "for i, (label, cmap) in enumerate(zip(labels, cmaps)):\n",
    "    x_2d_sub = x_2d[y_train == i]\n",
    "    ax[i].scatter(x_2d_sub[:, 0], x_2d_sub[:, 1], color=cmap)\n",
    "    ax[i].set_title(id2label[label] +\" TRAIN\")\n",
    "    \n",
    "for i, (label, cmap) in enumerate(zip(labels, cmaps)):\n",
    "    x_2d_sub1 = x_2d1[y_test == i]\n",
    "    ax[i+2].scatter(x_2d_sub1[:, 0], x_2d_sub1[:, 1], color=cmap)\n",
    "    ax[i+2].set_title(id2label[label] +\" TEST\" )\n",
    "\n",
    "plt.tight_layout()\n",
    "plt.show()"
   ]
  },
  {
   "cell_type": "markdown",
   "id": "98ee6b60b009c571",
   "metadata": {
    "collapsed": false
   },
   "source": [
    "### Shows us that there might be an overlap in control text and broca text which indistinguishable to the model (so model goes with control as sort of default strategy)"
   ]
  },
  {
   "cell_type": "code",
   "execution_count": null,
   "id": "f129d6059f201e9b",
   "metadata": {
    "collapsed": false,
    "is_executing": true
   },
   "outputs": [],
   "source": [
    "# 3d vis\n",
    "\n",
    "fig, ax = plt.subplots(2, 2, subplot_kw={\"projection\": \"3d\"}, figsize=(8, 6))\n",
    "ax = ax.flatten()\n",
    "cmaps = [\"blue\", \"orange\"]\n",
    "labels = set([x.item() for x in tokenized_data_split[\"train\"][\"label\"]])\n",
    "\n",
    "for i, (label, cmap) in enumerate(zip(labels, cmaps)):\n",
    "    x_3d_sub = x_3d[y_train == i]\n",
    "    ax[i].scatter(x_3d_sub[:, 0], x_3d_sub[:, 1], color=cmap)\n",
    "    ax[i].set_title(id2label[label]+\" TRAIN\")\n",
    "    \n",
    "for i, (label, cmap) in enumerate(zip(labels, cmaps)):\n",
    "    x_3d_sub1 = x_3d1[y_test == i]\n",
    "    ax[i+2].scatter(x_3d_sub1[:, 0], x_3d_sub1[:, 1], color=cmap)\n",
    "    ax[i+2].set_title(id2label[label]+\" TEST\" )\n",
    "\n",
    "plt.tight_layout()\n",
    "plt.show()"
   ]
  },
  {
   "cell_type": "markdown",
   "id": "6d2d2dc9e35e72b",
   "metadata": {
    "ExecuteTime": {
     "end_time": "2024-02-27T13:35:11.025219100Z",
     "start_time": "2024-02-27T13:35:10.958474500Z"
    },
    "collapsed": false
   },
   "source": [
    "# Attention viz"
   ]
  },
  {
   "cell_type": "code",
   "execution_count": null,
   "id": "fd15c9abb7a65134",
   "metadata": {
    "collapsed": false,
    "is_executing": true
   },
   "outputs": [],
   "source": [
    "from bertviz import model_view, head_view\n",
    "from transformers import AutoTokenizer, AutoModelForSequenceClassification, AutoModel\n",
    "import torch\n",
    "\n",
    "tokenizer = AutoTokenizer.from_pretrained(model_name, return_tensor=\"pt\")\n",
    "model = AutoModel.from_pretrained(model_name)\n",
    "device = \"cuda:0\" if torch.cuda.is_available() else \"cpu\""
   ]
  },
  {
   "cell_type": "markdown",
   "id": "16593d5c50e2ccdb",
   "metadata": {
    "collapsed": false
   },
   "source": [
    "### For control sentence"
   ]
  },
  {
   "cell_type": "code",
   "execution_count": null,
   "id": "48f7d23ea59f9d2a",
   "metadata": {
    "collapsed": false,
    "is_executing": true
   },
   "outputs": [],
   "source": [
    "input = tokenizer.encode(sentences[0], return_tensors=\"pt\")\n",
    "output = model(input, output_attentions=True)\n",
    "\n",
    "attention = output[-1]\n",
    "tokens = tokenizer.convert_ids_to_tokens(input[0]) \n",
    "model_view(attention, tokens)\n",
    "print(sentences[0], true_labels[0])"
   ]
  },
  {
   "cell_type": "markdown",
   "id": "ccb0aef809127cec",
   "metadata": {
    "collapsed": false
   },
   "source": [
    "### For broca sentence"
   ]
  },
  {
   "cell_type": "code",
   "execution_count": null,
   "id": "9205ee88774675f",
   "metadata": {
    "collapsed": false,
    "is_executing": true
   },
   "outputs": [],
   "source": [
    "input = tokenizer.encode(sentences[8], return_tensors=\"pt\")\n",
    "output = model(input, output_attentions=True)\n",
    "\n",
    "attention = output[-1]\n",
    "tokens = tokenizer.convert_ids_to_tokens(input[0]) \n",
    "model_view(attention, tokens)\n",
    "print(sentences[8], true_labels[8])"
   ]
  }
 ],
 "metadata": {
  "kernelspec": {
   "display_name": "Python 3 (ipykernel)",
   "language": "python",
   "name": "python3"
  },
  "language_info": {
   "codemirror_mode": {
    "name": "ipython",
    "version": 3
   },
   "file_extension": ".py",
   "mimetype": "text/x-python",
   "name": "python",
   "nbconvert_exporter": "python",
   "pygments_lexer": "ipython3",
   "version": "3.9.18"
  }
 },
 "nbformat": 4,
 "nbformat_minor": 5
}
