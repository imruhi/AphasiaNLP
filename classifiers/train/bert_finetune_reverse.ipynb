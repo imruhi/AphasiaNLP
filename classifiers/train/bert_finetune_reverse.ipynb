{
 "cells": [
  {
   "cell_type": "markdown",
   "source": [
    "## Imports  "
   ],
   "metadata": {
    "collapsed": false
   },
   "id": "a8decd97b993c427"
  },
  {
   "cell_type": "code",
   "execution_count": 15,
   "outputs": [],
   "source": [
    "from transformers import AutoTokenizer\n",
    "from transformers import DataCollatorWithPadding\n",
    "import evaluate\n",
    "import numpy as np\n",
    "from transformers import AutoModelForSequenceClassification, TrainingArguments, Trainer \n",
    "import torch\n",
    "import pandas as pd\n",
    "from datasets import Dataset\n",
    "import seaborn as sns       "
   ],
   "metadata": {
    "collapsed": false,
    "ExecuteTime": {
     "end_time": "2024-03-08T11:33:16.485825100Z",
     "start_time": "2024-03-08T11:33:16.288008800Z"
    }
   },
   "id": "2f1366e7aa1dd212"
  },
  {
   "cell_type": "code",
   "execution_count": 16,
   "outputs": [
    {
     "name": "stdout",
     "output_type": "stream",
     "text": [
      "True\n",
      "12.1\n"
     ]
    }
   ],
   "source": [
    "print(torch.cuda.is_available())\n",
    "print(torch.version.cuda)"
   ],
   "metadata": {
    "collapsed": false,
    "ExecuteTime": {
     "end_time": "2024-03-08T11:33:16.611244500Z",
     "start_time": "2024-03-08T11:33:16.297017Z"
    }
   },
   "id": "7ce3af904743ee26"
  },
  {
   "cell_type": "code",
   "execution_count": 17,
   "outputs": [
    {
     "name": "stderr",
     "output_type": "stream",
     "text": [
      "Some weights of DistilBertForSequenceClassification were not initialized from the model checkpoint at distilbert-base-uncased and are newly initialized: ['classifier.bias', 'classifier.weight', 'pre_classifier.bias', 'pre_classifier.weight']\n",
      "You should probably TRAIN this model on a down-stream task to be able to use it for predictions and inference.\n"
     ]
    }
   ],
   "source": [
    "device = torch.device(\"cuda\" if torch.cuda.is_available() else \"cpu\")\n",
    "\n",
    "tokenizer = AutoTokenizer.from_pretrained(\"distilbert-base-uncased\", return_tensor=\"pt\")\n",
    "\n",
    "data_collator = DataCollatorWithPadding(tokenizer=tokenizer)\n",
    "\n",
    "accuracy = evaluate.load(\"accuracy\")\n",
    "\n",
    "id2label = {0: \"CONTROL\", 1: \"BROCA\"}\n",
    "label2id = {\"CONTROL\": 0, \"BROCA\": 1}\n",
    "\n",
    "model = AutoModelForSequenceClassification.from_pretrained(\"distilbert-base-uncased\", num_labels=2, id2label=id2label, label2id=label2id)"
   ],
   "metadata": {
    "collapsed": false,
    "ExecuteTime": {
     "end_time": "2024-03-08T11:33:18.819023500Z",
     "start_time": "2024-03-08T11:33:16.312652800Z"
    }
   },
   "id": "288e770542a6325e"
  },
  {
   "cell_type": "code",
   "execution_count": 18,
   "outputs": [],
   "source": [
    "# dataset_filename = \"../../preprocessing/data/processed_merge.csv\"\n",
    "dataset_filename = \"../../linguistic_model/data/synthetic_clan_train.csv\"\n",
    "data = pd.read_csv(dataset_filename, encoding='utf8', index_col=False)#.drop(['Unnamed: 0','Unnamed: 0.1'], axis=1)"
   ],
   "metadata": {
    "collapsed": false,
    "ExecuteTime": {
     "end_time": "2024-03-08T11:33:18.881964200Z",
     "start_time": "2024-03-08T11:33:18.771116300Z"
    }
   },
   "id": "6968fd60529a4cd0"
  },
  {
   "cell_type": "code",
   "execution_count": 19,
   "outputs": [
    {
     "data": {
      "text/plain": "                                            modified  label\n0  maybe the dog was trying to escape out of this...      0\n1                    there is no reason to watch it.      0\n2  thankfully, she vanishes, having brought nothi...      0\n3  i thought it was a black ferris bueller days off.      0\n4                                all, kim basingers?      1",
      "text/html": "<div>\n<style scoped>\n    .dataframe tbody tr th:only-of-type {\n        vertical-align: middle;\n    }\n\n    .dataframe tbody tr th {\n        vertical-align: top;\n    }\n\n    .dataframe thead th {\n        text-align: right;\n    }\n</style>\n<table border=\"1\" class=\"dataframe\">\n  <thead>\n    <tr style=\"text-align: right;\">\n      <th></th>\n      <th>modified</th>\n      <th>label</th>\n    </tr>\n  </thead>\n  <tbody>\n    <tr>\n      <th>0</th>\n      <td>maybe the dog was trying to escape out of this...</td>\n      <td>0</td>\n    </tr>\n    <tr>\n      <th>1</th>\n      <td>there is no reason to watch it.</td>\n      <td>0</td>\n    </tr>\n    <tr>\n      <th>2</th>\n      <td>thankfully, she vanishes, having brought nothi...</td>\n      <td>0</td>\n    </tr>\n    <tr>\n      <th>3</th>\n      <td>i thought it was a black ferris bueller days off.</td>\n      <td>0</td>\n    </tr>\n    <tr>\n      <th>4</th>\n      <td>all, kim basingers?</td>\n      <td>1</td>\n    </tr>\n  </tbody>\n</table>\n</div>"
     },
     "execution_count": 19,
     "metadata": {},
     "output_type": "execute_result"
    }
   ],
   "source": [
    "data.head()"
   ],
   "metadata": {
    "collapsed": false,
    "ExecuteTime": {
     "end_time": "2024-03-08T11:33:18.881964200Z",
     "start_time": "2024-03-08T11:33:18.852304800Z"
    }
   },
   "id": "cba941e5823a34d0"
  },
  {
   "cell_type": "code",
   "execution_count": 20,
   "outputs": [
    {
     "data": {
      "text/plain": "49850"
     },
     "execution_count": 20,
     "metadata": {},
     "output_type": "execute_result"
    }
   ],
   "source": [
    "len(data)"
   ],
   "metadata": {
    "collapsed": false,
    "ExecuteTime": {
     "end_time": "2024-03-08T11:33:18.881964200Z",
     "start_time": "2024-03-08T11:33:18.866316300Z"
    }
   },
   "id": "2d88c1cf33e6ee36"
  },
  {
   "cell_type": "code",
   "execution_count": 21,
   "outputs": [
    {
     "data": {
      "text/plain": "label\n0    35908\n1    13942\nName: count, dtype: int64"
     },
     "execution_count": 21,
     "metadata": {},
     "output_type": "execute_result"
    }
   ],
   "source": [
    "# check if there is the same data imbalance ratio\n",
    "data[\"label\"].value_counts()"
   ],
   "metadata": {
    "collapsed": false,
    "ExecuteTime": {
     "end_time": "2024-03-08T11:33:18.913720500Z",
     "start_time": "2024-03-08T11:33:18.881964200Z"
    }
   },
   "id": "caca98d726df10d6"
  },
  {
   "cell_type": "code",
   "execution_count": 22,
   "outputs": [],
   "source": [
    "dataset = Dataset.from_pandas(data)"
   ],
   "metadata": {
    "collapsed": false,
    "ExecuteTime": {
     "end_time": "2024-03-08T11:33:18.991955700Z",
     "start_time": "2024-03-08T11:33:18.898084100Z"
    }
   },
   "id": "f39e4e0f4242d32e"
  },
  {
   "cell_type": "code",
   "execution_count": 23,
   "outputs": [
    {
     "data": {
      "text/plain": "Dataset({\n    features: ['modified', 'label'],\n    num_rows: 49850\n})"
     },
     "execution_count": 23,
     "metadata": {},
     "output_type": "execute_result"
    }
   ],
   "source": [
    "dataset"
   ],
   "metadata": {
    "collapsed": false,
    "ExecuteTime": {
     "end_time": "2024-03-08T11:33:19.038999100Z",
     "start_time": "2024-03-08T11:33:18.945672100Z"
    }
   },
   "id": "24dc19496ebae57"
  },
  {
   "cell_type": "code",
   "execution_count": 24,
   "outputs": [],
   "source": [
    "def compute_metrics(eval_pred):\n",
    "    metrics = [\"accuracy\", \"recall\", \"precision\", \"f1\"] #List of metrics to return\n",
    "    metric={}\n",
    "    for met in metrics:\n",
    "       metric[met] = evaluate.load(met)\n",
    "    logits, labels = eval_pred\n",
    "    predictions = np.argmax(logits, axis=1)\n",
    "    metric_res={}\n",
    "    for met in metrics:\n",
    "       metric_res[met]=metric[met].compute(predictions=predictions, references=labels)[met]\n",
    "    print(metric_res)\n",
    "    return metric_res"
   ],
   "metadata": {
    "collapsed": false,
    "ExecuteTime": {
     "end_time": "2024-03-08T11:33:19.070363700Z",
     "start_time": "2024-03-08T11:33:18.960692800Z"
    }
   },
   "id": "b1d26f8ed7628ddf"
  },
  {
   "cell_type": "code",
   "execution_count": 25,
   "outputs": [],
   "source": [
    "def preprocess_function(examples):\n",
    "    return tokenizer(examples[\"modified\"], padding=True, truncation=True, return_tensors=\"pt\")"
   ],
   "metadata": {
    "collapsed": false,
    "ExecuteTime": {
     "end_time": "2024-03-08T11:33:19.070363700Z",
     "start_time": "2024-03-08T11:33:18.976328400Z"
    }
   },
   "id": "3c5424bef5910ed6"
  },
  {
   "cell_type": "code",
   "execution_count": 26,
   "outputs": [
    {
     "data": {
      "text/plain": "Map:   0%|          | 0/49850 [00:00<?, ? examples/s]",
      "application/vnd.jupyter.widget-view+json": {
       "version_major": 2,
       "version_minor": 0,
       "model_id": "39d319b566d64d249c702d8700745126"
      }
     },
     "metadata": {},
     "output_type": "display_data"
    }
   ],
   "source": [
    "tokenized_data = dataset.map(preprocess_function, batched=True).with_format(\"torch\")"
   ],
   "metadata": {
    "collapsed": false,
    "ExecuteTime": {
     "end_time": "2024-03-08T11:33:21.592795600Z",
     "start_time": "2024-03-08T11:33:18.993222300Z"
    }
   },
   "id": "8e968036da2524"
  },
  {
   "cell_type": "code",
   "execution_count": 27,
   "outputs": [],
   "source": [
    "tokenized_data_split = tokenized_data.train_test_split(test_size=0.2, seed=42)"
   ],
   "metadata": {
    "collapsed": false,
    "ExecuteTime": {
     "end_time": "2024-03-08T11:33:21.603016700Z",
     "start_time": "2024-03-08T11:33:21.592795600Z"
    }
   },
   "id": "26c079af78f208bd"
  },
  {
   "cell_type": "code",
   "execution_count": 28,
   "outputs": [
    {
     "data": {
      "text/plain": "tensor([0, 1, 0,  ..., 0, 0, 0])"
     },
     "execution_count": 28,
     "metadata": {},
     "output_type": "execute_result"
    }
   ],
   "source": [
    "tokenized_data_split['test']['label']"
   ],
   "metadata": {
    "collapsed": false,
    "ExecuteTime": {
     "end_time": "2024-03-08T11:33:21.805968100Z",
     "start_time": "2024-03-08T11:33:21.603016700Z"
    }
   },
   "id": "fcdcf5ff28e237a1"
  },
  {
   "cell_type": "code",
   "execution_count": 29,
   "outputs": [
    {
     "name": "stderr",
     "output_type": "stream",
     "text": [
      "C:\\Users\\imruh\\miniconda3\\envs\\thesis\\lib\\site-packages\\accelerate\\accelerator.py:432: FutureWarning: Passing the following arguments to `Accelerator` is deprecated and will be removed in version 1.0 of Accelerate: dict_keys(['dispatch_batches', 'split_batches', 'even_batches', 'use_seedable_sampler']). Please pass an `accelerate.DataLoaderConfiguration` instead: \n",
      "dataloader_config = DataLoaderConfiguration(dispatch_batches=None, split_batches=False, even_batches=True, use_seedable_sampler=True)\n",
      "  warnings.warn(\n"
     ]
    },
    {
     "data": {
      "text/plain": "<IPython.core.display.HTML object>",
      "text/html": "\n    <div>\n      \n      <progress value='2' max='3324' style='width:300px; height:20px; vertical-align: middle;'></progress>\n      [   2/3324 : < :, Epoch 0.00/2]\n    </div>\n    <table border=\"1\" class=\"dataframe\">\n  <thead>\n <tr style=\"text-align: left;\">\n      <th>Epoch</th>\n      <th>Training Loss</th>\n      <th>Validation Loss</th>\n    </tr>\n  </thead>\n  <tbody>\n  </tbody>\n</table><p>"
     },
     "metadata": {},
     "output_type": "display_data"
    },
    {
     "name": "stdout",
     "output_type": "stream",
     "text": [
      "{'accuracy': 0.9630892678034102, 'recall': 0.9744861800141743, 'precision': 0.9028233749179252, 'f1': 0.9372869802317655}\n",
      "{'accuracy': 0.9673019057171515, 'recall': 0.9574769666902906, 'precision': 0.9291609353507565, 'f1': 0.9431064572425829}\n"
     ]
    }
   ],
   "source": [
    "training_args = TrainingArguments(\n",
    "    output_dir=\"../models/bert_classifier_reverse\",\n",
    "    learning_rate=2e-5,\n",
    "    per_device_train_batch_size=24,\n",
    "    per_device_eval_batch_size=24,\n",
    "    num_train_epochs=2,\n",
    "    weight_decay=0.01,\n",
    "    evaluation_strategy=\"epoch\",\n",
    "    logging_strategy=\"epoch\",\n",
    "    save_strategy=\"epoch\",\n",
    "    load_best_model_at_end=True,\n",
    "    push_to_hub=False,\n",
    "    use_cpu = False\n",
    ")\n",
    "\n",
    "trainer = Trainer(\n",
    "    model=model,\n",
    "    args=training_args,\n",
    "    train_dataset=tokenized_data_split[\"train\"],\n",
    "    eval_dataset=tokenized_data_split[\"test\"],\n",
    "    tokenizer=tokenizer,\n",
    "    data_collator=data_collator,\n",
    "    compute_metrics=compute_metrics,\n",
    ")\n",
    "\n",
    "trainer.train()\n",
    "trainer.save_model('../models/bert_finetuned_reverse')"
   ],
   "metadata": {
    "collapsed": false,
    "ExecuteTime": {
     "end_time": "2024-03-08T11:48:51.229535300Z",
     "start_time": "2024-03-08T11:33:21.805968100Z"
    }
   },
   "id": "a3ff31fdb9094677"
  },
  {
   "cell_type": "code",
   "execution_count": 30,
   "outputs": [
    {
     "data": {
      "text/plain": "<IPython.core.display.HTML object>",
      "text/html": "\n    <div>\n      \n      <progress value='1' max='416' style='width:300px; height:20px; vertical-align: middle;'></progress>\n      [  1/416 : < :]\n    </div>\n    "
     },
     "metadata": {},
     "output_type": "display_data"
    },
    {
     "name": "stdout",
     "output_type": "stream",
     "text": [
      "{'accuracy': 0.9630892678034102, 'recall': 0.9744861800141743, 'precision': 0.9028233749179252, 'f1': 0.9372869802317655}\n"
     ]
    },
    {
     "data": {
      "text/plain": "{'eval_loss': 0.10301639884710312,\n 'eval_accuracy': 0.9630892678034102,\n 'eval_recall': 0.9744861800141743,\n 'eval_precision': 0.9028233749179252,\n 'eval_f1': 0.9372869802317655,\n 'eval_runtime': 41.5382,\n 'eval_samples_per_second': 240.02,\n 'eval_steps_per_second': 10.015,\n 'epoch': 2.0}"
     },
     "execution_count": 30,
     "metadata": {},
     "output_type": "execute_result"
    }
   ],
   "source": [
    "trainer.evaluate()"
   ],
   "metadata": {
    "collapsed": false,
    "ExecuteTime": {
     "end_time": "2024-03-08T11:49:32.791832200Z",
     "start_time": "2024-03-08T11:48:51.230538Z"
    }
   },
   "id": "8cd826e366d3392b"
  },
  {
   "cell_type": "markdown",
   "source": [
    "# Evaluate model"
   ],
   "metadata": {
    "collapsed": false
   },
   "id": "5c4784af9a51b005"
  },
  {
   "cell_type": "code",
   "execution_count": 31,
   "outputs": [],
   "source": [
    "from transformers import AutoTokenizer, AutoModelForSequenceClassification, AutoModel\n",
    "tokenizer = AutoTokenizer.from_pretrained(\"../models/bert_finetuned_reverse\", return_tensor=\"pt\")\n",
    "model = AutoModelForSequenceClassification.from_pretrained(\"../models/bert_finetuned_reverse\")\n",
    "device = \"cuda:0\" if torch.cuda.is_available() else \"cpu\"\n",
    "model = model.to(device)"
   ],
   "metadata": {
    "collapsed": false,
    "ExecuteTime": {
     "end_time": "2024-03-08T11:49:33.028741700Z",
     "start_time": "2024-03-08T11:49:32.786462200Z"
    }
   },
   "id": "9189d00002d778f9"
  },
  {
   "cell_type": "code",
   "execution_count": 32,
   "outputs": [],
   "source": [
    "sentences = tokenized_data_split[\"test\"][\"modified\"]\n",
    "true_labels = tokenized_data_split[\"test\"][\"label\"] "
   ],
   "metadata": {
    "collapsed": false,
    "ExecuteTime": {
     "end_time": "2024-03-08T11:49:33.155091200Z",
     "start_time": "2024-03-08T11:49:33.028741700Z"
    }
   },
   "id": "78ede310c0ba2c77"
  },
  {
   "cell_type": "code",
   "execution_count": 33,
   "outputs": [],
   "source": [
    "pred_labels = []\n",
    "\n",
    "for sentence in sentences:\n",
    "    inputs = tokenizer(sentence, return_tensors=\"pt\").input_ids.to(device) \n",
    "    with torch.no_grad():\n",
    "        logits = model(inputs).logits\n",
    "    predicted_class_id = logits.argmax().item()\n",
    "    pred_labels.append(predicted_class_id)"
   ],
   "metadata": {
    "collapsed": false,
    "ExecuteTime": {
     "end_time": "2024-03-08T11:50:14.182471700Z",
     "start_time": "2024-03-08T11:49:33.155091200Z"
    }
   },
   "id": "cf076f2d3e9071e0"
  },
  {
   "cell_type": "code",
   "execution_count": 34,
   "outputs": [
    {
     "data": {
      "text/plain": "<Figure size 640x480 with 2 Axes>",
      "image/png": "[encoded data removed]"
     },
     "metadata": {},
     "output_type": "display_data"
    }
   ],
   "source": [
    "from sklearn.metrics import accuracy_score, confusion_matrix, ConfusionMatrixDisplay\n",
    "import matplotlib.pyplot as plt\n",
    "\n",
    "cm = confusion_matrix(true_labels, pred_labels, normalize='true')\n",
    "tn, fp, fn, tp = cm.ravel()\n",
    "ConfusionMatrixDisplay.from_predictions(true_labels, pred_labels, normalize=\"true\", cmap=plt.cm.Blues)\n",
    "plt.grid(False)\n",
    "plt.show()"
   ],
   "metadata": {
    "collapsed": false,
    "ExecuteTime": {
     "end_time": "2024-03-08T11:50:14.323949800Z",
     "start_time": "2024-03-08T11:50:14.182471700Z"
    }
   },
   "id": "2ec04b8a0331f1ed"
  },
  {
   "cell_type": "code",
   "execution_count": 35,
   "outputs": [
    {
     "data": {
      "text/plain": "0.9630892678034102"
     },
     "execution_count": 35,
     "metadata": {},
     "output_type": "execute_result"
    }
   ],
   "source": [
    "accuracy_score(true_labels, pred_labels)"
   ],
   "metadata": {
    "collapsed": false,
    "ExecuteTime": {
     "end_time": "2024-03-08T11:50:14.371368400Z",
     "start_time": "2024-03-08T11:50:14.323949800Z"
    }
   },
   "id": "fbfea9d986d8e4e1"
  },
  {
   "cell_type": "code",
   "execution_count": 36,
   "outputs": [
    {
     "name": "stdout",
     "output_type": "stream",
     "text": [
      "0.9592377863464113\n",
      "0.9744861800141743\n",
      "0.9668018625235983\n"
     ]
    }
   ],
   "source": [
    "precision = tp / (tp + fp)\n",
    "recall = tp / (tp + fn)\n",
    "f1 = (2 * precision * recall)/ (precision+recall)\n",
    "print(precision) \n",
    "print(recall)\n",
    "print(f1)"
   ],
   "metadata": {
    "collapsed": false,
    "ExecuteTime": {
     "end_time": "2024-03-08T11:50:14.371368400Z",
     "start_time": "2024-03-08T11:50:14.343460200Z"
    }
   },
   "id": "bd9a350d3c05122e"
  },
  {
   "cell_type": "markdown",
   "source": [
    "# Feature visualization"
   ],
   "metadata": {
    "collapsed": false,
    "ExecuteTime": {
     "end_time": "2024-02-27T13:33:30.731676300Z",
     "start_time": "2024-02-27T13:33:30.711678200Z"
    }
   },
   "id": "b372717bd48a479d"
  },
  {
   "cell_type": "code",
   "execution_count": 37,
   "outputs": [],
   "source": [
    "from transformers import AutoTokenizer, AutoModelForSequenceClassification, AutoModel\n",
    "import torch\n",
    "\n",
    "tokenizer = AutoTokenizer.from_pretrained(\"../models/bert_finetuned_reverse\", return_tensor=\"pt\")\n",
    "model = AutoModel.from_pretrained(\"../models/bert_finetuned_reverse\")\n",
    "device = \"cuda:0\" if torch.cuda.is_available() else \"cpu\"\n",
    "model = model.to(device)"
   ],
   "metadata": {
    "collapsed": false,
    "ExecuteTime": {
     "end_time": "2024-03-08T11:50:14.639528600Z",
     "start_time": "2024-03-08T11:50:14.359859700Z"
    }
   },
   "id": "42df4e6fa6a3ab63"
  },
  {
   "cell_type": "code",
   "execution_count": 38,
   "outputs": [],
   "source": [
    "def extract_hidden_states(batch):\n",
    "    sentences = [x for x in batch[\"modified\"]]\n",
    "    with torch.no_grad():\n",
    "        inputs = tokenizer(sentences, return_tensors=\"pt\", padding=True, truncation=True).input_ids.to(device)\n",
    "        last_hidden_state = model(inputs).last_hidden_state\n",
    "\n",
    "    return {\"hidden state\": last_hidden_state[:, 0].cpu().numpy()}"
   ],
   "metadata": {
    "collapsed": false,
    "ExecuteTime": {
     "end_time": "2024-03-08T11:50:14.657937100Z",
     "start_time": "2024-03-08T11:50:14.639528600Z"
    }
   },
   "id": "b40b88034bf9bdb5"
  },
  {
   "cell_type": "code",
   "execution_count": null,
   "outputs": [
    {
     "data": {
      "text/plain": "Map:   0%|          | 0/39880 [00:00<?, ? examples/s]",
      "application/vnd.jupyter.widget-view+json": {
       "version_major": 2,
       "version_minor": 0,
       "model_id": "6dddd65d89e4429c8b2109a20c4124af"
      }
     },
     "metadata": {},
     "output_type": "display_data"
    },
    {
     "name": "stderr",
     "output_type": "stream",
     "text": [
      "We strongly recommend passing in an `attention_mask` since your input_ids may be padded. See https://huggingface.co/docs/transformers/troubleshooting#incorrect-output-when-padding-tokens-arent-masked.\n"
     ]
    }
   ],
   "source": [
    "hidden = tokenized_data_split.map(\n",
    "    extract_hidden_states, batched=True)"
   ],
   "metadata": {
    "collapsed": false,
    "is_executing": true,
    "ExecuteTime": {
     "start_time": "2024-03-08T11:50:14.660301100Z"
    }
   },
   "id": "d2f4394defd64749"
  },
  {
   "cell_type": "code",
   "execution_count": null,
   "outputs": [],
   "source": [
    "hidden.save_to_disk('../models/bert_dataset_reverse')"
   ],
   "metadata": {
    "collapsed": false,
    "is_executing": true
   },
   "id": "a152ad631bfaa816"
  },
  {
   "cell_type": "code",
   "execution_count": null,
   "outputs": [],
   "source": [
    "hidden[\"test\"].column_names"
   ],
   "metadata": {
    "collapsed": false,
    "is_executing": true
   },
   "id": "b097eaa230a4491d"
  },
  {
   "cell_type": "code",
   "execution_count": null,
   "outputs": [],
   "source": [
    "print(np.array(hidden[\"train\"][\"hidden state\"]).shape)"
   ],
   "metadata": {
    "collapsed": false,
    "is_executing": true
   },
   "id": "ee314912a3c95858"
  },
  {
   "cell_type": "code",
   "execution_count": null,
   "outputs": [],
   "source": [
    "from sklearn.decomposition import PCA\n",
    "from sklearn.preprocessing import MinMaxScaler\n",
    "\n",
    "X_train = np.array(hidden[\"train\"][\"hidden state\"])\n",
    "y_train = np.array(hidden[\"train\"][\"label\"])\n",
    "\n",
    "X_test = np.array(hidden[\"test\"][\"hidden state\"])\n",
    "y_test = np.array(hidden[\"test\"][\"label\"])"
   ],
   "metadata": {
    "collapsed": false,
    "is_executing": true
   },
   "id": "8f05890fe30c5763"
  },
  {
   "cell_type": "code",
   "execution_count": null,
   "outputs": [],
   "source": [
    "# reduce to 2d for visualization\n",
    "pca = PCA(n_components=2)\n",
    "\n",
    "x_scaled = MinMaxScaler().fit_transform(X_train)\n",
    "x_2d = pca.fit_transform(x_scaled)\n",
    "x_2d.shape\n",
    "\n",
    "x_scaled1 = MinMaxScaler().fit_transform(X_test)\n",
    "x_2d1 = pca.fit_transform(x_scaled1)\n",
    "x_2d1.shape"
   ],
   "metadata": {
    "collapsed": false,
    "is_executing": true
   },
   "id": "c07f8f9bfadf1f07"
  },
  {
   "cell_type": "code",
   "execution_count": null,
   "outputs": [],
   "source": [
    "# reduce to 3d for visualization\n",
    "pca = PCA(n_components=3)\n",
    "\n",
    "x_scaled = MinMaxScaler().fit_transform(X_train)\n",
    "x_3d = pca.fit_transform(x_scaled)\n",
    "x_3d.shape\n",
    "\n",
    "x_scaled1 = MinMaxScaler().fit_transform(X_test)\n",
    "x_3d1 = pca.fit_transform(x_scaled1)\n",
    "x_3d1.shape"
   ],
   "metadata": {
    "collapsed": false,
    "is_executing": true
   },
   "id": "e78358214e289c61"
  },
  {
   "cell_type": "code",
   "execution_count": null,
   "outputs": [],
   "source": [
    "# 2d viz\n",
    "fig, ax = plt.subplots(2, 2, figsize=(7, 5))\n",
    "ax = ax.flatten()\n",
    "cmaps = [\"blue\", \"orange\"]\n",
    "labels = set([x.item() for x in tokenized_data_split[\"train\"][\"label\"]])\n",
    "\n",
    "for i, (label, cmap) in enumerate(zip(labels, cmaps)):\n",
    "    x_2d_sub = x_2d[y_train == i]\n",
    "    ax[i].scatter(x_2d_sub[:, 0], x_2d_sub[:, 1], color=cmap)\n",
    "    ax[i].set_title(id2label[label] +\" TRAIN\")\n",
    "    \n",
    "for i, (label, cmap) in enumerate(zip(labels, cmaps)):\n",
    "    x_2d_sub1 = x_2d1[y_test == i]\n",
    "    ax[i+2].scatter(x_2d_sub1[:, 0], x_2d_sub1[:, 1], color=cmap)\n",
    "    ax[i+2].set_title(id2label[label] +\" TEST\" )\n",
    "\n",
    "plt.tight_layout()\n",
    "plt.show()"
   ],
   "metadata": {
    "collapsed": false,
    "is_executing": true
   },
   "id": "12fa5db541f9bb2b"
  },
  {
   "cell_type": "markdown",
   "source": [
    "### Shows us that there might be an overlap in control text and broca text which indistinguishable to the model (so model goes with control as sort of default strategy)"
   ],
   "metadata": {
    "collapsed": false
   },
   "id": "98ee6b60b009c571"
  },
  {
   "cell_type": "code",
   "execution_count": null,
   "outputs": [],
   "source": [
    "# 3d vis\n",
    "\n",
    "fig, ax = plt.subplots(2, 2, subplot_kw={\"projection\": \"3d\"}, figsize=(8, 6))\n",
    "ax = ax.flatten()\n",
    "cmaps = [\"blue\", \"orange\"]\n",
    "labels = set([x.item() for x in tokenized_data_split[\"train\"][\"label\"]])\n",
    "\n",
    "for i, (label, cmap) in enumerate(zip(labels, cmaps)):\n",
    "    x_3d_sub = x_3d[y_train == i]\n",
    "    ax[i].scatter(x_3d_sub[:, 0], x_3d_sub[:, 1], color=cmap)\n",
    "    ax[i].set_title(id2label[label]+\" TRAIN\")\n",
    "    \n",
    "for i, (label, cmap) in enumerate(zip(labels, cmaps)):\n",
    "    x_3d_sub1 = x_3d1[y_test == i]\n",
    "    ax[i+2].scatter(x_3d_sub1[:, 0], x_3d_sub1[:, 1], color=cmap)\n",
    "    ax[i+2].set_title(id2label[label]+\" TEST\" )\n",
    "\n",
    "plt.tight_layout()\n",
    "plt.show()"
   ],
   "metadata": {
    "collapsed": false,
    "is_executing": true
   },
   "id": "f129d6059f201e9b"
  },
  {
   "cell_type": "markdown",
   "source": [
    "# Attention viz"
   ],
   "metadata": {
    "collapsed": false,
    "ExecuteTime": {
     "end_time": "2024-02-27T13:35:11.025219100Z",
     "start_time": "2024-02-27T13:35:10.958474500Z"
    }
   },
   "id": "6d2d2dc9e35e72b"
  },
  {
   "cell_type": "code",
   "execution_count": null,
   "outputs": [],
   "source": [
    "from bertviz import model_view, head_view\n",
    "from transformers import AutoTokenizer, AutoModelForSequenceClassification, AutoModel\n",
    "import torch\n",
    "\n",
    "tokenizer = AutoTokenizer.from_pretrained(\"../models/bert_finetuned\", return_tensor=\"pt\")\n",
    "model = AutoModel.from_pretrained(\"../models/bert_finetuned\")\n",
    "device = \"cuda:0\" if torch.cuda.is_available() else \"cpu\""
   ],
   "metadata": {
    "collapsed": false,
    "is_executing": true
   },
   "id": "fd15c9abb7a65134"
  },
  {
   "cell_type": "markdown",
   "source": [
    "### For control sentence"
   ],
   "metadata": {
    "collapsed": false
   },
   "id": "16593d5c50e2ccdb"
  },
  {
   "cell_type": "code",
   "execution_count": null,
   "outputs": [],
   "source": [
    "input = tokenizer.encode(sentences[0], return_tensors=\"pt\")\n",
    "output = model(input, output_attentions=True)\n",
    "\n",
    "attention = output[-1]\n",
    "tokens = tokenizer.convert_ids_to_tokens(input[0]) \n",
    "model_view(attention, tokens)\n",
    "print(sentences[0], true_labels[0])"
   ],
   "metadata": {
    "collapsed": false,
    "is_executing": true
   },
   "id": "48f7d23ea59f9d2a"
  },
  {
   "cell_type": "markdown",
   "source": [
    "### For broca sentence"
   ],
   "metadata": {
    "collapsed": false
   },
   "id": "ccb0aef809127cec"
  },
  {
   "cell_type": "code",
   "execution_count": null,
   "outputs": [],
   "source": [
    "input = tokenizer.encode(sentences[8], return_tensors=\"pt\")\n",
    "output = model(input, output_attentions=True)\n",
    "\n",
    "attention = output[-1]\n",
    "tokens = tokenizer.convert_ids_to_tokens(input[0]) \n",
    "model_view(attention, tokens)\n",
    "print(sentences[8], true_labels[8])"
   ],
   "metadata": {
    "collapsed": false,
    "is_executing": true
   },
   "id": "9205ee88774675f"
  }
 ],
 "metadata": {
  "kernelspec": {
   "display_name": "Python 3",
   "language": "python",
   "name": "python3"
  },
  "language_info": {
   "codemirror_mode": {
    "name": "ipython",
    "version": 2
   },
   "file_extension": ".py",
   "mimetype": "text/x-python",
   "name": "python",
   "nbconvert_exporter": "python",
   "pygments_lexer": "ipython2",
   "version": "2.7.6"
  }
 },
 "nbformat": 4,
 "nbformat_minor": 5
}
