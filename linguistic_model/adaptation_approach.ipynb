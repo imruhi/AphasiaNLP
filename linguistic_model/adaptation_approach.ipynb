{
 "cells": [
  {
   "cell_type": "code",
   "execution_count": 537,
   "outputs": [],
   "source": [
    "# Based on results from Adaptation theory and non-fluent aphasia in english by Salis and Edwards (2004)"
   ],
   "metadata": {
    "collapsed": false,
    "ExecuteTime": {
     "end_time": "2024-02-20T13:06:14.145106600Z",
     "start_time": "2024-02-20T13:06:14.126900400Z"
    }
   },
   "id": "18232d89896a30ae"
  },
  {
   "cell_type": "code",
   "execution_count": 538,
   "outputs": [],
   "source": [
    "import pandas as pd\n",
    "import spacy\n",
    "nlp = spacy.load(\"en_core_web_sm\")\n",
    "import numpy as np\n",
    "import random\n",
    "import re\n",
    "from pattern.en import conjugate, lemma, lexeme, PRESENT, SG"
   ],
   "metadata": {
    "collapsed": false,
    "ExecuteTime": {
     "end_time": "2024-02-20T13:06:14.711715400Z",
     "start_time": "2024-02-20T13:06:14.147145300Z"
    }
   },
   "id": "f237ea2055319fba"
  },
  {
   "cell_type": "code",
   "execution_count": 539,
   "outputs": [],
   "source": [
    "filepath = \"../preprocessing/data_control_preprocessed.csv\""
   ],
   "metadata": {
    "collapsed": false,
    "ExecuteTime": {
     "end_time": "2024-02-20T13:06:14.727907200Z",
     "start_time": "2024-02-20T13:06:14.714864Z"
    }
   },
   "id": "initial_id"
  },
  {
   "cell_type": "code",
   "execution_count": 540,
   "outputs": [],
   "source": [
    "df = pd.read_csv(filepath).dropna().reset_index()"
   ],
   "metadata": {
    "collapsed": false,
    "ExecuteTime": {
     "end_time": "2024-02-20T13:06:14.878307600Z",
     "start_time": "2024-02-20T13:06:14.728774100Z"
    }
   },
   "id": "b5497eabef9db6f3"
  },
  {
   "cell_type": "code",
   "execution_count": 541,
   "outputs": [],
   "source": [
    "sentences = df[\"preprocessed_text\"]"
   ],
   "metadata": {
    "collapsed": false,
    "ExecuteTime": {
     "end_time": "2024-02-20T13:06:14.895227500Z",
     "start_time": "2024-02-20T13:06:14.878307600Z"
    }
   },
   "id": "bba4a0221998a9ef"
  },
  {
   "cell_type": "code",
   "execution_count": 542,
   "outputs": [],
   "source": [
    "dets = {'Art': ['a', 'an', 'the', ''],\n",
    "           'Dem': ['this', 'that', 'these', 'those', ''],\n",
    "           'Poss': ['my', 'your', 'his', 'her', 'its', 'our', 'their', '']}"
   ],
   "metadata": {
    "collapsed": false,
    "ExecuteTime": {
     "end_time": "2024-02-20T13:06:14.928366400Z",
     "start_time": "2024-02-20T13:06:14.895227500Z"
    }
   },
   "id": "a8681817efd09f21"
  },
  {
   "cell_type": "code",
   "execution_count": 543,
   "outputs": [],
   "source": [
    "def det_sub(det):\n",
    "    for _, detrms in dets.items():\n",
    "        if det.lower() in detrms:\n",
    "            y = [j for j in detrms if det!=j]\n",
    "            return random.choice(y)\n",
    "    return \"\""
   ],
   "metadata": {
    "collapsed": false,
    "ExecuteTime": {
     "end_time": "2024-02-20T13:06:14.928366400Z",
     "start_time": "2024-02-20T13:06:14.907846100Z"
    }
   },
   "id": "66f4ce3548abe7ee"
  },
  {
   "cell_type": "code",
   "execution_count": 544,
   "outputs": [],
   "source": [
    "def handle_determiner(tok):\n",
    "    x = np.random.uniform(0,1)\n",
    "    # 3% of determiners were substituted\n",
    "    if x >= 0.97:\n",
    "        if tok.pos_ == \"DET\" or \"Dem\" in tok.morph.get('PronType') or \"Yes\" in tok.morph.get('Poss'):\n",
    "            return det_sub(tok.text) + \" \"\n",
    "    # 19% determiners were omitted\n",
    "    elif x >= 0.81:\n",
    "        return \" \"\n",
    "    return tok.text + \" \""
   ],
   "metadata": {
    "collapsed": false,
    "ExecuteTime": {
     "end_time": "2024-02-20T13:06:14.941065600Z",
     "start_time": "2024-02-20T13:06:14.928366400Z"
    }
   },
   "id": "54c008b5de8d4253"
  },
  {
   "cell_type": "code",
   "execution_count": 545,
   "outputs": [],
   "source": [
    "def handle_verb(tok):\n",
    "    # TODO handle the copula, auxiliary and lexical tense/bound morphemes\n",
    "    x = np.random.uniform(0,1)\n",
    "    # 4% of verbs were substituted (tense error) \n",
    "    if x >= 0.96:\n",
    "        # TODO tense sub based on frequency?\n",
    "        return conjugate(verb=tok.text,tense=PRESENT,number=SG) + \" \" \n",
    "    # 17% determiners were omitted\n",
    "    elif x >= 0.83:\n",
    "        return \" \"\n",
    "    return tok.text + \" \""
   ],
   "metadata": {
    "collapsed": false,
    "ExecuteTime": {
     "end_time": "2024-02-20T13:06:14.965208500Z",
     "start_time": "2024-02-20T13:06:14.941065600Z"
    }
   },
   "id": "68fa2e55a62234fb"
  },
  {
   "cell_type": "code",
   "execution_count": 546,
   "outputs": [],
   "source": [
    "def handle_preposition(tok):\n",
    "    x = np.random.uniform(0,1)\n",
    "    # 2% of prepositions were substituted\n",
    "    if x >= 0.98:\n",
    "        # TODO substitute\n",
    "        pass\n",
    "    # 37% of prepositions were omitted\n",
    "    elif x >= 0.63:\n",
    "        return \" \"\n",
    "    return tok.text + \" \""
   ],
   "metadata": {
    "collapsed": false,
    "ExecuteTime": {
     "end_time": "2024-02-20T13:06:14.999608Z",
     "start_time": "2024-02-20T13:06:14.956230600Z"
    }
   },
   "id": "ac336a16bcbfa7ee"
  },
  {
   "cell_type": "code",
   "execution_count": 547,
   "outputs": [],
   "source": [
    "def handle_person_pron(tok):\n",
    "    x = np.random.uniform(0,1)\n",
    "    # 27% of personal pronouns were omitted\n",
    "    if x >= 0.73:\n",
    "        return \" \"\n",
    "    return tok.text + \" \""
   ],
   "metadata": {
    "collapsed": false,
    "ExecuteTime": {
     "end_time": "2024-02-20T13:06:14.999608Z",
     "start_time": "2024-02-20T13:06:14.969616200Z"
    }
   },
   "id": "63c9ea6356f3bc60"
  },
  {
   "cell_type": "code",
   "execution_count": 548,
   "outputs": [],
   "source": [
    "aphasic = []\n",
    "for sentence in sentences:\n",
    "    aphasic_utt = \"\"\n",
    "    doc = nlp(sentence)\n",
    "    for tok in doc:\n",
    "        if tok.pos_ in [\"DET\",\"PRON\"]:\n",
    "            aphasic_utt += handle_determiner(tok)          \n",
    "        elif tok.pos_ == \"VERB\":\n",
    "            aphasic_utt += handle_verb(tok)\n",
    "        elif tok.dep_ == \"prep\" or tok.pos_ == \"ADP\":\n",
    "            aphasic_utt += handle_preposition(tok)\n",
    "        elif tok.morph.get('Case') == 'Nom' and tok.morph.get('Person') == 1:\n",
    "            aphasic_utt += handle_person_pron(tok)\n",
    "            \n",
    "        else:\n",
    "            aphasic_utt += tok.text + \" \"\n",
    "    \n",
    "    # remove excess whitespaces (and capitalize first word?)\n",
    "    aphasic_utt = re.sub(r'\\s([?.!\"](?:\\s|$))', r'\\1', aphasic_utt)\n",
    "    aphasic_utt = \" \".join(aphasic_utt.split())\n",
    "    aphasic.append(aphasic_utt)"
   ],
   "metadata": {
    "collapsed": false,
    "ExecuteTime": {
     "end_time": "2024-02-20T13:08:36.294452400Z",
     "start_time": "2024-02-20T13:06:14.986589400Z"
    }
   },
   "id": "7cd19f299b26d5ce"
  },
  {
   "cell_type": "code",
   "execution_count": 549,
   "outputs": [],
   "source": [
    "df = pd.DataFrame(data={\"preprocessed_text\": aphasic})\n",
    "df.to_csv(\"../classifiers/test.csv\", sep=',',index=False)"
   ],
   "metadata": {
    "collapsed": false,
    "ExecuteTime": {
     "end_time": "2024-02-20T13:08:36.363587300Z",
     "start_time": "2024-02-20T13:08:36.294452400Z"
    }
   },
   "id": "931a811472310fcf"
  },
  {
   "cell_type": "code",
   "execution_count": 550,
   "outputs": [
    {
     "data": {
      "text/plain": "['so I have two children.',\n 'and one of children is adopted.',\n 'and one is not.',\n 'so I already the story about son being born.',\n 'so I guess we can talk about my daughter and the adoption.',\n 'tried to have children for many years and could not get pregnant.',\n 'and went through lots of fertility treatments and did not they did not really find anything that would because us not to get pregnant.',\n 'but I was bound and determined to be mom.',\n 'so then started pursuing the adoption route.',\n 'and very interesting I never thought how complicated it was to do that and and all that goes into that.',\n 'and it was a long process and probably took close to year.',\n 'we went domestic adoption agency here South Carolina and actually had a couple birth mothers lined up who changes minds at last minute.',\n 'so it that was kind of heartbreaking at the time.',\n 'and then finally adopted my daughter when she was about two months old.',\n 'so you know we always say we were just for her.',\n 'and and of course she always tells brother that she was the chosen one because we chose her.',\n 'and we did not have any choice with him.',\n 'he is just what we got.',\n 'so know I think it made me appreciate being mom from two different because I gave birth to child.',\n 'and also I adopted a child.',\n 'think it gave me interesting insight both sides it.',\n 'and is certainly pros and cons to both ways to becoming a mom as well.',\n 'but you know a lot of people say.',\n 'it would not feel like own child.',\n 'yeah she is my child just like my son is.',\n 'there is no difference them.',\n 'so is interesting too because says that she wants to adopt when she is ready to family.',\n 'that she would like to adopt child from foster system.',\n 'so I think that is kind of interesting perspective on .',\n 'the little boy was playing soccer our yard.',\n 'and one time he kicked it a little bit too hard.',\n 'and he kicked it through his front window.',\n 'his dad was sitting in living room.',\n 'and the ball came through the window and knocked over the lamp.',\n 'the dad stood up got the ball and looked out a window and glared his little boy.',\n 'so the little boy was getting ready to go school.',\n 'and his mother says.',\n 'Johnny you need to take an umbrella.',\n 'it is going to rain today.',\n 'and he .',\n 'I do not need an umbrella.',\n 'and he left.',\n 'and sure enough as he got halfway to school it started raining.',\n 'and then it started raining harder.',\n 'so he turned .',\n 'and he back home and told his mom.',\n 'it started raining.',\n 'and she was not very happy with him.',\n 'and so he ended up umbrella and walking back school.',\n 'okay.',\n 'so the little girl was riding along her tricycle yard.',\n 'and was playing with her cat and her dog.',\n 'and all of a sudden the dog chased cat up the tree.',\n 'and so she was very upset.',\n 'and she called for her dad.',\n 'and she said.',\n 'dad Sparky has chased Peanut up the tree.',\n 'and so the dad said.',\n 'well let if I can go get the cat.',\n \"so Sparky 's still barking at the base the tree.\",\n 'dad climbed up the tree.',\n 'but he could not an cat.',\n \"the cat 's scared to death.\",\n 'and finally the mom called the fire department because did not know how to get the dad or the cat out of tree.',\n 'so the fire fighters comes their ladder.',\n 'and they are rushing the scene so they can rescue both dad and the cat from the tree.',\n 'okay.',\n 'so when Cinderella was a little girl her mom passed away.',\n 'and her father woman who two daughters.',\n 'but they were not very kind to Cinderella.',\n 'the daughters her stepsisters were very mean to her as was the stepmother.',\n 'so as grew up they asked Cinderella to all the chores the house.',\n 'and she did not get to participate the same things that her stepsisters did.',\n 'so one day they received an invitation the palace that the prince was has a ball and wanted to invite all of the single women throughout land to come the ball because was looking a princess.',\n 'and the stepsisters were very excited about and so was Cinderella.',\n 'but stepmother and stepsisters said.',\n 'oh well you can not go to the ball because you have nothing to wear.',\n 'and so Cinderella found a trunk attic and made a dress herself her animal friends that she had made through the years.',\n 'and it was a beautiful dress.',\n 'and she was so excited because now she would be able to go to the ball.',\n 'and when her stepsisters saw it they tore it apart because they were so angry that she was able to put like that together.',\n 'so Cinderella was distraught and went to her room and cried.',\n 'and the stepsisters went to the ball.',\n \"and along came Cinderella 's fairy godmother.\",\n 'and she said.',\n 'oh well you can go to the ball.',\n 'and she turned the pumpkin into carriage and the dogs horses and the mice into the porters.',\n 'and Cinderella went into carriage and went on to ball.',\n 'she danced with prince and had a wonderful time.',\n 'but remember that her fairy godmother her that she must leave by midnight or everything would go back the way were.',\n 'so she.',\n 'so sorry was my dogs.',\n 'so she noticed that it was about to strike midnight.',\n 'and she tore away from an prince and ran away and got home just in time before everything turned back what they were.',\n 'but realized that she had dropped her slipper on the stairs.',\n 'and and but the other slipper stayed the same.',\n 'so she kept it because she had wonderful memories from the ball.',\n 'and later that week the prince wanted to the beautiful woman he had danced throughout evening.',\n 'and he took the glass slipper that he found the stairs and went around to every single woman in the village to see if he could find who it belonged .',\n 'so the stepmother locked Cinderella her attic room because she a feeling that that was .',\n 'and the prince came their house and tried the slipper the stepsisters.',\n 'but it did not fit them.',\n \"and Cinderella 's animal friends key the crack of the door.\",\n 'and she was able to out and came down just in time so that prince was able to see her.',\n 'and he tried the glass slipper on Cinderella.',\n 'and it fit.',\n 'and realized that she was the woman that he had danced with.',\n 'and then got married and lived happily ever after.',\n 'we use this one too.',\n 'first get two pieces of bread.',\n 'and you get a jar of peanut butter.',\n 'and you peanut butter on one slice bread.',\n 'and you get a jar jelly.',\n 'and you spread jelly on the other piece of the bread.',\n 'and you put the two pieces together.',\n 'and then you can eat it.',\n 'I will tell a different story.',\n 'I have lots stories.',\n 'think all speech pathologists have lots of stories right.',\n 'lets talk about when I went Belgium as a cultural exchange student which was would say kind of life .',\n 'when I graduated from undergraduate school went Bowling Green State University in Ohio.',\n 'I am from Ohio.',\n 'and I had an opportunity to travels part International Foreign Youth Exchange which is a FourH associated organization.',\n 'I was big in FourH when I was young bebecause I grows up in Ohio.',\n 'so grew on a farm and did all kind of thing.',\n 'but anyway I had the opportunity.',\n 'Ohio state of Ohio sends several people every year to go a foreign country.',\n 'and it is to learn more that culture and then bring information back and share that with others.',\n 'and it is really nice opportunity.',\n 'we people stay with us when I was .',\n 'so I always knew that I wanted to do .',\n 'and since I had taken French all through high school I thought.',\n 'ah well I will go to the French speaking country.',\n 'and France was not available.',\n 'but Belgium was.',\n 'so chose Belgium.',\n 'and luckily I got to go there.',\n 'I soon found that learning high school French was not what they were speaking in Belgium.',\n 'so it took a lot longer to be able to communicate.',\n 'but it was really interesting in that I kind of experienced what it is not to be able to communicates very well the families that I was placed in.',\n 'was in several different families while I was there.',\n 'I was there for six months.',\n 'most of them did not speak any English.',\n 'so had to learn French.',\n 'and that is best way to learn it I think.',\n 'but I when I say it was life changing really kind of made me think about first of all that other people are not like us in United States.',\n 'and really got me thinking how can I do what I do as speech pathologist in other countries.',\n 'so I immediately came home and interviewed with the Department of Defense because I wanted to be an international speech pathologist.',\n 'and they said.',\n \"well you got to get your master 's degree.\",\n \"back then you you did not have to have master 's degree in a lot of settings to work.\",\n \"and so is when I to the University of South Carolina to get my master 's and met my husband , got married , had children.\",\n 'kind thing.',\n 'but it is always been something.',\n 'I had a private practice when I was teaching as full time professor and did some a lot international work that way.',\n 'so I was doing telepractice before it was cool actually.',\n 'and I have to works with people around the country.',\n 'I accent modification and and that kind thing.',\n 'so still big interest .',\n 'still to travel.',\n 'I still keep in touch with some of host families in Belgium.',\n 'and we have hosted kids from other countries for for other programs as well.',\n 'and I always encourage my children hope they will if not study abroad then travel an little bit more than I did growing .',\n 'it it just was not a big opportunity until I was college when I was able to do .',\n 'so the little boy was playing soccer in yard.',\n 'and all of a sudden he kicked the ball through his living room window.',\n 'his dad was in the living room when the ball through.',\n 'and it knocked over the lamp right over onto his dad.',\n 'his dad was startled and up and looked out the window with a grim look on his face.',\n 'so the little boy was ready to to school when his mother said.',\n 'oh you definitely need to take your umbrella today.',\n 'they are for rain.',\n 'the little boy said.',\n 'oh is okay mom.',\n 'I do not need my umbrella today.',\n 'it will not rain me.',\n 'so he is walking school.',\n 'and of course it started to sprinkle.',\n 'and then it started to rain even harder.',\n 'and the boy was getting soaked.',\n 'so the boy turned around and went back home and told their mother.',\n 'okay you were right.',\n 'I needed my umbrella.',\n 'and she was not too happy about that.',\n 'and she gave his umbrella.',\n 'and turned around and went back to school.',\n 'okay.',\n 'so an little girl was playing in her yard riding her tricycle when all a sudden a dog ran the yard and chased her cat the tree.',\n 'she was very upset because she could not get her cat .',\n 'so yelled her dad who was in house to see if could help.',\n 'so he tried to cut climb up the tree and get the cat.',\n 'but was not able to reach a cat either.',\n 'and the dog continued to bark at the base of the tree.',\n \"a next thing that was the little girl 's mother called the fire department to see if they could come and .\",\n 'so the firefighters came with their ladder.',\n 'and they are heads to the tree as well.',\n 'and hopefully they will be able to up there and get the cat and the dog away so everyone will be happy again.',\n 'okay.',\n 'so Cinderella went to live her stepmother and stepsisters when she was very small.',\n 'her father had become a widow widower and goes to live his new wife.',\n 'the father passed .',\n 'and Cinderella was left to live with her stepmother and evil stepsisters.',\n 'they did not treat Cinderella very well at always asking her to things around the house.',\n 'whereas the stepsisters were very spoiled and got to does whatever they wanted.',\n 'one day an prince in the village sent declaration that was looking for a princess.',\n 'and he was going to have a ball.',\n 'and he invited all of the young women in the village to come to the ball.',\n 'the stepsisters were very excited to go this.',\n 'and Cinderella overheard and really wanted to goes the ball as well.',\n 'course did not have anything to wear the ball.',\n 'so she was very disappointed first.',\n 'but then she found something upstairs in the attic where she could perhaps make her own ball gown.',\n 'so with the help of her animal friends she made a beautiful ballgown with things that she could find.',\n 'she put the ball gown on.',\n 'and when the stepsisters saw in that ball gown became so angry that she thought that she was going to go to the ball.',\n 'they ripped the the ball from Cinderella and tore it up.',\n 'so she was very upset about that and thought that she just would not be able to go to the ball.',\n 'later evening her fairy godmother came along and made her a beautiful gown and turned my animal friends horses and attendants who could takes her in a carriage made out of the pumpkin to ball.',\n 'just her that the only thing she hadta remember about the spell was that she hadta be home by midnight.',\n 'and that was when everything was going to back the way it was.',\n 'so she goes to the ball and met the prince.',\n 'and the prince was by her.',\n 'and they danced the evening.',\n 'when clock struck twelve she suddenly remembered that she hadta be home.',\n 'and so she ran away from the prince leaving a glass slipper on the steps.',\n 'she made it home.',\n 'and everything turned back way it was before.',\n 'and she was just happy that she had the experience that she the prince.',\n 'and she also had the one glass slipper.',\n 'the next day the prince was trying to find the woman who he .',\n 'so he went around to all the young women in the village to see who would fit into the glass slipper.',\n 'and the evil stepsisters tried and tried to get the slipper to fit on their feet.',\n 'but it would not fit.',\n 'and they had locked Cinderella in attic because they did not want her to see the prince.',\n 'but her animal friends helped her get of the attic.',\n 'and she came down and out that the glass slipper did fit her.',\n 'so she went with the prince and married the prince and lived happily ever after.',\n 'so first I would get some bread and get the peanut butter and get the jelly.',\n 'and on a plate I would put one slice bread and spread some peanut butter on that slice of bread.',\n 'get an other slice bread and spread some jelly on that slice of bread.',\n 'and then would put it together and then eat it.',\n 'something that was important.',\n 'let us see.',\n 'let us go with something professional.',\n \"so I to IU 's writing center which worked with students undergraduates and graduates.\",\n \"and at the request of a couple of deans I started a women 's writing group just as an experiment.\",\n 'and was back two thousand thirteen.',\n 'and they took like wildfire.',\n 'and as a result these grew and grew until there so many of them that could not them as a side gig.',\n \"and so the Provost 's office bought out and started the Scholarly Writing Program which I now run.\",\n 'and that has been five years.',\n 'and I love this job.',\n 'and that is really important bebecause was really not liking my job in the writing center.',\n 'so that was really important and really joyful.',\n 'okay.',\n \"boy 's playing outside with a soccer ball.\",\n 'he it.',\n 'it goes window looks a living room and a lamp.',\n 'and the owner the lamp is surprised.',\n 'and he gets up with the soccer ball and looks out the window presumably to yell at little soccer player.',\n 'okay.',\n 'with or them.',\n 'so looks like a little boy is heading out to school because he has his backpack.',\n 'and his mother wants to an umbrella because she probably thinks it is going to rain.',\n 'he says no.',\n 'goodbye and heads outside where it starts to rain.',\n 'and he is dismayed.',\n 'so he runs back home.',\n 'mother.',\n 'he is disappointed bebecause he is soaking wet.',\n 'his mother looks disappointed too.',\n 'but he leaves again maybe in different clothes.',\n 'I can not .',\n 'but this time with an umbrella.',\n 'okay.',\n 'beginning is that a cat was up a tree by a dog perhaps.',\n 'and the little girl is there.',\n 'and I assume is her dad the tree and that the cat is theirs.',\n 'looks like the dad climbed up the tree on a ladder to get the cat.',\n 'he did not make it the cat.',\n 'and the ladder fell.',\n 'the dog is still barking.',\n 'the girl still wants her cat which is still up in the tree.',\n 'and the firemen are now coming we hope to rescue the cat.',\n 'why there is a bird in the tree I do not know.',\n 'and why there is a tricycle I assume it the little girl.',\n 'so let us hope it has a happy ending.',\n 'that the firemen wind up getting the cat out the tree and dad out the tree now.',\n \"Cinderella 's father remarries a woman with two daughters.\",\n 'so that is her stepmother.',\n 'the stepmother and the daughters are mean to Cinderella because stepdaughter.',\n 'there is announcement from king prince must marry.',\n 'and there will be a ball.',\n 'an invitation comes to the family.',\n 'and all the girls and mother are excited to attend.',\n 'but Cinderella who is friendly with mice and the animals who help her because she is sad because they are mean to her she is not allowed to goes let us say.',\n 'so the evil stepsisters.',\n 'that is what they call them.',\n 'get ready to go the ball.',\n 'and Cinderella remains behind.',\n 'but her fairy godmother comes along and helps her with.',\n 'in in the Disney version at least.',\n 'the help of mice and things make her dress magic her pumpkin into a carriage.',\n 'and she is off to the ball.',\n 'although it is not in the picture she is supposed to back midnight when all the magic ends.',\n 'she goes to the ball.',\n 'to dance the prince.',\n 'they have a lovely time.',\n 'but she midnight is approaching.',\n 'and she .',\n 'she behind a slipper.',\n 'the prince finds it and goes then after that searching for the girl whose glass slipper it is.',\n 'it is that it fits Cinderella even though evil stepsisters try it on.',\n 'and it is a terrible thing in the original.',\n 'they cut the toes to make the shoe fit.',\n 'anyway the shoe fits her.',\n 'and Cinderella and the prince get married and live happily ever supposedly.',\n 'oh okay.',\n 'to a peanut butter and jelly.',\n 'did you say peanut butter and jelly or peanut butter?',\n 'peanut butter and jelly.',\n 'I would take two pieces of bread of the package that keep in refrigerator.',\n 'would spread peanut butter on one side with a knife.',\n 'and I would jelly onto the other side with a spoon.',\n 'I never stick the peanut butter knife jelly.',\n 'put the two halves together.',\n 'cut diagonally into triangles.',\n 'put it on a plate.',\n 'well every everything to college is on my mind right now because is my reunion year.',\n 'and am the chair our reunion which has of course has been postponed.',\n 'so have been doing all kinds things online which is as you fun but complicated.',\n 'so so tonight for example we are having this like cocktail party.',\n 'anyway so I am thinking a lot college.',\n 'and the thing that is been important to about college and the reason I volunteer so much of my time for it is that I went to a rural suburban high school in Ohio that was focused primarily on sports.',\n 'and so those of us who were nerdy types.',\n \"my dad 's nuclear physicist.\",\n 'my mom is an English teacher or was.',\n 'there was not much for me to do in my high school.',\n 'and you know academics were not stressed at all.',\n 'I mean no AP classes.',\n 'no advanced anything.',\n 'and so when got college it was revelation that here are all these people my age who were similarly interested in reading and in books and in travel and things that most of my friends from high school were not particularly interested in.',\n 'and think I remain to day the only woman my high school to ever get a doctorate.',\n 'so I am very thankful to their college provides that new community for me.',\n 'and so is one of the reasons I continue to as a volunteer.',\n 'anyway that is happy thought bebecause it is now I just zoomed with three best friends last night bebecause one ththem just retired.',\n 'and you know met our first day college.',\n 'and we have been dear friends for almost forty years now.',\n 'so it is a very special place.',\n 'okay.',\n \"a boy 's outside kicking around soccer ball.\",\n 'maybe playing the game.',\n 'I do not know.',\n 'it goes window a big window.',\n 'and when goes through the window it crashes someone is house where a man is sitting.',\n 'and breaks a lamp.',\n 'man gets the ball looks out the window I am assumes to who it and probably to yell them.',\n 'okay.',\n \"first frame little boy 's mother is offering him an umbrella.\",\n 'I am assuming she knows that it might that day.',\n 'but he is shaking her off.',\n 'he says goodbye his umbrella.',\n 'and she is still it looking stern.',\n 'when gets outside lo and behold is raining pretty hard looks .',\n 'and he runs back home wet and disappointed.',\n \"I assume that his mother 's saying.\",\n 'I told you so.',\n 'and he heads back out hope in dry clothes with umbrella time.',\n 'okay.',\n 'somehow a cat got up a tree.',\n 'and that started this whole mess.',\n \"the little girl 's trying wants the cat out of the tree.\",\n 'it looks me like the dog chased the cat tree.',\n 'that is right.',\n 'forgot dog.',\n 'it appears that what I is the dad climbed into the tree to the cat .',\n 'and the ladder has falls.',\n 'so he can not get from the tree either.',\n 'someone called the the firemen.',\n 'and they are here we hope to rescue the dad and cat which I hope an little girl happy.',\n 'and I am not sure why a bird is there just verisimilitude I guess.',\n \"alright so Cinderella 's father is a widow.\",\n \"and he remarries a woman who has two daughters who become Cinderella 's stepsisters.\",\n 'turns stepsister and the stepmother are mean girls.',\n 'and put Cinderella to work.',\n 'and she in the Disney version is befriended the little mice.',\n 'so anyway Cinderella is a scullery maid essentially to the family.',\n 'meanwhile the king of the kingdom that his son should .',\n \"and they announce a ball to which Cinderella 's family are .\",\n 'yes they invite all the eligible women in the kingdom.',\n \"and everybody 's excited including the stepsisters who are not as pretty tradition Cinderella.\",\n \"but the mean girls kind wreck Cinderella 's dress.\",\n 'I would forgotten that part til I saw the picture again this time.',\n 'so she is left without a ballgown.',\n 'and they her behind and go the ball without her.',\n 'but she is rescued her fairy godmother who creates a dress her and changes a pumpkin a carriage.',\n 'and I think the mice are the ones that become the footmen.',\n 'and off Cinderella goes to the ball with admonition that has to be done midnight because all magic will end then.',\n 'so she to the ball.',\n 'is amazed how beautiful she is including prince.',\n 'they dance.',\n 'the clock starts to strike twelve.',\n 'then she runs out the ball to get in her coach and leave.',\n 'and she leaves behind a slipper a glass slipper it is in the Disney version.',\n 'and she home.',\n 'and course everything returns to the pumpkin it was.',\n 'or sometime prince is looking for the girl who dropped slipper because s the girl he loves.',\n 'and they go having every girl who is in kingdom try the shoe on.',\n 'it does not fit the stepsisters.',\n 'and everyone is shocked household when it fits Cinderella.',\n 'anyways she is the one and is revealed to be.',\n 'and so she and the prince marry and know traditionally live happily ever after.',\n 'I just did yesterday.',\n 'I begin with two pieces of bread , wheat bread.',\n 'and I spread jelly one side.',\n 'I always do the jelly first as I said so that you do not contaminate the jelly peanut butter.',\n 'and then I the jelly one piece bread up and peanut butter the other side.',\n 'and then I put them together and cut them in half diagonally.',\n 'alright so I once went to a train station to buy a ticket my mother who was wants to go back from town to a capital of the country in Argentina.',\n 'and my mother wanted to travel the next day.',\n 'so I went to buy a ticket for the next day.',\n 'and there was a long line people waiting to buy tickets next day.',\n 'but then at the other end of the hall was a line for people returning tickets.',\n 'so I found that if were returning ticket the next twenty four hours you got sixty percent knocked off the price.',\n 'you only got forty percent of your money back.',\n 'so I found somebody who was going to return tickets for the next day.',\n 'and I said.',\n 'looks they are goes to discount sixty percent.',\n 'and they said.',\n '?',\n 'no that is impossible.',\n 'I said.',\n 'well you can check information office.',\n 'and so this person and yes.',\n 'so I said.',\n 'I will give you forty percent that are going to get back and save you the waiting time.',\n 'and she said.',\n 'okay yeah.',\n \"so I bought my mother 's ticket at forty percent.\",\n 'then said.',\n 'well wait a minute.',\n 'I bought this ticket.',\n 'and there is a whole line people waits to buy ticket tomorrow.',\n 'there was a specific line tickets for tomorrow.',\n 'so I could buy another ticket and then sell .',\n 'and so yeah I started doing that until somebody came and said.',\n 'so I was doing that for tomorrow and for the day after.',\n 'so I bought whatever discount the office gave and then sold them at the regular price.',\n 'but I had my my pockets full tickets.',\n 'and then one person came and said.',\n 'do you tickets for tomorrow?',\n 'I said.',\n 'yeah.',\n 'I even had different categories.',\n 'do you want first or tourist or first class or whatever?',\n 'he .',\n 'do you have tickets for the day after tomorrow?',\n 'I said.',\n 'have got tickets for any day want.',\n 'and he says.',\n 'well then you are arrested because this is railway police.',\n 'and so he arrested me.',\n 'he did not handcuff me.',\n 'but he said.',\n 'you needs to give me all your tickets.',\n 'that was my big mistake because I should have said.',\n 'no you can arrest me if .',\n 'but I want these tickets to in my possession.',\n 'bought them.',\n 'they are mine.',\n 'they are not nominal.',\n 'they do not have a name.',\n 'but was twenty one at time.',\n 'so I was shaking.',\n 'I never had been arrested before or incident.',\n 'and so I gave him all the tickets.',\n 'and when he had the tickets he said.',\n 'okay wait for me here.',\n 'I will let you know what to do.',\n 'and of course he left standing in a middle the big hall.',\n 'and I did not have my ticket.',\n 'but I did not want to be arrested.',\n 'I did not want to go to jail.',\n 'I did not know what the consequences of what I had done could be.',\n 'so I bolted.',\n 'and did not stop for five hundred meters which is probably what this person wanted me to anyway.',\n 'and so yeah I loses my ticket.',\n 'but what I made before I was arrested I my first motorcycle.',\n 'they were getting them at a discount.',\n 'I do not know if it was even a a written law anywhere that they should discounts it so heavily.',\n 'and course they were just getting it to the other side.',\n 'we were living there a while.',\n \"and and I was a friend 's house in Miramar which was about forty five minutes away and driving back to Monte Plata to do the business and then going back to the other seaside resort.\",\n 'so at least a week.',\n 'but may have been more.',\n 'but least you know I it until they saw this guy coming everyday you know.',\n 'is he doing?',\n 'oh he is selling ticket.',\n 'no wonder we do not get such long line.',\n 'he is taking the business.',\n 'okay.',\n \"so this goes back to a time when my brother Sam an ball neighbor 's house.\",\n 'now a little bit about our neighbor.',\n 'he was a bachelor gentlemen.',\n 'he was very nice.',\n 'but he did not want us playing ball in backyard which would be very close his house.',\n 'so what was supposed to happen.',\n \"and I Sam know one day one of us is going to kick ball into our neighbor 's window.\",\n 'his name was Mortimer.',\n \"so we are going to kick the ball into Mortimer 's window.\",\n 'are going to be trouble.',\n 'he said no.',\n 'we should not worry that.',\n \"and okay I went it until the day came when Sam kicked the ball into our neighbor 's Mortimer 's window.\",\n 'so it went on into into an house.',\n 'not only did it the window also knocked over lamp Mister Mortimer had told us was a very very dear object his house that had a history family inheritance and heirloom that I can not quite remember.',\n 'but I do remember how much he appreciated the lamp.',\n 'so we were both frozen when we saw Mortimer the hole that Sam had just put in the window.',\n 'and I can not tell you what the consequences were.',\n 'but I do remember that had very very hard time that incident.',\n 'okay.',\n 'I remember my Aunt Charlotte.',\n 'my Aunt Charlotte was a very very wicked person.',\n 'I did not like her at all.',\n 'and I remember staying at her house one day.',\n 'for some reason we were not allowed to stay home because the painters had just finished painting.',\n 'and they did not us to to sleep where where there was paint fresh paint smell around.',\n \"so I stayed at Aunt Charlotte 's.\",\n 'well lo and behold the next day it turns that was rainy day.',\n \"so I am going to to school was a much longer walk Aunt Charlotte 's house than it was from my house.\",\n 'and it was raining.',\n 'so I .',\n 'hey Aunt Charlotte can I please borrow your umbrella.',\n 'and guess what?',\n 'she said no.',\n 'which I knew she was going to say no because is how wicked she was.',\n 'so I went out the rain and eventually realized that I was going to get flu.',\n 'we did not have coronavirus those days.',\n 'so I was not worried coronavirus.',\n 'but I was going to get the flu.',\n 'so I said.',\n 'wait a minute.',\n 'this is not right.',\n 'I am the kid the house.',\n \"I am under Aunt Charlotte 's responsibility.\",\n 'and am walking to school.',\n 'and I am goes to end up being sick.',\n 'so I that those was not going to work the way it was.',\n 'I started to goes back home.',\n 'and I back.',\n 'and I said.',\n 'Aunt Charlotte do you want to be responsible for my illness and perhaps death?',\n 'and she said.',\n 'no no no no I do not want to be for that.',\n 'so lent her umbrella.',\n \"and I walked back to school Aunt Charlotte 's umbrella.\",\n 'what we are seeing is what happened in neighborhood about I would say about a year ago.',\n 'it was a very peaceful afternoon.',\n 'and Daisy was playing with her cat kitty cat.',\n 'and kitty cat decided to climb the tree.',\n 'and Daisy wanted to get the cat to come back.',\n 'but the cat would not down.',\n 'so therefore her dad decided to rescue the cat.',\n 'and he went as far first branch where you see sitting down and then was in total distress.',\n \"so they the meantime our dog Cooper started to bark at my dad bebecause I am Daisy 's brother.\",\n 'and so Cooper started to bark at dad because Cooper dad to come back.',\n 'Daisy wanted the cat to come back.',\n 'Cooper wants my dad to come back tree.',\n 'and I had the the cold mind and and criterion because my mother was all up in arms.',\n 'she was running a chicken with his head off and not knowing what to do.',\n 'so they had to relies on me to say look situation called fire brigade.',\n 'noone can help us.',\n 'am not to climb your tree.',\n 'I am very bad at climbing trees.',\n 'I hate the cat on other hand.',\n 'so I am not going to cat.',\n 'and I wanted Cooper to feel better.',\n 'mean I have a stronger relationship to Cooper than to anybody else this picture including the bird.',\n 'I hate birds.',\n 'and I hate cats.',\n 'but I I I like my dad.',\n 'and like my sister sorta.',\n 'but even though I cats.',\n 'so I call the fire brigade and the fire brigade eventually came and rescued the cat helped their dad to back.',\n 'Cooper was settled dog house.',\n 'and went back to the peace that everything started .',\n 'and I gave myself a bar of chocolate for being the person with most common sense the whole family.',\n 'so once a time there a very wicked lady who had three daughters.',\n 'and one day her husband I think adopts or or brought in a new child into house.',\n 'and or the the three sisters did not like the new child.',\n 'and commanded her to do all kinds menial work and tasks and do their laundry and sweep the floors.',\n 'but she consoled herself and friendship with animals.',\n 'and be it horses or dogs or even mice she was very friendly animals.',\n 'so what love did not get the sisters in the household she got from the little creatures surrounded every day when was going about tasks.',\n 'then one day notice came that the governor the land was going to hole hold ball.',\n 'and and the household was the ball.',\n 'so Cinderella thought that that included her because whole household was invited.',\n 'but her sisters told her different.',\n 'and furthermore they told her that she was not not only not invited but she was not appropriately dressed and did not have a dress that would suit occasion.',\n 'so left the ball.',\n 'and Cinderella was very very sad.',\n 'but here comes the godmother fairy and .',\n 'what would you like to do my child?',\n 'and says.',\n 'would likes to go to the ball.',\n 'so but I do not have a dress.',\n 'and the fairy .',\n 'no problem.',\n 'we can whip a dress with my magic wand.',\n 'and Cinderella had herself this magnificent dress and it very nice pair shoes.',\n 'not only that but also a carriage that was to take her the ball.',\n \"so she goes the ball and impresses everybody including the prince the the king 's son who falls desperately in love with her.\",\n 'but the fairy had said.',\n 'you must be back by midnight or you are going to turn into a pumpkin.',\n 'so Cinderella hurries back and makes back midnight but leaves the shoe.',\n 'so prince knew that the owner of the shoe was the woman that he wanted to marry.',\n 'but where was ?',\n 'she was nowhere to be seen.',\n 'so he started a campaign to the owner of shoe.',\n 'and they had to find person whom the shoe perfect.',\n 'and they went the sisters.',\n 'and even mother tried her luck.',\n 'but the shoe did not fit.',\n 'and so no candidate was found to marry the prince until one of the animals told the surveyor that she should try Cinderella.',\n 'and when the surveyor that , the shoe fit Cinderella perfectly.',\n 'so the prince had found the woman wanted to marry from all.',\n 'and lives happily ever after.',\n 'okay.',\n 'so you get two slices bread.',\n 'then you you need a peanut butter jar peanut butter in it and a knife.',\n 'and you also need a jar of jelly jelly in it.',\n 'so you put the two slices on the table.',\n 'and you dip your knife the peanut butter , get a big chunk and schmear it one of the slices of bread.',\n 'then you do likewise with the jelly on the other slice.',\n 'and then you put two slices with the schmear together.',\n 'and is your sandwich.',\n 'okay just give me seconds.',\n \"so nineteen eighty four I applied and received a scholarship to do my master 's degree at Depauw University Greencastle Indiana.\",\n 'and during first week having arrived even before classes starts which was just orientation etcetera etcetera found out that the Panam games were to come to Indianapolis in nineteen eighty seven.',\n \"so I immediately applied for a job with the Panam games that took the whole duration of my master 's degree to .\",\n 'but eventually eighty six appointed vice president of international relations with the Panam games.',\n 'and as such I traveled extensively the president of Panam games organizing committee including a trip to Cuba to meet Fidel Castro and offers conditions that would satisfy him for Cuba to participate in the Panam games in Indianapolis of eighty seven tenth Pan American games.',\n 'so essentially we offered that the athletes would not have to receive a visa.',\n 'anybody who got on the plane came the games.',\n 'that the plane would fly directly Havana Indianapolis.',\n 'that would get a preferential area of the Pan American village to house athletes.',\n 'and finally that the United States would lend every support they could to the organization of the nineteen ninety one games in Havana.',\n 'so those were four conditions that the Cubans requested.',\n 'we said yes to everything.',\n 'of course last one was whatever is our power to do.',\n 'we are not the Pan American sports organization who is ultimately the one that decides where a next games are going to be played.',\n 'and so so Cuba agreed to participate.',\n 'and I was the one person that got called the Cuban Olympic committee confirming that they were going to participate.',\n 'that was very thrilling because few minutes I was the only one that that Cuba was going to participate in the Panam games which was a a very sought after objective.',\n 'was what everybody wanted.',\n 'and I was the only person in the organization that knew about it because was acting interpreter between the Cubans and the organizing committee Indy.',\n 'so that was a real thrill.',\n 'and the Cubans participated.',\n 'and the Panam games went to Cuba in nineteen ninety one.',\n 'was not a part of that.',\n 'but then ninety five I met Cubans again because came as consultants participation the Pan American games in Argentina.',\n 'so I took part the organization that Pan American games my experience the Indianapolis games.',\n 'and I met with several of the same players that had taken part in that participation of Cuba the Indianapolis games.',\n 'so for me that was very distinctive.',\n 'know it was job.',\n 'but what a job you know.',\n 'wish I could find such a job now.',\n 'this is the story time when was kicking ball our yard.',\n \"and it our neighbor 's window.\",\n 'our neighbor was a very intelligent young man by name of Richard Jenkins.',\n 'and Richard was a writer and also professor of literature.',\n 'so when sent the ball crashing through his window I thought he was going to be mad.',\n 'and I was very reluctant to go fetch the ball.',\n 'but eventually I .',\n 'and he said.',\n 'look I will let you go any punishment if write a short essay for me.',\n 'and that is how I started .',\n 'and I felt so much love that ever since I have a writer.',\n 'and I have not been published.',\n 'but I have a lot of writings started with that incident that Mister Jenkins induced after I his window.',\n 'so story is about my Aunt Charlotte who was a very mean old lady.',\n 'and I remembers spending a night in her house of the pandemic.',\n 'we were caught by a lockdown in her house.',\n 'and I did not attend school.',\n \"but I did go to a tutor 's house because of course schools.\",\n \"but one day was getting ready to my tutor 's home who was doing supplementary work so that I would not miss on school that was cancelled.\",\n 'and very hard.',\n 'so I asked my Aunt Charlotte for an umbrella.',\n 'but she said.',\n 'no I am not going to you use my umbrella.',\n 'so then I to walk out in the rain without an umbrella and realized two things.',\n 'one that I was getting wet was not comfortable.',\n 'I did not like that.',\n 'and the second one that I a very good excuse to get hold the umbrella.',\n 'so I went back to my Aunt Charlotte.',\n 'I said.',\n 'look I could get ill.',\n 'and who knows?',\n 'I could corona virus of getting ill.',\n 'so the only way to prevent this is by you lending me umbrella.',\n 'and so faced this incredible plan of course even a mean old lady Aunt Charlotte was would not dare to deny me umbrella.',\n 'so she gave me umbrella.',\n \"and I was able to to the tutor 's house umbrella.\",\n 'alright so I remembers this incident very very clearly.',\n 'my sister would not lend me her tricycle.',\n 'so what thought I would do is make her switch attention to an cat.',\n 'so I put the cat on top of the tree.',\n 'and she immediately left her tricycle the way you it now.',\n 'but before I could grab is all that I was looking for she started a scandal about the cat being top of tree that dad got involved.',\n 'tried to climb the tree to get cat the tree.',\n 'but then could not make to the branch where cat was.',\n 'and then the dog started barking at dad bebecause dog went wanted my dad to come off the tree.',\n 'and eventually my mother had such fit over the whole incident that she called the fire brigade to to get everybody the cat back my sister dad back the ground.',\n 'and after chaos I ended up not being able to use the tricycle because I had disruption home life that guesses I got punishment in act of trying to get what I wanted.',\n 'okay so in this far away town there useta live old mother with her two daughters.',\n 'and one day somebody asks her to adopt this new girl who was an orphan.',\n 'could she stay the mother and the two daughters?',\n 'and the mother says yes.',\n 'but far incorporating the new daughter to her daily life and the two daughters task her with the most menial tasks and and make her do the laundry and iron the sheets and clean and wash.',\n 'and they do not let participate in in their daily lives.',\n 'so one day the ruler of the land sends news that is to organize a big ball and that all the inhabitants of county are invited.',\n 'so of course the two sisters get very very excited.',\n 'but so does Cinderella.',\n 'and wants to go too.',\n 'but on the night of the ball she shows up with a very simple dress.',\n 'and the two sisters tell her that is totally inappropriate.',\n 'she can not go to a ball that dress.',\n 'so Cinderella is in great distress as an sisters depart for the ball.',\n 'and lo and behold here the fairy godmother and Cinderella a splendid dress and a carriage to take her the ball.',\n 'but she must come back before twelve of the clock midnight or she is going to turn into an pumpkin.',\n 'so Cinderella goes the ball and dances with the prince who falls madly love Cinderella.',\n 'but she must leave in haste at twelve midnight before she turns into a pumpkin.',\n 'in departing a ball such a hurry she drops one of her shoes.',\n 'one her shoes comes off her foot and is behind.',\n 'so then she goes home and goes back to her menial tasks and sharing a lot little mice and horses and the other sheep and those farm animals maybe including sheep or pigs or whatever that form the household.',\n 'until one day she catches news that is looking for the owner of her shoe because the prince wants to the owner that madly fell love at ball.',\n 'so both her sisters try the shoe.',\n 'but the shoe will not fit until Cinderella tries the shoe on.',\n 'that she is the owner of the shoe.',\n 'the prince gets in touch with probably not by email but by some other means of the time.',\n 'and eventually they get married and live happily ever after.',\n 'alright first of all would check that I have the ingredients which would be two slices of bread and a jar of peanut butter and a jar grape jelly usually.',\n 'but any marmalade will do.',\n 'orange jelly will do.',\n 'and then I puts both slices on the table.',\n 'if it is going to be for me I will put peanut butter on both slices and then the jelly on slices.',\n 'and then put one slice on top of the other so that the peanut butter and jelly sides face each other.',\n 'so then you do not get your hands dirty sandwich.',\n 'so is how you make sandwich.',\n 'okay.',\n 'in February of twenty eighteen my first granddaughter was born to daughter who is the cognitive scientist at Johns Hopkins.',\n 'so that was a very happy exciting.',\n 'only sad thing about it is she is Baltimore Maryland.',\n 'and am Austin Texas.',\n 'so being able to spend some time with her.',\n 'we we spend as much as we can.',\n 'now this COVID thing we are not able to travel.',\n 'but we do do what we online talking on the phone video two or three times a week.',\n 'and it is fun.',\n 'so get to keep communicating.',\n 'funny kind of funny story.',\n 'FirstnameB is my daughter.',\n 'FirstnameB was in know with child.',\n 'and the baby was due like the tenth of March.',\n 'and twenty fifth of February FirstnameB started some labor pains.',\n 'so FirstnameS our husband called us and said.',\n 'we are the hospital.',\n 'oh it is it is nothing.',\n \"we are just going to get her checked out and make sure everything 's okay with the baby.\",\n 'well I said.',\n 'cool we will we will talk to you later or tomorrow whenever.',\n 'at about three of the clock an morning my cellphone rang.',\n 'fortunately me I had my ringer on.',\n 'I usually ringer at night.',\n 'I picked it up.',\n 'and I said.',\n 'hello.',\n 'and he says.',\n 'hi grandpa.',\n 'so was able to message that baby was born.',\n 'so a a fun coincidence.',\n 'we would have it if I would have had my ringer off.',\n 'okay.',\n 'Jimmy was playing soccer the front yard and kicked the ball.',\n 'and came right window and hit lamp which startled Mister Jones.',\n 'Mister Jones was not happy about .',\n 'he picked up the ball and went to the window and at Jimmy to come here.',\n 'wanted to pay for this window.',\n 'the end.',\n 'okay.',\n 'Junior was ready to go school one day.',\n 'and his mother said.',\n 'you should take an umbrella because it is going to rain.',\n 'and said.',\n 'nah I do not an umbrella.',\n 'it will be fine.',\n 'so he walked out door.',\n 'and on way school it started .',\n 'and he got soaking wet.',\n 'and he ran back home , talked to his mom.',\n 'and his mom said.',\n 'see told you should have taken the umbrella.',\n 'so she gave him the umbrella.',\n 'and he walked the rest of way to school umbrella.',\n 'end.',\n 'okay.',\n 'the cat saw a bird singing the tree.',\n 'the a dog chased the cat up the tree.',\n 'the little girl cat.',\n 'so she asked her daddy to get the cat out of the tree.',\n 'daddy climbed in the tree and got stuck and could not get the cat.',\n 'could not get down from tree.',\n 'so they had to call the fire department to come rescue him.',\n 'they came.',\n 'and got ladders.',\n 'and they are now going to put the ladders up to get him down the tree.',\n 'and they will probably also get cat .',\n 'the end.',\n 'when Cinderella was a young girl her mother had passed away.',\n 'so her father decided to marry who a woman her stepmother who also had two daughters that would be her stepsisters.',\n 'and they have a mean old cat.',\n 'so Cinderella in.',\n 'and then as they grew stepsisters made Cinderella do all the dirty chores.',\n 'she to clean the floors had to clean chimney everything like that.',\n 'so was not happy.',\n 'but she did her job.',\n 'wanted to keep her dad and happy because you know he had already lost one wife.',\n 'so one day in the castle the king was talking to righthand man and told him that he wanted his son to get married so he would have an heir a throne.',\n 'so righthand man.',\n 'which I can not the title I am just going to call him the righthand man.',\n 'went to all the houses the village and gave them an invitation to a grand ball for the girls eligible bachelorettes to go to ball of course being parents.',\n \"well Cinderella reads the letter over her stepmother 's shoulder and got excited because she thought.\",\n 'wow I can go.',\n 'and I can be part this thing.',\n 'well her stepsisters did not exactly like that.',\n 'so Cinderella went and started to to make a dress.',\n 'she the had the mice that were dresses for her because was not very pretty.',\n 'and she wanted a pretty dress.',\n 'so they made pretty dress.',\n 'and the night the ball came.',\n 'and she on pretty dress and went to where her stepmother and her stepsisters were waiting.',\n 'and they were not happy.',\n 'the stuffsisters sisters were not happy that Cinderella was even thinking about going.',\n 'so dress and ripped her necklace her and messed up her hair and said.',\n 'you can not go.',\n 'so that Cinderella went out into the garden.',\n 'and she was because she really to go.',\n 'and she felt .',\n 'so all of a sudden pops her fairy godmother.',\n 'and her fairy godmother says.',\n 'well I can solve your problem.',\n 'we will make a magic dress.',\n 'and she waves a magic wand.',\n 'she has a beautiful dress.',\n 'she waves a magic wand and turns a pumpkin and all mice chariot and then footmen and everything like this.',\n 'and rode off in that carriage to the the palace.',\n \"and at the palace Cinderella danced the prince the king 's son.\",\n 'so she was the most beautiful woman there.',\n 'so was watching her dances with him.',\n 'but she remembers the one thing her fairy godmother her.',\n 'she hadta be home by the twelfth stroke of midnight.',\n 'so she looked the clock and found oh no was starting to chime midnight.',\n 'so she ran out as fast as she could.',\n 'and the righthand man was following her out and to catch her.',\n 'she dropped one her glass slippers that she had on.',\n 'and he picked it up.',\n 'well went back the king.',\n 'and they the prince decided they hadta go find whoever that beautiful woman was.',\n 'so went off.',\n 'and went to every house in the village.',\n \"and when got to Cinderella 's house Cinderella had been locked in the back room.\",\n 'and she could not get out.',\n 'but the mice came and opened her door for her.',\n 'so then when the righthand man came with the shoe he was told to try it woman in the the village.',\n 'so he it on the two ugly stepsisters and did not .',\n 'so he .',\n 'is there else here?',\n 'and that is when the mice opened the door Cinderella.',\n 'and she came out.',\n 'yes I can try it on.',\n 'and she the glass slipper.',\n 'and it fit like a glove.',\n 'and oh was so great.',\n 'so then went off the the palace.',\n 'and she and the prince were married.',\n 'and lived happily ever after and rode off in a coach together.',\n 'end story.',\n 'oh I do not like jelly on my peanut butter sandwich.',\n 'know how to ththem bebecause I make ththem for wife.',\n 'first you get out some good bread.',\n 'it is always got to be fresh bread.',\n 'so you get that out.',\n 'and then you get out peanut butter.',\n 'and ya take the peanut butter.',\n 'and ya get smear peanut butter one piece bread.',\n 'and then you get the jelly out.',\n 'and you take knife.',\n 'and you spread it on the other piece of bread.',\n 'and then you put ththem together.',\n 'and that is a peanut butters and jelly sandwich.',\n 'that is .',\n 'okay I am probably going to change stories because I think last week I told you about the birth of my granddaughter.',\n 'this time I am going to tell about a vacation we took twenty sixteen.',\n 'went on a group tour Italy.',\n 'out in Venice.',\n 'got to see couple of the cathedrals.',\n 'but there was a like death is what called it.',\n 'was basically in a prison that they would takes the prisoners across that.',\n 'and would never the prisoners again.',\n 'went there to Padua.',\n 'and Padua was Saint Anthony who helps you find things.',\n 'I am a good Catholic boy.',\n 'I can remember some of this stuff.',\n 'but in Padua we got to see where he was born and where he was .',\n 'that one really was not very exciting.',\n 'then we went from there Assisi which is Saint Francis Assisi which a lot of people have heard Saint Francis.',\n 'but to go the Cathedral Basilica where he vision from god that said.',\n 'rebuild my church.',\n 'and he thought it was talking about this little church that was in Assisi.',\n 'so he the little church and rebuilt it.',\n 'and then god said nah , gave more of a clarification and him going.',\n 'but we got to where his little church was is now inside of a big basilica.',\n 'we got to see where he was born.',\n 'we got to see his basilica which is huge.',\n 'and it was interesting there.',\n 'interesting thing was they had been having earthquakes there.',\n 'so there were lots of.',\n 'I am not artist.',\n 'so lots of wall paintings had big cracks ththem.',\n 'and they were starts to repair work on it.',\n 'and then the last part of that in Assisi we went where Francis was a monk and where his community was.',\n 'and they had a real neat thing.',\n 'and in fact we were a group of Americans.',\n 'and there was one guy from Ireland that came and talks to us.',\n 'and he could talk English.',\n 'you know everybody else was Italian.',\n 'so he talked to us English.',\n 'gave us the real story.',\n 'and that was very moving.',\n 'Saint Francis is now my favorite saint.',\n 'so let us see.',\n 'from there we went Florence.',\n 'and Florence was an interesting story there.',\n 'it is funny.',\n 'during the day was okay.',\n 'but the late afternoon it raining.',\n 'and it rained and it rained and it rained.',\n 'and dinner was supposed to be out on the big plaza in Florence.',\n 'and did not want to go to dinner there because it was just .',\n 'so we walked back to our hotel which was probably a mile and a half maybe two miles.',\n \"we that would be myself my wife sister and her sister 's husband.\",\n 'we got back to the hotel.',\n 'changed into dry clothes bebecause we were soaked all the way through.',\n 'and then it was dinner time.',\n \"and were trying to figure what we were going to do dinner which ended up being McDonald 's.\",\n \"there was a McDonald 's close by.\",\n 'and when everybody that was on the tour to the hotel they had all had dinner down the square.',\n 'they came back and asked us what we did for dinner.',\n 'and I says.',\n \"oh went Ronaldo 's.\",\n 'and they them baits.',\n 'oh this perfect steak and perfect chicken.',\n 'then.',\n 'and the chicken was Chicken mcnuggets.',\n \"and they finally caught on it was Ronald McDonald 's.\",\n 'so our fun.',\n 'then from there to Rome the Vatican.',\n 'and to the pope.',\n \"a picture where the pope 's twenty feet me.\",\n 'so that is kind of interesting.',\n 'is the end that story.',\n 'okay.',\n 'Jimmy was playing with his soccer ball front the house.',\n 'and he would kick the ball in the air and kick it again.',\n 'and then one time he it.',\n 'and right through the picture window in the front of the house.',\n 'and it knocked over a lamp and woke his dad up from a nap.',\n 'and his dad was not happy for three things.',\n 'broken lamp.',\n 'broken window.',\n 'and woke him from his nap.',\n 'so daddy his dad went , looked out the window.',\n 'out and saw who it was and says.',\n 'get here.',\n 'have got your soccer ball.',\n \"no more soccer for you this window 's .\",\n 'and your allowance goes to fix the window.',\n 'and that is the end.',\n 'okay.',\n 'okay Billy was getting ready to go school one day.',\n 'and mother says.',\n 'Billy I want you to take this umbrella because is going to be raining.',\n 'and Billy says.',\n 'no I do not want the umbrella.',\n 'so she walks him to the door and says.',\n 'are sure?',\n 'he says.',\n 'nah I can get there with no problem.',\n 'so he starts walking to school.',\n 'and lo and behold comes the rain.',\n ...]"
     },
     "execution_count": 550,
     "metadata": {},
     "output_type": "execute_result"
    }
   ],
   "source": [
    "aphasic"
   ],
   "metadata": {
    "collapsed": false,
    "ExecuteTime": {
     "end_time": "2024-02-20T13:11:19.701614100Z",
     "start_time": "2024-02-20T13:11:19.653570500Z"
    }
   },
   "id": "f987e3a5a060549c"
  }
 ],
 "metadata": {
  "kernelspec": {
   "display_name": "Python 3",
   "language": "python",
   "name": "python3"
  },
  "language_info": {
   "codemirror_mode": {
    "name": "ipython",
    "version": 2
   },
   "file_extension": ".py",
   "mimetype": "text/x-python",
   "name": "python",
   "nbconvert_exporter": "python",
   "pygments_lexer": "ipython2",
   "version": "2.7.6"
  }
 },
 "nbformat": 4,
 "nbformat_minor": 5
}
