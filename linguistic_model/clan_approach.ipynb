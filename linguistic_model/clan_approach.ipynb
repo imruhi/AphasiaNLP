{
 "cells": [
  {
   "cell_type": "markdown",
   "source": [
    "##### NOTE: In CLAN the C-NNLA command was used to get the distribution parameters. However, error outputs from C-NNLA were not very useful (like % correct ..., % incorrect, % grammatical etc) since some CHA files do not annotate errors like [* p], [* s] (but just replace it with xxx, yyy, zzz), making those measures unreliable\n",
    "\n",
    "##### However, I am trying to include the 5 most common word errors from the C-NNLA measures and basing their occurance on the Salis and Edwards (2004) paper\n",
    "\n",
    "##### This approach also does not consider any utterance errors/substitutions (marked as @u or [* p:n] in AphasiaBank)"
   ],
   "metadata": {
    "collapsed": false
   },
   "id": "e4fa55da3a7037ee"
  },
  {
   "cell_type": "code",
   "execution_count": 1,
   "outputs": [],
   "source": [
    "import string\n",
    "\n",
    "import spacy\n",
    "import numpy as np\n",
    "import pandas as pd\n",
    "import scipy.stats as stats\n",
    "import random\n",
    "import re\n",
    "from pattern.text.en import singularize, pluralize\n",
    "import enchant\n",
    "from preprocess import preprocess\n",
    "d = enchant.Dict(\"en_US\")\n",
    "nlp = spacy.load(\"en_core_web_sm\")"
   ],
   "metadata": {
    "collapsed": false,
    "ExecuteTime": {
     "end_time": "2024-03-05T10:58:13.240366500Z",
     "start_time": "2024-03-05T10:58:06.991633400Z"
    }
   },
   "id": "fd32d434bf5e298a"
  },
  {
   "cell_type": "code",
   "execution_count": 13,
   "outputs": [],
   "source": [
    "dets = {'Art': ['a', 'an', 'the', ''],\n",
    "           'Dem': ['this', 'that', 'these', 'those', ''],\n",
    "           'Poss': ['my', 'your', 'his', 'her', 'its', 'our', 'their', '']}"
   ],
   "metadata": {
    "collapsed": false,
    "ExecuteTime": {
     "end_time": "2024-03-05T11:05:52.066116600Z",
     "start_time": "2024-03-05T11:05:52.058091200Z"
    }
   },
   "id": "6d1fac05d4a9f743"
  },
  {
   "cell_type": "code",
   "execution_count": 14,
   "outputs": [],
   "source": [
    "def det_sub(x):\n",
    "    for _, det in dets.items():\n",
    "        if x.lower() in det:\n",
    "            y = [j for j in det if x!=j]\n",
    "            return random.choice(y)\n",
    "    return \"\""
   ],
   "metadata": {
    "collapsed": false,
    "ExecuteTime": {
     "end_time": "2024-03-05T11:05:53.805191200Z",
     "start_time": "2024-03-05T11:05:53.788887800Z"
    }
   },
   "id": "53da41a352bbf2cf"
  },
  {
   "cell_type": "code",
   "execution_count": 15,
   "outputs": [],
   "source": [
    "def get_truncnorm(mean, std, min, max):\n",
    "    # mean, std, min, max parameters dependent on their extracted normal\n",
    "    # distributions\n",
    "    a, b = (min - mean) / std, (max - mean) / std\n",
    "    return stats.truncnorm(a, b, loc=mean, \n",
    "                                   scale=std).rvs(size=1)[0]"
   ],
   "metadata": {
    "collapsed": false,
    "ExecuteTime": {
     "end_time": "2024-03-05T11:05:54.708228500Z",
     "start_time": "2024-03-05T11:05:54.686185900Z"
    }
   },
   "id": "f2f021bc59a96b52"
  },
  {
   "cell_type": "code",
   "execution_count": 16,
   "outputs": [],
   "source": [
    "def get_curr_nv_ratio(nouns, verbs):\n",
    "    if len(nouns) != 0 and len(verbs) != 0:\n",
    "        curr_ratio_nv = len(nouns)/len(verbs)\n",
    "    else:\n",
    "        curr_ratio_nv = 0\n",
    "    return curr_ratio_nv"
   ],
   "metadata": {
    "collapsed": false,
    "ExecuteTime": {
     "end_time": "2024-03-05T11:05:55.960878500Z",
     "start_time": "2024-03-05T11:05:55.946723300Z"
    }
   },
   "id": "349210d24a5ce11d"
  },
  {
   "cell_type": "code",
   "execution_count": 17,
   "outputs": [],
   "source": [
    "def get_alt_word(tok):\n",
    "    # get a new word which is the same length as old word\n",
    "    # to simulate p:w errors\n",
    "    possible_words = [x for x in d.suggest(tok.text) if len(x) ==\n",
    "                      len(tok.text) and d.check(x) and x != tok.text] \n",
    "    if possible_words:\n",
    "        new_word = random.choice(possible_words)\n",
    "        if new_word:\n",
    "            return new_word\n",
    "    \n",
    "    # if we cannot find new word just return current word\n",
    "    return tok.text"
   ],
   "metadata": {
    "collapsed": false,
    "ExecuteTime": {
     "end_time": "2024-03-05T11:05:57.151625400Z",
     "start_time": "2024-03-05T11:05:57.135460900Z"
    }
   },
   "id": "bb61dd53862bfa26"
  },
  {
   "cell_type": "code",
   "execution_count": 18,
   "outputs": [],
   "source": [
    "def aphasic_speech(text):\n",
    "    doc = nlp(text)\n",
    "    # max length of modified sentences follows a gamma distribution\n",
    "    # determine how long this sentence will be (max in broca data was 47)\n",
    "    n = np.random.gamma(shape=1.804433, scale=1/0.505594)\n",
    "    n = round(n)\n",
    "    \n",
    "    while n > 47 or n < 1:\n",
    "        n = np.random.gamma(shape=1.804433, scale=1/0.505594)\n",
    "        n = round(n)\n",
    "        \n",
    "    utt = \"\"\n",
    "    # length of original text\n",
    "    length = len(re.findall(\"[a-zA-Z_]+\", text))\n",
    "    \n",
    "    if length != 0:\n",
    "        # get possible n/v ratio for this sentence\n",
    "        ratio_nv = np.random.gamma(shape=2.180031, scale=1/1.498104)\n",
    "        \n",
    "        # get the possible percentage of all POS\n",
    "        # noun and verb distributions are gamma, rest are truncated normal\n",
    "        percent_noun = np.random.gamma(shape=4.0047683, scale=1/0.1944749)\n",
    "        percent_verb = np.random.gamma(shape=9.9920204, scale=1/0.5973042)\n",
    "        percent_det = get_truncnorm(7.55312, 6.004386, 0, 27.79661)\n",
    "        percent_prep = get_truncnorm(3.15664, 2.386052, 0, 15.05682)\n",
    "        percent_adj = get_truncnorm(4.258013, 3.460436, 0, 21.05263)\n",
    "        percent_adv = get_truncnorm(5.808547, 2.911826, 0, 15.88448)\n",
    "        \n",
    "        nouns = []\n",
    "        verbs = []\n",
    "        determiners = []\n",
    "        prepositions = []\n",
    "        adjectives = []\n",
    "        adverbs = []\n",
    "        \n",
    "        # count no. of respective POS\n",
    "        for tok in doc:\n",
    "            if tok.pos_ == \"NOUN\":\n",
    "                nouns.append(tok.text)\n",
    "            elif tok.pos_ == \"VERB\" or tok.dep_ == \"cop\" or tok.tag_ in [\"VBD\", \"VBN\"]:\n",
    "                verbs.append(tok.text)\n",
    "            elif tok.dep_ == \"det\":\n",
    "                determiners.append(tok.text)\n",
    "            elif tok.dep_ == \"prep\":\n",
    "                prepositions.append(tok.text)\n",
    "            elif tok.pos_ == \"ADJ\":\n",
    "                adjectives.append(tok.text)\n",
    "            elif tok.pos_ == \"ADV\":\n",
    "                adverbs.append(tok.text)\n",
    "                \n",
    "        for tok in doc:\n",
    "            # current percentage of nouns and verbs in broca utterance\n",
    "            curr_ratio_nv = get_curr_nv_ratio(nouns, verbs)\n",
    "            \n",
    "            # Handle nouns\n",
    "            if tok.pos_ == \"NOUN\": \n",
    "                # if possible noun percent in sentence less than current\n",
    "                # percent or if current n/v ratio is too big, remove noun \n",
    "                # from sentence\n",
    "                errs = [\"m0\", \"m1\", \"p\", \"none\", \"suk\"]\n",
    "                err = random.choice(errs)\n",
    "                if (percent_noun <= (len(nouns)/length) * 100 \n",
    "                        or curr_ratio_nv > ratio_nv) :\n",
    "                    utt += ' '\n",
    "                    nouns.remove(tok.text)\n",
    "                # m:0s:a, m:+s, p:w errors (equally)\n",
    "                elif err in [\"m0\", \"m1\"]:\n",
    "                    if \"Plur\" in tok.morph.get(\"Number\"):\n",
    "                        utt += singularize(tok.text) + ' '\n",
    "                    elif \"Sing\" in tok.morph.get(\"Number\"):\n",
    "                        utt += pluralize(tok.text) + ' '  \n",
    "                elif err == \"p\" or err == \"suk\":\n",
    "                    utt += get_alt_word(tok) + ' '     \n",
    "                else:\n",
    "                    utt += tok.text + ' '\n",
    "                    \n",
    "            # Handle verbs (copula and gerund/participles counted as verb)\n",
    "            elif  tok.pos_ == \"VERB\" or tok.dep_ == \"cop\" or tok.tag_ in [\"VBD\", \"VBN\"]:\n",
    "                errs = [\"m0\", \"mv\", \"p\", \"none\", \"suk\"]\n",
    "                err = random.choice(errs)\n",
    "                # if possible verb percent in sentence less than current \n",
    "                # percent or if current n/v ratio too big remove noun \n",
    "                # from sentence\n",
    "                if (percent_verb <= (len(verbs)/length) * 100 \n",
    "                        or curr_ratio_nv > ratio_nv):\n",
    "                   utt += ' '\n",
    "                   verbs.remove(tok.text)\n",
    "                # m:03s:a, m:vsg:a and p:w error equally \n",
    "                elif err in [\"m0\", \"mv\"]:\n",
    "                    # lemmatize reg+irr 3rd sing\n",
    "                    if '3' in tok.morph.get(\"Person\") and 'Sing' in tok.morph.get(\"Number\"):\n",
    "                        utt += tok.lemma_ + \" \"\n",
    "                    else:\n",
    "                        utt += tok.text + \" \"\n",
    "                elif err == \"p\" or err == \"suk\":\n",
    "                    utt += get_alt_word(tok) + ' '\n",
    "                else:\n",
    "                    utt += tok.text + ' '\n",
    "            \n",
    "            # Handle determiners (pronouns are not determiners)\n",
    "            elif tok.dep_ == \"det\":\n",
    "                errs = [\"s:r:gc\", \"s:uk\", \"none\", \"s:r\"]\n",
    "                err = random.choice(errs)\n",
    "                x = np.random.uniform(0,1)\n",
    "                if percent_det <= (len(determiners)/length) * 100:\n",
    "                   utt += ' '\n",
    "                   determiners.remove(tok.text)\n",
    "                # s:r:gc:pro  and s:r error (same for pronouns)\n",
    "                # but clan has both \n",
    "                elif err in [\"s:r\", \"s:r:gc\"]:\n",
    "                    if tok.pos_ == \"DET\" or \"Dem\" in tok.morph.get('PronType') or \"Yes\" in tok.morph.get('Poss'):\n",
    "                        utt += det_sub(tok.text) + \" \"\n",
    "                    else:\n",
    "                        utt += tok.text + \" \"\n",
    "                elif err == \"s:uk\":\n",
    "                    utt += get_alt_word(tok) + ' '\n",
    "                else:\n",
    "                    utt += tok.text + ' '\n",
    "\n",
    "            # Handle prepositions\n",
    "            elif tok.dep_ == \"prep\":\n",
    "                err = [\"s:uk\", \"none\"]\n",
    "                if percent_prep <= (len(prepositions)/length) * 100:\n",
    "                   utt += ' '\n",
    "                   prepositions.remove(tok.text)\n",
    "                elif err == \"s:uk\":\n",
    "                    utt += get_alt_word(tok) + ' ' \n",
    "                else:\n",
    "                    utt += tok.text + ' '\n",
    "            \n",
    "            # Handle adjectives                 \n",
    "            elif tok.pos_ == \"ADJ\":\n",
    "                err = [\"s:uk\", \"none\"]\n",
    "                if percent_adj <= (len(adjectives)/length) * 100:\n",
    "                   utt += ' '\n",
    "                   adjectives.remove(tok.text)\n",
    "                elif err == \"s:uk\":\n",
    "                    utt += get_alt_word(tok) + ' '\n",
    "                else:\n",
    "                    utt += tok.text + ' '\n",
    "            \n",
    "            # Handle adverbs\n",
    "            elif tok.pos_ == \"ADV\":\n",
    "                errs = [\"p\", \"none\", \"s:uk\"]\n",
    "                err = random.choice(errs)\n",
    "                if percent_adv <= (len(adverbs)/length) * 100:\n",
    "                   utt += ' '\n",
    "                   adverbs.remove(tok.text)\n",
    "                # p:w and s:uk errors\n",
    "                elif err == \"p\" or \"s:uk\":\n",
    "                    utt += get_alt_word(tok) + ' '\n",
    "                else:\n",
    "                    utt += tok.text + ' '\n",
    "            \n",
    "            # Handle particles ('s, not etc)\n",
    "            elif tok.pos_ == \"PART\":\n",
    "                x = np.random.uniform(0,1)\n",
    "                # m:0s error 50% times\n",
    "                # missing plural suffix\n",
    "                if tok.text.startswith(\"'s\") :\n",
    "                    if x <= 50:\n",
    "                        utt = utt[:-1] + tok.text + ' ' \n",
    "                elif tok.text.startswith(\"'\") or tok.text.startswith(\"n't\"):\n",
    "                        utt = utt[:-1] + ' ' \n",
    "                else:\n",
    "                    utt += tok.text + ' '\n",
    "            \n",
    "            # Handle auxillaries ('ve in i have)\n",
    "            elif tok.pos_ == \"AUX\":\n",
    "                if tok.text.startswith(\"'\"):\n",
    "                    utt = utt[:-1] + tok.text + ' '\n",
    "\n",
    "                else:\n",
    "                    utt += tok.text + ' '\n",
    "            \n",
    "            # Handling punctuation (like :, .)\n",
    "            elif tok.pos == \"PUNCT\":                \n",
    "                utt = utt[:-1] + tok.text+ ' '\n",
    "                \n",
    "            # all other words with respective POS have a chance of s:uk\n",
    "            else:\n",
    "                err = [\"s:uk\", \"none\"]\n",
    "                if err == \"s:uk\":\n",
    "                    utt += get_alt_word(tok) + ' '\n",
    "                else:\n",
    "                    utt += tok.text + ' '\n",
    "                \n",
    "        utt = \" \".join(utt.split()) # remove trailing whitespaces\n",
    "        utt = re.sub(r'\\s+([?.!\",])', r'\\1', utt)\n",
    "        # print(\"Possible utt: \", utt)\n",
    "        \n",
    "        # only return sentences which are short enough and are changed\n",
    "        if (n >= len(re.findall(\"[a-zA-Z_]+\", utt)) \n",
    "                and len(re.findall(\"[a-zA-Z_]+\", utt)) <= 47):\n",
    "            if utt != text:\n",
    "                return utt, True\n",
    "            else: \n",
    "                return utt, False\n",
    "        else:\n",
    "            return '', False\n",
    "        \n",
    "    # skipped sentence due to length = 0\n",
    "    else:\n",
    "        return \"\", False\n",
    "    \n",
    "def augment(filepath, save_path, include_canonical=False):\n",
    "    pass"
   ],
   "metadata": {
    "collapsed": false,
    "ExecuteTime": {
     "end_time": "2024-03-05T11:05:59.101732200Z",
     "start_time": "2024-03-05T11:05:59.088033800Z"
    }
   },
   "id": "initial_id"
  },
  {
   "cell_type": "markdown",
   "source": [
    "# Test area"
   ],
   "metadata": {
    "collapsed": false
   },
   "id": "245fdb8ba2c59c76"
  },
  {
   "cell_type": "code",
   "execution_count": 40,
   "outputs": [
    {
     "name": "stdout",
     "output_type": "stream",
     "text": [
      "Original sentence:  I received the brass that you sent me, and all looks well.\n",
      "-----------------------------------------------\n",
      "Original sentence:  Thank you very much for all your trouble and the extra 3 pieces.\n",
      "-----------------------------------------------\n",
      "Original sentence:  I feel that you have an outstanding company and are striving the best that you can to achieve customer satisfaction.\n",
      "-----------------------------------------------\n",
      "Original sentence:  I will be certain to tell my friends about US Reloading Supply.\n",
      "-----------------------------------------------\n",
      "Original sentence:  ~ Michelle Admin Note: By accident we shorted them two shells, so we sent them replacements.\n",
      "-----------------------------------------------\n"
     ]
    }
   ],
   "source": [
    "para = \"\"\"I received the brass that you sent me, and all looks well. Thank you very much for all your trouble and the extra 3 pieces. I feel that you have an outstanding company and are striving the best that you can to achieve customer satisfaction. I will be certain to tell my friends about US Reloading Supply. ~ Michelle Admin Note: By accident we shorted them two shells, so we sent them replacements.\"\"\"\n",
    "\n",
    "from nltk.tokenize import sent_tokenize\n",
    "\n",
    "sentences = sent_tokenize(para)\n",
    "for sent in sentences:\n",
    "    print(\"Original sentence: \", sent)\n",
    "    aphasic, changed = aphasic_speech(sent)\n",
    "    if changed:\n",
    "        print(\"Final utter:\", \" \".join(aphasic.split()).strip())\n",
    "        print(\"-----------------------------------------------\")\n",
    "    else:\n",
    "        print(\"-----------------------------------------------\")"
   ],
   "metadata": {
    "collapsed": false,
    "ExecuteTime": {
     "end_time": "2024-03-05T10:36:52.539895900Z",
     "start_time": "2024-03-05T10:36:52.429893900Z"
    }
   },
   "id": "82580e7ec167ce03"
  },
  {
   "cell_type": "code",
   "execution_count": 41,
   "outputs": [
    {
     "name": "stdout",
     "output_type": "stream",
     "text": [
      "Ruhi PROPN\n",
      "'s PART\n",
      "books NOUN\n"
     ]
    }
   ],
   "source": [
    "for x in nlp(\"Ruhi's books\"):\n",
    "    print(x.text, x.pos_)"
   ],
   "metadata": {
    "collapsed": false,
    "ExecuteTime": {
     "end_time": "2024-03-05T10:36:52.584227400Z",
     "start_time": "2024-03-05T10:36:52.539895900Z"
    }
   },
   "id": "8535e070e5517404"
  },
  {
   "cell_type": "markdown",
   "source": [
    "## Test on some of the IMDB dataset"
   ],
   "metadata": {
    "collapsed": false
   },
   "id": "91db62f38951bdb0"
  },
  {
   "cell_type": "code",
   "execution_count": 9,
   "outputs": [
    {
     "name": "stdout",
     "output_type": "stream",
     "text": [
      "DatasetDict({\n",
      "    train: Dataset({\n",
      "        features: ['text', 'label'],\n",
      "        num_rows: 25000\n",
      "    })\n",
      "    test: Dataset({\n",
      "        features: ['text', 'label'],\n",
      "        num_rows: 25000\n",
      "    })\n",
      "    unsupervised: Dataset({\n",
      "        features: ['text', 'label'],\n",
      "        num_rows: 50000\n",
      "    })\n",
      "})\n"
     ]
    }
   ],
   "source": [
    "from datasets import load_dataset\n",
    "from nltk.tokenize import sent_tokenize\n",
    "\n",
    "ds = load_dataset(\"imdb\")\n",
    "print(ds)"
   ],
   "metadata": {
    "collapsed": false,
    "ExecuteTime": {
     "end_time": "2024-03-05T11:02:40.738637Z",
     "start_time": "2024-03-05T11:02:32.305682800Z"
    }
   },
   "id": "254d6418351d0f9"
  },
  {
   "cell_type": "code",
   "execution_count": 10,
   "outputs": [],
   "source": [
    "texts = ds[\"train\"][\"text\"]\n",
    "sents = []\n",
    "\n",
    "for text in texts:\n",
    "    text = re.sub(r'\\<.*?\\>', \" \", text)\n",
    "    sentences = sent_tokenize(text)\n",
    "    for sent in sentences:\n",
    "        if isinstance(sent, str):\n",
    "            sent = re.sub(r'\\<.*?\\>', \" \", sent)\n",
    "            if not sent.rstrip().isdigit() and len(sent.rstrip()) >= 1:\n",
    "                sents.append(sent)\n",
    "                \n",
    "test_sents = sents[2000:4000]"
   ],
   "metadata": {
    "collapsed": false,
    "ExecuteTime": {
     "end_time": "2024-03-05T11:04:21.866736200Z",
     "start_time": "2024-03-05T11:04:17.299045200Z"
    }
   },
   "id": "45c43d9f2a09e8a7"
  },
  {
   "cell_type": "code",
   "execution_count": 11,
   "outputs": [
    {
     "data": {
      "text/plain": "[\"And then there's the obligatory male-fantasy of an attractive straight woman suddenly deciding to give lesbianism a try -- PLEASE.\",\n 'Not only do I wish I could get my money back for the DVD rental, I also want those 112 minutes of my life back.',\n 'What a ripoff.',\n 'I was gifted with this movie as it had such a great premise, the friendship of three women bespoiled by one falling in love with a younger man.',\n 'Intriguing.',\n 'NOT!',\n 'I hasten to add.',\n 'These women are all drawn in extreme caricature, not very supportive of one another and conspiring and contriving to bring each other down.',\n \"Anna Chancellor and Imelda Staunton could do no wrong in my book prior to seeing this, but here they are handed a dismal script and told to balance the action between slapstick and screwball, which doesn't work too well when the women are all well known professionals in a very small town.\",\n 'And for intelligent women they spend a whole pile of time bemoaning the lack of men/sex/lust in their lives.',\n 'I felt much more could have been made of it given a decent script and more tension, the lesbian sub-plot went nowhere and those smoking/drinking women (all 3 in their forties???)',\n 'were very unrealistic - even in the baby scene - screw the baby, gimme a cigarette!',\n 'Right.',\n 'Like I said, a shame of a waste.',\n '4 out of 10.',\n '\"The Crush\" is a pleasant enough 40-something friends romantic chick flick for the first two-thirds or so, as it tries to be a Brit \"Sex and the City\".',\n \"I particularly enjoyed the turn-around of the trophy young hunk whose character is not much fleshed out (come to think of it we didn't see all that much physical flesh of him either and Kenny Doughty is worth seeing more of).\",\n 'They sure make a lot more deal of young man/older woman than was made of the opposite in either version of \"Sabrina\" (neither movie do I like) or for that matter with the Douglas/Zeta-Jones or Dion/Svengali nuptials.',\n 'Surrounding Andie MacDowell as an ex pat otherwise are welcome familiars from Brit dramas and comedies, such as tart-tongued Anna Chancellor.',\n 'The plot twists towards the end feel very deus ex machina.',\n \"But it wasn't until the credits came up at the end that I realized what might really be wrong.\",\n 'Just as with \"Sex and the City,\" the writer/director is male, here first-timer Scot John McKay, and I think he really wanted to do a script about three gay men, probably about them coming out in relation to their lovers and at work (the characters are a school principal, a cop and a doctor), which would have been a better and more interesting movie.',\n 'The working title for the film was \"The Sad F*cker\\'s Club\" which would have made its parallels with the gay \"Broken Hearts Club\" even more obvious.',\n '(originally written 4/6/2002)',\n 'it MIGHT have been a good movie if it had explored something more interesting rather than just the surface of a lesbian relationship if this was the meaning of the movie...it is quite predictable not mentioning that the two girls resemble the Russian group t.A.T.u....coincidence?',\n \"i don't think so.\",\n 'There is nothing original in this movie to support it so they had to use something which is already famous.You know the recipe.',\n \"The other actors...well,i just don't know what their role is supposed to be.\",\n 'Most of them are well - known people in Romania and i must mention some of them are not even actors(e.g.Mihaela Radulescu).SO to summarize it: \"girl band tatty\"+desperate/publicity needing \"actors\"+ a non-existing plot+ the occasion to use bad language in order to shock= Love sick....too bad...the idea was good,though...and i am seriously holding myself from commenting the title...',\n \"***LIGHT SPOILER ALERT*** The story sounds good and if you've read the novel, then you're probably expecting a deep and intense movie that could offer some insight for some interesting and insufficiently explored human relationships.\",\n 'True enough, the script tries to do that, the director tries to do that, but the main cast fails miserably.',\n \"Maria's acting is so dry that lacks any feeling whatsoever, her most intense moments seem almost comical.\",\n 'Sometimes she seems to be nervous due to the camera.',\n 'Her only really feeling scene is near the end where she gets dumped by her girlfriend.',\n \"Ioana seems even more tense than Maria and even worse, she doesn't seem natural at all.\",\n 'Maria had the attitude, even if it was artificially pushed towards being obvious, but she had it and her character received some credibility.',\n \"And to make matters worse, we don't have an insight on her: where does she come from, how come she got involved in the lesbian relationship, how did the relationship evolve?\",\n \"We only get some bits from her parents and their relationship just seems to 'be' there: it has a content and and end, but no beginning.\",\n \"Just like her partner Maria, she has only once scene that is truly touching, the scene where she dumps Maria's character Kiki.\",\n 'Tudor is the only person in this movie (aside from the landlady, great acting there) who manages to prove some acting talent.',\n \"He has his character's attitude and it fits him.\",\n \"Only once or twice he seems to falter (the scene at his parents' meal, he tries to be obvious when it wasn't necessary at all).\",\n \"I love the story, Tudor Chirila is OK there, the landlady actually acts and Puya delivers his couple of lines with style, but this doesn't save the movie.\",\n \"Too bad, the entire setting had huge potential and the Romanian cinematography could've used a movie on this theme.\",\n \"Oddly enough, the incestuous relationship between brother and sister seems to have more credibility than the no-background no-feeling (well, Maria's spoken interludes are a nice try in this direction) lesbian relationship of Maria and Ioana.\",\n \"I'm quite sorry for spending money on a ticket, I'd rather had watched it from the comfort of my room.\",\n 'This is a movie that relies solely on the somewhat controversial image of incest and lesbianism to get noticed.That is it.The dialogs are pathetic and the sensuality of the \"sex scenes\" is absolutely absent.The acting and the dialog are more suited for high-school children,yet the subject is intended for adult audiences.',\n 'It is a gutless and shallow movie.It could have been way better if it had a story and more drama.',\n 'Ah and on top of that, one more thing: why are inner monologues so excessively used?',\n \"Makes it seem so cheap.All in all an embarrassing movie for Romanian cinema as well as for mature audiences attempting to view it.I know the means are scarce but, that is not always an excuse for a movie flopping as this one does.And please start using some good actors in your movies and stop recycling them from musicians (Tudor Chirila) - they can't act!\",\n 'I am not so much like Love Sick as I image.',\n 'Finally the film express sexual relationship of Alex, kik, Sandu their triangle love were full of intenseness, frustration and jealous, at last, Alex waked up and realized that they would not have result and future.Ending up was sad.',\n 'The director Tudor Giurgiu was in AMC theatre on Sunday 12:00PM on 08/10/06, with us watched the movie together.',\n 'After the movie he told the audiences that the purposed to create this film which was to express the sexual relationships of Romanian were kind of complicate.',\n \"On my point of view sexual life is always complicated in everywhere, I don't feel any particular impression and effect from the movie.\",\n 'The love proceeding of Alex and Kiki, and Kiki and her brother Sandu were kind of next door neighborhood story.',\n \"The two main reasons I don't like this movie are, firstly, the film didn't told us how they started to fall in love?\",\n 'Sounds like after Alex moved into the building which Kiki was living, then two girls are fall in love.',\n \"It doesn't make sense at all.\",\n 'How a girl would fall in love with another girl instead of a man.',\n 'Too much fragments, you need to image and connect those stories by your mind.',\n \"Secondly, The whole film didn't have a scene of Alex and Kik's sexual intercourse, that 's what I was waiting for\\x85\\x85.\",\n 'However, it still had some parts were deserved to recommend.',\n 'The \"ear piercing \" part was kind of interesting.',\n \"Alex was willing to suffer the pain of ear piercing to appreciate kik's love.\",\n 'That was a touching scene which gave you a little idea of their love.',\n 'Also, the scene of they were lying in the soccer field, the conversation express their loves were truthful and passionate.',\n 'I am not so much like Love Sick as I image.',\n 'Finally the film express sexual relationship of Alex, kik, Sandu their triangle love were full of intenseness, frustration and jealous, at last, Alex waked up and realized that they would not have result and future.Ending up was sad.',\n 'The director Tudor Giurgiu was in AMC theatre on Sunday 12:00PM on 08/10/06, with us watched the movie together.',\n 'After the movie he told the audiences that the purposed to create this film which was to express the sexual relationships of Romanian were kind of complicate.',\n \"On my point of view sexual life is always complicated in everywhere, I don't feel any particular impression and effect from the movie.\",\n 'The love proceeding of Alex and Kiki, and Kiki and her brother Sandu were kind of next door neighborhood story.',\n \"The two main reasons I don't like this movie are, firstly, the film didn't told us how they started to fall in love?\",\n 'Sounds like after Alex moved into the building which Kiki was living, then two girls are fall in love.',\n \"It doesn't make sense at all.\",\n 'How a girl would fall in love with another girl instead of a man.',\n 'Too much fragments, you need to image and connect those stories by your mind.',\n \"Secondly, The whole film didn't have a scene of Alex and Kik's sexual intercourse, that 's what I was waiting for\\x85\\x85.\",\n 'However, it still had some parts were deserved to recommend.',\n 'The \"ear piercing \" part was kind of interesting.',\n \"Alex was willing to suffer the pain of ear piercing to appreciate kik's love.\",\n 'That was a touching scene which gave you a little idea of their love.',\n 'Also, the scene of they were lying in the soccer field, the conversation express their loves were truthful and passionate.',\n 'Considering that this movie had a serious and quite successful launching campaign, I would have expected something to be worth the fuzz...from the opening scene on (in which the two brothers \"sensually\" caress each other, laying naked in a bed) it goes rapidly downwards...nothing to get the attention, not a mind-catching thing in the whole plot, baaad baad acting (a few minor exceptions, but artificiality is at its best).',\n 'Incest and lesbianism are promising themes, but the script analyses none of the two in depth ( mind that a possible excuse of the makers, saying that they aimed for a subtle movie would be hilarious, unless subtle and superficial mean the same thing...).',\n 'The too curious viewers will not get any interesting scene...at this point, that could have saved some of the movie...so you can imagine how bad it is.',\n 'Many other things could be said...but please watch the movie yourselves...I am an egoist and I would like as many people as possible to waste about 1 1/2h of their lives...like I did :(',\n 'Yes, indeed, it could have been a good movie.',\n 'A love biangle, (sorry for the poetical license, but is not a triangle!)',\n 'an interesting story, unfortunately badly told.',\n 'The image is sometimes weird, sometimes OK, the picture looks crowded and narrow-sighted.',\n 'The sound needs more attention (it usually does in Romanian movies), the light and color filters are sometimes badly chosen.',\n 'The soundtrack is short and is not helping the action.',\n 'About the acting... sorry but the best actress is the landlady.',\n 'The others are acting immaturely and cannot convince the viewer.',\n 'The acting is poetical when it should be realistic, and realistic when it should be poetical.',\n \"It's a picture for adults, told by the children.\",\n 'Bother only if extremely curious.',\n 'Closer to reality and containing more depth than \"Breakdance\", Stan Lathan\\'s \"Beat Street\" is still a pretty dull show.',\n \"Again this pic is really only cashing in on the 'breakin' craze but at least we get a little bit of entertainment from the plot, which concerns the lives of three young friends and a younger brother, all growing up in Queens, New York.\",\n 'Each has their own unique talent.',\n \"One is a hustler, one a d.j., another an artist who creates 'burners', while little bro' Lee is a hot 'hip hop' dancer.\",\n 'Lathan is unable to generate any real audience interest in the story though, and his young cast are likewise struggling with their characters.',\n \"Therefore it is left almost entirely to the funky music and the 'fresh' dancing to save the day.\",\n 'Choreography is again sharp for both club and street scenes, but this alone is not enough to lift \"\"Beat Street\" to greater heights.',\n 'Unfortunately the film really falls flat late on, after showing a glimmer of hope that it just might get interesting.',\n 'Sunday, August 25, 1996 - Video',\n 'Hilariously obvious \"drama\" about a bunch of high school (I think) kids who enjoy non-stop hip-hop, break dancing, graffiti and trying to become a dj at the Roxy--or something.',\n 'To be totally honest I was so bored I forgot!',\n 'Even people who love the music agree this movie is terribly acted and--as a drama--failed dismally.',\n \"We're supposed to find this kids likable and nice.\",\n 'I found them bland and boring.',\n 'The one that I REALLY hated was Ramon.',\n 'He does graffiti on subway trains and this is looked upon as great.',\n 'Excuse me?',\n \"He's defacing public property that isn't his to begin with.\",\n 'Also these \"great\" kids tap into the city\\'s electricity so they can hold a big dance party at an abandoned building.',\n 'Uh huh.',\n \"So we're supposed to find a bunch of law breakers lovable and fun.\",\n \"I could forgive all that if the music was good but I can't stand hip hop.\",\n 'The songs were--at best--mediocre and they were nonstop!',\n \"They're ALWAYS playing!\",\n 'It got to the point that I was fast-forwarding through the many endless music numbers.',\n '(Cut out the music and you haver a 30 minute movie--maybe) There are a few imaginative numbers--the subway dance fight, a truly funny Santa number and the climatic Roxy show.',\n \"If you love hip hop here's your movie.\",\n \"But it you're looking for good drama mixed in--forget it.\",\n 'Also HOW did this get a PG rating?',\n \"There's an incredible amount of swearing in this.\",\n \"Maybe you shouldn't compare, but Wild Style and Style Wars are original Hip Hop.\",\n \"Beat Street does have a lot of the original artists of early Hip Hop, but they've been obviously made clear that this could be their big break, of course for some it was and that's nice.\",\n \"But if you view this as original Hip Hop Culture you're wrong.\",\n \"It's overproduced and has a Hollywood sauce.\",\n 'Rather look for the first two movies i mentioned.',\n 'They have convey the grittiness that comes with life in the ghetto.',\n 'Yes, the rating for this movie is low, but the reviews are mostly positive or even raving.',\n 'This is probably because although the story, the acting, the dialogues and the direction all are dreadful, the music and dancing is what the people love about it.',\n \"Me, i do love the dancing but at the time thought that electro was the death of Hip Hop (i was so glad when round '86 a new generation of now classic Hip Hop artists appeared, like Krs One, Public Enemy, Ultramagnetic Mc's, Jungle Brothers, Bizmarkie to name a few), and i still don't like most of the beats in this movie and that is why it doesn't work for me.\",\n 'I mean, Wild Style has not much of a story but the music there is great and authentic.',\n \"Of course tastes differ and that's alright.\",\n \"But as far as i'm concerned, this movie is trash except for the break dancing and some of the music and so i can't rate it higher than a 4 out of ten.\",\n 'I could never stand watching Happy Days after Chachi joined the cast, so I knew I was in trouble when the best scene in this movie featured Scott Baio (a skateboard chase scene!).',\n 'Jodie Foster in her first \"grown-up\" role turns in her usual professional performance but that is no excuse for this boring mess.',\n \"Two hours out of my life that I'll never get back!\",\n \"No noteworthy characters, unbelievable storyline, questionable editing and horrendous cinematography but worst of all, I couldn't have cared less.\",\n \"The story of California teens in the 1970's, where the kids live miserable lives and all their parents are idiots.\",\n \"Don't waste your time watching this ugly excuse for a movie.\",\n 'Horrible film with bits of the Ramones strewn about.',\n \"Your worse than average 1970's/80's comedy format of the cool kids taking over the school with some whimsical plan.\",\n 'This movie is terrible.',\n 'The plot consists of a girl who enjoys the Ramones and a school bent on fighting against their oppressive administration.',\n 'Forget this movie and watch something like Wild Zero starring Guitar Wolf if you want an entertaining B movie.',\n 'Terrible acting, terrible writing, terrible plot with the stamp of approval of the Ramones who probably needed some money quick so they said yes to this movie.',\n 'That is the only logical thing I can think of because this movie blows.',\n 'This movie is a 90 minute Ramones concert with brief periods of stupidity and absolute boredom.',\n 'What kind of high school is this anyway?',\n 'Unless you are a major Ramones fan, DO NOT and I repeat DO NOT waste your time like I did.',\n 'This is utterly unwatchable from start to finish.',\n 'This movie should be called Ramone Fever.',\n 'Everyone appears to like them in this movie.',\n 'There is not a plot to be found in this flick.',\n 'As far as teen comedies go, you are scraping the bottom of the barrel with this one.',\n 'I gave this film 2 stars only because Dominic Monaghan actually put effort through in his acting.',\n 'Everything else about this film is extremely amateur.',\n 'Everything associated with the direction of this film was very poorly executed.',\n 'Not only should the director rethink what she is doing for a life career but maybe she should watch a few films.',\n 'As Dominic Monaghan is a very credible actor, placing him in a film of this caliber makes him look awful.',\n 'Whomever the \"actor\" was that played Jack\\'s best friend should never have stepped in front of the camera.',\n \"I didn't expect much from such a small film, but perhaps a little more time and effort should be put into the characters and their surroundings.\",\n \"Don't waste your time or money on this film (like I did) you will be sorely disappointed.\",\n 'I jumped at the chance to view this movie uncut and uninterrupted, remembering rahs and raves for it.',\n 'But wherever it seemed about to slip into being truly scary, it backed off and went somewhere else.',\n 'The dripping water throughout the house, the black rain, the prophetic dreams, taking the wrong turn in raw sewage were dropped before they could work up to a scream.',\n 'What a disappointment.',\n \"Chamberlain's nearly expressionless mask of a face offered little but confused disbelief, something I found myself mirroring as the film wore on.\",\n \"What could have been eerie Aboriginal chanting and instruments in the background were instead a cacophony seemingly designed to beat terror into one's head.\",\n 'The ideas that modern people can embody ancient gods, that the Aboriginal peoples believe red-haired white men were the first priests, and many other possibilities are passed along more like a shopping list than a hint at another dimension (the Dream Time).',\n \"[SPOILER] In the final scene, it wasn't clear to me what the director was trying to tell.\",\n 'Is there a big wave?',\n 'So what?',\n 'How big?',\n 'A tsunami?',\n 'Yeah, okay.',\n \"That's devastating but not apocalyptic.\",\n 'Is it the end of the world?',\n 'From a wave?',\n 'The last wave?',\n \"That'd have to be a pretty darn big wave.\",\n 'Why?',\n 'Was the world that bad a place?',\n \"It didn't seem so awful in this movie.\",\n \"Actually I didn't think the wave came off, since the shadow left Burton's face that had been cast by the wave.\",\n \"Was it only Burton's apocalypse?\",\n 'Heck, that happens every day to people who lose it.',\n \"It wasn't of any interest if it was only him.\",\n \"The most frightening scene, and the one that gives the best indication of Weir's potential, was in Charlie's apartment where Burton has gone to confront the old man for scaring Burton's wife.\",\n 'Charlie keeps asking him \"Who are you?\"',\n 'and it becomes truly disturbing after a while.',\n 'Unfortunately, the movie never followed suit.',\n 'The perfect murder is foiled when a wife(played by Mary Ellen Trainor, once the wife to director Robert Zemeckis, who helmed this episode), who murders her husband with a poker, has the misfortune of receiving a visitor as she is about to move the body outside..an escaped insane madman dressed in a Santa Claus suit(played by a deviously hideous Larry Drake).',\n \"She fends for her life while trying to find a way of hiding her husband's corpse.\",\n \"She decides to use an ax, once she downs the Santa killer who misses several chances to chop off the woman's head, to frame the killer for her husband's murder.\",\n \"Santa killer locks her in a closet and pursues the woman's daughter as she tries desperate to free herself to save the child.\",\n 'This episode of TALES FROM THE CRYPT just recycles tired material involving the old \"Santa kills\" theme while also adding the oft-used(add nauseum)woman-murders-her-husband-for-a-man-she\\'s-been-cheating-with routine.',\n \"It's essentially Trainor trying to find a way to avoid being caught with a dead body she kills while also keeping a safe distance from a maniac.\",\n \"There's nothing refreshing or new about this plot which pretty much goes through the motions.\",\n \"Not one of the show's highlights.\",\n 'Well, as Goethe once said, there really isn\\'t any point in trying to pass a negative judgement that aspires to be objective on \"something that has had a great effect\".',\n '\"La Maman et La Putain\" has surely passed into history as an influence on much of what\\'s been done in France and elsewhere in the past thirty years and no one interested in the history of film, certainly, should be dissuaded from watching it.',\n 'To express a purely subjective judgement, however, I feel compelled to disagree with almost every other review posted here and say to people: \"Don\\'t watch it; it\\'s a waste of hours of your time that will just leave you feeling rather sick and angry.\"',\n 'And by that I don\\'t mean \"sick and angry\" about \"the human condition\" or anything so general and profound as that, because that is exactly the line that most critics have adopted in their fulsome praise of the film - \"an ordeal to watch in its ruthless dissection of our emotional cowardice and cruelty\" and so on - and, if it really managed to put across a universally or even broadly relevant message of this sort, then the director would have good reason to be satisfied with himself, however pessimistic his conclusions may be.',\n \"My beef with the film is rather that I don't see this hours-long record of empty vanity and petty treachery as being justified or excused by any GENERALLY relevant message at all.\",\n 'All three main characters are deeply morally unattractive individuals: Alexandre to the greatest degree, of course, because we see by far the most of him and because he seldom shuts up for more than thirty seconds; Marie perhaps to the least degree, because we see the least of her.',\n 'Alexandre\\'s affected and pretentious monologues have a kind of amusement value, of course, but the amusement wears thin as one comes more and more clearly to realize that Jean-Pierre Léaud is most likely not even acting and that, with absurd remarks like \"un homme beau comme un film de Nicholas Ray\", he really was just reproducing word-for-word opinions that were accepted as authentic and profound by the milieu in which he, along with the director Eustache, had been living for about ten years by the time of the making of the film.',\n \"I suppose if the tone of relentless superficiality and triviality had been sustained throughout 100% of the film, it might have worked as a long sardonic comedy about a particularly shallow, worthless and despicable post-'68 milieu.\",\n 'What made, however, this viewer at least extremely angry with the director was his granting of at least one lengthy scene each to Alexandre and Veronika in which we are clearly expected to empathize with and feel for them as if they shared a moral universe with us.',\n \"If a man can get away with living in the flat of and professing to love one woman, sleeping (mostly in this very flat) with another, and running around Paris proposing marriage to yet a third, well, I suppose I can wish him the best of luck in the dog-eat-dog world he's chosen to create for himself.\",\n 'What I can\\'t, however, in all conscience do is listen even for a moment to maudlin monologues from him in which he speaks about his \"anxiety\" and his \"despair\".',\n 'The same goes double for the even more despicable Veronika, whom we are shown barging drunk into the apartment and even the bed shared by Marie and Alexandre and behaving there with an infantile inconsistency tantamount to the most savage and heartless cruelty.',\n 'As I say, if \"La Maman et La Putain\" is intended to be nothing more nor other than a portrait of Alexandre, Veronika and Marie, three individuals whom any even halfway decent person would never admit into their company let alone their home, then I suppose there is a kind of legitimacy in praising the director for being \"unflinching\" (though why one should even feel like \"flinching\" once one had consciously opted to create such thoroughly repellent characters to filmically observe I can\\'t imagine).',\n \"The problem, however, is that the director is clearly convinced - and appears to have succeeded in convincing generations of critics - that Alexander, Veronika and Marie are somehow representative of human beings in general and of the limits of human beings' emotional capabilities.\",\n 'This latter idea, however, is arrant and offensive nonsense.',\n 'There may indeed be an inherent fallibility and tendency to tragedy in human relations in general and sexual relations in particular.',\n 'But the nature and degree of this fallibility and tendency to tragedy can only possibly be determined by people who make a sincere and serious effort to make such relations work.',\n 'It surely needs no cinematic or authorial genius to convey to us the information that a man who behaves like Alexandre is going to end up hated, miserable, and alone, or that women who insist on expecting love from a man like Alexandre are going to end up disappointed and bitter.',\n 'Watch \"La Maman et La Putain\" if you\\'re historically interested in what passed for culture and human interaction in a certain post-\\'68 Parisian milieu which was probably, unfortunately, not restricted to just a few particularly anti-social types like these.',\n \"But please don't make the mistake of believing that what is recorded here has any general relevance for humanity in the way that a film by Jean Renoir or Martin Scorsese might be argued to have.\",\n \"That's not the sound of bees, that's the effect induced by watching this extremely long, extremely boring, badly acted movie.\",\n \"How I ever made it through all 3 1/2 hours without falling asleep I'll never know.\",\n 'The plot is simple...3 thoroughly unlikable morons talk about sex for 3 1/2 hours.',\n 'And you thought Rohmer was deadly.',\n \"This is even worse, if that's possible.\",\n '> I must really be a masochist if I could watch this entire movie without turning it off...or killing someone.',\n 'Iberia is nice to see on TV.',\n 'But why see this in silver screen?',\n 'Lot of dance and music.',\n 'If you like classical music or modern dance this could be your date movie.',\n 'But otherwise one and half hour is just too long time.',\n \"If you like to see skillful dancing in silver screen it's better to see Bollywood movie.\",\n 'They know how to combine breath taking dancing to long movie.',\n 'Director Carlos Saura knows how to shoot dancing from old experience.',\n \"And time to time it's look really good.\",\n 'but when the movie is one and hour it should be at least most of time interesting.',\n 'There are many kind of art not everything is bigger then life and this film is not too big.',\n 'That reviewers liked this movie surprises me.',\n 'The plot is a muddle.',\n 'The characters are wooden.',\n 'Michael Bowen spends most of the film spying on the other characters and misjudging all of them.',\n 'No one has any redeeming quality or point-of-interest.',\n 'This is not an edgy work.',\n 'It is not imaginative.',\n 'It is not ironic.',\n 'It is no clever.',\n 'There is nothing straight forward about this tedious work.',\n 'That is missed theatrical release is not surprise.',\n 'That the \"This Network\" airs it diminishes that venue.',\n 'I definitely recommend turning to a rerun of the Garden Smart show on PBS or even a good informational if you encountered this mess on late night television.',\n 'If you encounter it on daytime television, take a long walk.',\n 'Even if you walk in smog, you will feel better not having suffered through this shambles.',\n 'Life is short.',\n 'This movie is long.',\n 'This is a terrible movie, terrible script, bad direction and nonsensical ending.',\n 'Also, bad performances, except from Clancy Brown who is criminally underused here, and Michael Pollard.',\n 'Watching this movie was purgatory--you do it to unload enough bad movie karma to actually see a good one further down the line.',\n \"The movie presents a father and son who look like they couldn't every possibly have been related.\",\n 'The part of the male lead is not well written and seems uncharismatic in this role.',\n 'You can see the plot points a mile away.',\n 'The actions of the female lead and that of her brother, the cop, also make no sense.',\n 'So, a major action on her part at the end of the movie makes no sense script-wise.',\n \"Burt Kennedy used to be a very good director, but you'd never know it by this lumbering mess.\",\n 'Not only does this film look cheap, it IS cheap--most of the battle scenes are lifted from the far superior \"The Last Command\" from 1955, and that footage, shot 32 years previously, looks more contemporary than anything in this picture.',\n 'The few action scenes that were actually shot for this movie are disorganized, confused and incompetent, looking just as shoddy as the rest of the picture.',\n \"This has the look and feel of a bad student film (and the budget didn't seem to be a whole lot more).\",\n \"It moves like molasses, the acting for the most part is either over-the-top ham or under-the-top comatose--although Raul Julia comes off better than most of the rest of the cast--and it's chock full of annoying historical inaccuracies.\",\n \"On top of that, it's WAY too long.\",\n \"If you're going to make a boring film, do it in an hour or so and get it over with--don't stretch it out over three hours, like this one does.\",\n \"If you want to see a good movie about the Alamo, check out John Wayne's 1960 version, or even the 1955 film from which this movie stole its action scenes.\",\n 'Hard to believe it took six producers to make a movie this lousy.',\n 'Skip it.',\n 'While being a great James Arness western, this film has gone down as the worst Alamo film ever made.',\n 'The story was terrible, inaccuracy all through it, and just downright untruths to boot!',\n 'Continuity was cast to the four winds.',\n 'Anybody catch the cannon sequence?',\n 'The Mexicans were dumb enough to fire cannons that obviously had mud and ramrods still sticking out of the tubes.',\n 'Come on!',\n \"Then there is Brian Keith's ridiculous hat!\",\n 'Costumer must of been away or something.',\n 'Or just out of their mind!',\n 'This movie is flawed on many fronts.',\n 'Like many before it, it portrays more of the mythology of the Alamo than the history.',\n 'The production is poor, overall giving the impression of a welfare project for lots of actors who might have otherwise had to work on Hollywood Squares.',\n 'This to me was the greatest flaw - I know the ages and general personalities of the real Alamo protagonists and the geriatric ensemble of TV actors chosen to portray them never let any hint of believability intrude.',\n 'As a native Texan, I grew up with the mythology.',\n 'I later learned more about the history.',\n 'I can accept a decent production from either perspective (although I prefer more historical accuracy), but this never gave me a chance to enjoy it.',\n \"Even John Wayne's or Fess Parker's versions had more life than this stolid mess, while being only slightly less accurate.\",\n 'Very disappointing - avoid it.',\n 'Slow and riddled with inaccuracy.',\n 'Over-looking its flaws this is still an interesting account of the famed and heroic siege of the Alamo during the Texas fight for independence from Mexico.',\n 'James Arness as Jim Bowie.',\n 'Brian Keith as Davy Crockett.',\n 'Alec Baldwin as Col. Travis.',\n 'Raul Julia as General Santa Anna.',\n 'This made-for-TV project also stars David Ogden Stiers, Kathleen York and Jim Metzler.',\n 'Very good original music by Peter Bernstein.',\n 'This film, The Alamo:Thirteen Days to Glory, is utter rubbish.',\n 'The acting is awful, it is far too patriotic and its historical accuracy is not always at its best (Historians would have a field day).',\n 'It does have a few good moments but not enough to keep interest because it is far too long.',\n 'Rating * out of **********.',\n \"The story by Norman Maclean is a masterwork; Redford's film is a mediocrity.\",\n 'He adds banal scenes of the Maclean brothers going over a falls and of them double-dating in a seedy bar that were not even hinted at in the story.',\n 'The cipher, Brad Pitt, trying to play the charismatic Paul Maclean, a genius outdoors, proves either risible or depressing, depending on what the original story meant to you.',\n 'Some of the fly casting scenes are beautiful.',\n 'Also, Tom Skerritt as the father and Craig Sheffer as Norman are strong and masculine, as men were once expected to be.',\n 'None of the women make an impression in the film, which is regrettable, because Maclean loved the women in his story and made this clear, even poetic.',\n 'The only good part about this film is the beautiful scenery.',\n 'This movie was long and boring.',\n 'The minister should have retired from the pulpit the time his son Paul strayed from the teachings he proclaimed.',\n \"How many times can his boys take the Lord's name in vain in this film being from a Presbyterian background?\",\n \"It doesn't fit.\",\n 'I wished Paul was swept down the river without a boat at the very beginning to spare us the silly, smirkish, selfish story of Paul (Brad Pitt).',\n \"So Norm becomes a teacher and Paul becomes a compulsive gambler who Norm wants to rescue but doesn't-so what.\",\n \"It's very uninteresting.\",\n 'We see the prejudiced whites being stood up to by Paul because of his native American girl.',\n \"That was the only part that had some interest and maybe could have been developed into a real 'wild western'.\",\n \"What we only see is a sleepy town where the two minister's sons have nothing to do but 1.\",\n 'Norm chase a lame girlfriend and deal with her family and 2.Paul make up dumb stories at the newspaper shop while scratching his head and take a lot of swigs and tie a lot of flies.',\n \"I'd rather watch a show about fishing that that film again-which will be never.\",\n '... to not live in Montana and especially not to live there at the end of the 19th century.',\n '\"A river runs through it\" certainly is a well made movie from a cineastic stand-point.',\n 'Great landscapes, Redford acting well.',\n 'Unfortunately, the story is bad (if there is a story at all).',\n 'I felt sorry for the narrator / author, who is as dry, narrow-minded a character as his father, a preacher.',\n 'Being driven, not driving his own life, he is left to watch his brother, who is also caged in the small town environment, losing his life.',\n \"The author never even comes close to undestand his brother's motivations, but at least realizes, that he is lacking the slightest amount of homour / fun.\",\n 'All there is, is fly-fishing, where he follows even as an old man the style of his father.',\n 'The end is not surprising, it is forseeable from the very beginning.',\n 'Definitely NOT a must-see (3 / 10)',\n 'I always felt that a good film should have a plot.',\n 'This particular film was missing one, and I feel that it would have been more effective with a plot.',\n 'This was made even worse by the fact that it seemed to go on forever; I was anxious for it to finally end.',\n 'However, I just noticed that it was only 123 minutes long; it felt like four hours.',\n 'Not only was there no plot but the film also lacked a notable conflict.',\n 'It\\'s not the worst movie I\\'ve seen, but I used to say that it was until I saw \"The Fast And The Furious\".',\n \"So, don't think this review of mine is from someone who needs nothing but action.\",\n \"I actually hate most action films out today; it's just that this film is all the way on the other side of the spectrum.\",\n 'Not much really happens in this movie.',\n 'However, the scenery and costumes were nice.',\n 'This movie has beautiful scenery.',\n 'Unfortunately it has no plot.',\n 'In order to have a plot there must be a conflict.',\n 'This movie had none.',\n 'It spent two hours painting a beautiful scene and failed to ever place any activity in it.',\n 'The picture tries to be artistic but fails to pay attentions to the fundamentals of story telling.',\n \"If you love Montana scenery and fly fishing you will find some value in this film just don't expect a story.\",\n \"There isn't one.\",\n 'This movie has beautiful scenery.',\n 'Unfortunately it has no plot.',\n 'In order to have a plot there must be a conflict.',\n 'This movie had none.',\n 'It spent two hours painting a beautifule scene and failed to ever place any activity in it.',\n 'The picture trys to be artistic but fails to pay attentions to the fundamentals of story telling.',\n \"If you love Montana scenery and fly fishing you will find some value in this film just don't expect a story.\",\n \"There isn't one.\",\n 'Sorry, gave it a 1, which is the rating I give to movies on which I walk out or fall asleep.',\n 'In this case I fell asleep 10 minutes from the end, really, really bored and not caring at all about what happened next.',\n \"I didn't know whether to laugh or cry at this misrepresentation of Canadian history, particularly the disservice done to the history of the Mounted Police in the Yukon.\",\n \"I'll leave it to Pierre Berton, noted historian, born and raised in Dawson City Yukon, and author of the definitive history of the Klondike gold rush, Klondike: The Last Great Gold Rush, 1896-1899 to express my exasperation with this silly movie:   The American idea of an untamed frontier, subdued by individual heroes armed with six-guns, was continued in The Far Country, another story about a cowboy from the American west - Wyoming this time - driving his herd of beef cattle into gold country.\",\n 'The picture is a nightmare of geographical impossibilities, but the real incongruity is the major assumption on which the plot turns \\x96 that there was only one mounted policeman in all of the Canadian Yukon at the time of the gold rush and that he could not deal with the lawlessness.',\n 'When James Stewart and Walter Brennan reach the Yukon border with their cattle, the customs shack is empty.',\n '\"Where is the constable?',\n 'asks Brennan.',\n '\"Up on the Pelly River.',\n 'Trouble with the Chilkats,\" someone replies.',\n \"He's got a real tough job, that constable.\",\n 'He patrols some ten or twenty thousand square miles.',\n 'Sometimes he don\\'t get home for two or three months at a time.\"',\n 'The historical truth is that the Yukon Territory during the gold rush was the closest thing to a police state British North America has ever seen.',\n 'The Northwest Mounted Police was stationed in the territory in considerable numbers long before the Klondike strike.',\n 'They controlled every route into the Yukon and they brooked no nonsense.',\n \"They collected customs duties, often over the wails of the new arrivals, made arbitrary laws on the spot about river navigation, and turned men back if they didn't have enough supplies, or if they simply looked bad.\",\n 'In true Canadian fashion, they laid down moral laws for the community.',\n 'In Dawson the Lord\\'s Day Act was strictly observed; it was a crime punishable by a fine to cut your wood on Sunday; and plump young women were arrested for what the stern-faced police called \"giving a risqué performance in the theatre,\" generally nothing more than dancing suggestively on the stage in overly revealing tights.',\n 'In such a community, a gunbelt was unthinkable.',\n 'One notorious bad man from Tombstone who tried to pack a weapon on his hip was personally disarmed by a young constable, who had just ejected him from a saloon for the heinous crime of talking too loudly.',\n 'The bad man left like a lamb but protested when the policeman, upon discovering he was carrying a gun told him to hand it over.',\n '\"No man has yet taken a gun away from me,\" said the American.',\n '\"Well, I\\'m taking it\", the constable said mildly and did so, without further resistance.',\n 'So many revolvers were confiscated in Dawson that they were auctioned off by the police for as little as a dollar and purchased as souvenirs to keep on the mantelpiece.',\n \"In 1898, the big year of the stampede, there wasn't a serious crime \\x96 let alone a murder \\x96 in Dawson.\",\n 'The contrast with Skagway on the American side, which was a lawless town run by Soapy Smith, the Denver confidence man, was remarkable.',\n 'But in The Far Country Dawson is seen as a community without any law, which a Soapy Smith character from Skagway \\x96 he is called Gannon in the picture \\x96 can easily control.',\n \"(In real life, one of Smith's men who tried to cross the border had all his equipment confiscated and was frogmarched right back again by a mounted police sergeant).\",\n '{in the movie the lone Mountie says} \"Yes I\\'m the law.',\n 'I represent the law in the Yukon Territory.',\n 'About fifty thousand square miles of it.\"',\n '\"Then why aren\\'t there more of you?\"',\n '\"Because yesterday this was a wilderness.',\n \"We didn't expect you to pour in by the thousands.\",\n 'Now that you\\'re here, we\\'ll protect you.\"',\n '\"When?\"',\n '\"There\\'ll be a post established here in Dawson early in May.\"',\n '\"What happens between now and May?',\n 'You going to be here to keep order?\"',\n '\"Part of the time.\"',\n '\"What about the rest of the time?\"',\n '\"Pick yourselves a good man.',\n 'Swear him in.',\n 'Have him act as marshal\\x85\"  The movie Mountie leaves and does not appear again in the picture.',\n 'His astonishing suggestion \\x96 that an American town marshal, complete with tin star, be sworn in by a group of townspeople living under British jurisprudence \\x96 is accepted.',\n 'Naturally they want to make Jimmy Stewart the marshal; he clearly fits the part.',\n 'But Stewart is playing the role of the Loner who looks after Number One and so another man is elected to get shot.',\n 'And he does.',\n 'Others get shot.',\n 'Even Walter Brennan gets shot.',\n 'Stewart finally comes to the reluctant conclusion that he must end all the shooting with some shooting of his own.',\n 'He pins on the tin star and he and the bully, Gannon, blast away at each other in the inevitable western climax.',\n 'To anybody with a passing knowledge of the Canadian north, this bald re-telling of the story passes rational belief.',\n \"excerpt from Hollywood's Canada, by Pierre Berton, 1975.\",\n 'The five or so really good westerns that Mann made are unequaled as an ensemble in Hollywood.',\n 'Even John Ford never made that many with so much quality.',\n 'The curious thing about them all is how uneven they are.',\n \"Ford's My Darling Clementine is worth about two and a half of any of them.\",\n 'Or at least two.',\n 'The real hero of them besides Mann and Stewart is Chase.',\n 'Chase being responsible for the brilliant Red River.',\n 'Chase wrote far country, bend of the river, and probably some others.',\n 'But none of them are as finished as My Darling Clementine, but then very few films, western or otherwise are.',\n 'Each of the five films of Mann have huge gaps, or is it six, lets see.',\n 'Bend, Far, Man of the West, Furies, Winchester 73, and yep, six, Naked Spur.',\n 'Each have magnificent scene after magnificent scene, with fairly glaring lapses.',\n 'Yet so does Red River, which is still the single greatest western ever made.',\n \"So perfection isn't everything.\",\n 'But The Far Country has huge, huge holes.',\n \"It's mawkish, and really comes alive only when Stewart and Mc Entire are locking horns.\",\n \"The rest is pretty pedestrian, with the usual exception of Mann's camera.\",\n \"Mann's camera is a one man course in cinematography.\",\n 'It is about as good an eye as anybody who ever got behind a strip of moving film.',\n 'It is almost never in the wrong place, never.',\n 'The Far Country has one amazing moment.',\n 'And as usual it comes from Stewart.',\n 'Nobody in the history of cinema ever received physical punishment with the authority of that man.',\n 'He is absolutely amazing: look at him in Bend, Far, Winchester, and Man from Laramie: in Bend has been beaten up and is hanging by a thread so believably and with such boiling hatred he looks like somebody displaced from Dachau, in Far he is shot off a raft with such violence, it looks so convincing that you wince, and of course when he is dragged through the fire in Man, well you find yourself looking for the burn marks.',\n 'What an actor.',\n 'Not to mention the moment in Winchester when he is beaten up early in the hotel room, also as well as anybody ever did it.',\n \"But that was Mann's territory: look at Gary Cooper fighting with Jack Lord in Man of the West.\",\n 'As painful as any fight scene ever recorded.',\n 'Cooper while not being quite as convincing as Stewart, nevertheless is somehow his equal in looking exhausted at the end of the fight.',\n 'In short, nobody but nobody but nobody ever showed the human being in extremis as well as Mann.',\n 'What a great, great director.',\n 'See every western he ever made.',\n 'They are his real monuments, even if all are scetchy.',\n 'But so what.',\n 'When he gets roaring with his great scenes they are as good as anybody, including Ford.',\n 'And his six westerns as an ensemble are the best ever done by anyone, period.',\n 'Thanks, Anthony.',\n 'Mann photographs the Alberta Rocky Mountains in a superb fashion, and Jimmy Stewart and Walter Brennan give enjoyable performances as they always seem to do.',\n 'But come on Hollywood - a Mountie telling the people of Dawson City, Yukon to elect themselves a marshal (yes a marshal!)',\n 'and to enforce the law themselves, then gunfighters battling it out on the streets for control of the town?',\n 'Nothing even remotely resembling that happened on the Canadian side of the border during the Klondike gold rush.',\n 'Mr. Mann and company appear to have mistaken Dawson City for Deadwood, the Canadian North for the American Wild West.',\n 'Canadian viewers be prepared for a Reefer Madness type of enjoyable howl with this ludicrous plot, or, to shake your head in disgust.',\n 'This is an action Western.',\n 'James Steart leads an all star cast in the scenic Northwest, which is filmed in great splendor.',\n 'The scenery and costumes are great.',\n 'There is action and adventure.',\n 'Stewart plays a wealthy cattleman who runs afoul of a crooked government in the old Nothwest.',\n 'The main drawback is the stereotypical cynic that Hollywood has always made into a hero.',\n 'Even when this movie was made, the cynic was the stereotypical hero, and the one Stewart portrays really has few saving graces.',\n 'He is kind to his two partners, and that does give him an extra dimension of credibility and likability.',\n 'However, he is so piggish to everyone else, it is hard to really care for him, or to accept him.',\n 'He is much like the one dimensional spaghetti Western characters (cut not that bad).',\n 'Still, the minor characters are quite enjoyable.',\n 'Walter Brennan, Royal Dano, Harry Morgan, and others make this worth watching.',\n 'This is the worst sequel on the face of the world of movies.',\n \"Once again it doesn't make since.\",\n 'The killer still kills for fun.',\n 'But this time he is killing people that are making a movie about what happened in the first movie.',\n 'Which means that it is the stupidest movie ever.',\n \"Don't watch this.\",\n \"If you value the one precious hour during this movie then don't watch it.\",\n \"You'll want to ask the director and the person beside you what made him make it.\",\n \"Because it just doesn't combine the original makes of horror, action, and crime.\",\n \"Don't let your children watch this.\",\n 'Teenager, young child or young adult, this movie has that sorta impact upon people.',\n 'Ah, Channel 5 of local Mexican t.v.',\n \"Everyday, at 2:00 a.m. they air Horror movies from the 70's to early 2000's.\",\n 'It was \"Return To Cabin By The Lake\" the movie that aired yesterday.',\n 'I regret for watching it.',\n 'The original \"Cabin By The Lake\" was a regularly popular low budgeter and it was good accepted.',\n 'The problem is that this sequel is horrible, not even unintentionally funny and tries to imitate the original.',\n 'Ugh.',\n 'The plot is really stupid in all the sense of the word.',\n \"The movie at some points looks like a soap-opera because of it's absurd dialogs, cinematography, and direction.\",\n 'My advice is : avoid this one at all costs.',\n \"It's a movie that it shouldn't be watched by anyone.\",\n 'Not even for lovers of mediocre film-making.',\n 'You have been warned.',\n 'Preposterous sequel stretches credibility to a great degree as diabolical sociopath Stanley Kaldwell returns this time infiltrating the movie production of the novel he wrote for the garden drownings, assuming the identity of a second unit director he murdered.',\n 'Film pokes gleeful fun at Hollywood, with a tongue-in-cheek script taking shots at tyrannical directors who sleep with their actresses(..looking for a way up the ladder)and dislike anyone challenging them for complete spotlight.',\n \"Brian Krause, who I thought was dreadful, overacting to the point where the satire felt incredibly forced, portrays the loud, temperamental director who doesn't like the fact that his second unit director and screenplay writer, Alison(..played by Dahlia Salem)seem to be taking over the production.\",\n 'Andrew Moxham is Paul Parsons, who is the brother of a victim from the first film.',\n \"The film's dark humor this time takes the idea of a serial killer actually operating as director of a movie set and exploits it for all it's worth.\",\n 'Nelson again ably slides back into his psycho role without any difficulty, with Stanley as clever as ever, using his brains to commandeer a film production, killing whoever he has to in order to maintain full control of his work, letting no one stand in his way..that is until Alison realizes who Stanley really is.',\n 'Alison is the type of ambitious writer who wants to capture the essence of her subject..what motivated Stanley to kill, why would he do such a thing, and what led such a man down this dark path?',\n 'The humor of Alison actually working with that very man is also part of the satire at the heart of this dark comedy thriller.',\n \"Of course, you get the inevitable showdown between Alison and Stanley, with a really ridiculous, unbelievable conclusion regarding the killer's fate(..quite a hard pill to swallow).\",\n 'Unlike the first film, which was photographed with sophisticated polish, director Po-Chih Leong uses unnecessary techniques which are not needed(..such as shooting an all kinds of weird angles, slow-motion in a sepia color, and several instances which are captured on video)and rather annoy instead of impress.',\n \"This sequel, to me, just wasn't on target as much as the original, with a lot of the humor less effective and more obvious.\",\n 'Return to Cabin by the Lake just.... was lacking.',\n 'It must have had a very low budget because a fair amount of the movie must have been filmed with a regular video camera.',\n \"So, within the same scene - you'll have some movie-quality camera shots AND simple video camera shots.\",\n 'It makes for a very odd blend!',\n 'I think they should have found SOME way to not do the \"home video\" type effect!',\n \"I think it's worthwhile to see it IF you have seen the original CBTL because then you can compare and see the differences.\",\n \"But if you haven't seen the original CBTL.... you'll never want to see it if you see this one first!\",\n 'It will probably seem way too cheesy and turn you off from even caring about the original one.',\n \"This movie was made-for-TV, so taking that into account, I'm not going to rip into it as hard as I would a feature film.\",\n 'The script is sub-par, but it does succeed in being mildly humorous in spots, whether it means to be or not.',\n 'The acting is mostly over-the-top, but that is true for many lower-budget movies.',\n 'The aspect of this movie that I really hated, though, was that 90-95% of it is shot on film, but in random places, there will be 5-10 seconds where the footage is shot on video.',\n \"You can tell because there is less contrast, the colors are less vivid, and the footage is clearly 30 frames per second instead of film's 24 frames per second.\",\n \"I'm not sure if maybe these scenes had to be shot later and at that time they didn't have the money to shoot on film (I assume this is why, anyway), but it is disorienting and really makes the film look shoddier than it had to look.\",\n \"Anyway, I've definitely seen worse movies, but I definitely wouldn't say that I enjoyed this movie and I can't recommend that anyone see it.\",\n 'IF you are planning to see this movie, please reconsider.',\n \"I don't usually post my comments about something I've seen on television, but this one was such a waste of my life that I needed to do something productive to get that bad taste out of my mouth.\",\n 'Critiquing this movie would take far too long as there are so many things wrong with it.',\n 'I will just simply say, please do not ever see this movie.',\n 'It was a complete waste of my time and it WILL be a waste of yours.',\n 'Anyone that wrote a positive review of this movie is one of two things; utterly inept, or working for the company that produced it.',\n 'Again, I guarantee that you will indeed regret seeing this movie!',\n '  I saw this on the Sci-Fi channel.',\n 'It came on right after the first one.',\n 'For some reason this movie kept me interested.',\n \"I don't know why, stop asking.\",\n '---SPOILERS--- Okay...',\n 'It was cheesy how this guy got involved with the making of the movie.',\n 'In the first movie, he had a \"reason\" to kill people, but in this sequal, half of the killings/attempted killings were basicly for no reason.',\n 'Stanley killed the director due to creative differences, he captured the co-writer due to creative differences, but what was the deal with trying to kill off the cast?',\n 'No cast, no movie.',\n 'He wanted it to \"look real when they died\"?',\n 'If this was supposed to be such a high budget movie, use the special effects, MAN.',\n 'Of course like the first one, the captured girl gets away, and Stanley ends up getting messed up, and dissapears.',\n 'Woooooow (sarcasm).',\n 'This movie HAD potential.',\n 'And the saddest thing of all... the really sad part...',\n 'I would watch a \"Cabin by the Lake 3\".',\n \"Only because I like Judd Nelson, and he's the only good part about this sequal.\",\n 'I watched Cabin by the Lake this afternoon on USA.',\n 'Considering this movie was made for TV is was interesting enough to watch the sequel.',\n 'So, I tune in for the airing this evening and was extremely disappointed.',\n \"I knew I wouldn't like the movie, but I was not expecting to be perplexed by the use of DV (digital video).\",\n \"The movie would have been tolerable if it wasn't for these juxtaposed digital shots that seemed to come from nowhere.\",\n 'I expected the plot line to be tied in with these shots, but there seemed to be no logical explanation.',\n '(WARNING: THE FOLLOWING MAYBE A SPOILER!!!!)',\n 'The open ending in Cabin by the Lake was acceptable, but the open ending on the sequel is ridiculous.',\n \"I can only foresee Return of Return to The Cabin by the Lake being watch able is if the movie was shown up against nothing, but infomercials at 4 o'clock in the morning.\",\n \"*Possible Spoiler*  'Return to Cabin by the Lake' is a useless movie.\",\n \"The acting was not good and the plot wasn't even remotely interesting.\",\n \"'Cabin by the Lake' is a good TV movie.\",\n 'The sequel was not.',\n 'Judd Nelson was very good in the first film and put a whole lot more into his character than in this.',\n \"It seemed as if HE wasn't even interested in doing the sequel.\",\n 'His acting was good but it could have been better.',\n \"I really don't want to comment on the rest of the cast because in my opinion, they're not even worth mentioning.\",\n \"But I'll do it.\",\n \"The character of Alison isn't even hardly shown in the first part of the film.\",\n \"All of a sudden she's the center of attention next to Stanley Caldwell.\",\n \"The role didn't make sense and it should have been thought out a little better.\",\n 'Dahlia Salem was absolutely terrible.',\n 'Her acting was way below decent and the casting people should have looked for somebody else, anybody else.',\n 'The director, Mike, was a confusing character.',\n \"He seemed to have a purpose for being there but it didn't seem like his death was necessary.\",\n \"The acting for this role was good, nothing great but better than Salem's.\",\n 'The plot was real lousy if you think about it.',\n \"Stanley, who is presumed dead, makes his way onto the set of 'Cabin by the Lake', the movie based on his script.\",\n 'He stumbles upon the director and in a short time, the director is dead and Stanley is running the show.',\n 'Yeah, out of nowhere the crew is just going to let this stranger come into the picture and finish the film not knowing anything about him.',\n \"There's some killings, not a whole lot, and the one's that are shown are ridiculous.\",\n 'One of the actresses on the set gets electrocuted while filming a scene.',\n 'Another character gets chewed up by a motorboat.',\n 'And one gets tangled up in a plant before drowning.',\n 'These writers must have been hard up for excitement.',\n 'I just have to say that I was not impressed with the filming of the movie.',\n 'The way that it kept changing from looking low budget back to normal started to become irritating very fast.',\n 'Also, the new cabin by the lake was poorly created.',\n \"We aren't shown it but only in a few scenes, and the whole thing with the chain in the basement was useless.\",\n \"It worked in the first film only because we were shown the room a lot more, but it didn't work in this one.\",\n 'There were too many characters in this sequel.',\n 'All of them except for a few had no reason to be there.',\n \"The acting of what little is showed was really bad and...they just didn't have a purpose in this movie.\",\n \"All in all, 'Return to Cabin by the Lake' is a sequel picking up from where the first left off.\",\n \"'Cabin by the Lake' I can take but this was just not impressive.\",\n 'Judd Nelson should have avoided this one and so should you.',\n \"It's nothing like the first and it went entirely too slow.\",\n 'Nothing happened in the first hour and it continued to drag on for the second.',\n 'Not to mention that the writing was horrible.',\n 'Put this on only if you need some help getting to sleep.',\n 'So, we see that Stanley defies death and is still alive and well.',\n 'By the way he talks, it sounds like there could be a possible third installment to a movie good just by itself.',\n 'Quit throwing in sequels and we may be alright!',\n '(Did the film makers not realize that they showed us how they filmed the lake scenes from the first one?',\n 'They were all done in a tank.',\n 'Never, never reveal the secrets of filming.)',\n 'A decent sequel, but does not pack the punch of the original.',\n 'A murderous screenwriter(Judd Nelson)assumes new identities in order to direct his own novel CABIN BY THE LAKE.',\n 'Still ruthless killing, but movie seems very tongue-in-cheek.',\n 'Any humor is not of the funny kind.',\n 'Total project seems to have the quality of a quickie and at times Nelson is way over the top.',\n 'This movie is about a script being rewritten before going to the screen...this should have happened to this script.',\n 'Return to Cabin by the Lake does not, in any way, stand up to the original.',\n 'With only one main character (Stanley) returning for the sequal, the film is not even worth the 2 hours of your time.',\n 'I am a huge fan of the first film, the story line and acting was really good, but this is one movie that I will never again watch.',\n 'It is basically equal to what the sequals to Urban Legends and Blair Witch were like, but with much worse acting.',\n \"I've personally seen better acting in soap operas, it is so pitiful that you just have to laugh.\",\n 'I, in no way, recommend this movie to anyone, watching it will just detract from the first.',\n 'I thought Hedy Burress (who managed to escape from the watery grave of part one) was going to be in part 2 Guess not.',\n 'I just think they should of killed her off like in Friday The 13th Part 2 (you know what I mean).',\n 'This movie like Scream 3, and Urban Legend 2 followed movies within a movie.',\n 'This was PURE CRAP!',\n 'The whole Movie within a Movie crap.',\n 'BAD STAY AWAY!',\n \"Viewers gushing over everything including the title sequence (now THAT is funny) would have us believe this is some sort of cinematic miracle, but, trust me folks, this is one of the most embarrassingly bad films you could ever see, and if you're not laughing at it five minutes in, I'd say you've lost your sense of humor.\",\n \"David Niven plays a doomed and bravado-besotted RAF pilot who somehow thinks it appropriate to engage an impressionable (female) air traffic controller in an emotional conversation about love, just as he's plunging to his certain and fiery death.\",\n \"(Isn't it romantic...) Of course, he's spared by a quirk of metaphysical chance, and washes up on the beach, just as this same air traffic controller is riding by on her bicycle.\",\n '(They immediately clinch).',\n \"Looking past the bizarre homo-erotic subtexts, (so over the top you really need to refer to them as supertexts, from a naked boy sitting bare-butted in the sand playing the movie's twilight-zone-esquire theme on his little flute, to a celestial courier so campy/queen-y his makeup is caked on more thoroughly than the ladies'), the most bizarre aspects of the movie are how it weaves such bad caricatures of national and racial stereotypes into a convoluted attempt to argue some kind of point about the universal nature and power of love.\",\n \"We get it--fly boys like girls in skirts and heels, and girls like 'em back, and, apparently, all you have to do is cry a little to make it noble enough for your movie to get 10 stars on IMDb...  As for the quality of the production, the continuity/editing is poor enough to induce cringing, and the lighting is, perhaps, even worse than that, but you hardly have time to notice because the script is so bad.\",\n \"There are games played with Technicolor, (whatever passes for heaven is in black and white if you can figure out the sense in that), and foreshadowing, (so funny my fellow audience member who usually like movies like this actually cheered and laughed when then the doc's motorcycle finally ended up in a fiery wreck), and freeze-motion, (which is funniest of all because the female lead is so poor at standing still you know the stage hands were guffawing off camera).\",\n \"The best shots are the early ones on the beach, but, after that, it's all downhill.\",\n \"The (moving like an escalator is moving) staircase is hardly the Odessa Steps, to say the least, and I'd really caution anyone from feeling like they'd have to see this lame attempt at movie-making on their account.\",\n \"The movie overall is bad enough to be funny, and that's about the best thing I can say for it.\",\n 'I saw this movie recently because a friend brought it with him from NYC.',\n 'After 30 minutes, I said to him,\" You\\'ve got to be kidding.',\n 'Is this some sort of joke?\"',\n 'He thought it was good.',\n 'I told him that I thought it was probably one of the silliest movies ever made.',\n '\"What was it supposed to be?\"',\n 'I asked.',\n '\"A propaganda movie made for children?\"',\n 'The plot is stupid.',\n 'The acting is the worst ever for most of the principals and frankly people who look at this sort of tripe and think it has anything to do with life, love or even afterlife, of which it offers an incredibly idiotic view...need some psychiatric help.',\n \"Please, if someone tries to get you to stick this in your DVD or Video player, consider it like you would a virus introduced into your computer...it won't destroy your player but it will destroy your evening.\",\n \"If they had made Razzies in the '40s, this would have won in every category.\",\n '(PS.',\n 'It also goes under the dubious sobriquet of \"Stairway to Heaven.\")',\n 'Despite a decent first season this series never came close to realizing its potential.',\n 'Set as a prequel to the original \"Star Trek\" series it was doomed almost from the start by an executive producer, Rick Berman, who felt compelled to artificially limit and constrict the definition of what a \"Star Trek\" series could be (which made this futuristic show increasingly anachronistic from a dramatic standpoint).',\n \"The actual show-runner, Brannon Braga, didn't help matters by his uninspired and tired rehashing of previous Trek episodes and careless disregard of the franchise's internal mythology (it was painfully obvious early on that he was in it only for the paycheck).\",\n \"Never have I seen a series' that so consistently did a disservice to a cast of talented actors (Jolene Blaylock excepted)last so long.\",\n 'It is as if this entire series was produced in bubble existing outside the contemporary television landscape where the audience (even a Trekker audience) is more demanding and sophisticated in their dramatic wants and desires.',\n 'Unfortunately it appears as if Berman and Braga have succeeded in convincing the higher ups at Paramount that \"Enterprise\" suffered from \"franchise fatigue\" and that its core audience was did not walk away but was driven off.',\n 'Produce a quality offering that lives up to the high ideals and standards of its predecessors and they (the audience) will come.',\n 'Simply put, In a TeeVee universe where we are given shows like \"Battlestar: Galactica\" and \"The Shield\" the powers-that-be must give the viewing public a \"Star Trek\" that measures up and is dramatically competitive.',\n 'It is just that straightforward and easy.',\n 'Anybody who has ever been a fan of the original series, or even has a clue about the storyline should be embarrassed by this series.',\n 'The Borg does not come around until Q brings the Enterprise to the Gamma sector, the Klingons are NEVER seen until Kirk encounters them, the NCC-1701 was the FIRST ship to carry the Enterprise name....need I go on?',\n \"Berman and Pilliar have made a mockery of Gene Roddenberry's creation.\",\n 'After he died, they only saw $$$$ and just went their own way.',\n 'No wonder Majel Barrett was in every single episode of star trek until this series.',\n \"I don't blame her for not being involved with this mess.\",\n 'Poor Bakula.',\n \"He's a great actor, as are the entire cast.\",\n 'I like them all, but the storyline is tragic and ignores all of the precedents set by the original series.',\n 'Just check the ratings.',\n 'I think more people watched Deep Space 9 (which was untimely canceled).',\n 'Okay first of all, I didn\\'t sit down to watch the premier of a \"Star Trek\" Series to see a cowboy flying around in space.',\n 'this is how a normal Enterprise episode works  1 Archer finds a nebula or something aloung the lines of that and wants to take a closer look but it might destroy the ship.',\n \"2 he sends a shuttle into the nebula and and the shuttle get damaged...  in all of the episodes I have seen, all of the problems are happening because of Archer's stupid mistakes.\",\n \"Oh and did you see the preview of one episode showing Archer and T'pol kissing?!?!?!?!?!?!?\",\n 'I was planning to watch that episode but after that I totally gave up on Enterprise and turned to TV right off.',\n 'Come on!!!!',\n 'This is star trek!!!!!!!!!!!!!!!!!!!!',\n 'Also what was with the banana slug??',\n 'In one episode, Hoshi had a banana slug but had to leave it behind for some stupid reason.',\n 'Okay fine, little dumb to bring you pet slug in space but whatever.',\n 'Okay that was what I thought until they left it on a desert planet!!!!!',\n 'A BANANA SLUG CANNOT LEAVE IN A DESERT!!!!!!!!!!!!',\n \"How dumb are these writers  Any ways, just saying if Enterprise is on DON'T WATCH IT!!!!\",\n '!',\n \"While it's early to say how the series will evolve, I can say that the pilot was less than I thought it would be.\",\n 'There is still potential for the series, however.',\n 'Of course when I first saw Voyager I thought it had potential, too - but was sorely disappointed.',\n \"My gut tells me Enterprise won't be as bad as Voyager, however.\",\n 'As for the impressions of the pilot...',\n 'The pilot had some good ideas and good themes.',\n 'I liked the introduction.',\n \"The show's opening credits were interesting, with the progress of exploration and a fitting theme song.\",\n 'Scott Bakula is excellent in the role of captain.',\n 'Where it fell short for me was largely that the story lacked the \"feel\" of setting out on a grand adventure.',\n 'The plot of the episode itself was more a \"generic\" Trek story with the themes of \"exploration\" and \"first step towards space\" merely subplot and subtext.',\n 'Were you to edit out the references to this being the first deep space mission, the plot would be hard to differentiate between the eras of Enterprise, TOS or TNG.',\n \"The central plot didn't reflect or do justice to the grand theme of the series.\",\n 'The plot of launching the first mission would have been grand enough without the \"action\".',\n 'Instead of isolated references to the newness of exploration, they could have been the story.',\n 'Get a little more nostalgic and philosophical about it (oh, for a TV show that once again would make us THINK).',\n 'Make us feel the excitement of \"the wind\" and being on \"the sea\" instead of distracting us with a rescue and a plethora of gunplay.',\n 'There was WAY too much gunplay.',\n 'We had the feeling more that humans were the \"freshmen\" in an established school.',\n 'New kids on the block, as opposed to venturing into a largely unknown universe.',\n 'Sadly, the Klingons landed on our doorstep instead of us finding them.',\n 'That meeting could have been far more historic and far more sociological.',\n 'Just how DO two such different societies interact?',\n \"Don't just hint about it, SHOW it!\",\n \"I had to think of it more as `Trek with an akward crew and limited technology' as opposed to `the first brave steps into the unknown'.\",\n 'I wanted to see something newer and fresher.',\n \"The series promises to have a new concept but so far I haven't seen this new, great concept.\",\n 'I will conclude with reiterating the sentiment that the series has potential.',\n 'There are some interesting characters.',\n 'Bakula is wonderful.',\n 'Blalock has potential.',\n 'The overall theme is the most interesting since we first saw Kirk in a world before Apollo 11.',\n 'If only future episodes can do justice to this grand and wonderful theme, we will have a show which will create new legends.',\n 'You shoot an arrow into the air... Good luck Capt.',\n 'Archer.',\n 'To the producers: TAKE MORE RISKS AND MAKE US *THINK*!',\n ':-)',\n \"I'm not a huge Star Trek fan, but I was looking forward to this.\",\n 'I was intrigued by the pre-hype descriptions of the Enterprise, its cramped-submarine styling and rough-edged technology compared to the Treks we are used to.',\n \"I didn't see anything all that interesting in this pilot.\",\n 'I found the plot to be convoluted and confusing.',\n \"I will admit that I did like some of the character development - the depictions of the humans as an 'adolescent' species ready to outgrow their britches was entertaining.\",\n 'And that Vulcan babe had one hell of an incredible rack.',\n \"But I don't think I'm going to get hooked on this series.\",\n '3/10',\n 'The earlier part of the film was rather enjoyable but towards the end it became trite.',\n 'Although Turturro is an actor I generally like, his Luzhin often resembled a bad Rain Man impression and the portrayal of the genius as a semi-autistic man was annoying.',\n 'Overall it seems as if this film is trying to hard and ends up looking pompous in spite of mostly fine performances.',\n 'a movie that attempts to be far smarter than its makers are capable of producing.',\n 'the movie twists and turns through miriad plot \"surprises\" at a desperate attempt to kep the audience guessing, offcourse puncturing the \"plot\" with steamy scenes they thought would help it along.',\n 'james belushi is involved in this pseudo-intellectual attempt and just sleep walks through the movie.',\n 'the same applies for the other \"actors\".',\n 'the plot is quite silly and tacky.',\n 'whih in itelf is not such a crime, but towards the end, the tremendous plot-twists get very tiresome and boring.',\n 'however, the movie does manage to generate some interest in the middle.',\n \"in all worth a lazy watch on a really boring day, but don't fret if you miss this one.\",\n 'a rather lame 4!',\n \"If you can imagine Mickey Mouse as a New York street pimp, or John Wayne as a Communist spy, then you might believe Pat Boone as a juvenile delinquent on his uncle's farm in Kentucky and you could conceivably enjoy this movie.\",\n \"This film is so stupid that it isn't even campy for a mid 1950s sexless love story.\",\n 'And the problem is that Hollywood made such a big deal about Pat Boone\\'s refusal to kiss a woman not his wife on screen before its release that the audience knows he won\\'t kiss Shirley Jones so you cannot build any anticipation for the \"screen consummation\" of their love.',\n \"It's sort of like watching a western in which the cowboys don't have guns.\",\n 'The story is pointless.',\n 'Even the title song is sung with pained enthusiasm.',\n 'April Love belongs in the worst film bargain bin along with Ishtar and Plan 9 from Outer Space.',\n 'I really wanted to like this western, being a fan of the genre and a fan of \"Buffalo Bill,\" \"Wild Bill Hickok,\" and \"Calamity Jane,\" all of whom are in this story!',\n 'Add to the mix Gary Cooper as the lead actor, and it sounded great.',\n \"The trouble was.....it wasn't.\",\n 'I found myself looking at my watch just 40 minutes into this, being bored to death.',\n 'Jean Arthur\\'s character was somewhat annoying and James Ellison just did not look like nor act like \"Buffalo Bill.\"',\n \"Cooper wasn't at his best, either, sounding too wooden.\",\n 'This was several years before he hit his prime as an actor.',\n 'In a nutshell, his western shot blanks.',\n \"Head up the pass and watch another oater because most of 'em were far better than this one.\",\n 'I have always admired Susan Sarandon for her integrity and honesty in her private life as well as her talents as an actor.',\n 'I therefor found it strange that she would appear in a film that so distorted that facts.',\n \"Her character's rescue from the South Pole was done by a Canadian charter company from Edmonton, Alberta flying a Canadian designed and built Twin Otter aircraft.\",\n 'The trip had been turned down by the US Airforce, Navy and Coast Guard as beyond their capabilities.',\n 'The same company staged a similar rescue a few years later to bring out a man from the South Pole base.',\n 'I feel that the film fairly represented a very gripping subject and documented a very courageous woman facing a frightening task.',\n 'I fail to see why the producers would find it necessary ignore the bravery of the rescue pilots and show the rescue plane as a USAF Hercules.',\n 'Warning Spoilers following.',\n 'Superb recreation of the base in Antarctica where the real events of the film took place.',\n 'Other than that, libelous!, scandalous!',\n 'Filmed in Canada; presumably by a largely Canadian crew and cast.',\n 'I caught the last half of this film recently on Global television here in Canada.',\n 'Nothing much to say other than how thoroughly appalled I was at what a blatant piece of American historical revisionist propaganda it is; and starring Susan Sarandon of all people!',\n 'I can only assume that Canadian born director Roger Spottiswoode was coerced to make the USAF the heroes of the film when in fact the real rescuers where a small private airline based in Calgary; Kenn Borek Air.',\n 'OK first of all the video looks like it was filmed in the 80s I was shocked to find out it was released in 2001.',\n 'Secondly the plot was all over the place, right off the bat the story is confusing.',\n \"Had there been some brief prologue or introduction the story would've been better.\",\n 'Also I appreciate fantasy but this film was too much.',\n 'It was bizarre and badly filmed.',\n 'The scenes did not flow smoothly and the characters were odd.',\n 'It was hard to follow and maybe it was the translation but it was even hard to understand.',\n \"I love Chinese epic films but if you're looking for a Chinese epic fantasy film i would recommend the Promise (visually stunning, the plot is interesting and good character development) not this film.\",\n 'Beware you will be disappointed.',\n \"Zu Warriors most definitely should've been an animated series because as a movie it's like watching an old anime on acid.The movie just starts out of nowhere and people just fly around fighting with metal wings and other stupid weapons until this princess sacrifices herself for her lover on a cloud or something.Whether this princess is a god or an angel is beyond me but soon enough this flying wind bad guy comes in and kills her while the guy with the razor wings fights some other mystical God /Demon/Wizard thing.The plot line is either not there or extremely hard to follow you need to be insanely intelligent to get this movie.The plot soon follows this Chinese mortal who is called upon by this god to fight the evil flying,princess killing bad guy and soon we have a very badly choreographed Uwe Boll like fight scene complete with terrible martial arts on a mountain or something.Even the visuals are weird some might say they are stunning and colorful but i'm going to say they are blurry and acid trip like (yes that's a word!\",\n \").I watched it both dubbed and with subtitles and both were equally bad and hard to understand....who am i kidding i didn't understand it at all.It felt like i was watching episode 30 of some 1980's anime and completely missed how the story began or like i started reading a comic series of 5 at number 4 because i had no clue how this thing started where it was going or how it would end i was lost the entire time.I can honestly say this was one of the worst film experiences ever it was like watching Inu-Yasha at episode 134 drunk...yeah that's right you don't know what the hell is going on.Don't waste your brain trying to figure this out.\",\n \"This is not so much film as big budget children's television.\",\n 'As far as I can tell, the villain is a giant swarm of chocolate covered espresso beans.',\n \"This theory seems to be verified by the fact that the subtitles refer to it as 'Insomnia'.\",\n 'When it\\'s first mentioned that a civilization had been wiped out by insomnia, I thought \"Wow!',\n 'A nihilistic martial arts film!\"',\n 'but no such luck.',\n \"Although you have to consider it experimental cinema when the villain is strangled by an old man's long, white eyebrows.\",\n 'Zu Warriors makes exactly the same amount of sense whether the subtitles are on or off.',\n \"That's not a good sign.\",\n 'I found the special effects to be somewhere between Ray Harryhausen and Xena: Warrior Princess.',\n 'Primitive.',\n 'Watched this on DVD in original language with English subs.',\n \"Either the subtitling was very poor or the actual dialog doesn't make much of story and give any character development.\",\n \"There are quite a few HK stars in this but the movie doesn't need their presence to make it better or worse.\",\n \"It's just bad.\",\n 'The bright and colorful scenes done in CG are attractive for the sheer colors and brilliance but it can get overwhelming before long.',\n \"If anything this makes me think of a child's movie with its nonstop barrage of cg, fight scenes, and crap plot.\",\n \"I'm certain I grasped what took place in the film but the whole delivery of the story was rather lousy.\",\n '\"Spielberg loves the smell of sentiment in the morning.',\n 'But sentiment at the expense of narrative honesty?',\n 'Nobody should love that.\"',\n '- Lucius Shepard  \"The Color Purple\" takes place in the Deep South during the early 1900s, and tells the story of Celie and Nettie, two African American sisters.',\n 'The film opens with the girls playing in a field of purple flowers, an idyllic haven which is promptly shattered by the appearance of their stepfather.',\n 'This motif \\x96 innocence interrupted by men \\x96 permeates the entire film.',\n 'The film then launches into a series of short sequences.',\n 'Celie is revealed to have been twice impregnated by her stepfather, gives birth in a dirty barn, has her newborn child taken away and is forced to marry a local widow named Albert Johnson, a violent oaf who rapes her repeatedly, forcing her to cook, clean and look after his children.',\n 'All these horrific scenes are given little screen time, and are instead surrounded by moments of pixie-dust cinematography, a meddlesome symphonic score, incongruous comedy and overly exuberant camera work.',\n 'The cumulative effect is like the merging of a Disney cartoon and a rape movie, a jarring aesthetic which caused Stanley Kubrick to remark that \"The Color Purple\" made him so nauseated that he had to turn it off after ten minutes.',\n 'Ten minutes?',\n 'He lasted a long time.',\n 'The film is often said to deal which \"racism\", \"sexism\" and \"black culture\", but this is not true.',\n 'Alice Walker, the author of the novel upon which the film is based, claims to be a bisexual but is actually a closet lesbian.',\n 'Her book is a lesbian fantasy, a story of female liberation and self-discovery, which paints men as violent brutes who stymie women.',\n 'For Walker, the only way out of this maze is for women to bond together in a kind of lesbian utopia, black sisterhood and female independence celebrated.',\n \"Spielberg's film, however, re-frames Walker's story through the lens of comforting American mythologies.\",\n 'This is a film in which the salvific power of Christianity overcomes the natural cruelty of men.',\n 'A film in which Albert finds himself in various ridiculous situations, moments of misplaced comedy inserted to make him look like a bumbling fool.',\n 'A film in which all the characters are derived from racist minstrel shows, the cast comprised of lecherous men (always beaming with devilish smiles and toothy grins), stereotypical fat mammies, jazz bands and gospel choirs.',\n 'This is a film in which black people are naturally childlike, readily and happily accepting their social conditions.',\n 'A film in which black people are over-sexed, carnal sensualists dominated by violent passions.',\n 'A film in which poverty and class issues are entirely invisible (Albert lives in a huge house) and black men are completely inept.',\n 'This is not the Old South, this is the Old South as derived from \"Gone With The Wind\", MGM Muscals, \"Song of the South\", Warner Cartoons, \"Halleluha!\"',\n 'and banned Disney movies.',\n \"In other words, it's the South as seen by a child raised on 50s TV.\",\n \"It's all so cartoonish, so racist in the way it reduces these human beings to one dimensional ethnic stereotypes, that black novelist Ishmael Reed famously likened it to a Nazi conspiracy.\",\n 'Of course, in typical Spielberg fashion the film ends with family bonds being healed.',\n \"This reconciliation was in Walker's novel, but Spielberg goes further by having every character in the story reconcile with their kin.\",\n \"Beyond Walker's hate letter to black men and Spielberg's bizarre caricaturing of black life, we are shown nothing of the black community.\",\n 'We have only the vaguest ideas as to how any of these characters make a living and no insight into how they interact with others in their community.',\n 'Instead, Spielberg\\'s camera jumps about, desperately fighting for our attention (one of Celie\\'s kitchen contraptions seems like it belongs in a \"Home Alone\" movie), every emotion over played, the director never stopping to just observe something or to allow a little bit of life to simply pass by.',\n 'Couple this with Quincy Jones\\' ridiculously \"white\" music, and you have one of the strangest films in cinema history: an angry feminist tract filmed by a white Jew in the style of Disney and Griffith, scored by a black man trying to emulate John Williams.',\n 'Problematic too is the lack of white characters.',\n \"Consider this: the men in this film aren't portrayed as being rough to each other, nor do they dominate women because they are brutalised by a racist society which reduces their manhood.\",\n 'No, they are cruel by nature.',\n 'And the women, whether quietly suffering like Celie or rebellious and tough like her sister, persevere and survive only because the men are too stupid to destroy them.',\n 'A better film would not have focused solely on the oppression of women as it occurs among the oppressed, rather, it would have shown that it is societal abuse which has led to spousal abuse, that enslaved black women are forced to perform the very same tasks as their male counterparts (whilst still fulfilling traditional female roles) and that African American domestic violence occurs largely because of economic factors, women unable to support themselves and their children alone.',\n \"And so there's a hidden ideology at work here.\",\n \"Late in the film one character tells another that since he didn't respect his wife, she wound up getting severely beaten and imprisoned by whites.\",\n 'The implication is that blacks need to return to their African roots to restore their own dignity and that it is their fault that whites unjustly crush them.',\n \"ie- Respect one another in your poor minority community and you won't run afoul of the dominant white culture.\",\n '3/10 - A failure to confront sex and lesbianism, inappropriate musical numbers, countless sequence loaded with extraneous visual pizazz, incongruous comic business, emphatic music cues, and wildly hyped emotionality, all contribute to rendering \"The Color Purple\" worthless.',\n 'You may consider a couple of facts in the discussion to be spoilers.',\n \"I'm sorry, but Spielberg didn't deserve to win any Oscar for this piece, and I think the Academy was right in that vote.\",\n \"(Other Oscars for best actor nominations and such... that I don't know about.\",\n 'But it would be hard to justify, given what they were told to do and what you see in the final product.)',\n 'The way Spielberg directs this is so contrived, so meddlesome.',\n 'While watching this movie a distinction made during a Film as Art course I have taken was screaming at me: \"Sentiment is honest emotion honestly rendered.',\n 'Sentimentality is sugary and unreal, a false view of life.\"',\n 'This is over-the-top sentimentality.',\n 'When in real life to two people ever begin to read out loud in synchronicity, as Celie and Shug Avery do when sitting on the bed going over the letters from Nettie they have found?',\n \"There are examples of this type of faux behavior throughout the film: all the men crowding around Miss Millie's car and then jumping in unison like a flock of birds taking off when she goes to drive away; Harpo falling through the roofs of various buildings he's working on (a cheap slapstick gag); the whole troop of revelers heading from the Jook Joint en masse to the chapel, as if magically entranced by the choir's singing... on and on.\",\n 'Nothing rings true.',\n 'I even wondered if Harpo\\'s name was chosen purposefully because it\\'s his wife Sophia\\'s real name, \"Oprah,\" backwards.',\n 'Spielberg isn\\'t above such \"cuteness.\"',\n \"It's not that Spielberg is incapable of honestly rendered action and emotion.\",\n \"Schindler's List was amazing, deeply touching for me, and I greatly admire Saving Private Ryan too for its realism, even if the story is a bit contrived.\",\n 'This is really terrible.',\n 'The only redeeming feature about this movie is that the next time people ask me what is the worst vampire movie I have ever watched, I would have a suitable reply.',\n 'I think it is filmed on 35 mm so it is already tacky like hell.',\n \"I wouldn't have bothered commenting but I noticed some fanboys (probably connected to the movie) had claimed that this was the best movie since the Matrix.\",\n 'Let me debunk the myths and lies.',\n 'There is nothing good in the movie.',\n 'Everything yells tacky.',\n 'The actress is ugly.',\n 'The fight choreography is the worst I have ever seen.',\n 'The fight scenes are unbelievably amateurish.',\n \"Imagine a girl flailing her arms around in a circle helplessly and delivering weak kicks which wouldn't hurt a kitten.\",\n 'Obviously, the director just pulled people off the street to give them roles in the movie.',\n 'I know the director did not have much budget for the movie but still better movies have been made on smaller budget before.',\n 'Unforgivable.',\n 'Dude, really!!!!',\n 'where have you guys been the past 20 years, this is shocking in all kind of ways, horror ?',\n \"This is a joke, there is nothing wrong with being low budget, but this is a laugh, If you want to look at the classics, Freaks of Tod Browning, the victims of Dracula and Frankenstein, the Undying Monster, Ernest Thesiger, Paul Wegener's The Golem and the passengers of The Ghost Train, you can't compare it, it gives it a bad name, bad acting, bad screenplay etc.\",\n \"Total waist of money and free time, have watched a lot of movies, were as horror is my all time favorite, I really am speechless, have nothing more to say that please don't do the effort to watch something so daft, please understand\",\n 'Well, you know the rest!',\n \"This has to be the worst movie I've seen in a long long time.\",\n 'I can only imagine that Stephanie Beaham had some bills to pay when taking on this role.',\n 'The lead role is played by (to me) a complete unknown and I would imagine disappeared right back into obscurity right after this turkey.',\n \"Bruce Lee led the martial arts charge in the early 70's and since then fight scenes have to be either martial arts based or at least brutal if using street fighting techniques.\",\n \"This movie uses fast cuts to show off the martial arts, however, even this can't disguise the fact that the lady doesn't know how to throw a punch.\",\n 'An average 8 year old boy would take her apart on this showing.',\n \"Sorry, the only mystery on show here is how this didn't win the golden raspberry for its year.\",\n \"I'm in Iraq right now doing a job that gives plenty of time for watching movies.\",\n \"We also have access to plenty of pirated movies, this gem came along with 11 other movies, and this is easily the worst I've seen in a long time.\",\n \"I've seen a few other reviews that claim this movie doesn't take itself too seriously, but really, I think that's a cover up for the fact that its horrible.\",\n \"It's not tongue in cheek, the writers really thought they were improving on the movie Blade.\",\n \"This movie is just one notch above Vampire Assassin, which if you haven't seen, i recommend.\",\n \"At least that movie is so unbelievably bad that you'll laugh harder than you thought possible.\",\n 'This is right at that cusp of no redeeming qualities what so ever.',\n 'from the bad acting, to cliché visual (ie opening credits), to the adobe premier special effects.',\n \"they couldn't even get blanks for the guns, which may have to do with where the movie was filmed, but if you're going to use effects, make them close to accurate.\",\n 'as for the cast, it seems like they just went to a tae bo class and picked up the first not to ugly chick that walked out.',\n \"Once again, like Ron Hall in Vampire Assassin, don't let stunt folk act, they can't.\",\n 'Also, the comment about this being a \"return of old vampire movies\"...no, it\\'s not.',\n 'This is exactly what all new vampire movies are about.',\n \"Buffy the Vampire Slayer, Blade, Underworld, they're all about some super star fighting the vampires.\",\n 'This is the newest vampire genre, with bad blood, fake screams, and cheesy over acting.',\n 'obviously anyone who wrote a good review about this is somehow connected to the movie, or friends of the cast.',\n 'But what do I care, I paid 33 cents for it.',\n \"Anyway, to wrap this up, someone in their first semester of film school decided to make a movie, I give them credit because it's better than I could do.\",\n \"Of course I also know I can't make movies so I don't try.\",\n 'I do know how to watch movies though.',\n \"I work 12 hour nights, 6 days a week, I've seen several thousand in the year I've been out here and this was so bad that half way through i was hoping for a mortar attack.\",\n '\"Valentine\" is another horror movie to add to the stalk and slash movie list (think \"Halloween\", \"Friday the 13th\", \"Scream\", and \"I Know What You Did Last Summer\").',\n 'It certainly isn\\'t as good as those movies that I have listed about, but it\\'s better than most of the ripoffs that came out after the first \"Friday the 13th\" film.',\n 'One of those films was the 1981 Canadian made \"My Bloody Valentine\", which I hated alot.',\n '\"Valentine\" is a better film than that one, but it\\'s not saying much.',\n 'The plot: a nerdy young boy is teased and pranked by a couple of his classmates at the beginning of the film.',\n \"Then the film moves years later when those classmates are all grown up, then they're picked off one-by-one.\",\n 'The killer is presumed to be the young boy now all grown up looking for revenge.',\n 'But is it him?',\n 'Or could it be somebody else?',\n '\"Valentine\" has an attractive cast which includes Denise Richards, David Boreanaz, Marley Shelton, Jessica Capshaw, and Katherine Heigl.',\n \"They do what they can with the material they've got, but a lackluster script doesn't really do them any justice.\",\n 'There are some scary moments throughout, however.',\n '** (out of four)',\n \"There's one line that makes it worth to rent for Angel fans.\",\n 'Everyone else: this is just a very bad horror flick.',\n 'The female characters are typical horror movies females.',\n 'They are wooden, annoying and dumb.',\n 'You are glad when they are killed off.',\n 'Long live the strong female character in a horror movie!',\n '!',\n \"There are so many puns to play on the title of the spectacularly bad Valentine that I don't know where to begin.\",\n 'I will say this though; here is a movie that makes me long for the complexity of the Valentine cards we used to give out in elementary school.',\n 'You know, the ones with Batman exclaiming \"You\\'re a super crime-fighting valentine!\"',\n 'Valentine is a slasher movie without the slightest hint of irony, one of the few horror movies in recent years that ignores the influence of Scream.',\n 'The villain is omniscient and nigh-invulnerable.',\n 'The heroes are easily scared when people run around corners and grab them by the shoulders screaming \"HeyIjustleftmycoatbehind!\"',\n \"The score is more overbearing than Norman Bates' mother.\",\n 'The flimsy plot follows several childhood friends, now grown up and extremely curvaceous.',\n 'Since the film gives them nothing else to do, they stand around and wait until a masked stalker kills them one by one.',\n 'This stalker appears to be former nerd Jeremy Melton, who was constantly rejected by women and beaten by men in high school.',\n \"With Valentine's Day approaching, the women begin receiving scary cards foretelling their doom.\",\n 'Melton seems like the obvious suspect.',\n 'Only problem is, as numerous characters warns, in thirteen years Melton could have changed his appearance to look buff and handsome.',\n 'So (insert terrified gasp here) everyone is a suspect!',\n \"Here's problem one.\",\n 'In order to have any sense of suspense while watching Valentine, you have to accept a reality in which a high school nerd is capable of becoming David Boreanaz.',\n \"Nerds don't turn into Angel when they grown up, they turn into older, balder nerds.\",\n \"He's not a terrible actor, but the script, by no less than four writers, gives him and the rest of the cast nothing to do but scream and make out.\",\n 'Denise Richards (the bustiest actress in Hollywood never to star in Baywatch) is especially exploited; most shamefully in the blatant excuse to get her in a bathing suit just before a crucial suspense scene.',\n \"Note to self: always bring a bathing suit to a Valentine's Day party.\",\n \"Just because it's February doesn't mean you might not feel like taking a little dip.\",\n \"The slasher in Valentine dresses in head-to-toe black with a Cherub's mask.\",\n \"Here's problem number two.\",\n \"The filmmakers clearly thought this would be a disturbing image to have on the head of someone who's whacking people in the face with hot irons.\",\n \"Plain and simple, it's not.\",\n 'Instead, it just made me wonder how a guy with a mask that covers his entire face, including his eyes and ears, can move so stealthily without bumping his shins on chairs or tables.',\n 'Then again, given the things the Cupid Killer does, maybe he can teleport and his eyes are on his hands.',\n 'Not only is the movie bad, it isn\\'t even sure who the killer is; the final \"twist\" is more \"Huh?\"',\n 'than \"Hah!\"',\n \"When you're not scratching your head you're yawning, then groaning, then searching for the nearest exit.\",\n 'Do not watch this movie.',\n \"Even if you're alone on Valentine's Day, find something, ANYTHING, else to do.\",\n \"You'll be glad you did.\",\n 'There is no way to describe how really, really, really bad this movie is.',\n \"It's a shame that I actually sat through this movie, this very tiresome and predictable movie.\",\n \"What's wrong with it?\",\n 'Acting: There is not one performance that is even remotely close to even being sub-par (atleast they are all very pretty).',\n 'Soundtrack (songs): \"If we get Orgy on the soundtrack then everyone will know that they are watching a horror film!',\n '\"; Soundtrack (score): Okay, but anyone with a keyboard can make an okay soundtrack these days.',\n 'Don\\'t even get me started on the \"What the hell?\"',\n 'moments, here are a few: Killer can move at the speed of light--door opens actress turns, no one is there, turns back, there is something sitting in front of her.',\n '; Out of now where The killer shows up with a power drill, a really big one!',\n 'The filmmakers get points for at least plugging it in, but can I really believe that the killer took the time to find the power outlet to plug it in.',\n 'I feel like one of the guards at the beginning of Holy Grail and want to say \"Where\\'d you get the power drill?\".',\n 'I could go on and on about how bad this film is but I only have 1000 words.',\n 'I will give this 2 out of ten stars.',\n 'One star for making me laugh and another star for all the cleavage.',\n 'Seriously, do not waste your time with this one.',\n 'In an attempt to bring back the teen slasher genre that was taken away by spoofs like Scary Movie and Shriek if you know what I did last Friday the 13th, Valentine fails.',\n 'Why did people like Halloween?',\n \"Because it was original, new and went beyond anything that's ever been done.\",\n 'Why did they like Scream?',\n 'Because at least it made sense.',\n 'Valentine is just a stupid slasher-flick that has hardly any gore what so-ever.',\n \"The plot is so similar to Halloween and Urban Legend it's not funny.\",\n \"And the moment the killer comes on screen, you know who it is, it's just sssssssssssooooooooooooo predictable.\",\n 'The teen slasher genre is DEAD Get over it!',\n '0 out of 10',\n \"Firstly, there are some good things about this film, but it's all cliche slasher stuff combined with a teen movie.\",\n \"In the advertising of this movie, that I've seen, a large emphasis was on the fact that Denise Richards is in it, but she's a poor actress, and not as good looking as people try to make her out to be (not that that has anything to do with the movie).\",\n \"And what's with that look she gives everyone?\",\n \"Perhaps it's part of the character, but like I said, the acting...\",\n 'Still, the writing is fine.',\n 'You know who it is all throughout the movie, and you can almost predict what is about to happen, but not in an irritating way.',\n \"I think the book it's based on is probably good, judging by the plot line, but next time I'll read the book to find out rather than watch this.\",\n 'This stalk and slash turkey manages to bring nothing new to an increasingly stale genre.',\n 'A masked killer stalks young, pert girls and slaughters them in a variety of gruesome ways, none of which are particularly inventive.',\n \"It's not scary, it's not clever, and it's not funny.\",\n 'So what was the point of it?',\n 'Valentine is a horrible movie.',\n 'This is what I thought of it:  Acting: Very bad.',\n 'Katherine Heigl can not act.',\n \"The other's weren't much better.\",\n 'Story: The story was okay, but it could have been more developed.',\n 'This movie had the potential to be a great movie, but it failed.',\n 'Music: Yes, some of the music was pretty cool.',\n 'Originality: Not very original.',\n \"The name `Paige Prescott' Recognize Prescott?\",\n \"Bottom Line: Don't see Valentine.\",\n ...]"
     },
     "execution_count": 11,
     "metadata": {},
     "output_type": "execute_result"
    }
   ],
   "source": [
    "test_sents"
   ],
   "metadata": {
    "collapsed": false,
    "ExecuteTime": {
     "end_time": "2024-03-05T11:04:26.615359400Z",
     "start_time": "2024-03-05T11:04:26.555334100Z"
    }
   },
   "id": "104e568964ad662d"
  },
  {
   "cell_type": "code",
   "execution_count": null,
   "outputs": [],
   "source": [
    "aphasic_sents = []\n",
    "normal_sents = []\n",
    "\n",
    "import inflect\n",
    "p = inflect.engine()\n",
    "\n",
    "for sent in test_sents:\n",
    "    # no digits\n",
    "    b = re.findall(\"[0-9]+\", sent)\n",
    "    for i in b:\n",
    "        sent = sent.replace(i, p.number_to_words(i))\n",
    "    \n",
    "    s = preprocess(sent)\n",
    "    aphasic, changed = aphasic_speech(s)\n",
    "    if changed and aphasic !=\".\":       \n",
    "        print(s)\n",
    "        print(aphasic)\n",
    "        print()\n",
    "        normal_sents.append(s)\n",
    "        aphasic_sents.append(aphasic)"
   ],
   "metadata": {
    "collapsed": false
   },
   "id": "7b116c75e017a103"
  },
  {
   "cell_type": "code",
   "execution_count": 41,
   "outputs": [],
   "source": [
    "pd.DataFrame(data={\"modified\": aphasic_sents, \"original\": normal_sents}).to_csv(\"data/synthetic_clan.csv\", sep=\",\", index=False)"
   ],
   "metadata": {
    "collapsed": false,
    "ExecuteTime": {
     "end_time": "2024-03-05T11:21:13.896517600Z",
     "start_time": "2024-03-05T11:21:13.866808300Z"
    }
   },
   "id": "e4ba83ae8965e8c6"
  },
  {
   "cell_type": "markdown",
   "source": [
    "# Post process of aphasic sentences\n",
    "Also adding some \"control\" sentences"
   ],
   "metadata": {
    "collapsed": false
   },
   "id": "9ab67054aaaee979"
  },
  {
   "cell_type": "code",
   "execution_count": 2,
   "outputs": [
    {
     "name": "stdout",
     "output_type": "stream",
     "text": [
      "DatasetDict({\n",
      "    train: Dataset({\n",
      "        features: ['text', 'label'],\n",
      "        num_rows: 25000\n",
      "    })\n",
      "    test: Dataset({\n",
      "        features: ['text', 'label'],\n",
      "        num_rows: 25000\n",
      "    })\n",
      "    unsupervised: Dataset({\n",
      "        features: ['text', 'label'],\n",
      "        num_rows: 50000\n",
      "    })\n",
      "})\n"
     ]
    }
   ],
   "source": [
    "import pandas as pd\n",
    "from datasets import load_dataset\n",
    "\n",
    "# ds = load_dataset('stas/c4-en-10k')\n",
    "ds = load_dataset(\"imdb\")\n",
    "print(ds)"
   ],
   "metadata": {
    "collapsed": false,
    "ExecuteTime": {
     "end_time": "2024-03-05T10:58:24.855222800Z",
     "start_time": "2024-03-05T10:58:15.962462300Z"
    }
   },
   "id": "a232e0b1491df977"
  },
  {
   "cell_type": "code",
   "execution_count": 67,
   "outputs": [],
   "source": [
    "df = pd.read_csv(\"data/synthetic_clan.csv\")"
   ],
   "metadata": {
    "collapsed": false,
    "ExecuteTime": {
     "end_time": "2024-03-05T11:31:45.793487300Z",
     "start_time": "2024-03-05T11:31:45.772104100Z"
    }
   },
   "id": "b979318b075b845f"
  },
  {
   "cell_type": "code",
   "execution_count": 71,
   "outputs": [],
   "source": [
    "sentences = df['modified']"
   ],
   "metadata": {
    "collapsed": false,
    "ExecuteTime": {
     "end_time": "2024-03-05T11:32:12.809858100Z",
     "start_time": "2024-03-05T11:32:12.794860Z"
    }
   },
   "id": "346435140a64874a"
  },
  {
   "cell_type": "code",
   "execution_count": 72,
   "outputs": [
    {
     "data": {
      "text/plain": "0                                            i to.\n1                                        four ten.\n2                            fell deus ex machina.\n3      's which would have its an heart club omer.\n4                                            i do.\n                          ...                     \n472              sandler that the one and redound.\n473                                man, one chick.\n474                   spanglish is, dooleys squat!\n475                                         oh,...\n476                                              !\nName: modified, Length: 477, dtype: object"
     },
     "execution_count": 72,
     "metadata": {},
     "output_type": "execute_result"
    }
   ],
   "source": [
    "sentences"
   ],
   "metadata": {
    "collapsed": false,
    "ExecuteTime": {
     "end_time": "2024-03-05T11:32:13.980673900Z",
     "start_time": "2024-03-05T11:32:13.969308700Z"
    }
   },
   "id": "2995138dc0660fcb"
  },
  {
   "cell_type": "code",
   "execution_count": null,
   "outputs": [],
   "source": [
    "import re\n",
    "import string\n",
    "broca_sents = []\n",
    "\n",
    "for sent in sentences:\n",
    "    if isinstance(sent, str):\n",
    "        if len(sent.rstrip()) >= 1:\n",
    "            # remove trailing 's \n",
    "            sent = re.sub(r\"^'s | 's\", \"\", sent)\n",
    "            # remove trailing .\n",
    "            sent = re.sub(r\"\\.{2,}\", \"\", sent)\n",
    "            # remove trailing , \n",
    "            sent = re.sub(r\"^,+ |,{2,}\", \"\", sent)\n",
    "            # remove trailing ' \n",
    "            sent = re.sub(r\"^'+ +| +'+\", \"\", sent)\n",
    "            # remove ,. \n",
    "            sent = re.sub(r\",\\.\", \".\", sent)\n",
    "            # remove ; \n",
    "            sent = re.sub(r\";\", \"\", sent)\n",
    "            # remove trailing ! and ? \n",
    "            sent = re.sub(r\"(\\!{2,})\", \"!\", sent)\n",
    "            sent = re.sub(r\"^\\!+ +\", \"\", sent)\n",
    "            sent = re.sub(r\"^\\?+ +\", \"\", sent)\n",
    "            sent = re.sub(r\"(\\?{2,})\", \"?\", sent)\n",
    "            \n",
    "            sent = sent.lower()\n",
    "            if len(sent.split()) >= 1 and sent.split()[0] not in string.punctuation:\n",
    "                print(\" \".join(sent.split()))\n",
    "                broca_sents.append(\" \".join(sent.split()))"
   ],
   "metadata": {
    "collapsed": false
   },
   "id": "6ea26a0b735f444c"
  },
  {
   "cell_type": "code",
   "execution_count": null,
   "outputs": [],
   "source": [
    "broca_sents"
   ],
   "metadata": {
    "collapsed": false,
    "ExecuteTime": {
     "start_time": "2024-03-05T10:36:57.264216500Z"
    }
   },
   "id": "6577bcdc8e5cfc7e"
  },
  {
   "cell_type": "code",
   "execution_count": null,
   "outputs": [],
   "source": [
    "# preprocess and post process in same way\n",
    "\n",
    "from nltk.tokenize import sent_tokenize\n",
    "texts = ds[\"train\"][\"text\"]\n",
    "sents = []\n",
    "for text in texts:\n",
    "    text = re.sub(r'\\<.*?\\>', \" \", text)\n",
    "    sentences = sent_tokenize(text)\n",
    "    for sent in sentences:\n",
    "        if isinstance(sent, str):\n",
    "            sent = re.sub(r'\\<.*?\\>', \" \", sent)\n",
    "            if not sent.rstrip().isdigit() and len(sent.rstrip()) >= 1:\n",
    "                # no digits\n",
    "                b = re.findall(\"[0-9]+\", sent)\n",
    "                for i in b:\n",
    "                    sent = sent.replace(i, p.number_to_words(i))\n",
    "                sent = preprocess(sent)\n",
    "                # remove trailing 's \n",
    "                sent = re.sub(r\"^'s | 's\", \"\", sent)\n",
    "                # remove trailing .\n",
    "                sent = re.sub(r\"\\.{2,}\", \"\", sent)\n",
    "                # remove trailing , \n",
    "                sent = re.sub(r\"^,+ |,{2,}\", \"\", sent)\n",
    "                # remove trailing ' \n",
    "                sent = re.sub(r\"^'+ +| +'+\", \"\", sent)\n",
    "                # remove ,. \n",
    "                sent = re.sub(r\",\\.\", \".\", sent)\n",
    "                # remove ; \n",
    "                sent = re.sub(r\";\", \"\", sent)\n",
    "                # remove trailing ! and ? \n",
    "                sent = re.sub(r\"(\\!{2,})\", \"!\", sent)\n",
    "                sent = re.sub(r\"^\\!+ +\", \"\", sent)\n",
    "                sent = re.sub(r\"^\\?+ +\", \"\", sent)\n",
    "                sent = re.sub(r\"(\\?{2,})\", \"?\", sent)\n",
    "                \n",
    "                sent = sent.lower()\n",
    "                if len(sent.split()) >= 1 and sent.split()[0] not in string.punctuation:\n",
    "                    print(\" \".join(sent.split()))\n",
    "                    print()\n",
    "                    sents.append(\" \".join(sent.split()))"
   ],
   "metadata": {
    "collapsed": false
   },
   "id": "e4682d97a579cf7e"
  },
  {
   "cell_type": "code",
   "execution_count": 110,
   "outputs": [],
   "source": [
    "control_sents = sents[4000:4000+len(broca_sents)]"
   ],
   "metadata": {
    "collapsed": false,
    "ExecuteTime": {
     "end_time": "2024-03-05T11:51:32.677300400Z",
     "start_time": "2024-03-05T11:51:32.663781300Z"
    }
   },
   "id": "621e4424aaaa2c50"
  },
  {
   "cell_type": "code",
   "execution_count": null,
   "outputs": [],
   "source": [
    "control_sents"
   ],
   "metadata": {
    "collapsed": false
   },
   "id": "6474f7fe5390e4e4"
  },
  {
   "cell_type": "code",
   "execution_count": 112,
   "outputs": [
    {
     "name": "stdout",
     "output_type": "stream",
     "text": [
      "456 456\n"
     ]
    }
   ],
   "source": [
    "print(len(broca_sents), len(control_sents))"
   ],
   "metadata": {
    "collapsed": false,
    "ExecuteTime": {
     "end_time": "2024-03-05T11:51:42.950033Z",
     "start_time": "2024-03-05T11:51:42.943929100Z"
    }
   },
   "id": "8f614650609a6194"
  },
  {
   "cell_type": "code",
   "execution_count": 113,
   "outputs": [],
   "source": [
    "broca_data = pd.DataFrame(data={\"modified\": broca_sents, \"label\": [1]*len(broca_sents)})\n",
    "control_data = pd.DataFrame(data={\"modified\": control_sents, \"label\": [0]*len(control_sents)})\n",
    "data_full_scenario = pd.concat([broca_data, control_data], ignore_index=True)\n",
    "data_full_scenario = data_full_scenario.sample(frac=1).reset_index(drop=True)\n",
    "data_full_scenario.to_csv(\"data/synthetic_clan_control.csv\", sep=\",\", index=False)"
   ],
   "metadata": {
    "collapsed": false,
    "ExecuteTime": {
     "end_time": "2024-03-05T11:51:45.468480700Z",
     "start_time": "2024-03-05T11:51:45.449389300Z"
    }
   },
   "id": "de47ecaf3bc979de"
  },
  {
   "cell_type": "code",
   "execution_count": 114,
   "outputs": [
    {
     "data": {
      "text/plain": "                                              modified  label\n0    i would only suggest watching it if you got it...      0\n1    the other girls decide to go take a look with ...      0\n2    there was nothing of value in the original mov...      0\n3                                             theatre.      1\n4                                 calls movie mastery.      1\n..                                                 ...    ...\n907  zaphoid ps my theory about star power is the m...      0\n908   note the appearance of russ tamblyn in the film.      0\n909  so i'd only cautiously, reluctantly recommend ...      0\n910  the film stargate is a wonderful guilty pleasu...      0\n911                                  dahlia salem was.      1\n\n[912 rows x 2 columns]",
      "text/html": "<div>\n<style scoped>\n    .dataframe tbody tr th:only-of-type {\n        vertical-align: middle;\n    }\n\n    .dataframe tbody tr th {\n        vertical-align: top;\n    }\n\n    .dataframe thead th {\n        text-align: right;\n    }\n</style>\n<table border=\"1\" class=\"dataframe\">\n  <thead>\n    <tr style=\"text-align: right;\">\n      <th></th>\n      <th>modified</th>\n      <th>label</th>\n    </tr>\n  </thead>\n  <tbody>\n    <tr>\n      <th>0</th>\n      <td>i would only suggest watching it if you got it...</td>\n      <td>0</td>\n    </tr>\n    <tr>\n      <th>1</th>\n      <td>the other girls decide to go take a look with ...</td>\n      <td>0</td>\n    </tr>\n    <tr>\n      <th>2</th>\n      <td>there was nothing of value in the original mov...</td>\n      <td>0</td>\n    </tr>\n    <tr>\n      <th>3</th>\n      <td>theatre.</td>\n      <td>1</td>\n    </tr>\n    <tr>\n      <th>4</th>\n      <td>calls movie mastery.</td>\n      <td>1</td>\n    </tr>\n    <tr>\n      <th>...</th>\n      <td>...</td>\n      <td>...</td>\n    </tr>\n    <tr>\n      <th>907</th>\n      <td>zaphoid ps my theory about star power is the m...</td>\n      <td>0</td>\n    </tr>\n    <tr>\n      <th>908</th>\n      <td>note the appearance of russ tamblyn in the film.</td>\n      <td>0</td>\n    </tr>\n    <tr>\n      <th>909</th>\n      <td>so i'd only cautiously, reluctantly recommend ...</td>\n      <td>0</td>\n    </tr>\n    <tr>\n      <th>910</th>\n      <td>the film stargate is a wonderful guilty pleasu...</td>\n      <td>0</td>\n    </tr>\n    <tr>\n      <th>911</th>\n      <td>dahlia salem was.</td>\n      <td>1</td>\n    </tr>\n  </tbody>\n</table>\n<p>912 rows × 2 columns</p>\n</div>"
     },
     "execution_count": 114,
     "metadata": {},
     "output_type": "execute_result"
    }
   ],
   "source": [
    "data_full_scenario"
   ],
   "metadata": {
    "collapsed": false,
    "ExecuteTime": {
     "end_time": "2024-03-05T11:51:47.664047400Z",
     "start_time": "2024-03-05T11:51:47.653694500Z"
    }
   },
   "id": "e18e6bd624f8eb25"
  }
 ],
 "metadata": {
  "kernelspec": {
   "display_name": "Python 3",
   "language": "python",
   "name": "python3"
  },
  "language_info": {
   "codemirror_mode": {
    "name": "ipython",
    "version": 2
   },
   "file_extension": ".py",
   "mimetype": "text/x-python",
   "name": "python",
   "nbconvert_exporter": "python",
   "pygments_lexer": "ipython2",
   "version": "2.7.6"
  }
 },
 "nbformat": 4,
 "nbformat_minor": 5
}
