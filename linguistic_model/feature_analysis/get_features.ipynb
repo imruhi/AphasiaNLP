{
 "cells": [
  {
   "cell_type": "markdown",
   "source": [
    "# Number of words in a sentence\n",
    "Based on preprocessed data from AphasiaBank for Broca"
   ],
   "metadata": {
    "collapsed": false
   },
   "id": "b56cc1f82cd61bce"
  },
  {
   "cell_type": "code",
   "execution_count": 29,
   "outputs": [],
   "source": [
    "import re\n",
    "\n",
    "import pandas as pd\n",
    "data = pd.read_csv(\"../../preprocessing/data/preprocessed_broca.csv\")\n",
    "data.dropna(inplace=True)"
   ],
   "metadata": {
    "collapsed": false,
    "ExecuteTime": {
     "end_time": "2024-02-29T17:00:20.674029200Z",
     "start_time": "2024-02-29T17:00:20.342340400Z"
    }
   },
   "id": "ac372a6d8d5f42b6"
  },
  {
   "cell_type": "code",
   "execution_count": 30,
   "outputs": [
    {
     "data": {
      "text/plain": "True"
     },
     "execution_count": 30,
     "metadata": {},
     "output_type": "execute_result"
    }
   ],
   "source": [
    "# check if all are broca patients\n",
    "broca_fname = list(pd.read_csv(\"../../preprocessing/data/broca_fname.csv\"))\n",
    "data[\"source_file\"].unique().sort() == broca_fname.sort()"
   ],
   "metadata": {
    "collapsed": false,
    "ExecuteTime": {
     "end_time": "2024-02-29T17:00:20.674557700Z",
     "start_time": "2024-02-29T17:00:20.393147800Z"
    }
   },
   "id": "ba85c3d922c9c31b"
  },
  {
   "cell_type": "code",
   "execution_count": 31,
   "outputs": [],
   "source": [
    "# excluding punctuation, length of strings\n",
    "lens = [len(x.split()) for x in data['preprocessed_text']]"
   ],
   "metadata": {
    "collapsed": false,
    "ExecuteTime": {
     "end_time": "2024-02-29T17:00:20.679316500Z",
     "start_time": "2024-02-29T17:00:20.405535500Z"
    }
   },
   "id": "31d46444480b8252"
  },
  {
   "cell_type": "code",
   "execution_count": 32,
   "outputs": [],
   "source": [
    "df = pd.DataFrame(data={\"length of sentence\": lens})\n",
    "df.to_csv(\"lens.csv\", sep=',',index=False)"
   ],
   "metadata": {
    "collapsed": false,
    "ExecuteTime": {
     "end_time": "2024-02-29T17:00:20.679316500Z",
     "start_time": "2024-02-29T17:00:20.424752900Z"
    }
   },
   "id": "dbb92dcc87c32dc9"
  },
  {
   "cell_type": "code",
   "execution_count": 33,
   "outputs": [
    {
     "name": "stdout",
     "output_type": "stream",
     "text": [
      "[(1, 28.757225433526013), (2, 18.556227009984237), (3, 16.296636889122436), (4, 10.614818707304256), (5, 7.271413557540725), (6, 5.281135049921177), (7, 3.593011035207567), (8, 2.594587493431424), (9, 1.9771413557540725), (10, 1.3728323699421965), (11, 0.8670520231213872), (12, 0.7619548081975828), (13, 0.5714661061481872), (14, 0.3809774040987914), (15, 0.35470310036784025), (16, 0.20362585391487126), (17, 0.1445086705202312), (18, 0.17735155018392013), (19, 0.06568575932737783), (20, 0.0394114555964267), (21, 0.04598003152916448), (22, 0.013137151865475564), (23, 0.01970572779821335), (24, 0.006568575932737782), (26, 0.006568575932737782), (27, 0.013137151865475564), (32, 0.006568575932737782), (47, 0.006568575932737782)]\n"
     ]
    }
   ],
   "source": [
    "from collections import Counter\n",
    "counter = Counter(lens)\n",
    "total_sents = len(lens)\n",
    "for item, count in counter.items():\n",
    "    counter[item] = (counter[item]/total_sents) * 100\n",
    "\n",
    "print(sorted(counter.items()))"
   ],
   "metadata": {
    "collapsed": false,
    "ExecuteTime": {
     "end_time": "2024-02-29T17:00:20.679316500Z",
     "start_time": "2024-02-29T17:00:20.437293900Z"
    }
   },
   "id": "1cad223bd898473b"
  },
  {
   "cell_type": "code",
   "execution_count": 34,
   "outputs": [
    {
     "data": {
      "text/plain": "15224"
     },
     "execution_count": 34,
     "metadata": {},
     "output_type": "execute_result"
    }
   ],
   "source": [
    "sum(Counter(lens).values())\n",
    "len(data[\"preprocessed_text\"])"
   ],
   "metadata": {
    "collapsed": false,
    "ExecuteTime": {
     "end_time": "2024-02-29T17:00:20.690340600Z",
     "start_time": "2024-02-29T17:00:20.453748400Z"
    }
   },
   "id": "ddcfe0b23839b0ab"
  },
  {
   "cell_type": "code",
   "execution_count": 35,
   "outputs": [
    {
     "name": "stdout",
     "output_type": "stream",
     "text": [
      "99.99999999999997\n"
     ]
    }
   ],
   "source": [
    "print(sum(counter.values()))"
   ],
   "metadata": {
    "collapsed": false,
    "ExecuteTime": {
     "end_time": "2024-02-29T17:00:20.690340600Z",
     "start_time": "2024-02-29T17:00:20.468755300Z"
    }
   },
   "id": "2966ee33083a5f22"
  },
  {
   "cell_type": "code",
   "execution_count": 36,
   "outputs": [
    {
     "data": {
      "text/plain": "<Figure size 640x480 with 1 Axes>",
      "image/png": "[encoded data removed]"
     },
     "metadata": {},
     "output_type": "display_data"
    }
   ],
   "source": [
    "from matplotlib import pyplot as plt\n",
    "plt.bar(counter.keys(), counter.values())\n",
    "plt.xticks(list(counter.keys()))\n",
    "plt.ylabel(\"% of sentences\")\n",
    "plt.xlabel(\"# of words\")\n",
    "plt.plot()\n",
    "plt.show()"
   ],
   "metadata": {
    "collapsed": false,
    "ExecuteTime": {
     "end_time": "2024-02-29T17:00:20.690340600Z",
     "start_time": "2024-02-29T17:00:20.491974Z"
    }
   },
   "id": "ef924649a6956347"
  },
  {
   "cell_type": "markdown",
   "source": [
    "# EVAL output (from CLAN)"
   ],
   "metadata": {
    "collapsed": false
   },
   "id": "e72eeaa66cd25eae"
  },
  {
   "cell_type": "code",
   "execution_count": 37,
   "outputs": [],
   "source": [
    "import pandas as pd "
   ],
   "metadata": {
    "collapsed": false,
    "ExecuteTime": {
     "end_time": "2024-02-29T17:00:20.690340600Z",
     "start_time": "2024-02-29T17:00:20.613326100Z"
    }
   },
   "id": "initial_id"
  },
  {
   "cell_type": "code",
   "execution_count": 38,
   "outputs": [],
   "source": [
    "# averages from database (no comparion eval CLAN output\n",
    "df = pd.read_csv(\"../clan_outputs/eval_output.csv\")"
   ],
   "metadata": {
    "collapsed": false,
    "ExecuteTime": {
     "end_time": "2024-02-29T17:00:20.690340600Z",
     "start_time": "2024-02-29T17:00:20.626357500Z"
    }
   },
   "id": "393fa58e69a64e8"
  },
  {
   "cell_type": "code",
   "execution_count": 39,
   "outputs": [
    {
     "data": {
      "text/plain": "Index(['File', 'Language', 'Corpus', 'Code', 'Age', 'Sex', 'Group', 'Race',\n       'SES', 'Role', 'Education', 'Custom_field', 'Duration_(sec)',\n       'Total_Utts', 'MLU_Utts', 'MLU_Words', 'MLU_Morphemes', 'FREQ_types',\n       'FREQ_tokens', 'FREQ_TTR', 'Words_Min', 'Verbs_Utt', '%_Word_Errors',\n       'Utt_Errors', 'density', '%_Nouns', '%_Plurals', '%_Verbs', '%_Aux',\n       '%_Mod', '%_3S', '%_13S', '%_PAST', '%_PASTP', '%_PRESP', '%_prep',\n       '%_adj', '%_adv', '%_conj', '%_det', '%_pro', 'noun_verb',\n       'open_closed', '#open-class', '#closed-class', 'retracing',\n       'repetition'],\n      dtype='object')"
     },
     "execution_count": 39,
     "metadata": {},
     "output_type": "execute_result"
    }
   ],
   "source": [
    "df.columns"
   ],
   "metadata": {
    "collapsed": false,
    "ExecuteTime": {
     "end_time": "2024-02-29T17:00:20.690340600Z",
     "start_time": "2024-02-29T17:00:20.642014900Z"
    }
   },
   "id": "56c71e3564d7330b"
  },
  {
   "cell_type": "code",
   "execution_count": 40,
   "outputs": [],
   "source": [
    "cols = [\"File\", \"Code\", \"Group\", \"Age\", \"MLU_Utts\", \n",
    "        \"MLU_Words\", \"MLU_Morphemes\", \"FREQ_types\", \n",
    "        \"FREQ_tokens\", \"FREQ_TTR\", \"Verbs_Utt\", \n",
    "        \"%_Word_Errors\", \"Utt_Errors\"]\n",
    "\n",
    "pos_percentage = ['%_Nouns', '%_Plurals', '%_Verbs', \n",
    "                  '%_Aux', '%_Mod', '%_3S', '%_13S', \n",
    "                  '%_PAST', '%_PASTP', '%_PRESP', \n",
    "                  '%_prep','%_adj', '%_adv', '%_conj',\n",
    "                  '%_det', '%_pro', 'noun_verb', \n",
    "                  'open_closed', '#open-class', \n",
    "                  '#closed-class', 'retracing', \n",
    "                  'repetition']\n",
    "\n",
    "cols.extend(pos_percentage)"
   ],
   "metadata": {
    "collapsed": false,
    "ExecuteTime": {
     "end_time": "2024-02-29T17:00:20.706016600Z",
     "start_time": "2024-02-29T17:00:20.662493300Z"
    }
   },
   "id": "e86f59ca7e1f3373"
  },
  {
   "cell_type": "code",
   "execution_count": 41,
   "outputs": [
    {
     "data": {
      "text/plain": "                  File Code  Group     Age  MLU_Utts  MLU_Words  \\\n0           1006-1.cha  PAR  Broca  71;00.        79      2.709   \n1           1006-2.cha  PAR  Broca  71;00.        88      3.557   \n2           1006-3.cha  PAR  Broca  71;00.        86      3.488   \n3           1006-4.cha  PAR  Broca  71;00.        87      3.322   \n4           1006-5.cha  PAR  Broca  71;00.       102      3.539   \n..                 ...  ...    ...     ...       ...        ...   \n159  williamson19a.cha  PAR  Broca  52;08.       112      2.036   \n160     wright201a.cha  PAR  Broca  55;01.       147      2.599   \n161     wright205a.cha  PAR  Broca  55;10.        83      1.434   \n162     wright206a.cha  PAR  Broca  39;00.       188      2.553   \n163     wright207a.cha  PAR  Broca  63;10.       114      2.719   \n\n     MLU_Morphemes  FREQ_types  FREQ_tokens  FREQ_TTR  ...   %_adv  %_conj  \\\n0            3.177          64          266     0.241  ...  11.278   0.752   \n1            4.045          73          390     0.187  ...   9.487   1.795   \n2            3.953          81          381     0.213  ...  12.336   1.312   \n3            3.782          73          361     0.202  ...   9.695   0.831   \n4            4.039          84          393     0.214  ...  11.450   1.272   \n..             ...         ...          ...       ...  ...     ...     ...   \n159          2.259         104          231     0.450  ...   6.061   0.000   \n160          2.796         125          385     0.325  ...  10.909   2.597   \n161          1.614          78          119     0.655  ...   7.563   0.000   \n162          2.697         145          480     0.302  ...   7.083   8.958   \n163          2.965         115          322     0.357  ...   4.037   4.037   \n\n     %_det   %_pro  noun_verb  open_closed  #open-class  #closed-class  \\\n0    1.880  22.556      0.228        0.906          116            128   \n1    3.333  22.821      0.262        1.034          182            176   \n2    5.249  17.585      0.508        0.971          170            175   \n3    8.310  22.161      0.300        0.845          153            181   \n4    4.580  22.392      0.278        0.902          174            193   \n..     ...     ...        ...          ...          ...            ...   \n159  1.299   3.896      3.100        1.286           99             77   \n160  1.818   2.857      1.800        1.453          170            117   \n161  1.681   6.723      2.579        4.667           84             18   \n162  4.375   3.958      2.000        1.689          255            151   \n163  3.727  10.559      1.891        1.267          152            120   \n\n     retracing  repetition  \n0            1          13  \n1            3           7  \n2            3          16  \n3            4          11  \n4           11          10  \n..         ...         ...  \n159          9           4  \n160         24          17  \n161          4           4  \n162         27          34  \n163         21          32  \n\n[164 rows x 35 columns]",
      "text/html": "<div>\n<style scoped>\n    .dataframe tbody tr th:only-of-type {\n        vertical-align: middle;\n    }\n\n    .dataframe tbody tr th {\n        vertical-align: top;\n    }\n\n    .dataframe thead th {\n        text-align: right;\n    }\n</style>\n<table border=\"1\" class=\"dataframe\">\n  <thead>\n    <tr style=\"text-align: right;\">\n      <th></th>\n      <th>File</th>\n      <th>Code</th>\n      <th>Group</th>\n      <th>Age</th>\n      <th>MLU_Utts</th>\n      <th>MLU_Words</th>\n      <th>MLU_Morphemes</th>\n      <th>FREQ_types</th>\n      <th>FREQ_tokens</th>\n      <th>FREQ_TTR</th>\n      <th>...</th>\n      <th>%_adv</th>\n      <th>%_conj</th>\n      <th>%_det</th>\n      <th>%_pro</th>\n      <th>noun_verb</th>\n      <th>open_closed</th>\n      <th>#open-class</th>\n      <th>#closed-class</th>\n      <th>retracing</th>\n      <th>repetition</th>\n    </tr>\n  </thead>\n  <tbody>\n    <tr>\n      <th>0</th>\n      <td>1006-1.cha</td>\n      <td>PAR</td>\n      <td>Broca</td>\n      <td>71;00.</td>\n      <td>79</td>\n      <td>2.709</td>\n      <td>3.177</td>\n      <td>64</td>\n      <td>266</td>\n      <td>0.241</td>\n      <td>...</td>\n      <td>11.278</td>\n      <td>0.752</td>\n      <td>1.880</td>\n      <td>22.556</td>\n      <td>0.228</td>\n      <td>0.906</td>\n      <td>116</td>\n      <td>128</td>\n      <td>1</td>\n      <td>13</td>\n    </tr>\n    <tr>\n      <th>1</th>\n      <td>1006-2.cha</td>\n      <td>PAR</td>\n      <td>Broca</td>\n      <td>71;00.</td>\n      <td>88</td>\n      <td>3.557</td>\n      <td>4.045</td>\n      <td>73</td>\n      <td>390</td>\n      <td>0.187</td>\n      <td>...</td>\n      <td>9.487</td>\n      <td>1.795</td>\n      <td>3.333</td>\n      <td>22.821</td>\n      <td>0.262</td>\n      <td>1.034</td>\n      <td>182</td>\n      <td>176</td>\n      <td>3</td>\n      <td>7</td>\n    </tr>\n    <tr>\n      <th>2</th>\n      <td>1006-3.cha</td>\n      <td>PAR</td>\n      <td>Broca</td>\n      <td>71;00.</td>\n      <td>86</td>\n      <td>3.488</td>\n      <td>3.953</td>\n      <td>81</td>\n      <td>381</td>\n      <td>0.213</td>\n      <td>...</td>\n      <td>12.336</td>\n      <td>1.312</td>\n      <td>5.249</td>\n      <td>17.585</td>\n      <td>0.508</td>\n      <td>0.971</td>\n      <td>170</td>\n      <td>175</td>\n      <td>3</td>\n      <td>16</td>\n    </tr>\n    <tr>\n      <th>3</th>\n      <td>1006-4.cha</td>\n      <td>PAR</td>\n      <td>Broca</td>\n      <td>71;00.</td>\n      <td>87</td>\n      <td>3.322</td>\n      <td>3.782</td>\n      <td>73</td>\n      <td>361</td>\n      <td>0.202</td>\n      <td>...</td>\n      <td>9.695</td>\n      <td>0.831</td>\n      <td>8.310</td>\n      <td>22.161</td>\n      <td>0.300</td>\n      <td>0.845</td>\n      <td>153</td>\n      <td>181</td>\n      <td>4</td>\n      <td>11</td>\n    </tr>\n    <tr>\n      <th>4</th>\n      <td>1006-5.cha</td>\n      <td>PAR</td>\n      <td>Broca</td>\n      <td>71;00.</td>\n      <td>102</td>\n      <td>3.539</td>\n      <td>4.039</td>\n      <td>84</td>\n      <td>393</td>\n      <td>0.214</td>\n      <td>...</td>\n      <td>11.450</td>\n      <td>1.272</td>\n      <td>4.580</td>\n      <td>22.392</td>\n      <td>0.278</td>\n      <td>0.902</td>\n      <td>174</td>\n      <td>193</td>\n      <td>11</td>\n      <td>10</td>\n    </tr>\n    <tr>\n      <th>...</th>\n      <td>...</td>\n      <td>...</td>\n      <td>...</td>\n      <td>...</td>\n      <td>...</td>\n      <td>...</td>\n      <td>...</td>\n      <td>...</td>\n      <td>...</td>\n      <td>...</td>\n      <td>...</td>\n      <td>...</td>\n      <td>...</td>\n      <td>...</td>\n      <td>...</td>\n      <td>...</td>\n      <td>...</td>\n      <td>...</td>\n      <td>...</td>\n      <td>...</td>\n      <td>...</td>\n    </tr>\n    <tr>\n      <th>159</th>\n      <td>williamson19a.cha</td>\n      <td>PAR</td>\n      <td>Broca</td>\n      <td>52;08.</td>\n      <td>112</td>\n      <td>2.036</td>\n      <td>2.259</td>\n      <td>104</td>\n      <td>231</td>\n      <td>0.450</td>\n      <td>...</td>\n      <td>6.061</td>\n      <td>0.000</td>\n      <td>1.299</td>\n      <td>3.896</td>\n      <td>3.100</td>\n      <td>1.286</td>\n      <td>99</td>\n      <td>77</td>\n      <td>9</td>\n      <td>4</td>\n    </tr>\n    <tr>\n      <th>160</th>\n      <td>wright201a.cha</td>\n      <td>PAR</td>\n      <td>Broca</td>\n      <td>55;01.</td>\n      <td>147</td>\n      <td>2.599</td>\n      <td>2.796</td>\n      <td>125</td>\n      <td>385</td>\n      <td>0.325</td>\n      <td>...</td>\n      <td>10.909</td>\n      <td>2.597</td>\n      <td>1.818</td>\n      <td>2.857</td>\n      <td>1.800</td>\n      <td>1.453</td>\n      <td>170</td>\n      <td>117</td>\n      <td>24</td>\n      <td>17</td>\n    </tr>\n    <tr>\n      <th>161</th>\n      <td>wright205a.cha</td>\n      <td>PAR</td>\n      <td>Broca</td>\n      <td>55;10.</td>\n      <td>83</td>\n      <td>1.434</td>\n      <td>1.614</td>\n      <td>78</td>\n      <td>119</td>\n      <td>0.655</td>\n      <td>...</td>\n      <td>7.563</td>\n      <td>0.000</td>\n      <td>1.681</td>\n      <td>6.723</td>\n      <td>2.579</td>\n      <td>4.667</td>\n      <td>84</td>\n      <td>18</td>\n      <td>4</td>\n      <td>4</td>\n    </tr>\n    <tr>\n      <th>162</th>\n      <td>wright206a.cha</td>\n      <td>PAR</td>\n      <td>Broca</td>\n      <td>39;00.</td>\n      <td>188</td>\n      <td>2.553</td>\n      <td>2.697</td>\n      <td>145</td>\n      <td>480</td>\n      <td>0.302</td>\n      <td>...</td>\n      <td>7.083</td>\n      <td>8.958</td>\n      <td>4.375</td>\n      <td>3.958</td>\n      <td>2.000</td>\n      <td>1.689</td>\n      <td>255</td>\n      <td>151</td>\n      <td>27</td>\n      <td>34</td>\n    </tr>\n    <tr>\n      <th>163</th>\n      <td>wright207a.cha</td>\n      <td>PAR</td>\n      <td>Broca</td>\n      <td>63;10.</td>\n      <td>114</td>\n      <td>2.719</td>\n      <td>2.965</td>\n      <td>115</td>\n      <td>322</td>\n      <td>0.357</td>\n      <td>...</td>\n      <td>4.037</td>\n      <td>4.037</td>\n      <td>3.727</td>\n      <td>10.559</td>\n      <td>1.891</td>\n      <td>1.267</td>\n      <td>152</td>\n      <td>120</td>\n      <td>21</td>\n      <td>32</td>\n    </tr>\n  </tbody>\n</table>\n<p>164 rows × 35 columns</p>\n</div>"
     },
     "execution_count": 41,
     "metadata": {},
     "output_type": "execute_result"
    }
   ],
   "source": [
    "data = df[cols]\n",
    "data"
   ],
   "metadata": {
    "collapsed": false,
    "ExecuteTime": {
     "end_time": "2024-02-29T17:00:20.863714800Z",
     "start_time": "2024-02-29T17:00:20.674557700Z"
    }
   },
   "id": "d4583bbb3e0d4948"
  },
  {
   "cell_type": "code",
   "execution_count": 42,
   "outputs": [
    {
     "data": {
      "text/plain": "         MLU_Utts   MLU_Words  MLU_Morphemes  FREQ_types  FREQ_tokens  \\\ncount  164.000000  164.000000     164.000000  164.000000   164.000000   \nmean    98.140244    3.167451       3.501402   96.152439   336.817073   \nstd     64.030944    1.401518       1.544285   52.460630   268.371555   \nmin     11.000000    1.053000       1.091000    6.000000    20.000000   \n25%     53.000000    2.125750       2.364250   52.500000   153.750000   \n50%     84.000000    2.835000       3.219500   99.000000   305.500000   \n75%    125.250000    3.994500       4.351250  125.000000   406.500000   \nmax    299.000000    6.929000       7.964000  286.000000  1616.000000   \n\n         FREQ_TTR   Verbs_Utt  %_Word_Errors  Utt_Errors     %_Nouns  ...  \\\ncount  164.000000  164.000000     164.000000  164.000000  164.000000  ...   \nmean     0.342787    0.447817       6.878976   31.859756   18.886854  ...   \nstd      0.128240    0.327506       7.644506   34.558368   10.795354  ...   \nmin      0.113000    0.000000       0.000000    0.000000    0.000000  ...   \n25%      0.254000    0.177500       1.833500    0.000000   10.407000  ...   \n50%      0.323500    0.370500       3.974500   26.000000   16.721000  ...   \n75%      0.391750    0.661000       8.326750   50.250000   26.125250  ...   \nmax      0.769000    1.482000      40.426000  158.000000   65.000000  ...   \n\n            %_adv      %_conj       %_det       %_pro   noun_verb  \\\ncount  164.000000  164.000000  164.000000  164.000000  163.000000   \nmean     5.595116    1.495037    6.177402   11.918805    1.602221   \nstd      3.467287    2.068434    5.269902    6.669784    1.448165   \nmin      0.000000    0.000000    0.000000    0.000000    0.000000   \n25%      3.092000    0.000000    2.596250    6.780750    0.697500   \n50%      5.684500    0.867500    4.809500   11.777000    1.290000   \n75%      7.838000    2.033250    8.757000   16.907750    2.145500   \nmax     16.932000   10.400000   25.625000   26.582000   13.000000   \n\n       open_closed  #open-class  #closed-class   retracing  repetition  \ncount   164.000000   164.000000     164.000000  164.000000  164.000000  \nmean      1.310488   142.524390     151.353659   14.195122   23.847561  \nstd       1.330857   112.485988     150.087694   17.626624   27.292686  \nmin       0.191000     4.000000       2.000000    0.000000    0.000000  \n25%       0.777000    64.500000      52.250000    3.000000    6.000000  \n50%       0.964000   130.500000     118.500000    7.500000   15.000000  \n75%       1.360500   177.250000     205.250000   19.000000   30.250000  \nmax      11.500000   658.000000     931.000000  102.000000  147.000000  \n\n[8 rows x 31 columns]",
      "text/html": "<div>\n<style scoped>\n    .dataframe tbody tr th:only-of-type {\n        vertical-align: middle;\n    }\n\n    .dataframe tbody tr th {\n        vertical-align: top;\n    }\n\n    .dataframe thead th {\n        text-align: right;\n    }\n</style>\n<table border=\"1\" class=\"dataframe\">\n  <thead>\n    <tr style=\"text-align: right;\">\n      <th></th>\n      <th>MLU_Utts</th>\n      <th>MLU_Words</th>\n      <th>MLU_Morphemes</th>\n      <th>FREQ_types</th>\n      <th>FREQ_tokens</th>\n      <th>FREQ_TTR</th>\n      <th>Verbs_Utt</th>\n      <th>%_Word_Errors</th>\n      <th>Utt_Errors</th>\n      <th>%_Nouns</th>\n      <th>...</th>\n      <th>%_adv</th>\n      <th>%_conj</th>\n      <th>%_det</th>\n      <th>%_pro</th>\n      <th>noun_verb</th>\n      <th>open_closed</th>\n      <th>#open-class</th>\n      <th>#closed-class</th>\n      <th>retracing</th>\n      <th>repetition</th>\n    </tr>\n  </thead>\n  <tbody>\n    <tr>\n      <th>count</th>\n      <td>164.000000</td>\n      <td>164.000000</td>\n      <td>164.000000</td>\n      <td>164.000000</td>\n      <td>164.000000</td>\n      <td>164.000000</td>\n      <td>164.000000</td>\n      <td>164.000000</td>\n      <td>164.000000</td>\n      <td>164.000000</td>\n      <td>...</td>\n      <td>164.000000</td>\n      <td>164.000000</td>\n      <td>164.000000</td>\n      <td>164.000000</td>\n      <td>163.000000</td>\n      <td>164.000000</td>\n      <td>164.000000</td>\n      <td>164.000000</td>\n      <td>164.000000</td>\n      <td>164.000000</td>\n    </tr>\n    <tr>\n      <th>mean</th>\n      <td>98.140244</td>\n      <td>3.167451</td>\n      <td>3.501402</td>\n      <td>96.152439</td>\n      <td>336.817073</td>\n      <td>0.342787</td>\n      <td>0.447817</td>\n      <td>6.878976</td>\n      <td>31.859756</td>\n      <td>18.886854</td>\n      <td>...</td>\n      <td>5.595116</td>\n      <td>1.495037</td>\n      <td>6.177402</td>\n      <td>11.918805</td>\n      <td>1.602221</td>\n      <td>1.310488</td>\n      <td>142.524390</td>\n      <td>151.353659</td>\n      <td>14.195122</td>\n      <td>23.847561</td>\n    </tr>\n    <tr>\n      <th>std</th>\n      <td>64.030944</td>\n      <td>1.401518</td>\n      <td>1.544285</td>\n      <td>52.460630</td>\n      <td>268.371555</td>\n      <td>0.128240</td>\n      <td>0.327506</td>\n      <td>7.644506</td>\n      <td>34.558368</td>\n      <td>10.795354</td>\n      <td>...</td>\n      <td>3.467287</td>\n      <td>2.068434</td>\n      <td>5.269902</td>\n      <td>6.669784</td>\n      <td>1.448165</td>\n      <td>1.330857</td>\n      <td>112.485988</td>\n      <td>150.087694</td>\n      <td>17.626624</td>\n      <td>27.292686</td>\n    </tr>\n    <tr>\n      <th>min</th>\n      <td>11.000000</td>\n      <td>1.053000</td>\n      <td>1.091000</td>\n      <td>6.000000</td>\n      <td>20.000000</td>\n      <td>0.113000</td>\n      <td>0.000000</td>\n      <td>0.000000</td>\n      <td>0.000000</td>\n      <td>0.000000</td>\n      <td>...</td>\n      <td>0.000000</td>\n      <td>0.000000</td>\n      <td>0.000000</td>\n      <td>0.000000</td>\n      <td>0.000000</td>\n      <td>0.191000</td>\n      <td>4.000000</td>\n      <td>2.000000</td>\n      <td>0.000000</td>\n      <td>0.000000</td>\n    </tr>\n    <tr>\n      <th>25%</th>\n      <td>53.000000</td>\n      <td>2.125750</td>\n      <td>2.364250</td>\n      <td>52.500000</td>\n      <td>153.750000</td>\n      <td>0.254000</td>\n      <td>0.177500</td>\n      <td>1.833500</td>\n      <td>0.000000</td>\n      <td>10.407000</td>\n      <td>...</td>\n      <td>3.092000</td>\n      <td>0.000000</td>\n      <td>2.596250</td>\n      <td>6.780750</td>\n      <td>0.697500</td>\n      <td>0.777000</td>\n      <td>64.500000</td>\n      <td>52.250000</td>\n      <td>3.000000</td>\n      <td>6.000000</td>\n    </tr>\n    <tr>\n      <th>50%</th>\n      <td>84.000000</td>\n      <td>2.835000</td>\n      <td>3.219500</td>\n      <td>99.000000</td>\n      <td>305.500000</td>\n      <td>0.323500</td>\n      <td>0.370500</td>\n      <td>3.974500</td>\n      <td>26.000000</td>\n      <td>16.721000</td>\n      <td>...</td>\n      <td>5.684500</td>\n      <td>0.867500</td>\n      <td>4.809500</td>\n      <td>11.777000</td>\n      <td>1.290000</td>\n      <td>0.964000</td>\n      <td>130.500000</td>\n      <td>118.500000</td>\n      <td>7.500000</td>\n      <td>15.000000</td>\n    </tr>\n    <tr>\n      <th>75%</th>\n      <td>125.250000</td>\n      <td>3.994500</td>\n      <td>4.351250</td>\n      <td>125.000000</td>\n      <td>406.500000</td>\n      <td>0.391750</td>\n      <td>0.661000</td>\n      <td>8.326750</td>\n      <td>50.250000</td>\n      <td>26.125250</td>\n      <td>...</td>\n      <td>7.838000</td>\n      <td>2.033250</td>\n      <td>8.757000</td>\n      <td>16.907750</td>\n      <td>2.145500</td>\n      <td>1.360500</td>\n      <td>177.250000</td>\n      <td>205.250000</td>\n      <td>19.000000</td>\n      <td>30.250000</td>\n    </tr>\n    <tr>\n      <th>max</th>\n      <td>299.000000</td>\n      <td>6.929000</td>\n      <td>7.964000</td>\n      <td>286.000000</td>\n      <td>1616.000000</td>\n      <td>0.769000</td>\n      <td>1.482000</td>\n      <td>40.426000</td>\n      <td>158.000000</td>\n      <td>65.000000</td>\n      <td>...</td>\n      <td>16.932000</td>\n      <td>10.400000</td>\n      <td>25.625000</td>\n      <td>26.582000</td>\n      <td>13.000000</td>\n      <td>11.500000</td>\n      <td>658.000000</td>\n      <td>931.000000</td>\n      <td>102.000000</td>\n      <td>147.000000</td>\n    </tr>\n  </tbody>\n</table>\n<p>8 rows × 31 columns</p>\n</div>"
     },
     "execution_count": 42,
     "metadata": {},
     "output_type": "execute_result"
    }
   ],
   "source": [
    "data.describe()"
   ],
   "metadata": {
    "collapsed": false,
    "ExecuteTime": {
     "end_time": "2024-02-29T17:00:20.879791900Z",
     "start_time": "2024-02-29T17:00:20.706762400Z"
    }
   },
   "id": "8c5d5dbc845c866c"
  },
  {
   "cell_type": "markdown",
   "source": [
    "# C-NNLA output (main focus)"
   ],
   "metadata": {
    "collapsed": false
   },
   "id": "752a3929ff2e1a39"
  },
  {
   "cell_type": "code",
   "execution_count": 43,
   "outputs": [
    {
     "data": {
      "text/plain": "                  File Language         Corpus Code     Age     Sex  Group  \\\n0           1006-1.cha      eng  Fridriksson-2  PAR  71;00.    male  Broca   \n1           1006-2.cha      eng  Fridriksson-2  PAR  71;00.    male  Broca   \n2           1006-3.cha      eng  Fridriksson-2  PAR  71;00.    male  Broca   \n3           1006-4.cha      eng  Fridriksson-2  PAR  71;00.    male  Broca   \n4           1006-5.cha      eng  Fridriksson-2  PAR  71;00.    male  Broca   \n..                 ...      ...            ...  ...     ...     ...    ...   \n159  williamson19a.cha      eng     Williamson  PAR  52;08.  female  Broca   \n160     wright201a.cha      eng         Wright  PAR  55;01.    male  Broca   \n161     wright205a.cha      eng         Wright  PAR  55;10.    male  Broca   \n162     wright206a.cha      eng         Wright  PAR  39;00.  female  Broca   \n163     wright207a.cha      eng         Wright  PAR  63;10.  female  Broca   \n\n    Race SES         Role  ... irregular perfect participles  \\\n0      .   .  Participant  ...                            10   \n1      .   .  Participant  ...                             2   \n2      .   .  Participant  ...                             0   \n3      .   .  Participant  ...                             2   \n4      .   .  Participant  ...                             4   \n..   ...  ..          ...  ...                           ...   \n159    .   .  Participant  ...                             0   \n160    .   .  Participant  ...                             2   \n161    .   .  Participant  ...                             2   \n162    .   .  Participant  ...                            22   \n163    .   .  Participant  ...                             2   \n\n    progressive aspect markers  % correct regular verb inflection  \\\n0                            0                              100.0   \n1                            2                              100.0   \n2                            2                              100.0   \n3                            2                              100.0   \n4                            0                              100.0   \n..                         ...                                ...   \n159                         22                              100.0   \n160                         32                              100.0   \n161                          8                              100.0   \n162                         18                              100.0   \n163                         12                              100.0   \n\n     % correct irregular verb inflection  % sentences produced  \\\n0                                  100.0                61.111   \n1                                  100.0                76.699   \n2                                    NaN                61.386   \n3                                  100.0                76.000   \n4                                  100.0                73.832   \n..                                   ...                   ...   \n159                                100.0                16.379   \n160                                100.0                25.000   \n161                                100.0                22.619   \n162                                100.0                26.316   \n163                                100.0                29.752   \n\n     % sentences with correct syntax, semantics*  \\\n0                                        100.000   \n1                                        100.000   \n2                                        100.000   \n3                                        100.000   \n4                                        100.000   \n..                                           ...   \n159                                       36.842   \n160                                       16.216   \n161                                       10.526   \n162                                       40.000   \n163                                       66.667   \n\n     % sentences with flawed syntax  % sentences with flawed semantics*  \\\n0                             0.000                                 0.0   \n1                             0.000                                 0.0   \n2                             0.000                                 0.0   \n3                             0.000                                 0.0   \n4                             0.000                                 0.0   \n..                              ...                                 ...   \n159                          63.158                                 0.0   \n160                          83.784                                 0.0   \n161                          89.474                                 0.0   \n162                          60.000                                 0.0   \n163                          33.333                                 0.0   \n\n     sentence complexity ratio  # embedded clauses/sentence  \n0                        0.000                        0.000  \n1                        0.068                        0.063  \n2                        0.016                        0.016  \n3                        0.027                        0.026  \n4                        0.013                        0.025  \n..                         ...                          ...  \n159                      0.118                        0.158  \n160                      0.156                        0.162  \n161                      0.118                        0.105  \n162                      0.190                        0.160  \n163                      0.385                        0.278  \n\n[164 rows x 59 columns]",
      "text/html": "<div>\n<style scoped>\n    .dataframe tbody tr th:only-of-type {\n        vertical-align: middle;\n    }\n\n    .dataframe tbody tr th {\n        vertical-align: top;\n    }\n\n    .dataframe thead th {\n        text-align: right;\n    }\n</style>\n<table border=\"1\" class=\"dataframe\">\n  <thead>\n    <tr style=\"text-align: right;\">\n      <th></th>\n      <th>File</th>\n      <th>Language</th>\n      <th>Corpus</th>\n      <th>Code</th>\n      <th>Age</th>\n      <th>Sex</th>\n      <th>Group</th>\n      <th>Race</th>\n      <th>SES</th>\n      <th>Role</th>\n      <th>...</th>\n      <th>irregular perfect participles</th>\n      <th>progressive aspect markers</th>\n      <th>% correct regular verb inflection</th>\n      <th>% correct irregular verb inflection</th>\n      <th>% sentences produced</th>\n      <th>% sentences with correct syntax, semantics*</th>\n      <th>% sentences with flawed syntax</th>\n      <th>% sentences with flawed semantics*</th>\n      <th>sentence complexity ratio</th>\n      <th># embedded clauses/sentence</th>\n    </tr>\n  </thead>\n  <tbody>\n    <tr>\n      <th>0</th>\n      <td>1006-1.cha</td>\n      <td>eng</td>\n      <td>Fridriksson-2</td>\n      <td>PAR</td>\n      <td>71;00.</td>\n      <td>male</td>\n      <td>Broca</td>\n      <td>.</td>\n      <td>.</td>\n      <td>Participant</td>\n      <td>...</td>\n      <td>10</td>\n      <td>0</td>\n      <td>100.0</td>\n      <td>100.0</td>\n      <td>61.111</td>\n      <td>100.000</td>\n      <td>0.000</td>\n      <td>0.0</td>\n      <td>0.000</td>\n      <td>0.000</td>\n    </tr>\n    <tr>\n      <th>1</th>\n      <td>1006-2.cha</td>\n      <td>eng</td>\n      <td>Fridriksson-2</td>\n      <td>PAR</td>\n      <td>71;00.</td>\n      <td>male</td>\n      <td>Broca</td>\n      <td>.</td>\n      <td>.</td>\n      <td>Participant</td>\n      <td>...</td>\n      <td>2</td>\n      <td>2</td>\n      <td>100.0</td>\n      <td>100.0</td>\n      <td>76.699</td>\n      <td>100.000</td>\n      <td>0.000</td>\n      <td>0.0</td>\n      <td>0.068</td>\n      <td>0.063</td>\n    </tr>\n    <tr>\n      <th>2</th>\n      <td>1006-3.cha</td>\n      <td>eng</td>\n      <td>Fridriksson-2</td>\n      <td>PAR</td>\n      <td>71;00.</td>\n      <td>male</td>\n      <td>Broca</td>\n      <td>.</td>\n      <td>.</td>\n      <td>Participant</td>\n      <td>...</td>\n      <td>0</td>\n      <td>2</td>\n      <td>100.0</td>\n      <td>NaN</td>\n      <td>61.386</td>\n      <td>100.000</td>\n      <td>0.000</td>\n      <td>0.0</td>\n      <td>0.016</td>\n      <td>0.016</td>\n    </tr>\n    <tr>\n      <th>3</th>\n      <td>1006-4.cha</td>\n      <td>eng</td>\n      <td>Fridriksson-2</td>\n      <td>PAR</td>\n      <td>71;00.</td>\n      <td>male</td>\n      <td>Broca</td>\n      <td>.</td>\n      <td>.</td>\n      <td>Participant</td>\n      <td>...</td>\n      <td>2</td>\n      <td>2</td>\n      <td>100.0</td>\n      <td>100.0</td>\n      <td>76.000</td>\n      <td>100.000</td>\n      <td>0.000</td>\n      <td>0.0</td>\n      <td>0.027</td>\n      <td>0.026</td>\n    </tr>\n    <tr>\n      <th>4</th>\n      <td>1006-5.cha</td>\n      <td>eng</td>\n      <td>Fridriksson-2</td>\n      <td>PAR</td>\n      <td>71;00.</td>\n      <td>male</td>\n      <td>Broca</td>\n      <td>.</td>\n      <td>.</td>\n      <td>Participant</td>\n      <td>...</td>\n      <td>4</td>\n      <td>0</td>\n      <td>100.0</td>\n      <td>100.0</td>\n      <td>73.832</td>\n      <td>100.000</td>\n      <td>0.000</td>\n      <td>0.0</td>\n      <td>0.013</td>\n      <td>0.025</td>\n    </tr>\n    <tr>\n      <th>...</th>\n      <td>...</td>\n      <td>...</td>\n      <td>...</td>\n      <td>...</td>\n      <td>...</td>\n      <td>...</td>\n      <td>...</td>\n      <td>...</td>\n      <td>...</td>\n      <td>...</td>\n      <td>...</td>\n      <td>...</td>\n      <td>...</td>\n      <td>...</td>\n      <td>...</td>\n      <td>...</td>\n      <td>...</td>\n      <td>...</td>\n      <td>...</td>\n      <td>...</td>\n      <td>...</td>\n    </tr>\n    <tr>\n      <th>159</th>\n      <td>williamson19a.cha</td>\n      <td>eng</td>\n      <td>Williamson</td>\n      <td>PAR</td>\n      <td>52;08.</td>\n      <td>female</td>\n      <td>Broca</td>\n      <td>.</td>\n      <td>.</td>\n      <td>Participant</td>\n      <td>...</td>\n      <td>0</td>\n      <td>22</td>\n      <td>100.0</td>\n      <td>100.0</td>\n      <td>16.379</td>\n      <td>36.842</td>\n      <td>63.158</td>\n      <td>0.0</td>\n      <td>0.118</td>\n      <td>0.158</td>\n    </tr>\n    <tr>\n      <th>160</th>\n      <td>wright201a.cha</td>\n      <td>eng</td>\n      <td>Wright</td>\n      <td>PAR</td>\n      <td>55;01.</td>\n      <td>male</td>\n      <td>Broca</td>\n      <td>.</td>\n      <td>.</td>\n      <td>Participant</td>\n      <td>...</td>\n      <td>2</td>\n      <td>32</td>\n      <td>100.0</td>\n      <td>100.0</td>\n      <td>25.000</td>\n      <td>16.216</td>\n      <td>83.784</td>\n      <td>0.0</td>\n      <td>0.156</td>\n      <td>0.162</td>\n    </tr>\n    <tr>\n      <th>161</th>\n      <td>wright205a.cha</td>\n      <td>eng</td>\n      <td>Wright</td>\n      <td>PAR</td>\n      <td>55;10.</td>\n      <td>male</td>\n      <td>Broca</td>\n      <td>.</td>\n      <td>.</td>\n      <td>Participant</td>\n      <td>...</td>\n      <td>2</td>\n      <td>8</td>\n      <td>100.0</td>\n      <td>100.0</td>\n      <td>22.619</td>\n      <td>10.526</td>\n      <td>89.474</td>\n      <td>0.0</td>\n      <td>0.118</td>\n      <td>0.105</td>\n    </tr>\n    <tr>\n      <th>162</th>\n      <td>wright206a.cha</td>\n      <td>eng</td>\n      <td>Wright</td>\n      <td>PAR</td>\n      <td>39;00.</td>\n      <td>female</td>\n      <td>Broca</td>\n      <td>.</td>\n      <td>.</td>\n      <td>Participant</td>\n      <td>...</td>\n      <td>22</td>\n      <td>18</td>\n      <td>100.0</td>\n      <td>100.0</td>\n      <td>26.316</td>\n      <td>40.000</td>\n      <td>60.000</td>\n      <td>0.0</td>\n      <td>0.190</td>\n      <td>0.160</td>\n    </tr>\n    <tr>\n      <th>163</th>\n      <td>wright207a.cha</td>\n      <td>eng</td>\n      <td>Wright</td>\n      <td>PAR</td>\n      <td>63;10.</td>\n      <td>female</td>\n      <td>Broca</td>\n      <td>.</td>\n      <td>.</td>\n      <td>Participant</td>\n      <td>...</td>\n      <td>2</td>\n      <td>12</td>\n      <td>100.0</td>\n      <td>100.0</td>\n      <td>29.752</td>\n      <td>66.667</td>\n      <td>33.333</td>\n      <td>0.0</td>\n      <td>0.385</td>\n      <td>0.278</td>\n    </tr>\n  </tbody>\n</table>\n<p>164 rows × 59 columns</p>\n</div>"
     },
     "execution_count": 43,
     "metadata": {},
     "output_type": "execute_result"
    }
   ],
   "source": [
    "import pandas as pd \n",
    "\n",
    "df = pd.read_csv(\"../clan_outputs/C-NNLA_output.csv\")\n",
    "df"
   ],
   "metadata": {
    "collapsed": false,
    "ExecuteTime": {
     "end_time": "2024-02-29T17:00:20.879791900Z",
     "start_time": "2024-02-29T17:00:20.755531Z"
    }
   },
   "id": "880a516d7a82cea8"
  },
  {
   "cell_type": "code",
   "execution_count": 44,
   "outputs": [
    {
     "data": {
      "text/plain": "Index(['File', 'Language', 'Corpus', 'Code', 'Age', 'Sex', 'Group', 'Race',\n       'SES', 'Role', 'Education', 'Custom_field', 'Duration (sec)',\n       'Words/Min', 'Total Utts', 'Total Words', 'MLU Words', 'open-class',\n       '% open-class/all words', 'closed-class', '% closed-class/all words',\n       'open/closed', 'Nouns', '% Nouns/all words', 'Verbs',\n       '% Verbs/all words', 'noun/verb', 'adj|', 'adv|', 'det|', 'pro|',\n       'aux|', 'conj|', 'complementizers', 'modals', 'prep|',\n       'negation markers', 'infinitival markers', 'quantifiers', 'wh-words',\n       'comparative suffixes', 'superlative suffixes', 'possessive markers',\n       'regular plural markers', 'irregular plural forms',\n       '3rd person present tense markers', 'regular past tense markers',\n       'irregular past tense markers', 'regular perfect aspect markers',\n       'irregular perfect participles', 'progressive aspect markers',\n       '% correct regular verb inflection',\n       '% correct irregular verb inflection', '% sentences produced',\n       '% sentences with correct syntax, semantics*',\n       '% sentences with flawed syntax', '% sentences with flawed semantics*',\n       'sentence complexity ratio', '# embedded clauses/sentence'],\n      dtype='object')"
     },
     "execution_count": 44,
     "metadata": {},
     "output_type": "execute_result"
    }
   ],
   "source": [
    "df.columns"
   ],
   "metadata": {
    "collapsed": false,
    "ExecuteTime": {
     "end_time": "2024-02-29T17:00:20.879791900Z",
     "start_time": "2024-02-29T17:00:20.788406200Z"
    }
   },
   "id": "a49e8e45bd0d34ce"
  },
  {
   "cell_type": "code",
   "execution_count": 45,
   "outputs": [],
   "source": [
    "df.dropna(inplace=True)"
   ],
   "metadata": {
    "collapsed": false,
    "ExecuteTime": {
     "end_time": "2024-02-29T17:00:20.879791900Z",
     "start_time": "2024-02-29T17:00:20.800682300Z"
    }
   },
   "id": "c387e4760b7187df"
  },
  {
   "cell_type": "markdown",
   "source": [
    "### Distribution of ratio Noun/Verb "
   ],
   "metadata": {
    "collapsed": false
   },
   "id": "9fb275b5c4898a45"
  },
  {
   "cell_type": "code",
   "execution_count": 46,
   "outputs": [
    {
     "data": {
      "text/plain": "count    126.000000\nmean       1.461698\nstd        1.000143\nmin        0.228000\n25%        0.708500\n50%        1.257500\n75%        1.992250\nmax        6.818000\nName: noun/verb, dtype: float64"
     },
     "execution_count": 46,
     "metadata": {},
     "output_type": "execute_result"
    }
   ],
   "source": [
    "df.describe()[\"noun/verb\"]"
   ],
   "metadata": {
    "collapsed": false,
    "ExecuteTime": {
     "end_time": "2024-02-29T17:00:20.970595900Z",
     "start_time": "2024-02-29T17:00:20.819582Z"
    }
   },
   "id": "acf177b78f51e553"
  },
  {
   "cell_type": "markdown",
   "source": [
    "### Distribution of % of nouns in sentences"
   ],
   "metadata": {
    "collapsed": false
   },
   "id": "b9132b66620ab4e8"
  },
  {
   "cell_type": "code",
   "execution_count": 47,
   "outputs": [
    {
     "data": {
      "text/plain": "0      0.059908\n1      0.064706\n3      0.076677\n4      0.065672\n5      0.068452\n         ...   \n159    0.314721\n160    0.225000\n161    0.415254\n162    0.294931\n163    0.281553\nLength: 126, dtype: float64"
     },
     "execution_count": 47,
     "metadata": {},
     "output_type": "execute_result"
    }
   ],
   "source": [
    "df[\"Nouns\"]/df['Total Words']"
   ],
   "metadata": {
    "collapsed": false,
    "ExecuteTime": {
     "end_time": "2024-02-29T17:00:20.970595900Z",
     "start_time": "2024-02-29T17:00:20.867587Z"
    }
   },
   "id": "6c287567b4182b7c"
  },
  {
   "cell_type": "code",
   "execution_count": 48,
   "outputs": [
    {
     "data": {
      "text/plain": "count    126.000000\nmean      20.681794\nstd        9.794099\nmin        5.991000\n25%       12.318250\n50%       19.215500\n75%       27.795250\nmax       50.000000\nName: % Nouns/all words, dtype: float64"
     },
     "execution_count": 48,
     "metadata": {},
     "output_type": "execute_result"
    }
   ],
   "source": [
    "df.describe()[\"% Nouns/all words\"]"
   ],
   "metadata": {
    "collapsed": false,
    "ExecuteTime": {
     "end_time": "2024-02-29T17:00:21.094946900Z",
     "start_time": "2024-02-29T17:00:20.879791900Z"
    }
   },
   "id": "31823d879f611001"
  },
  {
   "cell_type": "code",
   "execution_count": 49,
   "outputs": [
    {
     "data": {
      "text/plain": "               File Language   Corpus Code     Age   Sex  Group Race SES  \\\n108  kurland15b.cha      eng  Kurland  PAR  62;00.  male  Broca    .   .   \n\n            Role  ... irregular perfect participles  \\\n108  Participant  ...                             0   \n\n    progressive aspect markers  % correct regular verb inflection  \\\n108                          2                              100.0   \n\n     % correct irregular verb inflection  % sentences produced  \\\n108                                100.0                  20.0   \n\n     % sentences with correct syntax, semantics*  \\\n108                                         60.0   \n\n     % sentences with flawed syntax  % sentences with flawed semantics*  \\\n108                            40.0                                 0.0   \n\n     sentence complexity ratio  # embedded clauses/sentence  \n108                        0.0                          0.0  \n\n[1 rows x 59 columns]",
      "text/html": "<div>\n<style scoped>\n    .dataframe tbody tr th:only-of-type {\n        vertical-align: middle;\n    }\n\n    .dataframe tbody tr th {\n        vertical-align: top;\n    }\n\n    .dataframe thead th {\n        text-align: right;\n    }\n</style>\n<table border=\"1\" class=\"dataframe\">\n  <thead>\n    <tr style=\"text-align: right;\">\n      <th></th>\n      <th>File</th>\n      <th>Language</th>\n      <th>Corpus</th>\n      <th>Code</th>\n      <th>Age</th>\n      <th>Sex</th>\n      <th>Group</th>\n      <th>Race</th>\n      <th>SES</th>\n      <th>Role</th>\n      <th>...</th>\n      <th>irregular perfect participles</th>\n      <th>progressive aspect markers</th>\n      <th>% correct regular verb inflection</th>\n      <th>% correct irregular verb inflection</th>\n      <th>% sentences produced</th>\n      <th>% sentences with correct syntax, semantics*</th>\n      <th>% sentences with flawed syntax</th>\n      <th>% sentences with flawed semantics*</th>\n      <th>sentence complexity ratio</th>\n      <th># embedded clauses/sentence</th>\n    </tr>\n  </thead>\n  <tbody>\n    <tr>\n      <th>108</th>\n      <td>kurland15b.cha</td>\n      <td>eng</td>\n      <td>Kurland</td>\n      <td>PAR</td>\n      <td>62;00.</td>\n      <td>male</td>\n      <td>Broca</td>\n      <td>.</td>\n      <td>.</td>\n      <td>Participant</td>\n      <td>...</td>\n      <td>0</td>\n      <td>2</td>\n      <td>100.0</td>\n      <td>100.0</td>\n      <td>20.0</td>\n      <td>60.0</td>\n      <td>40.0</td>\n      <td>0.0</td>\n      <td>0.0</td>\n      <td>0.0</td>\n    </tr>\n  </tbody>\n</table>\n<p>1 rows × 59 columns</p>\n</div>"
     },
     "execution_count": 49,
     "metadata": {},
     "output_type": "execute_result"
    }
   ],
   "source": [
    "df.loc[df['% Nouns/all words'] == 50] # PWA mostly only said nouns"
   ],
   "metadata": {
    "collapsed": false,
    "ExecuteTime": {
     "end_time": "2024-02-29T17:00:21.094946900Z",
     "start_time": "2024-02-29T17:00:20.927031400Z"
    }
   },
   "id": "561d46741d2c9af9"
  },
  {
   "cell_type": "markdown",
   "source": [
    "### Distribution of %verbs/all words "
   ],
   "metadata": {
    "collapsed": false
   },
   "id": "5a6996cd10ef5bf7"
  },
  {
   "cell_type": "code",
   "execution_count": 50,
   "outputs": [
    {
     "data": {
      "text/plain": "count    126.000000\nmean      16.598881\nstd        5.036936\nmin        5.093000\n25%       13.234250\n50%       16.292500\n75%       20.069000\nmax       26.267000\nName: % Verbs/all words, dtype: float64"
     },
     "execution_count": 50,
     "metadata": {},
     "output_type": "execute_result"
    }
   ],
   "source": [
    "df.describe()[\"% Verbs/all words\"]"
   ],
   "metadata": {
    "collapsed": false,
    "ExecuteTime": {
     "end_time": "2024-02-29T17:00:21.174587700Z",
     "start_time": "2024-02-29T17:00:20.942740300Z"
    }
   },
   "id": "d4ccd2aa80a1c669"
  },
  {
   "cell_type": "markdown",
   "source": [
    "### Distribution of dets"
   ],
   "metadata": {
    "collapsed": false
   },
   "id": "9d120f56bbd715ff"
  },
  {
   "cell_type": "code",
   "execution_count": 51,
   "outputs": [
    {
     "data": {
      "text/plain": "count    126.000000\nmean      56.285714\nstd       55.699602\nmin        0.000000\n25%       14.000000\n50%       38.000000\n75%       81.000000\nmax      326.000000\nName: det|, dtype: float64"
     },
     "execution_count": 51,
     "metadata": {},
     "output_type": "execute_result"
    }
   ],
   "source": [
    "x = df[\"det|\"]\n",
    "x.describe()"
   ],
   "metadata": {
    "collapsed": false,
    "ExecuteTime": {
     "end_time": "2024-02-29T17:00:21.193569700Z",
     "start_time": "2024-02-29T17:00:20.994135300Z"
    }
   },
   "id": "cbe1a9a150a77df7"
  },
  {
   "cell_type": "code",
   "execution_count": 52,
   "outputs": [
    {
     "data": {
      "text/plain": "           File Language  Corpus Code     Age   Sex  Group Race SES  \\\n144  tcu02b.cha      eng  TCU-bi  PAR  42;07.  male  Broca    .   .   \n\n            Role  ... irregular perfect participles  \\\n144  Participant  ...                             4   \n\n    progressive aspect markers  % correct regular verb inflection  \\\n144                         22                             96.667   \n\n     % correct irregular verb inflection  % sentences produced  \\\n144                               88.889                65.472   \n\n     % sentences with correct syntax, semantics*  \\\n144                                       55.721   \n\n     % sentences with flawed syntax  % sentences with flawed semantics*  \\\n144                          44.279                                 0.0   \n\n     sentence complexity ratio  # embedded clauses/sentence  \n144                      0.534                        0.428  \n\n[1 rows x 59 columns]",
      "text/html": "<div>\n<style scoped>\n    .dataframe tbody tr th:only-of-type {\n        vertical-align: middle;\n    }\n\n    .dataframe tbody tr th {\n        vertical-align: top;\n    }\n\n    .dataframe thead th {\n        text-align: right;\n    }\n</style>\n<table border=\"1\" class=\"dataframe\">\n  <thead>\n    <tr style=\"text-align: right;\">\n      <th></th>\n      <th>File</th>\n      <th>Language</th>\n      <th>Corpus</th>\n      <th>Code</th>\n      <th>Age</th>\n      <th>Sex</th>\n      <th>Group</th>\n      <th>Race</th>\n      <th>SES</th>\n      <th>Role</th>\n      <th>...</th>\n      <th>irregular perfect participles</th>\n      <th>progressive aspect markers</th>\n      <th>% correct regular verb inflection</th>\n      <th>% correct irregular verb inflection</th>\n      <th>% sentences produced</th>\n      <th>% sentences with correct syntax, semantics*</th>\n      <th>% sentences with flawed syntax</th>\n      <th>% sentences with flawed semantics*</th>\n      <th>sentence complexity ratio</th>\n      <th># embedded clauses/sentence</th>\n    </tr>\n  </thead>\n  <tbody>\n    <tr>\n      <th>144</th>\n      <td>tcu02b.cha</td>\n      <td>eng</td>\n      <td>TCU-bi</td>\n      <td>PAR</td>\n      <td>42;07.</td>\n      <td>male</td>\n      <td>Broca</td>\n      <td>.</td>\n      <td>.</td>\n      <td>Participant</td>\n      <td>...</td>\n      <td>4</td>\n      <td>22</td>\n      <td>96.667</td>\n      <td>88.889</td>\n      <td>65.472</td>\n      <td>55.721</td>\n      <td>44.279</td>\n      <td>0.0</td>\n      <td>0.534</td>\n      <td>0.428</td>\n    </tr>\n  </tbody>\n</table>\n<p>1 rows × 59 columns</p>\n</div>"
     },
     "execution_count": 52,
     "metadata": {},
     "output_type": "execute_result"
    }
   ],
   "source": [
    "df.loc[df['det|'] == 326] # PWA talked in long sentences"
   ],
   "metadata": {
    "collapsed": false,
    "ExecuteTime": {
     "end_time": "2024-02-29T17:00:21.193569700Z",
     "start_time": "2024-02-29T17:00:21.006955900Z"
    }
   },
   "id": "ad3da2e9d6ae89d"
  },
  {
   "cell_type": "markdown",
   "source": [
    "## Word level Error production \n",
    "clan code: freq +s\"[\\* s*]\" +s\"[\\* p*]\" +s\"[\\* n*]\" +s\"[\\* d*]\" +s\"[\\* m*]\" +s\"[\\* f*]\" +t*PAR +d2 +fS +2 *.cha"
   ],
   "metadata": {
    "collapsed": false
   },
   "id": "d0692b578ffafd1b"
  },
  {
   "cell_type": "code",
   "execution_count": 53,
   "outputs": [],
   "source": [
    "import pandas as pd\n",
    "df = pd.read_csv(\"../clan_outputs/word_errors.csv\")\n",
    "df[\"Total\"] = df.sum(axis=1, numeric_only=True)\n",
    "df.loc[\"Total\"] = df.sum(axis=0, numeric_only=True)"
   ],
   "metadata": {
    "collapsed": false,
    "ExecuteTime": {
     "end_time": "2024-02-29T17:00:21.195776500Z",
     "start_time": "2024-02-29T17:00:21.034800800Z"
    }
   },
   "id": "483f95641e4b0e04"
  },
  {
   "cell_type": "code",
   "execution_count": 54,
   "outputs": [],
   "source": [
    "# remove info about errors which were never made\n",
    "df = df.loc[:, (df != 0).any(axis=0)]"
   ],
   "metadata": {
    "collapsed": false,
    "ExecuteTime": {
     "end_time": "2024-02-29T17:00:21.195776500Z",
     "start_time": "2024-02-29T17:00:21.066700700Z"
    }
   },
   "id": "f6c4eb0a156f7937"
  },
  {
   "cell_type": "code",
   "execution_count": 55,
   "outputs": [
    {
     "data": {
      "text/plain": "                                                    File Language  \\\n0      1006-1,C:\\Users\\imruh\\Documents\\Uni\\Master the...      eng   \n1      1006-2,C:\\Users\\imruh\\Documents\\Uni\\Master the...      eng   \n2      1006-3,C:\\Users\\imruh\\Documents\\Uni\\Master the...      eng   \n3      1006-4,C:\\Users\\imruh\\Documents\\Uni\\Master the...      eng   \n4      1006-5,C:\\Users\\imruh\\Documents\\Uni\\Master the...      eng   \n...                                                  ...      ...   \n160    wright201a,C:\\Users\\imruh\\Documents\\Uni\\Master...      eng   \n161    wright205a,C:\\Users\\imruh\\Documents\\Uni\\Master...      eng   \n162    wright206a,C:\\Users\\imruh\\Documents\\Uni\\Master...      eng   \n163    wright207a,C:\\Users\\imruh\\Documents\\Uni\\Master...      eng   \nTotal                                                NaN      NaN   \n\n              Corpus Code     Age     Sex  Group Race  SES         Role  ...  \\\n0      Fridriksson-2  PAR  71;00.    male  Broca    .    .  Participant  ...   \n1      Fridriksson-2  PAR  71;00.    male  Broca    .    .  Participant  ...   \n2      Fridriksson-2  PAR  71;00.    male  Broca    .    .  Participant  ...   \n3      Fridriksson-2  PAR  71;00.    male  Broca    .    .  Participant  ...   \n4      Fridriksson-2  PAR  71;00.    male  Broca    .    .  Participant  ...   \n...              ...  ...     ...     ...    ...  ...  ...          ...  ...   \n160           Wright  PAR  55;01.    male  Broca    .    .  Participant  ...   \n161           Wright  PAR  55;10.    male  Broca    .    .  Participant  ...   \n162           Wright  PAR  39;00.  female  Broca    .    .  Participant  ...   \n163           Wright  PAR  63;10.  female  Broca    .    .  Participant  ...   \nTotal            NaN  NaN     NaN     NaN    NaN  NaN  NaN          NaN  ...   \n\n      [* s:r:prep] [* s:r:seg]  [* s:r]  [* s:uk]  [* s:ur]  [* s]  Types  \\\n0              0.0         0.0      0.0       0.0       0.0    0.0    0.0   \n1              0.0         0.0      2.0       0.0       0.0    0.0    2.0   \n2              0.0         0.0      3.0       2.0       0.0    0.0    3.0   \n3              0.0         0.0      0.0       1.0       0.0    0.0    3.0   \n4              0.0         0.0      0.0       0.0       0.0    0.0    2.0   \n...            ...         ...      ...       ...       ...    ...    ...   \n160            0.0         0.0      0.0       1.0       0.0    0.0    3.0   \n161            0.0         0.0      0.0       0.0       0.0    0.0    4.0   \n162            0.0         0.0      6.0      13.0       4.0    0.0    7.0   \n163            0.0         0.0      0.0       0.0       0.0    0.0    4.0   \nTotal          3.0         2.0    183.0     468.0     100.0    7.0  826.0   \n\n        Token    TTR    Total  \n0         0.0      .     94.0  \n1         4.0    0.5    122.0  \n2         6.0    0.5    119.0  \n3         4.0   0.75    121.0  \n4         4.0    0.5    127.0  \n...       ...    ...      ...  \n160       6.0    0.5    189.0  \n161       5.0    0.8    117.0  \n162      65.0  0.108    422.0  \n163       7.0  0.571    192.0  \nTotal  3685.0    NaN  28962.0  \n\n[165 rows x 62 columns]",
      "text/html": "<div>\n<style scoped>\n    .dataframe tbody tr th:only-of-type {\n        vertical-align: middle;\n    }\n\n    .dataframe tbody tr th {\n        vertical-align: top;\n    }\n\n    .dataframe thead th {\n        text-align: right;\n    }\n</style>\n<table border=\"1\" class=\"dataframe\">\n  <thead>\n    <tr style=\"text-align: right;\">\n      <th></th>\n      <th>File</th>\n      <th>Language</th>\n      <th>Corpus</th>\n      <th>Code</th>\n      <th>Age</th>\n      <th>Sex</th>\n      <th>Group</th>\n      <th>Race</th>\n      <th>SES</th>\n      <th>Role</th>\n      <th>...</th>\n      <th>[* s:r:prep]</th>\n      <th>[* s:r:seg]</th>\n      <th>[* s:r]</th>\n      <th>[* s:uk]</th>\n      <th>[* s:ur]</th>\n      <th>[* s]</th>\n      <th>Types</th>\n      <th>Token</th>\n      <th>TTR</th>\n      <th>Total</th>\n    </tr>\n  </thead>\n  <tbody>\n    <tr>\n      <th>0</th>\n      <td>1006-1,C:\\Users\\imruh\\Documents\\Uni\\Master the...</td>\n      <td>eng</td>\n      <td>Fridriksson-2</td>\n      <td>PAR</td>\n      <td>71;00.</td>\n      <td>male</td>\n      <td>Broca</td>\n      <td>.</td>\n      <td>.</td>\n      <td>Participant</td>\n      <td>...</td>\n      <td>0.0</td>\n      <td>0.0</td>\n      <td>0.0</td>\n      <td>0.0</td>\n      <td>0.0</td>\n      <td>0.0</td>\n      <td>0.0</td>\n      <td>0.0</td>\n      <td>.</td>\n      <td>94.0</td>\n    </tr>\n    <tr>\n      <th>1</th>\n      <td>1006-2,C:\\Users\\imruh\\Documents\\Uni\\Master the...</td>\n      <td>eng</td>\n      <td>Fridriksson-2</td>\n      <td>PAR</td>\n      <td>71;00.</td>\n      <td>male</td>\n      <td>Broca</td>\n      <td>.</td>\n      <td>.</td>\n      <td>Participant</td>\n      <td>...</td>\n      <td>0.0</td>\n      <td>0.0</td>\n      <td>2.0</td>\n      <td>0.0</td>\n      <td>0.0</td>\n      <td>0.0</td>\n      <td>2.0</td>\n      <td>4.0</td>\n      <td>0.5</td>\n      <td>122.0</td>\n    </tr>\n    <tr>\n      <th>2</th>\n      <td>1006-3,C:\\Users\\imruh\\Documents\\Uni\\Master the...</td>\n      <td>eng</td>\n      <td>Fridriksson-2</td>\n      <td>PAR</td>\n      <td>71;00.</td>\n      <td>male</td>\n      <td>Broca</td>\n      <td>.</td>\n      <td>.</td>\n      <td>Participant</td>\n      <td>...</td>\n      <td>0.0</td>\n      <td>0.0</td>\n      <td>3.0</td>\n      <td>2.0</td>\n      <td>0.0</td>\n      <td>0.0</td>\n      <td>3.0</td>\n      <td>6.0</td>\n      <td>0.5</td>\n      <td>119.0</td>\n    </tr>\n    <tr>\n      <th>3</th>\n      <td>1006-4,C:\\Users\\imruh\\Documents\\Uni\\Master the...</td>\n      <td>eng</td>\n      <td>Fridriksson-2</td>\n      <td>PAR</td>\n      <td>71;00.</td>\n      <td>male</td>\n      <td>Broca</td>\n      <td>.</td>\n      <td>.</td>\n      <td>Participant</td>\n      <td>...</td>\n      <td>0.0</td>\n      <td>0.0</td>\n      <td>0.0</td>\n      <td>1.0</td>\n      <td>0.0</td>\n      <td>0.0</td>\n      <td>3.0</td>\n      <td>4.0</td>\n      <td>0.75</td>\n      <td>121.0</td>\n    </tr>\n    <tr>\n      <th>4</th>\n      <td>1006-5,C:\\Users\\imruh\\Documents\\Uni\\Master the...</td>\n      <td>eng</td>\n      <td>Fridriksson-2</td>\n      <td>PAR</td>\n      <td>71;00.</td>\n      <td>male</td>\n      <td>Broca</td>\n      <td>.</td>\n      <td>.</td>\n      <td>Participant</td>\n      <td>...</td>\n      <td>0.0</td>\n      <td>0.0</td>\n      <td>0.0</td>\n      <td>0.0</td>\n      <td>0.0</td>\n      <td>0.0</td>\n      <td>2.0</td>\n      <td>4.0</td>\n      <td>0.5</td>\n      <td>127.0</td>\n    </tr>\n    <tr>\n      <th>...</th>\n      <td>...</td>\n      <td>...</td>\n      <td>...</td>\n      <td>...</td>\n      <td>...</td>\n      <td>...</td>\n      <td>...</td>\n      <td>...</td>\n      <td>...</td>\n      <td>...</td>\n      <td>...</td>\n      <td>...</td>\n      <td>...</td>\n      <td>...</td>\n      <td>...</td>\n      <td>...</td>\n      <td>...</td>\n      <td>...</td>\n      <td>...</td>\n      <td>...</td>\n      <td>...</td>\n    </tr>\n    <tr>\n      <th>160</th>\n      <td>wright201a,C:\\Users\\imruh\\Documents\\Uni\\Master...</td>\n      <td>eng</td>\n      <td>Wright</td>\n      <td>PAR</td>\n      <td>55;01.</td>\n      <td>male</td>\n      <td>Broca</td>\n      <td>.</td>\n      <td>.</td>\n      <td>Participant</td>\n      <td>...</td>\n      <td>0.0</td>\n      <td>0.0</td>\n      <td>0.0</td>\n      <td>1.0</td>\n      <td>0.0</td>\n      <td>0.0</td>\n      <td>3.0</td>\n      <td>6.0</td>\n      <td>0.5</td>\n      <td>189.0</td>\n    </tr>\n    <tr>\n      <th>161</th>\n      <td>wright205a,C:\\Users\\imruh\\Documents\\Uni\\Master...</td>\n      <td>eng</td>\n      <td>Wright</td>\n      <td>PAR</td>\n      <td>55;10.</td>\n      <td>male</td>\n      <td>Broca</td>\n      <td>.</td>\n      <td>.</td>\n      <td>Participant</td>\n      <td>...</td>\n      <td>0.0</td>\n      <td>0.0</td>\n      <td>0.0</td>\n      <td>0.0</td>\n      <td>0.0</td>\n      <td>0.0</td>\n      <td>4.0</td>\n      <td>5.0</td>\n      <td>0.8</td>\n      <td>117.0</td>\n    </tr>\n    <tr>\n      <th>162</th>\n      <td>wright206a,C:\\Users\\imruh\\Documents\\Uni\\Master...</td>\n      <td>eng</td>\n      <td>Wright</td>\n      <td>PAR</td>\n      <td>39;00.</td>\n      <td>female</td>\n      <td>Broca</td>\n      <td>.</td>\n      <td>.</td>\n      <td>Participant</td>\n      <td>...</td>\n      <td>0.0</td>\n      <td>0.0</td>\n      <td>6.0</td>\n      <td>13.0</td>\n      <td>4.0</td>\n      <td>0.0</td>\n      <td>7.0</td>\n      <td>65.0</td>\n      <td>0.108</td>\n      <td>422.0</td>\n    </tr>\n    <tr>\n      <th>163</th>\n      <td>wright207a,C:\\Users\\imruh\\Documents\\Uni\\Master...</td>\n      <td>eng</td>\n      <td>Wright</td>\n      <td>PAR</td>\n      <td>63;10.</td>\n      <td>female</td>\n      <td>Broca</td>\n      <td>.</td>\n      <td>.</td>\n      <td>Participant</td>\n      <td>...</td>\n      <td>0.0</td>\n      <td>0.0</td>\n      <td>0.0</td>\n      <td>0.0</td>\n      <td>0.0</td>\n      <td>0.0</td>\n      <td>4.0</td>\n      <td>7.0</td>\n      <td>0.571</td>\n      <td>192.0</td>\n    </tr>\n    <tr>\n      <th>Total</th>\n      <td>NaN</td>\n      <td>NaN</td>\n      <td>NaN</td>\n      <td>NaN</td>\n      <td>NaN</td>\n      <td>NaN</td>\n      <td>NaN</td>\n      <td>NaN</td>\n      <td>NaN</td>\n      <td>NaN</td>\n      <td>...</td>\n      <td>3.0</td>\n      <td>2.0</td>\n      <td>183.0</td>\n      <td>468.0</td>\n      <td>100.0</td>\n      <td>7.0</td>\n      <td>826.0</td>\n      <td>3685.0</td>\n      <td>NaN</td>\n      <td>28962.0</td>\n    </tr>\n  </tbody>\n</table>\n<p>165 rows × 62 columns</p>\n</div>"
     },
     "execution_count": 55,
     "metadata": {},
     "output_type": "execute_result"
    }
   ],
   "source": [
    "df"
   ],
   "metadata": {
    "collapsed": false,
    "ExecuteTime": {
     "end_time": "2024-02-29T17:00:21.238562800Z",
     "start_time": "2024-02-29T17:00:21.079208400Z"
    }
   },
   "id": "89e27478973c7b4a"
  },
  {
   "cell_type": "code",
   "execution_count": 56,
   "outputs": [],
   "source": [
    "freq = df.iloc[-1].dropna().to_dict()\n",
    "del freq[\"*PAR:\"]\n",
    "del freq[\"Types\"]\n",
    "del freq[\"Token\"]\n",
    "del freq[\"Total\"]"
   ],
   "metadata": {
    "collapsed": false,
    "ExecuteTime": {
     "end_time": "2024-02-29T17:00:21.337225700Z",
     "start_time": "2024-02-29T17:00:21.110608400Z"
    }
   },
   "id": "f941dedac100e45b"
  },
  {
   "cell_type": "code",
   "execution_count": 89,
   "outputs": [],
   "source": [
    "# first ten most common errors\n",
    "freq_list = sorted(freq.items(), key=lambda x:x[1], reverse=True)\n",
    "sorted_freq = dict(freq_list)\n",
    "common = dict(freq_list[2:14])"
   ],
   "metadata": {
    "collapsed": false,
    "ExecuteTime": {
     "end_time": "2024-02-29T17:11:12.856304800Z",
     "start_time": "2024-02-29T17:11:12.835305300Z"
    }
   },
   "id": "cd1afa0d21969f06"
  },
  {
   "cell_type": "code",
   "execution_count": 84,
   "outputs": [
    {
     "data": {
      "text/plain": "45"
     },
     "execution_count": 84,
     "metadata": {},
     "output_type": "execute_result"
    }
   ],
   "source": [
    "# there are in total about 45 errors made by PWA\n",
    "len(sorted_freq.keys())"
   ],
   "metadata": {
    "collapsed": false,
    "ExecuteTime": {
     "end_time": "2024-02-29T17:09:07.759441100Z",
     "start_time": "2024-02-29T17:09:07.744449700Z"
    }
   },
   "id": "32292267bcf7edf8"
  },
  {
   "cell_type": "code",
   "execution_count": 90,
   "outputs": [
    {
     "data": {
      "text/plain": "{'[* p:w]': 545.0,\n '[* s:uk]': 468.0,\n '[* n:k]': 433.0,\n '[* s:r]': 183.0,\n '[* s:r:gc:pro]': 158.0,\n '[* s:per]': 118.0,\n '[* s:ur]': 100.0,\n '[* m:03s:a]': 27.0,\n '[* m:0s:a]': 11.0,\n '[* n:uk-rep]': 10.0,\n '[* m:+s]': 9.0,\n '[* m:0s]': 9.0}"
     },
     "execution_count": 90,
     "metadata": {},
     "output_type": "execute_result"
    }
   ],
   "source": [
    "common"
   ],
   "metadata": {
    "collapsed": false,
    "ExecuteTime": {
     "end_time": "2024-02-29T17:11:14.660113500Z",
     "start_time": "2024-02-29T17:11:14.640540300Z"
    }
   },
   "id": "483201078b254b27"
  },
  {
   "cell_type": "code",
   "execution_count": 92,
   "outputs": [
    {
     "data": {
      "text/plain": "<Figure size 640x480 with 1 Axes>",
      "image/png": "[encoded data removed]"
     },
     "metadata": {},
     "output_type": "display_data"
    }
   ],
   "source": [
    "from matplotlib import pyplot as plt\n",
    "\n",
    "plt.bar(*zip(*common.items()))\n",
    "plt.xticks(rotation=90)\n",
    "plt.ylabel(\"Total occurances (all participants)\")\n",
    "plt.xlabel(\"Error code\")\n",
    "plt.show()"
   ],
   "metadata": {
    "collapsed": false,
    "ExecuteTime": {
     "end_time": "2024-02-29T17:11:37.740425900Z",
     "start_time": "2024-02-29T17:11:37.651482200Z"
    }
   },
   "id": "2f4a191444e7f3de"
  },
  {
   "cell_type": "code",
   "execution_count": 61,
   "outputs": [
    {
     "name": "stdout",
     "output_type": "stream",
     "text": [
      "[* m:03s:a] 27.0\n",
      "[* m:0s:a] 11.0\n",
      "[* m:+s] 9.0\n",
      "[* m:0s] 9.0\n",
      "[* m:+s:a] 7.0\n",
      "[* m:vsg:a] 6.0\n",
      "[* m:vun:a] 5.0\n",
      "[* m:=s] 4.0\n",
      "[* m:=ed] 3.0\n",
      "[* m:+3s] 2.0\n",
      "[* m:base:ed] 2.0\n",
      "[* m:base:s:a] 2.0\n",
      "[* m:+3s:a] 1.0\n",
      "[* m:03s] 1.0\n",
      "[* m:0ed] 1.0\n",
      "[* m:=en] 1.0\n",
      "[* m:a] 1.0\n",
      "[* m:base:s] 1.0\n",
      "[* m:irr:ed] 1.0\n",
      "[* m:irr:s:a] 1.0\n",
      "[* m:sub:en] 1.0\n"
     ]
    }
   ],
   "source": [
    "# morphological errors for verb form changing\n",
    "for key, value in sorted_freq.items():\n",
    "    if '[* m:' in key:\n",
    "        print(key, value)"
   ],
   "metadata": {
    "collapsed": false,
    "ExecuteTime": {
     "end_time": "2024-02-29T17:00:21.418007300Z",
     "start_time": "2024-02-29T17:00:21.268116900Z"
    }
   },
   "id": "fe8318aac66e4dce"
  },
  {
   "cell_type": "markdown",
   "source": [
    "### Find out what words were substituted for p:w errors"
   ],
   "metadata": {
    "collapsed": false
   },
   "id": "36c1bd5f5a81a1b6"
  },
  {
   "cell_type": "code",
   "execution_count": 62,
   "outputs": [
    {
     "name": "stdout",
     "output_type": "stream",
     "text": [
      "[* p:n] 947.0\n",
      "[* p:w] 545.0\n",
      "[* p:m] 3.0\n",
      "[* p:n-ret] 2.0\n",
      "[* p:n-per] 1.0\n",
      "[* p:n-rep] 1.0\n"
     ]
    }
   ],
   "source": [
    "# phonological errors\n",
    "# only looking at p:w\n",
    "for key, value in sorted_freq.items():\n",
    "    if '[* p:' in key:\n",
    "        print(key, value)"
   ],
   "metadata": {
    "collapsed": false,
    "ExecuteTime": {
     "end_time": "2024-02-29T17:00:21.494361100Z",
     "start_time": "2024-02-29T17:00:21.276293400Z"
    }
   },
   "id": "3413d44ff9ef724a"
  },
  {
   "cell_type": "code",
   "execution_count": 63,
   "outputs": [],
   "source": [
    "ipa = ['æ', 'é', 'ð', 'ü', 'ŋ', 'ɑ', 'ɒ', 'ɔ', 'ə', 'ɚ', 'ɛ', 'ɜ', 'ɝ', 'ɡ', 'ɪ', 'ɹ', 'ɾ',\n",
    "       'ʃ', 'ʊ', 'ʒ', 'ʔ', 'ʤ', 'ʧ', 'ː', '˞', '͡', 'θ', 'ʌ']\n",
    "import re \n",
    "corrects = []\n",
    "wrongs = []\n",
    "# maybe work with Levenshtein distance? \n",
    "with open(\"../clan_outputs/word_error_info.cha\", encoding=\"utf8\") as file:\n",
    "    for line in file:\n",
    "        if '[* p:w]' in line:\n",
    "            if not any(i in line for i in ipa): \n",
    "                    line = line.replace('(', ''). replace(')', '')\n",
    "                    words = re.findall(r\"(\\w+)\", line)\n",
    "                    if words:\n",
    "                        corrects.append(words[2])\n",
    "                        wrongs.append(words[1])"
   ],
   "metadata": {
    "collapsed": false,
    "ExecuteTime": {
     "end_time": "2024-02-29T17:00:21.522309600Z",
     "start_time": "2024-02-29T17:00:21.295424Z"
    }
   },
   "id": "95320e37f77699c5"
  },
  {
   "cell_type": "code",
   "execution_count": 64,
   "outputs": [
    {
     "name": "stdout",
     "output_type": "stream",
     "text": [
      "422 422\n"
     ]
    }
   ],
   "source": [
    "print(len(corrects), len(wrongs))"
   ],
   "metadata": {
    "collapsed": false,
    "ExecuteTime": {
     "end_time": "2024-02-29T17:00:21.522309600Z",
     "start_time": "2024-02-29T17:00:21.321196900Z"
    }
   },
   "id": "4cfa3b0a117e6d01"
  },
  {
   "cell_type": "code",
   "execution_count": 65,
   "outputs": [],
   "source": [
    "import spacy\n",
    "nlp = spacy.load(\"en_core_web_sm\")\n",
    "pos = []\n",
    "for x in corrects:\n",
    "    doc = nlp(x)\n",
    "    for tok in doc:\n",
    "        pos.append(tok.pos_)"
   ],
   "metadata": {
    "collapsed": false,
    "ExecuteTime": {
     "end_time": "2024-02-29T17:00:27.479325100Z",
     "start_time": "2024-02-29T17:00:21.337225700Z"
    }
   },
   "id": "8417c6ad7645413b"
  },
  {
   "cell_type": "code",
   "execution_count": 66,
   "outputs": [
    {
     "data": {
      "text/plain": "422"
     },
     "execution_count": 66,
     "metadata": {},
     "output_type": "execute_result"
    }
   ],
   "source": [
    "len(pos)"
   ],
   "metadata": {
    "collapsed": false,
    "ExecuteTime": {
     "end_time": "2024-02-29T17:00:27.479325100Z",
     "start_time": "2024-02-29T17:00:27.451028700Z"
    }
   },
   "id": "722700599aa4c456"
  },
  {
   "cell_type": "code",
   "execution_count": 67,
   "outputs": [
    {
     "data": {
      "text/plain": "NOUN     139\nVERB     107\nADV       40\nPRON      39\nINTJ      32\nNUM       15\nADJ       15\nPROPN     14\nAUX        7\nADP        6\nCCONJ      3\nPART       2\nX          1\nPUNCT      1\nSCONJ      1\nName: count, dtype: int64"
     },
     "execution_count": 67,
     "metadata": {},
     "output_type": "execute_result"
    }
   ],
   "source": [
    "# possible places where p:w errors happen\n",
    "# most commonly in nouns, verbs, adverbs and pronouns\n",
    "import pandas as pd\n",
    "pd.Series(pos).value_counts()"
   ],
   "metadata": {
    "collapsed": false,
    "ExecuteTime": {
     "end_time": "2024-02-29T17:00:27.510606400Z",
     "start_time": "2024-02-29T17:00:27.463280Z"
    }
   },
   "id": "68910e14507aaa03"
  },
  {
   "cell_type": "markdown",
   "source": [
    "### Levenshtein distance approach to p:w errors is NP-hard so not useful to implement"
   ],
   "metadata": {
    "collapsed": false
   },
   "id": "96e7f1186640ba52"
  }
 ],
 "metadata": {
  "kernelspec": {
   "display_name": "Python 3",
   "language": "python",
   "name": "python3"
  },
  "language_info": {
   "codemirror_mode": {
    "name": "ipython",
    "version": 2
   },
   "file_extension": ".py",
   "mimetype": "text/x-python",
   "name": "python",
   "nbconvert_exporter": "python",
   "pygments_lexer": "ipython2",
   "version": "2.7.6"
  }
 },
 "nbformat": 4,
 "nbformat_minor": 5
}
