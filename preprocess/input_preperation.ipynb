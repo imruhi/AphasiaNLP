{
 "cells": [
  {
   "cell_type": "code",
   "execution_count": 2,
   "id": "initial_id",
   "metadata": {
    "collapsed": true,
    "ExecuteTime": {
     "end_time": "2024-03-01T12:58:48.489688400Z",
     "start_time": "2024-03-01T12:58:47.351913400Z"
    }
   },
   "outputs": [],
   "source": [
    "import pandas as pd\n",
    "import pathlib\n",
    "import os\n",
    "import re"
   ]
  },
  {
   "cell_type": "markdown",
   "source": [
    "# 1) Get all participants from respective datasets"
   ],
   "metadata": {
    "collapsed": false
   },
   "id": "3110c6996fdf22ff"
  },
  {
   "cell_type": "code",
   "execution_count": 28,
   "outputs": [
    {
     "name": "stderr",
     "output_type": "stream",
     "text": [
      "C:\\Users\\imruh\\miniconda3\\envs\\thesis\\lib\\site-packages\\openpyxl\\worksheet\\_read_only.py:79: UserWarning: Unknown extension is not supported and will be removed\n",
      "  for idx, row in parser.parse():\n",
      "C:\\Users\\imruh\\miniconda3\\envs\\thesis\\lib\\site-packages\\openpyxl\\worksheet\\_read_only.py:79: UserWarning: Unknown extension is not supported and will be removed\n",
      "  for idx, row in parser.parse():\n"
     ]
    }
   ],
   "source": [
    "# for both sheets in excel\n",
    "df = pd.read_excel(\"data/english-results-data.xlsx\", sheet_name=\"Time 1\")\n",
    "df1 = pd.read_excel(\"data/english-results-data.xlsx\", sheet_name=\"Repeats\")"
   ],
   "metadata": {
    "collapsed": false,
    "ExecuteTime": {
     "end_time": "2024-03-01T13:09:19.659829Z",
     "start_time": "2024-03-01T13:09:19.163297600Z"
    }
   },
   "id": "4184bdb800f0e125"
  },
  {
   "cell_type": "code",
   "execution_count": 29,
   "outputs": [
    {
     "name": "stdout",
     "output_type": "stream",
     "text": [
      "[nan 'Broca' 'TransMotor' 'not aphasic' 'Conduction' 'Wernicke' 'Anomic'\n",
      " 'TransMotor ' 'U' 'Anomic ' 'Global' 'TransSensory']\n",
      "[nan 'Broca' 'Conduction' 'Anomic' 'Wernicke' 'Global' 'TransMotor' 'U'\n",
      " 'not aphasic' 'TransMotor ' \"Broca's\" 'not aphasic  ']\n"
     ]
    }
   ],
   "source": [
    "print(df[\"WAB Type\"].unique())\n",
    "print(df1[\"WAB Type\"].unique())"
   ],
   "metadata": {
    "collapsed": false,
    "ExecuteTime": {
     "end_time": "2024-03-01T13:09:22.561856600Z",
     "start_time": "2024-03-01T13:09:22.513448Z"
    }
   },
   "id": "7fdacbe5230707c6"
  },
  {
   "cell_type": "code",
   "execution_count": 30,
   "outputs": [],
   "source": [
    "def get_participants_files(wab_type, data1, data2):\n",
    "    data1 = data1.loc[data1[\"WAB Type\"] == wab_type]\n",
    "    participants = set(data1[\"Participant ID\"])\n",
    "    data2 = data2.loc[data2[\"WAB Type\"] == wab_type]\n",
    "    participants1 = set(data2[\"Participant ID\"])\n",
    "    \n",
    "    participants.update(participants1)\n",
    "    ids = list(participants)\n",
    "    ids.sort(key=str.lower)\n",
    "    return ids"
   ],
   "metadata": {
    "collapsed": false,
    "ExecuteTime": {
     "end_time": "2024-03-01T13:09:24.361002500Z",
     "start_time": "2024-03-01T13:09:24.354575Z"
    }
   },
   "id": "e10a5328b2d31bf4"
  },
  {
   "cell_type": "code",
   "execution_count": 41,
   "outputs": [
    {
     "data": {
      "text/plain": "['ACWT01a',\n 'ACWT05a',\n 'ACWT08a',\n 'adler10a',\n 'adler11a',\n 'adler13a',\n 'adler16a',\n 'adler19a',\n 'adler25a',\n 'BU07a',\n 'BU08a',\n 'cmu02b',\n 'elman03a',\n 'elman06a',\n 'elman08a',\n 'elman09a',\n 'elman11a',\n 'fridriksson-1-1011-1',\n 'fridriksson-2-1006-1',\n 'fridriksson-2-1006-2',\n 'fridriksson-2-1006-3',\n 'fridriksson-2-1006-4',\n 'fridriksson-2-1006-5',\n 'fridriksson-2-1006-6',\n 'fridriksson-2-1006-LARC',\n 'fridriksson-2-1008-1',\n 'fridriksson-2-1008-2',\n 'fridriksson-2-1008-3',\n 'fridriksson-2-1008-4',\n 'fridriksson-2-1008-5',\n 'fridriksson-2-1008-6',\n 'fridriksson-2-1008-LARC',\n 'fridriksson-2-1010-1',\n 'fridriksson-2-1010-2',\n 'fridriksson-2-1010-3',\n 'fridriksson-2-1010-4',\n 'fridriksson-2-1010-5',\n 'fridriksson-2-1010-6',\n 'fridriksson-2-1010-LARC',\n 'fridriksson-2-1012-1',\n 'fridriksson-2-1012-2',\n 'fridriksson-2-1012-3',\n 'fridriksson-2-1012-4',\n 'fridriksson-2-1012-5',\n 'fridriksson-2-1012-6',\n 'fridriksson-2-1012-LARC',\n 'fridriksson-2-1015-1',\n 'fridriksson-2-1015-2',\n 'fridriksson-2-1015-3',\n 'fridriksson-2-1015-4',\n 'fridriksson-2-1015-5',\n 'fridriksson-2-1015-6',\n 'fridriksson-2-1015-LARC',\n 'fridriksson-2-1016-1',\n 'fridriksson-2-1016-2',\n 'fridriksson-2-1016-3',\n 'fridriksson-2-1016-4',\n 'fridriksson-2-1016-5',\n 'fridriksson-2-1016-6',\n 'fridriksson-2-1016-LARC',\n 'fridriksson-2-1030-1',\n 'fridriksson-2-1030-2',\n 'fridriksson-2-1030-3',\n 'fridriksson-2-1030-4',\n 'fridriksson-2-1030-5',\n 'fridriksson-2-1030-6',\n 'fridriksson-2-1030-LARC',\n 'fridriksson-2-1035-1',\n 'fridriksson-2-1035-2',\n 'fridriksson-2-1035-3',\n 'fridriksson-2-1035-4',\n 'fridriksson-2-1035-5',\n 'fridriksson-2-1035-6',\n 'fridriksson-2-1035-LARC',\n 'fridriksson-2-1036-1',\n 'fridriksson-2-1036-2',\n 'fridriksson-2-1036-3',\n 'fridriksson-2-1036-4',\n 'fridriksson-2-1036-5',\n 'fridriksson-2-1036-6',\n 'fridriksson-2-1036-LARC',\n 'fridriksson-2-1039-1',\n 'fridriksson-2-1039-2',\n 'fridriksson-2-1039-3',\n 'fridriksson-2-1039-4',\n 'fridriksson-2-1039-5',\n 'fridriksson-2-1039-6',\n 'fridriksson-2-1039-LARC',\n 'fridriksson-2-1040-1',\n 'fridriksson-2-1040-2',\n 'fridriksson-2-1040-3',\n 'fridriksson-2-1040-4',\n 'fridriksson-2-1040-5',\n 'fridriksson-2-1040-6',\n 'fridriksson-2-1040-LARC',\n 'fridriksson-2-1050-1',\n 'fridriksson-2-1050-2',\n 'fridriksson-2-1050-3',\n 'fridriksson-2-1050-4',\n 'fridriksson-2-1050-5',\n 'fridriksson-2-1050-6',\n 'fridriksson-2-1050-LARC',\n 'fridriksson-2-1053-1',\n 'fridriksson-2-1053-2',\n 'fridriksson-2-1053-3',\n 'fridriksson-2-1053-4',\n 'fridriksson-2-1053-5',\n 'fridriksson-2-1053-6',\n 'fridriksson-2-1053-LARC',\n 'fridriksson-2-1062-1',\n 'fridriksson-2-1062-2',\n 'fridriksson-2-1062-3',\n 'fridriksson-2-1062-4',\n 'fridriksson-2-1062-5',\n 'fridriksson-2-1062-6',\n 'fridriksson-2-1062-LARC',\n 'fridriksson-2-1063-1',\n 'fridriksson-2-1063-2',\n 'fridriksson-2-1063-3',\n 'fridriksson-2-1063-4',\n 'fridriksson-2-1063-5',\n 'fridriksson-2-1063-6',\n 'fridriksson-2-1063-LARC',\n 'fridriksson-2-1064-1',\n 'fridriksson-2-1064-2',\n 'fridriksson-2-1064-3',\n 'fridriksson-2-1064-4',\n 'fridriksson-2-1064-5',\n 'fridriksson-2-1064-6',\n 'fridriksson-2-1064-LARC',\n 'fridriksson-2-1067-1',\n 'fridriksson-2-1067-2',\n 'fridriksson-2-1067-3',\n 'fridriksson-2-1067-4',\n 'fridriksson-2-1067-5',\n 'fridriksson-2-1067-6',\n 'fridriksson-2-1067-LARC',\n 'fridriksson-2-1070-1',\n 'fridriksson-2-1070-2',\n 'fridriksson-2-1070-3',\n 'fridriksson-2-1070-4',\n 'fridriksson-2-1070-5',\n 'fridriksson-2-1070-6',\n 'fridriksson-2-1070-LARC',\n 'fridriksson-2-1072-1',\n 'fridriksson-2-1072-2',\n 'fridriksson-2-1072-3',\n 'fridriksson-2-1072-4',\n 'fridriksson-2-1072-5',\n 'fridriksson-2-1072-6',\n 'fridriksson-2-1072-LARC',\n 'fridriksson-2-1080-1',\n 'fridriksson-2-1080-2',\n 'fridriksson-2-1080-3',\n 'fridriksson-2-1080-4',\n 'fridriksson-2-1080-5',\n 'fridriksson-2-1080-6',\n 'fridriksson-2-1080-LARC',\n 'fridriksson-2-1082-1',\n 'fridriksson-2-1082-2',\n 'fridriksson-2-1082-3',\n 'fridriksson-2-1082-4',\n 'fridriksson-2-1082-5',\n 'fridriksson-2-1082-6',\n 'fridriksson-2-1082-LARC',\n 'fridriksson-2-1095-1',\n 'fridriksson-2-1095-2',\n 'fridriksson-2-1095-3',\n 'fridriksson-2-1095-4',\n 'fridriksson-2-1095-5',\n 'fridriksson-2-1095-6',\n 'fridriksson-2-1095-LARC',\n 'fridriksson-2-1096-1',\n 'fridriksson-2-1096-2',\n 'fridriksson-2-1096-3',\n 'fridriksson-2-1096-4',\n 'fridriksson-2-1096-5',\n 'fridriksson-2-1096-6',\n 'fridriksson-2-1096-LARC',\n 'fridriksson-2-1101-1',\n 'fridriksson-2-1101-2',\n 'fridriksson-2-1101-3',\n 'fridriksson-2-1101-4',\n 'fridriksson-2-1101-5',\n 'fridriksson-2-1101-6',\n 'fridriksson-2-1101-LARC',\n 'fridriksson-2-1102-1',\n 'fridriksson-2-1102-2',\n 'fridriksson-2-1102-3',\n 'fridriksson-2-1102-4',\n 'fridriksson-2-1102-5',\n 'fridriksson-2-1102-6',\n 'fridriksson-2-1102-LARC',\n 'fridriksson-2-1106-1',\n 'fridriksson-2-1106-2',\n 'fridriksson-2-1106-3',\n 'fridriksson-2-1106-4',\n 'fridriksson-2-1106-5',\n 'fridriksson-2-1106-6',\n 'fridriksson-2-1106-LARC',\n 'fridriksson-2-1108-1',\n 'fridriksson-2-1108-2',\n 'fridriksson-2-1108-3',\n 'fridriksson-2-1108-4',\n 'fridriksson-2-1108-5',\n 'fridriksson-2-1108-6',\n 'fridriksson-2-1108-LARC',\n 'fridriksson-2-1112-1',\n 'fridriksson-2-1112-2',\n 'fridriksson-2-1112-3',\n 'fridriksson-2-1112-4',\n 'fridriksson-2-1112-5',\n 'fridriksson-2-1112-6',\n 'fridriksson-2-1112-LARC',\n 'fridriksson03a',\n 'fridriksson03b',\n 'fridriksson06b',\n 'fridriksson08b',\n 'fridriksson10a',\n 'fridriksson10b',\n 'fridriksson12a',\n 'kansas01a',\n 'kansas02a',\n 'kansas06a',\n 'kansas08a',\n 'kansas09a',\n 'kansas16a',\n 'kempler03a',\n 'kempler04a',\n 'kurland13a',\n 'kurland13b',\n 'kurland15a',\n 'kurland15b',\n 'kurland15c',\n 'kurland19a',\n 'kurland19b',\n 'kurland19c',\n 'kurland22a',\n 'kurland22b',\n 'kurland22c',\n 'kurland24a',\n 'kurland24b',\n 'kurland24c',\n 'kurland29a',\n 'kurland29b',\n 'kurland29c',\n 'MSU05a',\n 'MSU05b',\n 'MSU07a',\n 'MSU07b',\n 'NEURAL46-1',\n 'NEURAL46-2',\n 'NEURAL49-1',\n 'NEURAL49-2',\n 'NEURAL50-1',\n 'NEURAL50-2',\n 'NEURAL54-1',\n 'NEURAL54-2',\n 'NEURAL67-1',\n 'NEURAL73-1',\n 'NEURAL73-2',\n 'scale01a',\n 'scale03a',\n 'scale07a',\n 'scale10a',\n 'scale15b',\n 'scale18a',\n 'scale18b',\n 'scale18c',\n 'scale25a',\n 'scale26a',\n 'scale27a',\n 'scale28a',\n 'scale31a',\n 'scale33a',\n 'scale36a',\n 'TAP06a',\n 'TAP11a',\n 'TAP13a',\n 'TAP14a',\n 'TAP16a',\n 'TAP17a',\n 'TAP19a',\n 'TCU02b',\n 'TCU03a',\n 'TCU08a',\n 'tucson02a',\n 'tucson09a',\n 'tucson14a',\n 'UCL03a',\n 'UMD-MMA06a',\n 'UMD-MMA08a',\n 'UMD-MMA10a',\n 'UMD-MMA14a',\n 'UMD-MMA15a',\n 'UMD-MMA18a',\n 'UMD-MMA21a',\n 'UNH02a',\n 'UNH02b',\n 'UNH04a',\n 'UNH04b',\n 'UNH07a',\n 'UNH07b',\n 'UNH09a',\n 'UNH09b',\n 'UNH09c',\n 'UNH09d',\n 'UNH10a',\n 'UNH10b',\n 'UNH10c',\n 'UNH10d',\n 'UNH17a',\n 'whiteside03a',\n 'whiteside04a',\n 'whiteside08a',\n 'whiteside11a',\n 'whiteside12a',\n 'whiteside15a',\n 'whiteside16a',\n 'williamson12a',\n 'williamson12b',\n 'williamson19a',\n 'wright201a',\n 'wright205a',\n 'wright206a',\n 'wright207a']"
     },
     "execution_count": 41,
     "metadata": {},
     "output_type": "execute_result"
    }
   ],
   "source": [
    "# number of brocas patients\n",
    "ids = get_participants_files(\"Broca\", df, df1)\n",
    "ids"
   ],
   "metadata": {
    "collapsed": false,
    "ExecuteTime": {
     "end_time": "2024-03-01T13:19:03.114315300Z",
     "start_time": "2024-03-01T13:19:03.086841Z"
    }
   },
   "id": "79e9a7294bc19cbc"
  },
  {
   "cell_type": "code",
   "execution_count": 20,
   "outputs": [],
   "source": [
    "w_ids = get_participants_files(\"Wernicke\", df, df1)\n",
    "t_ids = get_participants_files(\"TransSensory\", df, df1)\n",
    "c_ids = get_participants_files(\"Conduction\", df, df1)\n",
    "a_ids = get_participants_files(\"Anomic\", df, df1)\n",
    "a1_ids = get_participants_files(\"Anomic \", df, df1)"
   ],
   "metadata": {
    "collapsed": false,
    "ExecuteTime": {
     "end_time": "2024-03-01T13:07:41.763578800Z",
     "start_time": "2024-03-01T13:07:41.742227600Z"
    }
   },
   "id": "dc093faa29d6d069"
  },
  {
   "cell_type": "code",
   "execution_count": 38,
   "outputs": [
    {
     "data": {
      "text/plain": "['ACWT10a',\n 'ACWT11a',\n 'adler06a',\n 'adler23a',\n 'BU10a',\n 'elman12a',\n 'elman14a',\n 'fridriksson-2-1003-1',\n 'fridriksson-2-1003-2',\n 'fridriksson-2-1003-3',\n 'fridriksson-2-1003-4',\n 'fridriksson-2-1003-5',\n 'fridriksson-2-1003-6',\n 'fridriksson-2-1003-LARC',\n 'fridriksson-2-1047-1',\n 'fridriksson-2-1047-2',\n 'fridriksson-2-1047-3',\n 'fridriksson-2-1047-4',\n 'fridriksson-2-1047-5',\n 'fridriksson-2-1047-6',\n 'fridriksson-2-1047-LARC',\n 'fridriksson-2-1089-1',\n 'fridriksson-2-1089-2',\n 'fridriksson-2-1089-3',\n 'fridriksson-2-1089-4',\n 'fridriksson-2-1089-5',\n 'fridriksson-2-1089-6',\n 'fridriksson-2-1089-LARC',\n 'fridriksson-2-1116-1',\n 'fridriksson-2-1116-2',\n 'fridriksson-2-1116-3',\n 'fridriksson-2-1116-4',\n 'fridriksson-2-1116-5',\n 'fridriksson-2-1116-6',\n 'garrett01a',\n 'kansas05a',\n 'kansas12a',\n 'kansas14a',\n 'kansas23a',\n 'kurland01c',\n 'kurland01d',\n 'kurland16a',\n 'kurland16b',\n 'kurland18a',\n 'kurland18b',\n 'scale06d',\n 'scale11b',\n 'scale24a',\n 'scale38a',\n 'thompson03a',\n 'thompson05a',\n 'tucson03a',\n 'tucson13a',\n 'tucson15a',\n 'UCL02a',\n 'UMD-MMA16a',\n 'UNH16a',\n 'UNH16c',\n 'whiteside10a',\n 'whiteside14a',\n 'williamson23a']"
     },
     "execution_count": 38,
     "metadata": {},
     "output_type": "execute_result"
    }
   ],
   "source": [
    "w_ids"
   ],
   "metadata": {
    "collapsed": false,
    "ExecuteTime": {
     "end_time": "2024-03-01T13:16:21.977223300Z",
     "start_time": "2024-03-01T13:16:21.965221200Z"
    }
   },
   "id": "b62c2a49f99d9620"
  },
  {
   "cell_type": "markdown",
   "source": [
    "# 2) Get file names we are interested in for PWA"
   ],
   "metadata": {
    "collapsed": false,
    "ExecuteTime": {
     "end_time": "2024-03-01T12:58:16.775664Z",
     "start_time": "2024-03-01T12:58:16.769681900Z"
    }
   },
   "id": "d648f78a67894d5f"
  },
  {
   "cell_type": "code",
   "execution_count": 63,
   "outputs": [],
   "source": [
    "def get_file_names(wab_type, data1, data2):\n",
    "    ids = get_participants_files(wab_type, data1, data2)\n",
    "    brocas = [] # to check for missing data\n",
    "    filenames = [] # to keep track of file names\n",
    "    \n",
    "    lower_ids = [x.lower() for x in ids]\n",
    "    \n",
    "    data_dir = str(pathlib.Path().resolve()) + \"\\\\data\\\\data_pwa\\\\\"\n",
    "    # print(data_dir)\n",
    "    \n",
    "    for subdir, dirs, files in os.walk(data_dir):\n",
    "        for file in files:\n",
    "            i = file.replace(\".cha\",\"\")\n",
    "            dirname = os.path.basename(subdir).lower()\n",
    " \n",
    "            # each naming convention is different\n",
    "            if (dirname == \"fridriksson-2\" or dirname == \"umd\") and dirname + '-' + i.lower() in lower_ids:\n",
    "                brocas.append(dirname + '-' + i)\n",
    "                filenames.append(file)\n",
    "            \n",
    "            if i.lower() in lower_ids:\n",
    "                brocas.append(i)\n",
    "                filenames.append(file)\n",
    "            if dirname+i.lower() in lower_ids:\n",
    "                brocas.append(dirname+i)\n",
    "                filenames.append(file)\n",
    "    print(f\"Found datafiles: {len(brocas)}\")\n",
    "    print(f\"Actual datafiles in excel: {len(ids)}\")\n",
    "    \n",
    "    lower_brocas= [x.lower() for x in brocas]\n",
    "    \n",
    "    print(f\"Missing datafiles: {set(lower_ids) - set(lower_brocas)}\")\n",
    "    # missing data\n",
    "    print(f\"Number of missing datafiles: {len(set(lower_ids) - set(lower_brocas))}\")\n",
    "    \n",
    "    return filenames"
   ],
   "metadata": {
    "collapsed": false,
    "ExecuteTime": {
     "end_time": "2024-03-01T13:35:57.031358900Z",
     "start_time": "2024-03-01T13:35:57.005814100Z"
    }
   },
   "id": "25a59ba165e698a5"
  },
  {
   "cell_type": "code",
   "execution_count": 68,
   "outputs": [
    {
     "name": "stdout",
     "output_type": "stream",
     "text": [
      "WAB:  Wernicke\n",
      "Found datafiles: 47\n",
      "Actual datafiles in excel: 61\n",
      "Missing datafiles: {'fridriksson-2-1089-larc', 'fridriksson-2-1047-6', 'fridriksson-2-1047-1', 'fridriksson-2-1047-larc', 'fridriksson-2-1047-2', 'fridriksson-2-1089-6', 'fridriksson-2-1089-3', 'fridriksson-2-1089-1', 'fridriksson-2-1047-4', 'fridriksson-2-1047-3', 'fridriksson-2-1047-5', 'fridriksson-2-1089-5', 'fridriksson-2-1089-2', 'fridriksson-2-1089-4'}\n",
      "Number of missing datafiles: 14\n",
      "------------------\n",
      "WAB:  TransSensory\n",
      "Found datafiles: 2\n",
      "Actual datafiles in excel: 2\n",
      "Missing datafiles: set()\n",
      "Number of missing datafiles: 0\n",
      "------------------\n",
      "WAB:  Conduction\n",
      "Found datafiles: 99\n",
      "Actual datafiles in excel: 151\n",
      "Missing datafiles: {'fridriksson-2-1045-larc', 'fridriksson-2-1041-6', 'fridriksson-2-1060-6', 'fridriksson-2-1045-6', 'fridriksson-2-1110-3', 'neural55-2', 'fridriksson-2-1034-3', 'fridriksson-2-1034-2', 'fridriksson-2-1060-5', 'fridriksson-2-1077-3', 'fridriksson-2-1056-4', 'fridriksson-2-1110-larc', 'fridriksson-2-1110-2', 'fridriksson-2-1060-larc', 'fridriksson-2-1060-1', 'fridriksson-2-1056-3', 'fridriksson-2-1056-2', 'fridriksson-2-1041-4', 'fridriksson-2-1041-2', 'fridriksson-2-1034-5', 'fridriksson-2-1060-4', 'fridriksson-2-1060-3', 'fridriksson-2-1034-larc', 'fridriksson-2-1045-5', 'fridriksson-2-1077-2', 'fridriksson-2-1034-1', 'fridriksson-2-1056-6', 'fridriksson-2-1034-6', 'fridriksson-2-1114-larc', 'fridriksson-2-1079-larc', 'fridriksson-2-1077-larc', 'fridriksson-2-1056-larc', 'fridriksson-2-1041-3', 'fridriksson-2-1077-1', 'fridriksson-2-1034-4', 'fridriksson-2-1045-3', 'fridriksson-2-1077-5', 'fridriksson-2-1060-2', 'fridriksson-2-1110-4', 'fridriksson-2-1077-4', 'fridriksson-2-1056-1', 'fridriksson-2-1045-1', 'fridriksson-2-1045-4', 'fridriksson-2-1041-larc', 'fridriksson-2-1110-1', 'fridriksson-2-1077-6', 'fridriksson-2-1056-5', 'fridriksson-2-1110-5', 'fridriksson-2-1041-5', 'fridriksson-2-1110-6', 'fridriksson-2-1045-2', 'fridriksson-2-1041-1'}\n",
      "Number of missing datafiles: 52\n",
      "------------------\n",
      "WAB:  Anomic\n",
      "Found datafiles: 198\n",
      "Actual datafiles in excel: 262\n",
      "Missing datafiles: {'fridriksson-2-1026-6', 'fridriksson-2-1029-1', 'fridriksson-2-1033-2', 'fridriksson-2-1093-2', 'fridriksson-2-1093-larc', 'fridriksson-2-1059-3', 'fridriksson-2-1065-4', 'fridriksson-2-1026-larc', 'fridriksson-2-1029-4', 'fridriksson-2-1084-1', 'fridriksson-2-1059-1', 'fridriksson-2-1046-larc', 'fridriksson-2-1059-2', 'fridriksson-2-1084-6', 'fridriksson-2-1084-3', 'fridriksson-2-1059-5', 'fridriksson-2-1026-2', 'fridriksson-2-1084-4', 'fridriksson-2-1026-4', 'fridriksson-2-1033-larc', 'fridriksson-2-1104-2', 'fridriksson-2-1059-larc', 'fridriksson-2-1104-larc', 'fridriksson-2-1026-1', 'fridriksson-2-1059-6', 'fridriksson-2-1029-2', 'fridriksson-2-1046-5', 'fridriksson-2-1104-5', 'fridriksson-2-1033-6', 'fridriksson-2-1065-5', 'fridriksson-2-1084-larc', 'fridriksson-2-1104-4', 'fridriksson-2-1069-larc', 'fridriksson-2-1113-larc', 'fridriksson-2-1093-5', 'fridriksson-2-1033-5', 'fridriksson-2-1065-6', 'fridriksson-2-1029-6', 'fridriksson-2-1026-3', 'fridriksson-2-1104-1', 'fridriksson-2-1033-4', 'fridriksson-2-1033-3', 'fridriksson-2-1093-6', 'fridriksson-2-1029-3', 'fridriksson-2-1065-larc', 'fridriksson-2-1109-larc', 'fridriksson-2-1084-5', 'fridriksson-2-1046-3', 'fridriksson-2-1029-larc', 'fridriksson-2-1104-6', 'fridriksson-2-1033-1', 'fridriksson-2-1029-5', 'fridriksson-2-1026-5', 'fridriksson-2-1046-2', 'fridriksson-2-1093-3', 'fridriksson-2-1046-1', 'fridriksson-2-1059-4', 'fridriksson-2-1104-3', 'fridriksson-2-1046-4', 'fridriksson-2-1093-1', 'fridriksson-2-1049-larc', 'fridriksson-2-1046-6', 'fridriksson-2-1093-4', 'fridriksson-2-1084-2'}\n",
      "Number of missing datafiles: 64\n",
      "------------------\n",
      "WAB:  Anomic \n",
      "Found datafiles: 4\n",
      "Actual datafiles in excel: 4\n",
      "Missing datafiles: set()\n",
      "Number of missing datafiles: 0\n",
      "------------------\n"
     ]
    }
   ],
   "source": [
    "WAB = [\"Wernicke\", \"TransSensory\", \"Conduction\", \"Anomic\", \"Anomic \"] \n",
    "fname = [\"wernicke_fname.csv\", \"transsensory_fname.csv\", \"conduction_fname.csv\", \"anomic_fname.csv\", \"anomic1_fname.csv\"]\n",
    "\n",
    "for type, file in zip(WAB, fname):\n",
    "    print(\"WAB: \", type)\n",
    "    filenames = get_file_names(type, df, df1)\n",
    "    print(\"------------------\")\n",
    "    aphasia = pd.DataFrame(filenames).T\n",
    "    aphasia.to_csv(\"data/\"+file, index=False, header=False)"
   ],
   "metadata": {
    "collapsed": false,
    "ExecuteTime": {
     "end_time": "2024-03-01T13:42:27.141706100Z",
     "start_time": "2024-03-01T13:42:27.080396700Z"
    }
   },
   "id": "efa10012c61a45bc"
  },
  {
   "cell_type": "code",
   "execution_count": 64,
   "outputs": [
    {
     "name": "stdout",
     "output_type": "stream",
     "text": [
      "Found datafiles: 174\n",
      "Actual datafiles in excel: 326\n",
      "Missing datafiles: {'fridriksson-2-1101-4', 'fridriksson-2-1095-5', 'fridriksson-2-1010-4', 'fridriksson-2-1012-2', 'fridriksson-2-1053-larc', 'fridriksson-2-1063-larc', 'fridriksson-2-1053-6', 'fridriksson-2-1036-3', 'fridriksson-2-1053-2', 'fridriksson-2-1064-1', 'fridriksson-2-1101-larc', 'fridriksson-2-1106-6', 'fridriksson-2-1064-2', 'fridriksson-2-1067-4', 'fridriksson-2-1067-6', 'fridriksson-2-1064-6', 'fridriksson-2-1062-2', 'fridriksson-2-1010-5', 'fridriksson-2-1095-3', 'fridriksson-2-1101-3', 'fridriksson-2-1112-larc', 'fridriksson-2-1080-1', 'fridriksson-2-1096-6', 'fridriksson-2-1010-3', 'fridriksson-2-1010-6', 'fridriksson-2-1039-3', 'fridriksson-2-1010-2', 'fridriksson-2-1095-larc', 'fridriksson-2-1070-6', 'fridriksson-2-1070-3', 'fridriksson-2-1080-3', 'fridriksson-1-1011-1', 'fridriksson-2-1036-2', 'umd-mma21a', 'fridriksson-2-1062-4', 'fridriksson-2-1072-larc', 'fridriksson-2-1106-1', 'fridriksson-2-1067-3', 'fridriksson-2-1064-3', 'fridriksson-2-1063-6', 'fridriksson-2-1016-2', 'fridriksson-2-1106-4', 'fridriksson-2-1010-larc', 'fridriksson-2-1064-larc', 'fridriksson-2-1063-1', 'fridriksson-2-1070-larc', 'fridriksson-2-1095-2', 'fridriksson-2-1070-2', 'fridriksson-2-1096-3', 'fridriksson-2-1016-6', 'fridriksson-2-1080-4', 'fridriksson-2-1063-4', 'fridriksson-2-1012-larc', 'fridriksson-2-1096-5', 'umd-mma18a', 'fridriksson-2-1101-5', 'fridriksson-2-1067-1', 'fridriksson-2-1070-1', 'fridriksson-2-1063-3', 'fridriksson-2-1050-4', 'fridriksson-2-1095-1', 'fridriksson-2-1016-1', 'fridriksson-2-1082-4', 'fridriksson-2-1062-1', 'fridriksson-2-1064-5', 'fridriksson-2-1106-2', 'fridriksson-2-1015-3', 'fridriksson-2-1036-5', 'fridriksson-2-1012-4', 'fridriksson-2-1080-5', 'fridriksson-2-1015-5', 'fridriksson-2-1102-4', 'fridriksson-2-1102-1', 'fridriksson-2-1101-2', 'fridriksson-2-1053-4', 'fridriksson-2-1036-4', 'fridriksson-2-1015-6', 'fridriksson-2-1080-larc', 'fridriksson-2-1096-2', 'fridriksson-2-1016-4', 'fridriksson-2-1096-larc', 'fridriksson-2-1067-larc', 'fridriksson-2-1096-4', 'fridriksson-2-1039-4', 'fridriksson-2-1012-5', 'fridriksson-2-1050-6', 'fridriksson-2-1036-larc', 'fridriksson-2-1063-2', 'fridriksson-2-1050-larc', 'fridriksson-2-1015-larc', 'fridriksson-2-1108-larc', 'fridriksson-2-1039-larc', 'fridriksson-2-1050-1', 'fridriksson-2-1012-6', 'fridriksson-2-1106-larc', 'fridriksson-2-1016-3', 'fridriksson-2-1053-1', 'fridriksson-2-1080-6', 'fridriksson-2-1036-1', 'fridriksson-2-1015-4', 'fridriksson-2-1106-5', 'fridriksson-2-1080-2', 'fridriksson-2-1063-5', 'fridriksson-2-1062-6', 'fridriksson-2-1070-4', 'fridriksson-2-1095-6', 'fridriksson-2-1072-4', 'fridriksson-2-1102-5', 'fridriksson-2-1050-3', 'fridriksson-2-1050-2', 'fridriksson-2-1039-2', 'fridriksson-2-1053-5', 'fridriksson-2-1050-5', 'fridriksson-2-1039-1', 'fridriksson-2-1070-5', 'fridriksson-2-1082-1', 'fridriksson-2-1015-1', 'fridriksson-2-1067-2', 'fridriksson-2-1039-6', 'fridriksson-2-1072-5', 'fridriksson-2-1082-larc', 'fridriksson-2-1036-6', 'fridriksson-2-1082-2', 'fridriksson-2-1053-3', 'fridriksson-2-1072-2', 'fridriksson-2-1102-3', 'fridriksson-2-1082-3', 'fridriksson-2-1016-larc', 'fridriksson-2-1012-1', 'fridriksson-2-1102-6', 'fridriksson-2-1062-larc', 'fridriksson-2-1072-3', 'fridriksson-2-1067-5', 'fridriksson-2-1062-3', 'fridriksson-2-1039-5', 'fridriksson-2-1102-larc', 'fridriksson-2-1101-6', 'fridriksson-2-1082-5', 'fridriksson-2-1096-1', 'fridriksson-2-1016-5', 'fridriksson-2-1106-3', 'fridriksson-2-1015-2', 'fridriksson-2-1072-6', 'fridriksson-2-1012-3', 'fridriksson-2-1102-2', 'fridriksson-2-1095-4', 'fridriksson-2-1010-1', 'fridriksson-2-1072-1', 'fridriksson-2-1064-4', 'fridriksson-2-1062-5', 'fridriksson-2-1101-1', 'fridriksson-2-1082-6'}\n",
      "Number of missing datafiles: 152\n"
     ]
    }
   ],
   "source": [
    "WAB = \"Broca\" \n",
    "fname = \"broca_fname.csv\"\n",
    "\n",
    "filenames = get_file_names(WAB,df, df1)\n",
    "\n",
    "file_broca = pd.DataFrame(filenames).T\n",
    "file_broca.to_csv(fname, index=False, header=False)"
   ],
   "metadata": {
    "collapsed": false,
    "ExecuteTime": {
     "end_time": "2024-03-01T13:36:17.946808400Z",
     "start_time": "2024-03-01T13:36:17.899690200Z"
    }
   },
   "id": "5c49787974fb22b5"
  },
  {
   "cell_type": "markdown",
   "source": [
    "# 3) Getting the data preprocessed\n",
    "#### Run setup_dataframe.py and then preprocessing_edited.py"
   ],
   "metadata": {
    "collapsed": false
   },
   "id": "ec71108728255bd5"
  },
  {
   "cell_type": "markdown",
   "source": [
    "# 4) Section the preprocessed data into scenarios (merge sentences) and combine broca data and control data"
   ],
   "metadata": {
    "collapsed": false
   },
   "id": "28395e90730650f6"
  },
  {
   "cell_type": "code",
   "execution_count": 20,
   "outputs": [
    {
     "ename": "FileNotFoundError",
     "evalue": "[Errno 2] No such file or directory: 'data_broca_preprocessed.csv'",
     "output_type": "error",
     "traceback": [
      "\u001B[1;31m---------------------------------------------------------------------------\u001B[0m",
      "\u001B[1;31mFileNotFoundError\u001B[0m                         Traceback (most recent call last)",
      "Cell \u001B[1;32mIn[20], line 4\u001B[0m\n\u001B[0;32m      1\u001B[0m broca_fname \u001B[38;5;241m=\u001B[39m \u001B[38;5;124m\"\u001B[39m\u001B[38;5;124mdata_broca_preprocessed.csv\u001B[39m\u001B[38;5;124m\"\u001B[39m\n\u001B[0;32m      2\u001B[0m control_fname \u001B[38;5;241m=\u001B[39m \u001B[38;5;124m\"\u001B[39m\u001B[38;5;124mdata_control_preprocessed.csv\u001B[39m\u001B[38;5;124m\"\u001B[39m\n\u001B[1;32m----> 4\u001B[0m broca_data \u001B[38;5;241m=\u001B[39m \u001B[43mpd\u001B[49m\u001B[38;5;241;43m.\u001B[39;49m\u001B[43mread_csv\u001B[49m\u001B[43m(\u001B[49m\u001B[43mbroca_fname\u001B[49m\u001B[43m)\u001B[49m\u001B[38;5;241m.\u001B[39mdropna()\n\u001B[0;32m      5\u001B[0m control_data \u001B[38;5;241m=\u001B[39m pd\u001B[38;5;241m.\u001B[39mread_csv(control_fname, encoding\u001B[38;5;241m=\u001B[39m\u001B[38;5;124m'\u001B[39m\u001B[38;5;124mutf8\u001B[39m\u001B[38;5;124m'\u001B[39m)\u001B[38;5;241m.\u001B[39mdropna()\n",
      "File \u001B[1;32m~\\miniconda3\\envs\\thesis\\lib\\site-packages\\pandas\\io\\parsers\\readers.py:948\u001B[0m, in \u001B[0;36mread_csv\u001B[1;34m(filepath_or_buffer, sep, delimiter, header, names, index_col, usecols, dtype, engine, converters, true_values, false_values, skipinitialspace, skiprows, skipfooter, nrows, na_values, keep_default_na, na_filter, verbose, skip_blank_lines, parse_dates, infer_datetime_format, keep_date_col, date_parser, date_format, dayfirst, cache_dates, iterator, chunksize, compression, thousands, decimal, lineterminator, quotechar, quoting, doublequote, escapechar, comment, encoding, encoding_errors, dialect, on_bad_lines, delim_whitespace, low_memory, memory_map, float_precision, storage_options, dtype_backend)\u001B[0m\n\u001B[0;32m    935\u001B[0m kwds_defaults \u001B[38;5;241m=\u001B[39m _refine_defaults_read(\n\u001B[0;32m    936\u001B[0m     dialect,\n\u001B[0;32m    937\u001B[0m     delimiter,\n\u001B[1;32m   (...)\u001B[0m\n\u001B[0;32m    944\u001B[0m     dtype_backend\u001B[38;5;241m=\u001B[39mdtype_backend,\n\u001B[0;32m    945\u001B[0m )\n\u001B[0;32m    946\u001B[0m kwds\u001B[38;5;241m.\u001B[39mupdate(kwds_defaults)\n\u001B[1;32m--> 948\u001B[0m \u001B[38;5;28;01mreturn\u001B[39;00m \u001B[43m_read\u001B[49m\u001B[43m(\u001B[49m\u001B[43mfilepath_or_buffer\u001B[49m\u001B[43m,\u001B[49m\u001B[43m \u001B[49m\u001B[43mkwds\u001B[49m\u001B[43m)\u001B[49m\n",
      "File \u001B[1;32m~\\miniconda3\\envs\\thesis\\lib\\site-packages\\pandas\\io\\parsers\\readers.py:611\u001B[0m, in \u001B[0;36m_read\u001B[1;34m(filepath_or_buffer, kwds)\u001B[0m\n\u001B[0;32m    608\u001B[0m _validate_names(kwds\u001B[38;5;241m.\u001B[39mget(\u001B[38;5;124m\"\u001B[39m\u001B[38;5;124mnames\u001B[39m\u001B[38;5;124m\"\u001B[39m, \u001B[38;5;28;01mNone\u001B[39;00m))\n\u001B[0;32m    610\u001B[0m \u001B[38;5;66;03m# Create the parser.\u001B[39;00m\n\u001B[1;32m--> 611\u001B[0m parser \u001B[38;5;241m=\u001B[39m TextFileReader(filepath_or_buffer, \u001B[38;5;241m*\u001B[39m\u001B[38;5;241m*\u001B[39mkwds)\n\u001B[0;32m    613\u001B[0m \u001B[38;5;28;01mif\u001B[39;00m chunksize \u001B[38;5;129;01mor\u001B[39;00m iterator:\n\u001B[0;32m    614\u001B[0m     \u001B[38;5;28;01mreturn\u001B[39;00m parser\n",
      "File \u001B[1;32m~\\miniconda3\\envs\\thesis\\lib\\site-packages\\pandas\\io\\parsers\\readers.py:1448\u001B[0m, in \u001B[0;36mTextFileReader.__init__\u001B[1;34m(self, f, engine, **kwds)\u001B[0m\n\u001B[0;32m   1445\u001B[0m     \u001B[38;5;28mself\u001B[39m\u001B[38;5;241m.\u001B[39moptions[\u001B[38;5;124m\"\u001B[39m\u001B[38;5;124mhas_index_names\u001B[39m\u001B[38;5;124m\"\u001B[39m] \u001B[38;5;241m=\u001B[39m kwds[\u001B[38;5;124m\"\u001B[39m\u001B[38;5;124mhas_index_names\u001B[39m\u001B[38;5;124m\"\u001B[39m]\n\u001B[0;32m   1447\u001B[0m \u001B[38;5;28mself\u001B[39m\u001B[38;5;241m.\u001B[39mhandles: IOHandles \u001B[38;5;241m|\u001B[39m \u001B[38;5;28;01mNone\u001B[39;00m \u001B[38;5;241m=\u001B[39m \u001B[38;5;28;01mNone\u001B[39;00m\n\u001B[1;32m-> 1448\u001B[0m \u001B[38;5;28mself\u001B[39m\u001B[38;5;241m.\u001B[39m_engine \u001B[38;5;241m=\u001B[39m \u001B[38;5;28;43mself\u001B[39;49m\u001B[38;5;241;43m.\u001B[39;49m\u001B[43m_make_engine\u001B[49m\u001B[43m(\u001B[49m\u001B[43mf\u001B[49m\u001B[43m,\u001B[49m\u001B[43m \u001B[49m\u001B[38;5;28;43mself\u001B[39;49m\u001B[38;5;241;43m.\u001B[39;49m\u001B[43mengine\u001B[49m\u001B[43m)\u001B[49m\n",
      "File \u001B[1;32m~\\miniconda3\\envs\\thesis\\lib\\site-packages\\pandas\\io\\parsers\\readers.py:1705\u001B[0m, in \u001B[0;36mTextFileReader._make_engine\u001B[1;34m(self, f, engine)\u001B[0m\n\u001B[0;32m   1703\u001B[0m     \u001B[38;5;28;01mif\u001B[39;00m \u001B[38;5;124m\"\u001B[39m\u001B[38;5;124mb\u001B[39m\u001B[38;5;124m\"\u001B[39m \u001B[38;5;129;01mnot\u001B[39;00m \u001B[38;5;129;01min\u001B[39;00m mode:\n\u001B[0;32m   1704\u001B[0m         mode \u001B[38;5;241m+\u001B[39m\u001B[38;5;241m=\u001B[39m \u001B[38;5;124m\"\u001B[39m\u001B[38;5;124mb\u001B[39m\u001B[38;5;124m\"\u001B[39m\n\u001B[1;32m-> 1705\u001B[0m \u001B[38;5;28mself\u001B[39m\u001B[38;5;241m.\u001B[39mhandles \u001B[38;5;241m=\u001B[39m \u001B[43mget_handle\u001B[49m\u001B[43m(\u001B[49m\n\u001B[0;32m   1706\u001B[0m \u001B[43m    \u001B[49m\u001B[43mf\u001B[49m\u001B[43m,\u001B[49m\n\u001B[0;32m   1707\u001B[0m \u001B[43m    \u001B[49m\u001B[43mmode\u001B[49m\u001B[43m,\u001B[49m\n\u001B[0;32m   1708\u001B[0m \u001B[43m    \u001B[49m\u001B[43mencoding\u001B[49m\u001B[38;5;241;43m=\u001B[39;49m\u001B[38;5;28;43mself\u001B[39;49m\u001B[38;5;241;43m.\u001B[39;49m\u001B[43moptions\u001B[49m\u001B[38;5;241;43m.\u001B[39;49m\u001B[43mget\u001B[49m\u001B[43m(\u001B[49m\u001B[38;5;124;43m\"\u001B[39;49m\u001B[38;5;124;43mencoding\u001B[39;49m\u001B[38;5;124;43m\"\u001B[39;49m\u001B[43m,\u001B[49m\u001B[43m \u001B[49m\u001B[38;5;28;43;01mNone\u001B[39;49;00m\u001B[43m)\u001B[49m\u001B[43m,\u001B[49m\n\u001B[0;32m   1709\u001B[0m \u001B[43m    \u001B[49m\u001B[43mcompression\u001B[49m\u001B[38;5;241;43m=\u001B[39;49m\u001B[38;5;28;43mself\u001B[39;49m\u001B[38;5;241;43m.\u001B[39;49m\u001B[43moptions\u001B[49m\u001B[38;5;241;43m.\u001B[39;49m\u001B[43mget\u001B[49m\u001B[43m(\u001B[49m\u001B[38;5;124;43m\"\u001B[39;49m\u001B[38;5;124;43mcompression\u001B[39;49m\u001B[38;5;124;43m\"\u001B[39;49m\u001B[43m,\u001B[49m\u001B[43m \u001B[49m\u001B[38;5;28;43;01mNone\u001B[39;49;00m\u001B[43m)\u001B[49m\u001B[43m,\u001B[49m\n\u001B[0;32m   1710\u001B[0m \u001B[43m    \u001B[49m\u001B[43mmemory_map\u001B[49m\u001B[38;5;241;43m=\u001B[39;49m\u001B[38;5;28;43mself\u001B[39;49m\u001B[38;5;241;43m.\u001B[39;49m\u001B[43moptions\u001B[49m\u001B[38;5;241;43m.\u001B[39;49m\u001B[43mget\u001B[49m\u001B[43m(\u001B[49m\u001B[38;5;124;43m\"\u001B[39;49m\u001B[38;5;124;43mmemory_map\u001B[39;49m\u001B[38;5;124;43m\"\u001B[39;49m\u001B[43m,\u001B[49m\u001B[43m \u001B[49m\u001B[38;5;28;43;01mFalse\u001B[39;49;00m\u001B[43m)\u001B[49m\u001B[43m,\u001B[49m\n\u001B[0;32m   1711\u001B[0m \u001B[43m    \u001B[49m\u001B[43mis_text\u001B[49m\u001B[38;5;241;43m=\u001B[39;49m\u001B[43mis_text\u001B[49m\u001B[43m,\u001B[49m\n\u001B[0;32m   1712\u001B[0m \u001B[43m    \u001B[49m\u001B[43merrors\u001B[49m\u001B[38;5;241;43m=\u001B[39;49m\u001B[38;5;28;43mself\u001B[39;49m\u001B[38;5;241;43m.\u001B[39;49m\u001B[43moptions\u001B[49m\u001B[38;5;241;43m.\u001B[39;49m\u001B[43mget\u001B[49m\u001B[43m(\u001B[49m\u001B[38;5;124;43m\"\u001B[39;49m\u001B[38;5;124;43mencoding_errors\u001B[39;49m\u001B[38;5;124;43m\"\u001B[39;49m\u001B[43m,\u001B[49m\u001B[43m \u001B[49m\u001B[38;5;124;43m\"\u001B[39;49m\u001B[38;5;124;43mstrict\u001B[39;49m\u001B[38;5;124;43m\"\u001B[39;49m\u001B[43m)\u001B[49m\u001B[43m,\u001B[49m\n\u001B[0;32m   1713\u001B[0m \u001B[43m    \u001B[49m\u001B[43mstorage_options\u001B[49m\u001B[38;5;241;43m=\u001B[39;49m\u001B[38;5;28;43mself\u001B[39;49m\u001B[38;5;241;43m.\u001B[39;49m\u001B[43moptions\u001B[49m\u001B[38;5;241;43m.\u001B[39;49m\u001B[43mget\u001B[49m\u001B[43m(\u001B[49m\u001B[38;5;124;43m\"\u001B[39;49m\u001B[38;5;124;43mstorage_options\u001B[39;49m\u001B[38;5;124;43m\"\u001B[39;49m\u001B[43m,\u001B[49m\u001B[43m \u001B[49m\u001B[38;5;28;43;01mNone\u001B[39;49;00m\u001B[43m)\u001B[49m\u001B[43m,\u001B[49m\n\u001B[0;32m   1714\u001B[0m \u001B[43m\u001B[49m\u001B[43m)\u001B[49m\n\u001B[0;32m   1715\u001B[0m \u001B[38;5;28;01massert\u001B[39;00m \u001B[38;5;28mself\u001B[39m\u001B[38;5;241m.\u001B[39mhandles \u001B[38;5;129;01mis\u001B[39;00m \u001B[38;5;129;01mnot\u001B[39;00m \u001B[38;5;28;01mNone\u001B[39;00m\n\u001B[0;32m   1716\u001B[0m f \u001B[38;5;241m=\u001B[39m \u001B[38;5;28mself\u001B[39m\u001B[38;5;241m.\u001B[39mhandles\u001B[38;5;241m.\u001B[39mhandle\n",
      "File \u001B[1;32m~\\miniconda3\\envs\\thesis\\lib\\site-packages\\pandas\\io\\common.py:863\u001B[0m, in \u001B[0;36mget_handle\u001B[1;34m(path_or_buf, mode, encoding, compression, memory_map, is_text, errors, storage_options)\u001B[0m\n\u001B[0;32m    858\u001B[0m \u001B[38;5;28;01melif\u001B[39;00m \u001B[38;5;28misinstance\u001B[39m(handle, \u001B[38;5;28mstr\u001B[39m):\n\u001B[0;32m    859\u001B[0m     \u001B[38;5;66;03m# Check whether the filename is to be opened in binary mode.\u001B[39;00m\n\u001B[0;32m    860\u001B[0m     \u001B[38;5;66;03m# Binary mode does not support 'encoding' and 'newline'.\u001B[39;00m\n\u001B[0;32m    861\u001B[0m     \u001B[38;5;28;01mif\u001B[39;00m ioargs\u001B[38;5;241m.\u001B[39mencoding \u001B[38;5;129;01mand\u001B[39;00m \u001B[38;5;124m\"\u001B[39m\u001B[38;5;124mb\u001B[39m\u001B[38;5;124m\"\u001B[39m \u001B[38;5;129;01mnot\u001B[39;00m \u001B[38;5;129;01min\u001B[39;00m ioargs\u001B[38;5;241m.\u001B[39mmode:\n\u001B[0;32m    862\u001B[0m         \u001B[38;5;66;03m# Encoding\u001B[39;00m\n\u001B[1;32m--> 863\u001B[0m         handle \u001B[38;5;241m=\u001B[39m \u001B[38;5;28;43mopen\u001B[39;49m\u001B[43m(\u001B[49m\n\u001B[0;32m    864\u001B[0m \u001B[43m            \u001B[49m\u001B[43mhandle\u001B[49m\u001B[43m,\u001B[49m\n\u001B[0;32m    865\u001B[0m \u001B[43m            \u001B[49m\u001B[43mioargs\u001B[49m\u001B[38;5;241;43m.\u001B[39;49m\u001B[43mmode\u001B[49m\u001B[43m,\u001B[49m\n\u001B[0;32m    866\u001B[0m \u001B[43m            \u001B[49m\u001B[43mencoding\u001B[49m\u001B[38;5;241;43m=\u001B[39;49m\u001B[43mioargs\u001B[49m\u001B[38;5;241;43m.\u001B[39;49m\u001B[43mencoding\u001B[49m\u001B[43m,\u001B[49m\n\u001B[0;32m    867\u001B[0m \u001B[43m            \u001B[49m\u001B[43merrors\u001B[49m\u001B[38;5;241;43m=\u001B[39;49m\u001B[43merrors\u001B[49m\u001B[43m,\u001B[49m\n\u001B[0;32m    868\u001B[0m \u001B[43m            \u001B[49m\u001B[43mnewline\u001B[49m\u001B[38;5;241;43m=\u001B[39;49m\u001B[38;5;124;43m\"\u001B[39;49m\u001B[38;5;124;43m\"\u001B[39;49m\u001B[43m,\u001B[49m\n\u001B[0;32m    869\u001B[0m \u001B[43m        \u001B[49m\u001B[43m)\u001B[49m\n\u001B[0;32m    870\u001B[0m     \u001B[38;5;28;01melse\u001B[39;00m:\n\u001B[0;32m    871\u001B[0m         \u001B[38;5;66;03m# Binary mode\u001B[39;00m\n\u001B[0;32m    872\u001B[0m         handle \u001B[38;5;241m=\u001B[39m \u001B[38;5;28mopen\u001B[39m(handle, ioargs\u001B[38;5;241m.\u001B[39mmode)\n",
      "\u001B[1;31mFileNotFoundError\u001B[0m: [Errno 2] No such file or directory: 'data_broca_preprocessed.csv'"
     ]
    }
   ],
   "source": [
    "broca_fname = \"data_broca_preprocessed.csv\"\n",
    "control_fname = \"data_control_preprocessed.csv\"\n",
    "\n",
    "broca_data = pd.read_csv(broca_fname).dropna()\n",
    "control_data = pd.read_csv(control_fname, encoding='utf8').dropna()"
   ],
   "metadata": {
    "collapsed": false,
    "ExecuteTime": {
     "end_time": "2024-02-26T12:29:31.663036500Z",
     "start_time": "2024-02-26T12:29:31.248282700Z"
    }
   },
   "id": "2198c4e5c897592a"
  },
  {
   "cell_type": "code",
   "execution_count": null,
   "outputs": [],
   "source": [
    "broca_patients = len(broca_data[\"source_file\"].unique())\n",
    "control = len(control_data[\"source_file\"].unique())\n",
    "print(f\"Brocas patients: {broca_patients}, control: {control}\")"
   ],
   "metadata": {
    "collapsed": false,
    "ExecuteTime": {
     "end_time": "2024-02-26T12:29:31.663036500Z",
     "start_time": "2024-02-26T12:29:31.663036500Z"
    }
   },
   "id": "fe34f7b41875fe58"
  },
  {
   "cell_type": "code",
   "execution_count": null,
   "outputs": [],
   "source": [
    "def merge_scenario(data, label):\n",
    "    columns = ['source_file', 'scenario', 'text', 'label']\n",
    "    new_data = [] # pd.DataFrame(columns=columns)\n",
    "    text = \"\"\n",
    "\n",
    "    for index, row in data.iterrows():\n",
    "        # print(f\"index : {index}, scenario {row['scenario']}\")\n",
    "        if index == 0:\n",
    "            prev_scenario = row[\"scenario\"] \n",
    "            prev_sourcefile = row[\"source_file\"]\n",
    "        current_scenario = row[\"scenario\"]\n",
    "        current_sourcefile = row[\"source_file\"]\n",
    "        \n",
    "        if current_scenario == prev_scenario and current_sourcefile == prev_sourcefile:\n",
    "            # print(\"same scenario\")\n",
    "            # print(text)\n",
    "            # print()\n",
    "            text += \" \" + row[\"preprocessed_text\"]\n",
    "\n",
    "        else:\n",
    "            # print(\"new scenario\")\n",
    "            # print(text)\n",
    "            # print()\n",
    "            new_data.append([row[\"source_file\"], prev_scenario, re.sub(' +', ' ', text), label])\n",
    "            text = \"\"\n",
    "        \n",
    "        prev_scenario = current_scenario\n",
    "        prev_sourcefile = current_sourcefile\n",
    "        \n",
    "        # if index == 74:\n",
    "        #     break\n",
    "    \n",
    "    return pd.DataFrame(new_data, columns=columns)"
   ],
   "metadata": {
    "collapsed": false,
    "ExecuteTime": {
     "start_time": "2024-02-26T12:29:31.663036500Z"
    }
   },
   "id": "6173bf0706abc0ec"
  },
  {
   "cell_type": "code",
   "execution_count": null,
   "outputs": [],
   "source": [
    "# LABEL 1 FOR BROCA 0 FOR NOT APHASIC, for classifier\n",
    "broca_data_merge = merge_scenario(broca_data, 1)\n",
    "control_data_merge = merge_scenario(control_data, 0)\n",
    "data_full_scenario = pd.concat([broca_data_merge, control_data_merge], ignore_index=True)"
   ],
   "metadata": {
    "collapsed": false,
    "ExecuteTime": {
     "start_time": "2024-02-26T12:29:31.663036500Z"
    }
   },
   "id": "a6797b5f7f950422"
  },
  {
   "cell_type": "code",
   "execution_count": null,
   "outputs": [],
   "source": [
    "# A bit imbalanced?\n",
    "print(len(broca_data_merge))\n",
    "print(len(control_data_merge))"
   ],
   "metadata": {
    "collapsed": false,
    "ExecuteTime": {
     "start_time": "2024-02-26T12:29:31.663036500Z"
    }
   },
   "id": "40436686062cb55a"
  },
  {
   "cell_type": "code",
   "execution_count": null,
   "outputs": [],
   "source": [
    "# shuffle data\n",
    "data_full_scenario = data_full_scenario.sample(frac=1).reset_index(drop=True)"
   ],
   "metadata": {
    "collapsed": false,
    "ExecuteTime": {
     "start_time": "2024-02-26T12:29:31.663036500Z"
    }
   },
   "id": "f27f5ed082700317"
  },
  {
   "cell_type": "code",
   "execution_count": null,
   "outputs": [],
   "source": [
    "data_full_scenario"
   ],
   "metadata": {
    "collapsed": false,
    "ExecuteTime": {
     "start_time": "2024-02-26T12:29:31.663036500Z"
    }
   },
   "id": "31534436777b980a"
  },
  {
   "cell_type": "code",
   "execution_count": null,
   "outputs": [],
   "source": [
    "data_full_scenario.to_csv(\"all_data_processed.csv\")"
   ],
   "metadata": {
    "collapsed": false,
    "ExecuteTime": {
     "start_time": "2024-02-26T12:29:31.663036500Z"
    }
   },
   "id": "d76df8943583e06a"
  },
  {
   "cell_type": "markdown",
   "source": [
    "# 5) Alternative: don't merge scenarios"
   ],
   "metadata": {
    "collapsed": false
   },
   "id": "2e28a9b7d315ff0c"
  },
  {
   "cell_type": "code",
   "execution_count": 73,
   "outputs": [
    {
     "name": "stdout",
     "output_type": "stream",
     "text": [
      "Index(['Unnamed: 0', 'scenario', 'source_file', 'original_text',\n",
      "       'preprocessed_text'],\n",
      "      dtype='object')\n"
     ]
    }
   ],
   "source": [
    "import pandas as pd\n",
    "broca_fname = \"data/preprocessed_broca.csv\"\n",
    "control_fname = \"data/preprocessed_control.csv\"\n",
    "\n",
    "broca_data = pd.read_csv(broca_fname).dropna()\n",
    "control_data = pd.read_csv(control_fname, encoding='utf8').dropna()\n",
    "\n",
    "print(broca_data.columns)\n",
    "broca_data[\"label\"] = 1\n",
    "control_data[\"label\"] = 0\n",
    "\n",
    "data_full_scenario = pd.concat([broca_data, control_data], ignore_index=True)\n",
    "data_full_scenario = data_full_scenario.sample(frac=1).reset_index(drop=True)\n",
    "data_full_scenario[\"preprocessed_text\"] = [x.lstrip().rstrip().lower() for x in data_full_scenario['preprocessed_text']]\n",
    "\n",
    "data_full_scenario.to_csv(\"data/processed_merge.csv\")"
   ],
   "metadata": {
    "collapsed": false,
    "ExecuteTime": {
     "end_time": "2024-03-01T14:23:33.662183500Z",
     "start_time": "2024-03-01T14:23:33.340084800Z"
    }
   },
   "id": "42af01e1ec397412"
  }
 ],
 "metadata": {
  "kernelspec": {
   "display_name": "Python 3",
   "language": "python",
   "name": "python3"
  },
  "language_info": {
   "codemirror_mode": {
    "name": "ipython",
    "version": 2
   },
   "file_extension": ".py",
   "mimetype": "text/x-python",
   "name": "python",
   "nbconvert_exporter": "python",
   "pygments_lexer": "ipython2",
   "version": "2.7.6"
  }
 },
 "nbformat": 4,
 "nbformat_minor": 5
}
