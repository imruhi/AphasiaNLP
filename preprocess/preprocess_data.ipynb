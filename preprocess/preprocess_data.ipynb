{
 "cells": [
  {
   "cell_type": "code",
   "execution_count": 88,
   "id": "initial_id",
   "metadata": {
    "collapsed": true,
    "ExecuteTime": {
     "end_time": "2024-02-03T17:46:27.710145300Z",
     "start_time": "2024-02-03T17:46:27.694510300Z"
    }
   },
   "outputs": [],
   "source": [
    "import pandas as pd\n",
    "import pathlib\n",
    "import os\n",
    "import re"
   ]
  },
  {
   "cell_type": "markdown",
   "source": [
    "# 1) Get all participants from respective datasets"
   ],
   "metadata": {
    "collapsed": false
   },
   "id": "3110c6996fdf22ff"
  },
  {
   "cell_type": "code",
   "execution_count": 55,
   "outputs": [
    {
     "name": "stderr",
     "output_type": "stream",
     "text": [
      "C:\\Users\\imruh\\miniconda3\\envs\\thesis\\lib\\site-packages\\openpyxl\\worksheet\\_read_only.py:79: UserWarning: Unknown extension is not supported and will be removed\n",
      "  for idx, row in parser.parse():\n",
      "C:\\Users\\imruh\\miniconda3\\envs\\thesis\\lib\\site-packages\\openpyxl\\worksheet\\_read_only.py:79: UserWarning: Unknown extension is not supported and will be removed\n",
      "  for idx, row in parser.parse():\n"
     ]
    }
   ],
   "source": [
    "# for both sheets in excel\n",
    "df = pd.read_excel(\"english-results-data.xlsx\", sheet_name=\"Time 1\")\n",
    "df1 = pd.read_excel(\"english-results-data.xlsx\", sheet_name=\"Repeats\")"
   ],
   "metadata": {
    "collapsed": false,
    "ExecuteTime": {
     "end_time": "2024-02-03T17:13:40.958538800Z",
     "start_time": "2024-02-03T17:13:40.429062100Z"
    }
   },
   "id": "4184bdb800f0e125"
  },
  {
   "cell_type": "code",
   "execution_count": 56,
   "outputs": [
    {
     "name": "stdout",
     "output_type": "stream",
     "text": [
      "[nan 'Broca' 'TransMotor' 'not aphasic' 'Conduction' 'Wernicke' 'Anomic'\n",
      " 'TransMotor ' 'U' 'Anomic ' 'Global' 'TransSensory']\n",
      "[nan 'Broca' 'Conduction' 'Anomic' 'Wernicke' 'Global' 'TransMotor' 'U'\n",
      " 'not aphasic' 'TransMotor ' \"Broca's\" 'not aphasic  ']\n"
     ]
    }
   ],
   "source": [
    "print(df[\"WAB Type\"].unique())\n",
    "print(df1[\"WAB Type\"].unique())"
   ],
   "metadata": {
    "collapsed": false,
    "ExecuteTime": {
     "end_time": "2024-02-03T17:13:40.973284900Z",
     "start_time": "2024-02-03T17:13:40.956558700Z"
    }
   },
   "id": "7fdacbe5230707c6"
  },
  {
   "cell_type": "code",
   "execution_count": 57,
   "outputs": [],
   "source": [
    "def get_participants_files(wab_type, data1, data2):\n",
    "    data1 = data1.loc[data1[\"WAB Type\"] == wab_type]\n",
    "    participants = set(data1[\"Participant ID\"])\n",
    "    data2 = data2.loc[data2[\"WAB Type\"] == wab_type]\n",
    "    participants1 = set(data2[\"Participant ID\"])\n",
    "    \n",
    "    participants.update(participants1)\n",
    "    ids = list(participants)\n",
    "    ids.sort(key=str.lower)\n",
    "    return ids"
   ],
   "metadata": {
    "collapsed": false,
    "ExecuteTime": {
     "end_time": "2024-02-03T17:13:41.015311700Z",
     "start_time": "2024-02-03T17:13:40.971793Z"
    }
   },
   "id": "e10a5328b2d31bf4"
  },
  {
   "cell_type": "markdown",
   "source": [
    "# 2) Get file names we are interested in"
   ],
   "metadata": {
    "collapsed": false
   },
   "id": "d648f78a67894d5f"
  },
  {
   "cell_type": "code",
   "execution_count": 58,
   "outputs": [],
   "source": [
    "def get_file_names(wab_type, data1, data2):\n",
    "    ids = get_participants_files(wab_type, data1, data2)\n",
    "    brocas = [] # to check for missing data\n",
    "    filenames = [] # to keep track of file names\n",
    "    \n",
    "    lower_ids = [x.lower() for x in ids]\n",
    "    \n",
    "    data_dir = str(pathlib.Path().resolve()) + \"\\\\data_broca_1\\\\\"\n",
    "    \n",
    "    for subdir, dirs, files in os.walk(data_dir):\n",
    "        for file in files:\n",
    "            i = file.replace(\".cha\",\"\")\n",
    "            dirname = os.path.basename(subdir).lower()\n",
    "            # each naming convention is different\n",
    "            if dirname == \"fridriksson-2\" and dirname + '-' + i in lower_ids:\n",
    "                brocas.append(dirname + '-' + i)\n",
    "                filenames.append(file)\n",
    "            if i.lower() in lower_ids:\n",
    "                brocas.append(i)\n",
    "                filenames.append(file)\n",
    "            if dirname+i.lower() in lower_ids:\n",
    "                brocas.append(dirname+i)\n",
    "                filenames.append(file)\n",
    "    print(f\"Found datafiles: {len(brocas)}\")\n",
    "    print(f\"Actual datafiles in excel: {len(ids)}\")\n",
    "    \n",
    "    lower_brocas= [x.lower() for x in brocas]\n",
    "    \n",
    "    print(f\"Missing datafiles: {set(lower_ids) - set(lower_brocas)}\")\n",
    "    # missing data\n",
    "    print(f\"Number of missing datafiles: {len(set(lower_ids) - set(lower_brocas))}\")\n",
    "    \n",
    "    return filenames"
   ],
   "metadata": {
    "collapsed": false,
    "ExecuteTime": {
     "end_time": "2024-02-03T17:13:41.026453300Z",
     "start_time": "2024-02-03T17:13:40.991162Z"
    }
   },
   "id": "25a59ba165e698a5"
  },
  {
   "cell_type": "code",
   "execution_count": 59,
   "outputs": [
    {
     "name": "stdout",
     "output_type": "stream",
     "text": [
      "Found datafiles: 164\n",
      "Actual datafiles in excel: 326\n",
      "Missing datafiles: {'fridriksson-2-1096-6', 'fridriksson-2-1015-3', 'fridriksson-2-1080-6', 'fridriksson-2-1015-5', 'fridriksson-2-1010-2', 'fridriksson-2-1064-5', 'fridriksson-2-1015-1', 'fridriksson-2-1082-5', 'fridriksson-2-1053-1', 'fridriksson-2-1080-3', 'fridriksson-2-1072-5', 'fridriksson-2-1036-4', 'fridriksson-2-1050-1', 'fridriksson-2-1012-4', 'umd-mma18a', 'fridriksson-2-1102-larc', 'fridriksson-2-1016-larc', 'fridriksson-2-1096-1', 'fridriksson-2-1064-2', 'fridriksson-2-1062-5', 'fridriksson-2-1096-larc', 'fridriksson-2-1095-larc', 'fridriksson-2-1062-larc', 'fridriksson-2-1064-larc', 'fridriksson-2-1064-1', 'umd-mma08a', 'fridriksson-2-1102-4', 'fridriksson-2-1036-6', 'fridriksson-2-1063-3', 'fridriksson-2-1015-larc', 'fridriksson-2-1106-5', 'fridriksson-2-1008-larc', 'fridriksson-2-1064-4', 'umd-mma14a', 'fridriksson-2-1050-3', 'fridriksson-2-1080-larc', 'fridriksson-2-1016-3', 'fridriksson-2-1102-6', 'fridriksson-2-1067-1', 'fridriksson-2-1039-2', 'fridriksson-2-1102-1', 'fridriksson-2-1070-3', 'fridriksson-2-1036-3', 'fridriksson-2-1012-3', 'fridriksson-2-1095-6', 'fridriksson-2-1080-5', 'fridriksson-2-1080-2', 'fridriksson-2-1012-1', 'fridriksson-2-1012-larc', 'fridriksson-2-1016-6', 'fridriksson-2-1039-4', 'fridriksson-2-1106-4', 'fridriksson-2-1036-larc', 'fridriksson-2-1012-5', 'fridriksson-2-1106-3', 'fridriksson-2-1106-6', 'fridriksson-2-1010-4', 'fridriksson-2-1010-larc', 'fridriksson-2-1112-larc', 'fridriksson-2-1070-5', 'fridriksson-2-1070-1', 'fridriksson-2-1016-1', 'fridriksson-2-1050-larc', 'fridriksson-2-1062-2', 'fridriksson-2-1016-5', 'fridriksson-2-1095-1', 'fridriksson-2-1106-larc', 'fridriksson-2-1095-2', 'fridriksson-2-1067-3', 'fridriksson-2-1053-2', 'fridriksson-2-1053-6', 'fridriksson-2-1101-3', 'fridriksson-2-1080-4', 'fridriksson-2-1101-larc', 'fridriksson-2-1063-5', 'fridriksson-2-1101-6', 'fridriksson-2-1062-3', 'fridriksson-2-1101-4', 'fridriksson-2-1070-6', 'fridriksson-2-1063-larc', 'fridriksson-2-1064-6', 'fridriksson-2-1096-3', 'fridriksson-2-1039-6', 'fridriksson-2-1106-1', 'fridriksson-2-1015-4', 'fridriksson-2-1072-3', 'fridriksson-2-1067-larc', 'fridriksson-2-1095-4', 'fridriksson-2-1062-6', 'fridriksson-2-1012-6', 'fridriksson-2-1096-5', 'fridriksson-2-1102-5', 'fridriksson-2-1050-5', 'fridriksson-2-1010-3', 'fridriksson-2-1096-4', 'fridriksson-2-1036-2', 'fridriksson-2-1010-5', 'fridriksson-2-1063-2', 'fridriksson-2-1067-4', 'fridriksson-2-1082-4', 'fridriksson-2-1108-larc', 'fridriksson-2-1053-5', 'fridriksson-2-1039-5', 'fridriksson-2-1063-1', 'fridriksson-2-1101-1', 'umd-mma15a', 'fridriksson-2-1039-3', 'fridriksson-2-1082-3', 'fridriksson-2-1015-2', 'fridriksson-2-1035-larc', 'fridriksson-2-1010-1', 'fridriksson-2-1095-3', 'fridriksson-2-1106-2', 'fridriksson-2-1072-larc', 'fridriksson-2-1063-6', 'umd-mma10a', 'fridriksson-2-1082-larc', 'fridriksson-2-1062-4', 'fridriksson-2-1053-4', 'fridriksson-2-1080-1', 'fridriksson-2-1039-1', 'fridriksson-2-1070-larc', 'fridriksson-2-1016-2', 'fridriksson-2-1064-3', 'fridriksson-2-1050-6', 'fridriksson-2-1053-larc', 'fridriksson-2-1040-larc', 'fridriksson-2-1016-4', 'fridriksson-2-1062-1', 'fridriksson-2-1082-2', 'fridriksson-2-1050-4', 'fridriksson-2-1072-4', 'fridriksson-2-1102-3', 'fridriksson-2-1072-2', 'fridriksson-2-1053-3', 'fridriksson-2-1067-6', 'fridriksson-2-1015-6', 'umd-mma06a', 'fridriksson-2-1036-1', 'fridriksson-2-1067-2', 'umd-mma21a', 'fridriksson-2-1096-2', 'fridriksson-2-1012-2', 'fridriksson-2-1082-6', 'fridriksson-2-1102-2', 'fridriksson-2-1063-4', 'fridriksson-2-1039-larc', 'fridriksson-2-1010-6', 'fridriksson-2-1030-larc', 'fridriksson-2-1095-5', 'fridriksson-2-1067-5', 'fridriksson-2-1070-4', 'fridriksson-2-1036-5', 'fridriksson-1-1011-1', 'fridriksson-2-1101-5', 'fridriksson-2-1082-1', 'fridriksson-2-1101-2', 'fridriksson-2-1006-larc', 'fridriksson-2-1072-6', 'fridriksson-2-1072-1', 'fridriksson-2-1070-2', 'fridriksson-2-1050-2'}\n",
      "Number of missing datafiles: 162\n"
     ]
    }
   ],
   "source": [
    "WAB = \"Broca\" # not aphasic\n",
    "fname = \"broca_fname.csv\"\n",
    "\n",
    "filenames = get_file_names(WAB,df, df1)\n",
    "\n",
    "df = pd.DataFrame(filenames).T\n",
    "df.to_csv(fname, index=False, header=False)"
   ],
   "metadata": {
    "collapsed": false,
    "ExecuteTime": {
     "end_time": "2024-02-03T17:13:41.034928900Z",
     "start_time": "2024-02-03T17:13:41.003447300Z"
    }
   },
   "id": "5c49787974fb22b5"
  },
  {
   "cell_type": "markdown",
   "source": [
    "# 3) Getting the data preprocessed\n",
    "#### Run setup_dataframe.py and then preprocessing_edited.py"
   ],
   "metadata": {
    "collapsed": false
   },
   "id": "ec71108728255bd5"
  },
  {
   "cell_type": "markdown",
   "source": [
    "# 4) Section the preprocessed data into scenarios (merge sentences) and combine broca data and control data"
   ],
   "metadata": {
    "collapsed": false
   },
   "id": "28395e90730650f6"
  },
  {
   "cell_type": "code",
   "execution_count": 94,
   "outputs": [],
   "source": [
    "broca_fname = \"data_broca_preprocessed.csv\"\n",
    "control_fname = \"data_control_preprocessed.csv\"\n",
    "\n",
    "broca_data = pd.read_csv(broca_fname).dropna()\n",
    "control_data = pd.read_csv(control_fname, encoding='utf8').dropna()"
   ],
   "metadata": {
    "collapsed": false,
    "ExecuteTime": {
     "end_time": "2024-02-03T17:49:01.593966400Z",
     "start_time": "2024-02-03T17:49:01.467220800Z"
    }
   },
   "id": "2198c4e5c897592a"
  },
  {
   "cell_type": "code",
   "execution_count": 101,
   "outputs": [],
   "source": [
    "def merge_scenario(data, label):\n",
    "    columns = ['source_file', 'scenario', 'text', 'label']\n",
    "    new_data = [] # pd.DataFrame(columns=columns)\n",
    "    text = \"\"\n",
    "\n",
    "    for index, row in data.iterrows():\n",
    "        # print(f\"index : {index}, scenario {row['scenario']}\")\n",
    "        if index == 0:\n",
    "            prev_scenario = row[\"scenario\"] \n",
    "            prev_sourcefile = row[\"source_file\"]\n",
    "        current_scenario = row[\"scenario\"]\n",
    "        current_sourcefile = row[\"source_file\"]\n",
    "        \n",
    "        if current_scenario == prev_scenario and current_sourcefile == prev_sourcefile:\n",
    "            # print(\"same scenario\")\n",
    "            # print(text)\n",
    "            # print()\n",
    "            text += \" \" + row[\"preprocessed_text\"]\n",
    "\n",
    "        else:\n",
    "            # print(\"new scenario\")\n",
    "            # print(text)\n",
    "            # print()\n",
    "            new_data.append([row[\"source_file\"], prev_scenario, re.sub(' +', ' ', text), label])\n",
    "            text = \"\"\n",
    "        \n",
    "        prev_scenario = current_scenario\n",
    "        prev_sourcefile = current_sourcefile\n",
    "        \n",
    "        # if index == 74:\n",
    "        #     break\n",
    "    \n",
    "    return pd.DataFrame(new_data, columns=columns)"
   ],
   "metadata": {
    "collapsed": false,
    "ExecuteTime": {
     "end_time": "2024-02-03T17:51:06.854310500Z",
     "start_time": "2024-02-03T17:51:06.840799900Z"
    }
   },
   "id": "6173bf0706abc0ec"
  },
  {
   "cell_type": "code",
   "execution_count": 108,
   "outputs": [],
   "source": [
    "# LABEL 1 FOR BROCA 0 FOR NOT APHASIC, for classifier\n",
    "broca_data_merge = merge_scenario(broca_data, 1)\n",
    "control_data_merge = merge_scenario(control_data, 0)\n",
    "data_full_scenario = pd.concat([broca_data_merge, control_data_merge], ignore_index=True)"
   ],
   "metadata": {
    "collapsed": false,
    "ExecuteTime": {
     "end_time": "2024-02-03T17:53:14.801035800Z",
     "start_time": "2024-02-03T17:53:13.359291200Z"
    }
   },
   "id": "a6797b5f7f950422"
  },
  {
   "cell_type": "code",
   "execution_count": 114,
   "outputs": [
    {
     "name": "stdout",
     "output_type": "stream",
     "text": [
      "1043\n",
      "1990\n"
     ]
    }
   ],
   "source": [
    "# A bit imbalanced?\n",
    "print(len(broca_data_merge))\n",
    "print(len(control_data_merge))"
   ],
   "metadata": {
    "collapsed": false,
    "ExecuteTime": {
     "end_time": "2024-02-03T17:57:57.251002800Z",
     "start_time": "2024-02-03T17:57:57.221733900Z"
    }
   },
   "id": "40436686062cb55a"
  },
  {
   "cell_type": "code",
   "execution_count": 110,
   "outputs": [],
   "source": [
    "# shuffle data\n",
    "data_full_scenario = data_full_scenario.sample(frac=1).reset_index(drop=True)"
   ],
   "metadata": {
    "collapsed": false,
    "ExecuteTime": {
     "end_time": "2024-02-03T17:54:19.419598800Z",
     "start_time": "2024-02-03T17:54:19.419598800Z"
    }
   },
   "id": "f27f5ed082700317"
  },
  {
   "cell_type": "code",
   "execution_count": 111,
   "outputs": [
    {
     "data": {
      "text/plain": "             source_file         scenario  \\\n0          tucson02a.cha           Speech   \n1       capilouto25a.cha           Window   \n2         wright205a.cha           Window   \n3      richardson202.cha           Window   \n4     Baycrest10306a.cha              Cat   \n...                  ...              ...   \n3028    capilouto66a.cha  Important_Event   \n3029        scale28a.cha              Cat   \n3030          tap17a.cha           Window   \n3031      kurland15c.cha              Cat   \n3032        adler19a.cha           Window   \n\n                                                   text  label  \n0      it is very hard. you know it is it but it goo...      1  \n1      and it went right through this window. and th...      0  \n2              yeah. soccer. window broken. dad. ball.       1  \n3      so a little boy was outside practicing soccer...      0  \n4      cat went up in a tree. and a man went up to r...      0  \n...                                                 ...    ...  \n3028   and I met a lot of people. prospered more too...      0  \n3029               this. this woman. girl kitty. okay.       1  \n3030   alright. it is one of them. boom. it is a whi...      1  \n3031                       no. hammer. peep peep peep.       1  \n3032   oh. to to to tə? yeah it is this? a tu a totə...      1  \n\n[3033 rows x 4 columns]",
      "text/html": "<div>\n<style scoped>\n    .dataframe tbody tr th:only-of-type {\n        vertical-align: middle;\n    }\n\n    .dataframe tbody tr th {\n        vertical-align: top;\n    }\n\n    .dataframe thead th {\n        text-align: right;\n    }\n</style>\n<table border=\"1\" class=\"dataframe\">\n  <thead>\n    <tr style=\"text-align: right;\">\n      <th></th>\n      <th>source_file</th>\n      <th>scenario</th>\n      <th>text</th>\n      <th>label</th>\n    </tr>\n  </thead>\n  <tbody>\n    <tr>\n      <th>0</th>\n      <td>tucson02a.cha</td>\n      <td>Speech</td>\n      <td>it is very hard. you know it is it but it goo...</td>\n      <td>1</td>\n    </tr>\n    <tr>\n      <th>1</th>\n      <td>capilouto25a.cha</td>\n      <td>Window</td>\n      <td>and it went right through this window. and th...</td>\n      <td>0</td>\n    </tr>\n    <tr>\n      <th>2</th>\n      <td>wright205a.cha</td>\n      <td>Window</td>\n      <td>yeah. soccer. window broken. dad. ball.</td>\n      <td>1</td>\n    </tr>\n    <tr>\n      <th>3</th>\n      <td>richardson202.cha</td>\n      <td>Window</td>\n      <td>so a little boy was outside practicing soccer...</td>\n      <td>0</td>\n    </tr>\n    <tr>\n      <th>4</th>\n      <td>Baycrest10306a.cha</td>\n      <td>Cat</td>\n      <td>cat went up in a tree. and a man went up to r...</td>\n      <td>0</td>\n    </tr>\n    <tr>\n      <th>...</th>\n      <td>...</td>\n      <td>...</td>\n      <td>...</td>\n      <td>...</td>\n    </tr>\n    <tr>\n      <th>3028</th>\n      <td>capilouto66a.cha</td>\n      <td>Important_Event</td>\n      <td>and I met a lot of people. prospered more too...</td>\n      <td>0</td>\n    </tr>\n    <tr>\n      <th>3029</th>\n      <td>scale28a.cha</td>\n      <td>Cat</td>\n      <td>this. this woman. girl kitty. okay.</td>\n      <td>1</td>\n    </tr>\n    <tr>\n      <th>3030</th>\n      <td>tap17a.cha</td>\n      <td>Window</td>\n      <td>alright. it is one of them. boom. it is a whi...</td>\n      <td>1</td>\n    </tr>\n    <tr>\n      <th>3031</th>\n      <td>kurland15c.cha</td>\n      <td>Cat</td>\n      <td>no. hammer. peep peep peep.</td>\n      <td>1</td>\n    </tr>\n    <tr>\n      <th>3032</th>\n      <td>adler19a.cha</td>\n      <td>Window</td>\n      <td>oh. to to to tə? yeah it is this? a tu a totə...</td>\n      <td>1</td>\n    </tr>\n  </tbody>\n</table>\n<p>3033 rows × 4 columns</p>\n</div>"
     },
     "execution_count": 111,
     "metadata": {},
     "output_type": "execute_result"
    }
   ],
   "source": [
    "data_full_scenario"
   ],
   "metadata": {
    "collapsed": false,
    "ExecuteTime": {
     "end_time": "2024-02-03T17:54:24.303145300Z",
     "start_time": "2024-02-03T17:54:24.287509700Z"
    }
   },
   "id": "31534436777b980a"
  },
  {
   "cell_type": "code",
   "execution_count": 112,
   "outputs": [],
   "source": [
    "data_full_scenario.to_csv(\"all_data_processed.csv\")"
   ],
   "metadata": {
    "collapsed": false,
    "ExecuteTime": {
     "end_time": "2024-02-03T17:56:55.065277700Z",
     "start_time": "2024-02-03T17:56:55.018097400Z"
    }
   },
   "id": "d76df8943583e06a"
  },
  {
   "cell_type": "markdown",
   "source": [],
   "metadata": {
    "collapsed": false
   },
   "id": "e65f1916e8f3b954"
  }
 ],
 "metadata": {
  "kernelspec": {
   "display_name": "Python 3",
   "language": "python",
   "name": "python3"
  },
  "language_info": {
   "codemirror_mode": {
    "name": "ipython",
    "version": 2
   },
   "file_extension": ".py",
   "mimetype": "text/x-python",
   "name": "python",
   "nbconvert_exporter": "python",
   "pygments_lexer": "ipython2",
   "version": "2.7.6"
  }
 },
 "nbformat": 4,
 "nbformat_minor": 5
}
