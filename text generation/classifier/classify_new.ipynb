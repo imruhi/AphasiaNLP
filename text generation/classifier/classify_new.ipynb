{
 "cells": [
  {
   "cell_type": "markdown",
   "id": "ef6fa5688180217a",
   "metadata": {
    "collapsed": false
   },
   "source": [
    "# BERT"
   ]
  },
  {
   "cell_type": "code",
   "execution_count": 138,
   "id": "dcfc9725d87c9e39",
   "metadata": {
    "collapsed": false,
    "ExecuteTime": {
     "end_time": "2024-06-18T14:14:19.930473900Z",
     "start_time": "2024-06-18T14:14:18.549443400Z"
    }
   },
   "outputs": [],
   "source": [
    "from transformers import AutoTokenizer\n",
    "from transformers import AutoModelForSequenceClassification\n",
    "import torch     \n",
    "import pandas as pd\n",
    "import evaluate\n",
    "metric = evaluate.load(\"accuracy\")"
   ]
  },
  {
   "cell_type": "code",
   "execution_count": 139,
   "id": "5a1ad317ed6e8040",
   "metadata": {
    "collapsed": false,
    "ExecuteTime": {
     "end_time": "2024-06-18T14:14:20.244889700Z",
     "start_time": "2024-06-18T14:14:19.930473900Z"
    }
   },
   "outputs": [],
   "source": [
    "model = \"../classifier/models/bert_finetuned\"\n",
    "tokenizer = AutoTokenizer.from_pretrained(model, return_tensor=\"pt\")\n",
    "model = AutoModelForSequenceClassification.from_pretrained(model)\n",
    "\n",
    "device = \"cuda:0\" if torch.cuda.is_available() else \"cpu\"\n",
    "\n",
    "model = model.to(device)"
   ]
  },
  {
   "cell_type": "code",
   "execution_count": 140,
   "id": "a3d75d2a82653023",
   "metadata": {
    "collapsed": false,
    "ExecuteTime": {
     "end_time": "2024-06-18T14:14:20.260699800Z",
     "start_time": "2024-06-18T14:14:20.244889700Z"
    }
   },
   "outputs": [],
   "source": [
    "save_path = \"../datafiles/generated output/bnc_all.csv\"\n",
    "df = pd.read_csv(save_path)"
   ]
  },
  {
   "cell_type": "code",
   "execution_count": 141,
   "outputs": [
    {
     "data": {
      "text/plain": "                                     preprocessed_text  label\n0    you not have keep guess. it bluff yeah. but yo...      1\n1    yeah those true. that we would drink together ...      1\n2    these wine. it like mm naked wines places. wel...      1\n3    used do an malbec i think. they do do any. the...      1\n4                  i barely lift one. sizes one. this.      1\n..                                                 ...    ...\n358  give me the most tool shaped packet. I'm gonna...      0\n359  this is blatantly socks. I'm going with this o...      0\n360  yeah coming. I feel like this table's kind of ...      0\n361  that's really good. can I get in line. so you ...      0\n362  just grab one. open it see what there is. can ...      0\n\n[363 rows x 2 columns]",
      "text/html": "<div>\n<style scoped>\n    .dataframe tbody tr th:only-of-type {\n        vertical-align: middle;\n    }\n\n    .dataframe tbody tr th {\n        vertical-align: top;\n    }\n\n    .dataframe thead th {\n        text-align: right;\n    }\n</style>\n<table border=\"1\" class=\"dataframe\">\n  <thead>\n    <tr style=\"text-align: right;\">\n      <th></th>\n      <th>preprocessed_text</th>\n      <th>label</th>\n    </tr>\n  </thead>\n  <tbody>\n    <tr>\n      <th>0</th>\n      <td>you not have keep guess. it bluff yeah. but yo...</td>\n      <td>1</td>\n    </tr>\n    <tr>\n      <th>1</th>\n      <td>yeah those true. that we would drink together ...</td>\n      <td>1</td>\n    </tr>\n    <tr>\n      <th>2</th>\n      <td>these wine. it like mm naked wines places. wel...</td>\n      <td>1</td>\n    </tr>\n    <tr>\n      <th>3</th>\n      <td>used do an malbec i think. they do do any. the...</td>\n      <td>1</td>\n    </tr>\n    <tr>\n      <th>4</th>\n      <td>i barely lift one. sizes one. this.</td>\n      <td>1</td>\n    </tr>\n    <tr>\n      <th>...</th>\n      <td>...</td>\n      <td>...</td>\n    </tr>\n    <tr>\n      <th>358</th>\n      <td>give me the most tool shaped packet. I'm gonna...</td>\n      <td>0</td>\n    </tr>\n    <tr>\n      <th>359</th>\n      <td>this is blatantly socks. I'm going with this o...</td>\n      <td>0</td>\n    </tr>\n    <tr>\n      <th>360</th>\n      <td>yeah coming. I feel like this table's kind of ...</td>\n      <td>0</td>\n    </tr>\n    <tr>\n      <th>361</th>\n      <td>that's really good. can I get in line. so you ...</td>\n      <td>0</td>\n    </tr>\n    <tr>\n      <th>362</th>\n      <td>just grab one. open it see what there is. can ...</td>\n      <td>0</td>\n    </tr>\n  </tbody>\n</table>\n<p>363 rows × 2 columns</p>\n</div>"
     },
     "execution_count": 141,
     "metadata": {},
     "output_type": "execute_result"
    }
   ],
   "source": [
    "df"
   ],
   "metadata": {
    "collapsed": false,
    "ExecuteTime": {
     "end_time": "2024-06-18T14:14:20.296813900Z",
     "start_time": "2024-06-18T14:14:20.265639200Z"
    }
   },
   "id": "ae831d6b088f82a4"
  },
  {
   "cell_type": "code",
   "execution_count": 142,
   "outputs": [
    {
     "data": {
      "text/plain": "6"
     },
     "execution_count": 142,
     "metadata": {},
     "output_type": "execute_result"
    }
   ],
   "source": [
    "import re\n",
    "lens = [len(re.findall(\"[a-zA-Z_]+\", x)) for x in df[\"preprocessed_text\"]]\n",
    "min(lens)"
   ],
   "metadata": {
    "collapsed": false,
    "ExecuteTime": {
     "end_time": "2024-06-18T14:14:20.340215300Z",
     "start_time": "2024-06-18T14:14:20.279886800Z"
    }
   },
   "id": "8308b9a49a1d9129"
  },
  {
   "cell_type": "code",
   "execution_count": 143,
   "id": "4d56c2c7f57a670e",
   "metadata": {
    "collapsed": false,
    "ExecuteTime": {
     "end_time": "2024-06-18T14:14:20.363401100Z",
     "start_time": "2024-06-18T14:14:20.293958700Z"
    }
   },
   "outputs": [],
   "source": [
    "# df = df.groupby('label', group_keys=False).apply(lambda x: x.sample(n=427)).sample(frac=1).reset_index(drop=True)\n",
    "sentences = df[\"preprocessed_text\"]\n",
    "# sentences = df[\"modified\"]\n",
    "labels = df[\"label\"]"
   ]
  },
  {
   "cell_type": "code",
   "execution_count": 144,
   "id": "cac4c9d137b82c2",
   "metadata": {
    "collapsed": false,
    "ExecuteTime": {
     "end_time": "2024-06-18T14:14:20.404470900Z",
     "start_time": "2024-06-18T14:14:20.308322Z"
    }
   },
   "outputs": [
    {
     "data": {
      "text/plain": "'cuda:0'"
     },
     "execution_count": 144,
     "metadata": {},
     "output_type": "execute_result"
    }
   ],
   "source": [
    "device = \"cuda:0\" if torch.cuda.is_available() else \"cpu\"\n",
    "device"
   ]
  },
  {
   "cell_type": "code",
   "execution_count": 145,
   "id": "33f9cb48f246af4e",
   "metadata": {
    "collapsed": false,
    "ExecuteTime": {
     "end_time": "2024-06-18T14:14:20.454243700Z",
     "start_time": "2024-06-18T14:14:20.324347600Z"
    }
   },
   "outputs": [
    {
     "data": {
      "text/plain": "label\n0    262\n1    101\nName: count, dtype: int64"
     },
     "execution_count": 145,
     "metadata": {},
     "output_type": "execute_result"
    }
   ],
   "source": [
    "pd.Series(labels).value_counts()"
   ]
  },
  {
   "cell_type": "code",
   "execution_count": 146,
   "id": "8e4e5a09f98ef538",
   "metadata": {
    "collapsed": false,
    "ExecuteTime": {
     "end_time": "2024-06-18T14:14:22.121642400Z",
     "start_time": "2024-06-18T14:14:20.343283400Z"
    }
   },
   "outputs": [],
   "source": [
    "pred_labels_bert = []\n",
    "true_labels = []\n",
    "\n",
    "for sentence, label in zip(sentences, labels):\n",
    "    if sentence is not None and isinstance(sentence, str):\n",
    "        \n",
    "        inputs = tokenizer(sentence, return_tensors=\"pt\", truncation=True).input_ids.to(device) \n",
    "        true_labels.append(label)\n",
    "        with torch.no_grad():\n",
    "            logits = model(inputs).logits\n",
    "        predicted_class_id = logits.argmax().item()\n",
    "        pred_labels_bert.append(predicted_class_id)"
   ]
  },
  {
   "cell_type": "code",
   "execution_count": 147,
   "outputs": [],
   "source": [
    "# df[\"predicted\"] = pred_labels_bert"
   ],
   "metadata": {
    "collapsed": false,
    "ExecuteTime": {
     "end_time": "2024-06-18T14:14:22.134225Z",
     "start_time": "2024-06-18T14:14:22.117645200Z"
    }
   },
   "id": "8818190153ceb5dd"
  },
  {
   "cell_type": "code",
   "execution_count": 148,
   "outputs": [],
   "source": [
    "# df = df[df[\"label\"]==df[\"predicted\"]]"
   ],
   "metadata": {
    "collapsed": false,
    "ExecuteTime": {
     "end_time": "2024-06-18T14:14:22.169442100Z",
     "start_time": "2024-06-18T14:14:22.134225Z"
    }
   },
   "id": "ac60826e66b1e271"
  },
  {
   "cell_type": "code",
   "execution_count": 149,
   "outputs": [],
   "source": [
    "# df.to_csv(\"../linguistic_model/data/test_merge_new.csv\")"
   ],
   "metadata": {
    "collapsed": false,
    "ExecuteTime": {
     "end_time": "2024-06-18T14:14:22.169442100Z",
     "start_time": "2024-06-18T14:14:22.147291900Z"
    }
   },
   "id": "d93a9516750a84e8"
  },
  {
   "cell_type": "code",
   "execution_count": 150,
   "id": "dd183ea2e8d85cb8",
   "metadata": {
    "collapsed": false,
    "ExecuteTime": {
     "end_time": "2024-06-18T14:14:22.261401200Z",
     "start_time": "2024-06-18T14:14:22.164948900Z"
    }
   },
   "outputs": [
    {
     "data": {
      "text/plain": "<Figure size 640x480 with 2 Axes>",
      "image/png": "[encoded data removed]"
     },
     "metadata": {},
     "output_type": "display_data"
    }
   ],
   "source": [
    "from sklearn.metrics import confusion_matrix\n",
    "from sklearn.metrics import ConfusionMatrixDisplay\n",
    "import matplotlib.pyplot as plt\n",
    "\n",
    "cm = confusion_matrix(true_labels, pred_labels_bert, normalize='true')\n",
    "tn, fp, fn, tp = cm.ravel()\n",
    "ConfusionMatrixDisplay.from_predictions(true_labels, pred_labels_bert, normalize=\"true\", cmap=plt.cm.Blues)\n",
    "plt.grid(False)\n",
    "plt.show()"
   ]
  },
  {
   "cell_type": "code",
   "execution_count": 151,
   "outputs": [],
   "source": [
    "# print(f\"BERT Accuracy: {metric.compute(predictions=pred_labels_bert, references=true_labels)}\")"
   ],
   "metadata": {
    "collapsed": false,
    "ExecuteTime": {
     "end_time": "2024-06-18T14:14:22.289904400Z",
     "start_time": "2024-06-18T14:14:22.264657Z"
    }
   },
   "id": "908fd02dff45446a"
  },
  {
   "cell_type": "code",
   "execution_count": 152,
   "id": "37eb84eae4ebe85",
   "metadata": {
    "collapsed": false,
    "ExecuteTime": {
     "end_time": "2024-06-18T14:14:22.308058300Z",
     "start_time": "2024-06-18T14:14:22.278046900Z"
    }
   },
   "outputs": [
    {
     "name": "stdout",
     "output_type": "stream",
     "text": [
      "accuracy:  0.8953168044077136\n",
      "precision:  0.9458022342553295\n",
      "recall:  0.7326732673267327\n",
      "f1:  0.8257064372564468\n"
     ]
    }
   ],
   "source": [
    "precision = tp / (tp + fp)\n",
    "recall = tp / (tp + fn)\n",
    "f1 = (2 * precision * recall)/ (precision+recall)\n",
    "print(\"accuracy: \", metric.compute(predictions=pred_labels_bert, references=true_labels)[\"accuracy\"])\n",
    "print(\"precision: \", precision) \n",
    "print(\"recall: \", recall)\n",
    "print(\"f1: \", f1)"
   ]
  },
  {
   "cell_type": "markdown",
   "id": "728ded07c2cc89f2",
   "metadata": {
    "collapsed": false
   },
   "source": [
    "# Visualize attention"
   ]
  },
  {
   "cell_type": "code",
   "execution_count": 153,
   "id": "c58008eabe116752",
   "metadata": {
    "collapsed": false,
    "ExecuteTime": {
     "end_time": "2024-06-18T14:14:22.342533600Z",
     "start_time": "2024-06-18T14:14:22.308058300Z"
    }
   },
   "outputs": [],
   "source": [
    "# from bertviz import model_view, head_view\n",
    "# from transformers import AutoTokenizer, AutoModelForSequenceClassification, AutoModel\n",
    "# import torch\n",
    "# \n",
    "# tokenizer = AutoTokenizer.from_pretrained(\"models/bert_finetuned_reverse\", return_tensor=\"pt\")\n",
    "# model = AutoModel.from_pretrained(\"models/bert_finetuned_reverse\")\n",
    "# device = \"cuda:0\" if torch.cuda.is_available() else \"cpu\""
   ]
  },
  {
   "cell_type": "code",
   "execution_count": 154,
   "id": "ffd08b360d2562f7",
   "metadata": {
    "collapsed": false,
    "ExecuteTime": {
     "end_time": "2024-06-18T14:14:22.354388100Z",
     "start_time": "2024-06-18T14:14:22.325985200Z"
    }
   },
   "outputs": [],
   "source": [
    "# print(sentences[10], labels[10])"
   ]
  },
  {
   "cell_type": "code",
   "execution_count": 155,
   "id": "851b3241908af40c",
   "metadata": {
    "collapsed": false,
    "ExecuteTime": {
     "end_time": "2024-06-18T14:14:22.356024800Z",
     "start_time": "2024-06-18T14:14:22.339737700Z"
    }
   },
   "outputs": [],
   "source": [
    "# sentence = '\"those are that an slashes is watching, right?\"'\n",
    "# label = \"1\"\n",
    "# input = tokenizer.encode(sentence, return_tensors=\"pt\")\n",
    "# output = model(input, output_attentions=True)\n",
    "# \n",
    "# attention = output[-1]\n",
    "# tokens = tokenizer.convert_ids_to_tokens(input[0]) \n",
    "# model_view(attention, tokens)\n",
    "# print(sentence, label)"
   ]
  },
  {
   "cell_type": "markdown",
   "id": "a0a4f379f7861bea",
   "metadata": {
    "collapsed": false,
    "ExecuteTime": {
     "end_time": "2024-05-20T12:48:29.720771200Z",
     "start_time": "2024-05-20T12:48:29.618108100Z"
    }
   },
   "source": [
    "# KNN "
   ]
  },
  {
   "cell_type": "code",
   "execution_count": 156,
   "id": "8e9127b247a7e5a3",
   "metadata": {
    "collapsed": false,
    "ExecuteTime": {
     "end_time": "2024-06-18T14:14:22.369441Z",
     "start_time": "2024-06-18T14:14:22.356024800Z"
    }
   },
   "outputs": [],
   "source": [
    "# from gensim.models import Word2Vec\n",
    "# import numpy as np\n",
    "# import pickle"
   ]
  },
  {
   "cell_type": "code",
   "execution_count": 157,
   "id": "9b4843d7fcc3718a",
   "metadata": {
    "collapsed": false,
    "ExecuteTime": {
     "end_time": "2024-06-18T14:14:22.418413700Z",
     "start_time": "2024-06-18T14:14:22.369441Z"
    }
   },
   "outputs": [],
   "source": [
    "# w2v_model = Word2Vec.load(\"models/word2vec_knn_reverse.model\")\n",
    "# vocab=list(w2v_model.wv.key_to_index.keys())\n",
    "# loaded_model = pickle.load(open('models/knn_reverse_pickle', 'rb'))"
   ]
  },
  {
   "cell_type": "code",
   "execution_count": 158,
   "id": "cc22d95f78f4ec6d",
   "metadata": {
    "collapsed": false,
    "ExecuteTime": {
     "end_time": "2024-06-18T14:14:22.422540100Z",
     "start_time": "2024-06-18T14:14:22.387529Z"
    }
   },
   "outputs": [],
   "source": [
    "# def avg_w2vec(sentences, labels):\n",
    "#     \"\"\"\n",
    "#     Average Word2Vec approach for creating a vector for a given sentence from the word embeddings of each words of the sentence.\n",
    "#     \"\"\"\n",
    "# \n",
    "#     transformed=[]\n",
    "#     lab = []\n",
    "#     for sentence, label in zip(sentences,labels):\n",
    "#         count=0\n",
    "#         vector=np.zeros(300)\n",
    "#         for word in sentence.split():\n",
    "#             if word in vocab:\n",
    "#                 vector+=w2v_model.wv.get_vector(word)\n",
    "#                 count+=1\n",
    "#         if count!=0:\n",
    "#             vector/=count\n",
    "#             transformed.append(vector)\n",
    "#             lab.append(label)\n",
    "#     return np.array(transformed), np.array(lab)"
   ]
  },
  {
   "cell_type": "code",
   "execution_count": 159,
   "id": "43185ffa513be3ba",
   "metadata": {
    "collapsed": false,
    "ExecuteTime": {
     "end_time": "2024-06-18T14:14:22.422540100Z",
     "start_time": "2024-06-18T14:14:22.402187500Z"
    }
   },
   "outputs": [],
   "source": [
    "# transformed_text, labels1= avg_w2vec(sentences, labels)"
   ]
  },
  {
   "cell_type": "code",
   "execution_count": 160,
   "id": "83fb2cce4c082884",
   "metadata": {
    "collapsed": false,
    "ExecuteTime": {
     "end_time": "2024-06-18T14:14:22.436811300Z",
     "start_time": "2024-06-18T14:14:22.418413700Z"
    }
   },
   "outputs": [],
   "source": [
    "# pred_labels_knn = loaded_model.predict(transformed_text)"
   ]
  },
  {
   "cell_type": "code",
   "execution_count": 161,
   "id": "daef273246ce57cf",
   "metadata": {
    "collapsed": false,
    "ExecuteTime": {
     "end_time": "2024-06-18T14:14:22.467556700Z",
     "start_time": "2024-06-18T14:14:22.435359600Z"
    }
   },
   "outputs": [],
   "source": [
    "# print(len(pred_labels_knn))\n",
    "# print(len(transformed_text))"
   ]
  },
  {
   "cell_type": "code",
   "execution_count": 162,
   "id": "828c5398ace16183",
   "metadata": {
    "collapsed": false,
    "ExecuteTime": {
     "end_time": "2024-06-18T14:14:22.467556700Z",
     "start_time": "2024-06-18T14:14:22.452217200Z"
    }
   },
   "outputs": [],
   "source": [
    "# print(f\"KNN Accuracy: {metric.compute(predictions=pred_labels_knn, references=labels1)}\")"
   ]
  },
  {
   "cell_type": "code",
   "execution_count": 163,
   "id": "38a112fc58ebed7f",
   "metadata": {
    "collapsed": false,
    "ExecuteTime": {
     "end_time": "2024-06-18T14:14:22.484956200Z",
     "start_time": "2024-06-18T14:14:22.467556700Z"
    }
   },
   "outputs": [],
   "source": [
    "# from sklearn.metrics import confusion_matrix, ConfusionMatrixDisplay\n",
    "# import matplotlib.pyplot as plt\n",
    "# \n",
    "# cm = confusion_matrix(labels1, pred_labels_knn, normalize='true')\n",
    "# tn, fp, fn, tp = cm.ravel()\n",
    "# ConfusionMatrixDisplay.from_predictions(labels1, pred_labels_knn, normalize=\"true\", cmap=plt.cm.Blues)\n",
    "# plt.grid(False)\n",
    "# plt.show()"
   ]
  },
  {
   "cell_type": "code",
   "execution_count": 164,
   "id": "831a8b161c8b8b4e",
   "metadata": {
    "collapsed": false,
    "ExecuteTime": {
     "end_time": "2024-06-18T14:14:22.496866900Z",
     "start_time": "2024-06-18T14:14:22.482846700Z"
    }
   },
   "outputs": [],
   "source": [
    "# precision = tp / (tp + fp)\n",
    "# recall = tp / (tp + fn)\n",
    "# f1 = (2 * precision * recall)/ (precision+recall)\n",
    "# print(precision) \n",
    "# print(recall)\n",
    "# print(f1)"
   ]
  },
  {
   "cell_type": "markdown",
   "id": "4eed245b42d62b79",
   "metadata": {
    "collapsed": false,
    "ExecuteTime": {
     "end_time": "2024-05-20T12:48:29.776933100Z",
     "start_time": "2024-05-20T12:48:29.761004700Z"
    }
   },
   "source": [
    "# Random forest"
   ]
  },
  {
   "cell_type": "code",
   "execution_count": 165,
   "id": "c529baa11b1fa279",
   "metadata": {
    "collapsed": false,
    "ExecuteTime": {
     "end_time": "2024-06-18T14:14:22.514895100Z",
     "start_time": "2024-06-18T14:14:22.496866900Z"
    }
   },
   "outputs": [],
   "source": [
    "# from sklearn.metrics import accuracy_score, confusion_matrix, ConfusionMatrixDisplay\n",
    "# import matplotlib.pyplot as plt"
   ]
  },
  {
   "cell_type": "code",
   "execution_count": 166,
   "id": "f7af3070833e3f44",
   "metadata": {
    "collapsed": false,
    "ExecuteTime": {
     "end_time": "2024-06-18T14:14:22.545043100Z",
     "start_time": "2024-06-18T14:14:22.514895100Z"
    }
   },
   "outputs": [],
   "source": [
    "# w2v_model = Word2Vec.load(\"models/word2vec_rf_reverse.model\")\n",
    "# vocab=list(w2v_model.wv.key_to_index.keys())"
   ]
  },
  {
   "cell_type": "code",
   "execution_count": 167,
   "id": "3e59e5fca25d6961",
   "metadata": {
    "collapsed": false,
    "ExecuteTime": {
     "end_time": "2024-06-18T14:14:22.549357300Z",
     "start_time": "2024-06-18T14:14:22.532664100Z"
    }
   },
   "outputs": [],
   "source": [
    "# loaded_model = pickle.load(open('models/rf_reverse_pickle', 'rb'))"
   ]
  },
  {
   "cell_type": "code",
   "execution_count": 168,
   "id": "64f6b80509ce3f80",
   "metadata": {
    "collapsed": false,
    "ExecuteTime": {
     "end_time": "2024-06-18T14:14:22.564376700Z",
     "start_time": "2024-06-18T14:14:22.547261300Z"
    }
   },
   "outputs": [],
   "source": [
    "# pred_labels_rf = loaded_model.predict(transformed_text)"
   ]
  },
  {
   "cell_type": "code",
   "execution_count": 169,
   "id": "44937f90cbc2f250",
   "metadata": {
    "collapsed": false,
    "ExecuteTime": {
     "end_time": "2024-06-18T14:14:22.594549200Z",
     "start_time": "2024-06-18T14:14:22.564376700Z"
    }
   },
   "outputs": [],
   "source": [
    "# print(f\"RF Accuracy: {metric.compute(predictions=pred_labels_rf, references=labels1)}\")"
   ]
  },
  {
   "cell_type": "code",
   "execution_count": 170,
   "id": "93bd562a4460cb0d",
   "metadata": {
    "collapsed": false,
    "ExecuteTime": {
     "end_time": "2024-06-18T14:14:22.610831800Z",
     "start_time": "2024-06-18T14:14:22.579541600Z"
    }
   },
   "outputs": [],
   "source": [
    "# cm = confusion_matrix(labels1, pred_labels_rf, normalize='true')\n",
    "# tn, fp, fn, tp = cm.ravel()\n",
    "# ConfusionMatrixDisplay.from_predictions(labels1, pred_labels_rf, normalize=\"true\", cmap=plt.cm.Blues)\n",
    "# plt.grid(False)\n",
    "# plt.show()"
   ]
  },
  {
   "cell_type": "code",
   "execution_count": 171,
   "id": "143e53fcc65f85ab",
   "metadata": {
    "collapsed": false,
    "ExecuteTime": {
     "end_time": "2024-06-18T14:14:22.611531800Z",
     "start_time": "2024-06-18T14:14:22.594549200Z"
    }
   },
   "outputs": [],
   "source": [
    "# precision = tp / (tp + fp)\n",
    "# recall = tp / (tp + fn)\n",
    "# f1 = (2 * precision * recall)/ (precision+recall)\n",
    "# print(precision) \n",
    "# print(recall)\n",
    "# print(f1)"
   ]
  }
 ],
 "metadata": {
  "kernelspec": {
   "display_name": "Python 3 (ipykernel)",
   "language": "python",
   "name": "python3"
  },
  "language_info": {
   "codemirror_mode": {
    "name": "ipython",
    "version": 3
   },
   "file_extension": ".py",
   "mimetype": "text/x-python",
   "name": "python",
   "nbconvert_exporter": "python",
   "pygments_lexer": "ipython3",
   "version": "3.9.18"
  }
 },
 "nbformat": 4,
 "nbformat_minor": 5
}
