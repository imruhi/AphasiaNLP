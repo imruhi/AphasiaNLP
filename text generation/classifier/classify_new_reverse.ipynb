{
 "cells": [
  {
   "cell_type": "markdown",
   "id": "ef6fa5688180217a",
   "metadata": {
    "collapsed": false
   },
   "source": [
    "# BERT"
   ]
  },
  {
   "cell_type": "code",
   "execution_count": 1,
   "id": "dcfc9725d87c9e39",
   "metadata": {
    "collapsed": false,
    "ExecuteTime": {
     "end_time": "2024-05-06T11:04:20.457882300Z",
     "start_time": "2024-05-06T11:04:14.018676800Z"
    }
   },
   "outputs": [],
   "source": [
    "from transformers import AutoTokenizer\n",
    "from transformers import AutoModelForSequenceClassification\n",
    "import torch     \n",
    "import pandas as pd\n",
    "import evaluate\n",
    "metric = evaluate.load(\"accuracy\")"
   ]
  },
  {
   "cell_type": "code",
   "execution_count": 5,
   "outputs": [],
   "source": [
    "model_name = \"C:/Users/imruh/Documents/Uni/Master thesis/classifiers/models/bert_finetuned_reverse_test\""
   ],
   "metadata": {
    "collapsed": false,
    "ExecuteTime": {
     "end_time": "2024-04-23T15:56:24.007935Z",
     "start_time": "2024-04-23T15:56:23.992418800Z"
    }
   },
   "id": "ef17d9529eac9c2f"
  },
  {
   "cell_type": "code",
   "execution_count": 6,
   "id": "5a1ad317ed6e8040",
   "metadata": {
    "collapsed": false,
    "ExecuteTime": {
     "end_time": "2024-04-23T15:56:24.779235300Z",
     "start_time": "2024-04-23T15:56:24.747970300Z"
    }
   },
   "outputs": [
    {
     "ename": "OSError",
     "evalue": "Incorrect path_or_model_id: 'C:/Users/imruh/Documents/Uni/Master thesis/classifiers/models/bert_finetuned_reverse_test'. Please provide either the path to a local folder or the repo_id of a model on the Hub.",
     "output_type": "error",
     "traceback": [
      "\u001B[1;31m---------------------------------------------------------------------------\u001B[0m",
      "\u001B[1;31mHFValidationError\u001B[0m                         Traceback (most recent call last)",
      "\u001B[1;32m~\\miniconda3\\envs\\thesis\\lib\\site-packages\\transformers\\utils\\hub.py\u001B[0m in \u001B[0;36mcached_file\u001B[1;34m(path_or_repo_id, filename, cache_dir, force_download, resume_download, proxies, token, revision, local_files_only, subfolder, repo_type, user_agent, _raise_exceptions_for_gated_repo, _raise_exceptions_for_missing_entries, _raise_exceptions_for_connection_errors, _commit_hash, **deprecated_kwargs)\u001B[0m\n\u001B[0;32m    397\u001B[0m         \u001B[1;31m# Load from URL or cache if already cached\u001B[0m\u001B[1;33m\u001B[0m\u001B[1;33m\u001B[0m\u001B[0m\n\u001B[1;32m--> 398\u001B[1;33m         resolved_file = hf_hub_download(\n\u001B[0m\u001B[0;32m    399\u001B[0m             \u001B[0mpath_or_repo_id\u001B[0m\u001B[1;33m,\u001B[0m\u001B[1;33m\u001B[0m\u001B[1;33m\u001B[0m\u001B[0m\n",
      "\u001B[1;32m~\\miniconda3\\envs\\thesis\\lib\\site-packages\\huggingface_hub\\utils\\_validators.py\u001B[0m in \u001B[0;36m_inner_fn\u001B[1;34m(*args, **kwargs)\u001B[0m\n\u001B[0;32m    109\u001B[0m             \u001B[1;32mif\u001B[0m \u001B[0marg_name\u001B[0m \u001B[1;32min\u001B[0m \u001B[1;33m[\u001B[0m\u001B[1;34m\"repo_id\"\u001B[0m\u001B[1;33m,\u001B[0m \u001B[1;34m\"from_id\"\u001B[0m\u001B[1;33m,\u001B[0m \u001B[1;34m\"to_id\"\u001B[0m\u001B[1;33m]\u001B[0m\u001B[1;33m:\u001B[0m\u001B[1;33m\u001B[0m\u001B[1;33m\u001B[0m\u001B[0m\n\u001B[1;32m--> 110\u001B[1;33m                 \u001B[0mvalidate_repo_id\u001B[0m\u001B[1;33m(\u001B[0m\u001B[0marg_value\u001B[0m\u001B[1;33m)\u001B[0m\u001B[1;33m\u001B[0m\u001B[1;33m\u001B[0m\u001B[0m\n\u001B[0m\u001B[0;32m    111\u001B[0m \u001B[1;33m\u001B[0m\u001B[0m\n",
      "\u001B[1;32m~\\miniconda3\\envs\\thesis\\lib\\site-packages\\huggingface_hub\\utils\\_validators.py\u001B[0m in \u001B[0;36mvalidate_repo_id\u001B[1;34m(repo_id)\u001B[0m\n\u001B[0;32m    157\u001B[0m     \u001B[1;32mif\u001B[0m \u001B[0mrepo_id\u001B[0m\u001B[1;33m.\u001B[0m\u001B[0mcount\u001B[0m\u001B[1;33m(\u001B[0m\u001B[1;34m\"/\"\u001B[0m\u001B[1;33m)\u001B[0m \u001B[1;33m>\u001B[0m \u001B[1;36m1\u001B[0m\u001B[1;33m:\u001B[0m\u001B[1;33m\u001B[0m\u001B[1;33m\u001B[0m\u001B[0m\n\u001B[1;32m--> 158\u001B[1;33m         raise HFValidationError(\n\u001B[0m\u001B[0;32m    159\u001B[0m             \u001B[1;34m\"Repo id must be in the form 'repo_name' or 'namespace/repo_name':\"\u001B[0m\u001B[1;33m\u001B[0m\u001B[1;33m\u001B[0m\u001B[0m\n",
      "\u001B[1;31mHFValidationError\u001B[0m: Repo id must be in the form 'repo_name' or 'namespace/repo_name': 'C:/Users/imruh/Documents/Uni/Master thesis/classifiers/models/bert_finetuned_reverse_test'. Use `repo_type` argument if needed.",
      "\nThe above exception was the direct cause of the following exception:\n",
      "\u001B[1;31mOSError\u001B[0m                                   Traceback (most recent call last)",
      "\u001B[1;32m~\\AppData\\Local\\Temp\\ipykernel_18528\\259881539.py\u001B[0m in \u001B[0;36m<cell line: 1>\u001B[1;34m()\u001B[0m\n\u001B[1;32m----> 1\u001B[1;33m \u001B[0mtokenizer\u001B[0m \u001B[1;33m=\u001B[0m \u001B[0mAutoTokenizer\u001B[0m\u001B[1;33m.\u001B[0m\u001B[0mfrom_pretrained\u001B[0m\u001B[1;33m(\u001B[0m\u001B[0mmodel_name\u001B[0m\u001B[1;33m,\u001B[0m \u001B[0mreturn_tensor\u001B[0m\u001B[1;33m=\u001B[0m\u001B[1;34m\"pt\"\u001B[0m\u001B[1;33m)\u001B[0m\u001B[1;33m\u001B[0m\u001B[1;33m\u001B[0m\u001B[0m\n\u001B[0m\u001B[0;32m      2\u001B[0m \u001B[0mmodel\u001B[0m \u001B[1;33m=\u001B[0m \u001B[0mAutoModelForSequenceClassification\u001B[0m\u001B[1;33m.\u001B[0m\u001B[0mfrom_pretrained\u001B[0m\u001B[1;33m(\u001B[0m\u001B[0mmodel_name\u001B[0m\u001B[1;33m)\u001B[0m\u001B[1;33m\u001B[0m\u001B[1;33m\u001B[0m\u001B[0m\n\u001B[0;32m      3\u001B[0m \u001B[0mdevice\u001B[0m \u001B[1;33m=\u001B[0m \u001B[1;34m\"cuda:0\"\u001B[0m \u001B[1;32mif\u001B[0m \u001B[0mtorch\u001B[0m\u001B[1;33m.\u001B[0m\u001B[0mcuda\u001B[0m\u001B[1;33m.\u001B[0m\u001B[0mis_available\u001B[0m\u001B[1;33m(\u001B[0m\u001B[1;33m)\u001B[0m \u001B[1;32melse\u001B[0m \u001B[1;34m\"cpu\"\u001B[0m\u001B[1;33m\u001B[0m\u001B[1;33m\u001B[0m\u001B[0m\n\u001B[0;32m      4\u001B[0m \u001B[0mmodel\u001B[0m \u001B[1;33m=\u001B[0m \u001B[0mmodel\u001B[0m\u001B[1;33m.\u001B[0m\u001B[0mto\u001B[0m\u001B[1;33m(\u001B[0m\u001B[0mdevice\u001B[0m\u001B[1;33m)\u001B[0m\u001B[1;33m\u001B[0m\u001B[1;33m\u001B[0m\u001B[0m\n",
      "\u001B[1;32m~\\miniconda3\\envs\\thesis\\lib\\site-packages\\transformers\\models\\auto\\tokenization_auto.py\u001B[0m in \u001B[0;36mfrom_pretrained\u001B[1;34m(cls, pretrained_model_name_or_path, *inputs, **kwargs)\u001B[0m\n\u001B[0;32m    774\u001B[0m \u001B[1;33m\u001B[0m\u001B[0m\n\u001B[0;32m    775\u001B[0m         \u001B[1;31m# Next, let's try to use the tokenizer_config file to get the tokenizer class.\u001B[0m\u001B[1;33m\u001B[0m\u001B[1;33m\u001B[0m\u001B[0m\n\u001B[1;32m--> 776\u001B[1;33m         \u001B[0mtokenizer_config\u001B[0m \u001B[1;33m=\u001B[0m \u001B[0mget_tokenizer_config\u001B[0m\u001B[1;33m(\u001B[0m\u001B[0mpretrained_model_name_or_path\u001B[0m\u001B[1;33m,\u001B[0m \u001B[1;33m**\u001B[0m\u001B[0mkwargs\u001B[0m\u001B[1;33m)\u001B[0m\u001B[1;33m\u001B[0m\u001B[1;33m\u001B[0m\u001B[0m\n\u001B[0m\u001B[0;32m    777\u001B[0m         \u001B[1;32mif\u001B[0m \u001B[1;34m\"_commit_hash\"\u001B[0m \u001B[1;32min\u001B[0m \u001B[0mtokenizer_config\u001B[0m\u001B[1;33m:\u001B[0m\u001B[1;33m\u001B[0m\u001B[1;33m\u001B[0m\u001B[0m\n\u001B[0;32m    778\u001B[0m             \u001B[0mkwargs\u001B[0m\u001B[1;33m[\u001B[0m\u001B[1;34m\"_commit_hash\"\u001B[0m\u001B[1;33m]\u001B[0m \u001B[1;33m=\u001B[0m \u001B[0mtokenizer_config\u001B[0m\u001B[1;33m[\u001B[0m\u001B[1;34m\"_commit_hash\"\u001B[0m\u001B[1;33m]\u001B[0m\u001B[1;33m\u001B[0m\u001B[1;33m\u001B[0m\u001B[0m\n",
      "\u001B[1;32m~\\miniconda3\\envs\\thesis\\lib\\site-packages\\transformers\\models\\auto\\tokenization_auto.py\u001B[0m in \u001B[0;36mget_tokenizer_config\u001B[1;34m(pretrained_model_name_or_path, cache_dir, force_download, resume_download, proxies, token, revision, local_files_only, subfolder, **kwargs)\u001B[0m\n\u001B[0;32m    607\u001B[0m \u001B[1;33m\u001B[0m\u001B[0m\n\u001B[0;32m    608\u001B[0m     \u001B[0mcommit_hash\u001B[0m \u001B[1;33m=\u001B[0m \u001B[0mkwargs\u001B[0m\u001B[1;33m.\u001B[0m\u001B[0mget\u001B[0m\u001B[1;33m(\u001B[0m\u001B[1;34m\"_commit_hash\"\u001B[0m\u001B[1;33m,\u001B[0m \u001B[1;32mNone\u001B[0m\u001B[1;33m)\u001B[0m\u001B[1;33m\u001B[0m\u001B[1;33m\u001B[0m\u001B[0m\n\u001B[1;32m--> 609\u001B[1;33m     resolved_config_file = cached_file(\n\u001B[0m\u001B[0;32m    610\u001B[0m         \u001B[0mpretrained_model_name_or_path\u001B[0m\u001B[1;33m,\u001B[0m\u001B[1;33m\u001B[0m\u001B[1;33m\u001B[0m\u001B[0m\n\u001B[0;32m    611\u001B[0m         \u001B[0mTOKENIZER_CONFIG_FILE\u001B[0m\u001B[1;33m,\u001B[0m\u001B[1;33m\u001B[0m\u001B[1;33m\u001B[0m\u001B[0m\n",
      "\u001B[1;32m~\\miniconda3\\envs\\thesis\\lib\\site-packages\\transformers\\utils\\hub.py\u001B[0m in \u001B[0;36mcached_file\u001B[1;34m(path_or_repo_id, filename, cache_dir, force_download, resume_download, proxies, token, revision, local_files_only, subfolder, repo_type, user_agent, _raise_exceptions_for_gated_repo, _raise_exceptions_for_missing_entries, _raise_exceptions_for_connection_errors, _commit_hash, **deprecated_kwargs)\u001B[0m\n\u001B[0;32m    460\u001B[0m         \u001B[1;32mraise\u001B[0m \u001B[0mEnvironmentError\u001B[0m\u001B[1;33m(\u001B[0m\u001B[1;34mf\"There was a specific connection error when trying to load {path_or_repo_id}:\\n{err}\"\u001B[0m\u001B[1;33m)\u001B[0m\u001B[1;33m\u001B[0m\u001B[1;33m\u001B[0m\u001B[0m\n\u001B[0;32m    461\u001B[0m     \u001B[1;32mexcept\u001B[0m \u001B[0mHFValidationError\u001B[0m \u001B[1;32mas\u001B[0m \u001B[0me\u001B[0m\u001B[1;33m:\u001B[0m\u001B[1;33m\u001B[0m\u001B[1;33m\u001B[0m\u001B[0m\n\u001B[1;32m--> 462\u001B[1;33m         raise EnvironmentError(\n\u001B[0m\u001B[0;32m    463\u001B[0m             \u001B[1;34mf\"Incorrect path_or_model_id: '{path_or_repo_id}'. Please provide either the path to a local folder or the repo_id of a model on the Hub.\"\u001B[0m\u001B[1;33m\u001B[0m\u001B[1;33m\u001B[0m\u001B[0m\n\u001B[0;32m    464\u001B[0m         ) from e\n",
      "\u001B[1;31mOSError\u001B[0m: Incorrect path_or_model_id: 'C:/Users/imruh/Documents/Uni/Master thesis/classifiers/models/bert_finetuned_reverse_test'. Please provide either the path to a local folder or the repo_id of a model on the Hub."
     ]
    }
   ],
   "source": [
    "tokenizer = AutoTokenizer.from_pretrained(model_name, return_tensor=\"pt\")\n",
    "model = AutoModelForSequenceClassification.from_pretrained(model_name)\n",
    "device = \"cuda:0\" if torch.cuda.is_available() else \"cpu\"\n",
    "model = model.to(device)"
   ]
  },
  {
   "cell_type": "code",
   "execution_count": 2,
   "id": "a3d75d2a82653023",
   "metadata": {
    "collapsed": false,
    "ExecuteTime": {
     "end_time": "2024-05-06T11:04:20.726669600Z",
     "start_time": "2024-05-06T11:04:20.466171100Z"
    }
   },
   "outputs": [],
   "source": [
    "df = pd.read_csv(\"../preprocessing/data/processed_merge.csv\", encoding='utf8', index_col=False).drop(['Unnamed: 0'], axis=1).dropna()"
   ]
  },
  {
   "cell_type": "code",
   "execution_count": 3,
   "outputs": [],
   "source": [
    "df = pd.concat([df[df[\"label\"]==1].sample(n=1000),df[df[\"label\"]==0].sample(n=1000)]).sample(frac=1)"
   ],
   "metadata": {
    "collapsed": false,
    "ExecuteTime": {
     "end_time": "2024-05-06T11:04:20.762268700Z",
     "start_time": "2024-05-06T11:04:20.734380800Z"
    }
   },
   "id": "a2bd29ba34583b71"
  },
  {
   "cell_type": "code",
   "execution_count": 27,
   "outputs": [
    {
     "data": {
      "text/plain": "       Unnamed: 0.1         scenario       source_file  \\\n20263         20263         Umbrella    kurland24b.cha   \n38831         38831       Cinderella     1008-LARC.cha   \n30867         30867       Cinderella           6-1.cha   \n42797         42797              Cat        UNH17a.cha   \n13095         13095           Stroke        UNH17a.cha   \n...             ...              ...               ...   \n33989         33989  Important_Event  capilouto65a.cha   \n10299         10299           Window    wright207a.cha   \n2477           2477       Cinderella          20-1.cha   \n34179         34179       Cinderella      elman11a.cha   \n1752           1752         Umbrella     wright77a.cha   \n\n                                           original_text  \\\n20263                and she's like +\"/. \u0015329984_330474\u0015   \n38831  &-um &-um but [//] and see and you look like &...   \n30867    +\" xxx who the heck is this ? \u00151378918_1380568\u0015   \n42797  &=coughs &-um <the [/] &+do the girl> [//] the...   \n13095  <and then> [/] and then awake . [+ gram] \u00151638...   \n...                                                  ...   \n33989                      expandin(g) . \u0015749628_750178\u0015   \n10299                     okay . [+ exc] \u0015415071_415421\u0015   \n2477   and they stuck out their feet . \u00152238030_2239200\u0015   \n34179                thank_you . [+ exc] \u0015995325_995765\u0015   \n1752    +\" get caught in the rain then . \u0015255776_256646\u0015   \n\n                                       preprocessed_text  label  \n20263                                   and she is like.      1  \n38831                 but and see and you look like say.      1  \n30867                              who the heck is this?      0  \n42797  the the girl the the dog is barking with the w...      1  \n13095                           and then and then awake.      1  \n...                                                  ...    ...  \n33989                                         expanding.      0  \n10299                                              okay.      1  \n2477                      and they stuck out their feet.      0  \n34179                                         thank you.      1  \n1752                        get caught in the rain then.      0  \n\n[2000 rows x 6 columns]",
      "text/html": "<div>\n<style scoped>\n    .dataframe tbody tr th:only-of-type {\n        vertical-align: middle;\n    }\n\n    .dataframe tbody tr th {\n        vertical-align: top;\n    }\n\n    .dataframe thead th {\n        text-align: right;\n    }\n</style>\n<table border=\"1\" class=\"dataframe\">\n  <thead>\n    <tr style=\"text-align: right;\">\n      <th></th>\n      <th>Unnamed: 0.1</th>\n      <th>scenario</th>\n      <th>source_file</th>\n      <th>original_text</th>\n      <th>preprocessed_text</th>\n      <th>label</th>\n    </tr>\n  </thead>\n  <tbody>\n    <tr>\n      <th>20263</th>\n      <td>20263</td>\n      <td>Umbrella</td>\n      <td>kurland24b.cha</td>\n      <td>and she's like +\"/. \u0015329984_330474\u0015</td>\n      <td>and she is like.</td>\n      <td>1</td>\n    </tr>\n    <tr>\n      <th>38831</th>\n      <td>38831</td>\n      <td>Cinderella</td>\n      <td>1008-LARC.cha</td>\n      <td>&amp;-um &amp;-um but [//] and see and you look like &amp;...</td>\n      <td>but and see and you look like say.</td>\n      <td>1</td>\n    </tr>\n    <tr>\n      <th>30867</th>\n      <td>30867</td>\n      <td>Cinderella</td>\n      <td>6-1.cha</td>\n      <td>+\" xxx who the heck is this ? \u00151378918_1380568\u0015</td>\n      <td>who the heck is this?</td>\n      <td>0</td>\n    </tr>\n    <tr>\n      <th>42797</th>\n      <td>42797</td>\n      <td>Cat</td>\n      <td>UNH17a.cha</td>\n      <td>&amp;=coughs &amp;-um &lt;the [/] &amp;+do the girl&gt; [//] the...</td>\n      <td>the the girl the the dog is barking with the w...</td>\n      <td>1</td>\n    </tr>\n    <tr>\n      <th>13095</th>\n      <td>13095</td>\n      <td>Stroke</td>\n      <td>UNH17a.cha</td>\n      <td>&lt;and then&gt; [/] and then awake . [+ gram] \u00151638...</td>\n      <td>and then and then awake.</td>\n      <td>1</td>\n    </tr>\n    <tr>\n      <th>...</th>\n      <td>...</td>\n      <td>...</td>\n      <td>...</td>\n      <td>...</td>\n      <td>...</td>\n      <td>...</td>\n    </tr>\n    <tr>\n      <th>33989</th>\n      <td>33989</td>\n      <td>Important_Event</td>\n      <td>capilouto65a.cha</td>\n      <td>expandin(g) . \u0015749628_750178\u0015</td>\n      <td>expanding.</td>\n      <td>0</td>\n    </tr>\n    <tr>\n      <th>10299</th>\n      <td>10299</td>\n      <td>Window</td>\n      <td>wright207a.cha</td>\n      <td>okay . [+ exc] \u0015415071_415421\u0015</td>\n      <td>okay.</td>\n      <td>1</td>\n    </tr>\n    <tr>\n      <th>2477</th>\n      <td>2477</td>\n      <td>Cinderella</td>\n      <td>20-1.cha</td>\n      <td>and they stuck out their feet . \u00152238030_2239200\u0015</td>\n      <td>and they stuck out their feet.</td>\n      <td>0</td>\n    </tr>\n    <tr>\n      <th>34179</th>\n      <td>34179</td>\n      <td>Cinderella</td>\n      <td>elman11a.cha</td>\n      <td>thank_you . [+ exc] \u0015995325_995765\u0015</td>\n      <td>thank you.</td>\n      <td>1</td>\n    </tr>\n    <tr>\n      <th>1752</th>\n      <td>1752</td>\n      <td>Umbrella</td>\n      <td>wright77a.cha</td>\n      <td>+\" get caught in the rain then . \u0015255776_256646\u0015</td>\n      <td>get caught in the rain then.</td>\n      <td>0</td>\n    </tr>\n  </tbody>\n</table>\n<p>2000 rows × 6 columns</p>\n</div>"
     },
     "execution_count": 27,
     "metadata": {},
     "output_type": "execute_result"
    }
   ],
   "source": [
    "df"
   ],
   "metadata": {
    "collapsed": false,
    "ExecuteTime": {
     "end_time": "2024-04-23T10:28:42.898088Z",
     "start_time": "2024-04-23T10:28:42.879043100Z"
    }
   },
   "id": "b704f96f272789f2"
  },
  {
   "cell_type": "code",
   "execution_count": 46,
   "id": "4d56c2c7f57a670e",
   "metadata": {
    "collapsed": false,
    "ExecuteTime": {
     "end_time": "2024-04-23T10:46:10.156586600Z",
     "start_time": "2024-04-23T10:46:10.097281300Z"
    }
   },
   "outputs": [],
   "source": [
    "sentences = df[\"preprocessed_text\"]\n",
    "labels = df[\"label\"]"
   ]
  },
  {
   "cell_type": "code",
   "execution_count": 47,
   "id": "cac4c9d137b82c2",
   "metadata": {
    "collapsed": false,
    "ExecuteTime": {
     "end_time": "2024-04-23T10:46:11.734225800Z",
     "start_time": "2024-04-23T10:46:11.726718200Z"
    }
   },
   "outputs": [
    {
     "data": {
      "text/plain": "'cuda:0'"
     },
     "execution_count": 47,
     "metadata": {},
     "output_type": "execute_result"
    }
   ],
   "source": [
    "device = \"cuda:0\" if torch.cuda.is_available() else \"cpu\"\n",
    "device"
   ]
  },
  {
   "cell_type": "code",
   "execution_count": 48,
   "id": "33f9cb48f246af4e",
   "metadata": {
    "collapsed": false,
    "ExecuteTime": {
     "end_time": "2024-04-23T10:46:13.139981300Z",
     "start_time": "2024-04-23T10:46:13.093389900Z"
    }
   },
   "outputs": [
    {
     "data": {
      "text/plain": "0    27085\n1     3574\nName: count, dtype: int64"
     },
     "execution_count": 48,
     "metadata": {},
     "output_type": "execute_result"
    }
   ],
   "source": [
    "pd.Series(labels).value_counts()"
   ]
  },
  {
   "cell_type": "code",
   "execution_count": 49,
   "id": "8e4e5a09f98ef538",
   "metadata": {
    "collapsed": false,
    "ExecuteTime": {
     "end_time": "2024-04-23T10:48:34.783905300Z",
     "start_time": "2024-04-23T10:46:15.551097400Z"
    }
   },
   "outputs": [],
   "source": [
    "pred_labels_bert = []\n",
    "true_labels = []\n",
    "\n",
    "for sentence, label in zip(sentences, labels):\n",
    "    if sentence is not None and isinstance(sentence, str):\n",
    "        \n",
    "        inputs = tokenizer(sentence, return_tensors=\"pt\", truncation=True).input_ids.to(device) \n",
    "        true_labels.append(label)\n",
    "        with torch.no_grad():\n",
    "            logits = model(inputs).logits\n",
    "        predicted_class_id = logits.argmax().item()\n",
    "        pred_labels_bert.append(predicted_class_id)"
   ]
  },
  {
   "cell_type": "code",
   "execution_count": 33,
   "outputs": [],
   "source": [
    "df[\"predicted\"] = pred_labels_bert"
   ],
   "metadata": {
    "collapsed": false,
    "ExecuteTime": {
     "end_time": "2024-04-23T10:30:27.787101Z",
     "start_time": "2024-04-23T10:30:27.776411800Z"
    }
   },
   "id": "8818190153ceb5dd"
  },
  {
   "cell_type": "code",
   "execution_count": 13,
   "outputs": [],
   "source": [
    "df.to_csv(\"../linguistic_model/data/answers.csv\")"
   ],
   "metadata": {
    "collapsed": false,
    "ExecuteTime": {
     "end_time": "2024-04-23T10:16:59.283018300Z",
     "start_time": "2024-04-23T10:16:59.254949600Z"
    }
   },
   "id": "d93a9516750a84e8"
  },
  {
   "cell_type": "code",
   "execution_count": 50,
   "id": "908fd02dff45446a",
   "metadata": {
    "collapsed": false,
    "ExecuteTime": {
     "end_time": "2024-04-23T10:48:35.002702300Z",
     "start_time": "2024-04-23T10:48:34.783905300Z"
    }
   },
   "outputs": [
    {
     "name": "stdout",
     "output_type": "stream",
     "text": [
      "BERT Accuracy: {'accuracy': 0.8876675690661796}\n"
     ]
    }
   ],
   "source": [
    "print(f\"BERT Accuracy: {metric.compute(predictions=pred_labels_bert, references=true_labels)}\")"
   ]
  },
  {
   "cell_type": "code",
   "execution_count": 51,
   "id": "dd183ea2e8d85cb8",
   "metadata": {
    "collapsed": false,
    "ExecuteTime": {
     "end_time": "2024-04-23T10:48:37.089102800Z",
     "start_time": "2024-04-23T10:48:35.002702300Z"
    }
   },
   "outputs": [
    {
     "ename": "ValueError",
     "evalue": "The number of FixedLocator locations (2), usually from a call to set_ticks, does not match the number of labels (30661).",
     "output_type": "error",
     "traceback": [
      "\u001B[1;31m---------------------------------------------------------------------------\u001B[0m",
      "\u001B[1;31mValueError\u001B[0m                                Traceback (most recent call last)",
      "\u001B[1;32m~\\AppData\\Local\\Temp\\ipykernel_12576\\1266862964.py\u001B[0m in \u001B[0;36m<cell line: 7>\u001B[1;34m()\u001B[0m\n\u001B[0;32m      5\u001B[0m \u001B[0mcm\u001B[0m \u001B[1;33m=\u001B[0m \u001B[0mconfusion_matrix\u001B[0m\u001B[1;33m(\u001B[0m\u001B[0mtrue_labels\u001B[0m\u001B[1;33m,\u001B[0m \u001B[0mpred_labels_bert\u001B[0m\u001B[1;33m,\u001B[0m \u001B[0mnormalize\u001B[0m\u001B[1;33m=\u001B[0m\u001B[1;34m'true'\u001B[0m\u001B[1;33m)\u001B[0m\u001B[1;33m\u001B[0m\u001B[1;33m\u001B[0m\u001B[0m\n\u001B[0;32m      6\u001B[0m \u001B[0mtn\u001B[0m\u001B[1;33m,\u001B[0m \u001B[0mfp\u001B[0m\u001B[1;33m,\u001B[0m \u001B[0mfn\u001B[0m\u001B[1;33m,\u001B[0m \u001B[0mtp\u001B[0m \u001B[1;33m=\u001B[0m \u001B[0mcm\u001B[0m\u001B[1;33m.\u001B[0m\u001B[0mravel\u001B[0m\u001B[1;33m(\u001B[0m\u001B[1;33m)\u001B[0m\u001B[1;33m\u001B[0m\u001B[1;33m\u001B[0m\u001B[0m\n\u001B[1;32m----> 7\u001B[1;33m \u001B[0mConfusionMatrixDisplay\u001B[0m\u001B[1;33m.\u001B[0m\u001B[0mfrom_predictions\u001B[0m\u001B[1;33m(\u001B[0m\u001B[0mtrue_labels\u001B[0m\u001B[1;33m,\u001B[0m \u001B[0mpred_labels_bert\u001B[0m\u001B[1;33m,\u001B[0m \u001B[0mnormalize\u001B[0m\u001B[1;33m=\u001B[0m\u001B[1;34m\"true\"\u001B[0m\u001B[1;33m,\u001B[0m \u001B[0mcmap\u001B[0m\u001B[1;33m=\u001B[0m\u001B[0mplt\u001B[0m\u001B[1;33m.\u001B[0m\u001B[0mcm\u001B[0m\u001B[1;33m.\u001B[0m\u001B[0mBlues\u001B[0m\u001B[1;33m)\u001B[0m\u001B[1;33m\u001B[0m\u001B[1;33m\u001B[0m\u001B[0m\n\u001B[0m\u001B[0;32m      8\u001B[0m \u001B[0mplt\u001B[0m\u001B[1;33m.\u001B[0m\u001B[0mgrid\u001B[0m\u001B[1;33m(\u001B[0m\u001B[1;32mFalse\u001B[0m\u001B[1;33m)\u001B[0m\u001B[1;33m\u001B[0m\u001B[1;33m\u001B[0m\u001B[0m\n\u001B[0;32m      9\u001B[0m \u001B[0mplt\u001B[0m\u001B[1;33m.\u001B[0m\u001B[0mshow\u001B[0m\u001B[1;33m(\u001B[0m\u001B[1;33m)\u001B[0m\u001B[1;33m\u001B[0m\u001B[1;33m\u001B[0m\u001B[0m\n",
      "\u001B[1;32m~\\miniconda3\\envs\\thesis\\lib\\site-packages\\sklearn\\metrics\\_plot\\confusion_matrix.py\u001B[0m in \u001B[0;36mfrom_predictions\u001B[1;34m(cls, y_true, y_pred, labels, sample_weight, normalize, display_labels, include_values, xticks_rotation, values_format, cmap, ax, colorbar, im_kw, text_kw)\u001B[0m\n\u001B[0;32m    471\u001B[0m         \u001B[0mdisp\u001B[0m \u001B[1;33m=\u001B[0m \u001B[0mcls\u001B[0m\u001B[1;33m(\u001B[0m\u001B[0mconfusion_matrix\u001B[0m\u001B[1;33m=\u001B[0m\u001B[0mcm\u001B[0m\u001B[1;33m,\u001B[0m \u001B[0mdisplay_labels\u001B[0m\u001B[1;33m=\u001B[0m\u001B[0mdisplay_labels\u001B[0m\u001B[1;33m)\u001B[0m\u001B[1;33m\u001B[0m\u001B[1;33m\u001B[0m\u001B[0m\n\u001B[0;32m    472\u001B[0m \u001B[1;33m\u001B[0m\u001B[0m\n\u001B[1;32m--> 473\u001B[1;33m         return disp.plot(\n\u001B[0m\u001B[0;32m    474\u001B[0m             \u001B[0minclude_values\u001B[0m\u001B[1;33m=\u001B[0m\u001B[0minclude_values\u001B[0m\u001B[1;33m,\u001B[0m\u001B[1;33m\u001B[0m\u001B[1;33m\u001B[0m\u001B[0m\n\u001B[0;32m    475\u001B[0m             \u001B[0mcmap\u001B[0m\u001B[1;33m=\u001B[0m\u001B[0mcmap\u001B[0m\u001B[1;33m,\u001B[0m\u001B[1;33m\u001B[0m\u001B[1;33m\u001B[0m\u001B[0m\n",
      "\u001B[1;32m~\\miniconda3\\envs\\thesis\\lib\\site-packages\\sklearn\\metrics\\_plot\\confusion_matrix.py\u001B[0m in \u001B[0;36mplot\u001B[1;34m(self, include_values, cmap, xticks_rotation, values_format, ax, colorbar, im_kw, text_kw)\u001B[0m\n\u001B[0;32m    179\u001B[0m         \u001B[1;32mif\u001B[0m \u001B[0mcolorbar\u001B[0m\u001B[1;33m:\u001B[0m\u001B[1;33m\u001B[0m\u001B[1;33m\u001B[0m\u001B[0m\n\u001B[0;32m    180\u001B[0m             \u001B[0mfig\u001B[0m\u001B[1;33m.\u001B[0m\u001B[0mcolorbar\u001B[0m\u001B[1;33m(\u001B[0m\u001B[0mself\u001B[0m\u001B[1;33m.\u001B[0m\u001B[0mim_\u001B[0m\u001B[1;33m,\u001B[0m \u001B[0max\u001B[0m\u001B[1;33m=\u001B[0m\u001B[0max\u001B[0m\u001B[1;33m)\u001B[0m\u001B[1;33m\u001B[0m\u001B[1;33m\u001B[0m\u001B[0m\n\u001B[1;32m--> 181\u001B[1;33m         ax.set(\n\u001B[0m\u001B[0;32m    182\u001B[0m             \u001B[0mxticks\u001B[0m\u001B[1;33m=\u001B[0m\u001B[0mnp\u001B[0m\u001B[1;33m.\u001B[0m\u001B[0marange\u001B[0m\u001B[1;33m(\u001B[0m\u001B[0mn_classes\u001B[0m\u001B[1;33m)\u001B[0m\u001B[1;33m,\u001B[0m\u001B[1;33m\u001B[0m\u001B[1;33m\u001B[0m\u001B[0m\n\u001B[0;32m    183\u001B[0m             \u001B[0myticks\u001B[0m\u001B[1;33m=\u001B[0m\u001B[0mnp\u001B[0m\u001B[1;33m.\u001B[0m\u001B[0marange\u001B[0m\u001B[1;33m(\u001B[0m\u001B[0mn_classes\u001B[0m\u001B[1;33m)\u001B[0m\u001B[1;33m,\u001B[0m\u001B[1;33m\u001B[0m\u001B[1;33m\u001B[0m\u001B[0m\n",
      "\u001B[1;32m~\\miniconda3\\envs\\thesis\\lib\\site-packages\\matplotlib\\artist.py\u001B[0m in \u001B[0;36m<lambda>\u001B[1;34m(self, **kwargs)\u001B[0m\n\u001B[0;32m    145\u001B[0m             \u001B[1;32mreturn\u001B[0m\u001B[1;33m\u001B[0m\u001B[1;33m\u001B[0m\u001B[0m\n\u001B[0;32m    146\u001B[0m \u001B[1;33m\u001B[0m\u001B[0m\n\u001B[1;32m--> 147\u001B[1;33m         \u001B[0mcls\u001B[0m\u001B[1;33m.\u001B[0m\u001B[0mset\u001B[0m \u001B[1;33m=\u001B[0m \u001B[1;32mlambda\u001B[0m \u001B[0mself\u001B[0m\u001B[1;33m,\u001B[0m \u001B[1;33m**\u001B[0m\u001B[0mkwargs\u001B[0m\u001B[1;33m:\u001B[0m \u001B[0mArtist\u001B[0m\u001B[1;33m.\u001B[0m\u001B[0mset\u001B[0m\u001B[1;33m(\u001B[0m\u001B[0mself\u001B[0m\u001B[1;33m,\u001B[0m \u001B[1;33m**\u001B[0m\u001B[0mkwargs\u001B[0m\u001B[1;33m)\u001B[0m\u001B[1;33m\u001B[0m\u001B[1;33m\u001B[0m\u001B[0m\n\u001B[0m\u001B[0;32m    148\u001B[0m         \u001B[0mcls\u001B[0m\u001B[1;33m.\u001B[0m\u001B[0mset\u001B[0m\u001B[1;33m.\u001B[0m\u001B[0m__name__\u001B[0m \u001B[1;33m=\u001B[0m \u001B[1;34m\"set\"\u001B[0m\u001B[1;33m\u001B[0m\u001B[1;33m\u001B[0m\u001B[0m\n\u001B[0;32m    149\u001B[0m         \u001B[0mcls\u001B[0m\u001B[1;33m.\u001B[0m\u001B[0mset\u001B[0m\u001B[1;33m.\u001B[0m\u001B[0m__qualname__\u001B[0m \u001B[1;33m=\u001B[0m \u001B[1;34mf\"{cls.__qualname__}.set\"\u001B[0m\u001B[1;33m\u001B[0m\u001B[1;33m\u001B[0m\u001B[0m\n",
      "\u001B[1;32m~\\miniconda3\\envs\\thesis\\lib\\site-packages\\matplotlib\\artist.py\u001B[0m in \u001B[0;36mset\u001B[1;34m(self, **kwargs)\u001B[0m\n\u001B[0;32m   1225\u001B[0m         \u001B[1;31m# Artist._update_set_signature_and_docstring() at the end of the\u001B[0m\u001B[1;33m\u001B[0m\u001B[1;33m\u001B[0m\u001B[0m\n\u001B[0;32m   1226\u001B[0m         \u001B[1;31m# module.\u001B[0m\u001B[1;33m\u001B[0m\u001B[1;33m\u001B[0m\u001B[0m\n\u001B[1;32m-> 1227\u001B[1;33m         \u001B[1;32mreturn\u001B[0m \u001B[0mself\u001B[0m\u001B[1;33m.\u001B[0m\u001B[0m_internal_update\u001B[0m\u001B[1;33m(\u001B[0m\u001B[0mcbook\u001B[0m\u001B[1;33m.\u001B[0m\u001B[0mnormalize_kwargs\u001B[0m\u001B[1;33m(\u001B[0m\u001B[0mkwargs\u001B[0m\u001B[1;33m,\u001B[0m \u001B[0mself\u001B[0m\u001B[1;33m)\u001B[0m\u001B[1;33m)\u001B[0m\u001B[1;33m\u001B[0m\u001B[1;33m\u001B[0m\u001B[0m\n\u001B[0m\u001B[0;32m   1228\u001B[0m \u001B[1;33m\u001B[0m\u001B[0m\n\u001B[0;32m   1229\u001B[0m     \u001B[1;33m@\u001B[0m\u001B[0mcontextlib\u001B[0m\u001B[1;33m.\u001B[0m\u001B[0mcontextmanager\u001B[0m\u001B[1;33m\u001B[0m\u001B[1;33m\u001B[0m\u001B[0m\n",
      "\u001B[1;32m~\\miniconda3\\envs\\thesis\\lib\\site-packages\\matplotlib\\artist.py\u001B[0m in \u001B[0;36m_internal_update\u001B[1;34m(self, kwargs)\u001B[0m\n\u001B[0;32m   1217\u001B[0m         \u001B[0mThe\u001B[0m \u001B[0mlack\u001B[0m \u001B[0mof\u001B[0m \u001B[0mprenormalization\u001B[0m \u001B[1;32mis\u001B[0m \u001B[0mto\u001B[0m \u001B[0mmaintain\u001B[0m \u001B[0mbackcompatibility\u001B[0m\u001B[1;33m.\u001B[0m\u001B[1;33m\u001B[0m\u001B[1;33m\u001B[0m\u001B[0m\n\u001B[0;32m   1218\u001B[0m         \"\"\"\n\u001B[1;32m-> 1219\u001B[1;33m         return self._update_props(\n\u001B[0m\u001B[0;32m   1220\u001B[0m             \u001B[0mkwargs\u001B[0m\u001B[1;33m,\u001B[0m \u001B[1;34m\"{cls.__name__}.set() got an unexpected keyword argument \"\u001B[0m\u001B[1;33m\u001B[0m\u001B[1;33m\u001B[0m\u001B[0m\n\u001B[0;32m   1221\u001B[0m             \"{prop_name!r}\")\n",
      "\u001B[1;32m~\\miniconda3\\envs\\thesis\\lib\\site-packages\\matplotlib\\artist.py\u001B[0m in \u001B[0;36m_update_props\u001B[1;34m(self, props, errfmt)\u001B[0m\n\u001B[0;32m   1193\u001B[0m                         raise AttributeError(\n\u001B[0;32m   1194\u001B[0m                             errfmt.format(cls=type(self), prop_name=k))\n\u001B[1;32m-> 1195\u001B[1;33m                     \u001B[0mret\u001B[0m\u001B[1;33m.\u001B[0m\u001B[0mappend\u001B[0m\u001B[1;33m(\u001B[0m\u001B[0mfunc\u001B[0m\u001B[1;33m(\u001B[0m\u001B[0mv\u001B[0m\u001B[1;33m)\u001B[0m\u001B[1;33m)\u001B[0m\u001B[1;33m\u001B[0m\u001B[1;33m\u001B[0m\u001B[0m\n\u001B[0m\u001B[0;32m   1196\u001B[0m         \u001B[1;32mif\u001B[0m \u001B[0mret\u001B[0m\u001B[1;33m:\u001B[0m\u001B[1;33m\u001B[0m\u001B[1;33m\u001B[0m\u001B[0m\n\u001B[0;32m   1197\u001B[0m             \u001B[0mself\u001B[0m\u001B[1;33m.\u001B[0m\u001B[0mpchanged\u001B[0m\u001B[1;33m(\u001B[0m\u001B[1;33m)\u001B[0m\u001B[1;33m\u001B[0m\u001B[1;33m\u001B[0m\u001B[0m\n",
      "\u001B[1;32m~\\miniconda3\\envs\\thesis\\lib\\site-packages\\matplotlib\\axes\\_base.py\u001B[0m in \u001B[0;36mwrapper\u001B[1;34m(self, *args, **kwargs)\u001B[0m\n\u001B[0;32m     71\u001B[0m \u001B[1;33m\u001B[0m\u001B[0m\n\u001B[0;32m     72\u001B[0m         \u001B[1;32mdef\u001B[0m \u001B[0mwrapper\u001B[0m\u001B[1;33m(\u001B[0m\u001B[0mself\u001B[0m\u001B[1;33m,\u001B[0m \u001B[1;33m*\u001B[0m\u001B[0margs\u001B[0m\u001B[1;33m,\u001B[0m \u001B[1;33m**\u001B[0m\u001B[0mkwargs\u001B[0m\u001B[1;33m)\u001B[0m\u001B[1;33m:\u001B[0m\u001B[1;33m\u001B[0m\u001B[1;33m\u001B[0m\u001B[0m\n\u001B[1;32m---> 73\u001B[1;33m             \u001B[1;32mreturn\u001B[0m \u001B[0mget_method\u001B[0m\u001B[1;33m(\u001B[0m\u001B[0mself\u001B[0m\u001B[1;33m)\u001B[0m\u001B[1;33m(\u001B[0m\u001B[1;33m*\u001B[0m\u001B[0margs\u001B[0m\u001B[1;33m,\u001B[0m \u001B[1;33m**\u001B[0m\u001B[0mkwargs\u001B[0m\u001B[1;33m)\u001B[0m\u001B[1;33m\u001B[0m\u001B[1;33m\u001B[0m\u001B[0m\n\u001B[0m\u001B[0;32m     74\u001B[0m \u001B[1;33m\u001B[0m\u001B[0m\n\u001B[0;32m     75\u001B[0m         \u001B[0mwrapper\u001B[0m\u001B[1;33m.\u001B[0m\u001B[0m__module__\u001B[0m \u001B[1;33m=\u001B[0m \u001B[0mowner\u001B[0m\u001B[1;33m.\u001B[0m\u001B[0m__module__\u001B[0m\u001B[1;33m\u001B[0m\u001B[1;33m\u001B[0m\u001B[0m\n",
      "\u001B[1;32m~\\miniconda3\\envs\\thesis\\lib\\site-packages\\matplotlib\\_api\\deprecation.py\u001B[0m in \u001B[0;36mwrapper\u001B[1;34m(*args, **kwargs)\u001B[0m\n\u001B[0;32m    295\u001B[0m                 f\"for the old name will be dropped %(removal)s.\")\n\u001B[0;32m    296\u001B[0m             \u001B[0mkwargs\u001B[0m\u001B[1;33m[\u001B[0m\u001B[0mnew\u001B[0m\u001B[1;33m]\u001B[0m \u001B[1;33m=\u001B[0m \u001B[0mkwargs\u001B[0m\u001B[1;33m.\u001B[0m\u001B[0mpop\u001B[0m\u001B[1;33m(\u001B[0m\u001B[0mold\u001B[0m\u001B[1;33m)\u001B[0m\u001B[1;33m\u001B[0m\u001B[1;33m\u001B[0m\u001B[0m\n\u001B[1;32m--> 297\u001B[1;33m         \u001B[1;32mreturn\u001B[0m \u001B[0mfunc\u001B[0m\u001B[1;33m(\u001B[0m\u001B[1;33m*\u001B[0m\u001B[0margs\u001B[0m\u001B[1;33m,\u001B[0m \u001B[1;33m**\u001B[0m\u001B[0mkwargs\u001B[0m\u001B[1;33m)\u001B[0m\u001B[1;33m\u001B[0m\u001B[1;33m\u001B[0m\u001B[0m\n\u001B[0m\u001B[0;32m    298\u001B[0m \u001B[1;33m\u001B[0m\u001B[0m\n\u001B[0;32m    299\u001B[0m     \u001B[1;31m# wrapper() must keep the same documented signature as func(): if we\u001B[0m\u001B[1;33m\u001B[0m\u001B[1;33m\u001B[0m\u001B[0m\n",
      "\u001B[1;32m~\\miniconda3\\envs\\thesis\\lib\\site-packages\\matplotlib\\axis.py\u001B[0m in \u001B[0;36mset_ticklabels\u001B[1;34m(self, labels, minor, fontdict, **kwargs)\u001B[0m\n\u001B[0;32m   2023\u001B[0m             \u001B[1;31m# remove all tick labels, so only error for > 0 labels\u001B[0m\u001B[1;33m\u001B[0m\u001B[1;33m\u001B[0m\u001B[0m\n\u001B[0;32m   2024\u001B[0m             \u001B[1;32mif\u001B[0m \u001B[0mlen\u001B[0m\u001B[1;33m(\u001B[0m\u001B[0mlocator\u001B[0m\u001B[1;33m.\u001B[0m\u001B[0mlocs\u001B[0m\u001B[1;33m)\u001B[0m \u001B[1;33m!=\u001B[0m \u001B[0mlen\u001B[0m\u001B[1;33m(\u001B[0m\u001B[0mlabels\u001B[0m\u001B[1;33m)\u001B[0m \u001B[1;32mand\u001B[0m \u001B[0mlen\u001B[0m\u001B[1;33m(\u001B[0m\u001B[0mlabels\u001B[0m\u001B[1;33m)\u001B[0m \u001B[1;33m!=\u001B[0m \u001B[1;36m0\u001B[0m\u001B[1;33m:\u001B[0m\u001B[1;33m\u001B[0m\u001B[1;33m\u001B[0m\u001B[0m\n\u001B[1;32m-> 2025\u001B[1;33m                 raise ValueError(\n\u001B[0m\u001B[0;32m   2026\u001B[0m                     \u001B[1;34m\"The number of FixedLocator locations\"\u001B[0m\u001B[1;33m\u001B[0m\u001B[1;33m\u001B[0m\u001B[0m\n\u001B[0;32m   2027\u001B[0m                     \u001B[1;34mf\" ({len(locator.locs)}), usually from a call to\"\u001B[0m\u001B[1;33m\u001B[0m\u001B[1;33m\u001B[0m\u001B[0m\n",
      "\u001B[1;31mValueError\u001B[0m: The number of FixedLocator locations (2), usually from a call to set_ticks, does not match the number of labels (30661)."
     ]
    },
    {
     "data": {
      "text/plain": "<Figure size 640x480 with 2 Axes>",
      "image/png": "[encoded data removed]"
     },
     "metadata": {},
     "output_type": "display_data"
    }
   ],
   "source": [
    "from sklearn.metrics import confusion_matrix\n",
    "from sklearn.metrics import ConfusionMatrixDisplay\n",
    "import matplotlib.pyplot as plt\n",
    "\n",
    "cm = confusion_matrix(true_labels, pred_labels_bert, normalize='true')\n",
    "tn, fp, fn, tp = cm.ravel()\n",
    "ConfusionMatrixDisplay.from_predictions(true_labels, pred_labels_bert, normalize=\"true\", cmap=plt.cm.Blues)\n",
    "plt.grid(False)\n",
    "plt.show()"
   ]
  },
  {
   "cell_type": "code",
   "execution_count": null,
   "id": "37eb84eae4ebe85",
   "metadata": {
    "collapsed": false,
    "ExecuteTime": {
     "start_time": "2024-04-23T10:48:37.081879300Z"
    }
   },
   "outputs": [],
   "source": [
    "precision = tp / (tp + fp)\n",
    "recall = tp / (tp + fn)\n",
    "f1 = (2 * precision * recall)/ (precision+recall)\n",
    "print(precision) \n",
    "print(recall)\n",
    "print(f1)"
   ]
  },
  {
   "cell_type": "markdown",
   "id": "728ded07c2cc89f2",
   "metadata": {
    "collapsed": false
   },
   "source": [
    "# Visualize attention"
   ]
  },
  {
   "cell_type": "code",
   "execution_count": 17,
   "id": "c58008eabe116752",
   "metadata": {
    "collapsed": false,
    "ExecuteTime": {
     "end_time": "2024-04-23T10:16:59.513496700Z",
     "start_time": "2024-04-23T10:16:59.473306600Z"
    }
   },
   "outputs": [],
   "source": [
    "# from bertviz import model_view, head_view\n",
    "# from transformers import AutoTokenizer, AutoModelForSequenceClassification, AutoModel\n",
    "# import torch\n",
    "# \n",
    "# tokenizer = AutoTokenizer.from_pretrained(\"models/bert_finetuned_reverse\", return_tensor=\"pt\")\n",
    "# model = AutoModel.from_pretrained(\"models/bert_finetuned_reverse\")\n",
    "# device = \"cuda:0\" if torch.cuda.is_available() else \"cpu\""
   ]
  },
  {
   "cell_type": "code",
   "execution_count": 18,
   "id": "ffd08b360d2562f7",
   "metadata": {
    "collapsed": false,
    "ExecuteTime": {
     "end_time": "2024-04-23T10:16:59.513496700Z",
     "start_time": "2024-04-23T10:16:59.489384900Z"
    }
   },
   "outputs": [],
   "source": [
    "# print(sentences[10], labels[10])"
   ]
  },
  {
   "cell_type": "code",
   "execution_count": 19,
   "id": "851b3241908af40c",
   "metadata": {
    "collapsed": false,
    "ExecuteTime": {
     "end_time": "2024-04-23T10:16:59.528363400Z",
     "start_time": "2024-04-23T10:16:59.506605900Z"
    }
   },
   "outputs": [],
   "source": [
    "# sentence = '\"those are that an slashes is watching, right?\"'\n",
    "# label = \"1\"\n",
    "# input = tokenizer.encode(sentence, return_tensors=\"pt\")\n",
    "# output = model(input, output_attentions=True)\n",
    "# \n",
    "# attention = output[-1]\n",
    "# tokens = tokenizer.convert_ids_to_tokens(input[0]) \n",
    "# model_view(attention, tokens)\n",
    "# print(sentence, label)"
   ]
  },
  {
   "cell_type": "markdown",
   "id": "a0a4f379f7861bea",
   "metadata": {
    "collapsed": false
   },
   "source": [
    "# KNN "
   ]
  },
  {
   "cell_type": "code",
   "execution_count": 20,
   "id": "8e9127b247a7e5a3",
   "metadata": {
    "collapsed": false,
    "ExecuteTime": {
     "end_time": "2024-04-23T10:16:59.529364400Z",
     "start_time": "2024-04-23T10:16:59.524512300Z"
    }
   },
   "outputs": [],
   "source": [
    "# from gensim.models import Word2Vec\n",
    "# import numpy as np\n",
    "# import pickle"
   ]
  },
  {
   "cell_type": "code",
   "execution_count": 21,
   "id": "9b4843d7fcc3718a",
   "metadata": {
    "collapsed": false,
    "ExecuteTime": {
     "end_time": "2024-04-23T10:16:59.625796700Z",
     "start_time": "2024-04-23T10:16:59.531363400Z"
    }
   },
   "outputs": [
    {
     "ename": "NameError",
     "evalue": "name 'Word2Vec' is not defined",
     "output_type": "error",
     "traceback": [
      "\u001B[1;31m---------------------------------------------------------------------------\u001B[0m",
      "\u001B[1;31mNameError\u001B[0m                                 Traceback (most recent call last)",
      "\u001B[1;32m~\\AppData\\Local\\Temp\\ipykernel_12576\\3858832258.py\u001B[0m in \u001B[0;36m<cell line: 1>\u001B[1;34m()\u001B[0m\n\u001B[1;32m----> 1\u001B[1;33m \u001B[0mw2v_model\u001B[0m \u001B[1;33m=\u001B[0m \u001B[0mWord2Vec\u001B[0m\u001B[1;33m.\u001B[0m\u001B[0mload\u001B[0m\u001B[1;33m(\u001B[0m\u001B[1;34m\"models/word2vec_knn_reverse.model\"\u001B[0m\u001B[1;33m)\u001B[0m\u001B[1;33m\u001B[0m\u001B[1;33m\u001B[0m\u001B[0m\n\u001B[0m\u001B[0;32m      2\u001B[0m \u001B[0mvocab\u001B[0m\u001B[1;33m=\u001B[0m\u001B[0mlist\u001B[0m\u001B[1;33m(\u001B[0m\u001B[0mw2v_model\u001B[0m\u001B[1;33m.\u001B[0m\u001B[0mwv\u001B[0m\u001B[1;33m.\u001B[0m\u001B[0mkey_to_index\u001B[0m\u001B[1;33m.\u001B[0m\u001B[0mkeys\u001B[0m\u001B[1;33m(\u001B[0m\u001B[1;33m)\u001B[0m\u001B[1;33m)\u001B[0m\u001B[1;33m\u001B[0m\u001B[1;33m\u001B[0m\u001B[0m\n\u001B[0;32m      3\u001B[0m \u001B[0mloaded_model\u001B[0m \u001B[1;33m=\u001B[0m \u001B[0mpickle\u001B[0m\u001B[1;33m.\u001B[0m\u001B[0mload\u001B[0m\u001B[1;33m(\u001B[0m\u001B[0mopen\u001B[0m\u001B[1;33m(\u001B[0m\u001B[1;34m'models/knn_reverse_pickle'\u001B[0m\u001B[1;33m,\u001B[0m \u001B[1;34m'rb'\u001B[0m\u001B[1;33m)\u001B[0m\u001B[1;33m)\u001B[0m\u001B[1;33m\u001B[0m\u001B[1;33m\u001B[0m\u001B[0m\n",
      "\u001B[1;31mNameError\u001B[0m: name 'Word2Vec' is not defined"
     ]
    }
   ],
   "source": [
    "w2v_model = Word2Vec.load(\"models/word2vec_knn_reverse.model\")\n",
    "vocab=list(w2v_model.wv.key_to_index.keys())\n",
    "loaded_model = pickle.load(open('models/knn_reverse_pickle', 'rb'))"
   ]
  },
  {
   "cell_type": "code",
   "execution_count": null,
   "id": "cc22d95f78f4ec6d",
   "metadata": {
    "collapsed": false,
    "ExecuteTime": {
     "start_time": "2024-04-23T10:16:59.623873200Z"
    }
   },
   "outputs": [],
   "source": [
    "def avg_w2vec(sentences, labels):\n",
    "    \"\"\"\n",
    "    Average Word2Vec approach for creating a vector for a given sentence from the word embeddings of each words of the sentence.\n",
    "    \"\"\"\n",
    "\n",
    "    transformed=[]\n",
    "    lab = []\n",
    "    for sentence, label in zip(sentences,labels):\n",
    "        count=0\n",
    "        vector=np.zeros(300)\n",
    "        for word in sentence.split():\n",
    "            if word in vocab:\n",
    "                vector+=w2v_model.wv.get_vector(word)\n",
    "                count+=1\n",
    "        if count!=0:\n",
    "            vector/=count\n",
    "            transformed.append(vector)\n",
    "            lab.append(label)\n",
    "    return np.array(transformed), np.array(lab)"
   ]
  },
  {
   "cell_type": "code",
   "execution_count": null,
   "id": "43185ffa513be3ba",
   "metadata": {
    "collapsed": false,
    "ExecuteTime": {
     "start_time": "2024-04-23T10:16:59.625796700Z"
    }
   },
   "outputs": [],
   "source": [
    "transformed_text, labels1= avg_w2vec(sentences, labels)"
   ]
  },
  {
   "cell_type": "code",
   "execution_count": null,
   "id": "83fb2cce4c082884",
   "metadata": {
    "collapsed": false,
    "ExecuteTime": {
     "start_time": "2024-04-23T10:16:59.629260Z"
    }
   },
   "outputs": [],
   "source": [
    "pred_labels_knn = loaded_model.predict(transformed_text)"
   ]
  },
  {
   "cell_type": "code",
   "execution_count": null,
   "id": "daef273246ce57cf",
   "metadata": {
    "collapsed": false,
    "ExecuteTime": {
     "end_time": "2024-04-23T10:16:59.631796100Z",
     "start_time": "2024-04-23T10:16:59.630978200Z"
    }
   },
   "outputs": [],
   "source": [
    "print(len(pred_labels_knn))\n",
    "print(len(transformed_text))"
   ]
  },
  {
   "cell_type": "code",
   "execution_count": null,
   "id": "828c5398ace16183",
   "metadata": {
    "collapsed": false,
    "ExecuteTime": {
     "end_time": "2024-04-23T10:16:59.633528200Z",
     "start_time": "2024-04-23T10:16:59.633528200Z"
    }
   },
   "outputs": [],
   "source": [
    "print(f\"KNN Accuracy: {metric.compute(predictions=pred_labels_knn, references=labels1)}\")"
   ]
  },
  {
   "cell_type": "code",
   "execution_count": null,
   "id": "38a112fc58ebed7f",
   "metadata": {
    "collapsed": false,
    "ExecuteTime": {
     "start_time": "2024-04-23T10:16:59.634820200Z"
    }
   },
   "outputs": [],
   "source": [
    "from sklearn.metrics import confusion_matrix, ConfusionMatrixDisplay\n",
    "import matplotlib.pyplot as plt\n",
    "\n",
    "cm = confusion_matrix(labels1, pred_labels_knn, normalize='true')\n",
    "tn, fp, fn, tp = cm.ravel()\n",
    "ConfusionMatrixDisplay.from_predictions(labels1, pred_labels_knn, normalize=\"true\", cmap=plt.cm.Blues)\n",
    "plt.grid(False)\n",
    "plt.show()"
   ]
  },
  {
   "cell_type": "code",
   "execution_count": null,
   "id": "831a8b161c8b8b4e",
   "metadata": {
    "collapsed": false,
    "ExecuteTime": {
     "start_time": "2024-04-23T10:16:59.636369700Z"
    }
   },
   "outputs": [],
   "source": [
    "precision = tp / (tp + fp)\n",
    "recall = tp / (tp + fn)\n",
    "f1 = (2 * precision * recall)/ (precision+recall)\n",
    "print(precision) \n",
    "print(recall)\n",
    "print(f1)"
   ]
  },
  {
   "cell_type": "markdown",
   "id": "4eed245b42d62b79",
   "metadata": {
    "collapsed": false
   },
   "source": [
    "# Random forest"
   ]
  },
  {
   "cell_type": "code",
   "execution_count": null,
   "id": "c529baa11b1fa279",
   "metadata": {
    "collapsed": false,
    "ExecuteTime": {
     "start_time": "2024-04-23T10:16:59.637414800Z"
    }
   },
   "outputs": [],
   "source": [
    "from sklearn.metrics import accuracy_score, confusion_matrix, ConfusionMatrixDisplay\n",
    "import matplotlib.pyplot as plt"
   ]
  },
  {
   "cell_type": "code",
   "execution_count": null,
   "id": "f7af3070833e3f44",
   "metadata": {
    "collapsed": false,
    "ExecuteTime": {
     "start_time": "2024-04-23T10:16:59.638835300Z"
    }
   },
   "outputs": [],
   "source": [
    "w2v_model = Word2Vec.load(\"models/word2vec_rf_reverse.model\")\n",
    "vocab=list(w2v_model.wv.key_to_index.keys())"
   ]
  },
  {
   "cell_type": "code",
   "execution_count": null,
   "id": "3e59e5fca25d6961",
   "metadata": {
    "collapsed": false,
    "ExecuteTime": {
     "end_time": "2024-04-23T10:16:59.668358600Z",
     "start_time": "2024-04-23T10:16:59.639845900Z"
    }
   },
   "outputs": [],
   "source": [
    "loaded_model = pickle.load(open('models/rf_reverse_pickle', 'rb'))"
   ]
  },
  {
   "cell_type": "code",
   "execution_count": null,
   "id": "64f6b80509ce3f80",
   "metadata": {
    "collapsed": false,
    "ExecuteTime": {
     "start_time": "2024-04-23T10:16:59.640843300Z"
    }
   },
   "outputs": [],
   "source": [
    "pred_labels_rf = loaded_model.predict(transformed_text)"
   ]
  },
  {
   "cell_type": "code",
   "execution_count": null,
   "id": "44937f90cbc2f250",
   "metadata": {
    "collapsed": false,
    "ExecuteTime": {
     "start_time": "2024-04-23T10:16:59.642181600Z"
    }
   },
   "outputs": [],
   "source": [
    "print(f\"RF Accuracy: {metric.compute(predictions=pred_labels_rf, references=labels1)}\")"
   ]
  },
  {
   "cell_type": "code",
   "execution_count": null,
   "id": "93bd562a4460cb0d",
   "metadata": {
    "collapsed": false,
    "ExecuteTime": {
     "start_time": "2024-04-23T10:16:59.643217400Z"
    }
   },
   "outputs": [],
   "source": [
    "cm = confusion_matrix(labels1, pred_labels_rf, normalize='true')\n",
    "tn, fp, fn, tp = cm.ravel()\n",
    "ConfusionMatrixDisplay.from_predictions(labels1, pred_labels_rf, normalize=\"true\", cmap=plt.cm.Blues)\n",
    "plt.grid(False)\n",
    "plt.show()"
   ]
  },
  {
   "cell_type": "code",
   "execution_count": null,
   "id": "143e53fcc65f85ab",
   "metadata": {
    "collapsed": false,
    "ExecuteTime": {
     "start_time": "2024-04-23T10:16:59.667860Z"
    }
   },
   "outputs": [],
   "source": [
    "precision = tp / (tp + fp)\n",
    "recall = tp / (tp + fn)\n",
    "f1 = (2 * precision * recall)/ (precision+recall)\n",
    "print(precision) \n",
    "print(recall)\n",
    "print(f1)"
   ]
  }
 ],
 "metadata": {
  "kernelspec": {
   "display_name": "Python 3 (ipykernel)",
   "language": "python",
   "name": "python3"
  },
  "language_info": {
   "codemirror_mode": {
    "name": "ipython",
    "version": 3
   },
   "file_extension": ".py",
   "mimetype": "text/x-python",
   "name": "python",
   "nbconvert_exporter": "python",
   "pygments_lexer": "ipython3",
   "version": "3.9.18"
  }
 },
 "nbformat": 4,
 "nbformat_minor": 5
}
