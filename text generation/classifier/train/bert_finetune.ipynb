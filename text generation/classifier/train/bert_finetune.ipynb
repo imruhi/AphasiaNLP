{
 "cells": [
  {
   "cell_type": "markdown",
   "source": [
    "## Imports  "
   ],
   "metadata": {
    "collapsed": false
   },
   "id": "a8decd97b993c427"
  },
  {
   "cell_type": "code",
   "execution_count": 48,
   "outputs": [],
   "source": [
    "from transformers import AutoTokenizer\n",
    "from transformers import DataCollatorWithPadding\n",
    "import evaluate\n",
    "import numpy as np\n",
    "from transformers import AutoModelForSequenceClassification, TrainingArguments, Trainer \n",
    "import torch\n",
    "import pandas as pd\n",
    "from datasets import Dataset, DatasetDict\n",
    "import seaborn as sns    \n",
    "from sklearn import model_selection"
   ],
   "metadata": {
    "collapsed": false,
    "ExecuteTime": {
     "end_time": "2024-05-17T15:02:47.990530200Z",
     "start_time": "2024-05-17T15:02:47.582868600Z"
    }
   },
   "id": "2f1366e7aa1dd212"
  },
  {
   "cell_type": "code",
   "execution_count": 49,
   "outputs": [
    {
     "name": "stdout",
     "output_type": "stream",
     "text": [
      "True\n",
      "12.1\n"
     ]
    }
   ],
   "source": [
    "print(torch.cuda.is_available())\n",
    "print(torch.version.cuda)"
   ],
   "metadata": {
    "collapsed": false,
    "ExecuteTime": {
     "end_time": "2024-05-17T15:02:48.340099300Z",
     "start_time": "2024-05-17T15:02:47.596682700Z"
    }
   },
   "id": "7ce3af904743ee26"
  },
  {
   "cell_type": "code",
   "execution_count": 50,
   "outputs": [
    {
     "name": "stderr",
     "output_type": "stream",
     "text": [
      "Some weights of DistilBertForSequenceClassification were not initialized from the model checkpoint at distilbert-base-uncased and are newly initialized: ['classifier.bias', 'classifier.weight', 'pre_classifier.bias', 'pre_classifier.weight']\n",
      "You should probably TRAIN this model on a down-stream task to be able to use it for predictions and inference.\n"
     ]
    }
   ],
   "source": [
    "device = torch.device(\"cuda\" if torch.cuda.is_available() else \"cpu\")\n",
    "\n",
    "tokenizer = AutoTokenizer.from_pretrained(\"distilbert-base-uncased\", return_tensor=\"pt\")\n",
    "\n",
    "data_collator = DataCollatorWithPadding(tokenizer=tokenizer)\n",
    "\n",
    "accuracy = evaluate.load(\"accuracy\")\n",
    "\n",
    "id2label = {0: \"CONTROL\", 1: \"BROCA\"}\n",
    "label2id = {\"CONTROL\": 0, \"BROCA\": 1}\n",
    "\n",
    "model = AutoModelForSequenceClassification.from_pretrained(\"distilbert-base-uncased\", num_labels=2, id2label=id2label, label2id=label2id)"
   ],
   "metadata": {
    "collapsed": false,
    "ExecuteTime": {
     "end_time": "2024-05-17T15:02:49.970027500Z",
     "start_time": "2024-05-17T15:02:47.614669500Z"
    }
   },
   "id": "288e770542a6325e"
  },
  {
   "cell_type": "code",
   "execution_count": 51,
   "outputs": [],
   "source": [
    "dataset_filename = \"../../preprocessing/data/processed_merge.csv\"\n",
    "# dataset_filename = \"../../linguistic_model/data/test_merge.csv\"\n",
    "\n",
    "data = pd.read_csv(dataset_filename, encoding='utf8', index_col=False)#.drop(['Unnamed: 0'], axis=1)"
   ],
   "metadata": {
    "collapsed": false,
    "ExecuteTime": {
     "end_time": "2024-05-17T15:02:50.116563400Z",
     "start_time": "2024-05-17T15:02:49.943196400Z"
    }
   },
   "id": "6968fd60529a4cd0"
  },
  {
   "cell_type": "code",
   "execution_count": 52,
   "outputs": [
    {
     "data": {
      "text/plain": "       Unnamed: 0.1  Unnamed: 0         scenario         source_file  \\\n0                 0        6285           Stroke  fridriksson08b.cha   \n1                 1        1220       Cinderella          1030-1.cha   \n2                 2       16468  Important_Event    capilouto59a.cha   \n3                 3       23646         Umbrella   richardson205.cha   \n4                 4       27020       Cinderella           UMD19.cha   \n...             ...         ...              ...                 ...   \n56314         56314       14371              Cat    whiteside16a.cha   \n56315         56315       14927           Stroke      wright206a.cha   \n56316         56316        3325           Stroke            50-2.cha   \n56317         56317       31231       Cinderella       wright11a.cha   \n56318         56318       22911         Sandwich   richardson196.cha   \n\n                                           original_text  \\\n0      well ‡ &=points:head yeah &=head:yes . \u001572423_...   \n1                 and then she said +\"/. \u0015148717_150937\u0015   \n2      sailors meaning we went on vacations where we ...   \n3      but he insisted that it wasn't going to rain ....   \n4      and &-um the prince is dancing with all the yo...   \n...                                                  ...   \n56314    +\" &=points:dog ruff@o ruff@o ! \u0015337839_338849\u0015   \n56315  thank_you &-uh all over again &=laughs . [+ gr...   \n56316                              yes . \u0015192554_193114\u0015   \n56317  +\" well ‡ here's a coach for you to take you t...   \n56318  &-um and then you set that off to the side . \u0015...   \n\n                                       preprocessed_text  label  \n0                                             well yeah.      1  \n1                                     and then she said.      1  \n2      sailors meaning we went on vacations where we ...      0  \n3          but he insisted that it wasn't going to rain.      0  \n4      and the prince is dancing with all the young l...      0  \n...                                                  ...    ...  \n56314                                         ruff ruff!      1  \n56315                          thank you all over again.      1  \n56316                                               yes.      1  \n56317  well here's a coach for you to take you to the...      0  \n56318             and then you set that off to the side.      0  \n\n[56319 rows x 7 columns]",
      "text/html": "<div>\n<style scoped>\n    .dataframe tbody tr th:only-of-type {\n        vertical-align: middle;\n    }\n\n    .dataframe tbody tr th {\n        vertical-align: top;\n    }\n\n    .dataframe thead th {\n        text-align: right;\n    }\n</style>\n<table border=\"1\" class=\"dataframe\">\n  <thead>\n    <tr style=\"text-align: right;\">\n      <th></th>\n      <th>Unnamed: 0.1</th>\n      <th>Unnamed: 0</th>\n      <th>scenario</th>\n      <th>source_file</th>\n      <th>original_text</th>\n      <th>preprocessed_text</th>\n      <th>label</th>\n    </tr>\n  </thead>\n  <tbody>\n    <tr>\n      <th>0</th>\n      <td>0</td>\n      <td>6285</td>\n      <td>Stroke</td>\n      <td>fridriksson08b.cha</td>\n      <td>well ‡ &amp;=points:head yeah &amp;=head:yes . \u001572423_...</td>\n      <td>well yeah.</td>\n      <td>1</td>\n    </tr>\n    <tr>\n      <th>1</th>\n      <td>1</td>\n      <td>1220</td>\n      <td>Cinderella</td>\n      <td>1030-1.cha</td>\n      <td>and then she said +\"/. \u0015148717_150937\u0015</td>\n      <td>and then she said.</td>\n      <td>1</td>\n    </tr>\n    <tr>\n      <th>2</th>\n      <td>2</td>\n      <td>16468</td>\n      <td>Important_Event</td>\n      <td>capilouto59a.cha</td>\n      <td>sailors meaning we went on vacations where we ...</td>\n      <td>sailors meaning we went on vacations where we ...</td>\n      <td>0</td>\n    </tr>\n    <tr>\n      <th>3</th>\n      <td>3</td>\n      <td>23646</td>\n      <td>Umbrella</td>\n      <td>richardson205.cha</td>\n      <td>but he insisted that it wasn't going to rain ....</td>\n      <td>but he insisted that it wasn't going to rain.</td>\n      <td>0</td>\n    </tr>\n    <tr>\n      <th>4</th>\n      <td>4</td>\n      <td>27020</td>\n      <td>Cinderella</td>\n      <td>UMD19.cha</td>\n      <td>and &amp;-um the prince is dancing with all the yo...</td>\n      <td>and the prince is dancing with all the young l...</td>\n      <td>0</td>\n    </tr>\n    <tr>\n      <th>...</th>\n      <td>...</td>\n      <td>...</td>\n      <td>...</td>\n      <td>...</td>\n      <td>...</td>\n      <td>...</td>\n      <td>...</td>\n    </tr>\n    <tr>\n      <th>56314</th>\n      <td>56314</td>\n      <td>14371</td>\n      <td>Cat</td>\n      <td>whiteside16a.cha</td>\n      <td>+\" &amp;=points:dog ruff@o ruff@o ! \u0015337839_338849\u0015</td>\n      <td>ruff ruff!</td>\n      <td>1</td>\n    </tr>\n    <tr>\n      <th>56315</th>\n      <td>56315</td>\n      <td>14927</td>\n      <td>Stroke</td>\n      <td>wright206a.cha</td>\n      <td>thank_you &amp;-uh all over again &amp;=laughs . [+ gr...</td>\n      <td>thank you all over again.</td>\n      <td>1</td>\n    </tr>\n    <tr>\n      <th>56316</th>\n      <td>56316</td>\n      <td>3325</td>\n      <td>Stroke</td>\n      <td>50-2.cha</td>\n      <td>yes . \u0015192554_193114\u0015</td>\n      <td>yes.</td>\n      <td>1</td>\n    </tr>\n    <tr>\n      <th>56317</th>\n      <td>56317</td>\n      <td>31231</td>\n      <td>Cinderella</td>\n      <td>wright11a.cha</td>\n      <td>+\" well ‡ here's a coach for you to take you t...</td>\n      <td>well here's a coach for you to take you to the...</td>\n      <td>0</td>\n    </tr>\n    <tr>\n      <th>56318</th>\n      <td>56318</td>\n      <td>22911</td>\n      <td>Sandwich</td>\n      <td>richardson196.cha</td>\n      <td>&amp;-um and then you set that off to the side . \u0015...</td>\n      <td>and then you set that off to the side.</td>\n      <td>0</td>\n    </tr>\n  </tbody>\n</table>\n<p>56319 rows × 7 columns</p>\n</div>"
     },
     "execution_count": 52,
     "metadata": {},
     "output_type": "execute_result"
    }
   ],
   "source": [
    "data"
   ],
   "metadata": {
    "collapsed": false,
    "ExecuteTime": {
     "end_time": "2024-05-17T15:02:50.136323300Z",
     "start_time": "2024-05-17T15:02:50.116563400Z"
    }
   },
   "id": "cba941e5823a34d0"
  },
  {
   "cell_type": "code",
   "execution_count": 53,
   "outputs": [
    {
     "data": {
      "text/plain": "label\n0    41095\n1    15224\nName: count, dtype: int64"
     },
     "execution_count": 53,
     "metadata": {},
     "output_type": "execute_result"
    }
   ],
   "source": [
    "data[\"label\"].value_counts()"
   ],
   "metadata": {
    "collapsed": false,
    "ExecuteTime": {
     "end_time": "2024-05-17T15:02:50.168079700Z",
     "start_time": "2024-05-17T15:02:50.136323300Z"
    }
   },
   "id": "caca98d726df10d6"
  },
  {
   "cell_type": "code",
   "execution_count": 54,
   "outputs": [
    {
     "data": {
      "text/plain": "2.591109709962169"
     },
     "execution_count": 54,
     "metadata": {},
     "output_type": "execute_result"
    }
   ],
   "source": [
    "41095/15860"
   ],
   "metadata": {
    "collapsed": false,
    "ExecuteTime": {
     "end_time": "2024-05-17T15:02:50.213579900Z",
     "start_time": "2024-05-17T15:02:50.150571900Z"
    }
   },
   "id": "31db82046759e5bb"
  },
  {
   "cell_type": "code",
   "execution_count": 55,
   "outputs": [],
   "source": [
    "dataset = Dataset.from_pandas(data)"
   ],
   "metadata": {
    "collapsed": false,
    "ExecuteTime": {
     "end_time": "2024-05-17T15:02:50.293161400Z",
     "start_time": "2024-05-17T15:02:50.168079700Z"
    }
   },
   "id": "f39e4e0f4242d32e"
  },
  {
   "cell_type": "code",
   "execution_count": 56,
   "outputs": [
    {
     "data": {
      "text/plain": "Dataset({\n    features: ['Unnamed: 0.1', 'Unnamed: 0', 'scenario', 'source_file', 'original_text', 'preprocessed_text', 'label'],\n    num_rows: 56319\n})"
     },
     "execution_count": 56,
     "metadata": {},
     "output_type": "execute_result"
    }
   ],
   "source": [
    "dataset"
   ],
   "metadata": {
    "collapsed": false,
    "ExecuteTime": {
     "end_time": "2024-05-17T15:02:50.325189200Z",
     "start_time": "2024-05-17T15:02:50.247098200Z"
    }
   },
   "id": "24dc19496ebae57"
  },
  {
   "cell_type": "markdown",
   "source": [
    "# Visualize data"
   ],
   "metadata": {
    "collapsed": false
   },
   "id": "86aa3b6c4ca832a7"
  },
  {
   "cell_type": "code",
   "execution_count": 57,
   "outputs": [],
   "source": [
    "import re\n",
    "sentences = data[\"preprocessed_text\"]\n",
    "x = pd.Series([len(re.findall(\"[a-zA-Z_]+\", x)) for x in sentences])\n",
    "data.insert(loc=0, column=\"lens\", value=x)"
   ],
   "metadata": {
    "collapsed": false,
    "ExecuteTime": {
     "end_time": "2024-05-17T15:02:50.372769200Z",
     "start_time": "2024-05-17T15:02:50.309278300Z"
    }
   },
   "id": "200668dc3f90a58d"
  },
  {
   "cell_type": "code",
   "execution_count": 58,
   "outputs": [
    {
     "data": {
      "text/plain": "lens                                                                77\nUnnamed: 0.1                                                     31412\nUnnamed: 0                                                        7188\nscenario                                                           Cat\nsource_file                                                    7-1.cha\noriginal_text        so ‡ &-uh the firefighters arrive only to disc...\npreprocessed_text    so the firefighters arrive only to discover th...\nlabel                                                                0\nName: 31412, dtype: object"
     },
     "execution_count": 58,
     "metadata": {},
     "output_type": "execute_result"
    }
   ],
   "source": [
    "data.iloc[data[\"lens\"].idxmax()]"
   ],
   "metadata": {
    "collapsed": false,
    "ExecuteTime": {
     "end_time": "2024-05-17T15:02:50.389667300Z",
     "start_time": "2024-05-17T15:02:50.358616900Z"
    }
   },
   "id": "a81c4c0b05d7a980"
  },
  {
   "cell_type": "code",
   "execution_count": 59,
   "outputs": [],
   "source": [
    "sentences = data[data['label']==0]\n",
    "sentences = sentences['preprocessed_text']\n",
    "lens = [len(re.findall(\"[a-zA-Z_]+\", x)) for x in sentences]"
   ],
   "metadata": {
    "collapsed": false,
    "ExecuteTime": {
     "end_time": "2024-05-17T15:02:50.466557700Z",
     "start_time": "2024-05-17T15:02:50.375213500Z"
    }
   },
   "id": "1f5891fc816e790c"
  },
  {
   "cell_type": "code",
   "execution_count": 60,
   "outputs": [
    {
     "data": {
      "text/plain": "0"
     },
     "execution_count": 60,
     "metadata": {},
     "output_type": "execute_result"
    }
   ],
   "source": [
    "min(lens)"
   ],
   "metadata": {
    "collapsed": false,
    "ExecuteTime": {
     "end_time": "2024-05-17T15:02:50.482621400Z",
     "start_time": "2024-05-17T15:02:50.455278Z"
    }
   },
   "id": "4a1d4a9fe1368c50"
  },
  {
   "cell_type": "code",
   "execution_count": 61,
   "outputs": [
    {
     "data": {
      "text/plain": "<Figure size 640x480 with 1 Axes>",
      "image/png": "[encoded data removed]"
     },
     "metadata": {},
     "output_type": "display_data"
    }
   ],
   "source": [
    "# a lot of aphasic sentences are 1-3 words long\n",
    "import matplotlib.pyplot as plt\n",
    "plt.hist(lens,bins=100)\n",
    "plt.show()"
   ],
   "metadata": {
    "collapsed": false,
    "ExecuteTime": {
     "end_time": "2024-05-17T15:02:50.710614300Z",
     "start_time": "2024-05-17T15:02:50.468612400Z"
    }
   },
   "id": "317c5e321c559839"
  },
  {
   "cell_type": "code",
   "execution_count": 62,
   "outputs": [],
   "source": [
    "data = data[data['lens'] >= 3]"
   ],
   "metadata": {
    "collapsed": false,
    "ExecuteTime": {
     "end_time": "2024-05-17T15:02:50.757609500Z",
     "start_time": "2024-05-17T15:02:50.708714Z"
    }
   },
   "id": "a5e4f0da144e2c94"
  },
  {
   "cell_type": "code",
   "execution_count": 63,
   "outputs": [
    {
     "data": {
      "text/plain": "       lens  Unnamed: 0.1  Unnamed: 0         scenario        source_file  \\\n1         4             1        1220       Cinderella         1030-1.cha   \n2        11             2       16468  Important_Event   capilouto59a.cha   \n3        10             3       23646         Umbrella  richardson205.cha   \n4        15             4       27020       Cinderella          UMD19.cha   \n5         9             5       17533  Important_Event   capilouto65a.cha   \n...     ...           ...         ...              ...                ...   \n56312    24         56312        6087              Cat            5-2.cha   \n56313     8         56313       29116       Cinderella        UNH1039.cha   \n56315     5         56315       14927           Stroke     wright206a.cha   \n56317    13         56317       31231       Cinderella      wright11a.cha   \n56318     9         56318       22911         Sandwich  richardson196.cha   \n\n                                           original_text  \\\n1                 and then she said +\"/. \u0015148717_150937\u0015   \n2      sailors meaning we went on vacations where we ...   \n3      but he insisted that it wasn't going to rain ....   \n4      and &-um the prince is dancing with all the yo...   \n5      and he'd do it two or three times . \u0015997563_99...   \n...                                                  ...   \n56312  so ‡ then not only could dad not reach the cat...   \n56313  and the [/] the stepmom didn't like Cinderella...   \n56315  thank_you &-uh all over again &=laughs . [+ gr...   \n56317  +\" well ‡ here's a coach for you to take you t...   \n56318  &-um and then you set that off to the side . \u0015...   \n\n                                       preprocessed_text  label  \n1                                     and then she said.      1  \n2      sailors meaning we went on vacations where we ...      0  \n3          but he insisted that it wasn't going to rain.      0  \n4      and the prince is dancing with all the young l...      0  \n5                     and he'd do it two or three times.      0  \n...                                                  ...    ...  \n56312  so then not only could dad not reach the cat b...      0  \n56313        and the the stepmom didn't like cinderella.      0  \n56315                          thank you all over again.      1  \n56317  well here's a coach for you to take you to the...      0  \n56318             and then you set that off to the side.      0  \n\n[47303 rows x 8 columns]",
      "text/html": "<div>\n<style scoped>\n    .dataframe tbody tr th:only-of-type {\n        vertical-align: middle;\n    }\n\n    .dataframe tbody tr th {\n        vertical-align: top;\n    }\n\n    .dataframe thead th {\n        text-align: right;\n    }\n</style>\n<table border=\"1\" class=\"dataframe\">\n  <thead>\n    <tr style=\"text-align: right;\">\n      <th></th>\n      <th>lens</th>\n      <th>Unnamed: 0.1</th>\n      <th>Unnamed: 0</th>\n      <th>scenario</th>\n      <th>source_file</th>\n      <th>original_text</th>\n      <th>preprocessed_text</th>\n      <th>label</th>\n    </tr>\n  </thead>\n  <tbody>\n    <tr>\n      <th>1</th>\n      <td>4</td>\n      <td>1</td>\n      <td>1220</td>\n      <td>Cinderella</td>\n      <td>1030-1.cha</td>\n      <td>and then she said +\"/. \u0015148717_150937\u0015</td>\n      <td>and then she said.</td>\n      <td>1</td>\n    </tr>\n    <tr>\n      <th>2</th>\n      <td>11</td>\n      <td>2</td>\n      <td>16468</td>\n      <td>Important_Event</td>\n      <td>capilouto59a.cha</td>\n      <td>sailors meaning we went on vacations where we ...</td>\n      <td>sailors meaning we went on vacations where we ...</td>\n      <td>0</td>\n    </tr>\n    <tr>\n      <th>3</th>\n      <td>10</td>\n      <td>3</td>\n      <td>23646</td>\n      <td>Umbrella</td>\n      <td>richardson205.cha</td>\n      <td>but he insisted that it wasn't going to rain ....</td>\n      <td>but he insisted that it wasn't going to rain.</td>\n      <td>0</td>\n    </tr>\n    <tr>\n      <th>4</th>\n      <td>15</td>\n      <td>4</td>\n      <td>27020</td>\n      <td>Cinderella</td>\n      <td>UMD19.cha</td>\n      <td>and &amp;-um the prince is dancing with all the yo...</td>\n      <td>and the prince is dancing with all the young l...</td>\n      <td>0</td>\n    </tr>\n    <tr>\n      <th>5</th>\n      <td>9</td>\n      <td>5</td>\n      <td>17533</td>\n      <td>Important_Event</td>\n      <td>capilouto65a.cha</td>\n      <td>and he'd do it two or three times . \u0015997563_99...</td>\n      <td>and he'd do it two or three times.</td>\n      <td>0</td>\n    </tr>\n    <tr>\n      <th>...</th>\n      <td>...</td>\n      <td>...</td>\n      <td>...</td>\n      <td>...</td>\n      <td>...</td>\n      <td>...</td>\n      <td>...</td>\n      <td>...</td>\n    </tr>\n    <tr>\n      <th>56312</th>\n      <td>24</td>\n      <td>56312</td>\n      <td>6087</td>\n      <td>Cat</td>\n      <td>5-2.cha</td>\n      <td>so ‡ then not only could dad not reach the cat...</td>\n      <td>so then not only could dad not reach the cat b...</td>\n      <td>0</td>\n    </tr>\n    <tr>\n      <th>56313</th>\n      <td>8</td>\n      <td>56313</td>\n      <td>29116</td>\n      <td>Cinderella</td>\n      <td>UNH1039.cha</td>\n      <td>and the [/] the stepmom didn't like Cinderella...</td>\n      <td>and the the stepmom didn't like cinderella.</td>\n      <td>0</td>\n    </tr>\n    <tr>\n      <th>56315</th>\n      <td>5</td>\n      <td>56315</td>\n      <td>14927</td>\n      <td>Stroke</td>\n      <td>wright206a.cha</td>\n      <td>thank_you &amp;-uh all over again &amp;=laughs . [+ gr...</td>\n      <td>thank you all over again.</td>\n      <td>1</td>\n    </tr>\n    <tr>\n      <th>56317</th>\n      <td>13</td>\n      <td>56317</td>\n      <td>31231</td>\n      <td>Cinderella</td>\n      <td>wright11a.cha</td>\n      <td>+\" well ‡ here's a coach for you to take you t...</td>\n      <td>well here's a coach for you to take you to the...</td>\n      <td>0</td>\n    </tr>\n    <tr>\n      <th>56318</th>\n      <td>9</td>\n      <td>56318</td>\n      <td>22911</td>\n      <td>Sandwich</td>\n      <td>richardson196.cha</td>\n      <td>&amp;-um and then you set that off to the side . \u0015...</td>\n      <td>and then you set that off to the side.</td>\n      <td>0</td>\n    </tr>\n  </tbody>\n</table>\n<p>47303 rows × 8 columns</p>\n</div>"
     },
     "execution_count": 63,
     "metadata": {},
     "output_type": "execute_result"
    }
   ],
   "source": [
    "data"
   ],
   "metadata": {
    "collapsed": false,
    "ExecuteTime": {
     "end_time": "2024-05-17T15:02:50.757609500Z",
     "start_time": "2024-05-17T15:02:50.723133500Z"
    }
   },
   "id": "6fa460d57c72365a"
  },
  {
   "cell_type": "code",
   "execution_count": 64,
   "outputs": [],
   "source": [
    "data.to_csv(\"../../preprocessing/data/processed_merge_new.csv\")"
   ],
   "metadata": {
    "collapsed": false,
    "ExecuteTime": {
     "end_time": "2024-05-17T15:02:50.917322600Z",
     "start_time": "2024-05-17T15:02:50.739733900Z"
    }
   },
   "id": "ff50fcb4cb4a72df"
  },
  {
   "cell_type": "code",
   "execution_count": 65,
   "outputs": [
    {
     "data": {
      "text/plain": "label\n0    39013\n1     8290\nName: count, dtype: int64"
     },
     "execution_count": 65,
     "metadata": {},
     "output_type": "execute_result"
    }
   ],
   "source": [
    "data[\"label\"].value_counts()"
   ],
   "metadata": {
    "collapsed": false,
    "ExecuteTime": {
     "end_time": "2024-05-17T15:02:50.940682100Z",
     "start_time": "2024-05-17T15:02:50.914489300Z"
    }
   },
   "id": "1409cd3f658f1713"
  },
  {
   "cell_type": "code",
   "execution_count": 66,
   "outputs": [
    {
     "data": {
      "text/plain": "7.57552025061535"
     },
     "execution_count": 66,
     "metadata": {},
     "output_type": "execute_result"
    }
   ],
   "source": [
    "33855/4469"
   ],
   "metadata": {
    "collapsed": false,
    "ExecuteTime": {
     "end_time": "2024-05-17T15:02:50.986547200Z",
     "start_time": "2024-05-17T15:02:50.927167900Z"
    }
   },
   "id": "fec42c6d6f6b236a"
  },
  {
   "cell_type": "code",
   "execution_count": 67,
   "outputs": [],
   "source": [
    "def compute_metrics(eval_pred):\n",
    "    metrics = [\"accuracy\", \"recall\", \"precision\", \"f1\"] #List of metrics to return\n",
    "    metric={}\n",
    "    for met in metrics:\n",
    "       metric[met] = evaluate.load(met)\n",
    "    logits, labels = eval_pred\n",
    "    predictions = np.argmax(logits, axis=1)\n",
    "    metric_res={}\n",
    "    for met in metrics:\n",
    "       metric_res[met]=metric[met].compute(predictions=predictions, references=labels)[met]\n",
    "    print(metric_res)\n",
    "    return metric_res"
   ],
   "metadata": {
    "collapsed": false,
    "ExecuteTime": {
     "end_time": "2024-05-17T15:02:50.986547200Z",
     "start_time": "2024-05-17T15:02:50.945944100Z"
    }
   },
   "id": "b1d26f8ed7628ddf"
  },
  {
   "cell_type": "code",
   "execution_count": 68,
   "outputs": [],
   "source": [
    "def preprocess_function(examples):\n",
    "    return tokenizer(examples[\"preprocessed_text\"], padding=True, truncation=True, return_tensors=\"pt\")"
   ],
   "metadata": {
    "collapsed": false,
    "ExecuteTime": {
     "end_time": "2024-05-17T15:02:51.010912200Z",
     "start_time": "2024-05-17T15:02:50.948045300Z"
    }
   },
   "id": "3c5424bef5910ed6"
  },
  {
   "cell_type": "code",
   "execution_count": 69,
   "outputs": [
    {
     "data": {
      "text/plain": "Map:   0%|          | 0/56319 [00:00<?, ? examples/s]",
      "application/vnd.jupyter.widget-view+json": {
       "version_major": 2,
       "version_minor": 0,
       "model_id": "080ae9b78c274e97af561057fdfb190c"
      }
     },
     "metadata": {},
     "output_type": "display_data"
    }
   ],
   "source": [
    "tokenized_data = dataset.map(preprocess_function, batched=True).with_format(\"torch\")"
   ],
   "metadata": {
    "collapsed": false,
    "ExecuteTime": {
     "end_time": "2024-05-17T15:02:52.937325200Z",
     "start_time": "2024-05-17T15:02:50.975265900Z"
    }
   },
   "id": "8e968036da2524"
  },
  {
   "cell_type": "code",
   "execution_count": 70,
   "outputs": [],
   "source": [
    "# 70% train, 30% test + valid\n",
    "train_testvalid = tokenized_data.train_test_split(test_size=0.2, seed=42)\n",
    "test_valid = train_testvalid['test'].train_test_split(test_size=0.5, seed=41)"
   ],
   "metadata": {
    "collapsed": false,
    "ExecuteTime": {
     "end_time": "2024-05-17T15:02:52.962881200Z",
     "start_time": "2024-05-17T15:02:52.932329600Z"
    }
   },
   "id": "26c079af78f208bd"
  },
  {
   "cell_type": "code",
   "execution_count": 71,
   "outputs": [],
   "source": [
    "tokenized_data_split = DatasetDict({\n",
    "    \"train\": train_testvalid[\"train\"],\n",
    "    \"test\": test_valid[\"test\"],\n",
    "    \"valid\": test_valid[\"train\"]})"
   ],
   "metadata": {
    "collapsed": false,
    "ExecuteTime": {
     "end_time": "2024-05-17T15:02:52.994802600Z",
     "start_time": "2024-05-17T15:02:52.962881200Z"
    }
   },
   "id": "56d07ced2f9e8ce6"
  },
  {
   "cell_type": "code",
   "execution_count": 72,
   "outputs": [
    {
     "data": {
      "text/plain": "DatasetDict({\n    train: Dataset({\n        features: ['Unnamed: 0.1', 'Unnamed: 0', 'scenario', 'source_file', 'original_text', 'preprocessed_text', 'label', 'input_ids', 'attention_mask'],\n        num_rows: 45055\n    })\n    test: Dataset({\n        features: ['Unnamed: 0.1', 'Unnamed: 0', 'scenario', 'source_file', 'original_text', 'preprocessed_text', 'label', 'input_ids', 'attention_mask'],\n        num_rows: 5632\n    })\n    valid: Dataset({\n        features: ['Unnamed: 0.1', 'Unnamed: 0', 'scenario', 'source_file', 'original_text', 'preprocessed_text', 'label', 'input_ids', 'attention_mask'],\n        num_rows: 5632\n    })\n})"
     },
     "execution_count": 72,
     "metadata": {},
     "output_type": "execute_result"
    }
   ],
   "source": [
    "tokenized_data_split"
   ],
   "metadata": {
    "collapsed": false,
    "ExecuteTime": {
     "end_time": "2024-05-17T15:02:53.037636Z",
     "start_time": "2024-05-17T15:02:52.981141100Z"
    }
   },
   "id": "f252a85f572a664"
  },
  {
   "cell_type": "code",
   "execution_count": 73,
   "outputs": [
    {
     "data": {
      "text/plain": "Saving the dataset (0/1 shards):   0%|          | 0/45055 [00:00<?, ? examples/s]",
      "application/vnd.jupyter.widget-view+json": {
       "version_major": 2,
       "version_minor": 0,
       "model_id": "2037d6ee613642a4a8ba857e7f9a5a7d"
      }
     },
     "metadata": {},
     "output_type": "display_data"
    },
    {
     "data": {
      "text/plain": "Saving the dataset (0/1 shards):   0%|          | 0/5632 [00:00<?, ? examples/s]",
      "application/vnd.jupyter.widget-view+json": {
       "version_major": 2,
       "version_minor": 0,
       "model_id": "7f0fee7e28764a91a80af857383f68fa"
      }
     },
     "metadata": {},
     "output_type": "display_data"
    },
    {
     "data": {
      "text/plain": "Saving the dataset (0/1 shards):   0%|          | 0/5632 [00:00<?, ? examples/s]",
      "application/vnd.jupyter.widget-view+json": {
       "version_major": 2,
       "version_minor": 0,
       "model_id": "67a9f9e60e6e4587b2f08a28be2b99ea"
      }
     },
     "metadata": {},
     "output_type": "display_data"
    }
   ],
   "source": [
    "tokenized_data_split.save_to_disk(\"split_dataset\")"
   ],
   "metadata": {
    "collapsed": false,
    "ExecuteTime": {
     "end_time": "2024-05-17T15:02:53.578848200Z",
     "start_time": "2024-05-17T15:02:52.995808200Z"
    }
   },
   "id": "9235b03382ce2939"
  },
  {
   "cell_type": "code",
   "execution_count": 74,
   "outputs": [
    {
     "name": "stderr",
     "output_type": "stream",
     "text": [
      "C:\\Users\\imruh\\miniconda3\\envs\\thesis\\lib\\site-packages\\accelerate\\accelerator.py:432: FutureWarning: Passing the following arguments to `Accelerator` is deprecated and will be removed in version 1.0 of Accelerate: dict_keys(['dispatch_batches', 'split_batches', 'even_batches', 'use_seedable_sampler']). Please pass an `accelerate.DataLoaderConfiguration` instead: \n",
      "dataloader_config = DataLoaderConfiguration(dispatch_batches=None, split_batches=False, even_batches=True, use_seedable_sampler=True)\n",
      "  warnings.warn(\n"
     ]
    },
    {
     "data": {
      "text/plain": "<IPython.core.display.HTML object>",
      "text/html": "\n    <div>\n      \n      <progress value='2' max='5632' style='width:300px; height:20px; vertical-align: middle;'></progress>\n      [   2/5632 : < :, Epoch 0.00/2]\n    </div>\n    <table border=\"1\" class=\"dataframe\">\n  <thead>\n <tr style=\"text-align: left;\">\n      <th>Epoch</th>\n      <th>Training Loss</th>\n      <th>Validation Loss</th>\n    </tr>\n  </thead>\n  <tbody>\n  </tbody>\n</table><p>"
     },
     "metadata": {},
     "output_type": "display_data"
    },
    {
     "name": "stdout",
     "output_type": "stream",
     "text": [
      "{'accuracy': 0.91015625, 'recall': 0.8133423180592992, 'precision': 0.8405292479108635, 'f1': 0.8267123287671233}\n",
      "{'accuracy': 0.9167258522727273, 'recall': 0.8200808625336927, 'precision': 0.857646229739253, 'f1': 0.8384429900103342}\n"
     ]
    }
   ],
   "source": [
    "training_args = TrainingArguments(\n",
    "    output_dir=\"../models/bert_finetuned\",\n",
    "    learning_rate=2e-5,\n",
    "    per_device_train_batch_size=16,\n",
    "    per_device_eval_batch_size=16,\n",
    "    num_train_epochs=2,\n",
    "    weight_decay=0.01,\n",
    "    evaluation_strategy=\"epoch\",\n",
    "    logging_strategy=\"epoch\",\n",
    "    save_strategy=\"epoch\",\n",
    "    load_best_model_at_end=True,\n",
    "    push_to_hub=False,\n",
    "    use_cpu = False\n",
    ")\n",
    "\n",
    "trainer = Trainer(\n",
    "    model=model,\n",
    "    args=training_args,\n",
    "    train_dataset=tokenized_data_split[\"train\"],\n",
    "    eval_dataset=tokenized_data_split[\"valid\"],\n",
    "    tokenizer=tokenizer,\n",
    "    data_collator=data_collator,\n",
    "    compute_metrics=compute_metrics,\n",
    ")\n",
    "\n",
    "trainer.train()\n",
    "trainer.save_model('../models/bert_finetuned')"
   ],
   "metadata": {
    "collapsed": false,
    "ExecuteTime": {
     "end_time": "2024-05-17T15:10:23.167699900Z",
     "start_time": "2024-05-17T15:02:53.582281600Z"
    }
   },
   "id": "a3ff31fdb9094677"
  },
  {
   "cell_type": "code",
   "execution_count": 75,
   "outputs": [
    {
     "data": {
      "text/plain": "<IPython.core.display.HTML object>",
      "text/html": "\n    <div>\n      \n      <progress value='1' max='352' style='width:300px; height:20px; vertical-align: middle;'></progress>\n      [  1/352 : < :]\n    </div>\n    "
     },
     "metadata": {},
     "output_type": "display_data"
    },
    {
     "name": "stdout",
     "output_type": "stream",
     "text": [
      "{'accuracy': 0.9167258522727273, 'recall': 0.8200808625336927, 'precision': 0.857646229739253, 'f1': 0.8384429900103342}\n"
     ]
    },
    {
     "data": {
      "text/plain": "{'eval_loss': 0.23189674317836761,\n 'eval_accuracy': 0.9167258522727273,\n 'eval_recall': 0.8200808625336927,\n 'eval_precision': 0.857646229739253,\n 'eval_f1': 0.8384429900103342,\n 'eval_runtime': 13.0479,\n 'eval_samples_per_second': 431.641,\n 'eval_steps_per_second': 26.978,\n 'epoch': 2.0}"
     },
     "execution_count": 75,
     "metadata": {},
     "output_type": "execute_result"
    }
   ],
   "source": [
    "trainer.evaluate()"
   ],
   "metadata": {
    "collapsed": false,
    "ExecuteTime": {
     "end_time": "2024-05-17T15:10:36.232607100Z",
     "start_time": "2024-05-17T15:10:23.169012300Z"
    }
   },
   "id": "8cd826e366d3392b"
  },
  {
   "cell_type": "markdown",
   "source": [
    "# Evaluate model"
   ],
   "metadata": {
    "collapsed": false
   },
   "id": "5c4784af9a51b005"
  },
  {
   "cell_type": "code",
   "execution_count": 76,
   "outputs": [],
   "source": [
    "from transformers import AutoTokenizer, AutoModelForSequenceClassification, AutoModel\n",
    "tokenizer = AutoTokenizer.from_pretrained(\"../models/bert_finetuned\", return_tensor=\"pt\")\n",
    "model = AutoModelForSequenceClassification.from_pretrained(\"../models/bert_finetuned\")\n",
    "device = \"cuda:0\" if torch.cuda.is_available() else \"cpu\"\n",
    "model = model.to(device)"
   ],
   "metadata": {
    "collapsed": false,
    "ExecuteTime": {
     "end_time": "2024-05-17T15:10:36.565105400Z",
     "start_time": "2024-05-17T15:10:36.232607100Z"
    }
   },
   "id": "9189d00002d778f9"
  },
  {
   "cell_type": "code",
   "execution_count": 77,
   "outputs": [],
   "source": [
    "sentences = tokenized_data_split[\"valid\"][\"preprocessed_text\"]\n",
    "true_labels = tokenized_data_split[\"valid\"][\"label\"] "
   ],
   "metadata": {
    "collapsed": false,
    "ExecuteTime": {
     "end_time": "2024-05-17T15:10:36.646836900Z",
     "start_time": "2024-05-17T15:10:36.569809900Z"
    }
   },
   "id": "78ede310c0ba2c77"
  },
  {
   "cell_type": "code",
   "execution_count": 78,
   "outputs": [],
   "source": [
    "pred_labels = []\n",
    "\n",
    "for sentence in sentences:\n",
    "    inputs = tokenizer(sentence, return_tensors=\"pt\").input_ids.to(device) \n",
    "    with torch.no_grad():\n",
    "        logits = model(inputs).logits\n",
    "    predicted_class_id = logits.argmax().item()\n",
    "    pred_labels.append(predicted_class_id)"
   ],
   "metadata": {
    "collapsed": false,
    "ExecuteTime": {
     "end_time": "2024-05-17T15:10:58.996030200Z",
     "start_time": "2024-05-17T15:10:36.646836900Z"
    }
   },
   "id": "cf076f2d3e9071e0"
  },
  {
   "cell_type": "code",
   "execution_count": 79,
   "outputs": [
    {
     "data": {
      "text/plain": "<Figure size 640x480 with 2 Axes>",
      "image/png": "[encoded data removed]"
     },
     "metadata": {},
     "output_type": "display_data"
    }
   ],
   "source": [
    "from sklearn.metrics import accuracy_score, confusion_matrix, ConfusionMatrixDisplay\n",
    "import matplotlib.pyplot as plt\n",
    "\n",
    "cm = confusion_matrix(true_labels, pred_labels, normalize='true')\n",
    "tn, fp, fn, tp = cm.ravel()\n",
    "ConfusionMatrixDisplay.from_predictions(true_labels, pred_labels, normalize=\"true\", cmap=plt.cm.Blues)\n",
    "plt.grid(False)\n",
    "plt.show()"
   ],
   "metadata": {
    "collapsed": false,
    "ExecuteTime": {
     "end_time": "2024-05-17T15:10:59.104966800Z",
     "start_time": "2024-05-17T15:10:58.996030200Z"
    }
   },
   "id": "2ec04b8a0331f1ed"
  },
  {
   "cell_type": "code",
   "execution_count": 80,
   "outputs": [
    {
     "data": {
      "text/plain": "0.9167258522727273"
     },
     "execution_count": 80,
     "metadata": {},
     "output_type": "execute_result"
    }
   ],
   "source": [
    "accuracy_score(true_labels, pred_labels)"
   ],
   "metadata": {
    "collapsed": false,
    "ExecuteTime": {
     "end_time": "2024-05-17T15:10:59.149538900Z",
     "start_time": "2024-05-17T15:10:59.104966800Z"
    }
   },
   "id": "fbfea9d986d8e4e1"
  },
  {
   "cell_type": "code",
   "execution_count": 81,
   "outputs": [
    {
     "name": "stdout",
     "output_type": "stream",
     "text": [
      "0.9439464281573796\n",
      "0.8200808625336927\n",
      "0.8776648808938068\n"
     ]
    }
   ],
   "source": [
    "precision = tp / (tp + fp)\n",
    "recall = tp / (tp + fn)\n",
    "f1 = (2 * precision * recall)/ (precision+recall)\n",
    "print(precision) \n",
    "print(recall)\n",
    "print(f1)"
   ],
   "metadata": {
    "collapsed": false,
    "ExecuteTime": {
     "end_time": "2024-05-17T15:10:59.196553900Z",
     "start_time": "2024-05-17T15:10:59.121985900Z"
    }
   },
   "id": "bd9a350d3c05122e"
  },
  {
   "cell_type": "markdown",
   "source": [
    "# Feature visualization"
   ],
   "metadata": {
    "collapsed": false,
    "ExecuteTime": {
     "end_time": "2024-02-27T13:33:30.731676300Z",
     "start_time": "2024-02-27T13:33:30.711678200Z"
    }
   },
   "id": "b372717bd48a479d"
  },
  {
   "cell_type": "code",
   "execution_count": 82,
   "outputs": [],
   "source": [
    "from transformers import AutoTokenizer, AutoModelForSequenceClassification, AutoModel\n",
    "import torch\n",
    "\n",
    "tokenizer = AutoTokenizer.from_pretrained(\"../models/bert_finetuned\", return_tensor=\"pt\")\n",
    "model = AutoModel.from_pretrained(\"../models/bert_finetuned\")\n",
    "device = \"cuda:0\" if torch.cuda.is_available() else \"cpu\"\n",
    "model = model.to(device)"
   ],
   "metadata": {
    "collapsed": false,
    "ExecuteTime": {
     "end_time": "2024-05-17T15:10:59.354982400Z",
     "start_time": "2024-05-17T15:10:59.137715800Z"
    }
   },
   "id": "42df4e6fa6a3ab63"
  },
  {
   "cell_type": "code",
   "execution_count": 83,
   "outputs": [],
   "source": [
    "def extract_hidden_states(batch):\n",
    "    sentences = [x for x in batch[\"preprocessed_text\"]]\n",
    "    with torch.no_grad():\n",
    "        inputs = tokenizer(sentences, return_tensors=\"pt\", padding=True, truncation=True).input_ids.to(device)\n",
    "        last_hidden_state = model(inputs).last_hidden_state\n",
    "\n",
    "    return {\"hidden state\": last_hidden_state[:, 0].cpu().numpy()}"
   ],
   "metadata": {
    "collapsed": false,
    "ExecuteTime": {
     "end_time": "2024-05-17T15:10:59.354982400Z",
     "start_time": "2024-05-17T15:10:59.341470300Z"
    }
   },
   "id": "b40b88034bf9bdb5"
  },
  {
   "cell_type": "code",
   "execution_count": 84,
   "outputs": [],
   "source": [
    "# hidden = tokenized_data_split.map(\n",
    "#     extract_hidden_states, batched=True)"
   ],
   "metadata": {
    "collapsed": false,
    "ExecuteTime": {
     "end_time": "2024-05-17T15:10:59.354982400Z",
     "start_time": "2024-05-17T15:10:59.341470300Z"
    }
   },
   "id": "d2f4394defd64749"
  },
  {
   "cell_type": "code",
   "execution_count": 85,
   "outputs": [
    {
     "ename": "NameError",
     "evalue": "name 'hidden' is not defined",
     "output_type": "error",
     "traceback": [
      "\u001B[1;31m---------------------------------------------------------------------------\u001B[0m",
      "\u001B[1;31mNameError\u001B[0m                                 Traceback (most recent call last)",
      "\u001B[1;32m~\\AppData\\Local\\Temp\\ipykernel_39720\\805185143.py\u001B[0m in \u001B[0;36m<cell line: 1>\u001B[1;34m()\u001B[0m\n\u001B[1;32m----> 1\u001B[1;33m \u001B[0mhidden\u001B[0m\u001B[1;33m.\u001B[0m\u001B[0msave_to_disk\u001B[0m\u001B[1;33m(\u001B[0m\u001B[1;34m'../models/bert_dataset'\u001B[0m\u001B[1;33m)\u001B[0m\u001B[1;33m\u001B[0m\u001B[1;33m\u001B[0m\u001B[0m\n\u001B[0m",
      "\u001B[1;31mNameError\u001B[0m: name 'hidden' is not defined"
     ]
    }
   ],
   "source": [
    "hidden.save_to_disk('../models/bert_dataset')"
   ],
   "metadata": {
    "collapsed": false,
    "ExecuteTime": {
     "end_time": "2024-05-17T15:10:59.354982400Z",
     "start_time": "2024-05-17T15:10:59.341470300Z"
    }
   },
   "id": "a152ad631bfaa816"
  },
  {
   "cell_type": "code",
   "execution_count": null,
   "outputs": [],
   "source": [
    "hidden[\"test\"].column_names"
   ],
   "metadata": {
    "collapsed": false,
    "ExecuteTime": {
     "start_time": "2024-05-17T15:10:59.354982400Z"
    }
   },
   "id": "b097eaa230a4491d"
  },
  {
   "cell_type": "code",
   "execution_count": null,
   "outputs": [],
   "source": [
    "print(np.array(hidden[\"train\"][\"hidden state\"]).shape)"
   ],
   "metadata": {
    "collapsed": false,
    "ExecuteTime": {
     "end_time": "2024-05-17T15:10:59.396279300Z",
     "start_time": "2024-05-17T15:10:59.354982400Z"
    }
   },
   "id": "ee314912a3c95858"
  },
  {
   "cell_type": "code",
   "execution_count": null,
   "outputs": [],
   "source": [
    "from sklearn.decomposition import PCA\n",
    "from sklearn.preprocessing import MinMaxScaler\n",
    "\n",
    "X_train = np.array(hidden[\"train\"][\"hidden state\"])\n",
    "y_train = np.array(hidden[\"train\"][\"label\"])\n",
    "\n",
    "X_test = np.array(hidden[\"test\"][\"hidden state\"])\n",
    "y_test = np.array(hidden[\"test\"][\"label\"])"
   ],
   "metadata": {
    "collapsed": false,
    "ExecuteTime": {
     "start_time": "2024-05-17T15:10:59.364959200Z"
    }
   },
   "id": "8f05890fe30c5763"
  },
  {
   "cell_type": "code",
   "execution_count": null,
   "outputs": [],
   "source": [
    "# reduce to 2d for visualization\n",
    "pca = PCA(n_components=2)\n",
    "\n",
    "x_scaled = MinMaxScaler().fit_transform(X_train)\n",
    "x_2d = pca.fit_transform(x_scaled)\n",
    "x_2d.shape\n",
    "\n",
    "x_scaled1 = MinMaxScaler().fit_transform(X_test)\n",
    "x_2d1 = pca.fit_transform(x_scaled1)\n",
    "x_2d1.shape"
   ],
   "metadata": {
    "collapsed": false,
    "ExecuteTime": {
     "start_time": "2024-05-17T15:10:59.367059Z"
    }
   },
   "id": "c07f8f9bfadf1f07"
  },
  {
   "cell_type": "code",
   "execution_count": null,
   "outputs": [],
   "source": [
    "# reduce to 3d for visualization\n",
    "pca = PCA(n_components=3)\n",
    "\n",
    "x_scaled = MinMaxScaler().fit_transform(X_train)\n",
    "x_3d = pca.fit_transform(x_scaled)\n",
    "x_3d.shape\n",
    "\n",
    "x_scaled1 = MinMaxScaler().fit_transform(X_test)\n",
    "x_3d1 = pca.fit_transform(x_scaled1)\n",
    "x_3d1.shape"
   ],
   "metadata": {
    "collapsed": false,
    "ExecuteTime": {
     "start_time": "2024-05-17T15:10:59.367059Z"
    }
   },
   "id": "e78358214e289c61"
  },
  {
   "cell_type": "code",
   "execution_count": null,
   "outputs": [],
   "source": [
    "# 2d viz\n",
    "fig, ax = plt.subplots(2, 2, figsize=(7, 5))\n",
    "ax = ax.flatten()\n",
    "cmaps = [\"blue\", \"orange\"]\n",
    "labels = set([x.item() for x in tokenized_data_split[\"train\"][\"label\"]])\n",
    "\n",
    "for i, (label, cmap) in enumerate(zip(labels, cmaps)):\n",
    "    x_2d_sub = x_2d[y_train == i]\n",
    "    ax[i].scatter(x_2d_sub[:, 0], x_2d_sub[:, 1], color=cmap)\n",
    "    ax[i].set_title(id2label[label] +\" TRAIN\")\n",
    "    \n",
    "for i, (label, cmap) in enumerate(zip(labels, cmaps)):\n",
    "    x_2d_sub1 = x_2d1[y_test == i]\n",
    "    ax[i+2].scatter(x_2d_sub1[:, 0], x_2d_sub1[:, 1], color=cmap)\n",
    "    ax[i+2].set_title(id2label[label] +\" TEST\" )\n",
    "\n",
    "plt.tight_layout()\n",
    "plt.show()"
   ],
   "metadata": {
    "collapsed": false,
    "ExecuteTime": {
     "start_time": "2024-05-17T15:10:59.367059Z"
    }
   },
   "id": "12fa5db541f9bb2b"
  },
  {
   "cell_type": "markdown",
   "source": [
    "### Shows us that there might be an overlap in control text and broca text which indistinguishable to the model (so model goes with control as sort of default strategy)"
   ],
   "metadata": {
    "collapsed": false
   },
   "id": "98ee6b60b009c571"
  },
  {
   "cell_type": "code",
   "execution_count": null,
   "outputs": [],
   "source": [
    "# 3d vis\n",
    "\n",
    "fig, ax = plt.subplots(2, 2, subplot_kw={\"projection\": \"3d\"}, figsize=(8, 6))\n",
    "ax = ax.flatten()\n",
    "cmaps = [\"blue\", \"orange\"]\n",
    "labels = set([x.item() for x in tokenized_data_split[\"train\"][\"label\"]])\n",
    "\n",
    "for i, (label, cmap) in enumerate(zip(labels, cmaps)):\n",
    "    x_3d_sub = x_3d[y_train == i]\n",
    "    ax[i].scatter(x_3d_sub[:, 0], x_3d_sub[:, 1], color=cmap)\n",
    "    ax[i].set_title(id2label[label]+\" TRAIN\")\n",
    "    \n",
    "for i, (label, cmap) in enumerate(zip(labels, cmaps)):\n",
    "    x_3d_sub1 = x_3d1[y_test == i]\n",
    "    ax[i+2].scatter(x_3d_sub1[:, 0], x_3d_sub1[:, 1], color=cmap)\n",
    "    ax[i+2].set_title(id2label[label]+\" TEST\" )\n",
    "\n",
    "plt.tight_layout()\n",
    "plt.show()"
   ],
   "metadata": {
    "collapsed": false,
    "ExecuteTime": {
     "start_time": "2024-05-17T15:10:59.367059Z"
    }
   },
   "id": "f129d6059f201e9b"
  },
  {
   "cell_type": "markdown",
   "source": [
    "# Attention viz"
   ],
   "metadata": {
    "collapsed": false,
    "ExecuteTime": {
     "end_time": "2024-02-27T13:35:11.025219100Z",
     "start_time": "2024-02-27T13:35:10.958474500Z"
    }
   },
   "id": "6d2d2dc9e35e72b"
  },
  {
   "cell_type": "code",
   "execution_count": null,
   "outputs": [],
   "source": [
    "from bertviz import model_view, head_view\n",
    "from transformers import AutoTokenizer, AutoModelForSequenceClassification, AutoModel\n",
    "import torch\n",
    "\n",
    "tokenizer = AutoTokenizer.from_pretrained(\"../models/bert_finetuned\", return_tensor=\"pt\")\n",
    "model = AutoModel.from_pretrained(\"../models/bert_finetuned\")\n",
    "device = \"cuda:0\" if torch.cuda.is_available() else \"cpu\""
   ],
   "metadata": {
    "collapsed": false,
    "ExecuteTime": {
     "start_time": "2024-05-17T15:10:59.367059Z"
    }
   },
   "id": "fd15c9abb7a65134"
  },
  {
   "cell_type": "markdown",
   "source": [
    "### For control sentence"
   ],
   "metadata": {
    "collapsed": false
   },
   "id": "16593d5c50e2ccdb"
  },
  {
   "cell_type": "code",
   "execution_count": null,
   "outputs": [],
   "source": [
    "input = tokenizer.encode(sentences[0], return_tensors=\"pt\")\n",
    "output = model(input, output_attentions=True)\n",
    "\n",
    "attention = output[-1]\n",
    "tokens = tokenizer.convert_ids_to_tokens(input[0]) \n",
    "model_view(attention, tokens)\n",
    "print(sentences[0], true_labels[0])"
   ],
   "metadata": {
    "collapsed": false,
    "ExecuteTime": {
     "start_time": "2024-05-17T15:10:59.380622400Z"
    }
   },
   "id": "48f7d23ea59f9d2a"
  },
  {
   "cell_type": "markdown",
   "source": [
    "### For broca sentence"
   ],
   "metadata": {
    "collapsed": false
   },
   "id": "ccb0aef809127cec"
  },
  {
   "cell_type": "code",
   "execution_count": null,
   "outputs": [],
   "source": [
    "input = tokenizer.encode(sentences[8], return_tensors=\"pt\")\n",
    "output = model(input, output_attentions=True)\n",
    "\n",
    "attention = output[-1]\n",
    "tokens = tokenizer.convert_ids_to_tokens(input[0]) \n",
    "model_view(attention, tokens)\n",
    "print(sentences[8], true_labels[8])"
   ],
   "metadata": {
    "collapsed": false,
    "ExecuteTime": {
     "start_time": "2024-05-17T15:10:59.380622400Z"
    }
   },
   "id": "9205ee88774675f"
  }
 ],
 "metadata": {
  "kernelspec": {
   "display_name": "Python 3",
   "language": "python",
   "name": "python3"
  },
  "language_info": {
   "codemirror_mode": {
    "name": "ipython",
    "version": 2
   },
   "file_extension": ".py",
   "mimetype": "text/x-python",
   "name": "python",
   "nbconvert_exporter": "python",
   "pygments_lexer": "ipython2",
   "version": "2.7.6"
  }
 },
 "nbformat": 4,
 "nbformat_minor": 5
}
