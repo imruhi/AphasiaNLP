{
 "cells": [
  {
   "cell_type": "markdown",
   "id": "a8decd97b993c427",
   "metadata": {
    "collapsed": false
   },
   "source": [
    "## Imports  "
   ]
  },
  {
   "cell_type": "code",
   "execution_count": 7,
   "id": "2f1366e7aa1dd212",
   "metadata": {
    "collapsed": false,
    "ExecuteTime": {
     "end_time": "2024-07-02T12:57:41.914983600Z",
     "start_time": "2024-07-02T12:57:41.270407200Z"
    }
   },
   "outputs": [],
   "source": [
    "from transformers import AutoTokenizer\n",
    "from transformers import DataCollatorWithPadding\n",
    "import evaluate\n",
    "import numpy as np\n",
    "from transformers import AutoModelForSequenceClassification, TrainingArguments, Trainer \n",
    "import torch\n",
    "import pandas as pd\n",
    "from datasets import Dataset, DatasetDict\n",
    "from nltk.tokenize import  sent_tokenize\n",
    "from sklearn.metrics import accuracy_score, confusion_matrix, ConfusionMatrixDisplay"
   ]
  },
  {
   "cell_type": "code",
   "execution_count": 2,
   "id": "7ce3af904743ee26",
   "metadata": {
    "collapsed": false,
    "ExecuteTime": {
     "end_time": "2024-07-02T12:51:13.321460600Z",
     "start_time": "2024-07-02T12:51:13.305825300Z"
    }
   },
   "outputs": [
    {
     "name": "stdout",
     "output_type": "stream",
     "text": [
      "True\n",
      "12.1\n"
     ]
    }
   ],
   "source": [
    "print(torch.cuda.is_available())\n",
    "print(torch.version.cuda)"
   ]
  },
  {
   "cell_type": "code",
   "execution_count": 3,
   "id": "cded5d3cb3bb09e0",
   "metadata": {
    "collapsed": false,
    "ExecuteTime": {
     "end_time": "2024-07-02T12:51:13.368770300Z",
     "start_time": "2024-07-02T12:51:13.321460600Z"
    }
   },
   "outputs": [],
   "source": [
    "model_name = \"../models/bert_reverse\""
   ]
  },
  {
   "cell_type": "code",
   "execution_count": 4,
   "id": "288e770542a6325e",
   "metadata": {
    "collapsed": false,
    "ExecuteTime": {
     "end_time": "2024-07-02T12:51:19.719115900Z",
     "start_time": "2024-07-02T12:51:13.340862400Z"
    }
   },
   "outputs": [
    {
     "data": {
      "text/plain": "config.json:   0%|          | 0.00/285 [00:00<?, ?B/s]",
      "application/vnd.jupyter.widget-view+json": {
       "version_major": 2,
       "version_minor": 0,
       "model_id": "f76804a7aa6e464d881b7111ef4919b6"
      }
     },
     "metadata": {},
     "output_type": "display_data"
    },
    {
     "name": "stderr",
     "output_type": "stream",
     "text": [
      "C:\\Users\\imruh\\miniconda3\\envs\\thesis\\lib\\site-packages\\huggingface_hub\\file_download.py:149: UserWarning: `huggingface_hub` cache-system uses symlinks by default to efficiently store duplicated files but your machine does not support them in C:\\Users\\imruh\\.cache\\huggingface\\hub\\models--prajjwal1--bert-tiny. Caching files will still work but in a degraded version that might require more space on your disk. This warning can be disabled by setting the `HF_HUB_DISABLE_SYMLINKS_WARNING` environment variable. For more details, see https://huggingface.co/docs/huggingface_hub/how-to-cache#limitations.\n",
      "To support symlinks on Windows, you either need to activate Developer Mode or to run Python as an administrator. In order to see activate developer mode, see this article: https://docs.microsoft.com/en-us/windows/apps/get-started/enable-your-device-for-development\n",
      "  warnings.warn(message)\n"
     ]
    },
    {
     "data": {
      "text/plain": "vocab.txt:   0%|          | 0.00/232k [00:00<?, ?B/s]",
      "application/vnd.jupyter.widget-view+json": {
       "version_major": 2,
       "version_minor": 0,
       "model_id": "e54c345d7e2f4171a92d5f64e0ca5d1b"
      }
     },
     "metadata": {},
     "output_type": "display_data"
    },
    {
     "data": {
      "text/plain": "Downloading builder script:   0%|          | 0.00/4.20k [00:00<?, ?B/s]",
      "application/vnd.jupyter.widget-view+json": {
       "version_major": 2,
       "version_minor": 0,
       "model_id": "4066b4f8fbed4367899840b29d34ef05"
      }
     },
     "metadata": {},
     "output_type": "display_data"
    },
    {
     "data": {
      "text/plain": "pytorch_model.bin:   0%|          | 0.00/17.8M [00:00<?, ?B/s]",
      "application/vnd.jupyter.widget-view+json": {
       "version_major": 2,
       "version_minor": 0,
       "model_id": "a36da4f6c6b9438d9b8476b2cf7e1edd"
      }
     },
     "metadata": {},
     "output_type": "display_data"
    },
    {
     "name": "stderr",
     "output_type": "stream",
     "text": [
      "Some weights of BertForSequenceClassification were not initialized from the model checkpoint at prajjwal1/bert-tiny and are newly initialized: ['classifier.bias', 'classifier.weight']\n",
      "You should probably TRAIN this model on a down-stream task to be able to use it for predictions and inference.\n"
     ]
    }
   ],
   "source": [
    "device = torch.device(\"cuda\" if torch.cuda.is_available() else \"cpu\")\n",
    "\n",
    "tokenizer = AutoTokenizer.from_pretrained(\"prajjwal1/bert-tiny\", return_tensor=\"pt\")\n",
    "\n",
    "data_collator = DataCollatorWithPadding(tokenizer=tokenizer)\n",
    "\n",
    "accuracy = evaluate.load(\"accuracy\")\n",
    "\n",
    "id2label = {0: \"CONTROL\", 1: \"BROCA\"}\n",
    "label2id = {\"CONTROL\": 0, \"BROCA\": 1}\n",
    "\n",
    "model = AutoModelForSequenceClassification.from_pretrained(\"prajjwal1/bert-tiny\", num_labels=2, id2label=id2label, label2id=label2id)"
   ]
  },
  {
   "cell_type": "code",
   "execution_count": 5,
   "outputs": [
    {
     "data": {
      "text/plain": "BertConfig {\n  \"_name_or_path\": \"prajjwal1/bert-tiny\",\n  \"attention_probs_dropout_prob\": 0.1,\n  \"classifier_dropout\": null,\n  \"hidden_act\": \"gelu\",\n  \"hidden_dropout_prob\": 0.1,\n  \"hidden_size\": 128,\n  \"id2label\": {\n    \"0\": \"CONTROL\",\n    \"1\": \"BROCA\"\n  },\n  \"initializer_range\": 0.02,\n  \"intermediate_size\": 512,\n  \"label2id\": {\n    \"BROCA\": 1,\n    \"CONTROL\": 0\n  },\n  \"layer_norm_eps\": 1e-12,\n  \"max_position_embeddings\": 512,\n  \"model_type\": \"bert\",\n  \"num_attention_heads\": 2,\n  \"num_hidden_layers\": 2,\n  \"pad_token_id\": 0,\n  \"position_embedding_type\": \"absolute\",\n  \"transformers_version\": \"4.39.0.dev0\",\n  \"type_vocab_size\": 2,\n  \"use_cache\": true,\n  \"vocab_size\": 30522\n}"
     },
     "execution_count": 5,
     "metadata": {},
     "output_type": "execute_result"
    }
   ],
   "source": [
    "model.config"
   ],
   "metadata": {
    "collapsed": false,
    "ExecuteTime": {
     "end_time": "2024-07-02T12:51:19.719115900Z",
     "start_time": "2024-07-02T12:51:19.703549200Z"
    }
   },
   "id": "19880815acfa7e23"
  },
  {
   "cell_type": "code",
   "execution_count": 8,
   "id": "6968fd60529a4cd0",
   "metadata": {
    "collapsed": false,
    "ExecuteTime": {
     "end_time": "2024-07-02T12:57:44.857733200Z",
     "start_time": "2024-07-02T12:57:44.041089100Z"
    }
   },
   "outputs": [],
   "source": [
    "dataset_filename = \"C:/Users/imruh/Documents/Uni/thesis/text generation/datafiles/generated output/merge_all.csv\"\n",
    "data = pd.read_csv(dataset_filename, encoding='utf8', index_col=False)#.drop(['Unnamed: 0','predicted'], axis=1)\n",
    "control = data[data[\"label\"]==0]\n",
    "broca = data[data[\"label\"]==1]\n",
    "new_control = []\n",
    "new_broca = []\n",
    "\n",
    "for x, y in zip(control[\"preprocessed_text\"], broca[\"preprocessed_text\"]):\n",
    "    new_broca.extend(sent_tokenize(y))\n",
    "    new_control.extend(sent_tokenize(x))"
   ]
  },
  {
   "cell_type": "code",
   "execution_count": 10,
   "outputs": [],
   "source": [
    "new_labels = [0] * len(new_control) + [1] * len(new_broca)"
   ],
   "metadata": {
    "collapsed": false,
    "ExecuteTime": {
     "end_time": "2024-07-02T12:59:25.461329400Z",
     "start_time": "2024-07-02T12:59:25.461329400Z"
    }
   },
   "id": "e5902dfdf6106ef2"
  },
  {
   "cell_type": "code",
   "execution_count": 20,
   "outputs": [],
   "source": [
    "new_data = new_control + new_broca"
   ],
   "metadata": {
    "collapsed": false,
    "ExecuteTime": {
     "end_time": "2024-07-02T13:02:28.620224700Z",
     "start_time": "2024-07-02T13:02:28.608970900Z"
    }
   },
   "id": "4cfd85cb167a7548"
  },
  {
   "cell_type": "code",
   "execution_count": 19,
   "outputs": [
    {
     "name": "stdout",
     "output_type": "stream",
     "text": [
      "27364 27501 27364 27501\n"
     ]
    }
   ],
   "source": [
    "print(len(new_broca), len(new_control), new_labels.count(1), new_labels.count(0))"
   ],
   "metadata": {
    "collapsed": false,
    "ExecuteTime": {
     "end_time": "2024-07-02T13:02:10.515631500Z",
     "start_time": "2024-07-02T13:02:10.505099600Z"
    }
   },
   "id": "52433f2bc88b9205"
  },
  {
   "cell_type": "code",
   "execution_count": 21,
   "outputs": [],
   "source": [
    "data = pd.DataFrame({\"preprocessed_text\":new_data, \"label\":new_labels})"
   ],
   "metadata": {
    "collapsed": false,
    "ExecuteTime": {
     "end_time": "2024-07-02T13:03:16.959358100Z",
     "start_time": "2024-07-02T13:03:16.912149100Z"
    }
   },
   "id": "c7e35ec856d36920"
  },
  {
   "cell_type": "code",
   "execution_count": 22,
   "outputs": [],
   "source": [
    "data = data.dropna(axis=0)"
   ],
   "metadata": {
    "collapsed": false,
    "ExecuteTime": {
     "end_time": "2024-07-02T13:03:18.845404800Z",
     "start_time": "2024-07-02T13:03:18.829772600Z"
    }
   },
   "id": "a2ff815670f3a105"
  },
  {
   "cell_type": "code",
   "execution_count": 23,
   "id": "cba941e5823a34d0",
   "metadata": {
    "collapsed": false,
    "ExecuteTime": {
     "end_time": "2024-07-02T13:03:20.659936200Z",
     "start_time": "2024-07-02T13:03:20.626465Z"
    }
   },
   "outputs": [
    {
     "data": {
      "text/plain": "                                       preprocessed_text  label\n0      the way that your testimony is coming in i do ...      0\n1      is when a person is charged with multiple crim...      0\n2      when we have to prove in this case we have to ...      0\n3      to expose himself to a person for sexual arousal.      0\n4      when we have to prove something like specific ...      0\n...                                                  ...    ...\n54860                                       oh one that.      1\n54861                           oh it well it one those.      1\n54862                                     or maybe they.      1\n54863                                    yeah in future.      1\n54864                             i going have one that.      1\n\n[54865 rows x 2 columns]",
      "text/html": "<div>\n<style scoped>\n    .dataframe tbody tr th:only-of-type {\n        vertical-align: middle;\n    }\n\n    .dataframe tbody tr th {\n        vertical-align: top;\n    }\n\n    .dataframe thead th {\n        text-align: right;\n    }\n</style>\n<table border=\"1\" class=\"dataframe\">\n  <thead>\n    <tr style=\"text-align: right;\">\n      <th></th>\n      <th>preprocessed_text</th>\n      <th>label</th>\n    </tr>\n  </thead>\n  <tbody>\n    <tr>\n      <th>0</th>\n      <td>the way that your testimony is coming in i do ...</td>\n      <td>0</td>\n    </tr>\n    <tr>\n      <th>1</th>\n      <td>is when a person is charged with multiple crim...</td>\n      <td>0</td>\n    </tr>\n    <tr>\n      <th>2</th>\n      <td>when we have to prove in this case we have to ...</td>\n      <td>0</td>\n    </tr>\n    <tr>\n      <th>3</th>\n      <td>to expose himself to a person for sexual arousal.</td>\n      <td>0</td>\n    </tr>\n    <tr>\n      <th>4</th>\n      <td>when we have to prove something like specific ...</td>\n      <td>0</td>\n    </tr>\n    <tr>\n      <th>...</th>\n      <td>...</td>\n      <td>...</td>\n    </tr>\n    <tr>\n      <th>54860</th>\n      <td>oh one that.</td>\n      <td>1</td>\n    </tr>\n    <tr>\n      <th>54861</th>\n      <td>oh it well it one those.</td>\n      <td>1</td>\n    </tr>\n    <tr>\n      <th>54862</th>\n      <td>or maybe they.</td>\n      <td>1</td>\n    </tr>\n    <tr>\n      <th>54863</th>\n      <td>yeah in future.</td>\n      <td>1</td>\n    </tr>\n    <tr>\n      <th>54864</th>\n      <td>i going have one that.</td>\n      <td>1</td>\n    </tr>\n  </tbody>\n</table>\n<p>54865 rows × 2 columns</p>\n</div>"
     },
     "execution_count": 23,
     "metadata": {},
     "output_type": "execute_result"
    }
   ],
   "source": [
    "data"
   ]
  },
  {
   "cell_type": "code",
   "execution_count": 24,
   "id": "2d88c1cf33e6ee36",
   "metadata": {
    "collapsed": false,
    "ExecuteTime": {
     "end_time": "2024-07-02T13:03:27.156024500Z",
     "start_time": "2024-07-02T13:03:27.148856800Z"
    }
   },
   "outputs": [
    {
     "data": {
      "text/plain": "54865"
     },
     "execution_count": 24,
     "metadata": {},
     "output_type": "execute_result"
    }
   ],
   "source": [
    "len(data)"
   ]
  },
  {
   "cell_type": "code",
   "execution_count": 25,
   "id": "caca98d726df10d6",
   "metadata": {
    "collapsed": false,
    "ExecuteTime": {
     "end_time": "2024-07-02T13:03:29.294821400Z",
     "start_time": "2024-07-02T13:03:29.279182100Z"
    }
   },
   "outputs": [
    {
     "data": {
      "text/plain": "label\n0    27501\n1    27364\nName: count, dtype: int64"
     },
     "execution_count": 25,
     "metadata": {},
     "output_type": "execute_result"
    }
   ],
   "source": [
    "# check if there is the same data imbalance ratio\n",
    "data[\"label\"].value_counts()"
   ]
  },
  {
   "cell_type": "code",
   "execution_count": 26,
   "id": "f39e4e0f4242d32e",
   "metadata": {
    "collapsed": false,
    "ExecuteTime": {
     "end_time": "2024-07-02T13:03:32.179125700Z",
     "start_time": "2024-07-02T13:03:32.123466600Z"
    }
   },
   "outputs": [],
   "source": [
    "dataset = Dataset.from_pandas(data)"
   ]
  },
  {
   "cell_type": "code",
   "execution_count": 27,
   "id": "24dc19496ebae57",
   "metadata": {
    "collapsed": false,
    "ExecuteTime": {
     "end_time": "2024-07-02T13:03:33.815760600Z",
     "start_time": "2024-07-02T13:03:33.784017500Z"
    }
   },
   "outputs": [
    {
     "data": {
      "text/plain": "Dataset({\n    features: ['preprocessed_text', 'label'],\n    num_rows: 54865\n})"
     },
     "execution_count": 27,
     "metadata": {},
     "output_type": "execute_result"
    }
   ],
   "source": [
    "dataset"
   ]
  },
  {
   "cell_type": "code",
   "execution_count": 28,
   "id": "b1d26f8ed7628ddf",
   "metadata": {
    "collapsed": false,
    "ExecuteTime": {
     "end_time": "2024-07-02T13:03:36.443550100Z",
     "start_time": "2024-07-02T13:03:36.416389600Z"
    }
   },
   "outputs": [],
   "source": [
    "def compute_metrics(eval_pred):\n",
    "    metrics = [\"accuracy\", \"recall\", \"precision\", \"f1\"] #List of metrics to return\n",
    "    metric={}\n",
    "    \n",
    "    for met in metrics:\n",
    "       metric[met] = evaluate.load(met)\n",
    "    logits, labels = eval_pred\n",
    "    predictions = np.argmax(logits, axis=1)\n",
    "    metrics.extend([\"tp\", \"tn\"])\n",
    "    cm = confusion_matrix(labels, predictions, normalize='true')\n",
    "    tp, fp, fn, tn = cm.ravel()\n",
    "    metric_res={}\n",
    "    for met in metrics:\n",
    "        if met == \"tp\":\n",
    "            metric_res[met] = tp\n",
    "        elif met == \"tn\":\n",
    "            metric_res[met] = tn\n",
    "        else:\n",
    "            metric_res[met]=metric[met].compute(predictions=predictions, references=labels)[met]\n",
    "        \n",
    "    print(metric_res)\n",
    "    return metric_res"
   ]
  },
  {
   "cell_type": "code",
   "execution_count": 29,
   "id": "3c5424bef5910ed6",
   "metadata": {
    "collapsed": false,
    "ExecuteTime": {
     "end_time": "2024-07-02T13:03:38.312945600Z",
     "start_time": "2024-07-02T13:03:38.281233300Z"
    }
   },
   "outputs": [],
   "source": [
    "def preprocess_function(examples):\n",
    "    return tokenizer(examples[\"preprocessed_text\"], padding=True, truncation=True, return_tensors=\"pt\", max_length=512)"
   ]
  },
  {
   "cell_type": "code",
   "execution_count": 30,
   "id": "8e968036da2524",
   "metadata": {
    "collapsed": false,
    "ExecuteTime": {
     "end_time": "2024-07-02T13:03:42.575083600Z",
     "start_time": "2024-07-02T13:03:40.198935300Z"
    }
   },
   "outputs": [
    {
     "data": {
      "text/plain": "Map:   0%|          | 0/54865 [00:00<?, ? examples/s]",
      "application/vnd.jupyter.widget-view+json": {
       "version_major": 2,
       "version_minor": 0,
       "model_id": "f3d983fff0554037865afa07fb6590e6"
      }
     },
     "metadata": {},
     "output_type": "display_data"
    }
   ],
   "source": [
    "tokenized_data = dataset.map(preprocess_function, batched=True).with_format(\"torch\")"
   ]
  },
  {
   "cell_type": "code",
   "execution_count": 31,
   "id": "26c079af78f208bd",
   "metadata": {
    "collapsed": false,
    "ExecuteTime": {
     "end_time": "2024-07-02T13:03:43.658901700Z",
     "start_time": "2024-07-02T13:03:43.640876700Z"
    }
   },
   "outputs": [],
   "source": [
    "tokenized_data_split = tokenized_data.train_test_split(test_size=0.2, seed=42)"
   ]
  },
  {
   "cell_type": "code",
   "execution_count": 32,
   "id": "fcdcf5ff28e237a1",
   "metadata": {
    "collapsed": false,
    "ExecuteTime": {
     "end_time": "2024-07-02T13:03:45.510463Z",
     "start_time": "2024-07-02T13:03:45.485665500Z"
    }
   },
   "outputs": [],
   "source": [
    "# 70% train, 30% test + valid\n",
    "train_testvalid = tokenized_data.train_test_split(test_size=0.2, seed=42)\n",
    "test_valid = train_testvalid['test'].train_test_split(test_size=0.5, seed=41)"
   ]
  },
  {
   "cell_type": "code",
   "execution_count": 33,
   "outputs": [],
   "source": [
    "tokenized_data_split = DatasetDict({\n",
    "    \"train\": train_testvalid[\"train\"],\n",
    "    \"test\": test_valid[\"test\"],\n",
    "    \"valid\": test_valid[\"train\"]})"
   ],
   "metadata": {
    "collapsed": false,
    "ExecuteTime": {
     "end_time": "2024-07-02T13:03:49.056755Z",
     "start_time": "2024-07-02T13:03:49.030761900Z"
    }
   },
   "id": "efba20bd3e70b25d"
  },
  {
   "cell_type": "code",
   "execution_count": 38,
   "outputs": [
    {
     "data": {
      "text/plain": "DatasetDict({\n    train: Dataset({\n        features: ['preprocessed_text', 'label', 'input_ids', 'token_type_ids', 'attention_mask'],\n        num_rows: 43892\n    })\n    test: Dataset({\n        features: ['preprocessed_text', 'label', 'input_ids', 'token_type_ids', 'attention_mask'],\n        num_rows: 5487\n    })\n    valid: Dataset({\n        features: ['preprocessed_text', 'label', 'input_ids', 'token_type_ids', 'attention_mask'],\n        num_rows: 5486\n    })\n})"
     },
     "execution_count": 38,
     "metadata": {},
     "output_type": "execute_result"
    }
   ],
   "source": [
    "tokenized_data_split"
   ],
   "metadata": {
    "collapsed": false,
    "ExecuteTime": {
     "end_time": "2024-07-02T13:04:25.001600800Z",
     "start_time": "2024-07-02T13:04:24.975978800Z"
    }
   },
   "id": "9de3787187630605"
  },
  {
   "cell_type": "code",
   "execution_count": 39,
   "id": "a3ff31fdb9094677",
   "metadata": {
    "collapsed": false,
    "ExecuteTime": {
     "end_time": "2024-07-02T13:19:56.540038900Z",
     "start_time": "2024-07-02T13:04:27.549130700Z"
    }
   },
   "outputs": [
    {
     "name": "stderr",
     "output_type": "stream",
     "text": [
      "C:\\Users\\imruh\\miniconda3\\envs\\thesis\\lib\\site-packages\\accelerate\\accelerator.py:432: FutureWarning: Passing the following arguments to `Accelerator` is deprecated and will be removed in version 1.0 of Accelerate: dict_keys(['dispatch_batches', 'split_batches', 'even_batches', 'use_seedable_sampler']). Please pass an `accelerate.DataLoaderConfiguration` instead: \n",
      "dataloader_config = DataLoaderConfiguration(dispatch_batches=None, split_batches=False, even_batches=True, use_seedable_sampler=True)\n",
      "  warnings.warn(\n"
     ]
    },
    {
     "data": {
      "text/plain": "<IPython.core.display.HTML object>",
      "text/html": "\n    <div>\n      \n      <progress value='2' max='5488' style='width:300px; height:20px; vertical-align: middle;'></progress>\n      [   2/5488 : < :, Epoch 0.00/2]\n    </div>\n    <table border=\"1\" class=\"dataframe\">\n  <thead>\n <tr style=\"text-align: left;\">\n      <th>Step</th>\n      <th>Training Loss</th>\n      <th>Validation Loss</th>\n    </tr>\n  </thead>\n  <tbody>\n  </tbody>\n</table><p>"
     },
     "metadata": {},
     "output_type": "display_data"
    },
    {
     "data": {
      "text/plain": "Downloading builder script:   0%|          | 0.00/7.36k [00:00<?, ?B/s]",
      "application/vnd.jupyter.widget-view+json": {
       "version_major": 2,
       "version_minor": 0,
       "model_id": "c88ce3897eae43e8b8acdfa010b60d07"
      }
     },
     "metadata": {},
     "output_type": "display_data"
    },
    {
     "data": {
      "text/plain": "Downloading builder script:   0%|          | 0.00/7.55k [00:00<?, ?B/s]",
      "application/vnd.jupyter.widget-view+json": {
       "version_major": 2,
       "version_minor": 0,
       "model_id": "4f439e1fff07487cb30f83571564c7ab"
      }
     },
     "metadata": {},
     "output_type": "display_data"
    },
    {
     "data": {
      "text/plain": "Downloading builder script:   0%|          | 0.00/6.77k [00:00<?, ?B/s]",
      "application/vnd.jupyter.widget-view+json": {
       "version_major": 2,
       "version_minor": 0,
       "model_id": "c0f04d2173924341a3c45036d5a53d1a"
      }
     },
     "metadata": {},
     "output_type": "display_data"
    },
    {
     "name": "stdout",
     "output_type": "stream",
     "text": [
      "{'accuracy': 0.7935119373063605, 'recall': 0.8565310492505354, 'precision': 0.7665282657297988, 'f1': 0.8090342154053598, 'tp': 0.7277467411545624, 'tn': 0.8565310492505354}\n",
      "{'accuracy': 0.8095498450883908, 'recall': 0.9086366880799429, 'precision': 0.7634182908545727, 'f1': 0.8297213622291022, 'tp': 0.7061452513966481, 'tn': 0.9086366880799429}\n",
      "{'accuracy': 0.8091853471842537, 'recall': 0.8840114204139901, 'precision': 0.7743044701469209, 'f1': 0.8255290784869188, 'tp': 0.7310986964618249, 'tn': 0.8840114204139901}\n",
      "{'accuracy': 0.8106433388008019, 'recall': 0.8857958600999286, 'precision': 0.7753826929084661, 'f1': 0.826919873396635, 'tp': 0.7322160148975791, 'tn': 0.8857958600999286}\n",
      "{'accuracy': 0.8170220521232003, 'recall': 0.9018558172733762, 'precision': 0.7761056511056511, 'f1': 0.8342687355562892, 'tp': 0.7284916201117319, 'tn': 0.9018558172733762}\n",
      "{'accuracy': 0.8228540185893931, 'recall': 0.9143468950749465, 'precision': 0.7777777777777778, 'f1': 0.8405511811023622, 'tp': 0.7273743016759776, 'tn': 0.9143468950749465}\n",
      "{'accuracy': 0.8281392381993804, 'recall': 0.9129193433261956, 'precision': 0.7853853239177156, 'f1': 0.8443637563954448, 'tp': 0.7396648044692737, 'tn': 0.9129193433261956}\n",
      "{'accuracy': 0.8359759431383269, 'recall': 0.9436117059243397, 'precision': 0.780862374483166, 'f1': 0.8545572074983839, 'tp': 0.7236499068901303, 'tn': 0.9436117059243397}\n",
      "{'accuracy': 0.8447238928376162, 'recall': 0.9043540328336902, 'precision': 0.812700449005773, 'f1': 0.856081081081081, 'tp': 0.7824953445065177, 'tn': 0.9043540328336902}\n",
      "{'accuracy': 0.8483688718789867, 'recall': 0.9129193433261956, 'precision': 0.8130959949141767, 'f1': 0.8601210490921318, 'tp': 0.7810055865921788, 'tn': 0.9129193433261956}\n",
      "{'accuracy': 0.8461818844541644, 'recall': 0.8640256959314775, 'precision': 0.8394590846047156, 'f1': 0.8515652479774886, 'tp': 0.82756052141527, 'tn': 0.8640256959314775}\n",
      "{'accuracy': 0.8500091124476035, 'recall': 0.8947180585296217, 'precision': 0.8260296540362438, 'f1': 0.8590029124550282, 'tp': 0.8033519553072626, 'tn': 0.8947180585296217}\n",
      "{'accuracy': 0.8552943320575906, 'recall': 0.8843683083511777, 'precision': 0.8405698778833107, 'f1': 0.8619130434782609, 'tp': 0.8249534450651769, 'tn': 0.8843683083511777}\n",
      "{'accuracy': 0.8569345726262074, 'recall': 0.8897216274089935, 'precision': 0.8396766588076794, 'f1': 0.8639750476520534, 'tp': 0.8227188081936685, 'tn': 0.8897216274089935}\n",
      "{'accuracy': 0.8618552943320575, 'recall': 0.9079229122055674, 'precision': 0.835742444152431, 'f1': 0.8703386931235032, 'tp': 0.813780260707635, 'tn': 0.9079229122055674}\n",
      "{'accuracy': 0.857116821578276, 'recall': 0.8611705924339758, 'precision': 0.8593304843304843, 'f1': 0.8602495543672014, 'tp': 0.8528864059590316, 'tn': 0.8611705924339758}\n",
      "{'accuracy': 0.860944049571715, 'recall': 0.8890078515346181, 'precision': 0.8464152225620115, 'f1': 0.867188859878155, 'tp': 0.831657355679702, 'tn': 0.8890078515346181}\n",
      "{'accuracy': 0.8642245307089484, 'recall': 0.9079229122055674, 'precision': 0.8393269548003959, 'f1': 0.8722784159094805, 'tp': 0.8186219739292365, 'tn': 0.9079229122055674}\n",
      "{'accuracy': 0.8627665390924002, 'recall': 0.8979300499643112, 'precision': 0.8434461951055984, 'f1': 0.8698357821953328, 'tp': 0.8260707635009311, 'tn': 0.8979300499643112}\n",
      "{'accuracy': 0.8631310369965373, 'recall': 0.877587437544611, 'precision': 0.8576909661667248, 'f1': 0.8675251367084141, 'tp': 0.8480446927374302, 'tn': 0.877587437544611}\n",
      "{'accuracy': 0.8653180244213595, 'recall': 0.9014989293361885, 'precision': 0.8450986952157913, 'f1': 0.8723881885684683, 'tp': 0.82756052141527, 'tn': 0.9014989293361885}\n",
      "{'accuracy': 0.8664115181337707, 'recall': 0.8818700927908637, 'precision': 0.8600765750087017, 'f1': 0.8708370044052863, 'tp': 0.8502793296089386, 'tn': 0.8818700927908637}\n",
      "{'accuracy': 0.8675050118461819, 'recall': 0.8979300499643112, 'precision': 0.8508623605005072, 'f1': 0.8737628060427157, 'tp': 0.8357541899441341, 'tn': 0.8979300499643112}\n",
      "{'accuracy': 0.8711499908875524, 'recall': 0.9089935760171306, 'precision': 0.8492830943647882, 'f1': 0.878124461299776, 'tp': 0.831657355679702, 'tn': 0.9089935760171306}\n",
      "{'accuracy': 0.8706032440313468, 'recall': 0.8954318344039971, 'precision': 0.8574846206425154, 'f1': 0.8760474860335196, 'tp': 0.8446927374301676, 'tn': 0.8954318344039971}\n",
      "{'accuracy': 0.8676872607982504, 'recall': 0.8886509635974305, 'precision': 0.8574380165289256, 'f1': 0.8727655099894848, 'tp': 0.8458100558659218, 'tn': 0.8886509635974305}\n",
      "{'accuracy': 0.8700564971751412, 'recall': 0.9172019985724482, 'precision': 0.8423467715503113, 'f1': 0.8781821288228259, 'tp': 0.8208566108007449, 'tn': 0.9172019985724482}\n",
      "{'accuracy': 0.8702387461272098, 'recall': 0.8965024982155603, 'precision': 0.8561690524880708, 'f1': 0.8758716875871687, 'tp': 0.842830540037244, 'tn': 0.8965024982155603}\n",
      "{'accuracy': 0.8698742482230727, 'recall': 0.9089935760171306, 'precision': 0.8473053892215568, 'f1': 0.8770661157024794, 'tp': 0.829050279329609, 'tn': 0.9089935760171306}\n",
      "{'accuracy': 0.8689630034627301, 'recall': 0.8779443254817987, 'precision': 0.8671131476912232, 'f1': 0.872495123248803, 'tp': 0.8595903165735568, 'tn': 0.8779443254817987}\n",
      "{'accuracy': 0.8709677419354839, 'recall': 0.8972162740899358, 'precision': 0.8568507157464212, 'f1': 0.8765690376569037, 'tp': 0.8435754189944135, 'tn': 0.8972162740899358}\n",
      "{'accuracy': 0.8713322398396209, 'recall': 0.887937187723055, 'precision': 0.8638888888888889, 'f1': 0.875747976064766, 'tp': 0.8540037243947859, 'tn': 0.887937187723055}\n",
      "{'accuracy': 0.8724257335520321, 'recall': 0.9172019985724482, 'precision': 0.8459512837393022, 'f1': 0.8801369863013698, 'tp': 0.8256983240223463, 'tn': 0.9172019985724482}\n",
      "{'accuracy': 0.8709677419354839, 'recall': 0.9200571020699501, 'precision': 0.8419333768778576, 'f1': 0.8792633015006821, 'tp': 0.8197392923649907, 'tn': 0.9200571020699501}\n",
      "{'accuracy': 0.8729724804082376, 'recall': 0.9093504639543183, 'precision': 0.8518890003343363, 'f1': 0.879682375280511, 'tp': 0.8350093109869646, 'tn': 0.9093504639543183}\n",
      "{'accuracy': 0.8737014762165117, 'recall': 0.8961456102783726, 'precision': 0.8619979402677652, 'f1': 0.878740157480315, 'tp': 0.8502793296089386, 'tn': 0.8961456102783726}\n",
      "{'accuracy': 0.8727902314561691, 'recall': 0.8886509635974305, 'precision': 0.8657858136300417, 'f1': 0.8770693906305037, 'tp': 0.8562383612662943, 'tn': 0.8886509635974305}\n",
      "{'accuracy': 0.8747949699289229, 'recall': 0.8993576017130621, 'precision': 0.8615384615384616, 'f1': 0.8800419067574646, 'tp': 0.8491620111731844, 'tn': 0.8993576017130621}\n",
      "{'accuracy': 0.875523965737197, 'recall': 0.9093504639543183, 'precision': 0.8558951965065502, 'f1': 0.8818134625367711, 'tp': 0.8402234636871508, 'tn': 0.9093504639543183}\n",
      "{'accuracy': 0.8744304720247859, 'recall': 0.9257673090649536, 'precision': 0.8435772357723578, 'f1': 0.8827633146163009, 'tp': 0.8208566108007449, 'tn': 0.9257673090649536}\n",
      "{'accuracy': 0.8733369783123747, 'recall': 0.8758029978586723, 'precision': 0.8761156729739379, 'f1': 0.8759593075138319, 'tp': 0.8707635009310987, 'tn': 0.8758029978586723}\n",
      "{'accuracy': 0.8775287042099508, 'recall': 0.9047109207708779, 'precision': 0.8622448979591837, 'f1': 0.8829676071055381, 'tp': 0.8491620111731844, 'tn': 0.9047109207708779}\n",
      "{'accuracy': 0.8764352104975396, 'recall': 0.8890078515346181, 'precision': 0.8715885234429671, 'f1': 0.8802120141342756, 'tp': 0.8633147113594041, 'tn': 0.8890078515346181}\n",
      "{'accuracy': 0.8778932021140878, 'recall': 0.9107780157030693, 'precision': 0.8586810228802153, 'f1': 0.8839625909248354, 'tp': 0.8435754189944135, 'tn': 0.9107780157030693}\n",
      "{'accuracy': 0.8764352104975396, 'recall': 0.9221984296930764, 'precision': 0.8488830486202366, 'f1': 0.8840232637700992, 'tp': 0.8286778398510242, 'tn': 0.9221984296930764}\n",
      "{'accuracy': 0.8777109531620193, 'recall': 0.9029264810849393, 'precision': 0.8637760327756914, 'f1': 0.8829174664107485, 'tp': 0.8513966480446927, 'tn': 0.9029264810849393}\n",
      "{'accuracy': 0.8769819573537452, 'recall': 0.8900785153461813, 'precision': 0.8717231737154841, 'f1': 0.880805226911531, 'tp': 0.8633147113594041, 'tn': 0.8900785153461813}\n",
      "{'accuracy': 0.8788044468744305, 'recall': 0.9043540328336902, 'precision': 0.8645513476629136, 'f1': 0.884004884004884, 'tp': 0.8521415270018622, 'tn': 0.9043540328336902}\n",
      "{'accuracy': 0.8793511937306361, 'recall': 0.9004282655246253, 'precision': 0.8682037164487267, 'f1': 0.8840224246671339, 'tp': 0.8573556797020484, 'tn': 0.9004282655246253}\n",
      "{'accuracy': 0.8800801895389101, 'recall': 0.9075660242683797, 'precision': 0.8643779741672332, 'f1': 0.8854456824512534, 'tp': 0.8513966480446927, 'tn': 0.9075660242683797}\n",
      "{'accuracy': 0.8804446874430472, 'recall': 0.9075660242683797, 'precision': 0.8649659863945578, 'f1': 0.8857540926506444, 'tp': 0.8521415270018622, 'tn': 0.9075660242683797}\n",
      "{'accuracy': 0.8775287042099508, 'recall': 0.8911491791577445, 'precision': 0.8718575418994413, 'f1': 0.8813978115072362, 'tp': 0.8633147113594041, 'tn': 0.8911491791577445}\n",
      "{'accuracy': 0.8793511937306361, 'recall': 0.9018558172733762, 'precision': 0.8671928620452986, 'f1': 0.884184744576627, 'tp': 0.8558659217877095, 'tn': 0.9018558172733762}\n",
      "{'accuracy': 0.8760707125934026, 'recall': 0.8811563169164882, 'precision': 0.8767755681818182, 'f1': 0.8789604841580634, 'tp': 0.8707635009310987, 'tn': 0.8811563169164882}\n",
      "{'accuracy': 0.8795334426827046, 'recall': 0.9122055674518201, 'precision': 0.860316391787277, 'f1': 0.885501472371384, 'tp': 0.845437616387337, 'tn': 0.9122055674518201}\n",
      "{'accuracy': 0.8797156916347731, 'recall': 0.9086366880799429, 'precision': 0.8630508474576272, 'f1': 0.8852573018080667, 'tp': 0.8495344506517691, 'tn': 0.9086366880799429}\n",
      "{'accuracy': 0.8820849280116639, 'recall': 0.9214846538187009, 'precision': 0.8580923894981721, 'f1': 0.8886594389950094, 'tp': 0.8409683426443203, 'tn': 0.9214846538187009}\n",
      "{'accuracy': 0.8822671769637325, 'recall': 0.8940042826552462, 'precision': 0.8777154870357393, 'f1': 0.8857850070721358, 'tp': 0.8700186219739292, 'tn': 0.8940042826552462}\n",
      "{'accuracy': 0.8811736832513213, 'recall': 0.903283369022127, 'precision': 0.8691620879120879, 'f1': 0.8858942947147357, 'tp': 0.8581005586592179, 'tn': 0.903283369022127}\n",
      "{'accuracy': 0.882449425915801, 'recall': 0.8843683083511777, 'precision': 0.8853161843515541, 'f1': 0.884841992501339, 'tp': 0.8804469273743016, 'tn': 0.8843683083511777}\n",
      "{'accuracy': 0.8811736832513213, 'recall': 0.8872234118486795, 'precision': 0.8809355067328136, 'f1': 0.884068278805121, 'tp': 0.8748603351955307, 'tn': 0.8872234118486795}\n",
      "{'accuracy': 0.8820849280116639, 'recall': 0.9014989293361885, 'precision': 0.8719364860200207, 'f1': 0.8864713107562731, 'tp': 0.8618249534450652, 'tn': 0.9014989293361885}\n",
      "{'accuracy': 0.8819026790595954, 'recall': 0.8915060670949322, 'precision': 0.8789584799437016, 'f1': 0.8851878100637846, 'tp': 0.8718808193668529, 'tn': 0.8915060670949322}\n",
      "{'accuracy': 0.8813559322033898, 'recall': 0.9150606709493219, 'precision': 0.86126973463218, 'f1': 0.887350752725385, 'tp': 0.8461824953445065, 'tn': 0.9150606709493219}\n",
      "{'accuracy': 0.8809914342992528, 'recall': 0.8847251962883654, 'precision': 0.8825204699181203, 'f1': 0.8836214578506505, 'tp': 0.8770949720670391, 'tn': 0.8847251962883654}\n",
      "{'accuracy': 0.8817204301075269, 'recall': 0.9079229122055674, 'precision': 0.8667802385008518, 'f1': 0.8868746731741328, 'tp': 0.8543761638733706, 'tn': 0.9079229122055674}\n",
      "{'accuracy': 0.8844541643885547, 'recall': 0.9011420413990007, 'precision': 0.8761276891047883, 'f1': 0.8884588318085855, 'tp': 0.8670391061452514, 'tn': 0.9011420413990007}\n",
      "{'accuracy': 0.8846364133406233, 'recall': 0.92790863668808, 'precision': 0.8578027053777632, 'f1': 0.8914795131150351, 'tp': 0.8394785847299814, 'tn': 0.92790863668808}\n",
      "{'accuracy': 0.8819026790595954, 'recall': 0.9154175588865097, 'precision': 0.8618951612903226, 'f1': 0.8878504672897196, 'tp': 0.846927374301676, 'tn': 0.9154175588865097}\n",
      "{'accuracy': 0.8840896664844177, 'recall': 0.8990007137758744, 'precision': 0.8770891364902507, 'f1': 0.8879097638350371, 'tp': 0.8685288640595903, 'tn': 0.8990007137758744}\n",
      "{'accuracy': 0.8837251685802807, 'recall': 0.9186295503211992, 'precision': 0.8626005361930295, 'f1': 0.8897338403041825, 'tp': 0.8472998137802608, 'tn': 0.9186295503211992}\n",
      "{'accuracy': 0.8837251685802807, 'recall': 0.8979300499643112, 'precision': 0.8772663877266388, 'f1': 0.8874779541446208, 'tp': 0.8689013035381751, 'tn': 0.8979300499643112}\n",
      "{'accuracy': 0.8851831601968289, 'recall': 0.8922198429693077, 'precision': 0.884016973125884, 'f1': 0.8880994671403197, 'tp': 0.8778398510242086, 'tn': 0.8922198429693077}\n",
      "{'accuracy': 0.8837251685802807, 'recall': 0.9050678087080657, 'precision': 0.8720770288858322, 'f1': 0.8882661996497373, 'tp': 0.8614525139664805, 'tn': 0.9050678087080657}\n",
      "{'accuracy': 0.8842719154364862, 'recall': 0.9011420413990007, 'precision': 0.875823794658342, 'f1': 0.8883025505716798, 'tp': 0.8666666666666667, 'tn': 0.9011420413990007}\n",
      "{'accuracy': 0.8857299070530344, 'recall': 0.8861527480371163, 'precision': 0.889645288427087, 'f1': 0.8878955837654211, 'tp': 0.8852886405959032, 'tn': 0.8861527480371163}\n",
      "{'accuracy': 0.8853654091488974, 'recall': 0.890435403283369, 'precision': 0.8856940007099752, 'f1': 0.8880583733760455, 'tp': 0.880074487895717, 'tn': 0.890435403283369}\n",
      "{'accuracy': 0.8850009112447603, 'recall': 0.8847251962883654, 'precision': 0.8894869034804449, 'f1': 0.88709966004652, 'tp': 0.8852886405959032, 'tn': 0.8847251962883654}\n",
      "{'accuracy': 0.8851831601968289, 'recall': 0.8865096359743041, 'precision': 0.8884120171673819, 'f1': 0.887459807073955, 'tp': 0.8837988826815643, 'tn': 0.8865096359743041}\n",
      "{'accuracy': 0.8866411518133771, 'recall': 0.9014989293361885, 'precision': 0.8795264623955432, 'f1': 0.8903771589707438, 'tp': 0.8711359404096835, 'tn': 0.9014989293361885}\n",
      "{'accuracy': 0.8837251685802807, 'recall': 0.9164882226980728, 'precision': 0.8640646029609691, 'f1': 0.8895046761343955, 'tp': 0.8495344506517691, 'tn': 0.9164882226980728}\n",
      "{'accuracy': 0.8864589028613086, 'recall': 0.9018558172733762, 'precision': 0.8789565217391304, 'f1': 0.8902589395807645, 'tp': 0.870391061452514, 'tn': 0.9018558172733762}\n",
      "{'accuracy': 0.88627665390924, 'recall': 0.892933618843683, 'precision': 0.8853503184713376, 'f1': 0.8891257995735607, 'tp': 0.8793296089385475, 'tn': 0.892933618843683}\n",
      "{'accuracy': 0.8848186622926918, 'recall': 0.8907922912205567, 'precision': 0.884479092841956, 'f1': 0.887624466571835, 'tp': 0.878584729981378, 'tn': 0.8907922912205567}\n",
      "{'accuracy': 0.8848186622926918, 'recall': 0.8961456102783726, 'precision': 0.8804347826086957, 'f1': 0.8882207286876548, 'tp': 0.872998137802607, 'tn': 0.8961456102783726}\n",
      "{'accuracy': 0.8853654091488974, 'recall': 0.9157744468236974, 'precision': 0.8671848597499155, 'f1': 0.8908175663947231, 'tp': 0.8536312849162011, 'tn': 0.9157744468236974}\n",
      "{'accuracy': 0.8870056497175142, 'recall': 0.911134903640257, 'precision': 0.8731190150478796, 'f1': 0.8917219699615787, 'tp': 0.8618249534450652, 'tn': 0.911134903640257}\n",
      "{'accuracy': 0.8871878986695827, 'recall': 0.9011420413990007, 'precision': 0.8807115451691664, 'f1': 0.8908096666078673, 'tp': 0.8726256983240224, 'tn': 0.9011420413990007}\n",
      "{'accuracy': 0.8886458902861308, 'recall': 0.907209136331192, 'precision': 0.8786726581403388, 'f1': 0.8927129060579456, 'tp': 0.8692737430167597, 'tn': 0.907209136331192}\n",
      "{'accuracy': 0.88627665390924, 'recall': 0.8900785153461813, 'precision': 0.8875444839857651, 'f1': 0.8888096935138988, 'tp': 0.8823091247672253, 'tn': 0.8900785153461813}\n",
      "{'accuracy': 0.8864589028613086, 'recall': 0.8954318344039971, 'precision': 0.8837618879887285, 'f1': 0.8895585889026768, 'tp': 0.8770949720670391, 'tn': 0.8954318344039971}\n",
      "{'accuracy': 0.8866411518133771, 'recall': 0.917558886509636, 'precision': 0.8679945982444295, 'f1': 0.892088827203331, 'tp': 0.8543761638733706, 'tn': 0.917558886509636}\n",
      "{'accuracy': 0.8880991434299252, 'recall': 0.917558886509636, 'precision': 0.8703452945159106, 'f1': 0.893328700486449, 'tp': 0.8573556797020484, 'tn': 0.917558886509636}\n",
      "{'accuracy': 0.8884636413340623, 'recall': 0.9179157744468237, 'precision': 0.8706838185511171, 'f1': 0.8936761640027797, 'tp': 0.8577281191806332, 'tn': 0.9179157744468237}\n",
      "{'accuracy': 0.8884636413340623, 'recall': 0.9082798001427552, 'precision': 0.8775862068965518, 'f1': 0.8926692388635566, 'tp': 0.8677839851024208, 'tn': 0.9082798001427552}\n",
      "{'accuracy': 0.8886458902861308, 'recall': 0.9054246966452534, 'precision': 0.879986125563649, 'f1': 0.8925241864555848, 'tp': 0.8711359404096835, 'tn': 0.9054246966452534}\n",
      "{'accuracy': 0.8870056497175142, 'recall': 0.8950749464668094, 'precision': 0.884968242766408, 'f1': 0.8899929027679205, 'tp': 0.878584729981378, 'tn': 0.8950749464668094}\n",
      "{'accuracy': 0.8877346455257882, 'recall': 0.9054246966452534, 'precision': 0.8784626038781164, 'f1': 0.8917398945518453, 'tp': 0.8692737430167597, 'tn': 0.9054246966452534}\n",
      "{'accuracy': 0.8868234007654456, 'recall': 0.8986438258386866, 'precision': 0.8819614711033275, 'f1': 0.8902245006187025, 'tp': 0.874487895716946, 'tn': 0.8986438258386866}\n",
      "{'accuracy': 0.8875523965737196, 'recall': 0.8982869379014989, 'precision': 0.8834678834678835, 'f1': 0.8908157848168465, 'tp': 0.8763500931098697, 'tn': 0.8982869379014989}\n",
      "{'accuracy': 0.8868234007654456, 'recall': 0.9068522483940042, 'precision': 0.8759048603929679, 'f1': 0.891109942135718, 'tp': 0.8659217877094972, 'tn': 0.9068522483940042}\n",
      "{'accuracy': 0.8873701476216512, 'recall': 0.9075660242683797, 'precision': 0.8762922122674018, 'f1': 0.8916549789621319, 'tp': 0.8662942271880819, 'tn': 0.9075660242683797}\n",
      "{'accuracy': 0.8875523965737196, 'recall': 0.9050678087080657, 'precision': 0.8784205057152754, 'f1': 0.8915450870100193, 'tp': 0.8692737430167597, 'tn': 0.9050678087080657}\n",
      "{'accuracy': 0.8879168944778567, 'recall': 0.9075660242683797, 'precision': 0.8771990341497068, 'f1': 0.8921241887388177, 'tp': 0.8674115456238362, 'tn': 0.9075660242683797}\n",
      "{'accuracy': 0.8880991434299252, 'recall': 0.9025695931477516, 'precision': 0.8811846689895471, 'f1': 0.8917489421720733, 'tp': 0.872998137802607, 'tn': 0.9025695931477516}\n",
      "{'accuracy': 0.8888281392381994, 'recall': 0.9022127052105638, 'precision': 0.88268156424581, 'f1': 0.892340275326509, 'tp': 0.8748603351955307, 'tn': 0.9022127052105638}\n",
      "{'accuracy': 0.8884636413340623, 'recall': 0.9011420413990007, 'precision': 0.8828671328671329, 'f1': 0.8919109855174849, 'tp': 0.8752327746741154, 'tn': 0.9011420413990007}\n",
      "{'accuracy': 0.8879168944778567, 'recall': 0.9022127052105638, 'precision': 0.8811432554897177, 'f1': 0.8915535178980779, 'tp': 0.872998137802607, 'tn': 0.9022127052105638}\n",
      "{'accuracy': 0.8882813923819938, 'recall': 0.9029264810849393, 'precision': 0.8812260536398467, 'f1': 0.8919442975497973, 'tp': 0.872998137802607, 'tn': 0.9029264810849393}\n"
     ]
    }
   ],
   "source": [
    "from transformers import EarlyStoppingCallback\n",
    "\n",
    "training_args = TrainingArguments(\n",
    "    output_dir=model_name,\n",
    "    learning_rate=2e-5,\n",
    "    per_device_train_batch_size=16, # 16\n",
    "    per_device_eval_batch_size=16,  # 16\n",
    "    num_train_epochs=2,\n",
    "    weight_decay=0.01,\n",
    "    evaluation_strategy=\"steps\",\n",
    "    eval_steps=50,\n",
    "    save_total_limit=5,\n",
    "    load_best_model_at_end=True,\n",
    "    push_to_hub=False,\n",
    "    use_cpu = False\n",
    ")\n",
    "\n",
    "trainer = Trainer(\n",
    "    model=model,\n",
    "    args=training_args,\n",
    "    train_dataset=tokenized_data_split[\"train\"],\n",
    "    eval_dataset=tokenized_data_split[\"test\"],\n",
    "    tokenizer=tokenizer,\n",
    "    data_collator=data_collator,\n",
    "    compute_metrics=compute_metrics,\n",
    "    callbacks = [EarlyStoppingCallback(early_stopping_patience=5)]\n",
    ")\n",
    "\n",
    "trainer.train()\n",
    "trainer.save_model(model_name)"
   ]
  },
  {
   "cell_type": "code",
   "execution_count": 40,
   "id": "8cd826e366d3392b",
   "metadata": {
    "collapsed": false,
    "ExecuteTime": {
     "end_time": "2024-07-02T13:20:06.152995200Z",
     "start_time": "2024-07-02T13:19:56.536035600Z"
    }
   },
   "outputs": [
    {
     "data": {
      "text/plain": "<IPython.core.display.HTML object>",
      "text/html": "\n    <div>\n      \n      <progress value='1' max='343' style='width:300px; height:20px; vertical-align: middle;'></progress>\n      [  1/343 : < :]\n    </div>\n    "
     },
     "metadata": {},
     "output_type": "display_data"
    },
    {
     "name": "stdout",
     "output_type": "stream",
     "text": [
      "{'accuracy': 0.8875523965737196, 'recall': 0.8982869379014989, 'precision': 0.8834678834678835, 'f1': 0.8908157848168465, 'tp': 0.8763500931098697, 'tn': 0.8982869379014989}\n"
     ]
    },
    {
     "data": {
      "text/plain": "{'eval_loss': 0.2667648196220398,\n 'eval_accuracy': 0.8875523965737196,\n 'eval_recall': 0.8982869379014989,\n 'eval_precision': 0.8834678834678835,\n 'eval_f1': 0.8908157848168465,\n 'eval_tp': 0.8763500931098697,\n 'eval_tn': 0.8982869379014989,\n 'eval_runtime': 9.5919,\n 'eval_samples_per_second': 572.043,\n 'eval_steps_per_second': 35.759,\n 'epoch': 2.0}"
     },
     "execution_count": 40,
     "metadata": {},
     "output_type": "execute_result"
    }
   ],
   "source": [
    "trainer.evaluate()"
   ]
  },
  {
   "cell_type": "markdown",
   "id": "5c4784af9a51b005",
   "metadata": {
    "collapsed": false
   },
   "source": [
    "# Evaluate model"
   ]
  },
  {
   "cell_type": "code",
   "execution_count": 41,
   "id": "9189d00002d778f9",
   "metadata": {
    "collapsed": false,
    "ExecuteTime": {
     "end_time": "2024-07-02T13:20:06.213036800Z",
     "start_time": "2024-07-02T13:20:06.151980300Z"
    }
   },
   "outputs": [],
   "source": [
    "from transformers import AutoTokenizer, AutoModelForSequenceClassification\n",
    "tokenizer = AutoTokenizer.from_pretrained(model_name, return_tensor=\"pt\")\n",
    "model = AutoModelForSequenceClassification.from_pretrained(model_name)\n",
    "device = \"cuda:0\" if torch.cuda.is_available() else \"cpu\"\n",
    "model = model.to(device)"
   ]
  },
  {
   "cell_type": "code",
   "execution_count": 42,
   "id": "78ede310c0ba2c77",
   "metadata": {
    "collapsed": false,
    "ExecuteTime": {
     "end_time": "2024-07-02T13:20:06.306209900Z",
     "start_time": "2024-07-02T13:20:06.214878700Z"
    }
   },
   "outputs": [],
   "source": [
    "sentences = tokenized_data_split[\"valid\"][\"preprocessed_text\"]\n",
    "true_labels = tokenized_data_split[\"valid\"][\"label\"] "
   ]
  },
  {
   "cell_type": "code",
   "execution_count": 43,
   "id": "cf076f2d3e9071e0",
   "metadata": {
    "collapsed": false,
    "ExecuteTime": {
     "end_time": "2024-07-02T13:20:19.941572300Z",
     "start_time": "2024-07-02T13:20:06.308665300Z"
    }
   },
   "outputs": [],
   "source": [
    "pred_labels = []\n",
    "\n",
    "for sentence in sentences:\n",
    "    inputs = tokenizer(sentence, return_tensors=\"pt\").input_ids.to(device) \n",
    "    with torch.no_grad():\n",
    "        logits = model(inputs).logits\n",
    "    predicted_class_id = logits.argmax().item()\n",
    "    pred_labels.append(predicted_class_id)"
   ]
  },
  {
   "cell_type": "code",
   "execution_count": 44,
   "id": "2ec04b8a0331f1ed",
   "metadata": {
    "collapsed": false,
    "ExecuteTime": {
     "end_time": "2024-07-02T13:20:20.103054500Z",
     "start_time": "2024-07-02T13:20:19.936007900Z"
    }
   },
   "outputs": [
    {
     "data": {
      "text/plain": "<Figure size 640x480 with 2 Axes>",
      "image/png": "[encoded data removed]"
     },
     "metadata": {},
     "output_type": "display_data"
    }
   ],
   "source": [
    "import matplotlib.pyplot as plt\n",
    "\n",
    "cm = confusion_matrix(true_labels, pred_labels, normalize='true')\n",
    "tn, fp, fn, tp = cm.ravel()\n",
    "ConfusionMatrixDisplay.from_predictions(true_labels, pred_labels, normalize=\"true\", cmap=plt.cm.Blues)\n",
    "plt.grid(False)\n",
    "plt.show()"
   ]
  },
  {
   "cell_type": "code",
   "execution_count": 45,
   "outputs": [
    {
     "data": {
      "text/plain": "5486"
     },
     "execution_count": 45,
     "metadata": {},
     "output_type": "execute_result"
    }
   ],
   "source": [
    "len(true_labels)"
   ],
   "metadata": {
    "collapsed": false,
    "ExecuteTime": {
     "end_time": "2024-07-02T13:20:20.125201500Z",
     "start_time": "2024-07-02T13:20:20.105229800Z"
    }
   },
   "id": "6a38c1a7d1d78b55"
  },
  {
   "cell_type": "code",
   "execution_count": 46,
   "id": "fbfea9d986d8e4e1",
   "metadata": {
    "collapsed": false,
    "ExecuteTime": {
     "end_time": "2024-07-02T13:20:20.154696700Z",
     "start_time": "2024-07-02T13:20:20.119202200Z"
    }
   },
   "outputs": [
    {
     "data": {
      "text/plain": "0.8831571272329566"
     },
     "execution_count": 46,
     "metadata": {},
     "output_type": "execute_result"
    }
   ],
   "source": [
    "accuracy_score(true_labels, pred_labels)"
   ]
  },
  {
   "cell_type": "code",
   "execution_count": 47,
   "id": "bd9a350d3c05122e",
   "metadata": {
    "collapsed": false,
    "ExecuteTime": {
     "end_time": "2024-07-02T13:20:20.154696700Z",
     "start_time": "2024-07-02T13:20:20.136619800Z"
    }
   },
   "outputs": [
    {
     "name": "stdout",
     "output_type": "stream",
     "text": [
      "accuracy:  0.8831571272329566\n",
      "precision:  0.8794260833032365\n",
      "recall:  0.8880407124681934\n",
      "f1:  0.8837124040441822\n"
     ]
    }
   ],
   "source": [
    "precision = tp / (tp + fp)\n",
    "recall = tp / (tp + fn)\n",
    "f1 = (2 * precision * recall)/ (precision+recall)\n",
    "print(\"accuracy: \", accuracy_score(true_labels, pred_labels))\n",
    "print(\"precision: \", precision) \n",
    "print(\"recall: \", recall)\n",
    "print(\"f1: \", f1)"
   ]
  },
  {
   "cell_type": "markdown",
   "source": [
    "# Test on real data"
   ],
   "metadata": {
    "collapsed": false
   },
   "id": "c7478a3e0009f72a"
  },
  {
   "cell_type": "code",
   "execution_count": 48,
   "outputs": [],
   "source": [
    "df = pd.read_csv(\"C:/Users/imruh/Documents/Uni/thesis/text generation/datafiles/clan_data/processed_merge.csv\", encoding='utf8', index_col=False).drop(['Unnamed: 0'], axis=1).dropna()"
   ],
   "metadata": {
    "collapsed": false,
    "ExecuteTime": {
     "end_time": "2024-07-02T13:20:20.308753200Z",
     "start_time": "2024-07-02T13:20:20.151696700Z"
    }
   },
   "id": "b79f65fc14abedd1"
  },
  {
   "cell_type": "code",
   "execution_count": 49,
   "outputs": [],
   "source": [
    "import re\n",
    "df[\"preprocessed_text\"]=[re.sub(r'[^\\w\\s]','',x) for x in df[\"preprocessed_text\"]]\n",
    "df[\"lens\"] = [len(re.findall(\"[a-zA-Z_]+\", x)) for x in df[\"preprocessed_text\"]]"
   ],
   "metadata": {
    "collapsed": false,
    "ExecuteTime": {
     "end_time": "2024-07-02T13:20:20.460216Z",
     "start_time": "2024-07-02T13:20:20.306743400Z"
    }
   },
   "id": "2a1f2295b86de57f"
  },
  {
   "cell_type": "code",
   "execution_count": 50,
   "outputs": [
    {
     "data": {
      "text/plain": "       Unnamed: 0.1         scenario         source_file  \\\n0                 0           Stroke  fridriksson08b.cha   \n1                 1       Cinderella          1030-1.cha   \n2                 2  Important_Event    capilouto59a.cha   \n3                 3         Umbrella   richardson205.cha   \n4                 4       Cinderella           UMD19.cha   \n...             ...              ...                 ...   \n56314         56314              Cat    whiteside16a.cha   \n56315         56315           Stroke      wright206a.cha   \n56316         56316           Stroke            50-2.cha   \n56317         56317       Cinderella       wright11a.cha   \n56318         56318         Sandwich   richardson196.cha   \n\n                                           original_text  \\\n0      well ‡ &=points:head yeah &=head:yes . \u001572423_...   \n1                 and then she said +\"/. \u0015148717_150937\u0015   \n2      sailors meaning we went on vacations where we ...   \n3      but he insisted that it wasn't going to rain ....   \n4      and &-um the prince is dancing with all the yo...   \n...                                                  ...   \n56314    +\" &=points:dog ruff@o ruff@o ! \u0015337839_338849\u0015   \n56315  thank_you &-uh all over again &=laughs . [+ gr...   \n56316                              yes . \u0015192554_193114\u0015   \n56317  +\" well ‡ here's a coach for you to take you t...   \n56318  &-um and then you set that off to the side . \u0015...   \n\n                                       preprocessed_text  label  lens  \n0                                              well yeah      1     2  \n1                                      and then she said      1     4  \n2      sailors meaning we went on vacations where we ...      0    11  \n3            but he insisted that it wasnt going to rain      0     9  \n4      and the prince is dancing with all the young l...      0    15  \n...                                                  ...    ...   ...  \n56314                                          ruff ruff      1     2  \n56315                           thank you all over again      1     5  \n56316                                                yes      1     1  \n56317  well heres a coach for you to take you to the ...      0    12  \n56318              and then you set that off to the side      0     9  \n\n[56319 rows x 7 columns]",
      "text/html": "<div>\n<style scoped>\n    .dataframe tbody tr th:only-of-type {\n        vertical-align: middle;\n    }\n\n    .dataframe tbody tr th {\n        vertical-align: top;\n    }\n\n    .dataframe thead th {\n        text-align: right;\n    }\n</style>\n<table border=\"1\" class=\"dataframe\">\n  <thead>\n    <tr style=\"text-align: right;\">\n      <th></th>\n      <th>Unnamed: 0.1</th>\n      <th>scenario</th>\n      <th>source_file</th>\n      <th>original_text</th>\n      <th>preprocessed_text</th>\n      <th>label</th>\n      <th>lens</th>\n    </tr>\n  </thead>\n  <tbody>\n    <tr>\n      <th>0</th>\n      <td>0</td>\n      <td>Stroke</td>\n      <td>fridriksson08b.cha</td>\n      <td>well ‡ &amp;=points:head yeah &amp;=head:yes . \u001572423_...</td>\n      <td>well yeah</td>\n      <td>1</td>\n      <td>2</td>\n    </tr>\n    <tr>\n      <th>1</th>\n      <td>1</td>\n      <td>Cinderella</td>\n      <td>1030-1.cha</td>\n      <td>and then she said +\"/. \u0015148717_150937\u0015</td>\n      <td>and then she said</td>\n      <td>1</td>\n      <td>4</td>\n    </tr>\n    <tr>\n      <th>2</th>\n      <td>2</td>\n      <td>Important_Event</td>\n      <td>capilouto59a.cha</td>\n      <td>sailors meaning we went on vacations where we ...</td>\n      <td>sailors meaning we went on vacations where we ...</td>\n      <td>0</td>\n      <td>11</td>\n    </tr>\n    <tr>\n      <th>3</th>\n      <td>3</td>\n      <td>Umbrella</td>\n      <td>richardson205.cha</td>\n      <td>but he insisted that it wasn't going to rain ....</td>\n      <td>but he insisted that it wasnt going to rain</td>\n      <td>0</td>\n      <td>9</td>\n    </tr>\n    <tr>\n      <th>4</th>\n      <td>4</td>\n      <td>Cinderella</td>\n      <td>UMD19.cha</td>\n      <td>and &amp;-um the prince is dancing with all the yo...</td>\n      <td>and the prince is dancing with all the young l...</td>\n      <td>0</td>\n      <td>15</td>\n    </tr>\n    <tr>\n      <th>...</th>\n      <td>...</td>\n      <td>...</td>\n      <td>...</td>\n      <td>...</td>\n      <td>...</td>\n      <td>...</td>\n      <td>...</td>\n    </tr>\n    <tr>\n      <th>56314</th>\n      <td>56314</td>\n      <td>Cat</td>\n      <td>whiteside16a.cha</td>\n      <td>+\" &amp;=points:dog ruff@o ruff@o ! \u0015337839_338849\u0015</td>\n      <td>ruff ruff</td>\n      <td>1</td>\n      <td>2</td>\n    </tr>\n    <tr>\n      <th>56315</th>\n      <td>56315</td>\n      <td>Stroke</td>\n      <td>wright206a.cha</td>\n      <td>thank_you &amp;-uh all over again &amp;=laughs . [+ gr...</td>\n      <td>thank you all over again</td>\n      <td>1</td>\n      <td>5</td>\n    </tr>\n    <tr>\n      <th>56316</th>\n      <td>56316</td>\n      <td>Stroke</td>\n      <td>50-2.cha</td>\n      <td>yes . \u0015192554_193114\u0015</td>\n      <td>yes</td>\n      <td>1</td>\n      <td>1</td>\n    </tr>\n    <tr>\n      <th>56317</th>\n      <td>56317</td>\n      <td>Cinderella</td>\n      <td>wright11a.cha</td>\n      <td>+\" well ‡ here's a coach for you to take you t...</td>\n      <td>well heres a coach for you to take you to the ...</td>\n      <td>0</td>\n      <td>12</td>\n    </tr>\n    <tr>\n      <th>56318</th>\n      <td>56318</td>\n      <td>Sandwich</td>\n      <td>richardson196.cha</td>\n      <td>&amp;-um and then you set that off to the side . \u0015...</td>\n      <td>and then you set that off to the side</td>\n      <td>0</td>\n      <td>9</td>\n    </tr>\n  </tbody>\n</table>\n<p>56319 rows × 7 columns</p>\n</div>"
     },
     "execution_count": 50,
     "metadata": {},
     "output_type": "execute_result"
    }
   ],
   "source": [
    "df"
   ],
   "metadata": {
    "collapsed": false,
    "ExecuteTime": {
     "end_time": "2024-07-02T13:20:20.478104700Z",
     "start_time": "2024-07-02T13:20:20.462043800Z"
    }
   },
   "id": "29ac816dd57a9873"
  },
  {
   "cell_type": "code",
   "execution_count": 51,
   "outputs": [
    {
     "ename": "OSError",
     "evalue": "Cannot save file into a non-existent directory: '..\\..\\preprocessing\\data'",
     "output_type": "error",
     "traceback": [
      "\u001B[1;31m---------------------------------------------------------------------------\u001B[0m",
      "\u001B[1;31mOSError\u001B[0m                                   Traceback (most recent call last)",
      "\u001B[1;32m~\\AppData\\Local\\Temp\\ipykernel_11260\\2573422130.py\u001B[0m in \u001B[0;36m<cell line: 1>\u001B[1;34m()\u001B[0m\n\u001B[1;32m----> 1\u001B[1;33m \u001B[0mdf\u001B[0m\u001B[1;33m.\u001B[0m\u001B[0mto_csv\u001B[0m\u001B[1;33m(\u001B[0m\u001B[1;34m\"../../preprocessing/data/processed_merge_new.csv\"\u001B[0m\u001B[1;33m)\u001B[0m\u001B[1;33m\u001B[0m\u001B[1;33m\u001B[0m\u001B[0m\n\u001B[0m",
      "\u001B[1;32m~\\miniconda3\\envs\\thesis\\lib\\site-packages\\pandas\\core\\generic.py\u001B[0m in \u001B[0;36mto_csv\u001B[1;34m(self, path_or_buf, sep, na_rep, float_format, columns, header, index, index_label, mode, encoding, compression, quoting, quotechar, lineterminator, chunksize, date_format, doublequote, escapechar, decimal, errors, storage_options)\u001B[0m\n\u001B[0;32m   3770\u001B[0m         )\n\u001B[0;32m   3771\u001B[0m \u001B[1;33m\u001B[0m\u001B[0m\n\u001B[1;32m-> 3772\u001B[1;33m         return DataFrameRenderer(formatter).to_csv(\n\u001B[0m\u001B[0;32m   3773\u001B[0m             \u001B[0mpath_or_buf\u001B[0m\u001B[1;33m,\u001B[0m\u001B[1;33m\u001B[0m\u001B[1;33m\u001B[0m\u001B[0m\n\u001B[0;32m   3774\u001B[0m             \u001B[0mlineterminator\u001B[0m\u001B[1;33m=\u001B[0m\u001B[0mlineterminator\u001B[0m\u001B[1;33m,\u001B[0m\u001B[1;33m\u001B[0m\u001B[1;33m\u001B[0m\u001B[0m\n",
      "\u001B[1;32m~\\miniconda3\\envs\\thesis\\lib\\site-packages\\pandas\\io\\formats\\format.py\u001B[0m in \u001B[0;36mto_csv\u001B[1;34m(self, path_or_buf, encoding, sep, columns, index_label, mode, compression, quoting, quotechar, lineterminator, chunksize, date_format, doublequote, escapechar, errors, storage_options)\u001B[0m\n\u001B[0;32m   1184\u001B[0m             \u001B[0mformatter\u001B[0m\u001B[1;33m=\u001B[0m\u001B[0mself\u001B[0m\u001B[1;33m.\u001B[0m\u001B[0mfmt\u001B[0m\u001B[1;33m,\u001B[0m\u001B[1;33m\u001B[0m\u001B[1;33m\u001B[0m\u001B[0m\n\u001B[0;32m   1185\u001B[0m         )\n\u001B[1;32m-> 1186\u001B[1;33m         \u001B[0mcsv_formatter\u001B[0m\u001B[1;33m.\u001B[0m\u001B[0msave\u001B[0m\u001B[1;33m(\u001B[0m\u001B[1;33m)\u001B[0m\u001B[1;33m\u001B[0m\u001B[1;33m\u001B[0m\u001B[0m\n\u001B[0m\u001B[0;32m   1187\u001B[0m \u001B[1;33m\u001B[0m\u001B[0m\n\u001B[0;32m   1188\u001B[0m         \u001B[1;32mif\u001B[0m \u001B[0mcreated_buffer\u001B[0m\u001B[1;33m:\u001B[0m\u001B[1;33m\u001B[0m\u001B[1;33m\u001B[0m\u001B[0m\n",
      "\u001B[1;32m~\\miniconda3\\envs\\thesis\\lib\\site-packages\\pandas\\io\\formats\\csvs.py\u001B[0m in \u001B[0;36msave\u001B[1;34m(self)\u001B[0m\n\u001B[0;32m    238\u001B[0m         \"\"\"\n\u001B[0;32m    239\u001B[0m         \u001B[1;31m# apply compression and byte/text conversion\u001B[0m\u001B[1;33m\u001B[0m\u001B[1;33m\u001B[0m\u001B[0m\n\u001B[1;32m--> 240\u001B[1;33m         with get_handle(\n\u001B[0m\u001B[0;32m    241\u001B[0m             \u001B[0mself\u001B[0m\u001B[1;33m.\u001B[0m\u001B[0mfilepath_or_buffer\u001B[0m\u001B[1;33m,\u001B[0m\u001B[1;33m\u001B[0m\u001B[1;33m\u001B[0m\u001B[0m\n\u001B[0;32m    242\u001B[0m             \u001B[0mself\u001B[0m\u001B[1;33m.\u001B[0m\u001B[0mmode\u001B[0m\u001B[1;33m,\u001B[0m\u001B[1;33m\u001B[0m\u001B[1;33m\u001B[0m\u001B[0m\n",
      "\u001B[1;32m~\\miniconda3\\envs\\thesis\\lib\\site-packages\\pandas\\io\\common.py\u001B[0m in \u001B[0;36mget_handle\u001B[1;34m(path_or_buf, mode, encoding, compression, memory_map, is_text, errors, storage_options)\u001B[0m\n\u001B[0;32m    735\u001B[0m     \u001B[1;31m# Only for write methods\u001B[0m\u001B[1;33m\u001B[0m\u001B[1;33m\u001B[0m\u001B[0m\n\u001B[0;32m    736\u001B[0m     \u001B[1;32mif\u001B[0m \u001B[1;34m\"r\"\u001B[0m \u001B[1;32mnot\u001B[0m \u001B[1;32min\u001B[0m \u001B[0mmode\u001B[0m \u001B[1;32mand\u001B[0m \u001B[0mis_path\u001B[0m\u001B[1;33m:\u001B[0m\u001B[1;33m\u001B[0m\u001B[1;33m\u001B[0m\u001B[0m\n\u001B[1;32m--> 737\u001B[1;33m         \u001B[0mcheck_parent_directory\u001B[0m\u001B[1;33m(\u001B[0m\u001B[0mstr\u001B[0m\u001B[1;33m(\u001B[0m\u001B[0mhandle\u001B[0m\u001B[1;33m)\u001B[0m\u001B[1;33m)\u001B[0m\u001B[1;33m\u001B[0m\u001B[1;33m\u001B[0m\u001B[0m\n\u001B[0m\u001B[0;32m    738\u001B[0m \u001B[1;33m\u001B[0m\u001B[0m\n\u001B[0;32m    739\u001B[0m     \u001B[1;32mif\u001B[0m \u001B[0mcompression\u001B[0m\u001B[1;33m:\u001B[0m\u001B[1;33m\u001B[0m\u001B[1;33m\u001B[0m\u001B[0m\n",
      "\u001B[1;32m~\\miniconda3\\envs\\thesis\\lib\\site-packages\\pandas\\io\\common.py\u001B[0m in \u001B[0;36mcheck_parent_directory\u001B[1;34m(path)\u001B[0m\n\u001B[0;32m    598\u001B[0m     \u001B[0mparent\u001B[0m \u001B[1;33m=\u001B[0m \u001B[0mPath\u001B[0m\u001B[1;33m(\u001B[0m\u001B[0mpath\u001B[0m\u001B[1;33m)\u001B[0m\u001B[1;33m.\u001B[0m\u001B[0mparent\u001B[0m\u001B[1;33m\u001B[0m\u001B[1;33m\u001B[0m\u001B[0m\n\u001B[0;32m    599\u001B[0m     \u001B[1;32mif\u001B[0m \u001B[1;32mnot\u001B[0m \u001B[0mparent\u001B[0m\u001B[1;33m.\u001B[0m\u001B[0mis_dir\u001B[0m\u001B[1;33m(\u001B[0m\u001B[1;33m)\u001B[0m\u001B[1;33m:\u001B[0m\u001B[1;33m\u001B[0m\u001B[1;33m\u001B[0m\u001B[0m\n\u001B[1;32m--> 600\u001B[1;33m         \u001B[1;32mraise\u001B[0m \u001B[0mOSError\u001B[0m\u001B[1;33m(\u001B[0m\u001B[1;34mrf\"Cannot save file into a non-existent directory: '{parent}'\"\u001B[0m\u001B[1;33m)\u001B[0m\u001B[1;33m\u001B[0m\u001B[1;33m\u001B[0m\u001B[0m\n\u001B[0m\u001B[0;32m    601\u001B[0m \u001B[1;33m\u001B[0m\u001B[0m\n\u001B[0;32m    602\u001B[0m \u001B[1;33m\u001B[0m\u001B[0m\n",
      "\u001B[1;31mOSError\u001B[0m: Cannot save file into a non-existent directory: '..\\..\\preprocessing\\data'"
     ]
    }
   ],
   "source": [
    "# df.to_csv(\"../../preprocessing/data/processed_merge_new.csv\")"
   ],
   "metadata": {
    "collapsed": false,
    "ExecuteTime": {
     "end_time": "2024-07-02T13:20:20.537831100Z",
     "start_time": "2024-07-02T13:20:20.478104700Z"
    }
   },
   "id": "8ae9295df8e1c86f"
  },
  {
   "cell_type": "code",
   "execution_count": 75,
   "outputs": [],
   "source": [
    "# df = pd.concat([df[df[\"label\"]==1].sample(n=1000),df[df[\"label\"]==0].sample(n=1000)]).sample(frac=1)"
   ],
   "metadata": {
    "collapsed": false,
    "ExecuteTime": {
     "end_time": "2024-05-17T12:10:11.556178700Z",
     "start_time": "2024-05-17T12:10:11.543626100Z"
    }
   },
   "id": "52790babd805ca3"
  },
  {
   "cell_type": "code",
   "execution_count": 52,
   "outputs": [],
   "source": [
    "import re\n",
    "sentences = [re.sub(r'[^\\w\\s]','',x) for x in df[\"preprocessed_text\"]]\n",
    "labels = df[\"label\"]"
   ],
   "metadata": {
    "collapsed": false,
    "ExecuteTime": {
     "end_time": "2024-07-02T13:21:30.406645100Z",
     "start_time": "2024-07-02T13:21:30.358357900Z"
    }
   },
   "id": "c82c6e5b1288df69"
  },
  {
   "cell_type": "code",
   "execution_count": 53,
   "outputs": [],
   "source": [
    "pred_labels_bert = []\n",
    "true_labels = []\n",
    "\n",
    "for sentence, label in zip(sentences, labels):\n",
    "    if sentence is not None and isinstance(sentence, str):\n",
    "        inputs = tokenizer(sentence, return_tensors=\"pt\", truncation=True, max_length=512).input_ids.to(device) \n",
    "        true_labels.append(label)\n",
    "        with torch.no_grad():\n",
    "            logits = model(inputs).logits\n",
    "        predicted_class_id = logits.argmax().item()\n",
    "        pred_labels_bert.append(predicted_class_id)"
   ],
   "metadata": {
    "collapsed": false,
    "ExecuteTime": {
     "end_time": "2024-07-02T13:24:04.566083300Z",
     "start_time": "2024-07-02T13:21:33.132345Z"
    }
   },
   "id": "851ec9d542470397"
  },
  {
   "cell_type": "code",
   "execution_count": 54,
   "outputs": [],
   "source": [
    "df[\"predicted\"] = pred_labels_bert\n",
    "# df.to_csv(\"../../linguistic_model/data/answers.csv\")"
   ],
   "metadata": {
    "collapsed": false,
    "ExecuteTime": {
     "end_time": "2024-07-02T13:24:04.611695800Z",
     "start_time": "2024-07-02T13:24:04.567088Z"
    }
   },
   "id": "f7a865e7ce59b4ca"
  },
  {
   "cell_type": "code",
   "execution_count": 55,
   "outputs": [
    {
     "data": {
      "text/plain": "<Figure size 640x480 with 2 Axes>",
      "image/png": "[encoded data removed]"
     },
     "metadata": {},
     "output_type": "display_data"
    }
   ],
   "source": [
    "from sklearn.metrics import confusion_matrix\n",
    "from sklearn.metrics import ConfusionMatrixDisplay\n",
    "import matplotlib.pyplot as plt\n",
    "\n",
    "cm = confusion_matrix(true_labels, pred_labels_bert, normalize='true')\n",
    "tp, fp, fn, tn = cm.ravel()\n",
    "ConfusionMatrixDisplay.from_predictions(true_labels, pred_labels_bert, normalize=\"true\", cmap=plt.cm.Blues)\n",
    "plt.grid(False)\n",
    "plt.show()"
   ],
   "metadata": {
    "collapsed": false,
    "ExecuteTime": {
     "end_time": "2024-07-02T13:24:04.758216100Z",
     "start_time": "2024-07-02T13:24:04.597092100Z"
    }
   },
   "id": "895e4437bcc70eae"
  },
  {
   "cell_type": "code",
   "execution_count": 56,
   "outputs": [
    {
     "name": "stdout",
     "output_type": "stream",
     "text": [
      "accuracy:  0.7911894742449262\n",
      "precision:  0.8575009125197712\n",
      "recall:  0.6885844998015\n",
      "f1:  0.763815287591706\n"
     ]
    }
   ],
   "source": [
    "metric = evaluate.load(\"accuracy\")\n",
    "\n",
    "precision = tp / (tp + fp)\n",
    "recall = tp / (tp + fn)\n",
    "f1 = (2 * precision * recall)/ (precision+recall)\n",
    "print(\"accuracy: \", accuracy_score(true_labels, pred_labels_bert))\n",
    "print(\"precision: \", precision) \n",
    "print(\"recall: \", recall)\n",
    "print(\"f1: \", f1)"
   ],
   "metadata": {
    "collapsed": false,
    "ExecuteTime": {
     "end_time": "2024-07-02T13:24:06.221294900Z",
     "start_time": "2024-07-02T13:24:04.751214500Z"
    }
   },
   "id": "496bd860dce7ae64"
  },
  {
   "cell_type": "markdown",
   "id": "b372717bd48a479d",
   "metadata": {
    "ExecuteTime": {
     "end_time": "2024-02-27T13:33:30.731676300Z",
     "start_time": "2024-02-27T13:33:30.711678200Z"
    },
    "collapsed": false
   },
   "source": [
    "# Feature visualization"
   ]
  },
  {
   "cell_type": "code",
   "execution_count": 81,
   "id": "42df4e6fa6a3ab63",
   "metadata": {
    "collapsed": false,
    "ExecuteTime": {
     "end_time": "2024-05-17T12:10:18.175393400Z",
     "start_time": "2024-05-17T12:10:18.132384900Z"
    }
   },
   "outputs": [],
   "source": [
    "# from transformers import AutoTokenizer, AutoModelForSequenceClassification, AutoModel\n",
    "# import torch\n",
    "# \n",
    "# tokenizer = AutoTokenizer.from_pretrained(model_name, return_tensor=\"pt\")\n",
    "# model = AutoModel.from_pretrained(model_name)\n",
    "# device = \"cuda:0\" if torch.cuda.is_available() else \"cpu\"\n",
    "# model = model.to(device)"
   ]
  },
  {
   "cell_type": "code",
   "execution_count": 82,
   "id": "b40b88034bf9bdb5",
   "metadata": {
    "collapsed": false,
    "ExecuteTime": {
     "end_time": "2024-05-17T12:10:18.179903400Z",
     "start_time": "2024-05-17T12:10:18.147383300Z"
    }
   },
   "outputs": [],
   "source": [
    "# def extract_hidden_states(batch):\n",
    "#     sentences = [x for x in batch[\"modified\"]]\n",
    "#     with torch.no_grad():\n",
    "#         inputs = tokenizer(sentences, return_tensors=\"pt\", padding=True, truncation=True).input_ids.to(device)\n",
    "#         last_hidden_state = model(inputs).last_hidden_state\n",
    "# \n",
    "#     return {\"hidden state\": last_hidden_state[:, 0].cpu().numpy()}"
   ]
  },
  {
   "cell_type": "code",
   "execution_count": 83,
   "id": "f1dd5b774ddf8466",
   "metadata": {
    "collapsed": false,
    "ExecuteTime": {
     "end_time": "2024-05-17T12:10:18.183902600Z",
     "start_time": "2024-05-17T12:10:18.165389900Z"
    }
   },
   "outputs": [],
   "source": [
    "# import gc\n",
    "# torch.cuda.empty_cache()\n",
    "# gc.collect()"
   ]
  },
  {
   "cell_type": "code",
   "execution_count": 84,
   "id": "d2f4394defd64749",
   "metadata": {
    "collapsed": false,
    "ExecuteTime": {
     "end_time": "2024-05-17T12:10:18.199022700Z",
     "start_time": "2024-05-17T12:10:18.183902600Z"
    }
   },
   "outputs": [],
   "source": [
    "# hidden = tokenized_data_split.map(\n",
    "#     extract_hidden_states, batched=True)"
   ]
  },
  {
   "cell_type": "code",
   "execution_count": 85,
   "id": "a152ad631bfaa816",
   "metadata": {
    "collapsed": false,
    "ExecuteTime": {
     "end_time": "2024-05-17T12:10:18.227021500Z",
     "start_time": "2024-05-17T12:10:18.196016300Z"
    }
   },
   "outputs": [],
   "source": [
    "# hidden.save_to_disk('../models/bert_dataset_c4_reverse')"
   ]
  },
  {
   "cell_type": "code",
   "execution_count": 86,
   "id": "b097eaa230a4491d",
   "metadata": {
    "collapsed": false,
    "ExecuteTime": {
     "end_time": "2024-05-17T12:10:18.248195100Z",
     "start_time": "2024-05-17T12:10:18.212024100Z"
    }
   },
   "outputs": [
    {
     "ename": "NameError",
     "evalue": "name 'hidden' is not defined",
     "output_type": "error",
     "traceback": [
      "\u001B[1;31m---------------------------------------------------------------------------\u001B[0m",
      "\u001B[1;31mNameError\u001B[0m                                 Traceback (most recent call last)",
      "\u001B[1;32m~\\AppData\\Local\\Temp\\ipykernel_32628\\4033114737.py\u001B[0m in \u001B[0;36m<cell line: 1>\u001B[1;34m()\u001B[0m\n\u001B[1;32m----> 1\u001B[1;33m \u001B[0mhidden\u001B[0m\u001B[1;33m[\u001B[0m\u001B[1;34m\"test\"\u001B[0m\u001B[1;33m]\u001B[0m\u001B[1;33m.\u001B[0m\u001B[0mcolumn_names\u001B[0m\u001B[1;33m\u001B[0m\u001B[1;33m\u001B[0m\u001B[0m\n\u001B[0m",
      "\u001B[1;31mNameError\u001B[0m: name 'hidden' is not defined"
     ]
    }
   ],
   "source": [
    "hidden[\"test\"].column_names"
   ]
  },
  {
   "cell_type": "code",
   "execution_count": null,
   "id": "ee314912a3c95858",
   "metadata": {
    "collapsed": false,
    "ExecuteTime": {
     "start_time": "2024-05-17T12:10:18.243195400Z"
    }
   },
   "outputs": [],
   "source": [
    "print(np.array(hidden[\"train\"][\"hidden state\"]).shape)"
   ]
  },
  {
   "cell_type": "code",
   "execution_count": null,
   "id": "8f05890fe30c5763",
   "metadata": {
    "collapsed": false,
    "ExecuteTime": {
     "start_time": "2024-05-17T12:10:18.245196400Z"
    }
   },
   "outputs": [],
   "source": [
    "from sklearn.decomposition import PCA\n",
    "from sklearn.preprocessing import MinMaxScaler\n",
    "\n",
    "X_train = np.array(hidden[\"train\"][\"hidden state\"])\n",
    "y_train = np.array(hidden[\"train\"][\"label\"])\n",
    "\n",
    "X_test = np.array(hidden[\"test\"][\"hidden state\"])\n",
    "y_test = np.array(hidden[\"test\"][\"label\"])"
   ]
  },
  {
   "cell_type": "code",
   "execution_count": null,
   "id": "c07f8f9bfadf1f07",
   "metadata": {
    "collapsed": false,
    "ExecuteTime": {
     "start_time": "2024-05-17T12:10:18.246195100Z"
    }
   },
   "outputs": [],
   "source": [
    "# reduce to 2d for visualization\n",
    "pca = PCA(n_components=2)\n",
    "\n",
    "x_scaled = MinMaxScaler().fit_transform(X_train)\n",
    "x_2d = pca.fit_transform(x_scaled)\n",
    "x_2d.shape\n",
    "\n",
    "x_scaled1 = MinMaxScaler().fit_transform(X_test)\n",
    "x_2d1 = pca.fit_transform(x_scaled1)\n",
    "x_2d1.shape"
   ]
  },
  {
   "cell_type": "code",
   "execution_count": null,
   "id": "e78358214e289c61",
   "metadata": {
    "collapsed": false,
    "ExecuteTime": {
     "end_time": "2024-05-17T12:10:18.248195100Z",
     "start_time": "2024-05-17T12:10:18.248195100Z"
    }
   },
   "outputs": [],
   "source": [
    "# reduce to 3d for visualization\n",
    "pca = PCA(n_components=3)\n",
    "\n",
    "x_scaled = MinMaxScaler().fit_transform(X_train)\n",
    "x_3d = pca.fit_transform(x_scaled)\n",
    "x_3d.shape\n",
    "\n",
    "x_scaled1 = MinMaxScaler().fit_transform(X_test)\n",
    "x_3d1 = pca.fit_transform(x_scaled1)\n",
    "x_3d1.shape"
   ]
  },
  {
   "cell_type": "code",
   "execution_count": null,
   "id": "12fa5db541f9bb2b",
   "metadata": {
    "collapsed": false,
    "ExecuteTime": {
     "start_time": "2024-05-17T12:10:18.250195900Z"
    }
   },
   "outputs": [],
   "source": [
    "# 2d viz\n",
    "fig, ax = plt.subplots(2, 2, figsize=(7, 5))\n",
    "ax = ax.flatten()\n",
    "cmaps = [\"blue\", \"orange\"]\n",
    "labels = set([x.item() for x in tokenized_data_split[\"train\"][\"label\"]])\n",
    "\n",
    "for i, (label, cmap) in enumerate(zip(labels, cmaps)):\n",
    "    x_2d_sub = x_2d[y_train == i]\n",
    "    ax[i].scatter(x_2d_sub[:, 0], x_2d_sub[:, 1], color=cmap)\n",
    "    ax[i].set_title(id2label[label] +\" TRAIN\")\n",
    "    \n",
    "for i, (label, cmap) in enumerate(zip(labels, cmaps)):\n",
    "    x_2d_sub1 = x_2d1[y_test == i]\n",
    "    ax[i+2].scatter(x_2d_sub1[:, 0], x_2d_sub1[:, 1], color=cmap)\n",
    "    ax[i+2].set_title(id2label[label] +\" TEST\" )\n",
    "\n",
    "plt.tight_layout()\n",
    "plt.show()"
   ]
  },
  {
   "cell_type": "markdown",
   "id": "98ee6b60b009c571",
   "metadata": {
    "collapsed": false
   },
   "source": [
    "### Shows us that there might be an overlap in control text and broca text which indistinguishable to the model (so model goes with control as sort of default strategy)"
   ]
  },
  {
   "cell_type": "code",
   "execution_count": null,
   "id": "f129d6059f201e9b",
   "metadata": {
    "collapsed": false,
    "ExecuteTime": {
     "start_time": "2024-05-17T12:10:18.251193800Z"
    }
   },
   "outputs": [],
   "source": [
    "# 3d vis\n",
    "\n",
    "fig, ax = plt.subplots(2, 2, subplot_kw={\"projection\": \"3d\"}, figsize=(8, 6))\n",
    "ax = ax.flatten()\n",
    "cmaps = [\"blue\", \"orange\"]\n",
    "labels = set([x.item() for x in tokenized_data_split[\"train\"][\"label\"]])\n",
    "\n",
    "for i, (label, cmap) in enumerate(zip(labels, cmaps)):\n",
    "    x_3d_sub = x_3d[y_train == i]\n",
    "    ax[i].scatter(x_3d_sub[:, 0], x_3d_sub[:, 1], color=cmap)\n",
    "    ax[i].set_title(id2label[label]+\" TRAIN\")\n",
    "    \n",
    "for i, (label, cmap) in enumerate(zip(labels, cmaps)):\n",
    "    x_3d_sub1 = x_3d1[y_test == i]\n",
    "    ax[i+2].scatter(x_3d_sub1[:, 0], x_3d_sub1[:, 1], color=cmap)\n",
    "    ax[i+2].set_title(id2label[label]+\" TEST\" )\n",
    "\n",
    "plt.tight_layout()\n",
    "plt.show()"
   ]
  },
  {
   "cell_type": "markdown",
   "id": "6d2d2dc9e35e72b",
   "metadata": {
    "ExecuteTime": {
     "end_time": "2024-02-27T13:35:11.025219100Z",
     "start_time": "2024-02-27T13:35:10.958474500Z"
    },
    "collapsed": false
   },
   "source": [
    "# Attention viz"
   ]
  },
  {
   "cell_type": "code",
   "execution_count": null,
   "id": "fd15c9abb7a65134",
   "metadata": {
    "collapsed": false,
    "ExecuteTime": {
     "end_time": "2024-05-17T12:10:18.274200400Z",
     "start_time": "2024-05-17T12:10:18.252194700Z"
    }
   },
   "outputs": [],
   "source": [
    "from bertviz import model_view, head_view\n",
    "from transformers import AutoTokenizer, AutoModelForSequenceClassification, AutoModel\n",
    "import torch\n",
    "\n",
    "tokenizer = AutoTokenizer.from_pretrained(model_name, return_tensor=\"pt\")\n",
    "model = AutoModel.from_pretrained(model_name)\n",
    "device = \"cuda:0\" if torch.cuda.is_available() else \"cpu\""
   ]
  },
  {
   "cell_type": "markdown",
   "id": "16593d5c50e2ccdb",
   "metadata": {
    "collapsed": false
   },
   "source": [
    "### For control sentence"
   ]
  },
  {
   "cell_type": "code",
   "execution_count": null,
   "id": "48f7d23ea59f9d2a",
   "metadata": {
    "collapsed": false,
    "ExecuteTime": {
     "start_time": "2024-05-17T12:10:18.253194Z"
    }
   },
   "outputs": [],
   "source": [
    "input = tokenizer.encode(sentences[0], return_tensors=\"pt\")\n",
    "output = model(input, output_attentions=True)\n",
    "\n",
    "attention = output[-1]\n",
    "tokens = tokenizer.convert_ids_to_tokens(input[0]) \n",
    "model_view(attention, tokens)\n",
    "print(sentences[0], true_labels[0])"
   ]
  },
  {
   "cell_type": "markdown",
   "id": "ccb0aef809127cec",
   "metadata": {
    "collapsed": false
   },
   "source": [
    "### For broca sentence"
   ]
  },
  {
   "cell_type": "code",
   "execution_count": null,
   "id": "9205ee88774675f",
   "metadata": {
    "collapsed": false,
    "ExecuteTime": {
     "start_time": "2024-05-17T12:10:18.255194900Z"
    }
   },
   "outputs": [],
   "source": [
    "input = tokenizer.encode(sentences[8], return_tensors=\"pt\")\n",
    "output = model(input, output_attentions=True)\n",
    "\n",
    "attention = output[-1]\n",
    "tokens = tokenizer.convert_ids_to_tokens(input[0]) \n",
    "model_view(attention, tokens)\n",
    "print(sentences[8], true_labels[8])"
   ]
  }
 ],
 "metadata": {
  "kernelspec": {
   "display_name": "Python 3 (ipykernel)",
   "language": "python",
   "name": "python3"
  },
  "language_info": {
   "codemirror_mode": {
    "name": "ipython",
    "version": 3
   },
   "file_extension": ".py",
   "mimetype": "text/x-python",
   "name": "python",
   "nbconvert_exporter": "python",
   "pygments_lexer": "ipython3",
   "version": "3.9.18"
  }
 },
 "nbformat": 4,
 "nbformat_minor": 5
}
