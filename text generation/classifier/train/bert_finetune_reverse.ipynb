{
 "cells": [
  {
   "cell_type": "markdown",
   "id": "a8decd97b993c427",
   "metadata": {
    "collapsed": false
   },
   "source": [
    "## Imports  "
   ]
  },
  {
   "cell_type": "code",
   "execution_count": 44,
   "id": "2f1366e7aa1dd212",
   "metadata": {
    "collapsed": false,
    "ExecuteTime": {
     "end_time": "2024-05-17T12:06:09.199805600Z",
     "start_time": "2024-05-17T12:06:08.806629500Z"
    }
   },
   "outputs": [],
   "source": [
    "from transformers import AutoTokenizer\n",
    "from transformers import DataCollatorWithPadding\n",
    "import evaluate\n",
    "import numpy as np\n",
    "from transformers import AutoModelForSequenceClassification, TrainingArguments, Trainer \n",
    "import torch\n",
    "import pandas as pd\n",
    "from datasets import Dataset, DatasetDict\n",
    "import seaborn as sns       \n",
    "from sklearn.metrics import accuracy_score, confusion_matrix, ConfusionMatrixDisplay"
   ]
  },
  {
   "cell_type": "code",
   "execution_count": 45,
   "id": "7ce3af904743ee26",
   "metadata": {
    "collapsed": false,
    "ExecuteTime": {
     "end_time": "2024-05-17T12:06:09.578741100Z",
     "start_time": "2024-05-17T12:06:08.809670Z"
    }
   },
   "outputs": [
    {
     "name": "stdout",
     "output_type": "stream",
     "text": [
      "True\n",
      "12.1\n"
     ]
    }
   ],
   "source": [
    "print(torch.cuda.is_available())\n",
    "print(torch.version.cuda)"
   ]
  },
  {
   "cell_type": "code",
   "execution_count": 46,
   "id": "cded5d3cb3bb09e0",
   "metadata": {
    "collapsed": false,
    "ExecuteTime": {
     "end_time": "2024-05-17T12:06:09.635213600Z",
     "start_time": "2024-05-17T12:06:08.823671100Z"
    }
   },
   "outputs": [],
   "source": [
    "model_name = \"../models/bert_reverse\""
   ]
  },
  {
   "cell_type": "code",
   "execution_count": 47,
   "id": "288e770542a6325e",
   "metadata": {
    "collapsed": false,
    "ExecuteTime": {
     "end_time": "2024-05-17T12:06:11.561680700Z",
     "start_time": "2024-05-17T12:06:08.842456200Z"
    }
   },
   "outputs": [
    {
     "name": "stderr",
     "output_type": "stream",
     "text": [
      "Some weights of BertForSequenceClassification were not initialized from the model checkpoint at prajjwal1/bert-tiny and are newly initialized: ['classifier.bias', 'classifier.weight']\n",
      "You should probably TRAIN this model on a down-stream task to be able to use it for predictions and inference.\n"
     ]
    }
   ],
   "source": [
    "device = torch.device(\"cuda\" if torch.cuda.is_available() else \"cpu\")\n",
    "\n",
    "tokenizer = AutoTokenizer.from_pretrained(\"prajjwal1/bert-tiny\", return_tensor=\"pt\")\n",
    "\n",
    "data_collator = DataCollatorWithPadding(tokenizer=tokenizer)\n",
    "\n",
    "accuracy = evaluate.load(\"accuracy\")\n",
    "\n",
    "id2label = {0: \"CONTROL\", 1: \"BROCA\"}\n",
    "label2id = {\"CONTROL\": 0, \"BROCA\": 1}\n",
    "\n",
    "model = AutoModelForSequenceClassification.from_pretrained(\"prajjwal1/bert-tiny\", num_labels=2, id2label=id2label, label2id=label2id)"
   ]
  },
  {
   "cell_type": "code",
   "execution_count": 48,
   "outputs": [
    {
     "data": {
      "text/plain": "BertConfig {\n  \"_name_or_path\": \"prajjwal1/bert-tiny\",\n  \"attention_probs_dropout_prob\": 0.1,\n  \"classifier_dropout\": null,\n  \"hidden_act\": \"gelu\",\n  \"hidden_dropout_prob\": 0.1,\n  \"hidden_size\": 128,\n  \"id2label\": {\n    \"0\": \"CONTROL\",\n    \"1\": \"BROCA\"\n  },\n  \"initializer_range\": 0.02,\n  \"intermediate_size\": 512,\n  \"label2id\": {\n    \"BROCA\": 1,\n    \"CONTROL\": 0\n  },\n  \"layer_norm_eps\": 1e-12,\n  \"max_position_embeddings\": 512,\n  \"model_type\": \"bert\",\n  \"num_attention_heads\": 2,\n  \"num_hidden_layers\": 2,\n  \"pad_token_id\": 0,\n  \"position_embedding_type\": \"absolute\",\n  \"transformers_version\": \"4.39.0.dev0\",\n  \"type_vocab_size\": 2,\n  \"use_cache\": true,\n  \"vocab_size\": 30522\n}"
     },
     "execution_count": 48,
     "metadata": {},
     "output_type": "execute_result"
    }
   ],
   "source": [
    "model.config"
   ],
   "metadata": {
    "collapsed": false,
    "ExecuteTime": {
     "end_time": "2024-05-17T12:06:11.600575200Z",
     "start_time": "2024-05-17T12:06:11.556626200Z"
    }
   },
   "id": "19880815acfa7e23"
  },
  {
   "cell_type": "code",
   "execution_count": 49,
   "id": "6968fd60529a4cd0",
   "metadata": {
    "collapsed": false,
    "ExecuteTime": {
     "end_time": "2024-05-17T12:06:11.620149200Z",
     "start_time": "2024-05-17T12:06:11.572578100Z"
    }
   },
   "outputs": [],
   "source": [
    "# dataset_filename = \"../../linguistic_model/data/bnc_merge.csv\"\n",
    "dataset_filename = \"../../linguistic_model/data/boston_merge.csv\"\n",
    "data = pd.read_csv(dataset_filename, encoding='utf8', index_col=False)#.drop(['Unnamed: 0','predicted'], axis=1)\n",
    "data = data.dropna(axis=0)"
   ]
  },
  {
   "cell_type": "code",
   "execution_count": 50,
   "id": "cba941e5823a34d0",
   "metadata": {
    "collapsed": false,
    "ExecuteTime": {
     "end_time": "2024-05-17T12:06:11.635931600Z",
     "start_time": "2024-05-17T12:06:11.604576300Z"
    }
   },
   "outputs": [
    {
     "data": {
      "text/plain": "                                       preprocessed_text  label\n0      i am a veteran so i do not go to county hospitals      0\n1                 he is happy he he whole mare herds now      1\n2                       where are they now i missed that      0\n3                       under the clinton administration      0\n4                                              could x x      1\n...                                                  ...    ...\n16478                                   or am i mistaken      0\n16479                                      the real long      0\n16480  they would do their sentences and then they wo...      0\n16481                                   and how we do it      0\n16482  no hotels no casinos we asked las vegas to tak...      0\n\n[16483 rows x 2 columns]",
      "text/html": "<div>\n<style scoped>\n    .dataframe tbody tr th:only-of-type {\n        vertical-align: middle;\n    }\n\n    .dataframe tbody tr th {\n        vertical-align: top;\n    }\n\n    .dataframe thead th {\n        text-align: right;\n    }\n</style>\n<table border=\"1\" class=\"dataframe\">\n  <thead>\n    <tr style=\"text-align: right;\">\n      <th></th>\n      <th>preprocessed_text</th>\n      <th>label</th>\n    </tr>\n  </thead>\n  <tbody>\n    <tr>\n      <th>0</th>\n      <td>i am a veteran so i do not go to county hospitals</td>\n      <td>0</td>\n    </tr>\n    <tr>\n      <th>1</th>\n      <td>he is happy he he whole mare herds now</td>\n      <td>1</td>\n    </tr>\n    <tr>\n      <th>2</th>\n      <td>where are they now i missed that</td>\n      <td>0</td>\n    </tr>\n    <tr>\n      <th>3</th>\n      <td>under the clinton administration</td>\n      <td>0</td>\n    </tr>\n    <tr>\n      <th>4</th>\n      <td>could x x</td>\n      <td>1</td>\n    </tr>\n    <tr>\n      <th>...</th>\n      <td>...</td>\n      <td>...</td>\n    </tr>\n    <tr>\n      <th>16478</th>\n      <td>or am i mistaken</td>\n      <td>0</td>\n    </tr>\n    <tr>\n      <th>16479</th>\n      <td>the real long</td>\n      <td>0</td>\n    </tr>\n    <tr>\n      <th>16480</th>\n      <td>they would do their sentences and then they wo...</td>\n      <td>0</td>\n    </tr>\n    <tr>\n      <th>16481</th>\n      <td>and how we do it</td>\n      <td>0</td>\n    </tr>\n    <tr>\n      <th>16482</th>\n      <td>no hotels no casinos we asked las vegas to tak...</td>\n      <td>0</td>\n    </tr>\n  </tbody>\n</table>\n<p>16483 rows × 2 columns</p>\n</div>"
     },
     "execution_count": 50,
     "metadata": {},
     "output_type": "execute_result"
    }
   ],
   "source": [
    "data"
   ]
  },
  {
   "cell_type": "code",
   "execution_count": 51,
   "id": "2d88c1cf33e6ee36",
   "metadata": {
    "collapsed": false,
    "ExecuteTime": {
     "end_time": "2024-05-17T12:06:11.681161100Z",
     "start_time": "2024-05-17T12:06:11.620149200Z"
    }
   },
   "outputs": [
    {
     "data": {
      "text/plain": "16483"
     },
     "execution_count": 51,
     "metadata": {},
     "output_type": "execute_result"
    }
   ],
   "source": [
    "len(data)"
   ]
  },
  {
   "cell_type": "code",
   "execution_count": 52,
   "id": "caca98d726df10d6",
   "metadata": {
    "collapsed": false,
    "ExecuteTime": {
     "end_time": "2024-05-17T12:06:11.700655Z",
     "start_time": "2024-05-17T12:06:11.634922500Z"
    }
   },
   "outputs": [
    {
     "data": {
      "text/plain": "label\n0    11893\n1     4590\nName: count, dtype: int64"
     },
     "execution_count": 52,
     "metadata": {},
     "output_type": "execute_result"
    }
   ],
   "source": [
    "# check if there is the same data imbalance ratio\n",
    "data[\"label\"].value_counts()"
   ]
  },
  {
   "cell_type": "code",
   "execution_count": 53,
   "id": "f39e4e0f4242d32e",
   "metadata": {
    "collapsed": false,
    "ExecuteTime": {
     "end_time": "2024-05-17T12:06:11.724654400Z",
     "start_time": "2024-05-17T12:06:11.650889100Z"
    }
   },
   "outputs": [],
   "source": [
    "dataset = Dataset.from_pandas(data)"
   ]
  },
  {
   "cell_type": "code",
   "execution_count": 54,
   "id": "24dc19496ebae57",
   "metadata": {
    "collapsed": false,
    "ExecuteTime": {
     "end_time": "2024-05-17T12:06:11.766177400Z",
     "start_time": "2024-05-17T12:06:11.681161100Z"
    }
   },
   "outputs": [
    {
     "data": {
      "text/plain": "Dataset({\n    features: ['preprocessed_text', 'label'],\n    num_rows: 16483\n})"
     },
     "execution_count": 54,
     "metadata": {},
     "output_type": "execute_result"
    }
   ],
   "source": [
    "dataset"
   ]
  },
  {
   "cell_type": "code",
   "execution_count": 55,
   "id": "b1d26f8ed7628ddf",
   "metadata": {
    "collapsed": false,
    "ExecuteTime": {
     "end_time": "2024-05-17T12:06:11.818131800Z",
     "start_time": "2024-05-17T12:06:11.699656100Z"
    }
   },
   "outputs": [],
   "source": [
    "def compute_metrics(eval_pred):\n",
    "    metrics = [\"accuracy\", \"recall\", \"precision\", \"f1\"] #List of metrics to return\n",
    "    metric={}\n",
    "    \n",
    "    for met in metrics:\n",
    "       metric[met] = evaluate.load(met)\n",
    "    logits, labels = eval_pred\n",
    "    predictions = np.argmax(logits, axis=1)\n",
    "    metrics.extend([\"tp\", \"tn\"])\n",
    "    cm = confusion_matrix(labels, predictions, normalize='true')\n",
    "    tp, fp, fn, tn = cm.ravel()\n",
    "    metric_res={}\n",
    "    for met in metrics:\n",
    "        if met == \"tp\":\n",
    "            metric_res[met] = tp\n",
    "        elif met == \"tn\":\n",
    "            metric_res[met] = tn\n",
    "        else:\n",
    "            metric_res[met]=metric[met].compute(predictions=predictions, references=labels)[met]\n",
    "        \n",
    "    print(metric_res)\n",
    "    return metric_res"
   ]
  },
  {
   "cell_type": "code",
   "execution_count": 56,
   "id": "3c5424bef5910ed6",
   "metadata": {
    "collapsed": false,
    "ExecuteTime": {
     "end_time": "2024-05-17T12:06:11.880400500Z",
     "start_time": "2024-05-17T12:06:11.711657100Z"
    }
   },
   "outputs": [],
   "source": [
    "def preprocess_function(examples):\n",
    "    return tokenizer(examples[\"preprocessed_text\"], padding=True, truncation=True, return_tensors=\"pt\", max_length=512)"
   ]
  },
  {
   "cell_type": "code",
   "execution_count": 57,
   "id": "8e968036da2524",
   "metadata": {
    "collapsed": false,
    "ExecuteTime": {
     "end_time": "2024-05-17T12:06:12.485067600Z",
     "start_time": "2024-05-17T12:06:11.731655300Z"
    }
   },
   "outputs": [
    {
     "data": {
      "text/plain": "Map:   0%|          | 0/16483 [00:00<?, ? examples/s]",
      "application/vnd.jupyter.widget-view+json": {
       "version_major": 2,
       "version_minor": 0,
       "model_id": "c7352c77b1574a94809500c6e5bc8db9"
      }
     },
     "metadata": {},
     "output_type": "display_data"
    }
   ],
   "source": [
    "tokenized_data = dataset.map(preprocess_function, batched=True).with_format(\"torch\")"
   ]
  },
  {
   "cell_type": "code",
   "execution_count": 58,
   "id": "26c079af78f208bd",
   "metadata": {
    "collapsed": false,
    "ExecuteTime": {
     "end_time": "2024-05-17T12:06:12.499426400Z",
     "start_time": "2024-05-17T12:06:12.486069500Z"
    }
   },
   "outputs": [],
   "source": [
    "tokenized_data_split = tokenized_data.train_test_split(test_size=0.2, seed=42)"
   ]
  },
  {
   "cell_type": "code",
   "execution_count": 59,
   "id": "fcdcf5ff28e237a1",
   "metadata": {
    "collapsed": false,
    "ExecuteTime": {
     "end_time": "2024-05-17T12:06:12.534502400Z",
     "start_time": "2024-05-17T12:06:12.502429200Z"
    }
   },
   "outputs": [],
   "source": [
    "# 70% train, 30% test + valid\n",
    "train_testvalid = tokenized_data.train_test_split(test_size=0.2, seed=42)\n",
    "test_valid = train_testvalid['test'].train_test_split(test_size=0.5, seed=41)"
   ]
  },
  {
   "cell_type": "code",
   "execution_count": 60,
   "outputs": [],
   "source": [
    "tokenized_data_split = DatasetDict({\n",
    "    \"train\": train_testvalid[\"train\"],\n",
    "    \"test\": test_valid[\"test\"],\n",
    "    \"valid\": test_valid[\"train\"]})"
   ],
   "metadata": {
    "collapsed": false,
    "ExecuteTime": {
     "end_time": "2024-05-17T12:06:12.545546800Z",
     "start_time": "2024-05-17T12:06:12.534502400Z"
    }
   },
   "id": "efba20bd3e70b25d"
  },
  {
   "cell_type": "code",
   "execution_count": 61,
   "outputs": [
    {
     "data": {
      "text/plain": "DatasetDict({\n    train: Dataset({\n        features: ['preprocessed_text', 'label', 'input_ids', 'token_type_ids', 'attention_mask'],\n        num_rows: 13186\n    })\n    test: Dataset({\n        features: ['preprocessed_text', 'label', 'input_ids', 'token_type_ids', 'attention_mask'],\n        num_rows: 1649\n    })\n    valid: Dataset({\n        features: ['preprocessed_text', 'label', 'input_ids', 'token_type_ids', 'attention_mask'],\n        num_rows: 1648\n    })\n})"
     },
     "execution_count": 61,
     "metadata": {},
     "output_type": "execute_result"
    }
   ],
   "source": [
    "tokenized_data_split"
   ],
   "metadata": {
    "collapsed": false,
    "ExecuteTime": {
     "end_time": "2024-05-17T12:06:12.589734300Z",
     "start_time": "2024-05-17T12:06:12.546556Z"
    }
   },
   "id": "9de3787187630605"
  },
  {
   "cell_type": "code",
   "execution_count": 62,
   "id": "a3ff31fdb9094677",
   "metadata": {
    "collapsed": false,
    "ExecuteTime": {
     "end_time": "2024-05-17T12:10:01.287619600Z",
     "start_time": "2024-05-17T12:06:12.565336200Z"
    }
   },
   "outputs": [
    {
     "name": "stderr",
     "output_type": "stream",
     "text": [
      "C:\\Users\\imruh\\miniconda3\\envs\\thesis\\lib\\site-packages\\accelerate\\accelerator.py:432: FutureWarning: Passing the following arguments to `Accelerator` is deprecated and will be removed in version 1.0 of Accelerate: dict_keys(['dispatch_batches', 'split_batches', 'even_batches', 'use_seedable_sampler']). Please pass an `accelerate.DataLoaderConfiguration` instead: \n",
      "dataloader_config = DataLoaderConfiguration(dispatch_batches=None, split_batches=False, even_batches=True, use_seedable_sampler=True)\n",
      "  warnings.warn(\n"
     ]
    },
    {
     "data": {
      "text/plain": "<IPython.core.display.HTML object>",
      "text/html": "\n    <div>\n      \n      <progress value='2' max='1650' style='width:300px; height:20px; vertical-align: middle;'></progress>\n      [   2/1650 : < :, Epoch 0.00/2]\n    </div>\n    <table border=\"1\" class=\"dataframe\">\n  <thead>\n <tr style=\"text-align: left;\">\n      <th>Step</th>\n      <th>Training Loss</th>\n      <th>Validation Loss</th>\n    </tr>\n  </thead>\n  <tbody>\n  </tbody>\n</table><p>"
     },
     "metadata": {},
     "output_type": "display_data"
    },
    {
     "name": "stdout",
     "output_type": "stream",
     "text": [
      "{'accuracy': 0.7252880533656761, 'recall': 0.0, 'precision': 0.0, 'f1': 0.0, 'tp': 1.0, 'tn': 0.0}\n"
     ]
    },
    {
     "name": "stderr",
     "output_type": "stream",
     "text": [
      "C:\\Users\\imruh\\miniconda3\\envs\\thesis\\lib\\site-packages\\sklearn\\metrics\\_classification.py:1509: UndefinedMetricWarning: Precision is ill-defined and being set to 0.0 due to no predicted samples. Use `zero_division` parameter to control this behavior.\n",
      "  _warn_prf(average, modifier, f\"{metric.capitalize()} is\", len(result))\n"
     ]
    },
    {
     "name": "stdout",
     "output_type": "stream",
     "text": [
      "{'accuracy': 0.7252880533656761, 'recall': 0.0, 'precision': 0.0, 'f1': 0.0, 'tp': 1.0, 'tn': 0.0}\n"
     ]
    },
    {
     "name": "stderr",
     "output_type": "stream",
     "text": [
      "C:\\Users\\imruh\\miniconda3\\envs\\thesis\\lib\\site-packages\\sklearn\\metrics\\_classification.py:1509: UndefinedMetricWarning: Precision is ill-defined and being set to 0.0 due to no predicted samples. Use `zero_division` parameter to control this behavior.\n",
      "  _warn_prf(average, modifier, f\"{metric.capitalize()} is\", len(result))\n"
     ]
    },
    {
     "name": "stdout",
     "output_type": "stream",
     "text": [
      "{'accuracy': 0.727107337780473, 'recall': 0.006622516556291391, 'precision': 1.0, 'f1': 0.013157894736842105, 'tp': 1.0, 'tn': 0.006622516556291391}\n",
      "{'accuracy': 0.7616737416616131, 'recall': 0.15894039735099338, 'precision': 0.8571428571428571, 'f1': 0.2681564245810056, 'tp': 0.9899665551839465, 'tn': 0.15894039735099338}\n",
      "{'accuracy': 0.7859308671922377, 'recall': 0.31346578366445915, 'precision': 0.7717391304347826, 'f1': 0.44583987441130296, 'tp': 0.9648829431438127, 'tn': 0.31346578366445915}\n",
      "{'accuracy': 0.7950272892662219, 'recall': 0.4194260485651214, 'precision': 0.7169811320754716, 'f1': 0.5292479108635098, 'tp': 0.9372909698996655, 'tn': 0.4194260485651214}\n",
      "{'accuracy': 0.7962401455427531, 'recall': 0.4746136865342163, 'precision': 0.6869009584664537, 'f1': 0.5613577023498695, 'tp': 0.9180602006688964, 'tn': 0.4746136865342163}\n",
      "{'accuracy': 0.7992722862340813, 'recall': 0.5099337748344371, 'precision': 0.6794117647058824, 'f1': 0.5825977301387137, 'tp': 0.9088628762541806, 'tn': 0.5099337748344371}\n",
      "{'accuracy': 0.7998787143723469, 'recall': 0.4370860927152318, 'precision': 0.7252747252747253, 'f1': 0.5454545454545454, 'tp': 0.9372909698996655, 'tn': 0.4370860927152318}\n",
      "{'accuracy': 0.8010915706488781, 'recall': 0.434878587196468, 'precision': 0.7323420074349443, 'f1': 0.5457063711911357, 'tp': 0.939799331103679, 'tn': 0.434878587196468}\n",
      "{'accuracy': 0.8053365676167374, 'recall': 0.4988962472406181, 'precision': 0.70625, 'f1': 0.5847347994825356, 'tp': 0.9214046822742475, 'tn': 0.4988962472406181}\n",
      "{'accuracy': 0.8095815645845967, 'recall': 0.5011037527593819, 'precision': 0.7206349206349206, 'f1': 0.5911458333333334, 'tp': 0.9264214046822743, 'tn': 0.5011037527593819}\n",
      "{'accuracy': 0.8089751364463311, 'recall': 0.543046357615894, 'precision': 0.6949152542372882, 'f1': 0.6096654275092936, 'tp': 0.9096989966555183, 'tn': 0.543046357615894}\n",
      "{'accuracy': 0.8089751364463311, 'recall': 0.5386313465783664, 'precision': 0.6971428571428572, 'f1': 0.6077210460772104, 'tp': 0.9113712374581939, 'tn': 0.5386313465783664}\n",
      "{'accuracy': 0.813826561552456, 'recall': 0.5011037527593819, 'precision': 0.737012987012987, 'f1': 0.5965834428383706, 'tp': 0.9322742474916388, 'tn': 0.5011037527593819}\n",
      "{'accuracy': 0.8101879927228623, 'recall': 0.6136865342163356, 'precision': 0.6682692307692307, 'f1': 0.6398158803222095, 'tp': 0.8846153846153846, 'tn': 0.6136865342163356}\n",
      "{'accuracy': 0.8150394178289873, 'recall': 0.5916114790286976, 'precision': 0.6907216494845361, 'f1': 0.6373365041617123, 'tp': 0.8996655518394648, 'tn': 0.5916114790286976}\n",
      "{'accuracy': 0.8174651303820497, 'recall': 0.5673289183222958, 'precision': 0.7099447513812155, 'f1': 0.6306748466257669, 'tp': 0.9122073578595318, 'tn': 0.5673289183222958}\n",
      "{'accuracy': 0.8174651303820497, 'recall': 0.5584988962472406, 'precision': 0.7146892655367232, 'f1': 0.6270136307311028, 'tp': 0.9155518394648829, 'tn': 0.5584988962472406}\n",
      "{'accuracy': 0.8186779866585809, 'recall': 0.5717439293598234, 'precision': 0.7115384615384616, 'f1': 0.6340269277845777, 'tp': 0.9122073578595318, 'tn': 0.5717439293598234}\n",
      "{'accuracy': 0.8168587022437841, 'recall': 0.5452538631346578, 'precision': 0.7201166180758017, 'f1': 0.6206030150753769, 'tp': 0.919732441471572, 'tn': 0.5452538631346578}\n",
      "{'accuracy': 0.8180715585203153, 'recall': 0.5320088300220751, 'precision': 0.7325227963525835, 'f1': 0.6163682864450127, 'tp': 0.9264214046822743, 'tn': 0.5320088300220751}\n",
      "{'accuracy': 0.8235294117647058, 'recall': 0.58719646799117, 'precision': 0.7189189189189189, 'f1': 0.6464155528554071, 'tp': 0.9130434782608695, 'tn': 0.58719646799117}\n",
      "{'accuracy': 0.8204972710733778, 'recall': 0.5673289183222958, 'precision': 0.7198879551820728, 'f1': 0.6345679012345679, 'tp': 0.9163879598662207, 'tn': 0.5673289183222958}\n",
      "{'accuracy': 0.821710127349909, 'recall': 0.5761589403973509, 'precision': 0.71900826446281, 'f1': 0.6397058823529411, 'tp': 0.9147157190635451, 'tn': 0.5761589403973509}\n",
      "{'accuracy': 0.821710127349909, 'recall': 0.5916114790286976, 'precision': 0.7108753315649867, 'f1': 0.6457831325301204, 'tp': 0.9088628762541806, 'tn': 0.5916114790286976}\n",
      "{'accuracy': 0.8211036992116434, 'recall': 0.5894039735099338, 'precision': 0.7101063829787234, 'f1': 0.6441495778045838, 'tp': 0.9088628762541806, 'tn': 0.5894039735099338}\n",
      "{'accuracy': 0.8211036992116434, 'recall': 0.5960264900662252, 'precision': 0.7068062827225131, 'f1': 0.6467065868263473, 'tp': 0.9063545150501672, 'tn': 0.5960264900662252}\n",
      "{'accuracy': 0.821710127349909, 'recall': 0.6136865342163356, 'precision': 0.7002518891687658, 'f1': 0.6541176470588236, 'tp': 0.9005016722408027, 'tn': 0.6136865342163356}\n",
      "{'accuracy': 0.821710127349909, 'recall': 0.5938189845474614, 'precision': 0.7097625329815304, 'f1': 0.6466346153846154, 'tp': 0.9080267558528428, 'tn': 0.5938189845474614}\n",
      "{'accuracy': 0.8229229836264402, 'recall': 0.5938189845474614, 'precision': 0.713527851458886, 'f1': 0.6481927710843374, 'tp': 0.9096989966555183, 'tn': 0.5938189845474614}\n",
      "{'accuracy': 0.8211036992116434, 'recall': 0.5960264900662252, 'precision': 0.7068062827225131, 'f1': 0.6467065868263473, 'tp': 0.9063545150501672, 'tn': 0.5960264900662252}\n",
      "{'accuracy': 0.821710127349909, 'recall': 0.5960264900662252, 'precision': 0.7086614173228346, 'f1': 0.6474820143884892, 'tp': 0.907190635451505, 'tn': 0.5960264900662252}\n"
     ]
    }
   ],
   "source": [
    "from transformers import EarlyStoppingCallback\n",
    "\n",
    "training_args = TrainingArguments(\n",
    "    output_dir=model_name,\n",
    "    learning_rate=2e-5,\n",
    "    per_device_train_batch_size=16, # 16\n",
    "    per_device_eval_batch_size=16,  # 16\n",
    "    num_train_epochs=2,\n",
    "    weight_decay=0.01,\n",
    "    evaluation_strategy=\"steps\",\n",
    "    eval_steps=50,\n",
    "    save_total_limit=5,\n",
    "    load_best_model_at_end=True,\n",
    "    push_to_hub=False,\n",
    "    use_cpu = False\n",
    ")\n",
    "\n",
    "trainer = Trainer(\n",
    "    model=model,\n",
    "    args=training_args,\n",
    "    train_dataset=tokenized_data_split[\"train\"],\n",
    "    eval_dataset=tokenized_data_split[\"test\"],\n",
    "    tokenizer=tokenizer,\n",
    "    data_collator=data_collator,\n",
    "    compute_metrics=compute_metrics,\n",
    "    callbacks = [EarlyStoppingCallback(early_stopping_patience=5)]\n",
    ")\n",
    "\n",
    "trainer.train()\n",
    "trainer.save_model(model_name)"
   ]
  },
  {
   "cell_type": "code",
   "execution_count": 63,
   "id": "8cd826e366d3392b",
   "metadata": {
    "collapsed": false,
    "ExecuteTime": {
     "end_time": "2024-05-17T12:10:07.632203300Z",
     "start_time": "2024-05-17T12:10:01.289889300Z"
    }
   },
   "outputs": [
    {
     "data": {
      "text/plain": "<IPython.core.display.HTML object>",
      "text/html": "\n    <div>\n      \n      <progress value='1' max='104' style='width:300px; height:20px; vertical-align: middle;'></progress>\n      [  1/104 : < :]\n    </div>\n    "
     },
     "metadata": {},
     "output_type": "display_data"
    },
    {
     "name": "stdout",
     "output_type": "stream",
     "text": [
      "{'accuracy': 0.821710127349909, 'recall': 0.5938189845474614, 'precision': 0.7097625329815304, 'f1': 0.6466346153846154, 'tp': 0.9080267558528428, 'tn': 0.5938189845474614}\n"
     ]
    },
    {
     "data": {
      "text/plain": "{'eval_loss': 0.3913533389568329,\n 'eval_accuracy': 0.821710127349909,\n 'eval_recall': 0.5938189845474614,\n 'eval_precision': 0.7097625329815304,\n 'eval_f1': 0.6466346153846154,\n 'eval_tp': 0.9080267558528428,\n 'eval_tn': 0.5938189845474614,\n 'eval_runtime': 6.3333,\n 'eval_samples_per_second': 260.369,\n 'eval_steps_per_second': 16.421,\n 'epoch': 2.0}"
     },
     "execution_count": 63,
     "metadata": {},
     "output_type": "execute_result"
    }
   ],
   "source": [
    "trainer.evaluate()"
   ]
  },
  {
   "cell_type": "markdown",
   "id": "5c4784af9a51b005",
   "metadata": {
    "collapsed": false
   },
   "source": [
    "# Evaluate model"
   ]
  },
  {
   "cell_type": "code",
   "execution_count": 64,
   "id": "9189d00002d778f9",
   "metadata": {
    "collapsed": false,
    "ExecuteTime": {
     "end_time": "2024-05-17T12:10:07.723153200Z",
     "start_time": "2024-05-17T12:10:07.634204100Z"
    }
   },
   "outputs": [],
   "source": [
    "from transformers import AutoTokenizer, AutoModelForSequenceClassification\n",
    "tokenizer = AutoTokenizer.from_pretrained(model_name, return_tensor=\"pt\")\n",
    "model = AutoModelForSequenceClassification.from_pretrained(model_name)\n",
    "device = \"cuda:0\" if torch.cuda.is_available() else \"cpu\"\n",
    "model = model.to(device)"
   ]
  },
  {
   "cell_type": "code",
   "execution_count": 65,
   "id": "78ede310c0ba2c77",
   "metadata": {
    "collapsed": false,
    "ExecuteTime": {
     "end_time": "2024-05-17T12:10:07.771665800Z",
     "start_time": "2024-05-17T12:10:07.713155900Z"
    }
   },
   "outputs": [],
   "source": [
    "sentences = tokenized_data_split[\"valid\"][\"preprocessed_text\"]\n",
    "true_labels = tokenized_data_split[\"valid\"][\"label\"] "
   ]
  },
  {
   "cell_type": "code",
   "execution_count": 66,
   "id": "cf076f2d3e9071e0",
   "metadata": {
    "collapsed": false,
    "ExecuteTime": {
     "end_time": "2024-05-17T12:10:10.820212200Z",
     "start_time": "2024-05-17T12:10:07.760160900Z"
    }
   },
   "outputs": [],
   "source": [
    "pred_labels = []\n",
    "\n",
    "for sentence in sentences:\n",
    "    inputs = tokenizer(sentence, return_tensors=\"pt\").input_ids.to(device) \n",
    "    with torch.no_grad():\n",
    "        logits = model(inputs).logits\n",
    "    predicted_class_id = logits.argmax().item()\n",
    "    pred_labels.append(predicted_class_id)"
   ]
  },
  {
   "cell_type": "code",
   "execution_count": 67,
   "id": "2ec04b8a0331f1ed",
   "metadata": {
    "collapsed": false,
    "ExecuteTime": {
     "end_time": "2024-05-17T12:10:10.931961200Z",
     "start_time": "2024-05-17T12:10:10.821673100Z"
    }
   },
   "outputs": [
    {
     "data": {
      "text/plain": "<Figure size 640x480 with 2 Axes>",
      "image/png": "[encoded data removed]"
     },
     "metadata": {},
     "output_type": "display_data"
    }
   ],
   "source": [
    "import matplotlib.pyplot as plt\n",
    "\n",
    "cm = confusion_matrix(true_labels, pred_labels, normalize='true')\n",
    "tn, fp, fn, tp = cm.ravel()\n",
    "ConfusionMatrixDisplay.from_predictions(true_labels, pred_labels, normalize=\"true\", cmap=plt.cm.Blues)\n",
    "plt.grid(False)\n",
    "plt.show()"
   ]
  },
  {
   "cell_type": "code",
   "execution_count": 68,
   "outputs": [
    {
     "data": {
      "text/plain": "1648"
     },
     "execution_count": 68,
     "metadata": {},
     "output_type": "execute_result"
    }
   ],
   "source": [
    "len(true_labels)"
   ],
   "metadata": {
    "collapsed": false,
    "ExecuteTime": {
     "end_time": "2024-05-17T12:10:10.996841200Z",
     "start_time": "2024-05-17T12:10:10.934515200Z"
    }
   },
   "id": "6a38c1a7d1d78b55"
  },
  {
   "cell_type": "code",
   "execution_count": 69,
   "id": "fbfea9d986d8e4e1",
   "metadata": {
    "collapsed": false,
    "ExecuteTime": {
     "end_time": "2024-05-17T12:10:11.020853400Z",
     "start_time": "2024-05-17T12:10:10.947997Z"
    }
   },
   "outputs": [
    {
     "data": {
      "text/plain": "0.8185679611650486"
     },
     "execution_count": 69,
     "metadata": {},
     "output_type": "execute_result"
    }
   ],
   "source": [
    "accuracy_score(true_labels, pred_labels)"
   ]
  },
  {
   "cell_type": "code",
   "execution_count": 70,
   "id": "bd9a350d3c05122e",
   "metadata": {
    "collapsed": false,
    "ExecuteTime": {
     "end_time": "2024-05-17T12:10:11.032474400Z",
     "start_time": "2024-05-17T12:10:10.965026900Z"
    }
   },
   "outputs": [
    {
     "name": "stdout",
     "output_type": "stream",
     "text": [
      "accuracy:  0.8185679611650486\n",
      "precision:  0.8639906513427349\n",
      "recall:  0.5698198198198198\n",
      "f1:  0.6867281376107491\n"
     ]
    }
   ],
   "source": [
    "precision = tp / (tp + fp)\n",
    "recall = tp / (tp + fn)\n",
    "f1 = (2 * precision * recall)/ (precision+recall)\n",
    "print(\"accuracy: \", accuracy_score(true_labels, pred_labels))\n",
    "print(\"precision: \", precision) \n",
    "print(\"recall: \", recall)\n",
    "print(\"f1: \", f1)"
   ]
  },
  {
   "cell_type": "markdown",
   "source": [
    "# Test on real data"
   ],
   "metadata": {
    "collapsed": false
   },
   "id": "c7478a3e0009f72a"
  },
  {
   "cell_type": "code",
   "execution_count": 71,
   "outputs": [],
   "source": [
    "df = pd.read_csv(\"../../preprocessing/data/processed_merge.csv\", encoding='utf8', index_col=False).drop(['Unnamed: 0'], axis=1).dropna()"
   ],
   "metadata": {
    "collapsed": false,
    "ExecuteTime": {
     "end_time": "2024-05-17T12:10:11.142319400Z",
     "start_time": "2024-05-17T12:10:10.978647700Z"
    }
   },
   "id": "b79f65fc14abedd1"
  },
  {
   "cell_type": "code",
   "execution_count": 72,
   "outputs": [],
   "source": [
    "import re\n",
    "df[\"preprocessed_text\"]=[re.sub(r'[^\\w\\s]','',x) for x in df[\"preprocessed_text\"]]\n",
    "df[\"lens\"] = [len(re.findall(\"[a-zA-Z_]+\", x)) for x in df[\"preprocessed_text\"]]"
   ],
   "metadata": {
    "collapsed": false,
    "ExecuteTime": {
     "end_time": "2024-05-17T12:10:11.290631800Z",
     "start_time": "2024-05-17T12:10:11.227117400Z"
    }
   },
   "id": "2a1f2295b86de57f"
  },
  {
   "cell_type": "code",
   "execution_count": 73,
   "outputs": [
    {
     "data": {
      "text/plain": "       Unnamed: 0.1         scenario         source_file  \\\n0                 0           Stroke  fridriksson08b.cha   \n1                 1       Cinderella          1030-1.cha   \n2                 2  Important_Event    capilouto59a.cha   \n3                 3         Umbrella   richardson205.cha   \n4                 4       Cinderella           UMD19.cha   \n...             ...              ...                 ...   \n56314         56314              Cat    whiteside16a.cha   \n56315         56315           Stroke      wright206a.cha   \n56316         56316           Stroke            50-2.cha   \n56317         56317       Cinderella       wright11a.cha   \n56318         56318         Sandwich   richardson196.cha   \n\n                                           original_text  \\\n0      well ‡ &=points:head yeah &=head:yes . \u001572423_...   \n1                 and then she said +\"/. \u0015148717_150937\u0015   \n2      sailors meaning we went on vacations where we ...   \n3      but he insisted that it wasn't going to rain ....   \n4      and &-um the prince is dancing with all the yo...   \n...                                                  ...   \n56314    +\" &=points:dog ruff@o ruff@o ! \u0015337839_338849\u0015   \n56315  thank_you &-uh all over again &=laughs . [+ gr...   \n56316                              yes . \u0015192554_193114\u0015   \n56317  +\" well ‡ here's a coach for you to take you t...   \n56318  &-um and then you set that off to the side . \u0015...   \n\n                                       preprocessed_text  label  lens  \n0                                              well yeah      1     2  \n1                                      and then she said      1     4  \n2      sailors meaning we went on vacations where we ...      0    11  \n3            but he insisted that it wasnt going to rain      0     9  \n4      and the prince is dancing with all the young l...      0    15  \n...                                                  ...    ...   ...  \n56314                                          ruff ruff      1     2  \n56315                           thank you all over again      1     5  \n56316                                                yes      1     1  \n56317  well heres a coach for you to take you to the ...      0    12  \n56318              and then you set that off to the side      0     9  \n\n[56319 rows x 7 columns]",
      "text/html": "<div>\n<style scoped>\n    .dataframe tbody tr th:only-of-type {\n        vertical-align: middle;\n    }\n\n    .dataframe tbody tr th {\n        vertical-align: top;\n    }\n\n    .dataframe thead th {\n        text-align: right;\n    }\n</style>\n<table border=\"1\" class=\"dataframe\">\n  <thead>\n    <tr style=\"text-align: right;\">\n      <th></th>\n      <th>Unnamed: 0.1</th>\n      <th>scenario</th>\n      <th>source_file</th>\n      <th>original_text</th>\n      <th>preprocessed_text</th>\n      <th>label</th>\n      <th>lens</th>\n    </tr>\n  </thead>\n  <tbody>\n    <tr>\n      <th>0</th>\n      <td>0</td>\n      <td>Stroke</td>\n      <td>fridriksson08b.cha</td>\n      <td>well ‡ &amp;=points:head yeah &amp;=head:yes . \u001572423_...</td>\n      <td>well yeah</td>\n      <td>1</td>\n      <td>2</td>\n    </tr>\n    <tr>\n      <th>1</th>\n      <td>1</td>\n      <td>Cinderella</td>\n      <td>1030-1.cha</td>\n      <td>and then she said +\"/. \u0015148717_150937\u0015</td>\n      <td>and then she said</td>\n      <td>1</td>\n      <td>4</td>\n    </tr>\n    <tr>\n      <th>2</th>\n      <td>2</td>\n      <td>Important_Event</td>\n      <td>capilouto59a.cha</td>\n      <td>sailors meaning we went on vacations where we ...</td>\n      <td>sailors meaning we went on vacations where we ...</td>\n      <td>0</td>\n      <td>11</td>\n    </tr>\n    <tr>\n      <th>3</th>\n      <td>3</td>\n      <td>Umbrella</td>\n      <td>richardson205.cha</td>\n      <td>but he insisted that it wasn't going to rain ....</td>\n      <td>but he insisted that it wasnt going to rain</td>\n      <td>0</td>\n      <td>9</td>\n    </tr>\n    <tr>\n      <th>4</th>\n      <td>4</td>\n      <td>Cinderella</td>\n      <td>UMD19.cha</td>\n      <td>and &amp;-um the prince is dancing with all the yo...</td>\n      <td>and the prince is dancing with all the young l...</td>\n      <td>0</td>\n      <td>15</td>\n    </tr>\n    <tr>\n      <th>...</th>\n      <td>...</td>\n      <td>...</td>\n      <td>...</td>\n      <td>...</td>\n      <td>...</td>\n      <td>...</td>\n      <td>...</td>\n    </tr>\n    <tr>\n      <th>56314</th>\n      <td>56314</td>\n      <td>Cat</td>\n      <td>whiteside16a.cha</td>\n      <td>+\" &amp;=points:dog ruff@o ruff@o ! \u0015337839_338849\u0015</td>\n      <td>ruff ruff</td>\n      <td>1</td>\n      <td>2</td>\n    </tr>\n    <tr>\n      <th>56315</th>\n      <td>56315</td>\n      <td>Stroke</td>\n      <td>wright206a.cha</td>\n      <td>thank_you &amp;-uh all over again &amp;=laughs . [+ gr...</td>\n      <td>thank you all over again</td>\n      <td>1</td>\n      <td>5</td>\n    </tr>\n    <tr>\n      <th>56316</th>\n      <td>56316</td>\n      <td>Stroke</td>\n      <td>50-2.cha</td>\n      <td>yes . \u0015192554_193114\u0015</td>\n      <td>yes</td>\n      <td>1</td>\n      <td>1</td>\n    </tr>\n    <tr>\n      <th>56317</th>\n      <td>56317</td>\n      <td>Cinderella</td>\n      <td>wright11a.cha</td>\n      <td>+\" well ‡ here's a coach for you to take you t...</td>\n      <td>well heres a coach for you to take you to the ...</td>\n      <td>0</td>\n      <td>12</td>\n    </tr>\n    <tr>\n      <th>56318</th>\n      <td>56318</td>\n      <td>Sandwich</td>\n      <td>richardson196.cha</td>\n      <td>&amp;-um and then you set that off to the side . \u0015...</td>\n      <td>and then you set that off to the side</td>\n      <td>0</td>\n      <td>9</td>\n    </tr>\n  </tbody>\n</table>\n<p>56319 rows × 7 columns</p>\n</div>"
     },
     "execution_count": 73,
     "metadata": {},
     "output_type": "execute_result"
    }
   ],
   "source": [
    "df"
   ],
   "metadata": {
    "collapsed": false,
    "ExecuteTime": {
     "end_time": "2024-05-17T12:10:11.309520900Z",
     "start_time": "2024-05-17T12:10:11.293060Z"
    }
   },
   "id": "29ac816dd57a9873"
  },
  {
   "cell_type": "code",
   "execution_count": 74,
   "outputs": [],
   "source": [
    "df.to_csv(\"../../preprocessing/data/processed_merge_new.csv\")"
   ],
   "metadata": {
    "collapsed": false,
    "ExecuteTime": {
     "end_time": "2024-05-17T12:10:11.540614900Z",
     "start_time": "2024-05-17T12:10:11.309520900Z"
    }
   },
   "id": "8ae9295df8e1c86f"
  },
  {
   "cell_type": "code",
   "execution_count": 75,
   "outputs": [],
   "source": [
    "df = pd.concat([df[df[\"label\"]==1].sample(n=1000),df[df[\"label\"]==0].sample(n=1000)]).sample(frac=1)"
   ],
   "metadata": {
    "collapsed": false,
    "ExecuteTime": {
     "end_time": "2024-05-17T12:10:11.556178700Z",
     "start_time": "2024-05-17T12:10:11.543626100Z"
    }
   },
   "id": "52790babd805ca3"
  },
  {
   "cell_type": "code",
   "execution_count": 76,
   "outputs": [],
   "source": [
    "import re\n",
    "sentences = [re.sub(r'[^\\w\\s]','',x) for x in df[\"preprocessed_text\"]]\n",
    "labels = df[\"label\"]"
   ],
   "metadata": {
    "collapsed": false,
    "ExecuteTime": {
     "end_time": "2024-05-17T12:10:11.594107700Z",
     "start_time": "2024-05-17T12:10:11.561630500Z"
    }
   },
   "id": "c82c6e5b1288df69"
  },
  {
   "cell_type": "code",
   "execution_count": 77,
   "outputs": [],
   "source": [
    "pred_labels_bert = []\n",
    "true_labels = []\n",
    "\n",
    "for sentence, label in zip(sentences, labels):\n",
    "    if sentence is not None and isinstance(sentence, str):\n",
    "        inputs = tokenizer(sentence, return_tensors=\"pt\", truncation=True, max_length=512).input_ids.to(device) \n",
    "        true_labels.append(label)\n",
    "        with torch.no_grad():\n",
    "            logits = model(inputs).logits\n",
    "        predicted_class_id = logits.argmax().item()\n",
    "        pred_labels_bert.append(predicted_class_id)"
   ],
   "metadata": {
    "collapsed": false,
    "ExecuteTime": {
     "end_time": "2024-05-17T12:10:15.582150700Z",
     "start_time": "2024-05-17T12:10:11.576729800Z"
    }
   },
   "id": "851ec9d542470397"
  },
  {
   "cell_type": "code",
   "execution_count": 78,
   "outputs": [],
   "source": [
    "df[\"predicted\"] = pred_labels_bert\n",
    "df.to_csv(\"../../linguistic_model/data/answers.csv\")"
   ],
   "metadata": {
    "collapsed": false,
    "ExecuteTime": {
     "end_time": "2024-05-17T12:10:15.630535400Z",
     "start_time": "2024-05-17T12:10:15.585130700Z"
    }
   },
   "id": "f7a865e7ce59b4ca"
  },
  {
   "cell_type": "code",
   "execution_count": 79,
   "outputs": [
    {
     "data": {
      "text/plain": "<Figure size 640x480 with 2 Axes>",
      "image/png": "[encoded data removed]"
     },
     "metadata": {},
     "output_type": "display_data"
    }
   ],
   "source": [
    "from sklearn.metrics import confusion_matrix\n",
    "from sklearn.metrics import ConfusionMatrixDisplay\n",
    "import matplotlib.pyplot as plt\n",
    "\n",
    "cm = confusion_matrix(true_labels, pred_labels_bert, normalize='true')\n",
    "tp, fp, fn, tn = cm.ravel()\n",
    "ConfusionMatrixDisplay.from_predictions(true_labels, pred_labels_bert, normalize=\"true\", cmap=plt.cm.Blues)\n",
    "plt.grid(False)\n",
    "plt.show()"
   ],
   "metadata": {
    "collapsed": false,
    "ExecuteTime": {
     "end_time": "2024-05-17T12:10:15.743810400Z",
     "start_time": "2024-05-17T12:10:15.616412700Z"
    }
   },
   "id": "895e4437bcc70eae"
  },
  {
   "cell_type": "code",
   "execution_count": 80,
   "outputs": [
    {
     "name": "stdout",
     "output_type": "stream",
     "text": [
      "accuracy:  0.753\n",
      "precision:  0.888\n",
      "recall:  0.6992125984251969\n",
      "f1:  0.7823788546255506\n"
     ]
    }
   ],
   "source": [
    "metric = evaluate.load(\"accuracy\")\n",
    "\n",
    "precision = tp / (tp + fp)\n",
    "recall = tp / (tp + fn)\n",
    "f1 = (2 * precision * recall)/ (precision+recall)\n",
    "print(\"accuracy: \", accuracy_score(true_labels, pred_labels_bert))\n",
    "print(\"precision: \", precision) \n",
    "print(\"recall: \", recall)\n",
    "print(\"f1: \", f1)"
   ],
   "metadata": {
    "collapsed": false,
    "ExecuteTime": {
     "end_time": "2024-05-17T12:10:18.130382500Z",
     "start_time": "2024-05-17T12:10:15.743294700Z"
    }
   },
   "id": "496bd860dce7ae64"
  },
  {
   "cell_type": "markdown",
   "id": "b372717bd48a479d",
   "metadata": {
    "ExecuteTime": {
     "end_time": "2024-02-27T13:33:30.731676300Z",
     "start_time": "2024-02-27T13:33:30.711678200Z"
    },
    "collapsed": false
   },
   "source": [
    "# Feature visualization"
   ]
  },
  {
   "cell_type": "code",
   "execution_count": 81,
   "id": "42df4e6fa6a3ab63",
   "metadata": {
    "collapsed": false,
    "ExecuteTime": {
     "end_time": "2024-05-17T12:10:18.175393400Z",
     "start_time": "2024-05-17T12:10:18.132384900Z"
    }
   },
   "outputs": [],
   "source": [
    "# from transformers import AutoTokenizer, AutoModelForSequenceClassification, AutoModel\n",
    "# import torch\n",
    "# \n",
    "# tokenizer = AutoTokenizer.from_pretrained(model_name, return_tensor=\"pt\")\n",
    "# model = AutoModel.from_pretrained(model_name)\n",
    "# device = \"cuda:0\" if torch.cuda.is_available() else \"cpu\"\n",
    "# model = model.to(device)"
   ]
  },
  {
   "cell_type": "code",
   "execution_count": 82,
   "id": "b40b88034bf9bdb5",
   "metadata": {
    "collapsed": false,
    "ExecuteTime": {
     "end_time": "2024-05-17T12:10:18.179903400Z",
     "start_time": "2024-05-17T12:10:18.147383300Z"
    }
   },
   "outputs": [],
   "source": [
    "# def extract_hidden_states(batch):\n",
    "#     sentences = [x for x in batch[\"modified\"]]\n",
    "#     with torch.no_grad():\n",
    "#         inputs = tokenizer(sentences, return_tensors=\"pt\", padding=True, truncation=True).input_ids.to(device)\n",
    "#         last_hidden_state = model(inputs).last_hidden_state\n",
    "# \n",
    "#     return {\"hidden state\": last_hidden_state[:, 0].cpu().numpy()}"
   ]
  },
  {
   "cell_type": "code",
   "execution_count": 83,
   "id": "f1dd5b774ddf8466",
   "metadata": {
    "collapsed": false,
    "ExecuteTime": {
     "end_time": "2024-05-17T12:10:18.183902600Z",
     "start_time": "2024-05-17T12:10:18.165389900Z"
    }
   },
   "outputs": [],
   "source": [
    "# import gc\n",
    "# torch.cuda.empty_cache()\n",
    "# gc.collect()"
   ]
  },
  {
   "cell_type": "code",
   "execution_count": 84,
   "id": "d2f4394defd64749",
   "metadata": {
    "collapsed": false,
    "ExecuteTime": {
     "end_time": "2024-05-17T12:10:18.199022700Z",
     "start_time": "2024-05-17T12:10:18.183902600Z"
    }
   },
   "outputs": [],
   "source": [
    "# hidden = tokenized_data_split.map(\n",
    "#     extract_hidden_states, batched=True)"
   ]
  },
  {
   "cell_type": "code",
   "execution_count": 85,
   "id": "a152ad631bfaa816",
   "metadata": {
    "collapsed": false,
    "ExecuteTime": {
     "end_time": "2024-05-17T12:10:18.227021500Z",
     "start_time": "2024-05-17T12:10:18.196016300Z"
    }
   },
   "outputs": [],
   "source": [
    "# hidden.save_to_disk('../models/bert_dataset_c4_reverse')"
   ]
  },
  {
   "cell_type": "code",
   "execution_count": 86,
   "id": "b097eaa230a4491d",
   "metadata": {
    "collapsed": false,
    "ExecuteTime": {
     "end_time": "2024-05-17T12:10:18.248195100Z",
     "start_time": "2024-05-17T12:10:18.212024100Z"
    }
   },
   "outputs": [
    {
     "ename": "NameError",
     "evalue": "name 'hidden' is not defined",
     "output_type": "error",
     "traceback": [
      "\u001B[1;31m---------------------------------------------------------------------------\u001B[0m",
      "\u001B[1;31mNameError\u001B[0m                                 Traceback (most recent call last)",
      "\u001B[1;32m~\\AppData\\Local\\Temp\\ipykernel_32628\\4033114737.py\u001B[0m in \u001B[0;36m<cell line: 1>\u001B[1;34m()\u001B[0m\n\u001B[1;32m----> 1\u001B[1;33m \u001B[0mhidden\u001B[0m\u001B[1;33m[\u001B[0m\u001B[1;34m\"test\"\u001B[0m\u001B[1;33m]\u001B[0m\u001B[1;33m.\u001B[0m\u001B[0mcolumn_names\u001B[0m\u001B[1;33m\u001B[0m\u001B[1;33m\u001B[0m\u001B[0m\n\u001B[0m",
      "\u001B[1;31mNameError\u001B[0m: name 'hidden' is not defined"
     ]
    }
   ],
   "source": [
    "hidden[\"test\"].column_names"
   ]
  },
  {
   "cell_type": "code",
   "execution_count": null,
   "id": "ee314912a3c95858",
   "metadata": {
    "collapsed": false,
    "ExecuteTime": {
     "start_time": "2024-05-17T12:10:18.243195400Z"
    }
   },
   "outputs": [],
   "source": [
    "print(np.array(hidden[\"train\"][\"hidden state\"]).shape)"
   ]
  },
  {
   "cell_type": "code",
   "execution_count": null,
   "id": "8f05890fe30c5763",
   "metadata": {
    "collapsed": false,
    "ExecuteTime": {
     "start_time": "2024-05-17T12:10:18.245196400Z"
    }
   },
   "outputs": [],
   "source": [
    "from sklearn.decomposition import PCA\n",
    "from sklearn.preprocessing import MinMaxScaler\n",
    "\n",
    "X_train = np.array(hidden[\"train\"][\"hidden state\"])\n",
    "y_train = np.array(hidden[\"train\"][\"label\"])\n",
    "\n",
    "X_test = np.array(hidden[\"test\"][\"hidden state\"])\n",
    "y_test = np.array(hidden[\"test\"][\"label\"])"
   ]
  },
  {
   "cell_type": "code",
   "execution_count": null,
   "id": "c07f8f9bfadf1f07",
   "metadata": {
    "collapsed": false,
    "ExecuteTime": {
     "start_time": "2024-05-17T12:10:18.246195100Z"
    }
   },
   "outputs": [],
   "source": [
    "# reduce to 2d for visualization\n",
    "pca = PCA(n_components=2)\n",
    "\n",
    "x_scaled = MinMaxScaler().fit_transform(X_train)\n",
    "x_2d = pca.fit_transform(x_scaled)\n",
    "x_2d.shape\n",
    "\n",
    "x_scaled1 = MinMaxScaler().fit_transform(X_test)\n",
    "x_2d1 = pca.fit_transform(x_scaled1)\n",
    "x_2d1.shape"
   ]
  },
  {
   "cell_type": "code",
   "execution_count": null,
   "id": "e78358214e289c61",
   "metadata": {
    "collapsed": false,
    "ExecuteTime": {
     "end_time": "2024-05-17T12:10:18.248195100Z",
     "start_time": "2024-05-17T12:10:18.248195100Z"
    }
   },
   "outputs": [],
   "source": [
    "# reduce to 3d for visualization\n",
    "pca = PCA(n_components=3)\n",
    "\n",
    "x_scaled = MinMaxScaler().fit_transform(X_train)\n",
    "x_3d = pca.fit_transform(x_scaled)\n",
    "x_3d.shape\n",
    "\n",
    "x_scaled1 = MinMaxScaler().fit_transform(X_test)\n",
    "x_3d1 = pca.fit_transform(x_scaled1)\n",
    "x_3d1.shape"
   ]
  },
  {
   "cell_type": "code",
   "execution_count": null,
   "id": "12fa5db541f9bb2b",
   "metadata": {
    "collapsed": false,
    "ExecuteTime": {
     "start_time": "2024-05-17T12:10:18.250195900Z"
    }
   },
   "outputs": [],
   "source": [
    "# 2d viz\n",
    "fig, ax = plt.subplots(2, 2, figsize=(7, 5))\n",
    "ax = ax.flatten()\n",
    "cmaps = [\"blue\", \"orange\"]\n",
    "labels = set([x.item() for x in tokenized_data_split[\"train\"][\"label\"]])\n",
    "\n",
    "for i, (label, cmap) in enumerate(zip(labels, cmaps)):\n",
    "    x_2d_sub = x_2d[y_train == i]\n",
    "    ax[i].scatter(x_2d_sub[:, 0], x_2d_sub[:, 1], color=cmap)\n",
    "    ax[i].set_title(id2label[label] +\" TRAIN\")\n",
    "    \n",
    "for i, (label, cmap) in enumerate(zip(labels, cmaps)):\n",
    "    x_2d_sub1 = x_2d1[y_test == i]\n",
    "    ax[i+2].scatter(x_2d_sub1[:, 0], x_2d_sub1[:, 1], color=cmap)\n",
    "    ax[i+2].set_title(id2label[label] +\" TEST\" )\n",
    "\n",
    "plt.tight_layout()\n",
    "plt.show()"
   ]
  },
  {
   "cell_type": "markdown",
   "id": "98ee6b60b009c571",
   "metadata": {
    "collapsed": false
   },
   "source": [
    "### Shows us that there might be an overlap in control text and broca text which indistinguishable to the model (so model goes with control as sort of default strategy)"
   ]
  },
  {
   "cell_type": "code",
   "execution_count": null,
   "id": "f129d6059f201e9b",
   "metadata": {
    "collapsed": false,
    "ExecuteTime": {
     "start_time": "2024-05-17T12:10:18.251193800Z"
    }
   },
   "outputs": [],
   "source": [
    "# 3d vis\n",
    "\n",
    "fig, ax = plt.subplots(2, 2, subplot_kw={\"projection\": \"3d\"}, figsize=(8, 6))\n",
    "ax = ax.flatten()\n",
    "cmaps = [\"blue\", \"orange\"]\n",
    "labels = set([x.item() for x in tokenized_data_split[\"train\"][\"label\"]])\n",
    "\n",
    "for i, (label, cmap) in enumerate(zip(labels, cmaps)):\n",
    "    x_3d_sub = x_3d[y_train == i]\n",
    "    ax[i].scatter(x_3d_sub[:, 0], x_3d_sub[:, 1], color=cmap)\n",
    "    ax[i].set_title(id2label[label]+\" TRAIN\")\n",
    "    \n",
    "for i, (label, cmap) in enumerate(zip(labels, cmaps)):\n",
    "    x_3d_sub1 = x_3d1[y_test == i]\n",
    "    ax[i+2].scatter(x_3d_sub1[:, 0], x_3d_sub1[:, 1], color=cmap)\n",
    "    ax[i+2].set_title(id2label[label]+\" TEST\" )\n",
    "\n",
    "plt.tight_layout()\n",
    "plt.show()"
   ]
  },
  {
   "cell_type": "markdown",
   "id": "6d2d2dc9e35e72b",
   "metadata": {
    "ExecuteTime": {
     "end_time": "2024-02-27T13:35:11.025219100Z",
     "start_time": "2024-02-27T13:35:10.958474500Z"
    },
    "collapsed": false
   },
   "source": [
    "# Attention viz"
   ]
  },
  {
   "cell_type": "code",
   "execution_count": null,
   "id": "fd15c9abb7a65134",
   "metadata": {
    "collapsed": false,
    "ExecuteTime": {
     "end_time": "2024-05-17T12:10:18.274200400Z",
     "start_time": "2024-05-17T12:10:18.252194700Z"
    }
   },
   "outputs": [],
   "source": [
    "from bertviz import model_view, head_view\n",
    "from transformers import AutoTokenizer, AutoModelForSequenceClassification, AutoModel\n",
    "import torch\n",
    "\n",
    "tokenizer = AutoTokenizer.from_pretrained(model_name, return_tensor=\"pt\")\n",
    "model = AutoModel.from_pretrained(model_name)\n",
    "device = \"cuda:0\" if torch.cuda.is_available() else \"cpu\""
   ]
  },
  {
   "cell_type": "markdown",
   "id": "16593d5c50e2ccdb",
   "metadata": {
    "collapsed": false
   },
   "source": [
    "### For control sentence"
   ]
  },
  {
   "cell_type": "code",
   "execution_count": null,
   "id": "48f7d23ea59f9d2a",
   "metadata": {
    "collapsed": false,
    "ExecuteTime": {
     "start_time": "2024-05-17T12:10:18.253194Z"
    }
   },
   "outputs": [],
   "source": [
    "input = tokenizer.encode(sentences[0], return_tensors=\"pt\")\n",
    "output = model(input, output_attentions=True)\n",
    "\n",
    "attention = output[-1]\n",
    "tokens = tokenizer.convert_ids_to_tokens(input[0]) \n",
    "model_view(attention, tokens)\n",
    "print(sentences[0], true_labels[0])"
   ]
  },
  {
   "cell_type": "markdown",
   "id": "ccb0aef809127cec",
   "metadata": {
    "collapsed": false
   },
   "source": [
    "### For broca sentence"
   ]
  },
  {
   "cell_type": "code",
   "execution_count": null,
   "id": "9205ee88774675f",
   "metadata": {
    "collapsed": false,
    "ExecuteTime": {
     "start_time": "2024-05-17T12:10:18.255194900Z"
    }
   },
   "outputs": [],
   "source": [
    "input = tokenizer.encode(sentences[8], return_tensors=\"pt\")\n",
    "output = model(input, output_attentions=True)\n",
    "\n",
    "attention = output[-1]\n",
    "tokens = tokenizer.convert_ids_to_tokens(input[0]) \n",
    "model_view(attention, tokens)\n",
    "print(sentences[8], true_labels[8])"
   ]
  }
 ],
 "metadata": {
  "kernelspec": {
   "display_name": "Python 3 (ipykernel)",
   "language": "python",
   "name": "python3"
  },
  "language_info": {
   "codemirror_mode": {
    "name": "ipython",
    "version": 3
   },
   "file_extension": ".py",
   "mimetype": "text/x-python",
   "name": "python",
   "nbconvert_exporter": "python",
   "pygments_lexer": "ipython3",
   "version": "3.9.18"
  }
 },
 "nbformat": 4,
 "nbformat_minor": 5
}
