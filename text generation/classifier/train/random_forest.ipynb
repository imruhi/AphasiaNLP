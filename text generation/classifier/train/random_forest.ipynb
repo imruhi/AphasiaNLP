{
 "cells": [
  {
   "cell_type": "code",
   "execution_count": 2,
   "id": "initial_id",
   "metadata": {
    "collapsed": true,
    "ExecuteTime": {
     "end_time": "2024-03-20T10:11:23.538687300Z",
     "start_time": "2024-03-20T10:11:23.395391Z"
    }
   },
   "outputs": [],
   "source": [
    "import re\n",
    "import pandas as pd \n",
    "import seaborn as sns\n",
    "from sklearn.model_selection import train_test_split\n",
    "import numpy as np\n",
    "import pickle\n",
    "from sklearn.neighbors import KNeighborsClassifier"
   ]
  },
  {
   "cell_type": "markdown",
   "source": [
    "# Get data"
   ],
   "metadata": {
    "collapsed": false
   },
   "id": "49ab3d0600afd44b"
  },
  {
   "cell_type": "code",
   "execution_count": 3,
   "outputs": [],
   "source": [
    "dataset_filename = \"../../preprocessing/data/processed_merge.csv\"\n",
    "df = pd.read_csv(dataset_filename, encoding='utf8', index_col=False)"
   ],
   "metadata": {
    "collapsed": false,
    "ExecuteTime": {
     "end_time": "2024-03-20T10:11:25.344817Z",
     "start_time": "2024-03-20T10:11:25.201246Z"
    }
   },
   "id": "4ebd68e620e956d8"
  },
  {
   "cell_type": "code",
   "execution_count": 3,
   "outputs": [
    {
     "data": {
      "text/plain": "   Unnamed: 0.1  Unnamed: 0  scenario        source_file  \\\n0             0       21636  Sandwich  richardson174.cha   \n1             1         785    Stroke       adler25a.cha   \n2             2       14488    Window   capilouto44a.cha   \n3             3        6865  Umbrella           62-1.cha   \n4             4       33578  Umbrella      wright34a.cha   \n\n                                       original_text  \\\n0                     okay . [+ exc] \u0015564200_564650\u0015   \n1  and I &+b brimɛmbə˞@u [: remember] [* p:n] osp...   \n2         where he is beside him . \u00151304770_1306020\u0015   \n3                     it's pouring . \u0015794962_795602\u0015   \n4  &-uh every morning mommy gets Billy ready for ...   \n\n                                  preprocessed_text  label  \n0                                             okay.      0  \n1                 and i remember hospital hospital.      1  \n2                           where he is beside him.      0  \n3                                     it's pouring.      0  \n4  every morning mommy gets billy ready for school.      0  ",
      "text/html": "<div>\n<style scoped>\n    .dataframe tbody tr th:only-of-type {\n        vertical-align: middle;\n    }\n\n    .dataframe tbody tr th {\n        vertical-align: top;\n    }\n\n    .dataframe thead th {\n        text-align: right;\n    }\n</style>\n<table border=\"1\" class=\"dataframe\">\n  <thead>\n    <tr style=\"text-align: right;\">\n      <th></th>\n      <th>Unnamed: 0.1</th>\n      <th>Unnamed: 0</th>\n      <th>scenario</th>\n      <th>source_file</th>\n      <th>original_text</th>\n      <th>preprocessed_text</th>\n      <th>label</th>\n    </tr>\n  </thead>\n  <tbody>\n    <tr>\n      <th>0</th>\n      <td>0</td>\n      <td>21636</td>\n      <td>Sandwich</td>\n      <td>richardson174.cha</td>\n      <td>okay . [+ exc] \u0015564200_564650\u0015</td>\n      <td>okay.</td>\n      <td>0</td>\n    </tr>\n    <tr>\n      <th>1</th>\n      <td>1</td>\n      <td>785</td>\n      <td>Stroke</td>\n      <td>adler25a.cha</td>\n      <td>and I &amp;+b brimɛmbə˞@u [: remember] [* p:n] osp...</td>\n      <td>and i remember hospital hospital.</td>\n      <td>1</td>\n    </tr>\n    <tr>\n      <th>2</th>\n      <td>2</td>\n      <td>14488</td>\n      <td>Window</td>\n      <td>capilouto44a.cha</td>\n      <td>where he is beside him . \u00151304770_1306020\u0015</td>\n      <td>where he is beside him.</td>\n      <td>0</td>\n    </tr>\n    <tr>\n      <th>3</th>\n      <td>3</td>\n      <td>6865</td>\n      <td>Umbrella</td>\n      <td>62-1.cha</td>\n      <td>it's pouring . \u0015794962_795602\u0015</td>\n      <td>it's pouring.</td>\n      <td>0</td>\n    </tr>\n    <tr>\n      <th>4</th>\n      <td>4</td>\n      <td>33578</td>\n      <td>Umbrella</td>\n      <td>wright34a.cha</td>\n      <td>&amp;-uh every morning mommy gets Billy ready for ...</td>\n      <td>every morning mommy gets billy ready for school.</td>\n      <td>0</td>\n    </tr>\n  </tbody>\n</table>\n</div>"
     },
     "execution_count": 3,
     "metadata": {},
     "output_type": "execute_result"
    }
   ],
   "source": [
    "df.head()"
   ],
   "metadata": {
    "collapsed": false,
    "ExecuteTime": {
     "end_time": "2024-03-19T15:58:08.754180300Z",
     "start_time": "2024-03-19T15:58:08.726180200Z"
    }
   },
   "id": "bcb589a4cb1eede5"
  },
  {
   "cell_type": "code",
   "execution_count": 4,
   "outputs": [
    {
     "data": {
      "text/plain": "Unnamed: 0.1         0\nUnnamed: 0           0\nscenario             0\nsource_file          0\noriginal_text        0\npreprocessed_text    0\nlabel                0\ndtype: int64"
     },
     "execution_count": 4,
     "metadata": {},
     "output_type": "execute_result"
    }
   ],
   "source": [
    "# no null values \n",
    "df.isnull().sum()"
   ],
   "metadata": {
    "collapsed": false,
    "ExecuteTime": {
     "end_time": "2024-03-20T10:11:26.752190300Z",
     "start_time": "2024-03-20T10:11:26.725279700Z"
    }
   },
   "id": "a27cf5c6cce7959d"
  },
  {
   "cell_type": "code",
   "execution_count": 5,
   "outputs": [],
   "source": [
    "sentences = df[\"preprocessed_text\"]"
   ],
   "metadata": {
    "collapsed": false,
    "ExecuteTime": {
     "end_time": "2024-03-20T10:11:29.525857500Z",
     "start_time": "2024-03-20T10:11:29.510855100Z"
    }
   },
   "id": "4f7847dea0d65a36"
  },
  {
   "cell_type": "code",
   "execution_count": 6,
   "outputs": [
    {
     "data": {
      "text/plain": "<Axes: xlabel='label', ylabel='count'>"
     },
     "execution_count": 6,
     "metadata": {},
     "output_type": "execute_result"
    },
    {
     "data": {
      "text/plain": "<Figure size 640x480 with 1 Axes>",
      "image/png": "[encoded data removed]"
     },
     "metadata": {},
     "output_type": "display_data"
    }
   ],
   "source": [
    "# A bit unbalanced\n",
    "sns.countplot(x=\"label\",data=df)"
   ],
   "metadata": {
    "collapsed": false,
    "ExecuteTime": {
     "end_time": "2024-03-20T10:11:31.449289Z",
     "start_time": "2024-03-20T10:11:31.250752900Z"
    }
   },
   "id": "10ae02f3bcd3ae58"
  },
  {
   "cell_type": "code",
   "execution_count": 7,
   "outputs": [],
   "source": [
    "input_df = df"
   ],
   "metadata": {
    "collapsed": false,
    "ExecuteTime": {
     "end_time": "2024-03-20T10:11:33.128456700Z",
     "start_time": "2024-03-20T10:11:33.113948200Z"
    }
   },
   "id": "280ea3fd39410280"
  },
  {
   "cell_type": "code",
   "execution_count": 8,
   "outputs": [
    {
     "data": {
      "text/plain": "       Unnamed: 0.1  Unnamed: 0         scenario        source_file  \\\n0                 0       21636         Sandwich  richardson174.cha   \n1                 1         785           Stroke       adler25a.cha   \n2                 2       14488           Window   capilouto44a.cha   \n3                 3        6865         Umbrella           62-1.cha   \n4                 4       33578         Umbrella      wright34a.cha   \n...             ...         ...              ...                ...   \n57046         57046       28585  Important_Event        UNH1034.cha   \n57047         57047       27856       Cinderella          UMD24.cha   \n57048         57048       28812       Cinderella        UNH1034.cha   \n57049         57049         342         Umbrella       adler11a.cha   \n57050         57050       10130           Stroke       scale26a.cha   \n\n                                           original_text  \\\n0                         okay . [+ exc] \u0015564200_564650\u0015   \n1      and I &+b brimɛmbə˞@u [: remember] [* p:n] osp...   \n2             where he is beside him . \u00151304770_1306020\u0015   \n3                         it's pouring . \u0015794962_795602\u0015   \n4      &-uh every morning mommy gets Billy ready for ...   \n...                                                  ...   \n57046  something that was so foreign to me to just as...   \n57047  the prince continues to wave her away . \u001513682...   \n57048    and she was off to the ball . \u00151993565_1994535\u0015   \n57049    yeah &=points:frame_5 . [+ exc] \u0015694075_694992\u0015   \n57050  &-um (.) &-um on the phone . [+ gram] \u001537375_4...   \n\n                                       preprocessed_text  label  \n0                                                  okay.      0  \n1                      and i remember hospital hospital.      1  \n2                                where he is beside him.      0  \n3                                          it's pouring.      0  \n4       every morning mommy gets billy ready for school.      0  \n...                                                  ...    ...  \n57046  something that was so foreign to me to just as...      0  \n57047             the prince continues to wave her away.      0  \n57048                       and she was off to the ball.      0  \n57049                                              yeah.      1  \n57050                                      on the phone.      1  \n\n[57051 rows x 7 columns]",
      "text/html": "<div>\n<style scoped>\n    .dataframe tbody tr th:only-of-type {\n        vertical-align: middle;\n    }\n\n    .dataframe tbody tr th {\n        vertical-align: top;\n    }\n\n    .dataframe thead th {\n        text-align: right;\n    }\n</style>\n<table border=\"1\" class=\"dataframe\">\n  <thead>\n    <tr style=\"text-align: right;\">\n      <th></th>\n      <th>Unnamed: 0.1</th>\n      <th>Unnamed: 0</th>\n      <th>scenario</th>\n      <th>source_file</th>\n      <th>original_text</th>\n      <th>preprocessed_text</th>\n      <th>label</th>\n    </tr>\n  </thead>\n  <tbody>\n    <tr>\n      <th>0</th>\n      <td>0</td>\n      <td>21636</td>\n      <td>Sandwich</td>\n      <td>richardson174.cha</td>\n      <td>okay . [+ exc] \u0015564200_564650\u0015</td>\n      <td>okay.</td>\n      <td>0</td>\n    </tr>\n    <tr>\n      <th>1</th>\n      <td>1</td>\n      <td>785</td>\n      <td>Stroke</td>\n      <td>adler25a.cha</td>\n      <td>and I &amp;+b brimɛmbə˞@u [: remember] [* p:n] osp...</td>\n      <td>and i remember hospital hospital.</td>\n      <td>1</td>\n    </tr>\n    <tr>\n      <th>2</th>\n      <td>2</td>\n      <td>14488</td>\n      <td>Window</td>\n      <td>capilouto44a.cha</td>\n      <td>where he is beside him . \u00151304770_1306020\u0015</td>\n      <td>where he is beside him.</td>\n      <td>0</td>\n    </tr>\n    <tr>\n      <th>3</th>\n      <td>3</td>\n      <td>6865</td>\n      <td>Umbrella</td>\n      <td>62-1.cha</td>\n      <td>it's pouring . \u0015794962_795602\u0015</td>\n      <td>it's pouring.</td>\n      <td>0</td>\n    </tr>\n    <tr>\n      <th>4</th>\n      <td>4</td>\n      <td>33578</td>\n      <td>Umbrella</td>\n      <td>wright34a.cha</td>\n      <td>&amp;-uh every morning mommy gets Billy ready for ...</td>\n      <td>every morning mommy gets billy ready for school.</td>\n      <td>0</td>\n    </tr>\n    <tr>\n      <th>...</th>\n      <td>...</td>\n      <td>...</td>\n      <td>...</td>\n      <td>...</td>\n      <td>...</td>\n      <td>...</td>\n      <td>...</td>\n    </tr>\n    <tr>\n      <th>57046</th>\n      <td>57046</td>\n      <td>28585</td>\n      <td>Important_Event</td>\n      <td>UNH1034.cha</td>\n      <td>something that was so foreign to me to just as...</td>\n      <td>something that was so foreign to me to just as...</td>\n      <td>0</td>\n    </tr>\n    <tr>\n      <th>57047</th>\n      <td>57047</td>\n      <td>27856</td>\n      <td>Cinderella</td>\n      <td>UMD24.cha</td>\n      <td>the prince continues to wave her away . \u001513682...</td>\n      <td>the prince continues to wave her away.</td>\n      <td>0</td>\n    </tr>\n    <tr>\n      <th>57048</th>\n      <td>57048</td>\n      <td>28812</td>\n      <td>Cinderella</td>\n      <td>UNH1034.cha</td>\n      <td>and she was off to the ball . \u00151993565_1994535\u0015</td>\n      <td>and she was off to the ball.</td>\n      <td>0</td>\n    </tr>\n    <tr>\n      <th>57049</th>\n      <td>57049</td>\n      <td>342</td>\n      <td>Umbrella</td>\n      <td>adler11a.cha</td>\n      <td>yeah &amp;=points:frame_5 . [+ exc] \u0015694075_694992\u0015</td>\n      <td>yeah.</td>\n      <td>1</td>\n    </tr>\n    <tr>\n      <th>57050</th>\n      <td>57050</td>\n      <td>10130</td>\n      <td>Stroke</td>\n      <td>scale26a.cha</td>\n      <td>&amp;-um (.) &amp;-um on the phone . [+ gram] \u001537375_4...</td>\n      <td>on the phone.</td>\n      <td>1</td>\n    </tr>\n  </tbody>\n</table>\n<p>57051 rows × 7 columns</p>\n</div>"
     },
     "execution_count": 8,
     "metadata": {},
     "output_type": "execute_result"
    }
   ],
   "source": [
    "input_df"
   ],
   "metadata": {
    "collapsed": false,
    "ExecuteTime": {
     "end_time": "2024-03-20T10:11:34.925445600Z",
     "start_time": "2024-03-20T10:11:34.900978400Z"
    }
   },
   "id": "dbc939542ebfdf1f"
  },
  {
   "cell_type": "markdown",
   "source": [
    "# Encoding # 1"
   ],
   "metadata": {
    "collapsed": false,
    "ExecuteTime": {
     "end_time": "2024-02-22T21:12:38.530884700Z",
     "start_time": "2024-02-22T21:12:33.990926300Z"
    }
   },
   "id": "a8abeef2ea96a7e5"
  },
  {
   "cell_type": "code",
   "execution_count": 9,
   "outputs": [],
   "source": [
    "import multiprocessing\n",
    "from gensim.models import Word2Vec"
   ],
   "metadata": {
    "collapsed": false,
    "ExecuteTime": {
     "end_time": "2024-03-20T10:11:36.757277800Z",
     "start_time": "2024-03-20T10:11:36.440518200Z"
    }
   },
   "id": "5e152030dcfd17ac"
  },
  {
   "cell_type": "code",
   "execution_count": 10,
   "outputs": [
    {
     "data": {
      "text/plain": "16"
     },
     "execution_count": 10,
     "metadata": {},
     "output_type": "execute_result"
    }
   ],
   "source": [
    "cores = multiprocessing.cpu_count()\n",
    "cores"
   ],
   "metadata": {
    "collapsed": false,
    "ExecuteTime": {
     "end_time": "2024-03-20T10:11:38.599679900Z",
     "start_time": "2024-03-20T10:11:38.587290100Z"
    }
   },
   "id": "f1da9a7e1b0c5550"
  },
  {
   "cell_type": "code",
   "execution_count": 11,
   "outputs": [
    {
     "data": {
      "text/plain": "['oh', 'maybe', 'mom', 'was', 'right', '.']"
     },
     "execution_count": 11,
     "metadata": {},
     "output_type": "execute_result"
    }
   ],
   "source": [
    "words_in_sentences=[]\n",
    "for i in input_df[\"preprocessed_text\"]:\n",
    "    words_in_sentences.append(re.findall(r\"[\\w']+|[.,!?;]\", i.lower()))\n",
    "words_in_sentences[20]"
   ],
   "metadata": {
    "collapsed": false,
    "ExecuteTime": {
     "end_time": "2024-03-20T10:11:41.297995800Z",
     "start_time": "2024-03-20T10:11:41.173504900Z"
    }
   },
   "id": "6398f265e7a92f27"
  },
  {
   "cell_type": "code",
   "execution_count": 12,
   "outputs": [
    {
     "data": {
      "text/plain": "Unnamed: 0.1                                                    20\nUnnamed: 0                                                   26047\nscenario                                                  Umbrella\nsource_file                                              UMD09.cha\noriginal_text        +\" oh ‡ maybe mom was right . \u0015116755_118305\u0015\npreprocessed_text                          oh maybe mom was right.\nlabel                                                            0\nName: 20, dtype: object"
     },
     "execution_count": 12,
     "metadata": {},
     "output_type": "execute_result"
    }
   ],
   "source": [
    "input_df.iloc[20]"
   ],
   "metadata": {
    "collapsed": false,
    "ExecuteTime": {
     "end_time": "2024-03-20T10:11:43.012427500Z",
     "start_time": "2024-03-20T10:11:42.996889600Z"
    }
   },
   "id": "a6c8600906fb3119"
  },
  {
   "cell_type": "code",
   "execution_count": 13,
   "outputs": [],
   "source": [
    "w2v_model = Word2Vec(min_count=1,\n",
    "                     window=2,\n",
    "                     vector_size = 300,\n",
    "                     sample=6e-5, \n",
    "                     alpha=0.03, \n",
    "                     min_alpha=0.0007, \n",
    "                     negative=20,\n",
    "                     workers=cores-10)"
   ],
   "metadata": {
    "collapsed": false,
    "ExecuteTime": {
     "end_time": "2024-03-20T10:11:47.600105500Z",
     "start_time": "2024-03-20T10:11:47.594090300Z"
    }
   },
   "id": "123e5343341c7e6"
  },
  {
   "cell_type": "code",
   "execution_count": 14,
   "outputs": [],
   "source": [
    "w2v_model.build_vocab(words_in_sentences, progress_per=10000)"
   ],
   "metadata": {
    "collapsed": false,
    "ExecuteTime": {
     "end_time": "2024-03-20T10:11:49.398672900Z",
     "start_time": "2024-03-20T10:11:49.227549700Z"
    }
   },
   "id": "ebe7834b75300377"
  },
  {
   "cell_type": "code",
   "execution_count": 15,
   "outputs": [
    {
     "data": {
      "text/plain": "(4032941, 14997000)"
     },
     "execution_count": 15,
     "metadata": {},
     "output_type": "execute_result"
    }
   ],
   "source": [
    "w2v_model.train(words_in_sentences, total_examples=w2v_model.corpus_count, epochs=30, report_delay=1)"
   ],
   "metadata": {
    "collapsed": false,
    "ExecuteTime": {
     "end_time": "2024-03-20T10:11:55.761443600Z",
     "start_time": "2024-03-20T10:11:50.940529100Z"
    }
   },
   "id": "33f9fd218b99bff5"
  },
  {
   "cell_type": "code",
   "execution_count": 16,
   "outputs": [],
   "source": [
    "w2v_model.save(\"word2vec_rf.model\")"
   ],
   "metadata": {
    "collapsed": false,
    "ExecuteTime": {
     "end_time": "2024-03-20T10:11:55.834576600Z",
     "start_time": "2024-03-20T10:11:55.760437400Z"
    }
   },
   "id": "8773010a05c67a2c"
  },
  {
   "cell_type": "code",
   "execution_count": 17,
   "outputs": [],
   "source": [
    "w2v_model = Word2Vec.load(\"word2vec_rf.model\")"
   ],
   "metadata": {
    "collapsed": false,
    "ExecuteTime": {
     "end_time": "2024-03-20T10:11:55.879769100Z",
     "start_time": "2024-03-20T10:11:55.806233900Z"
    }
   },
   "id": "4e397d911d61d12c"
  },
  {
   "cell_type": "code",
   "execution_count": 18,
   "outputs": [
    {
     "name": "stdout",
     "output_type": "stream",
     "text": [
      "9815\n"
     ]
    }
   ],
   "source": [
    "vocab=list(w2v_model.wv.key_to_index.keys())\n",
    "print(len(vocab))"
   ],
   "metadata": {
    "collapsed": false,
    "ExecuteTime": {
     "end_time": "2024-03-20T10:11:55.889768Z",
     "start_time": "2024-03-20T10:11:55.870768700Z"
    }
   },
   "id": "64151109e69c1d1d"
  },
  {
   "cell_type": "code",
   "execution_count": 19,
   "outputs": [],
   "source": [
    "def avg_w2vec(sentences, labels):\n",
    "    \"\"\"\n",
    "    Average Word2Vec approach for creating a vector for a given sentence from the word embeddings of each words of the sentence.\n",
    "    \"\"\"\n",
    "\n",
    "    transformed=[]\n",
    "    lab = []\n",
    "    for sentence, label in zip(sentences,labels):\n",
    "        count=0\n",
    "        vector=np.zeros(300)\n",
    "        for word in sentence.split():\n",
    "            if word in vocab:\n",
    "                vector+=w2v_model.wv.get_vector(word)\n",
    "                count+=1\n",
    "        if count!=0:\n",
    "            vector/=count\n",
    "            transformed.append(vector)\n",
    "            lab.append(label)\n",
    "    return np.array(transformed), np.array(lab)"
   ],
   "metadata": {
    "collapsed": false,
    "ExecuteTime": {
     "end_time": "2024-03-20T10:11:56.819614700Z",
     "start_time": "2024-03-20T10:11:56.803103600Z"
    }
   },
   "id": "d34d0cf270e7c01d"
  },
  {
   "cell_type": "code",
   "execution_count": 20,
   "outputs": [],
   "source": [
    "transformed_text, labels1= avg_w2vec(input_df[\"preprocessed_text\"], input_df[\"label\"])"
   ],
   "metadata": {
    "collapsed": false,
    "ExecuteTime": {
     "end_time": "2024-03-20T10:12:05.581173900Z",
     "start_time": "2024-03-20T10:11:59.764022800Z"
    }
   },
   "id": "5c80203272c60be7"
  },
  {
   "cell_type": "markdown",
   "source": [
    "# Model fitting"
   ],
   "metadata": {
    "collapsed": false
   },
   "id": "21a1947b6da6438"
  },
  {
   "cell_type": "code",
   "execution_count": 21,
   "outputs": [],
   "source": [
    "# train test split\n",
    "x_train,x_test, y_train, y_test = train_test_split(transformed_text, labels1, stratify=labels1, test_size=0.20, random_state=42)"
   ],
   "metadata": {
    "collapsed": false,
    "ExecuteTime": {
     "end_time": "2024-03-20T10:13:21.450122500Z",
     "start_time": "2024-03-20T10:13:21.411110100Z"
    }
   },
   "id": "cbd82fd9372f42fa"
  },
  {
   "cell_type": "code",
   "execution_count": 22,
   "outputs": [],
   "source": [
    "from sklearn.ensemble import RandomForestClassifier\n",
    "\n",
    "forest = RandomForestClassifier(n_estimators = 100)\n"
   ],
   "metadata": {
    "collapsed": false,
    "ExecuteTime": {
     "end_time": "2024-03-20T10:13:23.422973500Z",
     "start_time": "2024-03-20T10:13:23.331906600Z"
    }
   },
   "id": "92e9572bb83d5cf9"
  },
  {
   "cell_type": "code",
   "execution_count": 23,
   "outputs": [],
   "source": [
    "forest = forest.fit(x_train, y_train)"
   ],
   "metadata": {
    "collapsed": false,
    "ExecuteTime": {
     "end_time": "2024-03-20T10:15:34.125013600Z",
     "start_time": "2024-03-20T10:13:29.089656900Z"
    }
   },
   "id": "42f91cb92e309421"
  },
  {
   "cell_type": "code",
   "execution_count": 24,
   "outputs": [],
   "source": [
    "rfPickle = open('rf_pickle', 'wb')\n",
    "pickle.dump(forest, rfPickle)\n",
    "rfPickle.close()"
   ],
   "metadata": {
    "collapsed": false,
    "ExecuteTime": {
     "end_time": "2024-03-20T10:15:34.172080100Z",
     "start_time": "2024-03-20T10:15:34.127275300Z"
    }
   },
   "id": "b18307b96d728265"
  },
  {
   "cell_type": "markdown",
   "source": [
    "# Testing plots"
   ],
   "metadata": {
    "collapsed": false
   },
   "id": "eda9d0a59dfd2867"
  },
  {
   "cell_type": "code",
   "execution_count": 25,
   "outputs": [],
   "source": [
    "from sklearn.metrics import accuracy_score, confusion_matrix, ConfusionMatrixDisplay\n",
    "import matplotlib.pyplot as plt"
   ],
   "metadata": {
    "collapsed": false,
    "ExecuteTime": {
     "end_time": "2024-03-20T10:15:34.187731300Z",
     "start_time": "2024-03-20T10:15:34.174081300Z"
    }
   },
   "id": "a854c71fec50a024"
  },
  {
   "cell_type": "code",
   "execution_count": 26,
   "outputs": [],
   "source": [
    "loaded_model = pickle.load(open('rf_pickle', 'rb'))"
   ],
   "metadata": {
    "collapsed": false,
    "ExecuteTime": {
     "end_time": "2024-03-20T10:15:34.250923Z",
     "start_time": "2024-03-20T10:15:34.188736100Z"
    }
   },
   "id": "6d2bf3eb9dde9d9f"
  },
  {
   "cell_type": "code",
   "execution_count": 27,
   "outputs": [
    {
     "data": {
      "text/plain": "RandomForestClassifier()",
      "text/html": "<style>#sk-container-id-1 {\n  /* Definition of color scheme common for light and dark mode */\n  --sklearn-color-text: black;\n  --sklearn-color-line: gray;\n  /* Definition of color scheme for unfitted estimators */\n  --sklearn-color-unfitted-level-0: #fff5e6;\n  --sklearn-color-unfitted-level-1: #f6e4d2;\n  --sklearn-color-unfitted-level-2: #ffe0b3;\n  --sklearn-color-unfitted-level-3: chocolate;\n  /* Definition of color scheme for fitted estimators */\n  --sklearn-color-fitted-level-0: #f0f8ff;\n  --sklearn-color-fitted-level-1: #d4ebff;\n  --sklearn-color-fitted-level-2: #b3dbfd;\n  --sklearn-color-fitted-level-3: cornflowerblue;\n\n  /* Specific color for light theme */\n  --sklearn-color-text-on-default-background: var(--sg-text-color, var(--theme-code-foreground, var(--jp-content-font-color1, black)));\n  --sklearn-color-background: var(--sg-background-color, var(--theme-background, var(--jp-layout-color0, white)));\n  --sklearn-color-border-box: var(--sg-text-color, var(--theme-code-foreground, var(--jp-content-font-color1, black)));\n  --sklearn-color-icon: #696969;\n\n  @media (prefers-color-scheme: dark) {\n    /* Redefinition of color scheme for dark theme */\n    --sklearn-color-text-on-default-background: var(--sg-text-color, var(--theme-code-foreground, var(--jp-content-font-color1, white)));\n    --sklearn-color-background: var(--sg-background-color, var(--theme-background, var(--jp-layout-color0, #111)));\n    --sklearn-color-border-box: var(--sg-text-color, var(--theme-code-foreground, var(--jp-content-font-color1, white)));\n    --sklearn-color-icon: #878787;\n  }\n}\n\n#sk-container-id-1 {\n  color: var(--sklearn-color-text);\n}\n\n#sk-container-id-1 pre {\n  padding: 0;\n}\n\n#sk-container-id-1 input.sk-hidden--visually {\n  border: 0;\n  clip: rect(1px 1px 1px 1px);\n  clip: rect(1px, 1px, 1px, 1px);\n  height: 1px;\n  margin: -1px;\n  overflow: hidden;\n  padding: 0;\n  position: absolute;\n  width: 1px;\n}\n\n#sk-container-id-1 div.sk-dashed-wrapped {\n  border: 1px dashed var(--sklearn-color-line);\n  margin: 0 0.4em 0.5em 0.4em;\n  box-sizing: border-box;\n  padding-bottom: 0.4em;\n  background-color: var(--sklearn-color-background);\n}\n\n#sk-container-id-1 div.sk-container {\n  /* jupyter's `normalize.less` sets `[hidden] { display: none; }`\n     but bootstrap.min.css set `[hidden] { display: none !important; }`\n     so we also need the `!important` here to be able to override the\n     default hidden behavior on the sphinx rendered scikit-learn.org.\n     See: https://github.com/scikit-learn/scikit-learn/issues/21755 */\n  display: inline-block !important;\n  position: relative;\n}\n\n#sk-container-id-1 div.sk-text-repr-fallback {\n  display: none;\n}\n\ndiv.sk-parallel-item,\ndiv.sk-serial,\ndiv.sk-item {\n  /* draw centered vertical line to link estimators */\n  background-image: linear-gradient(var(--sklearn-color-text-on-default-background), var(--sklearn-color-text-on-default-background));\n  background-size: 2px 100%;\n  background-repeat: no-repeat;\n  background-position: center center;\n}\n\n/* Parallel-specific style estimator block */\n\n#sk-container-id-1 div.sk-parallel-item::after {\n  content: \"\";\n  width: 100%;\n  border-bottom: 2px solid var(--sklearn-color-text-on-default-background);\n  flex-grow: 1;\n}\n\n#sk-container-id-1 div.sk-parallel {\n  display: flex;\n  align-items: stretch;\n  justify-content: center;\n  background-color: var(--sklearn-color-background);\n  position: relative;\n}\n\n#sk-container-id-1 div.sk-parallel-item {\n  display: flex;\n  flex-direction: column;\n}\n\n#sk-container-id-1 div.sk-parallel-item:first-child::after {\n  align-self: flex-end;\n  width: 50%;\n}\n\n#sk-container-id-1 div.sk-parallel-item:last-child::after {\n  align-self: flex-start;\n  width: 50%;\n}\n\n#sk-container-id-1 div.sk-parallel-item:only-child::after {\n  width: 0;\n}\n\n/* Serial-specific style estimator block */\n\n#sk-container-id-1 div.sk-serial {\n  display: flex;\n  flex-direction: column;\n  align-items: center;\n  background-color: var(--sklearn-color-background);\n  padding-right: 1em;\n  padding-left: 1em;\n}\n\n\n/* Toggleable style: style used for estimator/Pipeline/ColumnTransformer box that is\nclickable and can be expanded/collapsed.\n- Pipeline and ColumnTransformer use this feature and define the default style\n- Estimators will overwrite some part of the style using the `sk-estimator` class\n*/\n\n/* Pipeline and ColumnTransformer style (default) */\n\n#sk-container-id-1 div.sk-toggleable {\n  /* Default theme specific background. It is overwritten whether we have a\n  specific estimator or a Pipeline/ColumnTransformer */\n  background-color: var(--sklearn-color-background);\n}\n\n/* Toggleable label */\n#sk-container-id-1 label.sk-toggleable__label {\n  cursor: pointer;\n  display: block;\n  width: 100%;\n  margin-bottom: 0;\n  padding: 0.5em;\n  box-sizing: border-box;\n  text-align: center;\n}\n\n#sk-container-id-1 label.sk-toggleable__label-arrow:before {\n  /* Arrow on the left of the label */\n  content: \"▸\";\n  float: left;\n  margin-right: 0.25em;\n  color: var(--sklearn-color-icon);\n}\n\n#sk-container-id-1 label.sk-toggleable__label-arrow:hover:before {\n  color: var(--sklearn-color-text);\n}\n\n/* Toggleable content - dropdown */\n\n#sk-container-id-1 div.sk-toggleable__content {\n  max-height: 0;\n  max-width: 0;\n  overflow: hidden;\n  text-align: left;\n  /* unfitted */\n  background-color: var(--sklearn-color-unfitted-level-0);\n}\n\n#sk-container-id-1 div.sk-toggleable__content.fitted {\n  /* fitted */\n  background-color: var(--sklearn-color-fitted-level-0);\n}\n\n#sk-container-id-1 div.sk-toggleable__content pre {\n  margin: 0.2em;\n  border-radius: 0.25em;\n  color: var(--sklearn-color-text);\n  /* unfitted */\n  background-color: var(--sklearn-color-unfitted-level-0);\n}\n\n#sk-container-id-1 div.sk-toggleable__content.fitted pre {\n  /* unfitted */\n  background-color: var(--sklearn-color-fitted-level-0);\n}\n\n#sk-container-id-1 input.sk-toggleable__control:checked~div.sk-toggleable__content {\n  /* Expand drop-down */\n  max-height: 200px;\n  max-width: 100%;\n  overflow: auto;\n}\n\n#sk-container-id-1 input.sk-toggleable__control:checked~label.sk-toggleable__label-arrow:before {\n  content: \"▾\";\n}\n\n/* Pipeline/ColumnTransformer-specific style */\n\n#sk-container-id-1 div.sk-label input.sk-toggleable__control:checked~label.sk-toggleable__label {\n  color: var(--sklearn-color-text);\n  background-color: var(--sklearn-color-unfitted-level-2);\n}\n\n#sk-container-id-1 div.sk-label.fitted input.sk-toggleable__control:checked~label.sk-toggleable__label {\n  background-color: var(--sklearn-color-fitted-level-2);\n}\n\n/* Estimator-specific style */\n\n/* Colorize estimator box */\n#sk-container-id-1 div.sk-estimator input.sk-toggleable__control:checked~label.sk-toggleable__label {\n  /* unfitted */\n  background-color: var(--sklearn-color-unfitted-level-2);\n}\n\n#sk-container-id-1 div.sk-estimator.fitted input.sk-toggleable__control:checked~label.sk-toggleable__label {\n  /* fitted */\n  background-color: var(--sklearn-color-fitted-level-2);\n}\n\n#sk-container-id-1 div.sk-label label.sk-toggleable__label,\n#sk-container-id-1 div.sk-label label {\n  /* The background is the default theme color */\n  color: var(--sklearn-color-text-on-default-background);\n}\n\n/* On hover, darken the color of the background */\n#sk-container-id-1 div.sk-label:hover label.sk-toggleable__label {\n  color: var(--sklearn-color-text);\n  background-color: var(--sklearn-color-unfitted-level-2);\n}\n\n/* Label box, darken color on hover, fitted */\n#sk-container-id-1 div.sk-label.fitted:hover label.sk-toggleable__label.fitted {\n  color: var(--sklearn-color-text);\n  background-color: var(--sklearn-color-fitted-level-2);\n}\n\n/* Estimator label */\n\n#sk-container-id-1 div.sk-label label {\n  font-family: monospace;\n  font-weight: bold;\n  display: inline-block;\n  line-height: 1.2em;\n}\n\n#sk-container-id-1 div.sk-label-container {\n  text-align: center;\n}\n\n/* Estimator-specific */\n#sk-container-id-1 div.sk-estimator {\n  font-family: monospace;\n  border: 1px dotted var(--sklearn-color-border-box);\n  border-radius: 0.25em;\n  box-sizing: border-box;\n  margin-bottom: 0.5em;\n  /* unfitted */\n  background-color: var(--sklearn-color-unfitted-level-0);\n}\n\n#sk-container-id-1 div.sk-estimator.fitted {\n  /* fitted */\n  background-color: var(--sklearn-color-fitted-level-0);\n}\n\n/* on hover */\n#sk-container-id-1 div.sk-estimator:hover {\n  /* unfitted */\n  background-color: var(--sklearn-color-unfitted-level-2);\n}\n\n#sk-container-id-1 div.sk-estimator.fitted:hover {\n  /* fitted */\n  background-color: var(--sklearn-color-fitted-level-2);\n}\n\n/* Specification for estimator info (e.g. \"i\" and \"?\") */\n\n/* Common style for \"i\" and \"?\" */\n\n.sk-estimator-doc-link,\na:link.sk-estimator-doc-link,\na:visited.sk-estimator-doc-link {\n  float: right;\n  font-size: smaller;\n  line-height: 1em;\n  font-family: monospace;\n  background-color: var(--sklearn-color-background);\n  border-radius: 1em;\n  height: 1em;\n  width: 1em;\n  text-decoration: none !important;\n  margin-left: 1ex;\n  /* unfitted */\n  border: var(--sklearn-color-unfitted-level-1) 1pt solid;\n  color: var(--sklearn-color-unfitted-level-1);\n}\n\n.sk-estimator-doc-link.fitted,\na:link.sk-estimator-doc-link.fitted,\na:visited.sk-estimator-doc-link.fitted {\n  /* fitted */\n  border: var(--sklearn-color-fitted-level-1) 1pt solid;\n  color: var(--sklearn-color-fitted-level-1);\n}\n\n/* On hover */\ndiv.sk-estimator:hover .sk-estimator-doc-link:hover,\n.sk-estimator-doc-link:hover,\ndiv.sk-label-container:hover .sk-estimator-doc-link:hover,\n.sk-estimator-doc-link:hover {\n  /* unfitted */\n  background-color: var(--sklearn-color-unfitted-level-3);\n  color: var(--sklearn-color-background);\n  text-decoration: none;\n}\n\ndiv.sk-estimator.fitted:hover .sk-estimator-doc-link.fitted:hover,\n.sk-estimator-doc-link.fitted:hover,\ndiv.sk-label-container:hover .sk-estimator-doc-link.fitted:hover,\n.sk-estimator-doc-link.fitted:hover {\n  /* fitted */\n  background-color: var(--sklearn-color-fitted-level-3);\n  color: var(--sklearn-color-background);\n  text-decoration: none;\n}\n\n/* Span, style for the box shown on hovering the info icon */\n.sk-estimator-doc-link span {\n  display: none;\n  z-index: 9999;\n  position: relative;\n  font-weight: normal;\n  right: .2ex;\n  padding: .5ex;\n  margin: .5ex;\n  width: min-content;\n  min-width: 20ex;\n  max-width: 50ex;\n  color: var(--sklearn-color-text);\n  box-shadow: 2pt 2pt 4pt #999;\n  /* unfitted */\n  background: var(--sklearn-color-unfitted-level-0);\n  border: .5pt solid var(--sklearn-color-unfitted-level-3);\n}\n\n.sk-estimator-doc-link.fitted span {\n  /* fitted */\n  background: var(--sklearn-color-fitted-level-0);\n  border: var(--sklearn-color-fitted-level-3);\n}\n\n.sk-estimator-doc-link:hover span {\n  display: block;\n}\n\n/* \"?\"-specific style due to the `<a>` HTML tag */\n\n#sk-container-id-1 a.estimator_doc_link {\n  float: right;\n  font-size: 1rem;\n  line-height: 1em;\n  font-family: monospace;\n  background-color: var(--sklearn-color-background);\n  border-radius: 1rem;\n  height: 1rem;\n  width: 1rem;\n  text-decoration: none;\n  /* unfitted */\n  color: var(--sklearn-color-unfitted-level-1);\n  border: var(--sklearn-color-unfitted-level-1) 1pt solid;\n}\n\n#sk-container-id-1 a.estimator_doc_link.fitted {\n  /* fitted */\n  border: var(--sklearn-color-fitted-level-1) 1pt solid;\n  color: var(--sklearn-color-fitted-level-1);\n}\n\n/* On hover */\n#sk-container-id-1 a.estimator_doc_link:hover {\n  /* unfitted */\n  background-color: var(--sklearn-color-unfitted-level-3);\n  color: var(--sklearn-color-background);\n  text-decoration: none;\n}\n\n#sk-container-id-1 a.estimator_doc_link.fitted:hover {\n  /* fitted */\n  background-color: var(--sklearn-color-fitted-level-3);\n}\n</style><div id=\"sk-container-id-1\" class=\"sk-top-container\"><div class=\"sk-text-repr-fallback\"><pre>RandomForestClassifier()</pre><b>In a Jupyter environment, please rerun this cell to show the HTML representation or trust the notebook. <br />On GitHub, the HTML representation is unable to render, please try loading this page with nbviewer.org.</b></div><div class=\"sk-container\" hidden><div class=\"sk-item\"><div class=\"sk-estimator fitted sk-toggleable\"><input class=\"sk-toggleable__control sk-hidden--visually\" id=\"sk-estimator-id-1\" type=\"checkbox\" checked><label for=\"sk-estimator-id-1\" class=\"sk-toggleable__label fitted sk-toggleable__label-arrow fitted\">&nbsp;&nbsp;RandomForestClassifier<a class=\"sk-estimator-doc-link fitted\" rel=\"noreferrer\" target=\"_blank\" href=\"https://scikit-learn.org/1.4/modules/generated/sklearn.ensemble.RandomForestClassifier.html\">?<span>Documentation for RandomForestClassifier</span></a><span class=\"sk-estimator-doc-link fitted\">i<span>Fitted</span></span></label><div class=\"sk-toggleable__content fitted\"><pre>RandomForestClassifier()</pre></div> </div></div></div></div>"
     },
     "execution_count": 27,
     "metadata": {},
     "output_type": "execute_result"
    }
   ],
   "source": [
    "loaded_model"
   ],
   "metadata": {
    "collapsed": false,
    "ExecuteTime": {
     "end_time": "2024-03-20T10:15:34.271853600Z",
     "start_time": "2024-03-20T10:15:34.254392200Z"
    }
   },
   "id": "afab888782dc4a80"
  },
  {
   "cell_type": "code",
   "execution_count": 28,
   "outputs": [],
   "source": [
    "result = loaded_model.predict(x_test)"
   ],
   "metadata": {
    "collapsed": false,
    "ExecuteTime": {
     "end_time": "2024-03-20T10:15:34.487564900Z",
     "start_time": "2024-03-20T10:15:34.268542800Z"
    }
   },
   "id": "975419eb7ef4ab11"
  },
  {
   "cell_type": "code",
   "execution_count": 29,
   "outputs": [
    {
     "data": {
      "text/plain": "10304"
     },
     "execution_count": 29,
     "metadata": {},
     "output_type": "execute_result"
    }
   ],
   "source": [
    "len(x_test)"
   ],
   "metadata": {
    "collapsed": false,
    "ExecuteTime": {
     "end_time": "2024-03-20T10:15:34.509193600Z",
     "start_time": "2024-03-20T10:15:34.491564Z"
    }
   },
   "id": "98fc122bcf48b62c"
  },
  {
   "cell_type": "code",
   "execution_count": 30,
   "outputs": [
    {
     "data": {
      "text/plain": "10304"
     },
     "execution_count": 30,
     "metadata": {},
     "output_type": "execute_result"
    }
   ],
   "source": [
    "len(y_test)"
   ],
   "metadata": {
    "collapsed": false,
    "ExecuteTime": {
     "end_time": "2024-03-20T10:15:34.545555500Z",
     "start_time": "2024-03-20T10:15:34.505196300Z"
    }
   },
   "id": "1260369abf089f03"
  },
  {
   "cell_type": "code",
   "execution_count": 31,
   "outputs": [
    {
     "name": "stdout",
     "output_type": "stream",
     "text": [
      "0.8782026397515528\n"
     ]
    }
   ],
   "source": [
    "print(accuracy_score(y_test, result))"
   ],
   "metadata": {
    "collapsed": false,
    "ExecuteTime": {
     "end_time": "2024-03-20T10:15:34.546555800Z",
     "start_time": "2024-03-20T10:15:34.517840Z"
    }
   },
   "id": "e596119838ba02f8"
  },
  {
   "cell_type": "code",
   "execution_count": 32,
   "outputs": [
    {
     "data": {
      "text/plain": "<Figure size 640x480 with 2 Axes>",
      "image/png": "[encoded data removed]"
     },
     "metadata": {},
     "output_type": "display_data"
    }
   ],
   "source": [
    "cm = confusion_matrix(y_test, result, normalize='true')\n",
    "tn, fp, fn, tp = cm.ravel()\n",
    "ConfusionMatrixDisplay.from_estimator(loaded_model, x_test,y_test, normalize=\"true\", cmap=plt.cm.Blues)\n",
    "plt.grid(False)\n",
    "plt.show()"
   ],
   "metadata": {
    "collapsed": false,
    "ExecuteTime": {
     "end_time": "2024-03-20T10:15:34.863989700Z",
     "start_time": "2024-03-20T10:15:34.535267400Z"
    }
   },
   "id": "c42f73e1e9f824a3"
  },
  {
   "cell_type": "code",
   "execution_count": 33,
   "outputs": [
    {
     "name": "stdout",
     "output_type": "stream",
     "text": [
      "0.9628378378378378 0.4143598615916955 0.5856401384083045 0.037162162162162164\n"
     ]
    }
   ],
   "source": [
    "print(tn, fn, tp, fp)"
   ],
   "metadata": {
    "collapsed": false,
    "ExecuteTime": {
     "end_time": "2024-03-20T10:15:34.917348500Z",
     "start_time": "2024-03-20T10:15:34.866406500Z"
    }
   },
   "id": "c879e16708ace5e9"
  },
  {
   "cell_type": "code",
   "execution_count": 34,
   "outputs": [
    {
     "name": "stdout",
     "output_type": "stream",
     "text": [
      "0.940330724327571\n",
      "0.5856401384083045\n",
      "0.7217639982423408\n"
     ]
    }
   ],
   "source": [
    "precision = tp / (tp + fp)\n",
    "recall = tp / (tp + fn)\n",
    "f1 = (2 * precision * recall)/ (precision+recall)\n",
    "print(precision) \n",
    "print(recall)\n",
    "print(f1)"
   ],
   "metadata": {
    "collapsed": false,
    "ExecuteTime": {
     "end_time": "2024-03-20T10:15:34.917348500Z",
     "start_time": "2024-03-20T10:15:34.880829200Z"
    }
   },
   "id": "7738ca39874fc679"
  }
 ],
 "metadata": {
  "kernelspec": {
   "display_name": "Python 3",
   "language": "python",
   "name": "python3"
  },
  "language_info": {
   "codemirror_mode": {
    "name": "ipython",
    "version": 2
   },
   "file_extension": ".py",
   "mimetype": "text/x-python",
   "name": "python",
   "nbconvert_exporter": "python",
   "pygments_lexer": "ipython2",
   "version": "2.7.6"
  }
 },
 "nbformat": 4,
 "nbformat_minor": 5
}
