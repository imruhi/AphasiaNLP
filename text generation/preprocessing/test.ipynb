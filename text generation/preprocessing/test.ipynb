{
 "cells": [
  {
   "cell_type": "code",
   "execution_count": 15,
   "id": "initial_id",
   "metadata": {
    "collapsed": true,
    "ExecuteTime": {
     "end_time": "2024-04-03T12:25:55.685092800Z",
     "start_time": "2024-04-03T12:25:55.659988Z"
    }
   },
   "outputs": [],
   "source": [
    "import pandas as pd\n",
    "import nltk\n",
    "text = \"I went I went to the to the doctor\""
   ]
  },
  {
   "cell_type": "code",
   "execution_count": 16,
   "outputs": [],
   "source": [
    "def tuple_to_str(tuple):\n",
    "    output_str = \"\"\n",
    "    for tup in tuple:\n",
    "        try:\n",
    "            output_str += \" \" + tup[0]\n",
    "            output_str += \" \" + tup[1]\n",
    "        except:\n",
    "            continue\n",
    "    return output_str[1:]"
   ],
   "metadata": {
    "collapsed": false,
    "ExecuteTime": {
     "end_time": "2024-04-03T12:25:56.790296400Z",
     "start_time": "2024-04-03T12:25:56.776613900Z"
    }
   },
   "id": "7f7ef2f653ef0c16"
  },
  {
   "cell_type": "code",
   "execution_count": 19,
   "outputs": [
    {
     "name": "stdout",
     "output_type": "stream",
     "text": [
      "[('I', 'went'), ('went', 'I'), ('I', 'went'), ('went', 'to'), ('to', 'the'), ('the', 'to'), ('to', 'the'), ('the', 'doctor')]\n"
     ]
    }
   ],
   "source": [
    "\"\"\"\n",
    "Removes bigram stuttering from text. I went I went to the to the doctor --> I went to the doctor.\n",
    ":param text: input text containing a string\n",
    ":return: string without duplicates.\n",
    "\"\"\"\n",
    "bigram = list(nltk.bigrams(text.split()))\n",
    "grams = []\n",
    "\n",
    "for i in range(0, len(bigram)):\n",
    "    if i % 2 == 0:\n",
    "        grams.append(bigram[i])\n",
    "\n",
    "result = []\n",
    "prev_item = None\n",
    "for item in grams:\n",
    "    if item != prev_item:\n",
    "        result.append(item)\n",
    "        prev_item = item\n",
    "\n",
    "if result[-1][-1] != bigram[-1][-1]:\n",
    "    result.append(tuple((bigram[-1][-1]).split(\" \")))\n",
    "\n",
    "print(bigram)"
   ],
   "metadata": {
    "collapsed": false,
    "ExecuteTime": {
     "end_time": "2024-04-03T12:26:28.065917600Z",
     "start_time": "2024-04-03T12:26:28.050246700Z"
    }
   },
   "id": "96bd986d7f5c3fa7"
  },
  {
   "cell_type": "code",
   "execution_count": 10,
   "outputs": [
    {
     "data": {
      "text/plain": "I      6\nthe    2\nName: count, dtype: int64"
     },
     "execution_count": 10,
     "metadata": {},
     "output_type": "execute_result"
    }
   ],
   "source": [
    "import pandas as pd\n",
    "import numpy as np\n",
    "pd.Series(np.array(newlist)).value_counts()+1"
   ],
   "metadata": {
    "collapsed": false,
    "ExecuteTime": {
     "end_time": "2024-04-03T12:22:50.089092800Z",
     "start_time": "2024-04-03T12:22:50.083287600Z"
    }
   },
   "id": "57a92d7ed0121db0"
  }
 ],
 "metadata": {
  "kernelspec": {
   "display_name": "Python 3",
   "language": "python",
   "name": "python3"
  },
  "language_info": {
   "codemirror_mode": {
    "name": "ipython",
    "version": 2
   },
   "file_extension": ".py",
   "mimetype": "text/x-python",
   "name": "python",
   "nbconvert_exporter": "python",
   "pygments_lexer": "ipython2",
   "version": "2.7.6"
  }
 },
 "nbformat": 4,
 "nbformat_minor": 5
}
