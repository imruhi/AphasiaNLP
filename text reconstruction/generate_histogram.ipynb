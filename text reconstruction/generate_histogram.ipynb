{
 "cells": [
  {
   "cell_type": "code",
   "execution_count": 8,
   "id": "initial_id",
   "metadata": {
    "collapsed": true,
    "ExecuteTime": {
     "end_time": "2024-06-21T15:12:15.270846900Z",
     "start_time": "2024-06-21T15:12:15.205086Z"
    }
   },
   "outputs": [],
   "source": [
    "import os\n",
    "import pandas as pd\n",
    "import matplotlib.pyplot as plt\n",
    "from statistics import mean "
   ]
  },
  {
   "cell_type": "markdown",
   "source": [
    "# Histogram for 3 sentence test output"
   ],
   "metadata": {
    "collapsed": false
   },
   "id": "d40826aff8114e83"
  },
  {
   "cell_type": "code",
   "execution_count": 9,
   "outputs": [],
   "source": [
    "files = os.listdir(\"3/results3\")\n",
    "files = [x for x in files if '.csv' in x]\n",
    "df = pd.concat((pd.read_csv(\"3/results3/\"+f) for f in files), ignore_index=True)"
   ],
   "metadata": {
    "collapsed": false,
    "ExecuteTime": {
     "end_time": "2024-06-21T15:12:15.302625300Z",
     "start_time": "2024-06-21T15:12:15.206594600Z"
    }
   },
   "id": "428356a4a8f6263a"
  },
  {
   "cell_type": "code",
   "execution_count": 10,
   "outputs": [
    {
     "name": "stdout",
     "output_type": "stream",
     "text": [
      "Mean chrf: 59.99618317714259, Mean cosine: 0.8111147322044797\n"
     ]
    },
    {
     "data": {
      "text/plain": "<Figure size 640x480 with 2 Axes>",
      "image/png": "[encoded data removed]"
     },
     "metadata": {},
     "output_type": "display_data"
    }
   ],
   "source": [
    "print(f\"Mean chrf: {mean(df['max_chrf'])}, Mean cosine: {mean(df['max_cosine'])}\")\n",
    "n_bins = 100\n",
    "\n",
    "fig, axs = plt.subplots(1, 2, sharey=True, tight_layout=True)\n",
    "\n",
    "# We can set the number of bins with the *bins* keyword argument.\n",
    "axs[0].hist(df['max_chrf'], bins=n_bins)\n",
    "axs[0].title.set_text('CHRF')\n",
    "axs[1].hist(df['max_cosine'], bins=n_bins)\n",
    "axs[1].title.set_text('Cosine')\n",
    "\n",
    "plt.show()"
   ],
   "metadata": {
    "collapsed": false,
    "ExecuteTime": {
     "end_time": "2024-06-21T15:12:15.564873100Z",
     "start_time": "2024-06-21T15:12:15.290581700Z"
    }
   },
   "id": "761177dcb439db34"
  },
  {
   "cell_type": "code",
   "execution_count": 11,
   "outputs": [],
   "source": [
    "df_best3 = df[(df['max_chrf'] > 60) & (df['max_cosine'] > 0.80)]"
   ],
   "metadata": {
    "collapsed": false,
    "ExecuteTime": {
     "end_time": "2024-06-21T15:12:15.601665900Z",
     "start_time": "2024-06-21T15:12:15.564873100Z"
    }
   },
   "id": "19d7378af618a5e8"
  },
  {
   "cell_type": "code",
   "execution_count": 12,
   "outputs": [
    {
     "data": {
      "text/plain": "                                                  input  \\\n0     at points time. at particular times. and she w...   \n1                              it bad. it good. it bad.   \n2     you tiny are you. take picture. take pictures ...   \n3        this what she like. that proper evils. and it.   \n8               yeah those right. move it. where it on.   \n...                                                 ...   \n2758     lumpia thing. actual secret huh. lumpias yeah.   \n2761  cos it. bit cheaper. whereas they go holidays ...   \n2763  those health snacks. oh they. you want sides p...   \n2764                we the hump. it is whole. tear joy.   \n2766     game do you want play. you even ah. i get our.   \n\n                                                   true  \\\n0     at this point in time. not at this particular ...   \n1                     it is bad. is it good. it is bad.   \n2     you are tiny are not you. take a picture. take...   \n3     that is what she was like. that is the proper ...   \n8     yeah that is right. to move it. where usually ...   \n...                                                 ...   \n2758  the lumpia thing. an actual secret huh. the lu...   \n2761  cos it is. a bit cheaper. whereas they do not ...   \n2763  this is a health snack. oh they are large. do ...   \n2764   we are on the hump. it is a whole. tears of joy.   \n2766  what games do you want to play. are you even a...   \n\n                                          max_chrf_pred  \\\n0     at some point in time. at a particular time. a...   \n1     it is bad. it is good. it is bad. it is good. ...   \n2     you are tiny are not you. take a picture. take...   \n3     that is what she is like. that is the proper e...   \n8     yeah that is right. just move it. where is it on.   \n...                                                 ...   \n2758  lumpia a thing. the actual secret huh. the lum...   \n2761  cos it is. a bit cheaper. whereas they are goi...   \n2763  that is healthy snack. oh they are. do you wan...   \n2764  we are the hump. it is a whole. tear the joy. ...   \n2766  game do you want to play. you are even ah. i h...   \n\n                                        max_cosine_pred   max_chrf  max_cosine  \n0     at some point in time. at a particular time. a...  71.741612    0.942184  \n1     it is bad. it is good. it is bad. it is bad. i...  68.040653    0.910498  \n2     you are tiny are you. take a picture. take a p...  75.591928    0.966450  \n3     that is what she is like. that is the proper e...  76.914115    0.875168  \n8     yeah that is right. just move it. where is it on.  63.198405    0.904057  \n...                                                 ...        ...         ...  \n2758  lumpia a thing. the actual secret huh. the lum...  72.904567    0.957580  \n2761  cos it is. a bit cheaper. whereas they are goi...  65.915044    0.980679  \n2763  that is healthy snack. oh they are. do you wan...  73.015776    0.871076  \n2764  we are the whole hump. it is a tear of joy. it...  68.706133    0.920746  \n2766  game do you want to play. you are even ah. i h...  63.739750    0.832703  \n\n[1157 rows x 6 columns]",
      "text/html": "<div>\n<style scoped>\n    .dataframe tbody tr th:only-of-type {\n        vertical-align: middle;\n    }\n\n    .dataframe tbody tr th {\n        vertical-align: top;\n    }\n\n    .dataframe thead th {\n        text-align: right;\n    }\n</style>\n<table border=\"1\" class=\"dataframe\">\n  <thead>\n    <tr style=\"text-align: right;\">\n      <th></th>\n      <th>input</th>\n      <th>true</th>\n      <th>max_chrf_pred</th>\n      <th>max_cosine_pred</th>\n      <th>max_chrf</th>\n      <th>max_cosine</th>\n    </tr>\n  </thead>\n  <tbody>\n    <tr>\n      <th>0</th>\n      <td>at points time. at particular times. and she w...</td>\n      <td>at this point in time. not at this particular ...</td>\n      <td>at some point in time. at a particular time. a...</td>\n      <td>at some point in time. at a particular time. a...</td>\n      <td>71.741612</td>\n      <td>0.942184</td>\n    </tr>\n    <tr>\n      <th>1</th>\n      <td>it bad. it good. it bad.</td>\n      <td>it is bad. is it good. it is bad.</td>\n      <td>it is bad. it is good. it is bad. it is good. ...</td>\n      <td>it is bad. it is good. it is bad. it is bad. i...</td>\n      <td>68.040653</td>\n      <td>0.910498</td>\n    </tr>\n    <tr>\n      <th>2</th>\n      <td>you tiny are you. take picture. take pictures ...</td>\n      <td>you are tiny are not you. take a picture. take...</td>\n      <td>you are tiny are not you. take a picture. take...</td>\n      <td>you are tiny are you. take a picture. take a p...</td>\n      <td>75.591928</td>\n      <td>0.966450</td>\n    </tr>\n    <tr>\n      <th>3</th>\n      <td>this what she like. that proper evils. and it.</td>\n      <td>that is what she was like. that is the proper ...</td>\n      <td>that is what she is like. that is the proper e...</td>\n      <td>that is what she is like. that is the proper e...</td>\n      <td>76.914115</td>\n      <td>0.875168</td>\n    </tr>\n    <tr>\n      <th>8</th>\n      <td>yeah those right. move it. where it on.</td>\n      <td>yeah that is right. to move it. where usually ...</td>\n      <td>yeah that is right. just move it. where is it on.</td>\n      <td>yeah that is right. just move it. where is it on.</td>\n      <td>63.198405</td>\n      <td>0.904057</td>\n    </tr>\n    <tr>\n      <th>...</th>\n      <td>...</td>\n      <td>...</td>\n      <td>...</td>\n      <td>...</td>\n      <td>...</td>\n      <td>...</td>\n    </tr>\n    <tr>\n      <th>2758</th>\n      <td>lumpia thing. actual secret huh. lumpias yeah.</td>\n      <td>the lumpia thing. an actual secret huh. the lu...</td>\n      <td>lumpia a thing. the actual secret huh. the lum...</td>\n      <td>lumpia a thing. the actual secret huh. the lum...</td>\n      <td>72.904567</td>\n      <td>0.957580</td>\n    </tr>\n    <tr>\n      <th>2761</th>\n      <td>cos it. bit cheaper. whereas they go holidays ...</td>\n      <td>cos it is. a bit cheaper. whereas they do not ...</td>\n      <td>cos it is. a bit cheaper. whereas they are goi...</td>\n      <td>cos it is. a bit cheaper. whereas they are goi...</td>\n      <td>65.915044</td>\n      <td>0.980679</td>\n    </tr>\n    <tr>\n      <th>2763</th>\n      <td>those health snacks. oh they. you want sides p...</td>\n      <td>this is a health snack. oh they are large. do ...</td>\n      <td>that is healthy snack. oh they are. do you wan...</td>\n      <td>that is healthy snack. oh they are. do you wan...</td>\n      <td>73.015776</td>\n      <td>0.871076</td>\n    </tr>\n    <tr>\n      <th>2764</th>\n      <td>we the hump. it is whole. tear joy.</td>\n      <td>we are on the hump. it is a whole. tears of joy.</td>\n      <td>we are the hump. it is a whole. tear the joy. ...</td>\n      <td>we are the whole hump. it is a tear of joy. it...</td>\n      <td>68.706133</td>\n      <td>0.920746</td>\n    </tr>\n    <tr>\n      <th>2766</th>\n      <td>game do you want play. you even ah. i get our.</td>\n      <td>what games do you want to play. are you even a...</td>\n      <td>game do you want to play. you are even ah. i h...</td>\n      <td>game do you want to play. you are even ah. i h...</td>\n      <td>63.739750</td>\n      <td>0.832703</td>\n    </tr>\n  </tbody>\n</table>\n<p>1157 rows × 6 columns</p>\n</div>"
     },
     "execution_count": 12,
     "metadata": {},
     "output_type": "execute_result"
    }
   ],
   "source": [
    "df_best3"
   ],
   "metadata": {
    "collapsed": false,
    "ExecuteTime": {
     "end_time": "2024-06-21T15:12:15.601665900Z",
     "start_time": "2024-06-21T15:12:15.589662800Z"
    }
   },
   "id": "4a3e900e25eaa4f9"
  },
  {
   "cell_type": "code",
   "execution_count": 13,
   "outputs": [],
   "source": [
    "df_best33 = df[(df['max_chrf'] == 100) & (df['max_cosine'] == 1)]"
   ],
   "metadata": {
    "collapsed": false,
    "ExecuteTime": {
     "end_time": "2024-06-21T15:12:15.620751200Z",
     "start_time": "2024-06-21T15:12:15.601665900Z"
    }
   },
   "id": "7a211e04c3961222"
  },
  {
   "cell_type": "code",
   "execution_count": 14,
   "outputs": [
    {
     "data": {
      "text/plain": "                                                  input  \\\n68          these cute song. you welcome. patronise me.   \n854   what a woods. and what is woods london. well w...   \n2007  and it the. er it lots money yeah. yeah few mi...   \n2135          where are pea. here peas. thank you very.   \n2492                   what that. try other. what that.   \n2662                      or in ways. like see. yeah i.   \n\n                                                   true  \\\n68    that is a cute song. you are welcome. do not p...   \n854   what is a wood. and what is a wood in london. ...   \n2007  and it is the. er it is a lot of money yeah. y...   \n2135  where are the peas. here are the peas. thank y...   \n2492         what is that. try the other. what is that.   \n2662               or in a way. like to see. yeah i am.   \n\n                                          max_chrf_pred  \\\n68    that is a cute song. you are welcome. do not p...   \n854   what is a wood. and what is a wood in london. ...   \n2007  and it is the. er it is a lot of money yeah. y...   \n2135  where are the peas. here are the peas. thank y...   \n2492         what is that. try the other. what is that.   \n2662               or in a way. like to see. yeah i am.   \n\n                                        max_cosine_pred  max_chrf  max_cosine  \n68    that is a cute song. you are welcome. do not p...     100.0         1.0  \n854   what is a wood. and what is a wood in london. ...     100.0         1.0  \n2007  and it is the. er it is a lot of money yeah. y...     100.0         1.0  \n2135  where are the peas. here are the peas. thank y...     100.0         1.0  \n2492         what is that. try the other. what is that.     100.0         1.0  \n2662               or in a way. like to see. yeah i am.     100.0         1.0  ",
      "text/html": "<div>\n<style scoped>\n    .dataframe tbody tr th:only-of-type {\n        vertical-align: middle;\n    }\n\n    .dataframe tbody tr th {\n        vertical-align: top;\n    }\n\n    .dataframe thead th {\n        text-align: right;\n    }\n</style>\n<table border=\"1\" class=\"dataframe\">\n  <thead>\n    <tr style=\"text-align: right;\">\n      <th></th>\n      <th>input</th>\n      <th>true</th>\n      <th>max_chrf_pred</th>\n      <th>max_cosine_pred</th>\n      <th>max_chrf</th>\n      <th>max_cosine</th>\n    </tr>\n  </thead>\n  <tbody>\n    <tr>\n      <th>68</th>\n      <td>these cute song. you welcome. patronise me.</td>\n      <td>that is a cute song. you are welcome. do not p...</td>\n      <td>that is a cute song. you are welcome. do not p...</td>\n      <td>that is a cute song. you are welcome. do not p...</td>\n      <td>100.0</td>\n      <td>1.0</td>\n    </tr>\n    <tr>\n      <th>854</th>\n      <td>what a woods. and what is woods london. well w...</td>\n      <td>what is a wood. and what is a wood in london. ...</td>\n      <td>what is a wood. and what is a wood in london. ...</td>\n      <td>what is a wood. and what is a wood in london. ...</td>\n      <td>100.0</td>\n      <td>1.0</td>\n    </tr>\n    <tr>\n      <th>2007</th>\n      <td>and it the. er it lots money yeah. yeah few mi...</td>\n      <td>and it is the. er it is a lot of money yeah. y...</td>\n      <td>and it is the. er it is a lot of money yeah. y...</td>\n      <td>and it is the. er it is a lot of money yeah. y...</td>\n      <td>100.0</td>\n      <td>1.0</td>\n    </tr>\n    <tr>\n      <th>2135</th>\n      <td>where are pea. here peas. thank you very.</td>\n      <td>where are the peas. here are the peas. thank y...</td>\n      <td>where are the peas. here are the peas. thank y...</td>\n      <td>where are the peas. here are the peas. thank y...</td>\n      <td>100.0</td>\n      <td>1.0</td>\n    </tr>\n    <tr>\n      <th>2492</th>\n      <td>what that. try other. what that.</td>\n      <td>what is that. try the other. what is that.</td>\n      <td>what is that. try the other. what is that.</td>\n      <td>what is that. try the other. what is that.</td>\n      <td>100.0</td>\n      <td>1.0</td>\n    </tr>\n    <tr>\n      <th>2662</th>\n      <td>or in ways. like see. yeah i.</td>\n      <td>or in a way. like to see. yeah i am.</td>\n      <td>or in a way. like to see. yeah i am.</td>\n      <td>or in a way. like to see. yeah i am.</td>\n      <td>100.0</td>\n      <td>1.0</td>\n    </tr>\n  </tbody>\n</table>\n</div>"
     },
     "execution_count": 14,
     "metadata": {},
     "output_type": "execute_result"
    }
   ],
   "source": [
    "df_best33"
   ],
   "metadata": {
    "collapsed": false,
    "ExecuteTime": {
     "end_time": "2024-06-21T15:12:15.641432100Z",
     "start_time": "2024-06-21T15:12:15.613969400Z"
    }
   },
   "id": "68c1f3b3beec0169"
  },
  {
   "cell_type": "markdown",
   "source": [
    "# Histogram for 1 sentence test output"
   ],
   "metadata": {
    "collapsed": false
   },
   "id": "c55a5c7bd470212f"
  },
  {
   "cell_type": "code",
   "execution_count": 15,
   "outputs": [],
   "source": [
    "files1 = os.listdir(\"1/results1\")\n",
    "files1 = [x for x in files1 if '.csv' in x]\n",
    "df1 = pd.concat((pd.read_csv(\"1/results1/\"+f) for f in files1), ignore_index=True)"
   ],
   "metadata": {
    "collapsed": false,
    "ExecuteTime": {
     "end_time": "2024-06-21T15:12:15.770462700Z",
     "start_time": "2024-06-21T15:12:15.632681400Z"
    }
   },
   "id": "c82a4d06bfa7c24c"
  },
  {
   "cell_type": "code",
   "execution_count": 16,
   "outputs": [
    {
     "name": "stdout",
     "output_type": "stream",
     "text": [
      "Mean chrf: 58.52027374542849, Mean cosine: 0.7906432277158469\n"
     ]
    },
    {
     "data": {
      "text/plain": "<Figure size 640x480 with 2 Axes>",
      "image/png": "[encoded data removed]"
     },
     "metadata": {},
     "output_type": "display_data"
    }
   ],
   "source": [
    "print(f\"Mean chrf: {mean(df1['max_chrf'])}, Mean cosine: {mean(df1['max_cosine'])}\")\n",
    "n_bins = 100\n",
    "\n",
    "fig, axs = plt.subplots(1, 2, sharey=True, tight_layout=True)\n",
    "\n",
    "# We can set the number of bins with the *bins* keyword argument.\n",
    "axs[0].hist(df1['max_chrf'], bins=n_bins)\n",
    "axs[0].title.set_text('CHRF')\n",
    "axs[1].hist(df1['max_cosine'], bins=n_bins)\n",
    "axs[1].title.set_text('Cosine')\n",
    "\n",
    "plt.show()"
   ],
   "metadata": {
    "collapsed": false,
    "ExecuteTime": {
     "end_time": "2024-06-21T15:12:16.040982300Z",
     "start_time": "2024-06-21T15:12:15.761455300Z"
    }
   },
   "id": "a079d385eef9bf61"
  },
  {
   "cell_type": "code",
   "execution_count": 17,
   "outputs": [],
   "source": [
    "df_best1 = df1[(df1['max_chrf'] > 60) & (df1['max_cosine'] > 0.80)]"
   ],
   "metadata": {
    "collapsed": false,
    "ExecuteTime": {
     "end_time": "2024-06-21T15:12:16.087468500Z",
     "start_time": "2024-06-21T15:12:16.040982300Z"
    }
   },
   "id": "39d22c3fac2a1bbf"
  },
  {
   "cell_type": "code",
   "execution_count": 18,
   "outputs": [
    {
     "data": {
      "text/plain": "                                                  input  \\\n2                               and then we talked bit.   \n3                     well you give them wipe not they.   \n4            maybe give them wipe with one those cloth.   \n7     illegal immigrant and illegal immigrant mean h...   \n9     those problems yeah we are trying explain person.   \n...                                                 ...   \n3466                               yeah that down side.   \n3467                         she the characters stages.   \n3469                        yeah i going pop to toilet.   \n3473                                   does it go song.   \n3475              and actually one right leg is not it.   \n\n                                                   true  \\\n2                         and then we talked for a bit.   \n3         well you just give them a wipe will not they.   \n4     maybe just give them a wipe with a one of thos...   \n7     illegal immigrants and illegal immigrants are ...   \n9     that is the problem yeah we are trying to expl...   \n...                                                 ...   \n3466                        yeah that is the down side.   \n3467                     she is the character on stage.   \n3469       yeah i am going to pop to the toilet though.   \n3473                          does it go with the song.   \n3475  and actually that one is actually the right le...   \n\n                                          max_chrf_pred  \\\n2                         and then we talked for a bit.   \n3           well you need to give them a wipe not they.   \n4     maybe just give them a wipe with one of those ...   \n7     illegal immigrant and illegal immigrant mean t...   \n9     that problem yeah we are trying to explain to ...   \n...                                                 ...   \n3466                         yeah that has a down side.   \n3467           she watches the characters on the stage.   \n3469              yeah i am going to pop to the toilet.   \n3473                            does it go to the song.   \n3475              and actually the right leg is not it.   \n\n                                        max_cosine_pred    max_chrf  \\\n2                         and then we talked for a bit.  100.000000   \n3           well you need to give them a wipe not they.   61.765092   \n4     maybe just give them a wipe with one of those ...   87.778891   \n7     illegal immigrant and illegal immigrants mean ...   71.925410   \n9     that problem yeah we are trying to explain to ...   74.841816   \n...                                                 ...         ...   \n3466                         yeah that has a down side.   63.412662   \n3467           she watches the characters on the stage.   62.628660   \n3469              yeah i am going to pop to the toilet.   81.908952   \n3473                            does it go to the song.   63.802132   \n3475              and actually the right leg is not it.   66.857065   \n\n      max_cosine  \n2       1.000000  \n3       0.943883  \n4       0.996164  \n7       0.815662  \n9       0.873682  \n...          ...  \n3466    0.856460  \n3467    0.861444  \n3469    0.947686  \n3473    0.852825  \n3475    0.928312  \n\n[1299 rows x 6 columns]",
      "text/html": "<div>\n<style scoped>\n    .dataframe tbody tr th:only-of-type {\n        vertical-align: middle;\n    }\n\n    .dataframe tbody tr th {\n        vertical-align: top;\n    }\n\n    .dataframe thead th {\n        text-align: right;\n    }\n</style>\n<table border=\"1\" class=\"dataframe\">\n  <thead>\n    <tr style=\"text-align: right;\">\n      <th></th>\n      <th>input</th>\n      <th>true</th>\n      <th>max_chrf_pred</th>\n      <th>max_cosine_pred</th>\n      <th>max_chrf</th>\n      <th>max_cosine</th>\n    </tr>\n  </thead>\n  <tbody>\n    <tr>\n      <th>2</th>\n      <td>and then we talked bit.</td>\n      <td>and then we talked for a bit.</td>\n      <td>and then we talked for a bit.</td>\n      <td>and then we talked for a bit.</td>\n      <td>100.000000</td>\n      <td>1.000000</td>\n    </tr>\n    <tr>\n      <th>3</th>\n      <td>well you give them wipe not they.</td>\n      <td>well you just give them a wipe will not they.</td>\n      <td>well you need to give them a wipe not they.</td>\n      <td>well you need to give them a wipe not they.</td>\n      <td>61.765092</td>\n      <td>0.943883</td>\n    </tr>\n    <tr>\n      <th>4</th>\n      <td>maybe give them wipe with one those cloth.</td>\n      <td>maybe just give them a wipe with a one of thos...</td>\n      <td>maybe just give them a wipe with one of those ...</td>\n      <td>maybe just give them a wipe with one of those ...</td>\n      <td>87.778891</td>\n      <td>0.996164</td>\n    </tr>\n    <tr>\n      <th>7</th>\n      <td>illegal immigrant and illegal immigrant mean h...</td>\n      <td>illegal immigrants and illegal immigrants are ...</td>\n      <td>illegal immigrant and illegal immigrant mean t...</td>\n      <td>illegal immigrant and illegal immigrants mean ...</td>\n      <td>71.925410</td>\n      <td>0.815662</td>\n    </tr>\n    <tr>\n      <th>9</th>\n      <td>those problems yeah we are trying explain person.</td>\n      <td>that is the problem yeah we are trying to expl...</td>\n      <td>that problem yeah we are trying to explain to ...</td>\n      <td>that problem yeah we are trying to explain to ...</td>\n      <td>74.841816</td>\n      <td>0.873682</td>\n    </tr>\n    <tr>\n      <th>...</th>\n      <td>...</td>\n      <td>...</td>\n      <td>...</td>\n      <td>...</td>\n      <td>...</td>\n      <td>...</td>\n    </tr>\n    <tr>\n      <th>3466</th>\n      <td>yeah that down side.</td>\n      <td>yeah that is the down side.</td>\n      <td>yeah that has a down side.</td>\n      <td>yeah that has a down side.</td>\n      <td>63.412662</td>\n      <td>0.856460</td>\n    </tr>\n    <tr>\n      <th>3467</th>\n      <td>she the characters stages.</td>\n      <td>she is the character on stage.</td>\n      <td>she watches the characters on the stage.</td>\n      <td>she watches the characters on the stage.</td>\n      <td>62.628660</td>\n      <td>0.861444</td>\n    </tr>\n    <tr>\n      <th>3469</th>\n      <td>yeah i going pop to toilet.</td>\n      <td>yeah i am going to pop to the toilet though.</td>\n      <td>yeah i am going to pop to the toilet.</td>\n      <td>yeah i am going to pop to the toilet.</td>\n      <td>81.908952</td>\n      <td>0.947686</td>\n    </tr>\n    <tr>\n      <th>3473</th>\n      <td>does it go song.</td>\n      <td>does it go with the song.</td>\n      <td>does it go to the song.</td>\n      <td>does it go to the song.</td>\n      <td>63.802132</td>\n      <td>0.852825</td>\n    </tr>\n    <tr>\n      <th>3475</th>\n      <td>and actually one right leg is not it.</td>\n      <td>and actually that one is actually the right le...</td>\n      <td>and actually the right leg is not it.</td>\n      <td>and actually the right leg is not it.</td>\n      <td>66.857065</td>\n      <td>0.928312</td>\n    </tr>\n  </tbody>\n</table>\n<p>1299 rows × 6 columns</p>\n</div>"
     },
     "execution_count": 18,
     "metadata": {},
     "output_type": "execute_result"
    }
   ],
   "source": [
    "df_best1"
   ],
   "metadata": {
    "collapsed": false,
    "ExecuteTime": {
     "end_time": "2024-06-21T15:12:16.087468500Z",
     "start_time": "2024-06-21T15:12:16.059812800Z"
    }
   },
   "id": "420e09d38d51adff"
  },
  {
   "cell_type": "code",
   "execution_count": 19,
   "outputs": [],
   "source": [
    "df_best11 = df1[(df1['max_chrf'] == 100) & (df1['max_cosine'] == 1)]"
   ],
   "metadata": {
    "collapsed": false,
    "ExecuteTime": {
     "end_time": "2024-06-21T15:12:16.105808200Z",
     "start_time": "2024-06-21T15:12:16.074433400Z"
    }
   },
   "id": "e4d361a2b3fcf1e7"
  },
  {
   "cell_type": "code",
   "execution_count": 20,
   "outputs": [
    {
     "data": {
      "text/plain": "                                    input  \\\n74                  you need do anything.   \n76    you know pay so much bottles wines.   \n224            it is boobage i concerned.   \n310              no this completely true.   \n328                         i do it ever.   \n...                                   ...   \n3133          i understand what you mean.   \n3167            this go on now two years.   \n3446                      he care at all.   \n3447        and chocolate see chocolates.   \n3462                   it helpful at all.   \n\n                                               true  \\\n74               so you do not need to do anything.   \n76    so you know pay so much for a bottle of wine.   \n224         it is the boobage i am concerned about.   \n310                 no that is not completely true.   \n328                            i do not do it ever.   \n...                                             ...   \n3133             i do not understand what you mean.   \n3167      this has been going on now for two years.   \n3446                        he did not care at all.   \n3447           and the chocolate see the chocolate.   \n3462                      it is not helpful at all.   \n\n                                      max_chrf_pred  \\\n74               so you do not need to do anything.   \n76    so you know pay so much for a bottle of wine.   \n224         it is the boobage i am concerned about.   \n310                 no that is not completely true.   \n328                            i do not do it ever.   \n...                                             ...   \n3133             i do not understand what you mean.   \n3167      this has been going on now for two years.   \n3446                        he did not care at all.   \n3447           and the chocolate see the chocolate.   \n3462                      it is not helpful at all.   \n\n                                    max_cosine_pred  max_chrf  max_cosine  \n74               so you do not need to do anything.     100.0         1.0  \n76    so you know pay so much for a bottle of wine.     100.0         1.0  \n224         it is the boobage i am concerned about.     100.0         1.0  \n310                 no that is not completely true.     100.0         1.0  \n328                            i do not do it ever.     100.0         1.0  \n...                                             ...       ...         ...  \n3133             i do not understand what you mean.     100.0         1.0  \n3167      this has been going on now for two years.     100.0         1.0  \n3446                        he did not care at all.     100.0         1.0  \n3447           and the chocolate see the chocolate.     100.0         1.0  \n3462                      it is not helpful at all.     100.0         1.0  \n\n[90 rows x 6 columns]",
      "text/html": "<div>\n<style scoped>\n    .dataframe tbody tr th:only-of-type {\n        vertical-align: middle;\n    }\n\n    .dataframe tbody tr th {\n        vertical-align: top;\n    }\n\n    .dataframe thead th {\n        text-align: right;\n    }\n</style>\n<table border=\"1\" class=\"dataframe\">\n  <thead>\n    <tr style=\"text-align: right;\">\n      <th></th>\n      <th>input</th>\n      <th>true</th>\n      <th>max_chrf_pred</th>\n      <th>max_cosine_pred</th>\n      <th>max_chrf</th>\n      <th>max_cosine</th>\n    </tr>\n  </thead>\n  <tbody>\n    <tr>\n      <th>74</th>\n      <td>you need do anything.</td>\n      <td>so you do not need to do anything.</td>\n      <td>so you do not need to do anything.</td>\n      <td>so you do not need to do anything.</td>\n      <td>100.0</td>\n      <td>1.0</td>\n    </tr>\n    <tr>\n      <th>76</th>\n      <td>you know pay so much bottles wines.</td>\n      <td>so you know pay so much for a bottle of wine.</td>\n      <td>so you know pay so much for a bottle of wine.</td>\n      <td>so you know pay so much for a bottle of wine.</td>\n      <td>100.0</td>\n      <td>1.0</td>\n    </tr>\n    <tr>\n      <th>224</th>\n      <td>it is boobage i concerned.</td>\n      <td>it is the boobage i am concerned about.</td>\n      <td>it is the boobage i am concerned about.</td>\n      <td>it is the boobage i am concerned about.</td>\n      <td>100.0</td>\n      <td>1.0</td>\n    </tr>\n    <tr>\n      <th>310</th>\n      <td>no this completely true.</td>\n      <td>no that is not completely true.</td>\n      <td>no that is not completely true.</td>\n      <td>no that is not completely true.</td>\n      <td>100.0</td>\n      <td>1.0</td>\n    </tr>\n    <tr>\n      <th>328</th>\n      <td>i do it ever.</td>\n      <td>i do not do it ever.</td>\n      <td>i do not do it ever.</td>\n      <td>i do not do it ever.</td>\n      <td>100.0</td>\n      <td>1.0</td>\n    </tr>\n    <tr>\n      <th>...</th>\n      <td>...</td>\n      <td>...</td>\n      <td>...</td>\n      <td>...</td>\n      <td>...</td>\n      <td>...</td>\n    </tr>\n    <tr>\n      <th>3133</th>\n      <td>i understand what you mean.</td>\n      <td>i do not understand what you mean.</td>\n      <td>i do not understand what you mean.</td>\n      <td>i do not understand what you mean.</td>\n      <td>100.0</td>\n      <td>1.0</td>\n    </tr>\n    <tr>\n      <th>3167</th>\n      <td>this go on now two years.</td>\n      <td>this has been going on now for two years.</td>\n      <td>this has been going on now for two years.</td>\n      <td>this has been going on now for two years.</td>\n      <td>100.0</td>\n      <td>1.0</td>\n    </tr>\n    <tr>\n      <th>3446</th>\n      <td>he care at all.</td>\n      <td>he did not care at all.</td>\n      <td>he did not care at all.</td>\n      <td>he did not care at all.</td>\n      <td>100.0</td>\n      <td>1.0</td>\n    </tr>\n    <tr>\n      <th>3447</th>\n      <td>and chocolate see chocolates.</td>\n      <td>and the chocolate see the chocolate.</td>\n      <td>and the chocolate see the chocolate.</td>\n      <td>and the chocolate see the chocolate.</td>\n      <td>100.0</td>\n      <td>1.0</td>\n    </tr>\n    <tr>\n      <th>3462</th>\n      <td>it helpful at all.</td>\n      <td>it is not helpful at all.</td>\n      <td>it is not helpful at all.</td>\n      <td>it is not helpful at all.</td>\n      <td>100.0</td>\n      <td>1.0</td>\n    </tr>\n  </tbody>\n</table>\n<p>90 rows × 6 columns</p>\n</div>"
     },
     "execution_count": 20,
     "metadata": {},
     "output_type": "execute_result"
    }
   ],
   "source": [
    "df_best11"
   ],
   "metadata": {
    "collapsed": false,
    "ExecuteTime": {
     "end_time": "2024-06-21T15:12:16.106364800Z",
     "start_time": "2024-06-21T15:12:16.093988200Z"
    }
   },
   "id": "fda0a51df69e4675"
  }
 ],
 "metadata": {
  "kernelspec": {
   "display_name": "Python 3",
   "language": "python",
   "name": "python3"
  },
  "language_info": {
   "codemirror_mode": {
    "name": "ipython",
    "version": 2
   },
   "file_extension": ".py",
   "mimetype": "text/x-python",
   "name": "python",
   "nbconvert_exporter": "python",
   "pygments_lexer": "ipython2",
   "version": "2.7.6"
  }
 },
 "nbformat": 4,
 "nbformat_minor": 5
}
